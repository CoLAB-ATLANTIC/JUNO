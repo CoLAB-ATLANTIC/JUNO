{
 "cells": [
  {
   "cell_type": "markdown",
   "id": "29a4463b",
   "metadata": {},
   "source": [
    "#### Notebook which allows to download single day MUR data (netcdf) to a folder, then import that data, convert it to an xarray and then apply the 3 algorithms (Canny, BOA and CCA) and then save the results in a NetCDF file"
   ]
  },
  {
   "cell_type": "code",
   "execution_count": null,
   "id": "9ea17fec",
   "metadata": {},
   "outputs": [],
   "source": []
  },
  {
   "cell_type": "code",
   "execution_count": 1,
   "id": "9afde4c2",
   "metadata": {},
   "outputs": [
    {
     "name": "stderr",
     "output_type": "stream",
     "text": [
      "/home/luisfigueiredo/.local/lib/python3.8/site-packages/requests/__init__.py:89: RequestsDependencyWarning: urllib3 (1.26.9) or chardet (4.0.0) doesn't match a supported version!\n",
      "  warnings.warn(\"urllib3 ({}) or chardet ({}) doesn't match a supported \"\n"
     ]
    }
   ],
   "source": [
    "#Import libraries\n",
    "\n",
    "import os\n",
    "import numpy as np\n",
    "import netCDF4 as nc\n",
    "import matplotlib.pyplot as plt\n",
    "import xarray as xr\n",
    "import matplotlib\n",
    "from pathlib import Path\n",
    "%matplotlib inline\n",
    "from PIL import Image\n",
    "from math import floor, ceil\n",
    "import cv2\n",
    "from PIL import Image\n",
    "import pandas as pd\n",
    "import wget\n",
    "import datetime\n",
    "from datetime import date, timedelta\n",
    "from pydap.client import open_url\n",
    "import netCDF4 as nc\n",
    "from scipy.ndimage import gaussian_filter\n",
    "\n",
    "plt.rcParams[\"figure.figsize\"] = 12, 8"
   ]
  },
  {
   "cell_type": "code",
   "execution_count": 2,
   "id": "9dd474e8",
   "metadata": {},
   "outputs": [],
   "source": [
    "from ipynb.fs.full.CCA_functions_xarray import getFrontInWindow\n",
    "from ipynb.fs.full.CCA_functions_xarray import CCA_SIED"
   ]
  },
  {
   "cell_type": "code",
   "execution_count": 3,
   "id": "bb1dda83",
   "metadata": {},
   "outputs": [],
   "source": [
    "from ipynb.fs.full.BOA_functions import boa"
   ]
  },
  {
   "cell_type": "code",
   "execution_count": 4,
   "id": "078265c8",
   "metadata": {},
   "outputs": [],
   "source": [
    "from global_land_mask import globe"
   ]
  },
  {
   "cell_type": "code",
   "execution_count": null,
   "id": "3d10c147",
   "metadata": {},
   "outputs": [],
   "source": []
  },
  {
   "cell_type": "markdown",
   "id": "71d3e977",
   "metadata": {},
   "source": [
    "## Functions to Download MUR Data"
   ]
  },
  {
   "cell_type": "code",
   "execution_count": null,
   "id": "c1e5f808",
   "metadata": {},
   "outputs": [],
   "source": []
  },
  {
   "cell_type": "code",
   "execution_count": 5,
   "id": "03c63cc2",
   "metadata": {},
   "outputs": [],
   "source": [
    "def boundingindex(dmin, dint, boundary0, boundary1):\n",
    "    \"\"\"\n",
    "    get boundaries values to download the data already cropped\n",
    "    \"\"\"\n",
    "    inx0 = max(int(floor((boundary0 - dmin) / dint)), 0)\n",
    "    inx1 = max(int(floor((boundary1 - dmin) / dint)), 0)\n",
    "    if inx0 > inx1:\n",
    "        atemp = inx0\n",
    "        inx0 = inx1\n",
    "        inx1 = atemp\n",
    "    return [inx0, inx1]"
   ]
  },
  {
   "cell_type": "code",
   "execution_count": null,
   "id": "e02a1989",
   "metadata": {},
   "outputs": [],
   "source": []
  },
  {
   "cell_type": "code",
   "execution_count": 6,
   "id": "6a36365b",
   "metadata": {},
   "outputs": [],
   "source": [
    "def get_mur_params(lon_box, lat_box):\n",
    "    \"\"\"\n",
    "    Check sample file to get parameters for sst\n",
    "    \"\"\"\n",
    "    mur_ncin = open_url(\n",
    "        'https://podaac-opendap.jpl.nasa.gov/opendap/allData/ghrsst/data/GDS2/L4/GLOB/JPL/MUR/v4.1/2018/002/20180102090000-JPL-L4_GHRSST-SSTfnd-MUR-GLOB-v02.0-fv04.1.nc')\n",
    "    lon = mur_ncin['lon']\n",
    "    lat = mur_ncin['lat']\n",
    "    lon_step = np.mean(np.diff(lon))\n",
    "    lat_step = np.mean(np.diff(lat))\n",
    "    [mur_i0, mur_i1] = boundingindex(lon[0][0].data, lon_step, lon_box[0], lon_box[1])\n",
    "    [mur_j0, mur_j1] = boundingindex(lat[0][0].data, lat_step, lat_box[0], lat_box[1])\n",
    "\n",
    "    return mur_i0, mur_i1, mur_j0, mur_j1"
   ]
  },
  {
   "cell_type": "code",
   "execution_count": null,
   "id": "9a952730",
   "metadata": {},
   "outputs": [],
   "source": []
  },
  {
   "cell_type": "code",
   "execution_count": 7,
   "id": "ed4b0db3",
   "metadata": {},
   "outputs": [],
   "source": [
    "def download_from_url(fileget, filenameout, replace, printiti):\n",
    "    \"\"\"\n",
    "    function that tries to download data from \"fileget\" if the data didn't previously exist,\n",
    "    the user asked to replace the old data, or the file has 0 bytes\n",
    "    \"\"\"\n",
    "    exists = os.path.exists(filenameout)\n",
    "    if exists:\n",
    "        file_size = os.path.getsize(filenameout)\n",
    "    else:\n",
    "        file_size = 1\n",
    "    if (not exists) or (replace and exists) or (file_size == 0):\n",
    "        if exists:\n",
    "            os.remove(filenameout)\n",
    "        try:\n",
    "            return wget.download(fileget, out=filenameout, bar=None)\n",
    "        except Exception as e:\n",
    "            if printiti:\n",
    "                print(e)\n",
    "                print(\"Error downloading\")\n",
    "                print(\"Download error url: \" + fileget)\n",
    "            return e\n",
    "    return filenameout"
   ]
  },
  {
   "cell_type": "code",
   "execution_count": null,
   "id": "b110f697",
   "metadata": {},
   "outputs": [],
   "source": []
  },
  {
   "cell_type": "code",
   "execution_count": 8,
   "id": "72750052",
   "metadata": {},
   "outputs": [],
   "source": [
    "def download_sst(path, date, mur_j0, mur_j1, mur_i0, mur_i1, replace):\n",
    "    opendap_dir = 'https://podaac-opendap.jpl.nasa.gov/opendap/allData/ghrsst/data/GDS2/L4/GLOB/JPL/MUR/v4.1/' + str(\n",
    "        date.year) + '/'\n",
    "    filename = opendap_dir + \"{0:0>3}\".format(str(date.dayofyear)) + '/' + date.strftime(\n",
    "        \"%Y%m%d\") + '090000-JPL-L4_GHRSST-SSTfnd-MUR-GLOB-v02.0-fv04.1.nc.nc4'\n",
    "    filenameout = path + \"sst_\" + date.strftime(\"%Y%m%d\") + '.nc'\n",
    "    fileget = filename + '?analysed_sst[0:1:0][' + str(mur_j0) + ':1:' + str(mur_j1) + '][' + str(mur_i0) + ':1:' + str(\n",
    "        mur_i1) + ']'\n",
    "    download_from_url(fileget, filenameout, replace, 1)\n",
    "    return"
   ]
  },
  {
   "cell_type": "code",
   "execution_count": null,
   "id": "f15e12be",
   "metadata": {},
   "outputs": [],
   "source": []
  },
  {
   "cell_type": "code",
   "execution_count": 9,
   "id": "ec55f960",
   "metadata": {},
   "outputs": [],
   "source": [
    "def download_sst_thread(data_range, sst_path, mur_j0, mur_j1, mur_i0, mur_i1, replace):\n",
    "    \"\"\"\n",
    "    In case one wants to download several days of data simultaneously\n",
    "    \"\"\"\n",
    "    \n",
    "    for date in tqdm(data_range, desc='SST', file=sys.stdout):\n",
    "        download_sst(sst_path, date, mur_j0, mur_j1, mur_i0, mur_i1, replace)\n",
    "    return"
   ]
  },
  {
   "cell_type": "code",
   "execution_count": null,
   "id": "f5ee962a",
   "metadata": {},
   "outputs": [],
   "source": []
  },
  {
   "cell_type": "code",
   "execution_count": null,
   "id": "85bada17",
   "metadata": {},
   "outputs": [],
   "source": []
  },
  {
   "cell_type": "code",
   "execution_count": 10,
   "id": "f6f8d8fa",
   "metadata": {},
   "outputs": [],
   "source": [
    "def download_daily_mur(day_txt):\n",
    "    \n",
    "    \"\"\"\n",
    "    Function to download MUR data to a folder called MUR_daily_data in the data folder.\n",
    "    day_txt (string) its the day of MUR data we want to download. It's in the format ('%Y%m%d')\n",
    "    The values mur_jo, mur_j1, mur_i0, mur_i1 are regarding the coordinate values we want. One can discover them \n",
    "    thanks to the get_mur_params function\n",
    "    \"\"\"\n",
    "    \n",
    "    base_path = os.getcwd()\n",
    "    base_path = os.path.join(base_path, '../data')\n",
    "    \n",
    "    \n",
    "    exist_path = os.path.exists(os.path.join(base_path, 'MUR_daily_data'))   #check if folder MUR_daily_data exists in data folder\n",
    "    if not exist_path:                                                            #if it don't exist:\n",
    "        os.makedirs(os.path.join(base_path, 'MUR_daily_data'))  \n",
    "        \n",
    "        \n",
    "    download_sst(path = os.path.join(base_path, 'MUR_daily_data/'), date = pd.to_datetime(day_txt), mur_j0=12499, mur_j1=13499, mur_i0=16099, mur_i1=17499, replace=None)"
   ]
  },
  {
   "cell_type": "code",
   "execution_count": null,
   "id": "6c85f183",
   "metadata": {},
   "outputs": [],
   "source": []
  },
  {
   "cell_type": "code",
   "execution_count": 10,
   "id": "df85da81",
   "metadata": {},
   "outputs": [],
   "source": [
    "download_daily_mur('20221024')"
   ]
  },
  {
   "cell_type": "code",
   "execution_count": null,
   "id": "e49b6519",
   "metadata": {},
   "outputs": [],
   "source": []
  },
  {
   "cell_type": "code",
   "execution_count": null,
   "id": "0a0ed40a",
   "metadata": {},
   "outputs": [],
   "source": []
  },
  {
   "cell_type": "markdown",
   "id": "651b4061",
   "metadata": {},
   "source": [
    "## Function to get data from folder"
   ]
  },
  {
   "cell_type": "code",
   "execution_count": 11,
   "id": "0a05c412",
   "metadata": {},
   "outputs": [],
   "source": [
    "def get_data(filename):\n",
    "    \n",
    "    \"\"\"\n",
    "    Function to get our netCDF file that is stored in the data directory inside the MUR_seasonal_data folder\n",
    "    and convert it to an xarray.\n",
    "    The data parameter is the string name of the netCDF file we want to import\n",
    "    \"\"\"\n",
    "    \n",
    "    base_path = os.getcwd()\n",
    "    base_path = os.path.join(base_path, '../data/MUR_daily_data')\n",
    "    \n",
    "    nc_path = os.path.join(base_path, filename)\n",
    "    data_xarray = xr.load_dataset(nc_path)\n",
    "    \n",
    "    #Convert temperature from Kelvin to Celsius\n",
    "    data_xarray['analysed_sst'] = data_xarray['analysed_sst'] - 273.15\n",
    "    \n",
    "    return data_xarray\n"
   ]
  },
  {
   "cell_type": "code",
   "execution_count": null,
   "id": "d534ce73",
   "metadata": {},
   "outputs": [],
   "source": []
  },
  {
   "cell_type": "code",
   "execution_count": 12,
   "id": "b9792d99",
   "metadata": {},
   "outputs": [],
   "source": [
    "# Import data and convert it to an xarray\n",
    "xarray_mur = get_data('sst_20221024.nc')"
   ]
  },
  {
   "cell_type": "code",
   "execution_count": null,
   "id": "de43006e",
   "metadata": {},
   "outputs": [],
   "source": []
  },
  {
   "cell_type": "code",
   "execution_count": null,
   "id": "a4fce099",
   "metadata": {},
   "outputs": [],
   "source": []
  },
  {
   "cell_type": "markdown",
   "id": "33a408ee",
   "metadata": {},
   "source": [
    "## -------------------------------------------- Canny Algorithm ------------------------------------------------"
   ]
  },
  {
   "cell_type": "code",
   "execution_count": 13,
   "id": "6fd20d62",
   "metadata": {},
   "outputs": [],
   "source": [
    "\n",
    "def canny_front_detection_1day(data_xarray, thresh_min=120, thresh_max=220, apertureSize=5, sigma=5):\n",
    "    \n",
    "    \"\"\"\n",
    "    This function receives a dataframe with MUR data for a individual day and returns the array \n",
    "    that result from the aplication of the Canny Algorithm from OpenCV. \n",
    "    For visualization purposes, one can change the minimum and maximum threshold.\n",
    "    One can also apply a gaussian filter with a certain sigma value to reduce noise of the image.\n",
    "    \"\"\"\n",
    "    \n",
    "    #Get the sst array in the right shape\n",
    "    sst = data_xarray['analysed_sst'][0,:,:].values\n",
    "    #Convert Temperature values to uint8 format with values in the range of 0-255\n",
    "    sst_final = ((sst - np.nanmin(sst)) * (1/(np.nanmax(sst) - np.nanmin(sst)) * 255)).astype('uint8')\n",
    "    sst_final = np.flipud(sst_final)   #flipud -> Reverse the order of elements along axis 0 (up/down).\n",
    "    #in case we want to apply a gaussian filter with a certain sigma value (by default is 0)\n",
    "    sst_final = gaussian_filter(sst_final, sigma=sigma)   \n",
    "    \n",
    "    #apply the canny algorithm and plot the image with the edges\n",
    "    canny = cv2.Canny(sst_final, thresh_min, thresh_max, apertureSize=apertureSize, L2gradient=False)\n",
    "    \n",
    "    canny[canny == 255] = 1\n",
    "    \n",
    "    #convert 0s to Nans\n",
    "    canny = canny.astype('float')\n",
    "    canny[canny == 0] = 'nan'\n",
    "    \n",
    "    canny_front = np.flipud(canny)   \n",
    "    \n",
    "    #Use global-land-mask module to remove fronts that are located in a continental zone\n",
    "    #This fronts were identified because MUR SST map algo detects water in rivers and lakes in the continent\n",
    "    \n",
    "    # Lat/lon points to get\n",
    "    lat = np.linspace(35,45,1001)\n",
    "    lon = np.linspace(-19,-5,1401)\n",
    "    # Make a grid\n",
    "    lon_grid, lat_grid = np.meshgrid(lon,lat)\n",
    "    # Get whether the points are on land.\n",
    "    z = globe.is_land(lat_grid, lon_grid)\n",
    "    canny_front[z == True] = np.nan\n",
    "    \n",
    "    \n",
    "    return canny_front"
   ]
  },
  {
   "cell_type": "code",
   "execution_count": 14,
   "id": "4e428b7a",
   "metadata": {},
   "outputs": [],
   "source": [
    "canny_f = canny_front_detection_1day(xarray_mur)"
   ]
  },
  {
   "cell_type": "code",
   "execution_count": 15,
   "id": "5479c99f",
   "metadata": {},
   "outputs": [
    {
     "data": {
      "text/plain": [
       "array([ 1., nan])"
      ]
     },
     "execution_count": 15,
     "metadata": {},
     "output_type": "execute_result"
    }
   ],
   "source": [
    "np.unique(canny_f)"
   ]
  },
  {
   "cell_type": "code",
   "execution_count": null,
   "id": "b7ff2971",
   "metadata": {},
   "outputs": [],
   "source": []
  },
  {
   "cell_type": "code",
   "execution_count": null,
   "id": "b009eb90",
   "metadata": {},
   "outputs": [],
   "source": []
  },
  {
   "cell_type": "code",
   "execution_count": null,
   "id": "58b18b45",
   "metadata": {},
   "outputs": [],
   "source": []
  },
  {
   "cell_type": "code",
   "execution_count": null,
   "id": "44442441",
   "metadata": {},
   "outputs": [],
   "source": []
  },
  {
   "cell_type": "markdown",
   "id": "93e9a53b",
   "metadata": {},
   "source": [
    "## -------------------------------- Belkin O'Reilly Algorithm (BOA) -----------------------------------------"
   ]
  },
  {
   "cell_type": "code",
   "execution_count": 16,
   "id": "a8b4b7a4",
   "metadata": {},
   "outputs": [],
   "source": [
    "\n",
    "def BOA_aplication(data_xarray, threshold = 0.05):  \n",
    "    \n",
    "    \"\"\"\n",
    "    Function to, for a given dataframe with a longitude, latitude and SST columns, \n",
    "    identifies fronts through the application of BOA algorithm.\n",
    "    We also need to define a threshold value to later get the frontal probabilities matrix\n",
    "    (if the pixel value is greater than the threshold, then it is considered a front, otherwise don't). \n",
    "    \"\"\"\n",
    "    \n",
    "    lon = np.array(data_xarray['lon']).astype('float64')\n",
    "    lat = np.array(data_xarray['lat']).astype('float64')\n",
    "    \n",
    "    ingrid = data_xarray['analysed_sst'][0,:,:].values    \n",
    "    \n",
    "    boa_front = boa(lon=lon, lat=lat, ingrid=ingrid, nodata = np.nan, direction = False)\n",
    "    boa_front = np.flip(boa_front, axis=0)\n",
    "    boa_front = np.array([[boa_front[j][i] for j in range(len(boa_front))] for i in range(len(boa_front[0])-1,-1,-1)])\n",
    "    \n",
    "    boa_front = np.where(boa_front>=threshold, 1, boa_front)    \n",
    "    boa_front = np.where(boa_front<threshold, 0, boa_front)\n",
    "    \n",
    "    #convert 0s to Nans\n",
    "    boa_front[boa_front == 0] = 'nan'\n",
    "    \n",
    "    boa_front = np.flipud(boa_front) \n",
    "\n",
    "    return boa_front\n"
   ]
  },
  {
   "cell_type": "code",
   "execution_count": 17,
   "id": "5ad6be15",
   "metadata": {},
   "outputs": [],
   "source": [
    "boa_f = BOA_aplication(xarray_mur, threshold=0.05)"
   ]
  },
  {
   "cell_type": "code",
   "execution_count": 18,
   "id": "b518bc80",
   "metadata": {},
   "outputs": [
    {
     "data": {
      "text/plain": [
       "array([ 1., nan])"
      ]
     },
     "execution_count": 18,
     "metadata": {},
     "output_type": "execute_result"
    }
   ],
   "source": [
    "np.unique(boa_f)"
   ]
  },
  {
   "cell_type": "code",
   "execution_count": null,
   "id": "55bad5f6",
   "metadata": {},
   "outputs": [],
   "source": []
  },
  {
   "cell_type": "code",
   "execution_count": null,
   "id": "a1ef8da2",
   "metadata": {},
   "outputs": [],
   "source": []
  },
  {
   "cell_type": "code",
   "execution_count": null,
   "id": "e7f39b3f",
   "metadata": {},
   "outputs": [],
   "source": []
  },
  {
   "cell_type": "code",
   "execution_count": null,
   "id": "c2653b19",
   "metadata": {},
   "outputs": [],
   "source": []
  },
  {
   "cell_type": "markdown",
   "id": "179e393d",
   "metadata": {},
   "source": [
    "## ---------------------------------- Cayula-Cornillon Algorithm (CCA) ------------------------------------"
   ]
  },
  {
   "cell_type": "code",
   "execution_count": 19,
   "id": "753bdbdf",
   "metadata": {},
   "outputs": [],
   "source": [
    "    \n",
    "def CCA_front(data_xarray): \n",
    "    \n",
    "    \"\"\"\n",
    "    Function that calculates the fronts matrix. Given an image (SST data respective to one day) it applies the\n",
    "    Cayula-Cornillon Algorithm for Single Image Edge Detection (CCA-SIED) to discover the fronts.\n",
    "    It returns the matrix with the fronts: if pixel = 1 it was considered a front, otherwise, pixel = 0\n",
    "    It basically converts the (x,y) coordinate points to indexes of the frontal probability matrix. These indexes are considered fronts\n",
    "    The df parameter is the dataframe with the SST data for a certain day\n",
    "    \"\"\"\n",
    "    \n",
    "    front = np.zeros((1001,1401))       #initialize a matrix of zeros. This shape is for the MUR data\n",
    "    \n",
    "    #2 empty arrays that will store the x and y values of the lines that are suposed to be drawn\n",
    "    x = np.array([])\n",
    "    y = np.array([])\n",
    "        \n",
    "    xdata_final, ydata_final = CCA_SIED(data_xarray)       \n",
    "    x = np.append(x, xdata_final)\n",
    "    y = np.append(y, ydata_final)\n",
    "        \n",
    "    cols_x = np.array([])\n",
    "    for value in x:                     #convert values in array x to the respective index in a (1001, 1401) matrix\n",
    "        aux_x = (19+value)/0.01                  #these numbers are relative to the MUR data\n",
    "        cols_x = np.append(cols_x, aux_x)\n",
    "    \n",
    "    rows_y = np.array([])\n",
    "    for value in y:                     #convert values in array y to the respective index in a (1001, 1401) matrix\n",
    "        aux_y = (45-value)/0.01                  #these numbers are relative to the MUR data\n",
    "        rows_y = np.append(rows_y, aux_y)\n",
    "     \n",
    "    cols_x = np.round(cols_x)\n",
    "    rows_y = np.round(rows_y)\n",
    "            \n",
    "    for i in range(len(cols_x)):   #it could also be len(rows_y)\n",
    "        front[int(rows_y[i]), int(cols_x[i])] = front[int(rows_y[i]), int(cols_x[i])] + 1\n",
    "            \n",
    "    front[front != 0] = 1\n",
    "    \n",
    "    #convert 0s to Nans\n",
    "    front[front == 0] = 'nan'\n",
    "\n",
    "    cca_front = np.flipud(front) \n",
    "    \n",
    "    \n",
    "    return cca_front"
   ]
  },
  {
   "cell_type": "code",
   "execution_count": 20,
   "id": "839b7309",
   "metadata": {},
   "outputs": [
    {
     "name": "stderr",
     "output_type": "stream",
     "text": [
      "/home/luisfigueiredo/juno-new/notebooks/Untitled_CCA.ipynb:177: UserWarning: No contour levels were found within the data range.\n",
      "  \"                if (w[row, col+1] <= thresValue):               #if right pixel < separation\\n\",\n",
      "/home/luisfigueiredo/juno-new/notebooks/Untitled_CCA.ipynb:79: RuntimeWarning: invalid value encountered in double_scalars\n",
      "  \"    #mask is an array with the same shape of w, that is 1 if in that index position w = np.nan and 0 otherwise\\n\",\n"
     ]
    },
    {
     "data": {
      "image/png": "[encoded data removed]",
      "text/plain": [
       "<Figure size 864x576 with 1 Axes>"
      ]
     },
     "metadata": {
      "needs_background": "light"
     },
     "output_type": "display_data"
    }
   ],
   "source": [
    "cca_f = CCA_front(xarray_mur)"
   ]
  },
  {
   "cell_type": "code",
   "execution_count": null,
   "id": "03fd2342",
   "metadata": {},
   "outputs": [],
   "source": []
  },
  {
   "cell_type": "code",
   "execution_count": null,
   "id": "2a7a51b1",
   "metadata": {},
   "outputs": [],
   "source": []
  },
  {
   "cell_type": "markdown",
   "id": "09dcca93",
   "metadata": {},
   "source": [
    "## -------------------------------------------- Real SST Image --------------------------------------------------"
   ]
  },
  {
   "cell_type": "code",
   "execution_count": 21,
   "id": "ebc7f4ed",
   "metadata": {},
   "outputs": [],
   "source": [
    "def real_sst_image(data_xarray):\n",
    "        \n",
    "    \"\"\"\n",
    "    Function to store the real sst image\n",
    "    \"\"\"\n",
    "    \n",
    "    sst_image = data_xarray['analysed_sst'][0,:,:].values\n",
    "    \n",
    "    return sst_image"
   ]
  },
  {
   "cell_type": "code",
   "execution_count": 22,
   "id": "54a70638",
   "metadata": {},
   "outputs": [],
   "source": [
    "sst_image = real_sst_image(xarray_mur)"
   ]
  },
  {
   "cell_type": "code",
   "execution_count": null,
   "id": "f12569be",
   "metadata": {},
   "outputs": [],
   "source": []
  },
  {
   "cell_type": "code",
   "execution_count": null,
   "id": "7bf36fda",
   "metadata": {},
   "outputs": [],
   "source": []
  },
  {
   "cell_type": "code",
   "execution_count": null,
   "id": "6bfa9ffa",
   "metadata": {},
   "outputs": [],
   "source": []
  },
  {
   "cell_type": "markdown",
   "id": "d8fe389b",
   "metadata": {},
   "source": [
    "## -------------------------------------- Save results in NetCDF ---------------------------------------------"
   ]
  },
  {
   "cell_type": "code",
   "execution_count": 23,
   "id": "371bbcbd",
   "metadata": {},
   "outputs": [],
   "source": [
    "day_txt = '20221024'"
   ]
  },
  {
   "cell_type": "code",
   "execution_count": 24,
   "id": "25b205fe",
   "metadata": {},
   "outputs": [],
   "source": [
    "\n",
    "base_path = os.getcwd()\n",
    "base_path = os.path.join(base_path, '../data')\n",
    "\n",
    "#Check if exists a folder to save the netcdf. If not create the folder\n",
    "exist_path = os.path.exists(os.path.join(base_path, 'MUR_daily_fronts_netcdf'))    #check if folder MUR_algorithm_daily_images exists in data folder\n",
    "if not exist_path:                                                                         #if doesn't exist\n",
    "    os.makedirs(os.path.join(base_path, 'MUR_daily_fronts_netcdf'))                # create the folder\n"
   ]
  },
  {
   "cell_type": "code",
   "execution_count": 26,
   "id": "421161d4",
   "metadata": {},
   "outputs": [],
   "source": [
    "\n",
    "def fronts_2_netcdf(day_txt, sst_image, canny_f, boa_f, cca_f):\n",
    "    \n",
    "    \"\"\"\n",
    "    File to save the 4 arrays (canny, BOA, CCA, SST) as NetCDFs. This arrays are regarding a specific day so we\n",
    "    don't need to have a time variable (either way it can be add this variable if one pleases)\n",
    "    day_txt is a string in the format Y%m%d\n",
    "    \"\"\"\n",
    "    \n",
    "    nc_file = os.getcwd()\n",
    "    nc_file = os.path.join(nc_file, '../data/MUR_daily_fronts_netcdf/MUR_' + day_txt + '.nc')\n",
    "\n",
    "    ds = nc.Dataset(nc_file, 'w', format='NETCDF4')\n",
    "\n",
    "    ds.title = 'MUR ' + day_txt + ' Fronts Arrays (Xarrays)'\n",
    "\n",
    "    #create dimensions of the NetCDF file\n",
    "    #time = ds.createDimension('time')\n",
    "    lat = ds.createDimension('lat', 1001)\n",
    "    lon = ds.createDimension('lon', 1401)\n",
    "\n",
    "    #times = ds.createVariable('time', 'f4', ('time', ))\n",
    "    lats = ds.createVariable('lat', 'f4', ('lat', ))\n",
    "    lons = ds.createVariable('lon', 'f4', ('lon', ))\n",
    "\n",
    "    sst_analyzed = ds.createVariable('sst', 'f4', ('lat', 'lon',))    #('time', 'lat', 'lon',)\n",
    "    sst_analyzed.units = 'C'   #degrees Celsius\n",
    "    sst_analyzed.description = 'Array with the Sea-Surface Temperature (SST) relative to the MUR data for that day'\n",
    "    #sst_analyzed[0, :, :] = sst\n",
    "    sst_analyzed[:, :] = sst_image\n",
    "\n",
    "\n",
    "    canny = ds.createVariable('Canny', 'f4', ('lat', 'lon',))\n",
    "    canny.units = 'Unknown'\n",
    "    canny.description = 'Binary Array with identyfied fronts through Canny from OpenCV (1-> front), (0->not front)'\n",
    "    #canny[0, :, :] = canny_front.astype(float)\n",
    "    canny[:, :] = canny_f.astype(float)\n",
    "\n",
    "    boa = ds.createVariable('BOA', 'f4', ('lat', 'lon',))\n",
    "    boa.units = 'Unknown'\n",
    "    boa.description = 'Binary Array with identyfied fronts through the Belkin O Reilly Algorithm (temperature gradient). If the gradient is bigger than certain threshold is considered front (1) otherwise 0'\n",
    "    #boa[0, :, :] = boa_front\n",
    "    boa[:, :] = boa_f\n",
    "\n",
    "    cca = ds.createVariable('CCA', 'f4', ('lat', 'lon',))\n",
    "    cca.units = 'Unknown'\n",
    "    cca.description = 'Binary Array with identyfied fronts through the Cayula Cornillon Algorithm (1->front) (0->not front)'\n",
    "    #cca[0, :, :] = cca_front.astype(float)\n",
    "    cca[:, :] = cca_f.astype(float)\n",
    "\n",
    "    #times.units = 'days since 1-1-1'\n",
    "\n",
    "    lats[:] = np.linspace(35, 45, 1001)\n",
    "    lons[:] = np.linspace(-19, -5, 1401)\n",
    "\n",
    "\n",
    "    # date_obj = datetime.datetime.strptime(day_txt, '%Y%m%d')\n",
    "    #date_time = date_obj.toordinal()\n",
    "    #times[:] = date_time\n",
    "\n",
    "    ds.close()\n",
    "\n"
   ]
  },
  {
   "cell_type": "code",
   "execution_count": null,
   "id": "d8f6eb51",
   "metadata": {},
   "outputs": [],
   "source": []
  },
  {
   "cell_type": "code",
   "execution_count": 27,
   "id": "f4140aed",
   "metadata": {},
   "outputs": [],
   "source": [
    "fronts_2_netcdf('20221024', sst_image, canny_f, boa_f, cca_f )"
   ]
  },
  {
   "cell_type": "code",
   "execution_count": null,
   "id": "f5a92d19",
   "metadata": {},
   "outputs": [],
   "source": []
  },
  {
   "cell_type": "code",
   "execution_count": null,
   "id": "129ecff5",
   "metadata": {},
   "outputs": [],
   "source": []
  },
  {
   "cell_type": "code",
   "execution_count": null,
   "id": "c909066e",
   "metadata": {},
   "outputs": [],
   "source": []
  },
  {
   "cell_type": "code",
   "execution_count": null,
   "id": "3e25bcd7",
   "metadata": {},
   "outputs": [],
   "source": []
  },
  {
   "cell_type": "code",
   "execution_count": null,
   "id": "e03101a3",
   "metadata": {},
   "outputs": [],
   "source": []
  },
  {
   "cell_type": "code",
   "execution_count": null,
   "id": "7e55354d",
   "metadata": {},
   "outputs": [],
   "source": []
  },
  {
   "cell_type": "code",
   "execution_count": null,
   "id": "eea1f9a4",
   "metadata": {},
   "outputs": [],
   "source": []
  },
  {
   "cell_type": "code",
   "execution_count": null,
   "id": "21f78852",
   "metadata": {},
   "outputs": [],
   "source": []
  },
  {
   "cell_type": "code",
   "execution_count": null,
   "id": "ef039499",
   "metadata": {},
   "outputs": [],
   "source": []
  }
 ],
 "metadata": {
  "kernelspec": {
   "display_name": "Python 3 (ipykernel)",
   "language": "python",
   "name": "python3"
  },
  "language_info": {
   "codemirror_mode": {
    "name": "ipython",
    "version": 3
   },
   "file_extension": ".py",
   "mimetype": "text/x-python",
   "name": "python",
   "nbconvert_exporter": "python",
   "pygments_lexer": "ipython3",
   "version": "3.8.13"
  }
 },
 "nbformat": 4,
 "nbformat_minor": 5
}
