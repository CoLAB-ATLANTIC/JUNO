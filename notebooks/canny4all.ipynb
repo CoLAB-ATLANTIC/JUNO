{
 "cells": [
  {
   "cell_type": "markdown",
   "id": "c1fba2c9",
   "metadata": {},
   "source": [
    "##### In this notebook we will try to group the whole code into functions so that it is possible to visualize the frontal probabilities map for both the reanalysis data and the MUR data"
   ]
  },
  {
   "cell_type": "code",
   "execution_count": null,
   "id": "b994184b",
   "metadata": {},
   "outputs": [],
   "source": []
  },
  {
   "cell_type": "code",
   "execution_count": 1,
   "id": "cf449b02",
   "metadata": {},
   "outputs": [],
   "source": [
    "import pandas as pd\n",
    "import numpy as np\n",
    "import matplotlib.pyplot as plt\n",
    "import seaborn as sns\n",
    "import netCDF4 as nc\n",
    "import cv2\n",
    "import datetime\n",
    "import xarray as xr\n",
    "import os\n",
    "from pathlib import Path\n",
    "from scipy.ndimage import gaussian_filter\n",
    "#plt.rcParams[\"figure.figsize\"] = 10, 8\n",
    "%matplotlib inline"
   ]
  },
  {
   "cell_type": "code",
   "execution_count": null,
   "id": "5f52b6d9",
   "metadata": {},
   "outputs": [],
   "source": []
  },
  {
   "cell_type": "markdown",
   "id": "8c4b0e55",
   "metadata": {},
   "source": [
    "### Importação dos dados"
   ]
  },
  {
   "cell_type": "code",
   "execution_count": null,
   "id": "78ea9028",
   "metadata": {},
   "outputs": [],
   "source": []
  },
  {
   "cell_type": "code",
   "execution_count": 8,
   "id": "88cf10d6",
   "metadata": {},
   "outputs": [],
   "source": [
    "def get_data(data):\n",
    "    \n",
    "    \"\"\"\n",
    "    function to get our netCDF file that is stored in the data directory and convert it to a dataframe\n",
    "    the data parameter is the string name of the netCDF file we want to import\n",
    "    \"\"\"\n",
    "    \n",
    "    current_path = os.getcwd()\n",
    "    data_folder = os.path.join(current_path,\"../data\")\n",
    "    \n",
    "    nc_path = os.path.join(data_folder, data)\n",
    "    ds = nc.Dataset(nc_path)\n",
    "    netCDF = xr.load_dataset(nc_path)\n",
    "    \n",
    "    df = netCDF.to_dataframe()\n",
    "    df = df.reset_index()\n",
    "    \n",
    "    df = df.drop(['depth'], axis=1, errors='ignore') #drop the column 'depth' if exists: only exists in reanalysis\n",
    "    \n",
    "    #caso se esteja a importar os dados do MUR, renomear as colunas e passar a temperatura para Celsius\n",
    "    if data.startswith('mur'):\n",
    "        df.rename(columns={'lat': 'latitude', 'lon': 'longitude', 'time': 'time', 'analysed_sst':'thetao'}, inplace=True)\n",
    "        df['thetao'] = df['thetao']-273.15   \n",
    "        \n",
    "    \n",
    "    return df"
   ]
  },
  {
   "cell_type": "code",
   "execution_count": null,
   "id": "4817d564",
   "metadata": {},
   "outputs": [],
   "source": []
  },
  {
   "cell_type": "code",
   "execution_count": 14,
   "id": "3dac88bd",
   "metadata": {},
   "outputs": [],
   "source": [
    "df_reanalysis = get_data('IBI2014-2019.nc')   # for Reanalysis data: 'IBI2014-2019.nc'; for MUR: 'sst_20190725.nc'"
   ]
  },
  {
   "cell_type": "code",
   "execution_count": null,
   "id": "ed7c438e",
   "metadata": {},
   "outputs": [],
   "source": [
    "df_mur_july = get_data('murJuly2019.nc')"
   ]
  },
  {
   "cell_type": "code",
   "execution_count": 9,
   "id": "def0f319",
   "metadata": {},
   "outputs": [],
   "source": [
    "df_mur_aug = get_data('murAugust2019.nc')"
   ]
  },
  {
   "cell_type": "code",
   "execution_count": 25,
   "id": "b39987be",
   "metadata": {},
   "outputs": [],
   "source": [
    "df_mur_sept = get_data('murSept2019.nc')"
   ]
  },
  {
   "cell_type": "code",
   "execution_count": null,
   "id": "07798bfa",
   "metadata": {},
   "outputs": [],
   "source": []
  },
  {
   "cell_type": "code",
   "execution_count": null,
   "id": "e8becb0c",
   "metadata": {},
   "outputs": [],
   "source": []
  },
  {
   "cell_type": "code",
   "execution_count": 11,
   "id": "e1f758d2",
   "metadata": {},
   "outputs": [],
   "source": [
    "#Não faz sentido ter isto em função\n",
    "\n",
    "def get_period(df):\n",
    "    \n",
    "    \"\"\"\n",
    "    Function that receives a dataframe that can have data relative to different days \n",
    "    and returns a dictionaire of dataframes (for each different day) and an array with the different dates \n",
    "    its possible to find in our dataframe \n",
    "    \"\"\"\n",
    "    \n",
    "    specificday = [pd.Timestamp(dd).strftime(\"%Y-%m-%d %H:%M:%S\") for dd in df['time'].unique()]\n",
    "    specificday = np.array(specificday, dtype=np.object)\n",
    "  \n",
    "    #create a dictionary to store the data frames for each day\n",
    "    days = {elem : pd.DataFrame for elem in specificday}\n",
    "\n",
    "    for key in days.keys():\n",
    "        days[key] = df[:][df['time'] == key]\n",
    "        \n",
    "    return days, specificday\n",
    "\n",
    "#after this function we only have to define the period we want to analyse"
   ]
  },
  {
   "cell_type": "code",
   "execution_count": 26,
   "id": "76e50fcc",
   "metadata": {},
   "outputs": [],
   "source": [
    "days_mur, specificday_mur = get_period(df_mur_sept)"
   ]
  },
  {
   "cell_type": "code",
   "execution_count": 15,
   "id": "3599c27a",
   "metadata": {},
   "outputs": [],
   "source": [
    "days_r, specificday_r = get_period(df_reanalysis)"
   ]
  },
  {
   "cell_type": "markdown",
   "id": "2e0682d2",
   "metadata": {},
   "source": [
    "##### Define the period we want to analyse\n",
    "\n",
    "Parece-me que a melhor maneira de fazer isto será definir o periodo diretamente à mão (como é feito na linha de baixo)"
   ]
  },
  {
   "cell_type": "code",
   "execution_count": 9,
   "id": "569a763d",
   "metadata": {},
   "outputs": [
    {
     "data": {
      "text/plain": [
       "array(['2014-10-01 12:00:00', '2014-10-02 12:00:00',\n",
       "       '2014-10-03 12:00:00', '2014-10-04 12:00:00',\n",
       "       '2014-10-05 12:00:00', '2014-10-06 12:00:00',\n",
       "       '2014-10-07 12:00:00', '2014-10-08 12:00:00',\n",
       "       '2014-10-09 12:00:00', '2014-10-10 12:00:00',\n",
       "       '2014-10-11 12:00:00', '2014-10-12 12:00:00',\n",
       "       '2014-10-13 12:00:00', '2014-10-14 12:00:00',\n",
       "       '2014-10-15 12:00:00', '2014-10-16 12:00:00',\n",
       "       '2014-10-17 12:00:00', '2014-10-18 12:00:00',\n",
       "       '2014-10-19 12:00:00', '2014-10-20 12:00:00',\n",
       "       '2014-10-21 12:00:00', '2014-10-22 12:00:00',\n",
       "       '2014-10-23 12:00:00', '2014-10-24 12:00:00',\n",
       "       '2014-10-25 12:00:00', '2014-10-26 12:00:00',\n",
       "       '2014-10-27 12:00:00', '2014-10-28 12:00:00',\n",
       "       '2014-10-29 12:00:00', '2014-10-30 12:00:00',\n",
       "       '2014-10-31 12:00:00', '2014-11-01 12:00:00',\n",
       "       '2014-11-02 12:00:00', '2014-11-03 12:00:00',\n",
       "       '2014-11-04 12:00:00', '2014-11-05 12:00:00',\n",
       "       '2014-11-06 12:00:00', '2014-11-07 12:00:00',\n",
       "       '2014-11-08 12:00:00', '2014-11-09 12:00:00',\n",
       "       '2014-11-10 12:00:00', '2014-11-11 12:00:00',\n",
       "       '2014-11-12 12:00:00', '2014-11-13 12:00:00',\n",
       "       '2014-11-14 12:00:00', '2014-11-15 12:00:00',\n",
       "       '2014-11-16 12:00:00', '2014-11-17 12:00:00',\n",
       "       '2014-11-18 12:00:00', '2014-11-19 12:00:00',\n",
       "       '2014-11-20 12:00:00', '2014-11-21 12:00:00',\n",
       "       '2014-11-22 12:00:00', '2014-11-23 12:00:00',\n",
       "       '2014-11-24 12:00:00', '2014-11-25 12:00:00',\n",
       "       '2014-11-26 12:00:00', '2014-11-27 12:00:00',\n",
       "       '2014-11-28 12:00:00', '2014-11-29 12:00:00',\n",
       "       '2014-11-30 12:00:00', '2014-12-01 12:00:00',\n",
       "       '2014-12-02 12:00:00', '2014-12-03 12:00:00',\n",
       "       '2014-12-04 12:00:00', '2014-12-05 12:00:00',\n",
       "       '2014-12-06 12:00:00', '2014-12-07 12:00:00',\n",
       "       '2014-12-08 12:00:00', '2014-12-09 12:00:00',\n",
       "       '2014-12-10 12:00:00', '2014-12-11 12:00:00',\n",
       "       '2014-12-12 12:00:00', '2014-12-13 12:00:00',\n",
       "       '2014-12-14 12:00:00', '2014-12-15 12:00:00',\n",
       "       '2014-12-16 12:00:00', '2014-12-17 12:00:00',\n",
       "       '2014-12-18 12:00:00', '2014-12-19 12:00:00',\n",
       "       '2014-12-20 12:00:00', '2014-12-21 12:00:00',\n",
       "       '2014-12-22 12:00:00', '2014-12-23 12:00:00',\n",
       "       '2014-12-24 12:00:00', '2014-12-25 12:00:00',\n",
       "       '2014-12-26 12:00:00', '2014-12-27 12:00:00',\n",
       "       '2014-12-28 12:00:00', '2014-12-29 12:00:00',\n",
       "       '2014-12-30 12:00:00', '2014-12-31 12:00:00',\n",
       "       '2015-10-01 12:00:00', '2015-10-02 12:00:00',\n",
       "       '2015-10-03 12:00:00', '2015-10-04 12:00:00',\n",
       "       '2015-10-05 12:00:00', '2015-10-06 12:00:00',\n",
       "       '2015-10-07 12:00:00', '2015-10-08 12:00:00',\n",
       "       '2015-10-09 12:00:00', '2015-10-10 12:00:00',\n",
       "       '2015-10-11 12:00:00', '2015-10-12 12:00:00',\n",
       "       '2015-10-13 12:00:00', '2015-10-14 12:00:00',\n",
       "       '2015-10-15 12:00:00', '2015-10-16 12:00:00',\n",
       "       '2015-10-17 12:00:00', '2015-10-18 12:00:00',\n",
       "       '2015-10-19 12:00:00', '2015-10-20 12:00:00',\n",
       "       '2015-10-21 12:00:00', '2015-10-22 12:00:00',\n",
       "       '2015-10-23 12:00:00', '2015-10-24 12:00:00',\n",
       "       '2015-10-25 12:00:00', '2015-10-26 12:00:00',\n",
       "       '2015-10-27 12:00:00', '2015-10-28 12:00:00',\n",
       "       '2015-10-29 12:00:00', '2015-10-30 12:00:00',\n",
       "       '2015-10-31 12:00:00', '2015-11-01 12:00:00',\n",
       "       '2015-11-02 12:00:00', '2015-11-03 12:00:00',\n",
       "       '2015-11-04 12:00:00', '2015-11-05 12:00:00',\n",
       "       '2015-11-06 12:00:00', '2015-11-07 12:00:00',\n",
       "       '2015-11-08 12:00:00', '2015-11-09 12:00:00',\n",
       "       '2015-11-10 12:00:00', '2015-11-11 12:00:00',\n",
       "       '2015-11-12 12:00:00', '2015-11-13 12:00:00',\n",
       "       '2015-11-14 12:00:00', '2015-11-15 12:00:00',\n",
       "       '2015-11-16 12:00:00', '2015-11-17 12:00:00',\n",
       "       '2015-11-18 12:00:00', '2015-11-19 12:00:00',\n",
       "       '2015-11-20 12:00:00', '2015-11-21 12:00:00',\n",
       "       '2015-11-22 12:00:00', '2015-11-23 12:00:00',\n",
       "       '2015-11-24 12:00:00', '2015-11-25 12:00:00',\n",
       "       '2015-11-26 12:00:00', '2015-11-27 12:00:00',\n",
       "       '2015-11-28 12:00:00', '2015-11-29 12:00:00',\n",
       "       '2015-11-30 12:00:00', '2015-12-01 12:00:00',\n",
       "       '2015-12-02 12:00:00', '2015-12-03 12:00:00',\n",
       "       '2015-12-04 12:00:00', '2015-12-05 12:00:00',\n",
       "       '2015-12-06 12:00:00', '2015-12-07 12:00:00',\n",
       "       '2015-12-08 12:00:00', '2015-12-09 12:00:00',\n",
       "       '2015-12-10 12:00:00', '2015-12-11 12:00:00',\n",
       "       '2015-12-12 12:00:00', '2015-12-13 12:00:00',\n",
       "       '2015-12-14 12:00:00', '2015-12-15 12:00:00',\n",
       "       '2015-12-16 12:00:00', '2015-12-17 12:00:00',\n",
       "       '2015-12-18 12:00:00', '2015-12-19 12:00:00',\n",
       "       '2015-12-20 12:00:00', '2015-12-21 12:00:00',\n",
       "       '2015-12-22 12:00:00', '2015-12-23 12:00:00',\n",
       "       '2015-12-24 12:00:00', '2015-12-25 12:00:00',\n",
       "       '2015-12-26 12:00:00', '2015-12-27 12:00:00',\n",
       "       '2015-12-28 12:00:00', '2015-12-29 12:00:00',\n",
       "       '2015-12-30 12:00:00', '2015-12-31 12:00:00',\n",
       "       '2016-10-01 12:00:00', '2016-10-02 12:00:00',\n",
       "       '2016-10-03 12:00:00', '2016-10-04 12:00:00',\n",
       "       '2016-10-05 12:00:00', '2016-10-06 12:00:00',\n",
       "       '2016-10-07 12:00:00', '2016-10-08 12:00:00',\n",
       "       '2016-10-09 12:00:00', '2016-10-10 12:00:00',\n",
       "       '2016-10-11 12:00:00', '2016-10-12 12:00:00',\n",
       "       '2016-10-13 12:00:00', '2016-10-14 12:00:00',\n",
       "       '2016-10-15 12:00:00', '2016-10-16 12:00:00',\n",
       "       '2016-10-17 12:00:00', '2016-10-18 12:00:00',\n",
       "       '2016-10-19 12:00:00', '2016-10-20 12:00:00',\n",
       "       '2016-10-21 12:00:00', '2016-10-22 12:00:00',\n",
       "       '2016-10-23 12:00:00', '2016-10-24 12:00:00',\n",
       "       '2016-10-25 12:00:00', '2016-10-26 12:00:00',\n",
       "       '2016-10-27 12:00:00', '2016-10-28 12:00:00',\n",
       "       '2016-10-29 12:00:00', '2016-10-30 12:00:00',\n",
       "       '2016-10-31 12:00:00', '2016-11-01 12:00:00',\n",
       "       '2016-11-02 12:00:00', '2016-11-03 12:00:00',\n",
       "       '2016-11-04 12:00:00', '2016-11-05 12:00:00',\n",
       "       '2016-11-06 12:00:00', '2016-11-07 12:00:00',\n",
       "       '2016-11-08 12:00:00', '2016-11-09 12:00:00',\n",
       "       '2016-11-10 12:00:00', '2016-11-11 12:00:00',\n",
       "       '2016-11-12 12:00:00', '2016-11-13 12:00:00',\n",
       "       '2016-11-14 12:00:00', '2016-11-15 12:00:00',\n",
       "       '2016-11-16 12:00:00', '2016-11-17 12:00:00',\n",
       "       '2016-11-18 12:00:00', '2016-11-19 12:00:00',\n",
       "       '2016-11-20 12:00:00', '2016-11-21 12:00:00',\n",
       "       '2016-11-22 12:00:00', '2016-11-23 12:00:00',\n",
       "       '2016-11-24 12:00:00', '2016-11-25 12:00:00',\n",
       "       '2016-11-26 12:00:00', '2016-11-27 12:00:00',\n",
       "       '2016-11-28 12:00:00', '2016-11-29 12:00:00',\n",
       "       '2016-11-30 12:00:00', '2016-12-01 12:00:00',\n",
       "       '2016-12-02 12:00:00', '2016-12-03 12:00:00',\n",
       "       '2016-12-04 12:00:00', '2016-12-05 12:00:00',\n",
       "       '2016-12-06 12:00:00', '2016-12-07 12:00:00',\n",
       "       '2016-12-08 12:00:00', '2016-12-09 12:00:00',\n",
       "       '2016-12-10 12:00:00', '2016-12-11 12:00:00',\n",
       "       '2016-12-12 12:00:00', '2016-12-13 12:00:00',\n",
       "       '2016-12-14 12:00:00', '2016-12-15 12:00:00',\n",
       "       '2016-12-16 12:00:00', '2016-12-17 12:00:00',\n",
       "       '2016-12-18 12:00:00', '2016-12-19 12:00:00',\n",
       "       '2016-12-20 12:00:00', '2016-12-21 12:00:00',\n",
       "       '2016-12-22 12:00:00', '2016-12-23 12:00:00',\n",
       "       '2016-12-24 12:00:00', '2016-12-25 12:00:00',\n",
       "       '2016-12-26 12:00:00', '2016-12-27 12:00:00',\n",
       "       '2016-12-28 12:00:00', '2016-12-29 12:00:00',\n",
       "       '2016-12-30 12:00:00', '2016-12-31 12:00:00',\n",
       "       '2017-10-01 12:00:00', '2017-10-02 12:00:00',\n",
       "       '2017-10-03 12:00:00', '2017-10-04 12:00:00',\n",
       "       '2017-10-05 12:00:00', '2017-10-06 12:00:00',\n",
       "       '2017-10-07 12:00:00', '2017-10-08 12:00:00',\n",
       "       '2017-10-09 12:00:00', '2017-10-10 12:00:00',\n",
       "       '2017-10-11 12:00:00', '2017-10-12 12:00:00',\n",
       "       '2017-10-13 12:00:00', '2017-10-14 12:00:00',\n",
       "       '2017-10-15 12:00:00', '2017-10-16 12:00:00',\n",
       "       '2017-10-17 12:00:00', '2017-10-18 12:00:00',\n",
       "       '2017-10-19 12:00:00', '2017-10-20 12:00:00',\n",
       "       '2017-10-21 12:00:00', '2017-10-22 12:00:00',\n",
       "       '2017-10-23 12:00:00', '2017-10-24 12:00:00',\n",
       "       '2017-10-25 12:00:00', '2017-10-26 12:00:00',\n",
       "       '2017-10-27 12:00:00', '2017-10-28 12:00:00',\n",
       "       '2017-10-29 12:00:00', '2017-10-30 12:00:00',\n",
       "       '2017-10-31 12:00:00', '2017-11-01 12:00:00',\n",
       "       '2017-11-02 12:00:00', '2017-11-03 12:00:00',\n",
       "       '2017-11-04 12:00:00', '2017-11-05 12:00:00',\n",
       "       '2017-11-06 12:00:00', '2017-11-07 12:00:00',\n",
       "       '2017-11-08 12:00:00', '2017-11-09 12:00:00',\n",
       "       '2017-11-10 12:00:00', '2017-11-11 12:00:00',\n",
       "       '2017-11-12 12:00:00', '2017-11-13 12:00:00',\n",
       "       '2017-11-14 12:00:00', '2017-11-15 12:00:00',\n",
       "       '2017-11-16 12:00:00', '2017-11-17 12:00:00',\n",
       "       '2017-11-18 12:00:00', '2017-11-19 12:00:00',\n",
       "       '2017-11-20 12:00:00', '2017-11-21 12:00:00',\n",
       "       '2017-11-22 12:00:00', '2017-11-23 12:00:00',\n",
       "       '2017-11-24 12:00:00', '2017-11-25 12:00:00',\n",
       "       '2017-11-26 12:00:00', '2017-11-27 12:00:00',\n",
       "       '2017-11-28 12:00:00', '2017-11-29 12:00:00',\n",
       "       '2017-11-30 12:00:00', '2017-12-01 12:00:00',\n",
       "       '2017-12-02 12:00:00', '2017-12-03 12:00:00',\n",
       "       '2017-12-04 12:00:00', '2017-12-05 12:00:00',\n",
       "       '2017-12-06 12:00:00', '2017-12-07 12:00:00',\n",
       "       '2017-12-08 12:00:00', '2017-12-09 12:00:00',\n",
       "       '2017-12-10 12:00:00', '2017-12-11 12:00:00',\n",
       "       '2017-12-12 12:00:00', '2017-12-13 12:00:00',\n",
       "       '2017-12-14 12:00:00', '2017-12-15 12:00:00',\n",
       "       '2017-12-16 12:00:00', '2017-12-17 12:00:00',\n",
       "       '2017-12-18 12:00:00', '2017-12-19 12:00:00',\n",
       "       '2017-12-20 12:00:00', '2017-12-21 12:00:00',\n",
       "       '2017-12-22 12:00:00', '2017-12-23 12:00:00',\n",
       "       '2017-12-24 12:00:00', '2017-12-25 12:00:00',\n",
       "       '2017-12-26 12:00:00', '2017-12-27 12:00:00',\n",
       "       '2017-12-28 12:00:00', '2017-12-29 12:00:00',\n",
       "       '2017-12-30 12:00:00', '2017-12-31 12:00:00',\n",
       "       '2018-10-01 12:00:00', '2018-10-02 12:00:00',\n",
       "       '2018-10-03 12:00:00', '2018-10-04 12:00:00',\n",
       "       '2018-10-05 12:00:00', '2018-10-06 12:00:00',\n",
       "       '2018-10-07 12:00:00', '2018-10-08 12:00:00',\n",
       "       '2018-10-09 12:00:00', '2018-10-10 12:00:00',\n",
       "       '2018-10-11 12:00:00', '2018-10-12 12:00:00',\n",
       "       '2018-10-13 12:00:00', '2018-10-14 12:00:00',\n",
       "       '2018-10-15 12:00:00', '2018-10-16 12:00:00',\n",
       "       '2018-10-17 12:00:00', '2018-10-18 12:00:00',\n",
       "       '2018-10-19 12:00:00', '2018-10-20 12:00:00',\n",
       "       '2018-10-21 12:00:00', '2018-10-22 12:00:00',\n",
       "       '2018-10-23 12:00:00', '2018-10-24 12:00:00',\n",
       "       '2018-10-25 12:00:00', '2018-10-26 12:00:00',\n",
       "       '2018-10-27 12:00:00', '2018-10-28 12:00:00',\n",
       "       '2018-10-29 12:00:00', '2018-10-30 12:00:00',\n",
       "       '2018-10-31 12:00:00', '2018-11-01 12:00:00',\n",
       "       '2018-11-02 12:00:00', '2018-11-03 12:00:00',\n",
       "       '2018-11-04 12:00:00', '2018-11-05 12:00:00',\n",
       "       '2018-11-06 12:00:00', '2018-11-07 12:00:00',\n",
       "       '2018-11-08 12:00:00', '2018-11-09 12:00:00',\n",
       "       '2018-11-10 12:00:00', '2018-11-11 12:00:00',\n",
       "       '2018-11-12 12:00:00', '2018-11-13 12:00:00',\n",
       "       '2018-11-14 12:00:00', '2018-11-15 12:00:00',\n",
       "       '2018-11-16 12:00:00', '2018-11-17 12:00:00',\n",
       "       '2018-11-18 12:00:00', '2018-11-19 12:00:00',\n",
       "       '2018-11-20 12:00:00', '2018-11-21 12:00:00',\n",
       "       '2018-11-22 12:00:00', '2018-11-23 12:00:00',\n",
       "       '2018-11-24 12:00:00', '2018-11-25 12:00:00',\n",
       "       '2018-11-26 12:00:00', '2018-11-27 12:00:00',\n",
       "       '2018-11-28 12:00:00', '2018-11-29 12:00:00',\n",
       "       '2018-11-30 12:00:00', '2018-12-01 12:00:00',\n",
       "       '2018-12-02 12:00:00', '2018-12-03 12:00:00',\n",
       "       '2018-12-04 12:00:00', '2018-12-05 12:00:00',\n",
       "       '2018-12-06 12:00:00', '2018-12-07 12:00:00',\n",
       "       '2018-12-08 12:00:00', '2018-12-09 12:00:00',\n",
       "       '2018-12-10 12:00:00', '2018-12-11 12:00:00',\n",
       "       '2018-12-12 12:00:00', '2018-12-13 12:00:00',\n",
       "       '2018-12-14 12:00:00', '2018-12-15 12:00:00',\n",
       "       '2018-12-16 12:00:00', '2018-12-17 12:00:00',\n",
       "       '2018-12-18 12:00:00', '2018-12-19 12:00:00',\n",
       "       '2018-12-20 12:00:00', '2018-12-21 12:00:00',\n",
       "       '2018-12-22 12:00:00', '2018-12-23 12:00:00',\n",
       "       '2018-12-24 12:00:00', '2018-12-25 12:00:00',\n",
       "       '2018-12-26 12:00:00', '2018-12-27 12:00:00',\n",
       "       '2018-12-28 12:00:00', '2018-12-29 12:00:00',\n",
       "       '2018-12-30 12:00:00', '2018-12-31 12:00:00',\n",
       "       '2019-10-01 12:00:00', '2019-10-02 12:00:00',\n",
       "       '2019-10-03 12:00:00', '2019-10-04 12:00:00',\n",
       "       '2019-10-05 12:00:00', '2019-10-06 12:00:00',\n",
       "       '2019-10-07 12:00:00', '2019-10-08 12:00:00',\n",
       "       '2019-10-09 12:00:00', '2019-10-10 12:00:00',\n",
       "       '2019-10-11 12:00:00', '2019-10-12 12:00:00',\n",
       "       '2019-10-13 12:00:00', '2019-10-14 12:00:00',\n",
       "       '2019-10-15 12:00:00', '2019-10-16 12:00:00',\n",
       "       '2019-10-17 12:00:00', '2019-10-18 12:00:00',\n",
       "       '2019-10-19 12:00:00', '2019-10-20 12:00:00',\n",
       "       '2019-10-21 12:00:00', '2019-10-22 12:00:00',\n",
       "       '2019-10-23 12:00:00', '2019-10-24 12:00:00',\n",
       "       '2019-10-25 12:00:00', '2019-10-26 12:00:00',\n",
       "       '2019-10-27 12:00:00', '2019-10-28 12:00:00',\n",
       "       '2019-10-29 12:00:00', '2019-10-30 12:00:00',\n",
       "       '2019-10-31 12:00:00', '2019-11-01 12:00:00',\n",
       "       '2019-11-02 12:00:00', '2019-11-03 12:00:00',\n",
       "       '2019-11-04 12:00:00', '2019-11-05 12:00:00',\n",
       "       '2019-11-06 12:00:00', '2019-11-07 12:00:00',\n",
       "       '2019-11-08 12:00:00', '2019-11-09 12:00:00',\n",
       "       '2019-11-10 12:00:00', '2019-11-11 12:00:00',\n",
       "       '2019-11-12 12:00:00', '2019-11-13 12:00:00',\n",
       "       '2019-11-14 12:00:00', '2019-11-15 12:00:00',\n",
       "       '2019-11-16 12:00:00', '2019-11-17 12:00:00',\n",
       "       '2019-11-18 12:00:00', '2019-11-19 12:00:00',\n",
       "       '2019-11-20 12:00:00', '2019-11-21 12:00:00',\n",
       "       '2019-11-22 12:00:00', '2019-11-23 12:00:00',\n",
       "       '2019-11-24 12:00:00', '2019-11-25 12:00:00',\n",
       "       '2019-11-26 12:00:00', '2019-11-27 12:00:00',\n",
       "       '2019-11-28 12:00:00', '2019-11-29 12:00:00',\n",
       "       '2019-11-30 12:00:00', '2019-12-01 12:00:00',\n",
       "       '2019-12-02 12:00:00', '2019-12-03 12:00:00',\n",
       "       '2019-12-04 12:00:00', '2019-12-05 12:00:00',\n",
       "       '2019-12-06 12:00:00', '2019-12-07 12:00:00',\n",
       "       '2019-12-08 12:00:00', '2019-12-09 12:00:00',\n",
       "       '2019-12-10 12:00:00', '2019-12-11 12:00:00',\n",
       "       '2019-12-12 12:00:00', '2019-12-13 12:00:00',\n",
       "       '2019-12-14 12:00:00', '2019-12-15 12:00:00',\n",
       "       '2019-12-16 12:00:00', '2019-12-17 12:00:00',\n",
       "       '2019-12-18 12:00:00', '2019-12-19 12:00:00',\n",
       "       '2019-12-20 12:00:00', '2019-12-21 12:00:00',\n",
       "       '2019-12-22 12:00:00', '2019-12-23 12:00:00',\n",
       "       '2019-12-24 12:00:00'], dtype=object)"
      ]
     },
     "execution_count": 9,
     "metadata": {},
     "output_type": "execute_result"
    }
   ],
   "source": [
    "# period we want to analyse\n",
    "ond2014_2019 = specificday_r[(specificday_r>='2014-10-01 12:00:00') & (specificday_r <= '2014-12-31 12:00:00') + (specificday_r>='2015-10-01 12:00:00') & (specificday_r <= '2015-12-31 12:00:00')+(specificday_r>='2016-10-01 12:00:00') & (specificday_r <= '2016-12-31 12:00:00')+(specificday_r>='2017-10-01 12:00:00') & (specificday_r <= '2017-12-31 12:00:00')+(specificday_r>='2018-10-01 12:00:00') & (specificday_r <= '2018-12-31 12:00:00')+(specificday_r>='2019-10-01 12:00:00') & (specificday_r <= '2019-12-31 12:00:00')]\n",
    "ond2014_2019"
   ]
  },
  {
   "cell_type": "code",
   "execution_count": 27,
   "id": "36fa347b",
   "metadata": {},
   "outputs": [],
   "source": [
    "set2019 = specificday_mur[(specificday_mur >='2019-09-01 09:00:00') & (specificday_mur<='2019-09-30 09:00:00')]"
   ]
  },
  {
   "cell_type": "code",
   "execution_count": 28,
   "id": "0aa5cef4",
   "metadata": {},
   "outputs": [],
   "source": [
    "set2019_r = specificday_r[(specificday_r >='2019-09-01 12:00:00') & (specificday_r<='2019-09-30 12:00:00')]"
   ]
  },
  {
   "cell_type": "code",
   "execution_count": 11,
   "id": "89b0d324",
   "metadata": {},
   "outputs": [],
   "source": [
    "july10 = specificday_mur[(specificday_mur == '2019-07-10 09:00:00')]"
   ]
  },
  {
   "cell_type": "code",
   "execution_count": 12,
   "id": "7f21740c",
   "metadata": {},
   "outputs": [],
   "source": [
    "july10_r = specificday_r[(specificday_r == '2019-07-10 12:00:00')]"
   ]
  },
  {
   "cell_type": "code",
   "execution_count": 52,
   "id": "02e30fb2",
   "metadata": {},
   "outputs": [],
   "source": [
    "july25 = specificday_mur[(specificday_mur == '2019-07-25 09:00:00')]"
   ]
  },
  {
   "cell_type": "code",
   "execution_count": 53,
   "id": "4fc77559",
   "metadata": {},
   "outputs": [],
   "source": [
    "july25_r = specificday_r[(specificday_r == '2019-07-25 12:00:00')]"
   ]
  },
  {
   "cell_type": "code",
   "execution_count": null,
   "id": "7a255b8b",
   "metadata": {},
   "outputs": [],
   "source": []
  },
  {
   "cell_type": "code",
   "execution_count": 18,
   "id": "96c6a42b",
   "metadata": {},
   "outputs": [],
   "source": [
    "def canny_creation(days, Tmin, Tmax, sigma=0, apertureSize=3):  \n",
    "    \n",
    "    \"\"\"\n",
    "    Função que pega numa df com temperaturas relativas a um certo dia e retorna a matriz obtida após \n",
    "    aplicação do Canny com a mask para a zona continental\n",
    "    \"\"\"\n",
    "    \n",
    "    #Pegar na df dum dia e converte-la num np array com os valores de Temperatura para os valores de long e lati\n",
    "    Temp = days.pivot_table(index='longitude', columns='latitude', values='thetao').T.values\n",
    "    \n",
    "    #Converter os valores de temperatura no formato uint8 com valores entre 0-255\n",
    "    Temp_day = ((Temp - np.nanmin(Temp)) * (1/(np.nanmax(Temp) - np.nanmin(Temp)) * 255)).astype('uint8')\n",
    "\n",
    "    Temp_day = np.flipud(Temp_day)   #flipud -> Reverse the order of elements along axis 0 (up/down).\n",
    "    \n",
    "    #if its MUR data we have to apply gaussian filter with certain sigma value (~5)\n",
    "    Temp_day = gaussian_filter(Temp_day, sigma=sigma)\n",
    "    \n",
    "    #apply the canny algorithm and plot the image with the edges\n",
    "    canny = cv2.Canny(Temp_day, Tmin, Tmax, L2gradient=False, apertureSize=apertureSize)\n",
    "    \n",
    "    mask = np.isnan(np.flipud(Temp))    #Boolean array é True onde o array original (Temp) tinha valores Nan\n",
    "    mask255 =np.where(mask,(np.ones(mask.shape))*255,0).astype(\"uint8\")   #array cujos pixels= 255 quando mask=True\n",
    "    #Fazer uma dilatação para assegurar que os pixeis que pertencem à costa não são considerados como frentes no canny\n",
    "    kernel = np.ones((3,3), np.uint8)\n",
    "    mask_dilated = cv2.dilate(mask255, kernel)\n",
    "    canny =np.ma.masked_where(mask_dilated==255, canny)\n",
    "    \n",
    "    return canny"
   ]
  },
  {
   "cell_type": "code",
   "execution_count": null,
   "id": "e5c8622d",
   "metadata": {},
   "outputs": [],
   "source": []
  },
  {
   "cell_type": "code",
   "execution_count": null,
   "id": "84505666",
   "metadata": {},
   "outputs": [],
   "source": []
  },
  {
   "cell_type": "code",
   "execution_count": null,
   "id": "e61905e5",
   "metadata": {},
   "outputs": [],
   "source": []
  },
  {
   "cell_type": "markdown",
   "id": "ffce388f",
   "metadata": {},
   "source": [
    "Duvida: No caso dos dados do MUR há um problema no calculo da frontal probability. Como se esta a aplicar um gaussian filter, para cada dia diferente os valores do array deixam de variar entre 0-255, passando a variar entre 0-x, ou seja no calculo da frontal probability não podemos dividir por 255.\n",
    "\n",
    "Depois creio que este x varia de imagem para imagem, portanto não se obteria a probabilidade correta se se dividisse a frontal probability pelo valor máximo que surge no array Temp_day (porque para um dia diferente esse maximo irá variar)"
   ]
  },
  {
   "cell_type": "code",
   "execution_count": 19,
   "id": "8a7312e3",
   "metadata": {},
   "outputs": [],
   "source": [
    "def frontal_prob(period, days, Tmin, Tmax, MUR=False, sigma=0, apertureSize=3):\n",
    "    \"\"\"\n",
    "    Função que retorna um array de shape (121, 169) com a frontal probability de cada pixel\n",
    "    \"\"\"\n",
    "    #if statment to define array shape based on which data it is\n",
    "    if MUR==False:\n",
    "        fp = np.zeros((121,169))\n",
    "    elif MUR==True: \n",
    "        fp = np.zeros((1001,1401))\n",
    "        \n",
    "    for day in period:\n",
    "        fp = fp + canny_creation(days[day], Tmin=Tmin, Tmax=Tmax, sigma=sigma, apertureSize=apertureSize)\n",
    "    \n",
    "    fp = fp/(len(period)*255)*100\n",
    "    \n",
    "    return fp"
   ]
  },
  {
   "cell_type": "code",
   "execution_count": null,
   "id": "598b8888",
   "metadata": {},
   "outputs": [],
   "source": []
  },
  {
   "cell_type": "code",
   "execution_count": null,
   "id": "5cac1144",
   "metadata": {},
   "outputs": [],
   "source": []
  },
  {
   "cell_type": "code",
   "execution_count": 20,
   "id": "ee05942a",
   "metadata": {},
   "outputs": [],
   "source": [
    "def visualization(period, days, Tmin, Tmax, MUR, sigma, apertureSize, vmin=None, vmax=None):\n",
    "    \n",
    "    \"\"\"\n",
    "    Função para visualizar o map of frontal probability e um histograma com as frontal probabilities\n",
    "    \"\"\"\n",
    "    \n",
    "    fp = frontal_prob(period=period, days=days, Tmin=Tmin, Tmax=Tmax, MUR=MUR, sigma=sigma, apertureSize=apertureSize)\n",
    "    \n",
    "    #fp=jas_data[Tmax]\n",
    "    \n",
    "    plt.rcParams[\"figure.figsize\"] = (15, 25)\n",
    "    fig = plt.figure()\n",
    "    ax1 = fig.add_subplot(2,1,1)\n",
    "    img = ax1.imshow(fp, vmin=vmin, vmax=vmax) \n",
    "    plt.colorbar(img, orientation='horizontal', fraction=0.025, pad=0.08, aspect=50)\n",
    "    plt.title(\"Map of frontal probability\", fontsize=20)\n",
    "\n",
    "    ax2 = fig.add_subplot(2,1,2)\n",
    "    ax2.hist(fp.flatten(), bins=100);\n",
    "    plt.xlabel('Frontal Probability',fontsize=10)\n",
    "    \n"
   ]
  },
  {
   "cell_type": "code",
   "execution_count": null,
   "id": "9a333d4f",
   "metadata": {},
   "outputs": [],
   "source": []
  },
  {
   "cell_type": "code",
   "execution_count": 31,
   "id": "4a66ed28",
   "metadata": {
    "scrolled": false
   },
   "outputs": [
    {
     "data": {
      "image/png": "[encoded data removed]",
      "text/plain": [
       "<Figure size 1080x1800 with 3 Axes>"
      ]
     },
     "metadata": {
      "needs_background": "light"
     },
     "output_type": "display_data"
    }
   ],
   "source": [
    "visualization(period = set2019_r, days=days_r, Tmin=90, Tmax=180, MUR=False, sigma=0, apertureSize=3, vmax=None)"
   ]
  },
  {
   "cell_type": "code",
   "execution_count": null,
   "id": "c1413e95",
   "metadata": {},
   "outputs": [],
   "source": []
  },
  {
   "cell_type": "code",
   "execution_count": null,
   "id": "35d5ed9d",
   "metadata": {},
   "outputs": [],
   "source": []
  },
  {
   "cell_type": "code",
   "execution_count": null,
   "id": "934d90c6",
   "metadata": {},
   "outputs": [],
   "source": []
  },
  {
   "cell_type": "code",
   "execution_count": null,
   "id": "c18e94e4",
   "metadata": {},
   "outputs": [],
   "source": []
  },
  {
   "cell_type": "code",
   "execution_count": null,
   "id": "6c9d8d6b",
   "metadata": {},
   "outputs": [],
   "source": []
  },
  {
   "cell_type": "code",
   "execution_count": null,
   "id": "10e8e155",
   "metadata": {},
   "outputs": [],
   "source": []
  },
  {
   "cell_type": "code",
   "execution_count": null,
   "id": "a3393016",
   "metadata": {},
   "outputs": [],
   "source": []
  }
 ],
 "metadata": {
  "kernelspec": {
   "display_name": "Python 3 (ipykernel)",
   "language": "python",
   "name": "python3"
  },
  "language_info": {
   "codemirror_mode": {
    "name": "ipython",
    "version": 3
   },
   "file_extension": ".py",
   "mimetype": "text/x-python",
   "name": "python",
   "nbconvert_exporter": "python",
   "pygments_lexer": "ipython3",
   "version": "3.8.10"
  }
 },
 "nbformat": 4,
 "nbformat_minor": 5
}
