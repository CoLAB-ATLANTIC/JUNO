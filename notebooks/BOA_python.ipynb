{
 "cells": [
  {
   "cell_type": "code",
   "execution_count": 1,
   "id": "4886b773",
   "metadata": {},
   "outputs": [],
   "source": [
    "import numpy as np\n",
    "from numpy import nanmedian\n",
    "import scipy\n",
    "import scipy.signal\n",
    "import math\n",
    "from numpy.fft import fft, ifft, rfft, fft2, ifft2\n",
    "import rasterio\n",
    "import pandas as pd\n",
    "import matplotlib.pyplot as plt\n"
   ]
  },
  {
   "cell_type": "code",
   "execution_count": null,
   "id": "0360a674",
   "metadata": {},
   "outputs": [],
   "source": []
  },
  {
   "cell_type": "code",
   "execution_count": null,
   "id": "61abd3fa",
   "metadata": {},
   "outputs": [],
   "source": []
  },
  {
   "cell_type": "code",
   "execution_count": 60,
   "id": "3de4d689",
   "metadata": {},
   "outputs": [],
   "source": [
    "def filt5(lon, lat, ingrid, nodata=np.nan):\n",
    "    \"\"\"\n",
    "    Find peaks in 5 directions. Flag as 5\n",
    "    Finds maximum of a 5x5 sliding window. If the central pixel is the maximum, this is flagged as a one.\n",
    "    All other pixels are flagged as zero.\n",
    "    \"\"\"\n",
    "    \n",
    "    nodatidx = ingrid.flatten()*np.nan ## creates single dim array with as much values as the matrix ingrid, with NANs\n",
    "    outgrid = np.zeros(ingrid.shape)   ## outgrid is a matrix with the shape of ingrid, full of Zeros\n",
    "    \n",
    "    #l1 = len(lon)\n",
    "    #l2 = len(lat)\n",
    "    l1 = len(lat)\n",
    "    l2 = len(lon)\n",
    "\n",
    "    \n",
    "    for i in range(3, l1-1):   \n",
    "        for j in range(3, l2-1):\n",
    "            subg = ingrid[(i-3):(i+2), (j-3):(j+2)] # return the last 5 rows of the last 5 columns of the matrix\n",
    "            if np.isnan(subg).sum()==25:    #if all values in submatrix subg are null values:\n",
    "                outgrid[i,j] = 0\n",
    "            else:\n",
    "                vec = np.array(subg).T.flatten()    # array with values of the transpose subg matrix\n",
    "                ma = np.argmax(subg.flatten())      # index with the maximum value of subg array\n",
    "               \n",
    "                mi = np.argmin(subg.flatten())      # index with the minimum value of subg array\n",
    "                \n",
    "                \n",
    "                if ma==12 or mi==12:     #se ma or mi se tratar do valor meio da matrix 5x5 (if the central pixel is the maximum)\n",
    "                    outgrid[i-1,j-1] = 1      #flagged as 1\n",
    "                else:\n",
    "                    outgrid[i-1,j-1] = 0      #all other pixels are flagged as 0\n",
    "    \n",
    "    return outgrid"
   ]
  },
  {
   "cell_type": "code",
   "execution_count": null,
   "id": "cc06e3e5",
   "metadata": {},
   "outputs": [],
   "source": []
  },
  {
   "cell_type": "code",
   "execution_count": null,
   "id": "36f688c2",
   "metadata": {},
   "outputs": [],
   "source": []
  },
  {
   "cell_type": "code",
   "execution_count": null,
   "id": "915488de",
   "metadata": {},
   "outputs": [],
   "source": []
  },
  {
   "cell_type": "code",
   "execution_count": 61,
   "id": "6016812d",
   "metadata": {},
   "outputs": [],
   "source": [
    "def filt3(lon, lat, ingrid, grid5):\n",
    "    \"\"\"\n",
    "    Find peaks in 3 directions. FLag as 3\n",
    "    Returns a median smoothed grid of satellite data\n",
    "    \"\"\"\n",
    "    \n",
    "    outgrid = ingrid*0   # matrix of 0s with shape of ingrid matrix\n",
    "    #l1=len(lon)\n",
    "    #l2=len(lat)\n",
    "    l1 = len(lat)\n",
    "    l2 = len(lon)\n",
    "    \n",
    "    for i in range(3, l1-1):   \n",
    "        for j in range(3, l2-1):\n",
    "            if (grid5[i,j]==0):\n",
    "                subg = ingrid[(i-2):(i+1), (j-2):(j+1)]       # submatrix subg (3x3) \n",
    "                if np.isnan(subg).sum()==9:                   # if all values in submatrix subg (3x3) are null values:\n",
    "                    outgrid[i-1,j-1] = ingrid[i-1,j-1]\n",
    "                else:\n",
    "                    vec = np.array(subg).T.flatten()          # array with values of the transpose subg matrix\n",
    "                    ma = np.argmax(subg.flatten())            # index with the maximum value of subg array\n",
    "                    mi = np.argmin(subg.flatten())            # index with the minimum value of subg array\n",
    "                    \n",
    "                    if (ma==4 or mi==4):                      #se ma or mi se tratar do valor meio da matrix 3x3\n",
    "                        outgrid[i-1,j-1] = nanmedian(subg)    # median while ignoring NaNs.\n",
    "                    else:\n",
    "                        outgrid[i-1,j-1] = ingrid[i-1,j-1]\n",
    "            \n",
    "            else:\n",
    "                outgrid[i-1,j-1] = ingrid[i-1,j-1]\n",
    "                \n",
    "    return outgrid"
   ]
  },
  {
   "cell_type": "code",
   "execution_count": null,
   "id": "9daaa53a",
   "metadata": {},
   "outputs": [],
   "source": []
  },
  {
   "cell_type": "code",
   "execution_count": 62,
   "id": "898f119b",
   "metadata": {},
   "outputs": [],
   "source": [
    "def boa(lon, lat, ingrid, nodata = np.nan, direction = False):\n",
    "    \n",
    "    def filter2(x, filt):\n",
    "        \"\"\"\n",
    "        Workhorse filter from EBImage. Modified so we don't need colorspace and other annoying requirements ????\n",
    "        \"\"\"\n",
    "        \n",
    "        dx = x.shape                          \n",
    "        df = filt.shape  \n",
    "        \n",
    "        if (df[0]//2 == 0) or (df[1]//2 == 0):\n",
    "            sys.exit('dimensions of \"filter\" matrix must be odd')\n",
    "        if (dx[0] < df[0]) or (dx[1] < df[1]):\n",
    "            sys.exit(\"dimensions of 'x' must be bigger than 'filter'\")\n",
    "            \n",
    "        cx = tuple(elem//2 for elem in dx)    \n",
    "        cf = tuple(elem//2 for elem in df)    \n",
    "\n",
    "        wf = np.zeros(shape=dx)       #matrix with zeros with shape of x\n",
    "\n",
    "        wf[cx[0]-cf[0]-1:cx[0]+cf[0], cx[1]-cf[1]-1:cx[1]+cf[1]] = filt    #colocar valores de filt nos meio da matriz wf\n",
    "\n",
    "        wf = fft2(wf)         #apply the 2 dimensional discrete fourier transform                  \n",
    "    \n",
    "        dim_x = np.array(dx[0:2])\n",
    "        dim_x =np.append(dim_x, math.prod(dx)/math.prod(dx[0:2]))     \n",
    "\n",
    "        aux1 = np.arange(cx[0],dx[0]+1)\n",
    "        aux2 = np.arange(1,cx[0])\n",
    "        index1 = np.concatenate((aux1, aux2), axis=None)  \n",
    "        index1 = index1-1   \n",
    "\n",
    "        aux3 = np.arange(cx[1], dx[1]+1)\n",
    "        aux4 = np.arange(1,cx[1])\n",
    "        index2 = np.concatenate((aux3, aux4), axis=None) \n",
    "        index2 = index2-1   \n",
    "        \n",
    "        #estes index vao ser usados para reordenar valores da matriz y\n",
    "        \n",
    "        y = (scipy.fft.ifft2(scipy.fft.fft2(x)*wf)).real\n",
    "\n",
    "        y = np.array([[y[i][j] for j in index2] for i in index1])\n",
    "        \n",
    "        return y\n",
    "    \n",
    "#======================================================#\n",
    "# Main BOA algorithm                                   \n",
    "#======================================================#      \n",
    "    gx = np.matrix([[-1,0,1],[-2,0,2],[-1,0,1]])        #filter in x\n",
    "    gy = np.matrix([[1,2,1],[0,0,0],[-1,-2,-1]])        #filter in y\n",
    "        \n",
    "    np.nan_to_num(ingrid, nan=-9999, posinf=-9999, neginf=-9999) ##replace NaN and inf values with -9999\n",
    "        \n",
    "    grid5 = filt5(lon, lat, ingrid, nodata = nodata)\n",
    "    grid35 = filt3(lon, lat, ingrid, grid5)\n",
    "\n",
    "    # make an index of bad values and land pixels.\n",
    "    grid35 = grid35.astype(\"float\")\n",
    "    grid35[grid35 == -9999]=np.nan\n",
    "    naidx = np.isnan(grid35)        #matriz com dimensões de grid35 (True se valor for nan, False caso contrario)\n",
    "    # convert these (True values of naidx) to zeros (in grid35) for smoothing purposes\n",
    "    grid35[naidx]=0  \n",
    "\n",
    "    # perform the smoothing (Sobel filter)  \n",
    "    tgx = filter2(grid35, gx)\n",
    "    tgy = filter2(grid35, gy)\n",
    "        \n",
    "    tx = tgx/np.nansum(abs(np.array(gx).flatten()))    #tgx a dividir pela soma dos valores absolutos do filtro gx\n",
    "    ty = tgy/np.nansum(abs(np.array(gy).flatten()))    #tgy a dividir pela soma dos valores absolutos do filtro gy\n",
    "    front = np.sqrt((tx**2)+(ty**2))                   #front é raiz quadrada da soma dos quadrados dos valores de tx e ty\n",
    "\n",
    "\n",
    "#======================================================#\n",
    "# landmask and edge dilation\n",
    "#======================================================#\n",
    "\n",
    "    land = naidx*1\n",
    "    land = land.astype(\"float\")\n",
    "\n",
    "    land[land==1] = np.nan\n",
    "    land[~np.isnan(land)] = 1\n",
    "\n",
    "    \n",
    "#======================================================#\n",
    "# landmask and edge dilation using raster!\n",
    "#======================================================#\n",
    "\n",
    "    l2=lon.size    #using size because lon and lat are matrices\n",
    "    l1=lat.size\n",
    "\n",
    "    midx = land*np.nan\n",
    "\n",
    "    midx[5:(l1-2), 5:(l2-2)] = 1\n",
    "\n",
    "    land = np.multiply(land, midx)\n",
    "    \n",
    "    \n",
    "    ssr = np.flip(front.T, 0)\n",
    "    \n",
    "\n",
    "    #Apply a sliding window kernell to the land matrix\n",
    "    mask = scipy.signal.convolve2d(np.flip(land.T, 0), np.array([0,0,0,0,1,0,0,0,0]).reshape(3,3), boundary='symm', mode='same')\n",
    "\n",
    "    matrix_front =  mask * np.flip(front.T, 0)   #matrix of mask raster file * matrix of ssr raster file\n",
    "\n",
    "\n",
    "    \n",
    "    if direction==True:\n",
    "#   ************************************\n",
    "#   *** Calculate Gradient Direction ***\n",
    "#   ************************************\n",
    "        \n",
    "        n = ingrid.size       #nr os elements of the grid matrix\n",
    "        grid_shape = ingrid.shape\n",
    "\n",
    "        GRAD_DIR = np.zeros(n)     #matrix of zeros with shape of ingrid matrix\n",
    "\n",
    "        for i in range(n):\n",
    "            GRAD_DIR[i] = math.atan2(tgy.flatten()[i], tgx.flatten()[i])\n",
    "    \n",
    "        GRAD_DIR = GRAD_DIR*180/math.pi    # change radians to degrees\n",
    "\n",
    "        OK = np.where(GRAD_DIR < 0)\n",
    "\n",
    "        OK = np.array(OK)\n",
    "\n",
    "        if OK.size >1:\n",
    "            GRAD_DIR[OK] = 360 - abs(GRAD_DIR[OK])    #Adjust to 0-360 scheme (make negative degrees positive)\n",
    "    \n",
    "        GRAD_DIR = (360 - GRAD_DIR + 90) % 360     #Convert degrees so that 0 degrees is North and East is 90 degrees\n",
    "        GRAD_DIR = GRAD_DIR.reshape(grid_shape)\n",
    "        \n",
    "        \n",
    "        grad_dir = np.flip(GRAD_DIR.T, 0)\n",
    "\n",
    "\n",
    "        # create array grdir (result from multiplication of grad_dir_matrix and mask_matrix (its the conv matrix))\n",
    "        grdir_matrix = np.flip(GRAD_DIR.T, 0)*mask\n",
    "\n",
    "\n",
    "        #No R eles pôem numa named_list por isso aqui pus num dicionário (algo equivalente)\n",
    "        dic = {'grdir': grdir_matrix, 'front': matrix_front}\n",
    "        \n",
    "    else:\n",
    "        matrix_front\n",
    "\n",
    "        \n",
    "    return matrix_front"
   ]
  },
  {
   "cell_type": "code",
   "execution_count": null,
   "id": "e6bf1fbc",
   "metadata": {},
   "outputs": [],
   "source": []
  },
  {
   "cell_type": "code",
   "execution_count": null,
   "id": "9c555266",
   "metadata": {},
   "outputs": [],
   "source": []
  },
  {
   "cell_type": "code",
   "execution_count": null,
   "id": "c65ba74e",
   "metadata": {},
   "outputs": [],
   "source": []
  },
  {
   "cell_type": "code",
   "execution_count": null,
   "id": "c3f45610",
   "metadata": {},
   "outputs": [],
   "source": []
  },
  {
   "cell_type": "code",
   "execution_count": null,
   "id": "2f362b8d",
   "metadata": {},
   "outputs": [],
   "source": []
  },
  {
   "cell_type": "code",
   "execution_count": null,
   "id": "670c9195",
   "metadata": {},
   "outputs": [],
   "source": []
  },
  {
   "cell_type": "markdown",
   "id": "0a96c910",
   "metadata": {},
   "source": [
    "### Interpretação dos valores obtidos através do BOA algorithm\n",
    "\n"
   ]
  },
  {
   "cell_type": "code",
   "execution_count": 326,
   "id": "2865a946",
   "metadata": {},
   "outputs": [],
   "source": [
    "from scipy.ndimage import rotate"
   ]
  },
  {
   "cell_type": "code",
   "execution_count": null,
   "id": "fe0ed463",
   "metadata": {},
   "outputs": [],
   "source": []
  },
  {
   "cell_type": "code",
   "execution_count": 585,
   "id": "6f38dfb8",
   "metadata": {},
   "outputs": [],
   "source": [
    "test = np.ones((100,100))     \n",
    "test[:, 20:30] = 9\n",
    "#Dummy matrix de 1s mas com uma linha vertical de 9s"
   ]
  },
  {
   "cell_type": "code",
   "execution_count": 587,
   "id": "b1024623",
   "metadata": {},
   "outputs": [
    {
     "data": {
      "text/plain": [
       "<matplotlib.image.AxesImage at 0x7f636ed3f8b0>"
      ]
     },
     "execution_count": 587,
     "metadata": {},
     "output_type": "execute_result"
    },
    {
     "data": {
      "image/png": "[encoded data removed]",
      "text/plain": [
       "<Figure size 720x576 with 1 Axes>"
      ]
     },
     "metadata": {
      "needs_background": "light"
     },
     "output_type": "display_data"
    }
   ],
   "source": [
    "plt.imshow(test)"
   ]
  },
  {
   "cell_type": "code",
   "execution_count": 586,
   "id": "acdce9e6",
   "metadata": {},
   "outputs": [],
   "source": [
    "# matrizes de longitude e latitude necessárias para a aplicação da função BOA\n",
    "lon2 = np.arange(100)\n",
    "lat2 = np.arange(100)"
   ]
  },
  {
   "cell_type": "code",
   "execution_count": 588,
   "id": "74945b3b",
   "metadata": {},
   "outputs": [],
   "source": [
    "front_dummy = boa(lon=lon2, lat=lat2, ingrid=test, nodata = np.nan, direction = False)"
   ]
  },
  {
   "cell_type": "code",
   "execution_count": 590,
   "id": "29c411c0",
   "metadata": {},
   "outputs": [],
   "source": [
    "front_dummy = np.flip(front_dummy, axis=0)\n",
    "front_dummy = np.array([[front_dummy[j][i] for j in range(len(front_dummy))] for i in range(len(front_dummy[0])-1,-1,-1)])\n"
   ]
  },
  {
   "cell_type": "code",
   "execution_count": 592,
   "id": "41308c69",
   "metadata": {},
   "outputs": [
    {
     "data": {
      "text/plain": [
       "<matplotlib.colorbar.Colorbar at 0x7f636ebf1280>"
      ]
     },
     "execution_count": 592,
     "metadata": {},
     "output_type": "execute_result"
    },
    {
     "data": {
      "image/png": "[encoded data removed]",
      "text/plain": [
       "<Figure size 720x576 with 2 Axes>"
      ]
     },
     "metadata": {
      "needs_background": "light"
     },
     "output_type": "display_data"
    }
   ],
   "source": [
    "plt.imshow(front_dummy)\n",
    "plt.colorbar()"
   ]
  },
  {
   "cell_type": "markdown",
   "id": "d34dfcd3",
   "metadata": {},
   "source": [
    "#### Conclusão:\n",
    "\n",
    "Como se pode ver, a aplicação do BOA na dummy matrix retorna-nos duas \"frentes\" cujo valor é 4. Ora como a diferença entre os valores dos pixeis era 8 (9-1) então os valores retornados no BOA são metade da \"diferença de temperaturas originais\""
   ]
  },
  {
   "cell_type": "code",
   "execution_count": null,
   "id": "1c9d662d",
   "metadata": {},
   "outputs": [],
   "source": []
  },
  {
   "cell_type": "code",
   "execution_count": null,
   "id": "a0a63c1c",
   "metadata": {},
   "outputs": [],
   "source": []
  },
  {
   "cell_type": "code",
   "execution_count": null,
   "id": "309b9936",
   "metadata": {},
   "outputs": [],
   "source": []
  },
  {
   "cell_type": "code",
   "execution_count": null,
   "id": "60b55fd3",
   "metadata": {},
   "outputs": [],
   "source": []
  },
  {
   "cell_type": "markdown",
   "id": "1df18cd3",
   "metadata": {},
   "source": [
    "### Brincar com Matrizes"
   ]
  },
  {
   "cell_type": "code",
   "execution_count": null,
   "id": "4b3204f6",
   "metadata": {},
   "outputs": [],
   "source": []
  },
  {
   "cell_type": "code",
   "execution_count": 334,
   "id": "17f5f625",
   "metadata": {},
   "outputs": [],
   "source": [
    "plt.rcParams[\"figure.figsize\"] = 10, 8"
   ]
  },
  {
   "cell_type": "code",
   "execution_count": 568,
   "id": "acb39941",
   "metadata": {},
   "outputs": [],
   "source": [
    "test = np.ones((100,100))\n",
    "\n",
    "#estas variaveis definem os limites horizontais e verticais do quadrado interios\n",
    "h1 = int(test.shape[0]/2-20)\n",
    "h2 = int(test.shape[0]/2+20)\n",
    "v1 = int(test.shape[1]/2-20)\n",
    "v2 = int(test.shape[1]/2+20)\n",
    "\n",
    "test[h1:h2, v1:v2] = 5    #criar um quadrado com aqueles limites estabelecidos acima\n",
    "\n",
    "#test[int(test.shape[0]/2):int(test.shape[0]/2+20), int(test.shape[1]/2-20):int(test.shape[1]/2+20)] = 5"
   ]
  },
  {
   "cell_type": "code",
   "execution_count": 569,
   "id": "9caf8dbc",
   "metadata": {},
   "outputs": [
    {
     "data": {
      "image/png": "[encoded data removed]",
      "text/plain": [
       "<Figure size 720x576 with 1 Axes>"
      ]
     },
     "metadata": {
      "needs_background": "light"
     },
     "output_type": "display_data"
    }
   ],
   "source": [
    "plt.imshow(test);"
   ]
  },
  {
   "cell_type": "code",
   "execution_count": null,
   "id": "4eee6cc3",
   "metadata": {},
   "outputs": [],
   "source": []
  },
  {
   "cell_type": "code",
   "execution_count": null,
   "id": "03aa1b84",
   "metadata": {},
   "outputs": [],
   "source": []
  },
  {
   "cell_type": "code",
   "execution_count": 570,
   "id": "f4a9b9c5",
   "metadata": {},
   "outputs": [],
   "source": [
    "#estas variaveis servem para definir a diagonal que cruza o quadrado da matriz\n",
    "d1 = list(range(h1, v2))\n",
    "d2 = list(range(h1, v2))"
   ]
  },
  {
   "cell_type": "code",
   "execution_count": 571,
   "id": "88e794b3",
   "metadata": {},
   "outputs": [],
   "source": [
    "test[d1, d2] = 20"
   ]
  },
  {
   "cell_type": "code",
   "execution_count": 572,
   "id": "3f3d3db7",
   "metadata": {},
   "outputs": [
    {
     "data": {
      "image/png": "[encoded data removed]",
      "text/plain": [
       "<Figure size 720x576 with 1 Axes>"
      ]
     },
     "metadata": {
      "needs_background": "light"
     },
     "output_type": "display_data"
    }
   ],
   "source": [
    "plt.imshow(test);"
   ]
  },
  {
   "cell_type": "code",
   "execution_count": 573,
   "id": "aac1966d",
   "metadata": {},
   "outputs": [],
   "source": [
    "new_d1 = np.arange(h1,v2-10)\n",
    "new_d2 = np.arange(h1+10, v2)"
   ]
  },
  {
   "cell_type": "code",
   "execution_count": 574,
   "id": "4113069c",
   "metadata": {},
   "outputs": [],
   "source": [
    "test[new_d1, new_d2] = 40"
   ]
  },
  {
   "cell_type": "code",
   "execution_count": 575,
   "id": "d04d0be8",
   "metadata": {},
   "outputs": [
    {
     "data": {
      "text/plain": [
       "<matplotlib.image.AxesImage at 0x7f636ef0efd0>"
      ]
     },
     "execution_count": 575,
     "metadata": {},
     "output_type": "execute_result"
    },
    {
     "data": {
      "image/png": "[encoded data removed]",
      "text/plain": [
       "<Figure size 720x576 with 1 Axes>"
      ]
     },
     "metadata": {
      "needs_background": "light"
     },
     "output_type": "display_data"
    }
   ],
   "source": [
    "plt.imshow(test)"
   ]
  },
  {
   "cell_type": "code",
   "execution_count": null,
   "id": "1c86c7ff",
   "metadata": {},
   "outputs": [],
   "source": []
  },
  {
   "cell_type": "code",
   "execution_count": 576,
   "id": "662381aa",
   "metadata": {},
   "outputs": [],
   "source": [
    "new2_d1 = np.arange(h1,v2-20)\n",
    "new2_d2 = np.arange(h1+20, v2)"
   ]
  },
  {
   "cell_type": "code",
   "execution_count": 577,
   "id": "9be59614",
   "metadata": {},
   "outputs": [],
   "source": [
    "test[new2_d1, new2_d2] = 60"
   ]
  },
  {
   "cell_type": "code",
   "execution_count": 578,
   "id": "da7476d6",
   "metadata": {},
   "outputs": [
    {
     "data": {
      "text/plain": [
       "<matplotlib.image.AxesImage at 0x7f636ee62730>"
      ]
     },
     "execution_count": 578,
     "metadata": {},
     "output_type": "execute_result"
    },
    {
     "data": {
      "image/png": "[encoded data removed]",
      "text/plain": [
       "<Figure size 720x576 with 1 Axes>"
      ]
     },
     "metadata": {
      "needs_background": "light"
     },
     "output_type": "display_data"
    }
   ],
   "source": [
    "plt.imshow(test)"
   ]
  },
  {
   "cell_type": "code",
   "execution_count": null,
   "id": "a5e40248",
   "metadata": {},
   "outputs": [],
   "source": []
  },
  {
   "cell_type": "code",
   "execution_count": null,
   "id": "6115f4d8",
   "metadata": {},
   "outputs": [],
   "source": []
  },
  {
   "cell_type": "code",
   "execution_count": 579,
   "id": "10c7f2d3",
   "metadata": {},
   "outputs": [],
   "source": [
    "lon2 = np.arange(100)\n",
    "lat2 = np.arange(100)\n"
   ]
  },
  {
   "cell_type": "code",
   "execution_count": 580,
   "id": "c9dcacde",
   "metadata": {},
   "outputs": [],
   "source": [
    "front2 = boa(lon=lon2, lat=lat2, ingrid=test, nodata = np.nan, direction = False)"
   ]
  },
  {
   "cell_type": "code",
   "execution_count": 583,
   "id": "9289ab3b",
   "metadata": {},
   "outputs": [
    {
     "data": {
      "text/plain": [
       "array([[nan, nan, nan, ..., nan, nan, nan],\n",
       "       [nan, nan, nan, ..., nan, nan, nan],\n",
       "       [nan, nan, nan, ..., nan, nan, nan],\n",
       "       ...,\n",
       "       [nan, nan, nan, ..., nan, nan, nan],\n",
       "       [nan, nan, nan, ..., nan, nan, nan],\n",
       "       [nan, nan, nan, ..., nan, nan, nan]])"
      ]
     },
     "execution_count": 583,
     "metadata": {},
     "output_type": "execute_result"
    }
   ],
   "source": [
    "#front2 = np.flip(front2, axis=0)\n",
    "front2 = np.array([[front2[j][i] for j in range(len(front2))] for i in range(len(front2[0])-1,-1,-1)])\n",
    "front2\n"
   ]
  },
  {
   "cell_type": "code",
   "execution_count": null,
   "id": "a3572545",
   "metadata": {},
   "outputs": [],
   "source": [
    "\n"
   ]
  },
  {
   "cell_type": "code",
   "execution_count": 584,
   "id": "f981f02a",
   "metadata": {},
   "outputs": [
    {
     "data": {
      "text/plain": [
       "<matplotlib.colorbar.Colorbar at 0x7f636ed72d30>"
      ]
     },
     "execution_count": 584,
     "metadata": {},
     "output_type": "execute_result"
    },
    {
     "data": {
      "image/png": "[encoded data removed]",
      "text/plain": [
       "<Figure size 720x576 with 2 Axes>"
      ]
     },
     "metadata": {
      "needs_background": "light"
     },
     "output_type": "display_data"
    }
   ],
   "source": [
    "plt.imshow(front2)\n",
    "plt.colorbar()"
   ]
  },
  {
   "cell_type": "code",
   "execution_count": 179,
   "id": "cc4cd69e",
   "metadata": {},
   "outputs": [
    {
     "data": {
      "text/plain": [
       "2.0"
      ]
     },
     "execution_count": 179,
     "metadata": {},
     "output_type": "execute_result"
    }
   ],
   "source": [
    "np.nanmax(front2)"
   ]
  },
  {
   "cell_type": "code",
   "execution_count": 150,
   "id": "9659b57d",
   "metadata": {},
   "outputs": [],
   "source": [
    "y = front2.flatten()"
   ]
  },
  {
   "cell_type": "code",
   "execution_count": 132,
   "id": "c0a6639f",
   "metadata": {},
   "outputs": [
    {
     "data": {
      "image/png": "[encoded data removed]",
      "text/plain": [
       "<Figure size 432x288 with 1 Axes>"
      ]
     },
     "metadata": {
      "needs_background": "light"
     },
     "output_type": "display_data"
    }
   ],
   "source": [
    "plt.hist(y[y>1], bins=100);"
   ]
  },
  {
   "cell_type": "code",
   "execution_count": 151,
   "id": "7faf029f",
   "metadata": {},
   "outputs": [
    {
     "data": {
      "text/plain": [
       "3.9999999999999987"
      ]
     },
     "execution_count": 151,
     "metadata": {},
     "output_type": "execute_result"
    }
   ],
   "source": [
    "np.nanmin(y[y>1])"
   ]
  },
  {
   "cell_type": "code",
   "execution_count": null,
   "id": "8d13e844",
   "metadata": {},
   "outputs": [],
   "source": []
  }
 ],
 "metadata": {
  "kernelspec": {
   "display_name": "Python 3 (ipykernel)",
   "language": "python",
   "name": "python3"
  },
  "language_info": {
   "codemirror_mode": {
    "name": "ipython",
    "version": 3
   },
   "file_extension": ".py",
   "mimetype": "text/x-python",
   "name": "python",
   "nbconvert_exporter": "python",
   "pygments_lexer": "ipython3",
   "version": "3.8.10"
  }
 },
 "nbformat": 4,
 "nbformat_minor": 5
}
