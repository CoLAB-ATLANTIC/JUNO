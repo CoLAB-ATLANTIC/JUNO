{
 "cells": [
  {
   "cell_type": "code",
   "execution_count": 1,
   "id": "4886b773",
   "metadata": {},
   "outputs": [],
   "source": [
    "import numpy as np\n",
    "from numpy import nanmedian\n",
    "import scipy\n",
    "import scipy.signal\n",
    "import math\n",
    "from numpy.fft import fft, ifft, rfft, fft2, ifft2\n",
    "import rasterio\n",
    "import pandas as pd\n",
    "import matplotlib.pyplot as plt\n"
   ]
  },
  {
   "cell_type": "code",
   "execution_count": null,
   "id": "0360a674",
   "metadata": {},
   "outputs": [],
   "source": []
  },
  {
   "cell_type": "code",
   "execution_count": null,
   "id": "61abd3fa",
   "metadata": {},
   "outputs": [],
   "source": []
  },
  {
   "cell_type": "code",
   "execution_count": 2,
   "id": "3de4d689",
   "metadata": {},
   "outputs": [],
   "source": [
    "def filt5(lon, lat, ingrid, nodata=np.nan):\n",
    "    \"\"\"\n",
    "    Find peaks in 5 directions. Flag as 5\n",
    "    Finds maximum of a 5x5 sliding window. If the central pixel is the maximum, this is flagged as a one.\n",
    "    All other pixels are flagged as zero.\n",
    "    \"\"\"\n",
    "    \n",
    "    nodatidx = ingrid.flatten()*np.nan ## creates single dim array with as much values as the matrix ingrid, with NANs\n",
    "    outgrid = np.zeros(ingrid.shape)   ## outgrid is a matrix with the shape of ingrid, full of Zeros\n",
    "    \n",
    "    #l1 = len(lon)\n",
    "    #l2 = len(lat)\n",
    "    l1 = len(lat)\n",
    "    l2 = len(lon)\n",
    "\n",
    "    \n",
    "    for i in range(3, l1-1):   \n",
    "        for j in range(3, l2-1):\n",
    "            subg = ingrid[(i-3):(i+2), (j-3):(j+2)] # return the last 5 rows of the last 5 columns of the matrix\n",
    "            if np.isnan(subg).sum()==25:    #if all values in submatrix subg are null values:\n",
    "                outgrid[i,j] = 0\n",
    "            else:\n",
    "                vec = np.array(subg).T.flatten()    # array with values of the transpose subg matrix\n",
    "                ma = np.argmax(subg.flatten())      # index with the maximum value of subg array\n",
    "               \n",
    "                mi = np.argmin(subg.flatten())      # index with the minimum value of subg array\n",
    "                \n",
    "                \n",
    "                if ma==12 or mi==12:     #se ma or mi se tratar do valor meio da matrix 5x5 (if the central pixel is the maximum)\n",
    "                    outgrid[i-1,j-1] = 1      #flagged as 1\n",
    "                else:\n",
    "                    outgrid[i-1,j-1] = 0      #all other pixels are flagged as 0\n",
    "    \n",
    "    return outgrid"
   ]
  },
  {
   "cell_type": "code",
   "execution_count": null,
   "id": "cc06e3e5",
   "metadata": {},
   "outputs": [],
   "source": []
  },
  {
   "cell_type": "code",
   "execution_count": null,
   "id": "36f688c2",
   "metadata": {},
   "outputs": [],
   "source": []
  },
  {
   "cell_type": "code",
   "execution_count": null,
   "id": "915488de",
   "metadata": {},
   "outputs": [],
   "source": []
  },
  {
   "cell_type": "code",
   "execution_count": 3,
   "id": "6016812d",
   "metadata": {},
   "outputs": [],
   "source": [
    "def filt3(lon, lat, ingrid, grid5):\n",
    "    \"\"\"\n",
    "    Find peaks in 3 directions. FLag as 3\n",
    "    Returns a median smoothed grid of satellite data\n",
    "    \"\"\"\n",
    "    \n",
    "    outgrid = ingrid*0   # matrix of 0s with shape of ingrid matrix\n",
    "    #l1=len(lon)\n",
    "    #l2=len(lat)\n",
    "    l1 = len(lat)\n",
    "    l2 = len(lon)\n",
    "    \n",
    "    for i in range(3, l1-1):   \n",
    "        for j in range(3, l2-1):\n",
    "            if (grid5[i,j]==0):\n",
    "                subg = ingrid[(i-2):(i+1), (j-2):(j+1)]       # submatrix subg (3x3) \n",
    "                if np.isnan(subg).sum()==9:                   # if all values in submatrix subg (3x3) are null values:\n",
    "                    outgrid[i-1,j-1] = ingrid[i-1,j-1]\n",
    "                else:\n",
    "                    vec = np.array(subg).T.flatten()          # array with values of the transpose subg matrix\n",
    "                    ma = np.argmax(subg.flatten())            # index with the maximum value of subg array\n",
    "                    mi = np.argmin(subg.flatten())            # index with the minimum value of subg array\n",
    "                    \n",
    "                    if (ma==4 or mi==4):                      #se ma or mi se tratar do valor meio da matrix 3x3\n",
    "                        outgrid[i-1,j-1] = nanmedian(subg)    # median while ignoring NaNs.\n",
    "                    else:\n",
    "                        outgrid[i-1,j-1] = ingrid[i-1,j-1]\n",
    "            \n",
    "            else:\n",
    "                outgrid[i-1,j-1] = ingrid[i-1,j-1]\n",
    "                \n",
    "    return outgrid"
   ]
  },
  {
   "cell_type": "code",
   "execution_count": null,
   "id": "9daaa53a",
   "metadata": {},
   "outputs": [],
   "source": []
  },
  {
   "cell_type": "code",
   "execution_count": 4,
   "id": "898f119b",
   "metadata": {},
   "outputs": [],
   "source": [
    "def boa(lon, lat, ingrid, nodata = np.nan, direction = False):\n",
    "    \n",
    "    def filter2(x, filt):\n",
    "        \"\"\"\n",
    "        Workhorse filter from EBImage. Modified so we don't need colorspace and other annoying requirements ????\n",
    "        \"\"\"\n",
    "        \n",
    "        dx = x.shape                          \n",
    "        df = filt.shape  \n",
    "        \n",
    "        if (df[0]//2 == 0) or (df[1]//2 == 0):\n",
    "            sys.exit('dimensions of \"filter\" matrix must be odd')\n",
    "        if (dx[0] < df[0]) or (dx[1] < df[1]):\n",
    "            sys.exit(\"dimensions of 'x' must be bigger than 'filter'\")\n",
    "            \n",
    "        cx = tuple(elem//2 for elem in dx)    \n",
    "        cf = tuple(elem//2 for elem in df)    \n",
    "\n",
    "        wf = np.zeros(shape=dx)       #matrix with zeros with shape of x\n",
    "\n",
    "        wf[cx[0]-cf[0]-1:cx[0]+cf[0], cx[1]-cf[1]-1:cx[1]+cf[1]] = filt    #colocar valores de filt nos meio da matriz wf\n",
    "\n",
    "        wf = fft2(wf)         #apply the 2 dimensional discrete fourier transform                  \n",
    "    \n",
    "        dim_x = np.array(dx[0:2])\n",
    "        dim_x =np.append(dim_x, math.prod(dx)/math.prod(dx[0:2]))     \n",
    "\n",
    "        aux1 = np.arange(cx[0],dx[0]+1)\n",
    "        aux2 = np.arange(1,cx[0])\n",
    "        index1 = np.concatenate((aux1, aux2), axis=None)  \n",
    "        index1 = index1-1   \n",
    "\n",
    "        aux3 = np.arange(cx[1], dx[1]+1)\n",
    "        aux4 = np.arange(1,cx[1])\n",
    "        index2 = np.concatenate((aux3, aux4), axis=None) \n",
    "        index2 = index2-1   \n",
    "        \n",
    "        #estes index vao ser usados para reordenar valores da matriz y\n",
    "        \n",
    "        y = (scipy.fft.ifft2(scipy.fft.fft2(x)*wf)).real\n",
    "\n",
    "        y = np.array([[y[i][j] for j in index2] for i in index1])\n",
    "        \n",
    "        return y\n",
    "    \n",
    "#======================================================#\n",
    "# Main BOA algorithm                                   \n",
    "#======================================================#      \n",
    "    gx = np.matrix([[-1,0,1],[-2,0,2],[-1,0,1]])        #filter in x\n",
    "    gy = np.matrix([[1,2,1],[0,0,0],[-1,-2,-1]])        #filter in y\n",
    "        \n",
    "    np.nan_to_num(ingrid, nan=-9999, posinf=-9999, neginf=-9999) ##replace NaN and inf values with -9999\n",
    "        \n",
    "    grid5 = filt5(lon, lat, ingrid, nodata = nodata)\n",
    "    grid35 = filt3(lon, lat, ingrid, grid5)\n",
    "\n",
    "    # make an index of bad values and land pixels.\n",
    "    grid35 = grid35.astype(\"float\")\n",
    "    grid35[grid35 == -9999]=np.nan\n",
    "    naidx = np.isnan(grid35)        #matriz com dimensões de grid35 (True se valor for nan, False caso contrario)\n",
    "    # convert these (True values of naidx) to zeros (in grid35) for smoothing purposes\n",
    "    grid35[naidx]=0  \n",
    "\n",
    "    # perform the smoothing (Sobel filter)  \n",
    "    tgx = filter2(grid35, gx)\n",
    "    tgy = filter2(grid35, gy)\n",
    "        \n",
    "    tx = tgx/np.nansum(abs(np.array(gx).flatten()))    #tgx a dividir pela soma dos valores absolutos do filtro gx\n",
    "    ty = tgy/np.nansum(abs(np.array(gy).flatten()))    #tgy a dividir pela soma dos valores absolutos do filtro gy\n",
    "    front = np.sqrt((tx**2)+(ty**2))                   #front é raiz quadrada da soma dos quadrados dos valores de tx e ty\n",
    "\n",
    "\n",
    "#======================================================#\n",
    "# landmask and edge dilation\n",
    "#======================================================#\n",
    "\n",
    "    land = naidx*1\n",
    "    land = land.astype(\"float\")\n",
    "\n",
    "    land[land==1] = np.nan\n",
    "    land[~np.isnan(land)] = 1\n",
    "\n",
    "    \n",
    "#======================================================#\n",
    "# landmask and edge dilation using raster!\n",
    "#======================================================#\n",
    "\n",
    "    l2=lon.size    #using size because lon and lat are matrices\n",
    "    l1=lat.size\n",
    "\n",
    "    midx = land*np.nan\n",
    "\n",
    "    midx[5:(l1-2), 5:(l2-2)] = 1\n",
    "\n",
    "    land = np.multiply(land, midx)\n",
    "    \n",
    "    \n",
    "    ssr = np.flip(front.T, 0)\n",
    "    \n",
    "\n",
    "    #Apply a sliding window kernell to the land matrix\n",
    "    mask = scipy.signal.convolve2d(np.flip(land.T, 0), np.array([0,0,0,0,1,0,0,0,0]).reshape(3,3), boundary='symm', mode='same')\n",
    "\n",
    "    matrix_front =  mask * np.flip(front.T, 0)   #matrix of mask raster file * matrix of ssr raster file\n",
    "\n",
    "\n",
    "    \n",
    "    if direction==True:\n",
    "#   ************************************\n",
    "#   *** Calculate Gradient Direction ***\n",
    "#   ************************************\n",
    "        \n",
    "        n = ingrid.size       #nr os elements of the grid matrix\n",
    "        grid_shape = ingrid.shape\n",
    "\n",
    "        GRAD_DIR = np.zeros(n)     #matrix of zeros with shape of ingrid matrix\n",
    "\n",
    "        for i in range(n):\n",
    "            GRAD_DIR[i] = math.atan2(tgy.flatten()[i], tgx.flatten()[i])\n",
    "    \n",
    "        GRAD_DIR = GRAD_DIR*180/math.pi    # change radians to degrees\n",
    "\n",
    "        OK = np.where(GRAD_DIR < 0)\n",
    "\n",
    "        OK = np.array(OK)\n",
    "\n",
    "        if OK.size >1:\n",
    "            GRAD_DIR[OK] = 360 - abs(GRAD_DIR[OK])    #Adjust to 0-360 scheme (make negative degrees positive)\n",
    "    \n",
    "        GRAD_DIR = (360 - GRAD_DIR + 90) % 360     #Convert degrees so that 0 degrees is North and East is 90 degrees\n",
    "        GRAD_DIR = GRAD_DIR.reshape(grid_shape)\n",
    "        \n",
    "        \n",
    "        grad_dir = np.flip(GRAD_DIR.T, 0)\n",
    "\n",
    "\n",
    "        # create array grdir (result from multiplication of grad_dir_matrix and mask_matrix (its the conv matrix))\n",
    "        grdir_matrix = np.flip(GRAD_DIR.T, 0)*mask\n",
    "\n",
    "\n",
    "        #No R eles pôem numa named_list por isso aqui pus num dicionário (algo equivalente)\n",
    "        dic = {'grdir': grdir_matrix, 'front': matrix_front}\n",
    "        \n",
    "    else:\n",
    "        matrix_front\n",
    "\n",
    "        \n",
    "    return matrix_front"
   ]
  },
  {
   "cell_type": "code",
   "execution_count": null,
   "id": "e6bf1fbc",
   "metadata": {},
   "outputs": [],
   "source": []
  },
  {
   "cell_type": "code",
   "execution_count": null,
   "id": "9c555266",
   "metadata": {},
   "outputs": [],
   "source": []
  },
  {
   "cell_type": "code",
   "execution_count": null,
   "id": "c65ba74e",
   "metadata": {},
   "outputs": [],
   "source": []
  },
  {
   "cell_type": "code",
   "execution_count": null,
   "id": "c3f45610",
   "metadata": {},
   "outputs": [],
   "source": []
  },
  {
   "cell_type": "code",
   "execution_count": null,
   "id": "2f362b8d",
   "metadata": {},
   "outputs": [],
   "source": []
  },
  {
   "cell_type": "code",
   "execution_count": null,
   "id": "670c9195",
   "metadata": {},
   "outputs": [],
   "source": []
  },
  {
   "cell_type": "markdown",
   "id": "0a96c910",
   "metadata": {},
   "source": [
    "### Interpretação dos valores obtidos através do BOA algorithm\n",
    "\n"
   ]
  },
  {
   "cell_type": "code",
   "execution_count": 5,
   "id": "2865a946",
   "metadata": {},
   "outputs": [],
   "source": [
    "from scipy.ndimage import rotate"
   ]
  },
  {
   "cell_type": "code",
   "execution_count": null,
   "id": "fe0ed463",
   "metadata": {},
   "outputs": [],
   "source": []
  },
  {
   "cell_type": "code",
   "execution_count": 408,
   "id": "6f38dfb8",
   "metadata": {},
   "outputs": [],
   "source": [
    "test = np.ones((100,100))     \n",
    "test[:, 20:21] = 9\n",
    "#test[:, 15:16] = 9\n",
    "#test[50:51, :10] = 9\n",
    "#test[60:61, :] = 9\n",
    "#Dummy matrix de 1s mas com uma linha vertical de 9s"
   ]
  },
  {
   "cell_type": "code",
   "execution_count": 409,
   "id": "b1024623",
   "metadata": {},
   "outputs": [
    {
     "data": {
      "text/plain": [
       "<matplotlib.image.AxesImage at 0x7f02de175250>"
      ]
     },
     "execution_count": 409,
     "metadata": {},
     "output_type": "execute_result"
    },
    {
     "data": {
      "image/png": "[encoded data removed]",
      "text/plain": [
       "<Figure size 720x576 with 1 Axes>"
      ]
     },
     "metadata": {
      "needs_background": "light"
     },
     "output_type": "display_data"
    }
   ],
   "source": [
    "plt.imshow(test)"
   ]
  },
  {
   "cell_type": "code",
   "execution_count": 410,
   "id": "acdce9e6",
   "metadata": {},
   "outputs": [],
   "source": [
    "# matrizes de longitude e latitude necessárias para a aplicação da função BOA\n",
    "lon2 = np.arange(100)\n",
    "lat2 = np.arange(100)"
   ]
  },
  {
   "cell_type": "code",
   "execution_count": 411,
   "id": "74945b3b",
   "metadata": {},
   "outputs": [],
   "source": [
    "front_dummy = boa(lon=lon2, lat=lat2, ingrid=test, nodata = np.nan, direction = False)"
   ]
  },
  {
   "cell_type": "code",
   "execution_count": 317,
   "id": "523c46c1",
   "metadata": {},
   "outputs": [],
   "source": [
    "#np.unique(front_dummy)"
   ]
  },
  {
   "cell_type": "code",
   "execution_count": 412,
   "id": "29c411c0",
   "metadata": {},
   "outputs": [],
   "source": [
    "front_dummy = np.flip(front_dummy, axis=0)\n",
    "front_dummy = np.array([[front_dummy[j][i] for j in range(len(front_dummy))] for i in range(len(front_dummy[0])-1,-1,-1)])\n"
   ]
  },
  {
   "cell_type": "code",
   "execution_count": 413,
   "id": "41308c69",
   "metadata": {},
   "outputs": [
    {
     "data": {
      "text/plain": [
       "<matplotlib.colorbar.Colorbar at 0x7f02de0f2100>"
      ]
     },
     "execution_count": 413,
     "metadata": {},
     "output_type": "execute_result"
    },
    {
     "data": {
      "image/png": "[encoded data removed]",
      "text/plain": [
       "<Figure size 720x576 with 2 Axes>"
      ]
     },
     "metadata": {
      "needs_background": "light"
     },
     "output_type": "display_data"
    }
   ],
   "source": [
    "plt.imshow(front_dummy)\n",
    "plt.colorbar()"
   ]
  },
  {
   "cell_type": "markdown",
   "id": "d34dfcd3",
   "metadata": {},
   "source": [
    "#### Conclusão:\n",
    "\n",
    "Como se pode ver, a aplicação do BOA na dummy matrix retorna-nos duas \"frentes\" cujo valor é 4. Ora como a diferença entre os valores dos pixeis era 8 (9-1) então os valores retornados no BOA são metade da \"diferença de temperaturas originais\""
   ]
  },
  {
   "cell_type": "code",
   "execution_count": null,
   "id": "1c9d662d",
   "metadata": {},
   "outputs": [],
   "source": []
  },
  {
   "cell_type": "code",
   "execution_count": null,
   "id": "6b75202f",
   "metadata": {},
   "outputs": [],
   "source": []
  },
  {
   "cell_type": "code",
   "execution_count": 422,
   "id": "c68ab39d",
   "metadata": {},
   "outputs": [],
   "source": [
    "test2 = np.ones((30,30))\n",
    "#test2[5,5] = 10\n",
    "np.fill_diagonal(test2, 5)\n",
    "test2[[0,1,2,3,4,5,6],[0,1,2,3,4,5,6]] = 1"
   ]
  },
  {
   "cell_type": "code",
   "execution_count": 423,
   "id": "d3e048cb",
   "metadata": {},
   "outputs": [
    {
     "data": {
      "text/plain": [
       "<matplotlib.image.AxesImage at 0x7f02ddf6f4c0>"
      ]
     },
     "execution_count": 423,
     "metadata": {},
     "output_type": "execute_result"
    },
    {
     "data": {
      "image/png": "[encoded data removed]",
      "text/plain": [
       "<Figure size 720x576 with 1 Axes>"
      ]
     },
     "metadata": {
      "needs_background": "light"
     },
     "output_type": "display_data"
    }
   ],
   "source": [
    "plt.imshow(test2)"
   ]
  },
  {
   "cell_type": "code",
   "execution_count": 424,
   "id": "2d92df96",
   "metadata": {},
   "outputs": [],
   "source": [
    "# matrizes de longitude e latitude necessárias para a aplicação da função BOA\n",
    "lon3 = np.arange(30)\n",
    "lat3 = np.arange(30)"
   ]
  },
  {
   "cell_type": "code",
   "execution_count": 425,
   "id": "a0a63c1c",
   "metadata": {},
   "outputs": [],
   "source": [
    "front_dummy2 = boa(lon=lon3, lat=lat3, ingrid=test2, nodata = np.nan, direction = True)"
   ]
  },
  {
   "cell_type": "code",
   "execution_count": 426,
   "id": "309b9936",
   "metadata": {},
   "outputs": [],
   "source": [
    "front_dummy2 = np.flip(front_dummy2, axis=0)\n",
    "front_dummy2 = np.array([[front_dummy2[j][i] for j in range(len(front_dummy2))] for i in range(len(front_dummy2[0])-1,-1,-1)])\n"
   ]
  },
  {
   "cell_type": "code",
   "execution_count": 427,
   "id": "09e95e7c",
   "metadata": {},
   "outputs": [
    {
     "data": {
      "text/plain": [
       "<matplotlib.colorbar.Colorbar at 0x7f02dded5790>"
      ]
     },
     "execution_count": 427,
     "metadata": {},
     "output_type": "execute_result"
    },
    {
     "data": {
      "image/png": "[encoded data removed]",
      "text/plain": [
       "<Figure size 720x576 with 2 Axes>"
      ]
     },
     "metadata": {
      "needs_background": "light"
     },
     "output_type": "display_data"
    }
   ],
   "source": [
    "plt.imshow(front_dummy2)\n",
    "plt.colorbar()"
   ]
  },
  {
   "cell_type": "code",
   "execution_count": 428,
   "id": "6e400a97",
   "metadata": {},
   "outputs": [
    {
     "data": {
      "text/plain": [
       "array([[           nan,            nan,            nan,            nan,\n",
       "                   nan,            nan,            nan,            nan,\n",
       "                   nan,            nan,            nan,            nan,\n",
       "                   nan,            nan,            nan,            nan,\n",
       "                   nan,            nan,            nan,            nan,\n",
       "                   nan,            nan,            nan,            nan,\n",
       "                   nan,            nan,            nan,            nan,\n",
       "                   nan,            nan],\n",
       "       [           nan,            nan,            nan,            nan,\n",
       "                   nan,            nan,            nan,            nan,\n",
       "                   nan,            nan,            nan,            nan,\n",
       "                   nan,            nan,            nan,            nan,\n",
       "                   nan,            nan,            nan,            nan,\n",
       "                   nan,            nan,            nan,            nan,\n",
       "                   nan,            nan,            nan,            nan,\n",
       "                   nan,            nan],\n",
       "       [           nan,            nan,            nan,            nan,\n",
       "                   nan,            nan,            nan,            nan,\n",
       "                   nan,            nan,            nan,            nan,\n",
       "                   nan,            nan,            nan,            nan,\n",
       "                   nan,            nan,            nan,            nan,\n",
       "                   nan,            nan,            nan,            nan,\n",
       "                   nan,            nan,            nan,            nan,\n",
       "                   nan,            nan],\n",
       "       [           nan,            nan,            nan,            nan,\n",
       "                   nan,            nan, 1.31838984e-16, 1.75541673e-16,\n",
       "        7.69166874e-17, 8.44152877e-17, 1.67110694e-16, 3.69928436e-17,\n",
       "        1.38777878e-16, 1.11022302e-16, 1.08062667e-16, 1.24126708e-16,\n",
       "        7.85046229e-17, 5.86993104e-17, 1.17756934e-16, 0.00000000e+00,\n",
       "        6.38801011e-17, 1.24126708e-16, 9.71445147e-17, 1.81151740e-16,\n",
       "        7.07106781e-01, 1.41421356e+00, 1.42380331e-16,            nan,\n",
       "                   nan,            nan],\n",
       "       [           nan,            nan,            nan,            nan,\n",
       "                   nan,            nan, 2.27612644e-16, 9.87862516e-17,\n",
       "        1.17756934e-16, 4.22076438e-17, 7.56953729e-17, 1.11022302e-16,\n",
       "        2.00148302e-16, 6.63163256e-17, 0.00000000e+00, 6.20633538e-17,\n",
       "        1.94797305e-16, 1.00074151e-16, 2.22044605e-16, 9.99200899e-17,\n",
       "        5.55111512e-17, 1.24126708e-16, 8.87326360e-17, 7.07106781e-01,\n",
       "        1.41421356e+00, 1.47337374e-16, 1.41421356e+00,            nan,\n",
       "                   nan,            nan],\n",
       "       [           nan,            nan,            nan,            nan,\n",
       "                   nan,            nan, 1.97699433e-16, 4.16333634e-17,\n",
       "        1.24126708e-16, 2.13759041e-17, 5.55111512e-17, 0.00000000e+00,\n",
       "        2.21855510e-17, 1.11022302e-16, 1.11022302e-16, 9.86148185e-17,\n",
       "        6.20633538e-17, 1.24126708e-16, 9.82105272e-17, 1.24126708e-16,\n",
       "        1.57009246e-16, 1.15335833e-16, 7.07106781e-01, 1.41421356e+00,\n",
       "        1.59517922e-16, 1.41421356e+00, 7.07106781e-01,            nan,\n",
       "                   nan,            nan],\n",
       "       [           nan,            nan,            nan,            nan,\n",
       "                   nan,            nan, 1.24126708e-16, 2.22152999e-16,\n",
       "        8.95917625e-17, 1.67957858e-16, 7.85046229e-17, 1.65854017e-16,\n",
       "        1.57009246e-16, 2.28878340e-16, 1.49981581e-16, 1.73583767e-16,\n",
       "        1.24126708e-16, 1.76946295e-16, 2.35513869e-16, 1.75541673e-16,\n",
       "        4.60355264e-17, 7.07106781e-01, 1.41421356e+00, 3.82691189e-17,\n",
       "        1.41421356e+00, 7.07106781e-01, 2.48433928e-17,            nan,\n",
       "                   nan,            nan],\n",
       "       [           nan,            nan,            nan,            nan,\n",
       "                   nan,            nan, 2.77555756e-17, 1.07029746e-16,\n",
       "        1.24669567e-16, 1.02392792e-16, 1.32505682e-16, 1.24126708e-16,\n",
       "        2.77555756e-17, 6.71274609e-17, 1.88298220e-16, 2.54173126e-16,\n",
       "        9.32501875e-18, 2.77555756e-16, 3.92523115e-17, 2.31365914e-16,\n",
       "        7.07106781e-01, 1.41421356e+00, 1.10571542e-16, 1.41421356e+00,\n",
       "        7.07106781e-01, 1.87002202e-16, 2.00279839e-16,            nan,\n",
       "                   nan,            nan],\n",
       "       [           nan,            nan,            nan,            nan,\n",
       "                   nan,            nan, 1.06785752e-16, 1.18826774e-16,\n",
       "        1.18272683e-16, 7.90636148e-17, 5.55111512e-17, 5.55111512e-17,\n",
       "        1.53404999e-16, 1.17902396e-16, 1.67132726e-16, 1.13441032e-16,\n",
       "        1.57009246e-16, 1.11022302e-16, 1.73858205e-16, 7.07106781e-01,\n",
       "        1.41421356e+00, 2.10253489e-16, 1.41421356e+00, 7.07106781e-01,\n",
       "        1.68371871e-16, 1.17611652e-16, 1.47503500e-16,            nan,\n",
       "                   nan,            nan],\n",
       "       [           nan,            nan,            nan,            nan,\n",
       "                   nan,            nan, 1.06998813e-16, 6.58087796e-17,\n",
       "        9.28519471e-18, 1.25129746e-16, 1.24126708e-16, 1.16942142e-16,\n",
       "        1.75243769e-16, 2.00808481e-16, 1.27239067e-16, 1.61010641e-16,\n",
       "        2.69457898e-16, 8.86346773e-17, 7.07106781e-01, 1.41421356e+00,\n",
       "        1.68069258e-16, 1.41421356e+00, 7.07106781e-01, 8.64373386e-17,\n",
       "        7.55576629e-17, 1.54787218e-16, 1.06105302e-16,            nan,\n",
       "                   nan,            nan],\n",
       "       [           nan,            nan,            nan,            nan,\n",
       "                   nan,            nan, 6.82637323e-17, 5.86643355e-17,\n",
       "        9.00069773e-17, 8.69867411e-17, 1.68583204e-16, 7.00695852e-17,\n",
       "        2.25624549e-16, 1.39008367e-16, 8.22384949e-17, 7.26044086e-17,\n",
       "        4.21476176e-17, 7.07106781e-01, 1.41421356e+00, 3.15760874e-16,\n",
       "        1.41421356e+00, 7.07106781e-01, 7.02420291e-17, 9.86521645e-17,\n",
       "        5.29623995e-17, 1.26409683e-16, 3.30210045e-17,            nan,\n",
       "                   nan,            nan],\n",
       "       [           nan,            nan,            nan,            nan,\n",
       "                   nan,            nan, 8.55813911e-17, 1.03254586e-16,\n",
       "        1.87317724e-16, 9.81326132e-17, 1.11489982e-16, 1.09390239e-16,\n",
       "        8.01542828e-17, 9.49647646e-17, 1.92335156e-16, 1.57389164e-16,\n",
       "        7.07106781e-01, 1.41421356e+00, 1.58717058e-16, 1.41421356e+00,\n",
       "        7.07106781e-01, 5.71342633e-17, 1.12286969e-16, 1.40429613e-16,\n",
       "        1.38923919e-16, 6.50811344e-17, 2.85867344e-17,            nan,\n",
       "                   nan,            nan],\n",
       "       [           nan,            nan,            nan,            nan,\n",
       "                   nan,            nan, 1.17793763e-16, 9.00316509e-17,\n",
       "        5.74373754e-17, 1.25005500e-16, 6.06145435e-17, 4.18011918e-17,\n",
       "        4.25493491e-17, 9.86089667e-17, 1.25661308e-16, 7.07106781e-01,\n",
       "        1.41421356e+00, 1.34403920e-16, 1.41421356e+00, 7.07106781e-01,\n",
       "        1.01291503e-16, 1.49235239e-16, 7.88545707e-17, 3.50923924e-17,\n",
       "        4.25493491e-17, 4.37350750e-17, 4.42842639e-17,            nan,\n",
       "                   nan,            nan],\n",
       "       [           nan,            nan,            nan,            nan,\n",
       "                   nan,            nan, 1.14592254e-16, 1.73213119e-16,\n",
       "        5.92859355e-17, 2.45523130e-16, 7.49064150e-17, 2.94969199e-17,\n",
       "        3.00502494e-17, 1.88181608e-16, 7.07106781e-01, 1.41421356e+00,\n",
       "        1.12211608e-16, 1.41421356e+00, 7.07106781e-01, 1.52510408e-16,\n",
       "        1.86190061e-16, 2.77555756e-17, 4.50736141e-17, 1.36031438e-16,\n",
       "        1.07267321e-16, 1.76155382e-16, 1.14439170e-16,            nan,\n",
       "                   nan,            nan],\n",
       "       [           nan,            nan,            nan,            nan,\n",
       "                   nan,            nan, 1.11181615e-16, 1.31838984e-16,\n",
       "        1.14439170e-16, 2.81299109e-17, 1.79647815e-16, 1.19421599e-16,\n",
       "        6.22971027e-17, 7.07106781e-01, 1.41421356e+00, 9.40400435e-17,\n",
       "        1.41421356e+00, 7.07106781e-01, 1.66326262e-16, 1.96261557e-16,\n",
       "        1.24126708e-16, 7.37358117e-17, 1.72157248e-16, 1.95363768e-17,\n",
       "        8.47860451e-17, 2.77555756e-17, 1.24126708e-16,            nan,\n",
       "                   nan,            nan],\n",
       "       [           nan,            nan,            nan,            nan,\n",
       "                   nan,            nan, 7.50556133e-17, 1.30922788e-16,\n",
       "        1.55635740e-17, 1.61841426e-16, 1.90784960e-16, 1.67028804e-16,\n",
       "        7.07106781e-01, 1.41421356e+00, 1.16948982e-16, 1.41421356e+00,\n",
       "        7.07106781e-01, 2.16840434e-17, 2.77555756e-17, 0.00000000e+00,\n",
       "        6.28084816e-17, 2.00148302e-16, 2.62786369e-17, 8.17112711e-17,\n",
       "        8.32667268e-17, 1.66533454e-16, 9.71544904e-17,            nan,\n",
       "                   nan,            nan],\n",
       "       [           nan,            nan,            nan,            nan,\n",
       "                   nan,            nan, 1.19381245e-16, 1.26903232e-16,\n",
       "        1.80411242e-16, 1.66268173e-16, 1.76019932e-16, 7.07106781e-01,\n",
       "        1.41421356e+00, 2.16593657e-16, 1.41421356e+00, 7.07106781e-01,\n",
       "        5.97848659e-17, 1.61841426e-16, 1.24126708e-16, 1.08893824e-16,\n",
       "        0.00000000e+00, 1.11022302e-16, 1.27228624e-16, 0.00000000e+00,\n",
       "        5.55111512e-17, 1.54654449e-16, 5.55111512e-17,            nan,\n",
       "                   nan,            nan],\n",
       "       [           nan,            nan,            nan,            nan,\n",
       "                   nan,            nan, 6.97081870e-17, 6.93889390e-17,\n",
       "        9.43791608e-17, 8.41324514e-17, 7.07106781e-01, 1.41421356e+00,\n",
       "        1.57502070e-16, 1.41421356e+00, 7.07106781e-01, 1.19764433e-16,\n",
       "        5.55111512e-17, 7.85046229e-17, 1.38447861e-16, 1.11022302e-16,\n",
       "        5.55111512e-17, 5.55152632e-17, 1.77722399e-16, 1.11022302e-16,\n",
       "        5.83658513e-17, 1.24126708e-16, 6.20633538e-17,            nan,\n",
       "                   nan,            nan],\n",
       "       [           nan,            nan,            nan,            nan,\n",
       "                   nan,            nan, 5.72195850e-17, 1.27381159e-16,\n",
       "        1.59791448e-16, 7.07106781e-01, 1.41421356e+00, 1.49329713e-16,\n",
       "        1.41421356e+00, 7.07106781e-01, 1.43826924e-16, 1.22761565e-16,\n",
       "        1.57009246e-16, 8.23531060e-17, 7.85046229e-17, 1.00074151e-16,\n",
       "        2.96428474e-17, 5.72195850e-17, 5.55111512e-17, 7.72276721e-17,\n",
       "        1.24126708e-16, 8.32667268e-17, 1.66600220e-16,            nan,\n",
       "                   nan,            nan],\n",
       "       [           nan,            nan,            nan,            nan,\n",
       "                   nan,            nan, 4.22076438e-17, 1.17954415e-16,\n",
       "        7.07106781e-01, 1.41421356e+00, 1.72176375e-16, 1.41421356e+00,\n",
       "        7.07106781e-01, 2.30943676e-17, 1.01610699e-16, 3.92523115e-17,\n",
       "        3.90348522e-17, 5.55111512e-17, 1.41526222e-16, 1.11304235e-16,\n",
       "        3.10316769e-17, 6.20633538e-17, 1.50267615e-16, 1.24126708e-16,\n",
       "        1.24126708e-16, 2.25931823e-16, 2.57030553e-16,            nan,\n",
       "                   nan,            nan],\n",
       "       [           nan,            nan,            nan,            nan,\n",
       "                   nan,            nan, 9.78529990e-17, 7.07106781e-01,\n",
       "        1.41421356e+00, 8.39945337e-17, 1.41421356e+00, 7.07106781e-01,\n",
       "        9.37221416e-18, 4.85814936e-17, 1.38777878e-16, 1.60422706e-16,\n",
       "        7.85046229e-17, 5.55111512e-17, 1.40838578e-16, 1.17961196e-16,\n",
       "        6.20633538e-17, 6.07976632e-17, 5.55111512e-17, 6.20633538e-17,\n",
       "        6.61184932e-17, 9.38251250e-17, 1.14439170e-16,            nan,\n",
       "                   nan,            nan],\n",
       "       [           nan,            nan,            nan,            nan,\n",
       "                   nan,            nan, 8.68684279e-17, 1.00000000e+00,\n",
       "        7.07106781e-01, 1.41421356e+00, 7.07106781e-01, 6.96982591e-17,\n",
       "        1.16826683e-16, 4.32827189e-17, 3.59533691e-17, 3.92523115e-17,\n",
       "        1.41526222e-16, 1.31898887e-16, 1.63571520e-16, 1.71639308e-16,\n",
       "        8.77708367e-17, 1.22761565e-16, 6.20633538e-17, 2.29791928e-16,\n",
       "        6.88165857e-17, 2.36250312e-16, 5.67324836e-17,            nan,\n",
       "                   nan,            nan],\n",
       "       [           nan,            nan,            nan,            nan,\n",
       "                   nan,            nan, 2.14655926e-16, 7.07106781e-01,\n",
       "        1.00000000e+00, 7.07106781e-01, 2.29000512e-16, 7.94905187e-17,\n",
       "        9.97935729e-17, 7.55848853e-17, 9.30950307e-17, 9.30950307e-17,\n",
       "        6.24741339e-17, 1.28416413e-16, 5.88952751e-17, 3.92523115e-17,\n",
       "        3.10316769e-17, 1.11886302e-16, 8.23078488e-17, 9.62648398e-17,\n",
       "        1.19628381e-16, 5.59314250e-17, 3.10316769e-17,            nan,\n",
       "                   nan,            nan],\n",
       "       [           nan,            nan,            nan,            nan,\n",
       "                   nan,            nan, 5.12438954e-17, 5.55111590e-17,\n",
       "        7.24420645e-17, 2.22569456e-16, 1.07578588e-16, 9.48191386e-17,\n",
       "        4.80359018e-17, 7.18747344e-17, 3.76237097e-17, 6.88129716e-17,\n",
       "        1.18287892e-16, 1.05194990e-16, 3.83474924e-17, 3.59474852e-17,\n",
       "        1.53019070e-16, 8.00819119e-17, 2.01639253e-16, 3.50457214e-17,\n",
       "        2.91290075e-17, 6.93955898e-17, 3.59966143e-17,            nan,\n",
       "                   nan,            nan],\n",
       "       [           nan,            nan,            nan,            nan,\n",
       "                   nan,            nan,            nan,            nan,\n",
       "                   nan,            nan,            nan,            nan,\n",
       "                   nan,            nan,            nan,            nan,\n",
       "                   nan,            nan,            nan,            nan,\n",
       "                   nan,            nan,            nan,            nan,\n",
       "                   nan,            nan,            nan,            nan,\n",
       "                   nan,            nan],\n",
       "       [           nan,            nan,            nan,            nan,\n",
       "                   nan,            nan,            nan,            nan,\n",
       "                   nan,            nan,            nan,            nan,\n",
       "                   nan,            nan,            nan,            nan,\n",
       "                   nan,            nan,            nan,            nan,\n",
       "                   nan,            nan,            nan,            nan,\n",
       "                   nan,            nan,            nan,            nan,\n",
       "                   nan,            nan],\n",
       "       [           nan,            nan,            nan,            nan,\n",
       "                   nan,            nan,            nan,            nan,\n",
       "                   nan,            nan,            nan,            nan,\n",
       "                   nan,            nan,            nan,            nan,\n",
       "                   nan,            nan,            nan,            nan,\n",
       "                   nan,            nan,            nan,            nan,\n",
       "                   nan,            nan,            nan,            nan,\n",
       "                   nan,            nan],\n",
       "       [           nan,            nan,            nan,            nan,\n",
       "                   nan,            nan,            nan,            nan,\n",
       "                   nan,            nan,            nan,            nan,\n",
       "                   nan,            nan,            nan,            nan,\n",
       "                   nan,            nan,            nan,            nan,\n",
       "                   nan,            nan,            nan,            nan,\n",
       "                   nan,            nan,            nan,            nan,\n",
       "                   nan,            nan],\n",
       "       [           nan,            nan,            nan,            nan,\n",
       "                   nan,            nan,            nan,            nan,\n",
       "                   nan,            nan,            nan,            nan,\n",
       "                   nan,            nan,            nan,            nan,\n",
       "                   nan,            nan,            nan,            nan,\n",
       "                   nan,            nan,            nan,            nan,\n",
       "                   nan,            nan,            nan,            nan,\n",
       "                   nan,            nan],\n",
       "       [           nan,            nan,            nan,            nan,\n",
       "                   nan,            nan,            nan,            nan,\n",
       "                   nan,            nan,            nan,            nan,\n",
       "                   nan,            nan,            nan,            nan,\n",
       "                   nan,            nan,            nan,            nan,\n",
       "                   nan,            nan,            nan,            nan,\n",
       "                   nan,            nan,            nan,            nan,\n",
       "                   nan,            nan]])"
      ]
     },
     "execution_count": 428,
     "metadata": {},
     "output_type": "execute_result"
    }
   ],
   "source": [
    "front_dummy2"
   ]
  },
  {
   "cell_type": "code",
   "execution_count": null,
   "id": "5e006efb",
   "metadata": {},
   "outputs": [],
   "source": []
  },
  {
   "cell_type": "code",
   "execution_count": null,
   "id": "ebd720c9",
   "metadata": {},
   "outputs": [],
   "source": []
  },
  {
   "cell_type": "code",
   "execution_count": null,
   "id": "60b55fd3",
   "metadata": {},
   "outputs": [],
   "source": []
  },
  {
   "cell_type": "markdown",
   "id": "1df18cd3",
   "metadata": {},
   "source": [
    "### Brincar com Matrizes"
   ]
  },
  {
   "cell_type": "code",
   "execution_count": null,
   "id": "4b3204f6",
   "metadata": {},
   "outputs": [],
   "source": []
  },
  {
   "cell_type": "code",
   "execution_count": 320,
   "id": "17f5f625",
   "metadata": {},
   "outputs": [],
   "source": [
    "plt.rcParams[\"figure.figsize\"] = 10, 8"
   ]
  },
  {
   "cell_type": "code",
   "execution_count": 568,
   "id": "acb39941",
   "metadata": {},
   "outputs": [],
   "source": [
    "test = np.ones((100,100))\n",
    "\n",
    "#estas variaveis definem os limites horizontais e verticais do quadrado interios\n",
    "h1 = int(test.shape[0]/2-20)\n",
    "h2 = int(test.shape[0]/2+20)\n",
    "v1 = int(test.shape[1]/2-20)\n",
    "v2 = int(test.shape[1]/2+20)\n",
    "\n",
    "test[h1:h2, v1:v2] = 5    #criar um quadrado com aqueles limites estabelecidos acima\n",
    "\n",
    "#test[int(test.shape[0]/2):int(test.shape[0]/2+20), int(test.shape[1]/2-20):int(test.shape[1]/2+20)] = 5"
   ]
  },
  {
   "cell_type": "code",
   "execution_count": 569,
   "id": "9caf8dbc",
   "metadata": {},
   "outputs": [
    {
     "data": {
      "image/png": "[encoded data removed]",
      "text/plain": [
       "<Figure size 720x576 with 1 Axes>"
      ]
     },
     "metadata": {
      "needs_background": "light"
     },
     "output_type": "display_data"
    }
   ],
   "source": [
    "plt.imshow(test);"
   ]
  },
  {
   "cell_type": "code",
   "execution_count": null,
   "id": "4eee6cc3",
   "metadata": {},
   "outputs": [],
   "source": []
  },
  {
   "cell_type": "code",
   "execution_count": null,
   "id": "03aa1b84",
   "metadata": {},
   "outputs": [],
   "source": []
  },
  {
   "cell_type": "code",
   "execution_count": 570,
   "id": "f4a9b9c5",
   "metadata": {},
   "outputs": [],
   "source": [
    "#estas variaveis servem para definir a diagonal que cruza o quadrado da matriz\n",
    "d1 = list(range(h1, v2))\n",
    "d2 = list(range(h1, v2))"
   ]
  },
  {
   "cell_type": "code",
   "execution_count": 571,
   "id": "88e794b3",
   "metadata": {},
   "outputs": [],
   "source": [
    "test[d1, d2] = 20"
   ]
  },
  {
   "cell_type": "code",
   "execution_count": 572,
   "id": "3f3d3db7",
   "metadata": {},
   "outputs": [
    {
     "data": {
      "image/png": "[encoded data removed]",
      "text/plain": [
       "<Figure size 720x576 with 1 Axes>"
      ]
     },
     "metadata": {
      "needs_background": "light"
     },
     "output_type": "display_data"
    }
   ],
   "source": [
    "plt.imshow(test);"
   ]
  },
  {
   "cell_type": "code",
   "execution_count": 573,
   "id": "aac1966d",
   "metadata": {},
   "outputs": [],
   "source": [
    "new_d1 = np.arange(h1,v2-10)\n",
    "new_d2 = np.arange(h1+10, v2)"
   ]
  },
  {
   "cell_type": "code",
   "execution_count": 574,
   "id": "4113069c",
   "metadata": {},
   "outputs": [],
   "source": [
    "test[new_d1, new_d2] = 40"
   ]
  },
  {
   "cell_type": "code",
   "execution_count": 575,
   "id": "d04d0be8",
   "metadata": {},
   "outputs": [
    {
     "data": {
      "text/plain": [
       "<matplotlib.image.AxesImage at 0x7f636ef0efd0>"
      ]
     },
     "execution_count": 575,
     "metadata": {},
     "output_type": "execute_result"
    },
    {
     "data": {
      "image/png": "[encoded data removed]",
      "text/plain": [
       "<Figure size 720x576 with 1 Axes>"
      ]
     },
     "metadata": {
      "needs_background": "light"
     },
     "output_type": "display_data"
    }
   ],
   "source": [
    "plt.imshow(test)"
   ]
  },
  {
   "cell_type": "code",
   "execution_count": null,
   "id": "1c86c7ff",
   "metadata": {},
   "outputs": [],
   "source": []
  },
  {
   "cell_type": "code",
   "execution_count": 576,
   "id": "662381aa",
   "metadata": {},
   "outputs": [],
   "source": [
    "new2_d1 = np.arange(h1,v2-20)\n",
    "new2_d2 = np.arange(h1+20, v2)"
   ]
  },
  {
   "cell_type": "code",
   "execution_count": 577,
   "id": "9be59614",
   "metadata": {},
   "outputs": [],
   "source": [
    "test[new2_d1, new2_d2] = 60"
   ]
  },
  {
   "cell_type": "code",
   "execution_count": 578,
   "id": "da7476d6",
   "metadata": {},
   "outputs": [
    {
     "data": {
      "text/plain": [
       "<matplotlib.image.AxesImage at 0x7f636ee62730>"
      ]
     },
     "execution_count": 578,
     "metadata": {},
     "output_type": "execute_result"
    },
    {
     "data": {
      "image/png": "[encoded data removed]",
      "text/plain": [
       "<Figure size 720x576 with 1 Axes>"
      ]
     },
     "metadata": {
      "needs_background": "light"
     },
     "output_type": "display_data"
    }
   ],
   "source": [
    "plt.imshow(test)"
   ]
  },
  {
   "cell_type": "code",
   "execution_count": null,
   "id": "a5e40248",
   "metadata": {},
   "outputs": [],
   "source": []
  },
  {
   "cell_type": "code",
   "execution_count": null,
   "id": "6115f4d8",
   "metadata": {},
   "outputs": [],
   "source": []
  },
  {
   "cell_type": "code",
   "execution_count": 579,
   "id": "10c7f2d3",
   "metadata": {},
   "outputs": [],
   "source": [
    "lon2 = np.arange(100)\n",
    "lat2 = np.arange(100)\n"
   ]
  },
  {
   "cell_type": "code",
   "execution_count": 580,
   "id": "c9dcacde",
   "metadata": {},
   "outputs": [],
   "source": [
    "front2 = boa(lon=lon2, lat=lat2, ingrid=test, nodata = np.nan, direction = False)"
   ]
  },
  {
   "cell_type": "code",
   "execution_count": 583,
   "id": "9289ab3b",
   "metadata": {},
   "outputs": [
    {
     "data": {
      "text/plain": [
       "array([[nan, nan, nan, ..., nan, nan, nan],\n",
       "       [nan, nan, nan, ..., nan, nan, nan],\n",
       "       [nan, nan, nan, ..., nan, nan, nan],\n",
       "       ...,\n",
       "       [nan, nan, nan, ..., nan, nan, nan],\n",
       "       [nan, nan, nan, ..., nan, nan, nan],\n",
       "       [nan, nan, nan, ..., nan, nan, nan]])"
      ]
     },
     "execution_count": 583,
     "metadata": {},
     "output_type": "execute_result"
    }
   ],
   "source": [
    "#front2 = np.flip(front2, axis=0)\n",
    "front2 = np.array([[front2[j][i] for j in range(len(front2))] for i in range(len(front2[0])-1,-1,-1)])\n",
    "front2\n"
   ]
  },
  {
   "cell_type": "code",
   "execution_count": null,
   "id": "a3572545",
   "metadata": {},
   "outputs": [],
   "source": [
    "\n"
   ]
  },
  {
   "cell_type": "code",
   "execution_count": 584,
   "id": "f981f02a",
   "metadata": {},
   "outputs": [
    {
     "data": {
      "text/plain": [
       "<matplotlib.colorbar.Colorbar at 0x7f636ed72d30>"
      ]
     },
     "execution_count": 584,
     "metadata": {},
     "output_type": "execute_result"
    },
    {
     "data": {
      "image/png": "[encoded data removed]",
      "text/plain": [
       "<Figure size 720x576 with 2 Axes>"
      ]
     },
     "metadata": {
      "needs_background": "light"
     },
     "output_type": "display_data"
    }
   ],
   "source": [
    "plt.imshow(front2)\n",
    "plt.colorbar()"
   ]
  },
  {
   "cell_type": "code",
   "execution_count": 179,
   "id": "cc4cd69e",
   "metadata": {},
   "outputs": [
    {
     "data": {
      "text/plain": [
       "2.0"
      ]
     },
     "execution_count": 179,
     "metadata": {},
     "output_type": "execute_result"
    }
   ],
   "source": [
    "np.nanmax(front2)"
   ]
  },
  {
   "cell_type": "code",
   "execution_count": 150,
   "id": "9659b57d",
   "metadata": {},
   "outputs": [],
   "source": [
    "y = front2.flatten()"
   ]
  },
  {
   "cell_type": "code",
   "execution_count": 132,
   "id": "c0a6639f",
   "metadata": {},
   "outputs": [
    {
     "data": {
      "image/png": "[encoded data removed]",
      "text/plain": [
       "<Figure size 432x288 with 1 Axes>"
      ]
     },
     "metadata": {
      "needs_background": "light"
     },
     "output_type": "display_data"
    }
   ],
   "source": [
    "plt.hist(y[y>1], bins=100);"
   ]
  },
  {
   "cell_type": "code",
   "execution_count": 151,
   "id": "7faf029f",
   "metadata": {},
   "outputs": [
    {
     "data": {
      "text/plain": [
       "3.9999999999999987"
      ]
     },
     "execution_count": 151,
     "metadata": {},
     "output_type": "execute_result"
    }
   ],
   "source": [
    "np.nanmin(y[y>1])"
   ]
  },
  {
   "cell_type": "code",
   "execution_count": null,
   "id": "8d13e844",
   "metadata": {},
   "outputs": [],
   "source": []
  }
 ],
 "metadata": {
  "kernelspec": {
   "display_name": "Python 3 (ipykernel)",
   "language": "python",
   "name": "python3"
  },
  "language_info": {
   "codemirror_mode": {
    "name": "ipython",
    "version": 3
   },
   "file_extension": ".py",
   "mimetype": "text/x-python",
   "name": "python",
   "nbconvert_exporter": "python",
   "pygments_lexer": "ipython3",
   "version": "3.8.10"
  }
 },
 "nbformat": 4,
 "nbformat_minor": 5
}
