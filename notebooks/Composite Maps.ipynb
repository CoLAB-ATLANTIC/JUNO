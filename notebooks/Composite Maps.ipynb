{
 "cells": [
  {
   "cell_type": "markdown",
   "id": "fc0d0eb7",
   "metadata": {},
   "source": [
    "In this notebook I will try to create a composite map from our canny arrays"
   ]
  },
  {
   "cell_type": "code",
   "execution_count": null,
   "id": "8aa9190a",
   "metadata": {},
   "outputs": [],
   "source": []
  },
  {
   "cell_type": "code",
   "execution_count": 1,
   "id": "73841d10",
   "metadata": {},
   "outputs": [],
   "source": [
    "import pandas as pd\n",
    "import numpy as np\n",
    "import matplotlib.pyplot as plt\n",
    "import seaborn as sns\n",
    "import netCDF4 as nc\n",
    "import cv2\n",
    "import datetime\n",
    "import xarray as xr\n",
    "import os\n",
    "\n",
    "%matplotlib inline"
   ]
  },
  {
   "cell_type": "code",
   "execution_count": null,
   "id": "aeda1913",
   "metadata": {},
   "outputs": [],
   "source": []
  },
  {
   "cell_type": "code",
   "execution_count": null,
   "id": "ed3e109a",
   "metadata": {},
   "outputs": [],
   "source": []
  },
  {
   "cell_type": "markdown",
   "id": "4651a6b8",
   "metadata": {},
   "source": [
    "#### Importação dos dados de Atlantic-Iberian Biscay Irish- Ocean Physics Reanalysis\n",
    "\n",
    "Através da command line eu importei uma base de dados relativa a 2019 dos valores de SST de um dado programa do Copernicus. Trata-se de um ficheiro .nc (netCDF)\n",
    "\n",
    "No entanto no futuro eu vou querer que o meu programa faça download diretamente dos dados num python script"
   ]
  },
  {
   "cell_type": "code",
   "execution_count": null,
   "id": "3a9d9a16",
   "metadata": {},
   "outputs": [],
   "source": []
  },
  {
   "cell_type": "code",
   "execution_count": 2,
   "id": "b2dee2ae",
   "metadata": {},
   "outputs": [
    {
     "data": {
      "text/plain": [
       "'/home/luisfigueiredo/JUNO/notebooks'"
      ]
     },
     "execution_count": 2,
     "metadata": {},
     "output_type": "execute_result"
    }
   ],
   "source": [
    "current_path = os.getcwd()\n",
    "current_path"
   ]
  },
  {
   "cell_type": "code",
   "execution_count": 3,
   "id": "3c824a71",
   "metadata": {},
   "outputs": [
    {
     "data": {
      "text/plain": [
       "'/home/luisfigueiredo/JUNO/notebooks/../data'"
      ]
     },
     "execution_count": 3,
     "metadata": {},
     "output_type": "execute_result"
    }
   ],
   "source": [
    "from pathlib import Path\n",
    "\n",
    "data_folder = os.path.join(current_path,\"../data\")\n",
    "data_folder"
   ]
  },
  {
   "cell_type": "code",
   "execution_count": 4,
   "id": "f2bbb492",
   "metadata": {},
   "outputs": [],
   "source": [
    "nc_path = os.path.join(data_folder, \"IBI-2019.nc\")\n",
    "ds = nc.Dataset(nc_path)\n",
    "data = xr.load_dataset(nc_path)"
   ]
  },
  {
   "cell_type": "code",
   "execution_count": 5,
   "id": "028d80e5",
   "metadata": {},
   "outputs": [
    {
     "name": "stdout",
     "output_type": "stream",
     "text": [
      "<class 'netCDF4._netCDF4.Dataset'>\n",
      "root group (NETCDF3_CLASSIC data model, file format NETCDF3):\n",
      "    Conventions: CF-1.0\n",
      "    source: CMEMS IBI-MFC\n",
      "    institution: Puertos del Estado (PdE) - Mercator-Ocean (MO)\n",
      "    references: http://marine.copernicus.eu\n",
      "    title: CMEMS IBI REANALYSIS: DAILY PHYSICAL PRODUCTS \n",
      "    easting: longitude\n",
      "    northing: latitude\n",
      "    domain_name: IBI12\n",
      "    FROM_ORIGINAL_FILE__field_type: mean\n",
      "    field_date: 20191224\n",
      "    FROM_ORIGINAL_FILE__longitude_min: -19.f\n",
      "    FROM_ORIGINAL_FILE__longitude_max: 5.f\n",
      "    FROM_ORIGINAL_FILE__latitude_min: 26.f\n",
      "    FROM_ORIGINAL_FILE__latitude_max: 56.f\n",
      "    z_min: 0.50576f\n",
      "    z_max: 5698.061f\n",
      "    contact: mailto: servicedesk.cmems@mercator-ocean.eu\n",
      "    bulletin_date: 2020-12-01\n",
      "    bulletin_type: Reanalysis\n",
      "    _CoordSysBuilder: ucar.nc2.dataset.conv.CF1Convention\n",
      "    comment: \n",
      "    history: Data extracted from dataset http://localhost:8080/thredds/dodsC/cmems_mod_ibi_phy_my_0.083deg-3D_P1D-m\n",
      "    dimensions(sizes): time(358), depth(1), latitude(121), longitude(169)\n",
      "    variables(dimensions): float32 depth(depth), float32 latitude(latitude), int16 thetao(time, depth, latitude, longitude), float64 time(time), float32 longitude(longitude)\n",
      "    groups: \n"
     ]
    }
   ],
   "source": [
    "print(ds)     # informações relativas ao ficheiro netCDF"
   ]
  },
  {
   "cell_type": "code",
   "execution_count": 6,
   "id": "f4bbc6e8",
   "metadata": {},
   "outputs": [],
   "source": [
    "#Converter o ficheiro netCDF para uma dataframe\n",
    "datadf = data.to_dataframe()\n",
    "datadf2 = datadf.reset_index()"
   ]
  },
  {
   "cell_type": "code",
   "execution_count": 7,
   "id": "1c3698a2",
   "metadata": {},
   "outputs": [
    {
     "data": {
      "text/html": [
       "<div>\n",
       "<style scoped>\n",
       "    .dataframe tbody tr th:only-of-type {\n",
       "        vertical-align: middle;\n",
       "    }\n",
       "\n",
       "    .dataframe tbody tr th {\n",
       "        vertical-align: top;\n",
       "    }\n",
       "\n",
       "    .dataframe thead th {\n",
       "        text-align: right;\n",
       "    }\n",
       "</style>\n",
       "<table border=\"1\" class=\"dataframe\">\n",
       "  <thead>\n",
       "    <tr style=\"text-align: right;\">\n",
       "      <th></th>\n",
       "      <th>latitude</th>\n",
       "      <th>longitude</th>\n",
       "      <th>time</th>\n",
       "      <th>thetao</th>\n",
       "    </tr>\n",
       "  </thead>\n",
       "  <tbody>\n",
       "    <tr>\n",
       "      <th>0</th>\n",
       "      <td>35.0</td>\n",
       "      <td>-19.0</td>\n",
       "      <td>2019-01-01 12:00:00</td>\n",
       "      <td>17.766001</td>\n",
       "    </tr>\n",
       "    <tr>\n",
       "      <th>1</th>\n",
       "      <td>35.0</td>\n",
       "      <td>-19.0</td>\n",
       "      <td>2019-01-02 12:00:00</td>\n",
       "      <td>17.969000</td>\n",
       "    </tr>\n",
       "    <tr>\n",
       "      <th>2</th>\n",
       "      <td>35.0</td>\n",
       "      <td>-19.0</td>\n",
       "      <td>2019-01-03 12:00:00</td>\n",
       "      <td>18.152000</td>\n",
       "    </tr>\n",
       "    <tr>\n",
       "      <th>3</th>\n",
       "      <td>35.0</td>\n",
       "      <td>-19.0</td>\n",
       "      <td>2019-01-04 12:00:00</td>\n",
       "      <td>18.254002</td>\n",
       "    </tr>\n",
       "    <tr>\n",
       "      <th>4</th>\n",
       "      <td>35.0</td>\n",
       "      <td>-19.0</td>\n",
       "      <td>2019-01-05 12:00:00</td>\n",
       "      <td>18.211000</td>\n",
       "    </tr>\n",
       "    <tr>\n",
       "      <th>...</th>\n",
       "      <td>...</td>\n",
       "      <td>...</td>\n",
       "      <td>...</td>\n",
       "      <td>...</td>\n",
       "    </tr>\n",
       "    <tr>\n",
       "      <th>7320737</th>\n",
       "      <td>45.0</td>\n",
       "      <td>-5.0</td>\n",
       "      <td>2019-12-20 12:00:00</td>\n",
       "      <td>13.619000</td>\n",
       "    </tr>\n",
       "    <tr>\n",
       "      <th>7320738</th>\n",
       "      <td>45.0</td>\n",
       "      <td>-5.0</td>\n",
       "      <td>2019-12-21 12:00:00</td>\n",
       "      <td>13.559000</td>\n",
       "    </tr>\n",
       "    <tr>\n",
       "      <th>7320739</th>\n",
       "      <td>45.0</td>\n",
       "      <td>-5.0</td>\n",
       "      <td>2019-12-22 12:00:00</td>\n",
       "      <td>13.458000</td>\n",
       "    </tr>\n",
       "    <tr>\n",
       "      <th>7320740</th>\n",
       "      <td>45.0</td>\n",
       "      <td>-5.0</td>\n",
       "      <td>2019-12-23 12:00:00</td>\n",
       "      <td>13.400000</td>\n",
       "    </tr>\n",
       "    <tr>\n",
       "      <th>7320741</th>\n",
       "      <td>45.0</td>\n",
       "      <td>-5.0</td>\n",
       "      <td>2019-12-24 12:00:00</td>\n",
       "      <td>13.390000</td>\n",
       "    </tr>\n",
       "  </tbody>\n",
       "</table>\n",
       "<p>7320742 rows × 4 columns</p>\n",
       "</div>"
      ],
      "text/plain": [
       "         latitude  longitude                time     thetao\n",
       "0            35.0      -19.0 2019-01-01 12:00:00  17.766001\n",
       "1            35.0      -19.0 2019-01-02 12:00:00  17.969000\n",
       "2            35.0      -19.0 2019-01-03 12:00:00  18.152000\n",
       "3            35.0      -19.0 2019-01-04 12:00:00  18.254002\n",
       "4            35.0      -19.0 2019-01-05 12:00:00  18.211000\n",
       "...           ...        ...                 ...        ...\n",
       "7320737      45.0       -5.0 2019-12-20 12:00:00  13.619000\n",
       "7320738      45.0       -5.0 2019-12-21 12:00:00  13.559000\n",
       "7320739      45.0       -5.0 2019-12-22 12:00:00  13.458000\n",
       "7320740      45.0       -5.0 2019-12-23 12:00:00  13.400000\n",
       "7320741      45.0       -5.0 2019-12-24 12:00:00  13.390000\n",
       "\n",
       "[7320742 rows x 4 columns]"
      ]
     },
     "execution_count": 7,
     "metadata": {},
     "output_type": "execute_result"
    }
   ],
   "source": [
    "datadf2 = datadf2.drop(['depth'], axis=1)     #dropar coluna 'depth' (não é necessária pq é sempre igual)\n",
    "datadf2    #os dados .nc estão agora no formato de uma dataframe"
   ]
  },
  {
   "cell_type": "code",
   "execution_count": 8,
   "id": "9dc3f905",
   "metadata": {},
   "outputs": [
    {
     "data": {
      "text/html": [
       "<div>\n",
       "<style scoped>\n",
       "    .dataframe tbody tr th:only-of-type {\n",
       "        vertical-align: middle;\n",
       "    }\n",
       "\n",
       "    .dataframe tbody tr th {\n",
       "        vertical-align: top;\n",
       "    }\n",
       "\n",
       "    .dataframe thead th {\n",
       "        text-align: right;\n",
       "    }\n",
       "</style>\n",
       "<table border=\"1\" class=\"dataframe\">\n",
       "  <thead>\n",
       "    <tr style=\"text-align: right;\">\n",
       "      <th></th>\n",
       "      <th>time</th>\n",
       "      <th>latitude</th>\n",
       "      <th>longitude</th>\n",
       "      <th>thetao</th>\n",
       "    </tr>\n",
       "  </thead>\n",
       "  <tbody>\n",
       "    <tr>\n",
       "      <th>0</th>\n",
       "      <td>2019-01-01 12:00:00</td>\n",
       "      <td>35.0</td>\n",
       "      <td>-19.0</td>\n",
       "      <td>17.766001</td>\n",
       "    </tr>\n",
       "    <tr>\n",
       "      <th>1</th>\n",
       "      <td>2019-01-02 12:00:00</td>\n",
       "      <td>35.0</td>\n",
       "      <td>-19.0</td>\n",
       "      <td>17.969000</td>\n",
       "    </tr>\n",
       "    <tr>\n",
       "      <th>2</th>\n",
       "      <td>2019-01-03 12:00:00</td>\n",
       "      <td>35.0</td>\n",
       "      <td>-19.0</td>\n",
       "      <td>18.152000</td>\n",
       "    </tr>\n",
       "    <tr>\n",
       "      <th>3</th>\n",
       "      <td>2019-01-04 12:00:00</td>\n",
       "      <td>35.0</td>\n",
       "      <td>-19.0</td>\n",
       "      <td>18.254002</td>\n",
       "    </tr>\n",
       "    <tr>\n",
       "      <th>4</th>\n",
       "      <td>2019-01-05 12:00:00</td>\n",
       "      <td>35.0</td>\n",
       "      <td>-19.0</td>\n",
       "      <td>18.211000</td>\n",
       "    </tr>\n",
       "    <tr>\n",
       "      <th>...</th>\n",
       "      <td>...</td>\n",
       "      <td>...</td>\n",
       "      <td>...</td>\n",
       "      <td>...</td>\n",
       "    </tr>\n",
       "    <tr>\n",
       "      <th>7320737</th>\n",
       "      <td>2019-12-20 12:00:00</td>\n",
       "      <td>45.0</td>\n",
       "      <td>-5.0</td>\n",
       "      <td>13.619000</td>\n",
       "    </tr>\n",
       "    <tr>\n",
       "      <th>7320738</th>\n",
       "      <td>2019-12-21 12:00:00</td>\n",
       "      <td>45.0</td>\n",
       "      <td>-5.0</td>\n",
       "      <td>13.559000</td>\n",
       "    </tr>\n",
       "    <tr>\n",
       "      <th>7320739</th>\n",
       "      <td>2019-12-22 12:00:00</td>\n",
       "      <td>45.0</td>\n",
       "      <td>-5.0</td>\n",
       "      <td>13.458000</td>\n",
       "    </tr>\n",
       "    <tr>\n",
       "      <th>7320740</th>\n",
       "      <td>2019-12-23 12:00:00</td>\n",
       "      <td>45.0</td>\n",
       "      <td>-5.0</td>\n",
       "      <td>13.400000</td>\n",
       "    </tr>\n",
       "    <tr>\n",
       "      <th>7320741</th>\n",
       "      <td>2019-12-24 12:00:00</td>\n",
       "      <td>45.0</td>\n",
       "      <td>-5.0</td>\n",
       "      <td>13.390000</td>\n",
       "    </tr>\n",
       "  </tbody>\n",
       "</table>\n",
       "<p>7320742 rows × 4 columns</p>\n",
       "</div>"
      ],
      "text/plain": [
       "                       time  latitude  longitude     thetao\n",
       "0       2019-01-01 12:00:00      35.0      -19.0  17.766001\n",
       "1       2019-01-02 12:00:00      35.0      -19.0  17.969000\n",
       "2       2019-01-03 12:00:00      35.0      -19.0  18.152000\n",
       "3       2019-01-04 12:00:00      35.0      -19.0  18.254002\n",
       "4       2019-01-05 12:00:00      35.0      -19.0  18.211000\n",
       "...                     ...       ...        ...        ...\n",
       "7320737 2019-12-20 12:00:00      45.0       -5.0  13.619000\n",
       "7320738 2019-12-21 12:00:00      45.0       -5.0  13.559000\n",
       "7320739 2019-12-22 12:00:00      45.0       -5.0  13.458000\n",
       "7320740 2019-12-23 12:00:00      45.0       -5.0  13.400000\n",
       "7320741 2019-12-24 12:00:00      45.0       -5.0  13.390000\n",
       "\n",
       "[7320742 rows x 4 columns]"
      ]
     },
     "execution_count": 8,
     "metadata": {},
     "output_type": "execute_result"
    }
   ],
   "source": [
    "datadf2 = datadf2[['time', 'latitude', 'longitude', 'thetao']]    #reorganizar as colunas da dataframe\n",
    "datadf2"
   ]
  },
  {
   "cell_type": "code",
   "execution_count": null,
   "id": "7c8473ba",
   "metadata": {},
   "outputs": [],
   "source": []
  },
  {
   "cell_type": "code",
   "execution_count": null,
   "id": "e98765ec",
   "metadata": {},
   "outputs": [],
   "source": []
  },
  {
   "cell_type": "code",
   "execution_count": null,
   "id": "ee894b0e",
   "metadata": {},
   "outputs": [],
   "source": [
    "#### Começar por tentar fazer um composite map com 2 imagens (canny arrays)"
   ]
  },
  {
   "cell_type": "code",
   "execution_count": 9,
   "id": "7a4535a1",
   "metadata": {},
   "outputs": [
    {
     "data": {
      "text/html": [
       "<div>\n",
       "<style scoped>\n",
       "    .dataframe tbody tr th:only-of-type {\n",
       "        vertical-align: middle;\n",
       "    }\n",
       "\n",
       "    .dataframe tbody tr th {\n",
       "        vertical-align: top;\n",
       "    }\n",
       "\n",
       "    .dataframe thead th {\n",
       "        text-align: right;\n",
       "    }\n",
       "</style>\n",
       "<table border=\"1\" class=\"dataframe\">\n",
       "  <thead>\n",
       "    <tr style=\"text-align: right;\">\n",
       "      <th></th>\n",
       "      <th>time</th>\n",
       "      <th>latitude</th>\n",
       "      <th>longitude</th>\n",
       "      <th>thetao</th>\n",
       "    </tr>\n",
       "  </thead>\n",
       "  <tbody>\n",
       "    <tr>\n",
       "      <th>267</th>\n",
       "      <td>2019-09-25 12:00:00</td>\n",
       "      <td>35.0</td>\n",
       "      <td>-19.000000</td>\n",
       "      <td>22.527000</td>\n",
       "    </tr>\n",
       "    <tr>\n",
       "      <th>625</th>\n",
       "      <td>2019-09-25 12:00:00</td>\n",
       "      <td>35.0</td>\n",
       "      <td>-18.916666</td>\n",
       "      <td>22.516001</td>\n",
       "    </tr>\n",
       "    <tr>\n",
       "      <th>983</th>\n",
       "      <td>2019-09-25 12:00:00</td>\n",
       "      <td>35.0</td>\n",
       "      <td>-18.833334</td>\n",
       "      <td>22.648001</td>\n",
       "    </tr>\n",
       "    <tr>\n",
       "      <th>1341</th>\n",
       "      <td>2019-09-25 12:00:00</td>\n",
       "      <td>35.0</td>\n",
       "      <td>-18.750000</td>\n",
       "      <td>22.809002</td>\n",
       "    </tr>\n",
       "    <tr>\n",
       "      <th>1699</th>\n",
       "      <td>2019-09-25 12:00:00</td>\n",
       "      <td>35.0</td>\n",
       "      <td>-18.666666</td>\n",
       "      <td>22.910000</td>\n",
       "    </tr>\n",
       "    <tr>\n",
       "      <th>...</th>\n",
       "      <td>...</td>\n",
       "      <td>...</td>\n",
       "      <td>...</td>\n",
       "      <td>...</td>\n",
       "    </tr>\n",
       "    <tr>\n",
       "      <th>7319219</th>\n",
       "      <td>2019-09-25 12:00:00</td>\n",
       "      <td>45.0</td>\n",
       "      <td>-5.333334</td>\n",
       "      <td>19.063999</td>\n",
       "    </tr>\n",
       "    <tr>\n",
       "      <th>7319577</th>\n",
       "      <td>2019-09-25 12:00:00</td>\n",
       "      <td>45.0</td>\n",
       "      <td>-5.250000</td>\n",
       "      <td>19.021999</td>\n",
       "    </tr>\n",
       "    <tr>\n",
       "      <th>7319935</th>\n",
       "      <td>2019-09-25 12:00:00</td>\n",
       "      <td>45.0</td>\n",
       "      <td>-5.166667</td>\n",
       "      <td>18.996000</td>\n",
       "    </tr>\n",
       "    <tr>\n",
       "      <th>7320293</th>\n",
       "      <td>2019-09-25 12:00:00</td>\n",
       "      <td>45.0</td>\n",
       "      <td>-5.083334</td>\n",
       "      <td>19.000999</td>\n",
       "    </tr>\n",
       "    <tr>\n",
       "      <th>7320651</th>\n",
       "      <td>2019-09-25 12:00:00</td>\n",
       "      <td>45.0</td>\n",
       "      <td>-5.000000</td>\n",
       "      <td>19.035000</td>\n",
       "    </tr>\n",
       "  </tbody>\n",
       "</table>\n",
       "<p>20449 rows × 4 columns</p>\n",
       "</div>"
      ],
      "text/plain": [
       "                       time  latitude  longitude     thetao\n",
       "267     2019-09-25 12:00:00      35.0 -19.000000  22.527000\n",
       "625     2019-09-25 12:00:00      35.0 -18.916666  22.516001\n",
       "983     2019-09-25 12:00:00      35.0 -18.833334  22.648001\n",
       "1341    2019-09-25 12:00:00      35.0 -18.750000  22.809002\n",
       "1699    2019-09-25 12:00:00      35.0 -18.666666  22.910000\n",
       "...                     ...       ...        ...        ...\n",
       "7319219 2019-09-25 12:00:00      45.0  -5.333334  19.063999\n",
       "7319577 2019-09-25 12:00:00      45.0  -5.250000  19.021999\n",
       "7319935 2019-09-25 12:00:00      45.0  -5.166667  18.996000\n",
       "7320293 2019-09-25 12:00:00      45.0  -5.083334  19.000999\n",
       "7320651 2019-09-25 12:00:00      45.0  -5.000000  19.035000\n",
       "\n",
       "[20449 rows x 4 columns]"
      ]
     },
     "execution_count": 9,
     "metadata": {},
     "output_type": "execute_result"
    }
   ],
   "source": [
    "#Df com dados relativos a um dia específico (neste caso 25 Setembro)\n",
    "dia25 = datadf2[datadf2['time'] == '2019-09-25 12:00:00']\n",
    "dia25"
   ]
  },
  {
   "cell_type": "code",
   "execution_count": 10,
   "id": "2ee4eb9f",
   "metadata": {},
   "outputs": [
    {
     "data": {
      "text/html": [
       "<div>\n",
       "<style scoped>\n",
       "    .dataframe tbody tr th:only-of-type {\n",
       "        vertical-align: middle;\n",
       "    }\n",
       "\n",
       "    .dataframe tbody tr th {\n",
       "        vertical-align: top;\n",
       "    }\n",
       "\n",
       "    .dataframe thead th {\n",
       "        text-align: right;\n",
       "    }\n",
       "</style>\n",
       "<table border=\"1\" class=\"dataframe\">\n",
       "  <thead>\n",
       "    <tr style=\"text-align: right;\">\n",
       "      <th></th>\n",
       "      <th>time</th>\n",
       "      <th>latitude</th>\n",
       "      <th>longitude</th>\n",
       "      <th>thetao</th>\n",
       "    </tr>\n",
       "  </thead>\n",
       "  <tbody>\n",
       "    <tr>\n",
       "      <th>268</th>\n",
       "      <td>2019-09-26 12:00:00</td>\n",
       "      <td>35.0</td>\n",
       "      <td>-19.000000</td>\n",
       "      <td>22.477001</td>\n",
       "    </tr>\n",
       "    <tr>\n",
       "      <th>626</th>\n",
       "      <td>2019-09-26 12:00:00</td>\n",
       "      <td>35.0</td>\n",
       "      <td>-18.916666</td>\n",
       "      <td>22.535000</td>\n",
       "    </tr>\n",
       "    <tr>\n",
       "      <th>984</th>\n",
       "      <td>2019-09-26 12:00:00</td>\n",
       "      <td>35.0</td>\n",
       "      <td>-18.833334</td>\n",
       "      <td>22.711000</td>\n",
       "    </tr>\n",
       "    <tr>\n",
       "      <th>1342</th>\n",
       "      <td>2019-09-26 12:00:00</td>\n",
       "      <td>35.0</td>\n",
       "      <td>-18.750000</td>\n",
       "      <td>22.859001</td>\n",
       "    </tr>\n",
       "    <tr>\n",
       "      <th>1700</th>\n",
       "      <td>2019-09-26 12:00:00</td>\n",
       "      <td>35.0</td>\n",
       "      <td>-18.666666</td>\n",
       "      <td>22.924999</td>\n",
       "    </tr>\n",
       "    <tr>\n",
       "      <th>...</th>\n",
       "      <td>...</td>\n",
       "      <td>...</td>\n",
       "      <td>...</td>\n",
       "      <td>...</td>\n",
       "    </tr>\n",
       "    <tr>\n",
       "      <th>7319220</th>\n",
       "      <td>2019-09-26 12:00:00</td>\n",
       "      <td>45.0</td>\n",
       "      <td>-5.333334</td>\n",
       "      <td>18.885000</td>\n",
       "    </tr>\n",
       "    <tr>\n",
       "      <th>7319578</th>\n",
       "      <td>2019-09-26 12:00:00</td>\n",
       "      <td>45.0</td>\n",
       "      <td>-5.250000</td>\n",
       "      <td>18.834999</td>\n",
       "    </tr>\n",
       "    <tr>\n",
       "      <th>7319936</th>\n",
       "      <td>2019-09-26 12:00:00</td>\n",
       "      <td>45.0</td>\n",
       "      <td>-5.166667</td>\n",
       "      <td>18.810001</td>\n",
       "    </tr>\n",
       "    <tr>\n",
       "      <th>7320294</th>\n",
       "      <td>2019-09-26 12:00:00</td>\n",
       "      <td>45.0</td>\n",
       "      <td>-5.083334</td>\n",
       "      <td>18.831001</td>\n",
       "    </tr>\n",
       "    <tr>\n",
       "      <th>7320652</th>\n",
       "      <td>2019-09-26 12:00:00</td>\n",
       "      <td>45.0</td>\n",
       "      <td>-5.000000</td>\n",
       "      <td>18.901001</td>\n",
       "    </tr>\n",
       "  </tbody>\n",
       "</table>\n",
       "<p>20449 rows × 4 columns</p>\n",
       "</div>"
      ],
      "text/plain": [
       "                       time  latitude  longitude     thetao\n",
       "268     2019-09-26 12:00:00      35.0 -19.000000  22.477001\n",
       "626     2019-09-26 12:00:00      35.0 -18.916666  22.535000\n",
       "984     2019-09-26 12:00:00      35.0 -18.833334  22.711000\n",
       "1342    2019-09-26 12:00:00      35.0 -18.750000  22.859001\n",
       "1700    2019-09-26 12:00:00      35.0 -18.666666  22.924999\n",
       "...                     ...       ...        ...        ...\n",
       "7319220 2019-09-26 12:00:00      45.0  -5.333334  18.885000\n",
       "7319578 2019-09-26 12:00:00      45.0  -5.250000  18.834999\n",
       "7319936 2019-09-26 12:00:00      45.0  -5.166667  18.810001\n",
       "7320294 2019-09-26 12:00:00      45.0  -5.083334  18.831001\n",
       "7320652 2019-09-26 12:00:00      45.0  -5.000000  18.901001\n",
       "\n",
       "[20449 rows x 4 columns]"
      ]
     },
     "execution_count": 10,
     "metadata": {},
     "output_type": "execute_result"
    }
   ],
   "source": [
    "#Df com dados relativos a um dia específico (neste caso 25 Setembro)\n",
    "dia26 = datadf2[datadf2['time'] == '2019-09-26 12:00:00']\n",
    "dia26"
   ]
  },
  {
   "cell_type": "code",
   "execution_count": null,
   "id": "f7a4b906",
   "metadata": {},
   "outputs": [],
   "source": []
  },
  {
   "cell_type": "code",
   "execution_count": 11,
   "id": "57860cbd",
   "metadata": {},
   "outputs": [],
   "source": [
    "def canny_creation(df, Tmax):\n",
    "    \n",
    "    \"\"\"\n",
    "    Função que pega numa df com temperaturas relativas a um certo dia e retorna a matriz obtida através do Canny\n",
    "    \"\"\"\n",
    "    \n",
    "    #Pegar na df dum dia e converte-la num np array com os valores de Temperatura para os valores de long e lati\n",
    "    Temp = df.pivot_table(index='longitude', columns='latitude', values='thetao').T.values\n",
    "    \n",
    "    #Converter os valores de temperatura no formato uint8 com valores entre 0-255\n",
    "    Temp_day = ((Temp - np.nanmin(Temp)) * (1/(np.nanmax(Temp) - np.nanmin(Temp)) * 255)).astype('uint8')\n",
    "\n",
    "    Temp_day = np.flipud(Temp_day)   #flipud -> Reverse the order of elements along axis 0 (up/down).\n",
    "    \n",
    "    #apply the canny algorithm and plot the image with the edges\n",
    "    canny = cv2.Canny(Temp_day, Tmax/2, Tmax, L2gradient=False, apertureSize=3)\n",
    "    \n",
    "    return canny"
   ]
  },
  {
   "cell_type": "code",
   "execution_count": 47,
   "id": "f990c1ea",
   "metadata": {},
   "outputs": [
    {
     "data": {
      "text/plain": [
       "array([[0, 0, 0, ..., 0, 0, 0],\n",
       "       [0, 0, 0, ..., 0, 0, 0],\n",
       "       [0, 0, 0, ..., 0, 0, 0],\n",
       "       ...,\n",
       "       [0, 0, 0, ..., 0, 0, 0],\n",
       "       [0, 0, 0, ..., 0, 0, 0],\n",
       "       [0, 0, 0, ..., 0, 0, 0]], dtype=uint8)"
      ]
     },
     "execution_count": 47,
     "metadata": {},
     "output_type": "execute_result"
    }
   ],
   "source": [
    "canny_25 = canny_creation(dia25, 180)\n",
    "canny_25"
   ]
  },
  {
   "cell_type": "code",
   "execution_count": 51,
   "id": "f2afa8a4",
   "metadata": {},
   "outputs": [
    {
     "data": {
      "text/plain": [
       "(121, 169)"
      ]
     },
     "execution_count": 51,
     "metadata": {},
     "output_type": "execute_result"
    }
   ],
   "source": [
    "canny_26 = canny_creation(dia26, 180)\n",
    "canny_26.shape"
   ]
  },
  {
   "cell_type": "code",
   "execution_count": 52,
   "id": "1f6ab2df",
   "metadata": {},
   "outputs": [
    {
     "data": {
      "text/plain": [
       "array([[0, 0, 0, ..., 0, 0, 0],\n",
       "       [0, 0, 0, ..., 0, 0, 0],\n",
       "       [0, 0, 0, ..., 0, 0, 0],\n",
       "       ...,\n",
       "       [0, 0, 0, ..., 0, 0, 0],\n",
       "       [0, 0, 0, ..., 0, 0, 0],\n",
       "       [0, 0, 0, ..., 0, 0, 0]], dtype=uint8)"
      ]
     },
     "execution_count": 52,
     "metadata": {},
     "output_type": "execute_result"
    }
   ],
   "source": [
    "fp = np.zeros((121,169)).astype('uint8')\n",
    "fp"
   ]
  },
  {
   "cell_type": "code",
   "execution_count": null,
   "id": "81ef5f0b",
   "metadata": {},
   "outputs": [],
   "source": []
  },
  {
   "cell_type": "code",
   "execution_count": 57,
   "id": "e2815f9d",
   "metadata": {},
   "outputs": [],
   "source": [
    "fp = fp + canny_25 + canny_26"
   ]
  },
  {
   "cell_type": "code",
   "execution_count": 61,
   "id": "98a573cf",
   "metadata": {},
   "outputs": [
    {
     "data": {
      "text/plain": [
       "255"
      ]
     },
     "execution_count": 61,
     "metadata": {},
     "output_type": "execute_result"
    }
   ],
   "source": [
    "fp.max()"
   ]
  },
  {
   "cell_type": "code",
   "execution_count": 62,
   "id": "d518ae97",
   "metadata": {},
   "outputs": [
    {
     "data": {
      "image/png": "[encoded data removed]",
      "text/plain": [
       "<Figure size 432x288 with 1 Axes>"
      ]
     },
     "metadata": {
      "needs_background": "light"
     },
     "output_type": "display_data"
    }
   ],
   "source": [
    "plt.imshow(fp, 'gray')    #'gray'-> parametro para por a preto e branco\n",
    "plt.axis('off');"
   ]
  },
  {
   "cell_type": "code",
   "execution_count": 37,
   "id": "438252d6",
   "metadata": {},
   "outputs": [],
   "source": []
  },
  {
   "cell_type": "code",
   "execution_count": null,
   "id": "b2b40892",
   "metadata": {},
   "outputs": [],
   "source": []
  },
  {
   "cell_type": "code",
   "execution_count": null,
   "id": "2d131de2",
   "metadata": {},
   "outputs": [],
   "source": []
  },
  {
   "cell_type": "markdown",
   "id": "db35e7f7",
   "metadata": {},
   "source": [
    "A fazer: \n",
    "    criar uma função que me divida a dataframe original conforme os dias e depois lhe aplique a função canny_creation para que eu depois consiga construir a matriz de probability front"
   ]
  },
  {
   "cell_type": "code",
   "execution_count": null,
   "id": "dd0ff5ad",
   "metadata": {},
   "outputs": [],
   "source": []
  },
  {
   "cell_type": "code",
   "execution_count": null,
   "id": "56e1d251",
   "metadata": {},
   "outputs": [],
   "source": []
  }
 ],
 "metadata": {
  "kernelspec": {
   "display_name": "Python 3 (ipykernel)",
   "language": "python",
   "name": "python3"
  },
  "language_info": {
   "codemirror_mode": {
    "name": "ipython",
    "version": 3
   },
   "file_extension": ".py",
   "mimetype": "text/x-python",
   "name": "python",
   "nbconvert_exporter": "python",
   "pygments_lexer": "ipython3",
   "version": "3.8.10"
  }
 },
 "nbformat": 4,
 "nbformat_minor": 5
}
