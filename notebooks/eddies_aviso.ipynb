{
 "cells": [
  {
   "cell_type": "markdown",
   "id": "e7f33836",
   "metadata": {},
   "source": [
    "#### Eddies -> circular currents of water. The swirling motion of eddies in the ocean cause nutrients that are normally found in colder, deeper waters to come to the surface."
   ]
  },
  {
   "cell_type": "markdown",
   "id": "d72468b3",
   "metadata": {},
   "source": [
    "#### Tier1 -> summary of the dataset characteristics, key strengths, key weakness, known issues, fitness for purpose"
   ]
  },
  {
   "cell_type": "code",
   "execution_count": null,
   "id": "f241dc94",
   "metadata": {},
   "outputs": [],
   "source": []
  },
  {
   "cell_type": "code",
   "execution_count": 1,
   "id": "68126c39",
   "metadata": {},
   "outputs": [
    {
     "name": "stderr",
     "output_type": "stream",
     "text": [
      "/home/luisfigueiredo/.local/lib/python3.8/site-packages/requests/__init__.py:89: RequestsDependencyWarning: urllib3 (1.26.9) or chardet (4.0.0) doesn't match a supported version!\n",
      "  warnings.warn(\"urllib3 ({}) or chardet ({}) doesn't match a supported \"\n"
     ]
    }
   ],
   "source": [
    "#Import libraries\n",
    "\n",
    "import os\n",
    "import numpy as np\n",
    "import netCDF4 as nc\n",
    "import matplotlib.pyplot as plt\n",
    "import xarray as xr\n",
    "import matplotlib\n",
    "from pathlib import Path\n",
    "%matplotlib inline\n",
    "from PIL import Image\n",
    "\n",
    "\n",
    "plt.rcParams[\"figure.figsize\"] = 12, 8"
   ]
  },
  {
   "cell_type": "code",
   "execution_count": null,
   "id": "28af0640",
   "metadata": {},
   "outputs": [],
   "source": []
  },
  {
   "cell_type": "code",
   "execution_count": null,
   "id": "ebe1dd65",
   "metadata": {},
   "outputs": [],
   "source": []
  },
  {
   "cell_type": "code",
   "execution_count": 2,
   "id": "d6e0f2a9",
   "metadata": {},
   "outputs": [
    {
     "data": {
      "text/plain": [
       "'/home/luisfigueiredo/JUNO/notebooks'"
      ]
     },
     "execution_count": 2,
     "metadata": {},
     "output_type": "execute_result"
    }
   ],
   "source": [
    "current_path = os.getcwd()\n",
    "current_path"
   ]
  },
  {
   "cell_type": "code",
   "execution_count": 3,
   "id": "596ec13c",
   "metadata": {},
   "outputs": [
    {
     "data": {
      "text/plain": [
       "'/home/luisfigueiredo/JUNO/notebooks/../data/AVISO'"
      ]
     },
     "execution_count": 3,
     "metadata": {},
     "output_type": "execute_result"
    }
   ],
   "source": [
    "aviso_folder = os.path.join(current_path,\"../data/AVISO\")\n",
    "aviso_folder"
   ]
  },
  {
   "cell_type": "code",
   "execution_count": 4,
   "id": "144f606a",
   "metadata": {},
   "outputs": [],
   "source": [
    "nc_path = os.path.join(aviso_folder, \"Eddy_trajectory_nrt_3.2exp_cyclonic_20180101_20220829.nc\")\n",
    "ds = nc.Dataset(nc_path)\n",
    "data = xr.load_dataset(nc_path)"
   ]
  },
  {
   "cell_type": "code",
   "execution_count": 5,
   "id": "0caf4c16",
   "metadata": {},
   "outputs": [
    {
     "name": "stdout",
     "output_type": "stream",
     "text": [
      "<class 'netCDF4._netCDF4.Dataset'>\n",
      "root group (NETCDF4 data model, file format HDF5):\n",
      "    Metadata_Conventions: Unidata Dataset Discovery v1.0\n",
      "    comment: Surface product; mesoscale eddies\n",
      "    creator_email: aviso@altimetry.fr\n",
      "    creator_url: https://www.aviso.altimetry.fr\n",
      "    date_created: 2022-10-06T06:36:20Z\n",
      "    framework_used: https://github.com/AntSimi/py-eddy-tracker\n",
      "    framework_version: v3.6.0\n",
      "    input_maps_processing: DUACS DT2018 until 2021-12-07, DUACS DT2021 since 2021-12-08\n",
      "    input_product_reference: https://www.aviso.altimetry.fr/en/data/products/value-added-products/global-mesoscale-eddy-trajectory-product.html\n",
      "    institution: CLS/CNES in collaboration with IMEDEA\n",
      "    license: https://www.aviso.altimetry.fr/fileadmin/documents/data/License_Aviso.pdf\n",
      "    product_version: 3.2exp\n",
      "    project: SSALTO/DUACS\n",
      "    standard_name_vocabulary: NetCDF Climate and Forecast (CF) Metadata Convention Standard Name Table\n",
      "    summary: This dataset contains eddy atlas from all-satellite NRT CMEMS maps over global ocean (SEALEVEL_GLO_PHY_L4_NRT_OBSERVATIONS*)\n",
      "    time_coverage_duration: P1702D\n",
      "    time_coverage_end: 2022-08-29T00:00:00Z\n",
      "    time_coverage_start: 2018-01-01T00:00:00Z\n",
      "    title: Mesoscale Cyclonic Eddies in Altimeter Observations of ADT\n",
      "    dimensions(sizes): obs(5944501), NbSample(20)\n",
      "    variables(dimensions): uint16 amplitude(obs), float32 effective_area(obs), float32 effective_contour_height(obs), int16 effective_contour_latitude(obs, NbSample), int16 effective_contour_longitude(obs, NbSample), uint8 effective_contour_shape_error(obs), uint16 effective_radius(obs), float32 inner_contour_height(obs), float32 latitude(obs), float32 latitude_max(obs), float32 longitude(obs), float32 longitude_max(obs), uint16 num_contours(obs), uint16 num_point_e(obs), uint16 num_point_s(obs), int8 observation_flag(obs), uint16 observation_number(obs), float32 speed_area(obs), uint16 speed_average(obs), float32 speed_contour_height(obs), int16 speed_contour_latitude(obs, NbSample), int16 speed_contour_longitude(obs, NbSample), uint8 speed_contour_shape_error(obs), uint16 speed_radius(obs), uint32 time(obs), uint32 track(obs), uint16 uavg_profile(obs, NbSample)\n",
      "    groups: \n"
     ]
    }
   ],
   "source": [
    "print(ds)"
   ]
  },
  {
   "cell_type": "code",
   "execution_count": null,
   "id": "50e0e10e",
   "metadata": {},
   "outputs": [],
   "source": []
  },
  {
   "cell_type": "code",
   "execution_count": 6,
   "id": "b30fc24c",
   "metadata": {},
   "outputs": [
    {
     "data": {
      "text/html": [
       "<div><svg style=\"position: absolute; width: 0; height: 0; overflow: hidden\">\n",
       "<defs>\n",
       "<symbol id=\"icon-database\" viewBox=\"0 0 32 32\">\n",
       "<path d=\"M16 0c-8.837 0-16 2.239-16 5v4c0 2.761 7.163 5 16 5s16-2.239 16-5v-4c0-2.761-7.163-5-16-5z\"></path>\n",
       "<path d=\"M16 17c-8.837 0-16-2.239-16-5v6c0 2.761 7.163 5 16 5s16-2.239 16-5v-6c0 2.761-7.163 5-16 5z\"></path>\n",
       "<path d=\"M16 26c-8.837 0-16-2.239-16-5v6c0 2.761 7.163 5 16 5s16-2.239 16-5v-6c0 2.761-7.163 5-16 5z\"></path>\n",
       "</symbol>\n",
       "<symbol id=\"icon-file-text2\" viewBox=\"0 0 32 32\">\n",
       "<path d=\"M28.681 7.159c-0.694-0.947-1.662-2.053-2.724-3.116s-2.169-2.030-3.116-2.724c-1.612-1.182-2.393-1.319-2.841-1.319h-15.5c-1.378 0-2.5 1.121-2.5 2.5v27c0 1.378 1.122 2.5 2.5 2.5h23c1.378 0 2.5-1.122 2.5-2.5v-19.5c0-0.448-0.137-1.23-1.319-2.841zM24.543 5.457c0.959 0.959 1.712 1.825 2.268 2.543h-4.811v-4.811c0.718 0.556 1.584 1.309 2.543 2.268zM28 29.5c0 0.271-0.229 0.5-0.5 0.5h-23c-0.271 0-0.5-0.229-0.5-0.5v-27c0-0.271 0.229-0.5 0.5-0.5 0 0 15.499-0 15.5 0v7c0 0.552 0.448 1 1 1h7v19.5z\"></path>\n",
       "<path d=\"M23 26h-14c-0.552 0-1-0.448-1-1s0.448-1 1-1h14c0.552 0 1 0.448 1 1s-0.448 1-1 1z\"></path>\n",
       "<path d=\"M23 22h-14c-0.552 0-1-0.448-1-1s0.448-1 1-1h14c0.552 0 1 0.448 1 1s-0.448 1-1 1z\"></path>\n",
       "<path d=\"M23 18h-14c-0.552 0-1-0.448-1-1s0.448-1 1-1h14c0.552 0 1 0.448 1 1s-0.448 1-1 1z\"></path>\n",
       "</symbol>\n",
       "</defs>\n",
       "</svg>\n",
       "<style>/* CSS stylesheet for displaying xarray objects in jupyterlab.\n",
       " *\n",
       " */\n",
       "\n",
       ":root {\n",
       "  --xr-font-color0: var(--jp-content-font-color0, rgba(0, 0, 0, 1));\n",
       "  --xr-font-color2: var(--jp-content-font-color2, rgba(0, 0, 0, 0.54));\n",
       "  --xr-font-color3: var(--jp-content-font-color3, rgba(0, 0, 0, 0.38));\n",
       "  --xr-border-color: var(--jp-border-color2, #e0e0e0);\n",
       "  --xr-disabled-color: var(--jp-layout-color3, #bdbdbd);\n",
       "  --xr-background-color: var(--jp-layout-color0, white);\n",
       "  --xr-background-color-row-even: var(--jp-layout-color1, white);\n",
       "  --xr-background-color-row-odd: var(--jp-layout-color2, #eeeeee);\n",
       "}\n",
       "\n",
       "html[theme=dark],\n",
       "body.vscode-dark {\n",
       "  --xr-font-color0: rgba(255, 255, 255, 1);\n",
       "  --xr-font-color2: rgba(255, 255, 255, 0.54);\n",
       "  --xr-font-color3: rgba(255, 255, 255, 0.38);\n",
       "  --xr-border-color: #1F1F1F;\n",
       "  --xr-disabled-color: #515151;\n",
       "  --xr-background-color: #111111;\n",
       "  --xr-background-color-row-even: #111111;\n",
       "  --xr-background-color-row-odd: #313131;\n",
       "}\n",
       "\n",
       ".xr-wrap {\n",
       "  display: block;\n",
       "  min-width: 300px;\n",
       "  max-width: 700px;\n",
       "}\n",
       "\n",
       ".xr-text-repr-fallback {\n",
       "  /* fallback to plain text repr when CSS is not injected (untrusted notebook) */\n",
       "  display: none;\n",
       "}\n",
       "\n",
       ".xr-header {\n",
       "  padding-top: 6px;\n",
       "  padding-bottom: 6px;\n",
       "  margin-bottom: 4px;\n",
       "  border-bottom: solid 1px var(--xr-border-color);\n",
       "}\n",
       "\n",
       ".xr-header > div,\n",
       ".xr-header > ul {\n",
       "  display: inline;\n",
       "  margin-top: 0;\n",
       "  margin-bottom: 0;\n",
       "}\n",
       "\n",
       ".xr-obj-type,\n",
       ".xr-array-name {\n",
       "  margin-left: 2px;\n",
       "  margin-right: 10px;\n",
       "}\n",
       "\n",
       ".xr-obj-type {\n",
       "  color: var(--xr-font-color2);\n",
       "}\n",
       "\n",
       ".xr-sections {\n",
       "  padding-left: 0 !important;\n",
       "  display: grid;\n",
       "  grid-template-columns: 150px auto auto 1fr 20px 20px;\n",
       "}\n",
       "\n",
       ".xr-section-item {\n",
       "  display: contents;\n",
       "}\n",
       "\n",
       ".xr-section-item input {\n",
       "  display: none;\n",
       "}\n",
       "\n",
       ".xr-section-item input + label {\n",
       "  color: var(--xr-disabled-color);\n",
       "}\n",
       "\n",
       ".xr-section-item input:enabled + label {\n",
       "  cursor: pointer;\n",
       "  color: var(--xr-font-color2);\n",
       "}\n",
       "\n",
       ".xr-section-item input:enabled + label:hover {\n",
       "  color: var(--xr-font-color0);\n",
       "}\n",
       "\n",
       ".xr-section-summary {\n",
       "  grid-column: 1;\n",
       "  color: var(--xr-font-color2);\n",
       "  font-weight: 500;\n",
       "}\n",
       "\n",
       ".xr-section-summary > span {\n",
       "  display: inline-block;\n",
       "  padding-left: 0.5em;\n",
       "}\n",
       "\n",
       ".xr-section-summary-in:disabled + label {\n",
       "  color: var(--xr-font-color2);\n",
       "}\n",
       "\n",
       ".xr-section-summary-in + label:before {\n",
       "  display: inline-block;\n",
       "  content: '►';\n",
       "  font-size: 11px;\n",
       "  width: 15px;\n",
       "  text-align: center;\n",
       "}\n",
       "\n",
       ".xr-section-summary-in:disabled + label:before {\n",
       "  color: var(--xr-disabled-color);\n",
       "}\n",
       "\n",
       ".xr-section-summary-in:checked + label:before {\n",
       "  content: '▼';\n",
       "}\n",
       "\n",
       ".xr-section-summary-in:checked + label > span {\n",
       "  display: none;\n",
       "}\n",
       "\n",
       ".xr-section-summary,\n",
       ".xr-section-inline-details {\n",
       "  padding-top: 4px;\n",
       "  padding-bottom: 4px;\n",
       "}\n",
       "\n",
       ".xr-section-inline-details {\n",
       "  grid-column: 2 / -1;\n",
       "}\n",
       "\n",
       ".xr-section-details {\n",
       "  display: none;\n",
       "  grid-column: 1 / -1;\n",
       "  margin-bottom: 5px;\n",
       "}\n",
       "\n",
       ".xr-section-summary-in:checked ~ .xr-section-details {\n",
       "  display: contents;\n",
       "}\n",
       "\n",
       ".xr-array-wrap {\n",
       "  grid-column: 1 / -1;\n",
       "  display: grid;\n",
       "  grid-template-columns: 20px auto;\n",
       "}\n",
       "\n",
       ".xr-array-wrap > label {\n",
       "  grid-column: 1;\n",
       "  vertical-align: top;\n",
       "}\n",
       "\n",
       ".xr-preview {\n",
       "  color: var(--xr-font-color3);\n",
       "}\n",
       "\n",
       ".xr-array-preview,\n",
       ".xr-array-data {\n",
       "  padding: 0 5px !important;\n",
       "  grid-column: 2;\n",
       "}\n",
       "\n",
       ".xr-array-data,\n",
       ".xr-array-in:checked ~ .xr-array-preview {\n",
       "  display: none;\n",
       "}\n",
       "\n",
       ".xr-array-in:checked ~ .xr-array-data,\n",
       ".xr-array-preview {\n",
       "  display: inline-block;\n",
       "}\n",
       "\n",
       ".xr-dim-list {\n",
       "  display: inline-block !important;\n",
       "  list-style: none;\n",
       "  padding: 0 !important;\n",
       "  margin: 0;\n",
       "}\n",
       "\n",
       ".xr-dim-list li {\n",
       "  display: inline-block;\n",
       "  padding: 0;\n",
       "  margin: 0;\n",
       "}\n",
       "\n",
       ".xr-dim-list:before {\n",
       "  content: '(';\n",
       "}\n",
       "\n",
       ".xr-dim-list:after {\n",
       "  content: ')';\n",
       "}\n",
       "\n",
       ".xr-dim-list li:not(:last-child):after {\n",
       "  content: ',';\n",
       "  padding-right: 5px;\n",
       "}\n",
       "\n",
       ".xr-has-index {\n",
       "  font-weight: bold;\n",
       "}\n",
       "\n",
       ".xr-var-list,\n",
       ".xr-var-item {\n",
       "  display: contents;\n",
       "}\n",
       "\n",
       ".xr-var-item > div,\n",
       ".xr-var-item label,\n",
       ".xr-var-item > .xr-var-name span {\n",
       "  background-color: var(--xr-background-color-row-even);\n",
       "  margin-bottom: 0;\n",
       "}\n",
       "\n",
       ".xr-var-item > .xr-var-name:hover span {\n",
       "  padding-right: 5px;\n",
       "}\n",
       "\n",
       ".xr-var-list > li:nth-child(odd) > div,\n",
       ".xr-var-list > li:nth-child(odd) > label,\n",
       ".xr-var-list > li:nth-child(odd) > .xr-var-name span {\n",
       "  background-color: var(--xr-background-color-row-odd);\n",
       "}\n",
       "\n",
       ".xr-var-name {\n",
       "  grid-column: 1;\n",
       "}\n",
       "\n",
       ".xr-var-dims {\n",
       "  grid-column: 2;\n",
       "}\n",
       "\n",
       ".xr-var-dtype {\n",
       "  grid-column: 3;\n",
       "  text-align: right;\n",
       "  color: var(--xr-font-color2);\n",
       "}\n",
       "\n",
       ".xr-var-preview {\n",
       "  grid-column: 4;\n",
       "}\n",
       "\n",
       ".xr-var-name,\n",
       ".xr-var-dims,\n",
       ".xr-var-dtype,\n",
       ".xr-preview,\n",
       ".xr-attrs dt {\n",
       "  white-space: nowrap;\n",
       "  overflow: hidden;\n",
       "  text-overflow: ellipsis;\n",
       "  padding-right: 10px;\n",
       "}\n",
       "\n",
       ".xr-var-name:hover,\n",
       ".xr-var-dims:hover,\n",
       ".xr-var-dtype:hover,\n",
       ".xr-attrs dt:hover {\n",
       "  overflow: visible;\n",
       "  width: auto;\n",
       "  z-index: 1;\n",
       "}\n",
       "\n",
       ".xr-var-attrs,\n",
       ".xr-var-data {\n",
       "  display: none;\n",
       "  background-color: var(--xr-background-color) !important;\n",
       "  padding-bottom: 5px !important;\n",
       "}\n",
       "\n",
       ".xr-var-attrs-in:checked ~ .xr-var-attrs,\n",
       ".xr-var-data-in:checked ~ .xr-var-data {\n",
       "  display: block;\n",
       "}\n",
       "\n",
       ".xr-var-data > table {\n",
       "  float: right;\n",
       "}\n",
       "\n",
       ".xr-var-name span,\n",
       ".xr-var-data,\n",
       ".xr-attrs {\n",
       "  padding-left: 25px !important;\n",
       "}\n",
       "\n",
       ".xr-attrs,\n",
       ".xr-var-attrs,\n",
       ".xr-var-data {\n",
       "  grid-column: 1 / -1;\n",
       "}\n",
       "\n",
       "dl.xr-attrs {\n",
       "  padding: 0;\n",
       "  margin: 0;\n",
       "  display: grid;\n",
       "  grid-template-columns: 125px auto;\n",
       "}\n",
       "\n",
       ".xr-attrs dt,\n",
       ".xr-attrs dd {\n",
       "  padding: 0;\n",
       "  margin: 0;\n",
       "  float: left;\n",
       "  padding-right: 10px;\n",
       "  width: auto;\n",
       "}\n",
       "\n",
       ".xr-attrs dt {\n",
       "  font-weight: normal;\n",
       "  grid-column: 1;\n",
       "}\n",
       "\n",
       ".xr-attrs dt:hover span {\n",
       "  display: inline-block;\n",
       "  background: var(--xr-background-color);\n",
       "  padding-right: 10px;\n",
       "}\n",
       "\n",
       ".xr-attrs dd {\n",
       "  grid-column: 2;\n",
       "  white-space: pre-wrap;\n",
       "  word-break: break-all;\n",
       "}\n",
       "\n",
       ".xr-icon-database,\n",
       ".xr-icon-file-text2 {\n",
       "  display: inline-block;\n",
       "  vertical-align: middle;\n",
       "  width: 1em;\n",
       "  height: 1.5em !important;\n",
       "  stroke-width: 0;\n",
       "  stroke: currentColor;\n",
       "  fill: currentColor;\n",
       "}\n",
       "</style><pre class='xr-text-repr-fallback'>&lt;xarray.Dataset&gt;\n",
       "Dimensions:                        (NbSample: 20, obs: 5944501)\n",
       "Dimensions without coordinates: NbSample, obs\n",
       "Data variables: (12/27)\n",
       "    amplitude                      (obs) float32 0.0437 0.0716 ... 0.0284 0.0396\n",
       "    effective_area                 (obs) float32 6.781e+09 ... 3.221e+09\n",
       "    effective_contour_height       (obs) float32 0.112 0.13 0.11 ... -0.47 -0.46\n",
       "    effective_contour_latitude     (obs, NbSample) float32 33.05 33.12 ... 27.88\n",
       "    effective_contour_longitude    (obs, NbSample) float32 142.1 142.0 ... 279.6\n",
       "    effective_contour_shape_error  (obs) float32 60.0 45.0 48.5 ... 52.5 56.0\n",
       "    ...                             ...\n",
       "    speed_contour_longitude        (obs, NbSample) float32 142.1 141.9 ... 279.6\n",
       "    speed_contour_shape_error      (obs) float32 33.0 30.0 34.5 ... 51.5 56.0\n",
       "    speed_radius                   (obs) float32 3.575e+04 3.85e+04 ... 3.68e+04\n",
       "    time                           (obs) datetime64[ns] 2018-01-01 ... 2022-0...\n",
       "    track                          (obs) uint32 0 0 0 0 ... 135109 135109 135109\n",
       "    uavg_profile                   (obs, NbSample) float32 0.1932 ... 0.5142\n",
       "Attributes: (12/19)\n",
       "    Metadata_Conventions:      Unidata Dataset Discovery v1.0\n",
       "    comment:                   Surface product; mesoscale eddies\n",
       "    creator_email:             aviso@altimetry.fr\n",
       "    creator_url:               https://www.aviso.altimetry.fr\n",
       "    date_created:              2022-10-06T06:36:20Z\n",
       "    framework_used:            https://github.com/AntSimi/py-eddy-tracker\n",
       "    ...                        ...\n",
       "    standard_name_vocabulary:  NetCDF Climate and Forecast (CF) Metadata Conv...\n",
       "    summary:                   This dataset contains eddy atlas from all-sate...\n",
       "    time_coverage_duration:    P1702D\n",
       "    time_coverage_end:         2022-08-29T00:00:00Z\n",
       "    time_coverage_start:       2018-01-01T00:00:00Z\n",
       "    title:                     Mesoscale Cyclonic Eddies in Altimeter Observa...</pre><div class='xr-wrap' hidden><div class='xr-header'><div class='xr-obj-type'>xarray.Dataset</div></div><ul class='xr-sections'><li class='xr-section-item'><input id='section-a92c1565-9010-4335-ac60-b58f8b734380' class='xr-section-summary-in' type='checkbox' disabled ><label for='section-a92c1565-9010-4335-ac60-b58f8b734380' class='xr-section-summary'  title='Expand/collapse section'>Dimensions:</label><div class='xr-section-inline-details'><ul class='xr-dim-list'><li><span>NbSample</span>: 20</li><li><span>obs</span>: 5944501</li></ul></div><div class='xr-section-details'></div></li><li class='xr-section-item'><input id='section-8a3fbb62-432d-4a76-a22c-d4bf9dcb873f' class='xr-section-summary-in' type='checkbox' disabled ><label for='section-8a3fbb62-432d-4a76-a22c-d4bf9dcb873f' class='xr-section-summary'  title='Expand/collapse section'>Coordinates: <span>(0)</span></label><div class='xr-section-inline-details'></div><div class='xr-section-details'><ul class='xr-var-list'></ul></div></li><li class='xr-section-item'><input id='section-073f4f83-51d5-409e-b6d2-48eb65652834' class='xr-section-summary-in' type='checkbox'  ><label for='section-073f4f83-51d5-409e-b6d2-48eb65652834' class='xr-section-summary' >Data variables: <span>(27)</span></label><div class='xr-section-inline-details'></div><div class='xr-section-details'><ul class='xr-var-list'><li class='xr-var-item'><div class='xr-var-name'><span>amplitude</span></div><div class='xr-var-dims'>(obs)</div><div class='xr-var-dtype'>float32</div><div class='xr-var-preview xr-preview'>0.0437 0.0716 ... 0.0284 0.0396</div><input id='attrs-a404740f-8658-4f40-868e-8a62706aeb56' class='xr-var-attrs-in' type='checkbox' ><label for='attrs-a404740f-8658-4f40-868e-8a62706aeb56' title='Show/Hide attributes'><svg class='icon xr-icon-file-text2'><use xlink:href='#icon-file-text2'></use></svg></label><input id='data-f369aa9b-2785-4167-aae4-b04736bed2e5' class='xr-var-data-in' type='checkbox'><label for='data-f369aa9b-2785-4167-aae4-b04736bed2e5' title='Show/Hide data repr'><svg class='icon xr-icon-database'><use xlink:href='#icon-database'></use></svg></label><div class='xr-var-attrs'><dl class='xr-attrs'><dt><span>comment :</span></dt><dd>Magnitude of the height difference between the extremum of SSH within the eddy and the SSH around the effective contour defining the eddy edge</dd><dt><span>long_name :</span></dt><dd>Amplitude</dd><dt><span>units :</span></dt><dd>m</dd><dt><span>min :</span></dt><dd>0.004</dd><dt><span>max :</span></dt><dd>1.3248</dd></dl></div><div class='xr-var-data'><pre>array([0.0437, 0.0716, 0.0303, ..., 0.0314, 0.0284, 0.0396], dtype=float32)</pre></div></li><li class='xr-var-item'><div class='xr-var-name'><span>effective_area</span></div><div class='xr-var-dims'>(obs)</div><div class='xr-var-dtype'>float32</div><div class='xr-var-preview xr-preview'>6.781e+09 1.044e+10 ... 3.221e+09</div><input id='attrs-46c1373e-c215-45f1-8c7a-789970cbc13b' class='xr-var-attrs-in' type='checkbox' ><label for='attrs-46c1373e-c215-45f1-8c7a-789970cbc13b' title='Show/Hide attributes'><svg class='icon xr-icon-file-text2'><use xlink:href='#icon-file-text2'></use></svg></label><input id='data-68cde662-2d5e-4896-bf6a-6a668d62a88c' class='xr-var-data-in' type='checkbox'><label for='data-68cde662-2d5e-4896-bf6a-6a668d62a88c' title='Show/Hide data repr'><svg class='icon xr-icon-database'><use xlink:href='#icon-database'></use></svg></label><div class='xr-var-attrs'><dl class='xr-attrs'><dt><span>comment :</span></dt><dd>Area enclosed by the effective contour in m^2</dd><dt><span>long_name :</span></dt><dd>Effective area</dd><dt><span>units :</span></dt><dd>m^2</dd><dt><span>min :</span></dt><dd>179178050.0</dd><dt><span>max :</span></dt><dd>325393650000.0</dd></dl></div><div class='xr-var-data'><pre>array([6.7810698e+09, 1.0440052e+10, 4.9961723e+09, ..., 2.4633490e+09,\n",
       "       2.6949778e+09, 3.2207585e+09], dtype=float32)</pre></div></li><li class='xr-var-item'><div class='xr-var-name'><span>effective_contour_height</span></div><div class='xr-var-dims'>(obs)</div><div class='xr-var-dtype'>float32</div><div class='xr-var-preview xr-preview'>0.112 0.13 0.11 ... -0.47 -0.46</div><input id='attrs-d7175abd-ee57-4ba8-99db-8836dd0e53d3' class='xr-var-attrs-in' type='checkbox' ><label for='attrs-d7175abd-ee57-4ba8-99db-8836dd0e53d3' title='Show/Hide attributes'><svg class='icon xr-icon-file-text2'><use xlink:href='#icon-file-text2'></use></svg></label><input id='data-648569f4-5e62-4d2f-85c9-a3b7143bbac3' class='xr-var-data-in' type='checkbox'><label for='data-648569f4-5e62-4d2f-85c9-a3b7143bbac3' title='Show/Hide data repr'><svg class='icon xr-icon-database'><use xlink:href='#icon-database'></use></svg></label><div class='xr-var-attrs'><dl class='xr-attrs'><dt><span>comment :</span></dt><dd>SSH filtered height for effective contour</dd><dt><span>long_name :</span></dt><dd>Effective Contour Height</dd><dt><span>units :</span></dt><dd>m</dd><dt><span>min :</span></dt><dd>-0.918</dd><dt><span>max :</span></dt><dd>0.446</dd></dl></div><div class='xr-var-data'><pre>array([ 0.112,  0.13 ,  0.11 , ..., -0.482, -0.47 , -0.46 ], dtype=float32)</pre></div></li><li class='xr-var-item'><div class='xr-var-name'><span>effective_contour_latitude</span></div><div class='xr-var-dims'>(obs, NbSample)</div><div class='xr-var-dtype'>float32</div><div class='xr-var-preview xr-preview'>33.05 33.12 33.28 ... 27.77 27.88</div><input id='attrs-eac5f653-a400-45f0-99e6-f9d39627bc8d' class='xr-var-attrs-in' type='checkbox' ><label for='attrs-eac5f653-a400-45f0-99e6-f9d39627bc8d' title='Show/Hide attributes'><svg class='icon xr-icon-file-text2'><use xlink:href='#icon-file-text2'></use></svg></label><input id='data-3bd14954-1d77-46e7-8b6e-516bdbed3173' class='xr-var-data-in' type='checkbox'><label for='data-3bd14954-1d77-46e7-8b6e-516bdbed3173' title='Show/Hide data repr'><svg class='icon xr-icon-database'><use xlink:href='#icon-database'></use></svg></label><div class='xr-var-attrs'><dl class='xr-attrs'><dt><span>axis :</span></dt><dd>X</dd><dt><span>comment :</span></dt><dd>Latitudes of effective contour</dd><dt><span>long_name :</span></dt><dd>Effective Contour Latitudes</dd><dt><span>units :</span></dt><dd>degrees_east</dd></dl></div><div class='xr-var-data'><pre>array([[33.05    , 33.12    , 33.28    , ..., 33.18    , 33.12    ,\n",
       "        33.05    ],\n",
       "       [32.969997, 33.13    , 33.37    , ..., 33.059998, 32.92    ,\n",
       "        32.969997],\n",
       "       [33.1     , 33.14    , 33.37    , ..., 33.149998, 33.13    ,\n",
       "        33.1     ],\n",
       "       ...,\n",
       "       [27.88    , 28.109999, 28.13    , ..., 27.92    , 27.91    ,\n",
       "        27.88    ],\n",
       "       [27.88    , 28.119999, 28.14    , ..., 27.83    , 27.83    ,\n",
       "        27.88    ],\n",
       "       [27.88    , 28.109999, 28.13    , ..., 27.779999, 27.769999,\n",
       "        27.88    ]], dtype=float32)</pre></div></li><li class='xr-var-item'><div class='xr-var-name'><span>effective_contour_longitude</span></div><div class='xr-var-dims'>(obs, NbSample)</div><div class='xr-var-dtype'>float32</div><div class='xr-var-preview xr-preview'>142.1 142.0 141.9 ... 279.9 279.6</div><input id='attrs-70c2ebb4-f477-4a46-ab55-35239695a275' class='xr-var-attrs-in' type='checkbox' ><label for='attrs-70c2ebb4-f477-4a46-ab55-35239695a275' title='Show/Hide attributes'><svg class='icon xr-icon-file-text2'><use xlink:href='#icon-file-text2'></use></svg></label><input id='data-5fbc3b02-5f17-446d-939f-f4d254a94d07' class='xr-var-data-in' type='checkbox'><label for='data-5fbc3b02-5f17-446d-939f-f4d254a94d07' title='Show/Hide data repr'><svg class='icon xr-icon-database'><use xlink:href='#icon-database'></use></svg></label><div class='xr-var-attrs'><dl class='xr-attrs'><dt><span>axis :</span></dt><dd>X</dd><dt><span>comment :</span></dt><dd>Longitudes of the effective contour</dd><dt><span>long_name :</span></dt><dd>Effective Contour Longitudes</dd><dt><span>units :</span></dt><dd>degrees_east</dd></dl></div><div class='xr-var-data'><pre>array([[142.12   , 141.99   , 141.87   , ..., 142.38   , 142.24   ,\n",
       "        142.12   ],\n",
       "       [141.88   , 141.79001, 141.75   , ..., 142.36   , 142.13   ,\n",
       "        141.88   ],\n",
       "       [142.12   , 142.09   , 142.     , ..., 142.37   , 142.24   ,\n",
       "        142.12   ],\n",
       "       ...,\n",
       "       [279.62   , 279.54   , 279.53   , ..., 279.88   , 279.86   ,\n",
       "        279.62   ],\n",
       "       [279.62   , 279.55   , 279.55   , ..., 279.88   , 279.86   ,\n",
       "        279.62   ],\n",
       "       [279.62   , 279.55   , 279.54   , ..., 279.88   , 279.87   ,\n",
       "        279.62   ]], dtype=float32)</pre></div></li><li class='xr-var-item'><div class='xr-var-name'><span>effective_contour_shape_error</span></div><div class='xr-var-dims'>(obs)</div><div class='xr-var-dtype'>float32</div><div class='xr-var-preview xr-preview'>60.0 45.0 48.5 ... 47.5 52.5 56.0</div><input id='attrs-d32047f6-2812-4e60-bb35-b141e4edd83c' class='xr-var-attrs-in' type='checkbox' ><label for='attrs-d32047f6-2812-4e60-bb35-b141e4edd83c' title='Show/Hide attributes'><svg class='icon xr-icon-file-text2'><use xlink:href='#icon-file-text2'></use></svg></label><input id='data-63085719-04cd-416d-8990-6338b2f8e8e8' class='xr-var-data-in' type='checkbox'><label for='data-63085719-04cd-416d-8990-6338b2f8e8e8' title='Show/Hide data repr'><svg class='icon xr-icon-database'><use xlink:href='#icon-database'></use></svg></label><div class='xr-var-attrs'><dl class='xr-attrs'><dt><span>comment :</span></dt><dd>Error criterion between the effective contour and its best fit circle</dd><dt><span>long_name :</span></dt><dd>Effective Contour Shape Error</dd><dt><span>units :</span></dt><dd>%</dd><dt><span>min :</span></dt><dd>2.5</dd><dt><span>max :</span></dt><dd>75.0</dd></dl></div><div class='xr-var-data'><pre>array([60. , 45. , 48.5, ..., 47.5, 52.5, 56. ], dtype=float32)</pre></div></li><li class='xr-var-item'><div class='xr-var-name'><span>effective_radius</span></div><div class='xr-var-dims'>(obs)</div><div class='xr-var-dtype'>float32</div><div class='xr-var-preview xr-preview'>5.67e+04 6.385e+04 ... 3.68e+04</div><input id='attrs-4515040e-5d08-4b7d-b376-529e9927cbef' class='xr-var-attrs-in' type='checkbox' ><label for='attrs-4515040e-5d08-4b7d-b376-529e9927cbef' title='Show/Hide attributes'><svg class='icon xr-icon-file-text2'><use xlink:href='#icon-file-text2'></use></svg></label><input id='data-993eda93-1cc3-4903-a267-019c28031364' class='xr-var-data-in' type='checkbox'><label for='data-993eda93-1cc3-4903-a267-019c28031364' title='Show/Hide data repr'><svg class='icon xr-icon-database'><use xlink:href='#icon-database'></use></svg></label><div class='xr-var-attrs'><dl class='xr-attrs'><dt><span>comment :</span></dt><dd>Radius of the best fit circle corresponding to the effective contour</dd><dt><span>long_name :</span></dt><dd>Effective Radius</dd><dt><span>units :</span></dt><dd>m</dd><dt><span>min :</span></dt><dd>7950.0</dd><dt><span>max :</span></dt><dd>378400.0</dd></dl></div><div class='xr-var-data'><pre>array([56700., 63850., 45050., ..., 31150., 32950., 36800.], dtype=float32)</pre></div></li><li class='xr-var-item'><div class='xr-var-name'><span>inner_contour_height</span></div><div class='xr-var-dims'>(obs)</div><div class='xr-var-dtype'>float32</div><div class='xr-var-preview xr-preview'>0.07 0.06 0.08 ... -0.498 -0.498</div><input id='attrs-35a743af-dc44-49ec-97e1-77e531ae0dc3' class='xr-var-attrs-in' type='checkbox' ><label for='attrs-35a743af-dc44-49ec-97e1-77e531ae0dc3' title='Show/Hide attributes'><svg class='icon xr-icon-file-text2'><use xlink:href='#icon-file-text2'></use></svg></label><input id='data-c9f34e10-ce11-4884-a740-ef28c365d13f' class='xr-var-data-in' type='checkbox'><label for='data-c9f34e10-ce11-4884-a740-ef28c365d13f' title='Show/Hide data repr'><svg class='icon xr-icon-database'><use xlink:href='#icon-database'></use></svg></label><div class='xr-var-attrs'><dl class='xr-attrs'><dt><span>comment :</span></dt><dd>SSH filtered height for the smallest detected contour</dd><dt><span>long_name :</span></dt><dd>Inner Contour Height</dd><dt><span>units :</span></dt><dd>m</dd><dt><span>min :</span></dt><dd>-1.216</dd><dt><span>max :</span></dt><dd>0.406</dd></dl></div><div class='xr-var-data'><pre>array([ 0.07 ,  0.06 ,  0.08 , ..., -0.512, -0.498, -0.498], dtype=float32)</pre></div></li><li class='xr-var-item'><div class='xr-var-name'><span>latitude</span></div><div class='xr-var-dims'>(obs)</div><div class='xr-var-dtype'>float32</div><div class='xr-var-preview xr-preview'>33.49 33.51 33.48 ... 28.23 28.25</div><input id='attrs-c7a7e36c-bb89-4143-a0f3-a946dae33b68' class='xr-var-attrs-in' type='checkbox' ><label for='attrs-c7a7e36c-bb89-4143-a0f3-a946dae33b68' title='Show/Hide attributes'><svg class='icon xr-icon-file-text2'><use xlink:href='#icon-file-text2'></use></svg></label><input id='data-8e0e279f-645c-4db2-9407-9d2ed6902a4b' class='xr-var-data-in' type='checkbox'><label for='data-8e0e279f-645c-4db2-9407-9d2ed6902a4b' title='Show/Hide data repr'><svg class='icon xr-icon-database'><use xlink:href='#icon-database'></use></svg></label><div class='xr-var-attrs'><dl class='xr-attrs'><dt><span>axis :</span></dt><dd>Y</dd><dt><span>comment :</span></dt><dd>Latitude center of the best fit circle</dd><dt><span>long_name :</span></dt><dd>Eddy Center Latitude</dd><dt><span>standard_name :</span></dt><dd>latitude</dd><dt><span>units :</span></dt><dd>degrees_north</dd><dt><span>min :</span></dt><dd>-78.05134</dd><dt><span>max :</span></dt><dd>84.03748</dd></dl></div><div class='xr-var-data'><pre>array([33.48794 , 33.50659 , 33.480618, ..., 28.250881, 28.229927,\n",
       "       28.245182], dtype=float32)</pre></div></li><li class='xr-var-item'><div class='xr-var-name'><span>latitude_max</span></div><div class='xr-var-dims'>(obs)</div><div class='xr-var-dtype'>float32</div><div class='xr-var-preview xr-preview'>33.38 33.61 33.39 ... 28.37 28.13</div><input id='attrs-fb3c3f22-7734-420f-b317-bd75e82e3996' class='xr-var-attrs-in' type='checkbox' ><label for='attrs-fb3c3f22-7734-420f-b317-bd75e82e3996' title='Show/Hide attributes'><svg class='icon xr-icon-file-text2'><use xlink:href='#icon-file-text2'></use></svg></label><input id='data-565c7487-37ca-491e-bb3f-c3fede1b4495' class='xr-var-data-in' type='checkbox'><label for='data-565c7487-37ca-491e-bb3f-c3fede1b4495' title='Show/Hide data repr'><svg class='icon xr-icon-database'><use xlink:href='#icon-database'></use></svg></label><div class='xr-var-attrs'><dl class='xr-attrs'><dt><span>axis :</span></dt><dd>Y</dd><dt><span>comment :</span></dt><dd>Latitude of the inner contour</dd><dt><span>long_name :</span></dt><dd>Latitude of the SSH maximum</dd><dt><span>standard_name :</span></dt><dd>latitude</dd><dt><span>units :</span></dt><dd>degrees_north</dd><dt><span>min :</span></dt><dd>-90.0</dd><dt><span>max :</span></dt><dd>84.12464</dd></dl></div><div class='xr-var-data'><pre>array([33.380394, 33.6097  , 33.39264 , ..., 28.356524, 28.370115,\n",
       "       28.128164], dtype=float32)</pre></div></li><li class='xr-var-item'><div class='xr-var-name'><span>longitude</span></div><div class='xr-var-dims'>(obs)</div><div class='xr-var-dtype'>float32</div><div class='xr-var-preview xr-preview'>142.4 142.3 142.5 ... 279.7 279.8</div><input id='attrs-f76e6928-dfea-41be-a6b3-310bfd43b807' class='xr-var-attrs-in' type='checkbox' ><label for='attrs-f76e6928-dfea-41be-a6b3-310bfd43b807' title='Show/Hide attributes'><svg class='icon xr-icon-file-text2'><use xlink:href='#icon-file-text2'></use></svg></label><input id='data-8c142a4b-0c47-4208-b1d3-392292dcda54' class='xr-var-data-in' type='checkbox'><label for='data-8c142a4b-0c47-4208-b1d3-392292dcda54' title='Show/Hide data repr'><svg class='icon xr-icon-database'><use xlink:href='#icon-database'></use></svg></label><div class='xr-var-attrs'><dl class='xr-attrs'><dt><span>axis :</span></dt><dd>X</dd><dt><span>comment :</span></dt><dd>Longitude center of the best fit circle</dd><dt><span>long_name :</span></dt><dd>Eddy Center Longitude</dd><dt><span>standard_name :</span></dt><dd>longitude</dd><dt><span>units :</span></dt><dd>degrees_east</dd><dt><span>min :</span></dt><dd>-28.260529</dd><dt><span>max :</span></dt><dd>367.11163</dd></dl></div><div class='xr-var-data'><pre>array([142.364  , 142.34677, 142.46568, ..., 279.69818, 279.73508,\n",
       "       279.75443], dtype=float32)</pre></div></li><li class='xr-var-item'><div class='xr-var-name'><span>longitude_max</span></div><div class='xr-var-dims'>(obs)</div><div class='xr-var-dtype'>float32</div><div class='xr-var-preview xr-preview'>142.2 142.4 142.4 ... 279.6 279.9</div><input id='attrs-7aeec46f-df7a-40eb-8c2e-4733ee08cc61' class='xr-var-attrs-in' type='checkbox' ><label for='attrs-7aeec46f-df7a-40eb-8c2e-4733ee08cc61' title='Show/Hide attributes'><svg class='icon xr-icon-file-text2'><use xlink:href='#icon-file-text2'></use></svg></label><input id='data-c0f32a49-2e0b-49f2-9ac3-d9de2d50a8fb' class='xr-var-data-in' type='checkbox'><label for='data-c0f32a49-2e0b-49f2-9ac3-d9de2d50a8fb' title='Show/Hide data repr'><svg class='icon xr-icon-database'><use xlink:href='#icon-database'></use></svg></label><div class='xr-var-attrs'><dl class='xr-attrs'><dt><span>axis :</span></dt><dd>X</dd><dt><span>comment :</span></dt><dd>Longitude of the inner contour</dd><dt><span>long_name :</span></dt><dd>Longitude of the SSH maximum</dd><dt><span>standard_name :</span></dt><dd>longitude</dd><dt><span>units :</span></dt><dd>degrees_east</dd><dt><span>min :</span></dt><dd>-28.13443</dd><dt><span>max :</span></dt><dd>367.34302</dd></dl></div><div class='xr-var-data'><pre>array([142.17285, 142.37354, 142.3743 , ..., 279.62375, 279.6284 ,\n",
       "       279.86673], dtype=float32)</pre></div></li><li class='xr-var-item'><div class='xr-var-name'><span>num_contours</span></div><div class='xr-var-dims'>(obs)</div><div class='xr-var-dtype'>uint16</div><div class='xr-var-preview xr-preview'>22 36 16 20 21 ... 14 18 16 15 20</div><input id='attrs-086a35ea-c5dd-4a9a-a76c-541e7445cac7' class='xr-var-attrs-in' type='checkbox' ><label for='attrs-086a35ea-c5dd-4a9a-a76c-541e7445cac7' title='Show/Hide attributes'><svg class='icon xr-icon-file-text2'><use xlink:href='#icon-file-text2'></use></svg></label><input id='data-9963758f-cc26-492a-ac96-fde7262a251b' class='xr-var-data-in' type='checkbox'><label for='data-9963758f-cc26-492a-ac96-fde7262a251b' title='Show/Hide data repr'><svg class='icon xr-icon-database'><use xlink:href='#icon-database'></use></svg></label><div class='xr-var-attrs'><dl class='xr-attrs'><dt><span>comment :</span></dt><dd>Number of contours selected for this eddy</dd><dt><span>long_name :</span></dt><dd>Number of contours</dd><dt><span>min :</span></dt><dd>1</dd><dt><span>max :</span></dt><dd>663</dd></dl></div><div class='xr-var-data'><pre>array([22, 36, 16, ..., 16, 15, 20], dtype=uint16)</pre></div></li><li class='xr-var-item'><div class='xr-var-name'><span>num_point_e</span></div><div class='xr-var-dims'>(obs)</div><div class='xr-var-dtype'>uint16</div><div class='xr-var-preview xr-preview'>21 23 17 21 15 ... 11 12 11 12 12</div><input id='attrs-8d5d368f-a0de-42ca-b17f-bc81920263a9' class='xr-var-attrs-in' type='checkbox' ><label for='attrs-8d5d368f-a0de-42ca-b17f-bc81920263a9' title='Show/Hide attributes'><svg class='icon xr-icon-file-text2'><use xlink:href='#icon-file-text2'></use></svg></label><input id='data-2da86a24-ce54-408e-9c48-ca786eb85bc0' class='xr-var-data-in' type='checkbox'><label for='data-2da86a24-ce54-408e-9c48-ca786eb85bc0' title='Show/Hide data repr'><svg class='icon xr-icon-database'><use xlink:href='#icon-database'></use></svg></label><div class='xr-var-attrs'><dl class='xr-attrs'><dt><span>description :</span></dt><dd>Number of points for effective contour before resampling</dd><dt><span>long_name :</span></dt><dd>number of points for effective contour</dd><dt><span>units :</span></dt><dd>ordinal</dd><dt><span>min :</span></dt><dd>10</dd><dt><span>max :</span></dt><dd>145</dd></dl></div><div class='xr-var-data'><pre>array([21, 23, 17, ..., 11, 12, 12], dtype=uint16)</pre></div></li><li class='xr-var-item'><div class='xr-var-name'><span>num_point_s</span></div><div class='xr-var-dims'>(obs)</div><div class='xr-var-dtype'>uint16</div><div class='xr-var-preview xr-preview'>13 13 13 13 13 ... 11 12 11 13 12</div><input id='attrs-c0949031-fb04-4a3d-b183-cb9061008df6' class='xr-var-attrs-in' type='checkbox' ><label for='attrs-c0949031-fb04-4a3d-b183-cb9061008df6' title='Show/Hide attributes'><svg class='icon xr-icon-file-text2'><use xlink:href='#icon-file-text2'></use></svg></label><input id='data-d7fa8132-19d5-40e5-8fa3-95ca93f10b0e' class='xr-var-data-in' type='checkbox'><label for='data-d7fa8132-19d5-40e5-8fa3-95ca93f10b0e' title='Show/Hide data repr'><svg class='icon xr-icon-database'><use xlink:href='#icon-database'></use></svg></label><div class='xr-var-attrs'><dl class='xr-attrs'><dt><span>description :</span></dt><dd>Number of points for speed contour before resampling</dd><dt><span>long_name :</span></dt><dd>number of points for speed contour</dd><dt><span>units :</span></dt><dd>ordinal</dd><dt><span>min :</span></dt><dd>10</dd><dt><span>max :</span></dt><dd>135</dd></dl></div><div class='xr-var-data'><pre>array([13, 13, 13, ..., 11, 13, 12], dtype=uint16)</pre></div></li><li class='xr-var-item'><div class='xr-var-name'><span>observation_flag</span></div><div class='xr-var-dims'>(obs)</div><div class='xr-var-dtype'>int8</div><div class='xr-var-preview xr-preview'>0 0 0 0 0 0 0 0 ... 0 0 0 0 0 0 0 0</div><input id='attrs-dc397434-f8da-4e21-89fe-f8e28c2c38b7' class='xr-var-attrs-in' type='checkbox' ><label for='attrs-dc397434-f8da-4e21-89fe-f8e28c2c38b7' title='Show/Hide attributes'><svg class='icon xr-icon-file-text2'><use xlink:href='#icon-file-text2'></use></svg></label><input id='data-a7435d81-f103-46fd-88ff-289b6e2ce4c6' class='xr-var-data-in' type='checkbox'><label for='data-a7435d81-f103-46fd-88ff-289b6e2ce4c6' title='Show/Hide data repr'><svg class='icon xr-icon-database'><use xlink:href='#icon-database'></use></svg></label><div class='xr-var-attrs'><dl class='xr-attrs'><dt><span>comment :</span></dt><dd>Flag indicating if the value is interpolated between two observations or not (0: observed eddy, 1: interpolated eddy)</dd><dt><span>long_name :</span></dt><dd>Virtual Eddy Position</dd><dt><span>min :</span></dt><dd>0</dd><dt><span>max :</span></dt><dd>1</dd></dl></div><div class='xr-var-data'><pre>array([0, 0, 0, ..., 0, 0, 0], dtype=int8)</pre></div></li><li class='xr-var-item'><div class='xr-var-name'><span>observation_number</span></div><div class='xr-var-dims'>(obs)</div><div class='xr-var-dtype'>uint16</div><div class='xr-var-preview xr-preview'>0 1 2 3 4 5 6 7 ... 2 3 4 5 6 7 8 9</div><input id='attrs-ba180c7d-1387-468d-a027-fb880f0c1dfc' class='xr-var-attrs-in' type='checkbox' ><label for='attrs-ba180c7d-1387-468d-a027-fb880f0c1dfc' title='Show/Hide attributes'><svg class='icon xr-icon-file-text2'><use xlink:href='#icon-file-text2'></use></svg></label><input id='data-c747d895-fd14-4430-8e8a-58290adf9601' class='xr-var-data-in' type='checkbox'><label for='data-c747d895-fd14-4430-8e8a-58290adf9601' title='Show/Hide data repr'><svg class='icon xr-icon-database'><use xlink:href='#icon-database'></use></svg></label><div class='xr-var-attrs'><dl class='xr-attrs'><dt><span>comment :</span></dt><dd>Observation sequence number, days starting at the eddy first detection</dd><dt><span>long_name :</span></dt><dd>Eddy temporal index in a trajectory</dd><dt><span>min :</span></dt><dd>0</dd><dt><span>max :</span></dt><dd>1492</dd></dl></div><div class='xr-var-data'><pre>array([0, 1, 2, ..., 7, 8, 9], dtype=uint16)</pre></div></li><li class='xr-var-item'><div class='xr-var-name'><span>speed_area</span></div><div class='xr-var-dims'>(obs)</div><div class='xr-var-dtype'>float32</div><div class='xr-var-preview xr-preview'>3.59e+09 4.337e+09 ... 3.221e+09</div><input id='attrs-d7b772e5-87e9-433c-9141-72421cbddf5b' class='xr-var-attrs-in' type='checkbox' ><label for='attrs-d7b772e5-87e9-433c-9141-72421cbddf5b' title='Show/Hide attributes'><svg class='icon xr-icon-file-text2'><use xlink:href='#icon-file-text2'></use></svg></label><input id='data-c748de99-8bfa-4537-996d-d0bd5a1ffdac' class='xr-var-data-in' type='checkbox'><label for='data-c748de99-8bfa-4537-996d-d0bd5a1ffdac' title='Show/Hide data repr'><svg class='icon xr-icon-database'><use xlink:href='#icon-database'></use></svg></label><div class='xr-var-attrs'><dl class='xr-attrs'><dt><span>comment :</span></dt><dd>Area enclosed by the speed contour in m^2</dd><dt><span>long_name :</span></dt><dd>Speed area</dd><dt><span>units :</span></dt><dd>m^2</dd><dt><span>min :</span></dt><dd>179178050.0</dd><dt><span>max :</span></dt><dd>258590110000.0</dd></dl></div><div class='xr-var-data'><pre>array([3.5904763e+09, 4.3371515e+09, 3.0844541e+09, ..., 2.4633490e+09,\n",
       "       2.5372454e+09, 3.2207585e+09], dtype=float32)</pre></div></li><li class='xr-var-item'><div class='xr-var-name'><span>speed_average</span></div><div class='xr-var-dims'>(obs)</div><div class='xr-var-dtype'>float32</div><div class='xr-var-preview xr-preview'>0.2279 0.2419 ... 0.4455 0.4582</div><input id='attrs-3a03ef8c-9de9-4a1e-8b93-fde611e475db' class='xr-var-attrs-in' type='checkbox' ><label for='attrs-3a03ef8c-9de9-4a1e-8b93-fde611e475db' title='Show/Hide attributes'><svg class='icon xr-icon-file-text2'><use xlink:href='#icon-file-text2'></use></svg></label><input id='data-2e83cdac-d5b9-462a-abeb-ef6696f4d1d1' class='xr-var-data-in' type='checkbox'><label for='data-2e83cdac-d5b9-462a-abeb-ef6696f4d1d1' title='Show/Hide data repr'><svg class='icon xr-icon-database'><use xlink:href='#icon-database'></use></svg></label><div class='xr-var-attrs'><dl class='xr-attrs'><dt><span>comment :</span></dt><dd>Average speed of the contour defining the radius scale “speed_radius”</dd><dt><span>long_name :</span></dt><dd>Maximum circum-averaged Speed</dd><dt><span>units :</span></dt><dd>m/s</dd><dt><span>min :</span></dt><dd>0.0</dd><dt><span>max :</span></dt><dd>4.867900000000001</dd></dl></div><div class='xr-var-data'><pre>array([0.2279    , 0.2419    , 0.1777    , ..., 0.41619998, 0.4455    ,\n",
       "       0.45819998], dtype=float32)</pre></div></li><li class='xr-var-item'><div class='xr-var-name'><span>speed_contour_height</span></div><div class='xr-var-dims'>(obs)</div><div class='xr-var-dtype'>float32</div><div class='xr-var-preview xr-preview'>0.1 0.102 0.102 ... -0.472 -0.46</div><input id='attrs-70af8fda-4dda-46c4-902a-cb807c92379d' class='xr-var-attrs-in' type='checkbox' ><label for='attrs-70af8fda-4dda-46c4-902a-cb807c92379d' title='Show/Hide attributes'><svg class='icon xr-icon-file-text2'><use xlink:href='#icon-file-text2'></use></svg></label><input id='data-cbdff61f-ffab-4fe7-adab-a8e36e0d3088' class='xr-var-data-in' type='checkbox'><label for='data-cbdff61f-ffab-4fe7-adab-a8e36e0d3088' title='Show/Hide data repr'><svg class='icon xr-icon-database'><use xlink:href='#icon-database'></use></svg></label><div class='xr-var-attrs'><dl class='xr-attrs'><dt><span>comment :</span></dt><dd>SSH filtered height for speed contour</dd><dt><span>long_name :</span></dt><dd>Speed Contour Height</dd><dt><span>units :</span></dt><dd>m</dd><dt><span>min :</span></dt><dd>-0.918</dd><dt><span>max :</span></dt><dd>0.446</dd></dl></div><div class='xr-var-data'><pre>array([ 0.1  ,  0.102,  0.102, ..., -0.482, -0.472, -0.46 ], dtype=float32)</pre></div></li><li class='xr-var-item'><div class='xr-var-name'><span>speed_contour_latitude</span></div><div class='xr-var-dims'>(obs, NbSample)</div><div class='xr-var-dtype'>float32</div><div class='xr-var-preview xr-preview'>33.14 33.37 33.38 ... 27.77 27.88</div><input id='attrs-cae7e93e-c9c8-4e6f-85bc-92e52f3eb59d' class='xr-var-attrs-in' type='checkbox' ><label for='attrs-cae7e93e-c9c8-4e6f-85bc-92e52f3eb59d' title='Show/Hide attributes'><svg class='icon xr-icon-file-text2'><use xlink:href='#icon-file-text2'></use></svg></label><input id='data-213f6870-0b90-4bb8-8bcb-38047014f49b' class='xr-var-data-in' type='checkbox'><label for='data-213f6870-0b90-4bb8-8bcb-38047014f49b' title='Show/Hide data repr'><svg class='icon xr-icon-database'><use xlink:href='#icon-database'></use></svg></label><div class='xr-var-attrs'><dl class='xr-attrs'><dt><span>axis :</span></dt><dd>X</dd><dt><span>comment :</span></dt><dd>Latitudes of speed contour</dd><dt><span>long_name :</span></dt><dd>Speed Contour Latitudes</dd><dt><span>units :</span></dt><dd>degrees_east</dd></dl></div><div class='xr-var-data'><pre>array([[33.14    , 33.37    , 33.38    , ..., 33.239998, 33.23    ,\n",
       "        33.14    ],\n",
       "       [33.11    , 33.12    , 33.13    , ..., 33.21    , 33.13    ,\n",
       "        33.11    ],\n",
       "       [33.2     , 33.36    , 33.38    , ..., 33.219997, 33.21    ,\n",
       "        33.2     ],\n",
       "       ...,\n",
       "       [27.88    , 28.109999, 28.13    , ..., 27.92    , 27.91    ,\n",
       "        27.88    ],\n",
       "       [27.84    , 27.869999, 27.88    , ..., 27.88    , 27.869999,\n",
       "        27.84    ],\n",
       "       [27.88    , 28.109999, 28.13    , ..., 27.779999, 27.769999,\n",
       "        27.88    ]], dtype=float32)</pre></div></li><li class='xr-var-item'><div class='xr-var-name'><span>speed_contour_longitude</span></div><div class='xr-var-dims'>(obs, NbSample)</div><div class='xr-var-dtype'>float32</div><div class='xr-var-preview xr-preview'>142.1 141.9 141.9 ... 279.9 279.6</div><input id='attrs-4ffe09a9-bb23-499c-9648-8d91ab63a3c2' class='xr-var-attrs-in' type='checkbox' ><label for='attrs-4ffe09a9-bb23-499c-9648-8d91ab63a3c2' title='Show/Hide attributes'><svg class='icon xr-icon-file-text2'><use xlink:href='#icon-file-text2'></use></svg></label><input id='data-86e38d08-5aeb-4d3a-8966-945637f7e08d' class='xr-var-data-in' type='checkbox'><label for='data-86e38d08-5aeb-4d3a-8966-945637f7e08d' title='Show/Hide data repr'><svg class='icon xr-icon-database'><use xlink:href='#icon-database'></use></svg></label><div class='xr-var-attrs'><dl class='xr-attrs'><dt><span>axis :</span></dt><dd>X</dd><dt><span>comment :</span></dt><dd>Longitudes of speed contour</dd><dt><span>long_name :</span></dt><dd>Speed Contour Longitudes</dd><dt><span>units :</span></dt><dd>degrees_east</dd></dl></div><div class='xr-var-data'><pre>array([[142.12, 141.93, 141.93, ..., 142.38, 142.36, 142.12],\n",
       "       [142.12, 142.11, 142.09, ..., 142.37, 142.16, 142.12],\n",
       "       [142.12, 142.05, 142.05, ..., 142.39, 142.37, 142.12],\n",
       "       ...,\n",
       "       [279.62, 279.54, 279.53, ..., 279.88, 279.86, 279.62],\n",
       "       [279.88, 279.69, 279.68, ..., 279.88, 279.88, 279.88],\n",
       "       [279.62, 279.55, 279.54, ..., 279.88, 279.87, 279.62]],\n",
       "      dtype=float32)</pre></div></li><li class='xr-var-item'><div class='xr-var-name'><span>speed_contour_shape_error</span></div><div class='xr-var-dims'>(obs)</div><div class='xr-var-dtype'>float32</div><div class='xr-var-preview xr-preview'>33.0 30.0 34.5 ... 47.5 51.5 56.0</div><input id='attrs-142b1262-9237-4665-b50a-c5d4774d0c33' class='xr-var-attrs-in' type='checkbox' ><label for='attrs-142b1262-9237-4665-b50a-c5d4774d0c33' title='Show/Hide attributes'><svg class='icon xr-icon-file-text2'><use xlink:href='#icon-file-text2'></use></svg></label><input id='data-4628ff55-7e88-47f6-b50b-d504994dbdd1' class='xr-var-data-in' type='checkbox'><label for='data-4628ff55-7e88-47f6-b50b-d504994dbdd1' title='Show/Hide data repr'><svg class='icon xr-icon-database'><use xlink:href='#icon-database'></use></svg></label><div class='xr-var-attrs'><dl class='xr-attrs'><dt><span>comment :</span></dt><dd>Error criterion between the speed contour and its best fit circle</dd><dt><span>long_name :</span></dt><dd>Speed Contour Shape Error</dd><dt><span>units :</span></dt><dd>%</dd><dt><span>min :</span></dt><dd>1.5</dd><dt><span>max :</span></dt><dd>93.0</dd></dl></div><div class='xr-var-data'><pre>array([33. , 30. , 34.5, ..., 47.5, 51.5, 56. ], dtype=float32)</pre></div></li><li class='xr-var-item'><div class='xr-var-name'><span>speed_radius</span></div><div class='xr-var-dims'>(obs)</div><div class='xr-var-dtype'>float32</div><div class='xr-var-preview xr-preview'>3.575e+04 3.85e+04 ... 3.68e+04</div><input id='attrs-99872c7c-cabe-4570-a242-195eb38266a4' class='xr-var-attrs-in' type='checkbox' ><label for='attrs-99872c7c-cabe-4570-a242-195eb38266a4' title='Show/Hide attributes'><svg class='icon xr-icon-file-text2'><use xlink:href='#icon-file-text2'></use></svg></label><input id='data-e8bd8d77-6479-499c-814c-3094aae93c5b' class='xr-var-data-in' type='checkbox'><label for='data-e8bd8d77-6479-499c-814c-3094aae93c5b' title='Show/Hide data repr'><svg class='icon xr-icon-database'><use xlink:href='#icon-database'></use></svg></label><div class='xr-var-attrs'><dl class='xr-attrs'><dt><span>comment :</span></dt><dd>Radius of the best fit circle corresponding to the contour of maximum circum-average speed</dd><dt><span>long_name :</span></dt><dd>Speed Radius</dd><dt><span>units :</span></dt><dd>m</dd><dt><span>min :</span></dt><dd>7950.0</dd><dt><span>max :</span></dt><dd>342200.0</dd></dl></div><div class='xr-var-data'><pre>array([35750., 38500., 33900., ..., 31150., 31900., 36800.], dtype=float32)</pre></div></li><li class='xr-var-item'><div class='xr-var-name'><span>time</span></div><div class='xr-var-dims'>(obs)</div><div class='xr-var-dtype'>datetime64[ns]</div><div class='xr-var-preview xr-preview'>2018-01-01 ... 2022-08-29</div><input id='attrs-a7538c1e-659a-4142-ba69-5eac0e734c5f' class='xr-var-attrs-in' type='checkbox' ><label for='attrs-a7538c1e-659a-4142-ba69-5eac0e734c5f' title='Show/Hide attributes'><svg class='icon xr-icon-file-text2'><use xlink:href='#icon-file-text2'></use></svg></label><input id='data-4225110e-267e-46bb-bf4f-0682fb8ceed8' class='xr-var-data-in' type='checkbox'><label for='data-4225110e-267e-46bb-bf4f-0682fb8ceed8' title='Show/Hide data repr'><svg class='icon xr-icon-database'><use xlink:href='#icon-database'></use></svg></label><div class='xr-var-attrs'><dl class='xr-attrs'><dt><span>axis :</span></dt><dd>T</dd><dt><span>comment :</span></dt><dd>Date of this observation</dd><dt><span>long_name :</span></dt><dd>Time</dd><dt><span>standard_name :</span></dt><dd>time</dd><dt><span>min :</span></dt><dd>24837.0</dd><dt><span>max :</span></dt><dd>26538.0</dd></dl></div><div class='xr-var-data'><pre>array([&#x27;2018-01-01T00:00:00.000000000&#x27;, &#x27;2018-01-02T00:00:00.000000000&#x27;,\n",
       "       &#x27;2018-01-03T00:00:00.000000000&#x27;, ...,\n",
       "       &#x27;2022-08-27T00:00:00.000000000&#x27;, &#x27;2022-08-28T00:00:00.000000000&#x27;,\n",
       "       &#x27;2022-08-29T00:00:00.000000000&#x27;], dtype=&#x27;datetime64[ns]&#x27;)</pre></div></li><li class='xr-var-item'><div class='xr-var-name'><span>track</span></div><div class='xr-var-dims'>(obs)</div><div class='xr-var-dtype'>uint32</div><div class='xr-var-preview xr-preview'>0 0 0 0 ... 135109 135109 135109</div><input id='attrs-62e9b288-81b9-4b4d-bbc7-7989b23e8105' class='xr-var-attrs-in' type='checkbox' ><label for='attrs-62e9b288-81b9-4b4d-bbc7-7989b23e8105' title='Show/Hide attributes'><svg class='icon xr-icon-file-text2'><use xlink:href='#icon-file-text2'></use></svg></label><input id='data-66eaa2e8-1d7a-4516-8518-3583180adb46' class='xr-var-data-in' type='checkbox'><label for='data-66eaa2e8-1d7a-4516-8518-3583180adb46' title='Show/Hide data repr'><svg class='icon xr-icon-database'><use xlink:href='#icon-database'></use></svg></label><div class='xr-var-attrs'><dl class='xr-attrs'><dt><span>comment :</span></dt><dd>Trajectory identification number</dd><dt><span>long_name :</span></dt><dd>Trajectory number</dd><dt><span>min :</span></dt><dd>0</dd><dt><span>max :</span></dt><dd>135109</dd></dl></div><div class='xr-var-data'><pre>array([     0,      0,      0, ..., 135109, 135109, 135109], dtype=uint32)</pre></div></li><li class='xr-var-item'><div class='xr-var-name'><span>uavg_profile</span></div><div class='xr-var-dims'>(obs, NbSample)</div><div class='xr-var-dtype'>float32</div><div class='xr-var-preview xr-preview'>0.1932 0.2015 ... 0.5025 0.5142</div><input id='attrs-d2505eca-deb8-4c9c-8248-298bff3d4450' class='xr-var-attrs-in' type='checkbox' ><label for='attrs-d2505eca-deb8-4c9c-8248-298bff3d4450' title='Show/Hide attributes'><svg class='icon xr-icon-file-text2'><use xlink:href='#icon-file-text2'></use></svg></label><input id='data-7deb4501-0f0e-4ac0-be15-d3104e54f323' class='xr-var-data-in' type='checkbox'><label for='data-7deb4501-0f0e-4ac0-be15-d3104e54f323' title='Show/Hide data repr'><svg class='icon xr-icon-database'><use xlink:href='#icon-database'></use></svg></label><div class='xr-var-attrs'><dl class='xr-attrs'><dt><span>comment :</span></dt><dd>Speed averaged values from the effective contour inwards to the smallest contour, evenly spaced points</dd><dt><span>long_name :</span></dt><dd>Radial Speed Profile</dd><dt><span>units :</span></dt><dd>m/s</dd></dl></div><div class='xr-var-data'><pre>array([[0.19319999, 0.2015    , 0.2094    , ..., 0.2121    , 0.2147    ,\n",
       "        0.20789999],\n",
       "       [0.1994    , 0.21079999, 0.21769999, ..., 0.2215    , 0.2065    ,\n",
       "        0.1735    ],\n",
       "       [0.1674    , 0.16939999, 0.17099999, ..., 0.1762    , 0.19029999,\n",
       "        0.24229999],\n",
       "       ...,\n",
       "       [0.41619998, 0.4113    , 0.40629998, ..., 0.1074    , 0.0878    ,\n",
       "        0.068     ],\n",
       "       [0.4409    , 0.4443    , 0.4412    , ..., 0.2463    , 0.14209999,\n",
       "        0.11      ],\n",
       "       [0.45819998, 0.45279998, 0.4367    , ..., 0.4904    , 0.5025    ,\n",
       "        0.5142    ]], dtype=float32)</pre></div></li></ul></div></li><li class='xr-section-item'><input id='section-8a7e8fcc-5f41-4b1a-b8ff-a7672c61b3d6' class='xr-section-summary-in' type='checkbox'  ><label for='section-8a7e8fcc-5f41-4b1a-b8ff-a7672c61b3d6' class='xr-section-summary' >Attributes: <span>(19)</span></label><div class='xr-section-inline-details'></div><div class='xr-section-details'><dl class='xr-attrs'><dt><span>Metadata_Conventions :</span></dt><dd>Unidata Dataset Discovery v1.0</dd><dt><span>comment :</span></dt><dd>Surface product; mesoscale eddies</dd><dt><span>creator_email :</span></dt><dd>aviso@altimetry.fr</dd><dt><span>creator_url :</span></dt><dd>https://www.aviso.altimetry.fr</dd><dt><span>date_created :</span></dt><dd>2022-10-06T06:36:20Z</dd><dt><span>framework_used :</span></dt><dd>https://github.com/AntSimi/py-eddy-tracker</dd><dt><span>framework_version :</span></dt><dd>v3.6.0</dd><dt><span>input_maps_processing :</span></dt><dd>DUACS DT2018 until 2021-12-07, DUACS DT2021 since 2021-12-08</dd><dt><span>input_product_reference :</span></dt><dd>https://www.aviso.altimetry.fr/en/data/products/value-added-products/global-mesoscale-eddy-trajectory-product.html</dd><dt><span>institution :</span></dt><dd>CLS/CNES in collaboration with IMEDEA</dd><dt><span>license :</span></dt><dd>https://www.aviso.altimetry.fr/fileadmin/documents/data/License_Aviso.pdf</dd><dt><span>product_version :</span></dt><dd>3.2exp</dd><dt><span>project :</span></dt><dd>SSALTO/DUACS</dd><dt><span>standard_name_vocabulary :</span></dt><dd>NetCDF Climate and Forecast (CF) Metadata Convention Standard Name Table</dd><dt><span>summary :</span></dt><dd>This dataset contains eddy atlas from all-satellite NRT CMEMS maps over global ocean (SEALEVEL_GLO_PHY_L4_NRT_OBSERVATIONS*)</dd><dt><span>time_coverage_duration :</span></dt><dd>P1702D</dd><dt><span>time_coverage_end :</span></dt><dd>2022-08-29T00:00:00Z</dd><dt><span>time_coverage_start :</span></dt><dd>2018-01-01T00:00:00Z</dd><dt><span>title :</span></dt><dd>Mesoscale Cyclonic Eddies in Altimeter Observations of ADT</dd></dl></div></li></ul></div></div>"
      ],
      "text/plain": [
       "<xarray.Dataset>\n",
       "Dimensions:                        (NbSample: 20, obs: 5944501)\n",
       "Dimensions without coordinates: NbSample, obs\n",
       "Data variables: (12/27)\n",
       "    amplitude                      (obs) float32 0.0437 0.0716 ... 0.0284 0.0396\n",
       "    effective_area                 (obs) float32 6.781e+09 ... 3.221e+09\n",
       "    effective_contour_height       (obs) float32 0.112 0.13 0.11 ... -0.47 -0.46\n",
       "    effective_contour_latitude     (obs, NbSample) float32 33.05 33.12 ... 27.88\n",
       "    effective_contour_longitude    (obs, NbSample) float32 142.1 142.0 ... 279.6\n",
       "    effective_contour_shape_error  (obs) float32 60.0 45.0 48.5 ... 52.5 56.0\n",
       "    ...                             ...\n",
       "    speed_contour_longitude        (obs, NbSample) float32 142.1 141.9 ... 279.6\n",
       "    speed_contour_shape_error      (obs) float32 33.0 30.0 34.5 ... 51.5 56.0\n",
       "    speed_radius                   (obs) float32 3.575e+04 3.85e+04 ... 3.68e+04\n",
       "    time                           (obs) datetime64[ns] 2018-01-01 ... 2022-0...\n",
       "    track                          (obs) uint32 0 0 0 0 ... 135109 135109 135109\n",
       "    uavg_profile                   (obs, NbSample) float32 0.1932 ... 0.5142\n",
       "Attributes: (12/19)\n",
       "    Metadata_Conventions:      Unidata Dataset Discovery v1.0\n",
       "    comment:                   Surface product; mesoscale eddies\n",
       "    creator_email:             aviso@altimetry.fr\n",
       "    creator_url:               https://www.aviso.altimetry.fr\n",
       "    date_created:              2022-10-06T06:36:20Z\n",
       "    framework_used:            https://github.com/AntSimi/py-eddy-tracker\n",
       "    ...                        ...\n",
       "    standard_name_vocabulary:  NetCDF Climate and Forecast (CF) Metadata Conv...\n",
       "    summary:                   This dataset contains eddy atlas from all-sate...\n",
       "    time_coverage_duration:    P1702D\n",
       "    time_coverage_end:         2022-08-29T00:00:00Z\n",
       "    time_coverage_start:       2018-01-01T00:00:00Z\n",
       "    title:                     Mesoscale Cyclonic Eddies in Altimeter Observa..."
      ]
     },
     "execution_count": 6,
     "metadata": {},
     "output_type": "execute_result"
    }
   ],
   "source": [
    "data"
   ]
  },
  {
   "cell_type": "code",
   "execution_count": null,
   "id": "c4f3e570",
   "metadata": {},
   "outputs": [],
   "source": []
  },
  {
   "cell_type": "code",
   "execution_count": 7,
   "id": "178d8293",
   "metadata": {},
   "outputs": [
    {
     "data": {
      "text/plain": [
       "(5944501,)"
      ]
     },
     "execution_count": 7,
     "metadata": {},
     "output_type": "execute_result"
    }
   ],
   "source": [
    "#Existem 6 milhoes de observaçoes de vortices e para cada observação existe um dado valor de cada uma destas\n",
    "# 27 variaveis   (todas as variaveis têm 6 milhoes de valores)\n",
    "data['track'].values.shape"
   ]
  },
  {
   "cell_type": "code",
   "execution_count": null,
   "id": "7ead03b4",
   "metadata": {},
   "outputs": [],
   "source": []
  },
  {
   "cell_type": "code",
   "execution_count": null,
   "id": "abd28354",
   "metadata": {},
   "outputs": [],
   "source": []
  },
  {
   "cell_type": "markdown",
   "id": "ac6cdf6c",
   "metadata": {},
   "source": [
    "### Plot histograms with Longitude and Latitude Values"
   ]
  },
  {
   "cell_type": "code",
   "execution_count": 8,
   "id": "e36e4991",
   "metadata": {},
   "outputs": [
    {
     "data": {
      "image/png": "[encoded data removed]",
      "text/plain": [
       "<Figure size 864x576 with 1 Axes>"
      ]
     },
     "metadata": {
      "needs_background": "light"
     },
     "output_type": "display_data"
    }
   ],
   "source": [
    "plt.hist(data['longitude'].values, bins = 30);"
   ]
  },
  {
   "cell_type": "code",
   "execution_count": 9,
   "id": "822cc431",
   "metadata": {},
   "outputs": [
    {
     "data": {
      "image/png": "[encoded data removed]",
      "text/plain": [
       "<Figure size 864x576 with 1 Axes>"
      ]
     },
     "metadata": {
      "needs_background": "light"
     },
     "output_type": "display_data"
    }
   ],
   "source": [
    "plt.hist(data['latitude'].values, bins = 30);"
   ]
  },
  {
   "cell_type": "code",
   "execution_count": null,
   "id": "9b119212",
   "metadata": {},
   "outputs": [],
   "source": []
  },
  {
   "cell_type": "code",
   "execution_count": null,
   "id": "208c1938",
   "metadata": {},
   "outputs": [],
   "source": []
  },
  {
   "cell_type": "code",
   "execution_count": 257,
   "id": "d5e3d844",
   "metadata": {},
   "outputs": [],
   "source": [
    "#Criar boolean para os limites de latitude e longitude que quero\n",
    "bool_lat = (data['latitude'].values > 35) & (data['latitude'].values < 43)\n",
    "bool_lon = (data['longitude'].values > 330) & (data['longitude'].values < 352)\n",
    "\n",
    "bool_time = (data['time'].values == np.datetime64('2022-08-29T00:00:00.000000000'))"
   ]
  },
  {
   "cell_type": "code",
   "execution_count": 258,
   "id": "86ed49d3",
   "metadata": {},
   "outputs": [],
   "source": [
    "#track is the trajectory identification number -> permite-nos rastrear um dado vortice\n",
    "tracking = data['track'].values[np.logical_and(bool_lon, bool_lat, bool_time)]"
   ]
  },
  {
   "cell_type": "code",
   "execution_count": 259,
   "id": "259867fd",
   "metadata": {},
   "outputs": [
    {
     "data": {
      "text/plain": [
       "array([   173,    173,    173, ..., 134979, 134979, 134979], dtype=uint32)"
      ]
     },
     "execution_count": 259,
     "metadata": {},
     "output_type": "execute_result"
    }
   ],
   "source": [
    "tracking\n",
    "\n",
    "#Naquelas coordenadas foram identificadas 875 vortices diferentes, sendo que como o vortice se vai movendo com\n",
    "# o tempo,foram detetados cerca de 41000 diferentes possiveis posiçoes destes 875 vortices"
   ]
  },
  {
   "cell_type": "code",
   "execution_count": null,
   "id": "8093bd5a",
   "metadata": {},
   "outputs": [],
   "source": []
  },
  {
   "cell_type": "code",
   "execution_count": null,
   "id": "a7c570e4",
   "metadata": {},
   "outputs": [],
   "source": []
  },
  {
   "cell_type": "code",
   "execution_count": 13,
   "id": "92a7df71",
   "metadata": {},
   "outputs": [],
   "source": [
    "#Now we will use one of those vortices that were identified in those coordinates above \n",
    "#slice da latitude e longitude baseado no nr do vortice (track)\n",
    "\n",
    "lat_track = data['latitude'].values[(data['track'] == 134979)]\n",
    "lon_track = data['longitude'].values[(data['track'] == 134979)]\n",
    "area_track = data['effective_area'].values[(data['track'] == 134979)]\n",
    "time_track = data['time'].values[(data['track'] == 134979)]"
   ]
  },
  {
   "cell_type": "code",
   "execution_count": 15,
   "id": "2746dd1c",
   "metadata": {},
   "outputs": [
    {
     "data": {
      "image/png": "[encoded data removed]",
      "text/plain": [
       "<Figure size 864x576 with 2 Axes>"
      ]
     },
     "metadata": {
      "needs_background": "light"
     },
     "output_type": "display_data"
    }
   ],
   "source": [
    "plt.scatter(lon_track, lat_track, s = area_track/10000000, c=time_track)\n",
    "plt.colorbar();\n",
    "plt.xlabel('Longitude', fontsize=20);\n",
    "plt.ylabel('Latitude', fontsize=20);"
   ]
  },
  {
   "cell_type": "code",
   "execution_count": null,
   "id": "74467c19",
   "metadata": {},
   "outputs": [],
   "source": []
  },
  {
   "cell_type": "code",
   "execution_count": null,
   "id": "af614cd6",
   "metadata": {},
   "outputs": [],
   "source": []
  },
  {
   "cell_type": "code",
   "execution_count": null,
   "id": "f0f7df83",
   "metadata": {},
   "outputs": [],
   "source": []
  },
  {
   "cell_type": "code",
   "execution_count": null,
   "id": "8477bea1",
   "metadata": {},
   "outputs": [],
   "source": []
  },
  {
   "cell_type": "code",
   "execution_count": null,
   "id": "4c87a97c",
   "metadata": {},
   "outputs": [],
   "source": []
  },
  {
   "cell_type": "code",
   "execution_count": null,
   "id": "be573f75",
   "metadata": {},
   "outputs": [],
   "source": [
    "#separar por dias e plotar os vortices com o mapa para determinado dia, com mapa (basemap)"
   ]
  },
  {
   "cell_type": "code",
   "execution_count": null,
   "id": "cbddf0cf",
   "metadata": {},
   "outputs": [],
   "source": []
  },
  {
   "cell_type": "code",
   "execution_count": 10,
   "id": "ea80ce75",
   "metadata": {},
   "outputs": [],
   "source": [
    "#Criar boolean para os limites de latitude e longitude que quero\n",
    "bool_lat2 = (data['latitude'].values > 35) & (data['latitude'].values < 43)\n",
    "bool_lon2 = (data['longitude'].values >150) & (data['longitude'].values < 170)\n",
    "\n",
    "bool_time2 = (data['time'].values > np.datetime64('2022-08-20T00:00:00.000000000'))"
   ]
  },
  {
   "cell_type": "code",
   "execution_count": 11,
   "id": "48257f80",
   "metadata": {},
   "outputs": [
    {
     "data": {
      "text/plain": [
       "27059"
      ]
     },
     "execution_count": 11,
     "metadata": {},
     "output_type": "execute_result"
    }
   ],
   "source": [
    "bool_time2\n",
    "count = np.count_nonzero(bool_time2 == True)     #\n",
    "count"
   ]
  },
  {
   "cell_type": "code",
   "execution_count": 12,
   "id": "af8cb7c4",
   "metadata": {
    "scrolled": true
   },
   "outputs": [
    {
     "data": {
      "text/plain": [
       "array([108366, 108366, 108366, 108366, 108366, 108366, 108366, 108366,\n",
       "       108366, 126109, 126109, 126109, 126109, 126109, 126109, 126109,\n",
       "       126109, 126109, 126609, 126609, 126609, 126609, 126609, 126609,\n",
       "       126609, 126609, 126609, 130040, 130040, 130040, 130040, 130040,\n",
       "       130040, 130040, 130040, 130040, 130104, 130104, 130104, 130104,\n",
       "       130104, 130104, 130104, 130104, 130104, 130915, 130915, 130915,\n",
       "       130915, 130915, 130915, 130915, 130915, 130915, 131886, 131886,\n",
       "       131886, 131886, 131886, 131886, 131886, 132021, 132021, 132021,\n",
       "       132021, 132021, 132021, 132021, 132021, 132021, 132157, 132157,\n",
       "       132157, 132157, 132157, 132157, 132223, 132223, 132223, 132327,\n",
       "       132327, 132327, 132327, 132327, 132710, 132710, 132710, 132710,\n",
       "       132710, 132710, 132710, 132710, 132710, 133119, 133119, 133119,\n",
       "       133119, 133119, 133119, 133119, 133119, 133119, 133279, 133292,\n",
       "       133292, 133292, 133292, 133292, 133292, 133292, 133292, 133292,\n",
       "       133458, 133458, 133458, 133458, 133458, 133610, 133610, 133610,\n",
       "       133610, 133610, 133610, 133610, 133610, 133610, 133684, 133684,\n",
       "       133684, 133684, 133684, 133684, 133684, 133684, 133684, 133970,\n",
       "       133970, 133970, 133970, 133970, 133970, 133970, 133970, 133970,\n",
       "       134271, 134271, 134271, 134372, 134372, 134372, 134372, 134372,\n",
       "       134372, 134372, 134372, 134372, 134459, 134459, 134459, 134718,\n",
       "       134718, 134718, 134718, 134718, 134718, 134718, 135108],\n",
       "      dtype=uint32)"
      ]
     },
     "execution_count": 12,
     "metadata": {},
     "output_type": "execute_result"
    }
   ],
   "source": [
    "#Como estamos a fazer um slicing atraves de 3 booleans não podemos usar o np.logical_and\n",
    "tracking2 = data['track'].values[(data['latitude'].values > 35) & (data['latitude'].values < 45) & (data['longitude'].values >150) & (data['longitude'].values < 170) & (data['time'].values > np.datetime64('2022-08-20T00:00:00.000000000'))]\n",
    "tracking2"
   ]
  },
  {
   "cell_type": "code",
   "execution_count": null,
   "id": "b8d1b9da",
   "metadata": {},
   "outputs": [],
   "source": []
  },
  {
   "cell_type": "code",
   "execution_count": null,
   "id": "579429b2",
   "metadata": {},
   "outputs": [],
   "source": []
  },
  {
   "cell_type": "code",
   "execution_count": 13,
   "id": "b4f497ba",
   "metadata": {},
   "outputs": [],
   "source": [
    "#Now we will use one of those vortices that were identified in those coordinates above \n",
    "#slice da latitude e longitude baseado no nr do vortice (track)\n",
    "\n",
    "lat_track2 = data['latitude'].values[(data['track'] == 134372)]\n",
    "lon_track2 = data['longitude'].values[(data['track'] == 134372)]\n",
    "area_track2 = data['effective_area'].values[(data['track'] == 134372)]\n",
    "#time_track2 = data['time'].values[(data['track'] == 134985)]"
   ]
  },
  {
   "cell_type": "code",
   "execution_count": 14,
   "id": "476a8476",
   "metadata": {},
   "outputs": [
    {
     "data": {
      "image/png": "[encoded data removed]",
      "text/plain": [
       "<Figure size 864x576 with 2 Axes>"
      ]
     },
     "metadata": {
      "needs_background": "light"
     },
     "output_type": "display_data"
    }
   ],
   "source": [
    "plt.scatter(lon_track2, lat_track2, s = area_track2/10000000)\n",
    "plt.colorbar()\n",
    "plt.xlabel('Longitude', fontsize=20);\n",
    "plt.ylabel('Latitude', fontsize=20);"
   ]
  },
  {
   "cell_type": "code",
   "execution_count": null,
   "id": "078c4307",
   "metadata": {},
   "outputs": [],
   "source": []
  },
  {
   "cell_type": "code",
   "execution_count": null,
   "id": "9550c1b8",
   "metadata": {},
   "outputs": [],
   "source": []
  },
  {
   "cell_type": "code",
   "execution_count": null,
   "id": "668b04f7",
   "metadata": {},
   "outputs": [],
   "source": []
  },
  {
   "cell_type": "markdown",
   "id": "c6906742",
   "metadata": {},
   "source": [
    "## Make a Map in Python using Basemap\n",
    "\n",
    "Como o basemap aceita os valores de longitude entre -180 e 180 temos de converter os valores de longitude do array de tracking para a gama [-180, 180]:\n",
    "\n",
    "    lon_track2 = lon_track2-180   (algo do genero)"
   ]
  },
  {
   "cell_type": "code",
   "execution_count": 15,
   "id": "a4147cfa",
   "metadata": {},
   "outputs": [],
   "source": [
    "lon_track2 = lon_track2-180"
   ]
  },
  {
   "cell_type": "code",
   "execution_count": 18,
   "id": "658321a2",
   "metadata": {},
   "outputs": [
    {
     "data": {
      "image/png": "[encoded data removed]",
      "text/plain": [
       "<Figure size 864x720 with 1 Axes>"
      ]
     },
     "metadata": {},
     "output_type": "display_data"
    }
   ],
   "source": [
    "from mpl_toolkits.basemap import Basemap\n",
    "import matplotlib.pyplot as plt\n",
    "\n",
    "fig = plt.figure(figsize=(12,10))\n",
    "\n",
    "m = Basemap(projection='mill',\n",
    "           llcrnrlat = 35,                      #35\n",
    "           llcrnrlon = -20,                     #-20\n",
    "           urcrnrlat = 45,                      # 45\n",
    "           urcrnrlon = -5,                      #-5\n",
    "           resolution = 'i')\n",
    "\n",
    "m.drawcoastlines()\n",
    "m.fillcontinents(color = 'lightgreen')   #por zonas continentais a verde\n",
    "#m.etopo()      #topografia\n",
    "\n",
    "\n",
    "lons = list(lon_track2)\n",
    "lats = list(lat_track2)\n",
    "\n",
    "x, y = m(lons, lats)\n",
    "m.scatter(x, y, marker='D',color='m')\n",
    "\n",
    "m.drawparallels(np.arange(-90,90,2), labels = [True, False, False, False])\n",
    "m.drawmeridians(np.arange(-180,180, 2), labels=[0,0,0,1])\n",
    "\n",
    "plt.title('Tracking of vortice #134372 from 20-08-2022 to 29-08-2022 ', fontsize=20)\n",
    "\n",
    "plt.show()"
   ]
  },
  {
   "cell_type": "code",
   "execution_count": null,
   "id": "8b722ac8",
   "metadata": {},
   "outputs": [],
   "source": []
  },
  {
   "cell_type": "code",
   "execution_count": null,
   "id": "dddbfa37",
   "metadata": {},
   "outputs": [],
   "source": []
  },
  {
   "cell_type": "code",
   "execution_count": null,
   "id": "5b9e7cff",
   "metadata": {},
   "outputs": [],
   "source": []
  },
  {
   "cell_type": "code",
   "execution_count": null,
   "id": "6abc18e3",
   "metadata": {},
   "outputs": [],
   "source": []
  },
  {
   "cell_type": "code",
   "execution_count": null,
   "id": "7a47f692",
   "metadata": {},
   "outputs": [],
   "source": []
  }
 ],
 "metadata": {
  "kernelspec": {
   "display_name": "Python 3 (ipykernel)",
   "language": "python",
   "name": "python3"
  },
  "language_info": {
   "codemirror_mode": {
    "name": "ipython",
    "version": 3
   },
   "file_extension": ".py",
   "mimetype": "text/x-python",
   "name": "python",
   "nbconvert_exporter": "python",
   "pygments_lexer": "ipython3",
   "version": "3.8.13"
  }
 },
 "nbformat": 4,
 "nbformat_minor": 5
}
