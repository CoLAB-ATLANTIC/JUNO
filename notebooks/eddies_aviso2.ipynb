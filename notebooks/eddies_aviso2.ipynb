{
 "cells": [
  {
   "cell_type": "code",
   "execution_count": null,
   "id": "a7a8ca0e",
   "metadata": {},
   "outputs": [],
   "source": []
  },
  {
   "cell_type": "code",
   "execution_count": 1,
   "id": "929e62f4",
   "metadata": {},
   "outputs": [
    {
     "name": "stderr",
     "output_type": "stream",
     "text": [
      "/home/luisfigueiredo/.local/lib/python3.8/site-packages/requests/__init__.py:89: RequestsDependencyWarning: urllib3 (1.26.9) or chardet (4.0.0) doesn't match a supported version!\n",
      "  warnings.warn(\"urllib3 ({}) or chardet ({}) doesn't match a supported \"\n"
     ]
    }
   ],
   "source": [
    "#Import libraries\n",
    "\n",
    "import os\n",
    "import numpy as np\n",
    "import netCDF4 as nc\n",
    "import matplotlib.pyplot as plt\n",
    "import xarray as xr\n",
    "import matplotlib\n",
    "from pathlib import Path\n",
    "%matplotlib inline\n",
    "from PIL import Image\n",
    "from shapely.geometry import Polygon\n",
    "\n",
    "from mpl_toolkits.basemap import Basemap\n",
    "import matplotlib.pyplot as plt\n",
    "\n",
    "plt.rcParams[\"figure.figsize\"] = 12, 8"
   ]
  },
  {
   "cell_type": "code",
   "execution_count": null,
   "id": "710ff122",
   "metadata": {},
   "outputs": [],
   "source": []
  },
  {
   "cell_type": "code",
   "execution_count": null,
   "id": "8f0fa8fd",
   "metadata": {},
   "outputs": [],
   "source": []
  },
  {
   "cell_type": "markdown",
   "id": "6a834c51",
   "metadata": {},
   "source": [
    "### Get the eddies data: cyclonic and anticyclonic\n",
    "\n",
    "Por razoes de memoria os 2 datasets tiveram de ser divididos apenas nas variaveis de interesse (latitude,longitude,time,track,effective_contour_longitude,effective_contour_latitude)"
   ]
  },
  {
   "cell_type": "code",
   "execution_count": 9,
   "id": "5f7d8e8c",
   "metadata": {},
   "outputs": [
    {
     "data": {
      "text/plain": [
       "'/home/luisfigueiredo/JUNO/notebooks'"
      ]
     },
     "execution_count": 9,
     "metadata": {},
     "output_type": "execute_result"
    }
   ],
   "source": [
    "current_path = os.getcwd()\n",
    "current_path"
   ]
  },
  {
   "cell_type": "code",
   "execution_count": 10,
   "id": "457f8580",
   "metadata": {},
   "outputs": [
    {
     "data": {
      "text/plain": [
       "'/home/luisfigueiredo/JUNO/notebooks/../data/AVISO_data'"
      ]
     },
     "execution_count": 10,
     "metadata": {},
     "output_type": "execute_result"
    }
   ],
   "source": [
    "aviso_folder = os.path.join(current_path, '../data/AVISO_data')\n",
    "aviso_folder"
   ]
  },
  {
   "cell_type": "code",
   "execution_count": null,
   "id": "665dbbf4",
   "metadata": {},
   "outputs": [],
   "source": []
  },
  {
   "cell_type": "code",
   "execution_count": null,
   "id": "db99fe77",
   "metadata": {},
   "outputs": [],
   "source": []
  },
  {
   "cell_type": "code",
   "execution_count": 11,
   "id": "844ee38b",
   "metadata": {},
   "outputs": [],
   "source": [
    "anticyclonic_path = os.path.join(aviso_folder, 'anticyclonic_test.nc')\n",
    "anticyclonic_data = xr.load_dataset(anticyclonic_path)"
   ]
  },
  {
   "cell_type": "code",
   "execution_count": null,
   "id": "e61115bc",
   "metadata": {},
   "outputs": [],
   "source": []
  },
  {
   "cell_type": "code",
   "execution_count": 5,
   "id": "608c4386",
   "metadata": {},
   "outputs": [
    {
     "data": {
      "text/html": [
       "<div><svg style=\"position: absolute; width: 0; height: 0; overflow: hidden\">\n",
       "<defs>\n",
       "<symbol id=\"icon-database\" viewBox=\"0 0 32 32\">\n",
       "<path d=\"M16 0c-8.837 0-16 2.239-16 5v4c0 2.761 7.163 5 16 5s16-2.239 16-5v-4c0-2.761-7.163-5-16-5z\"></path>\n",
       "<path d=\"M16 17c-8.837 0-16-2.239-16-5v6c0 2.761 7.163 5 16 5s16-2.239 16-5v-6c0 2.761-7.163 5-16 5z\"></path>\n",
       "<path d=\"M16 26c-8.837 0-16-2.239-16-5v6c0 2.761 7.163 5 16 5s16-2.239 16-5v-6c0 2.761-7.163 5-16 5z\"></path>\n",
       "</symbol>\n",
       "<symbol id=\"icon-file-text2\" viewBox=\"0 0 32 32\">\n",
       "<path d=\"M28.681 7.159c-0.694-0.947-1.662-2.053-2.724-3.116s-2.169-2.030-3.116-2.724c-1.612-1.182-2.393-1.319-2.841-1.319h-15.5c-1.378 0-2.5 1.121-2.5 2.5v27c0 1.378 1.122 2.5 2.5 2.5h23c1.378 0 2.5-1.122 2.5-2.5v-19.5c0-0.448-0.137-1.23-1.319-2.841zM24.543 5.457c0.959 0.959 1.712 1.825 2.268 2.543h-4.811v-4.811c0.718 0.556 1.584 1.309 2.543 2.268zM28 29.5c0 0.271-0.229 0.5-0.5 0.5h-23c-0.271 0-0.5-0.229-0.5-0.5v-27c0-0.271 0.229-0.5 0.5-0.5 0 0 15.499-0 15.5 0v7c0 0.552 0.448 1 1 1h7v19.5z\"></path>\n",
       "<path d=\"M23 26h-14c-0.552 0-1-0.448-1-1s0.448-1 1-1h14c0.552 0 1 0.448 1 1s-0.448 1-1 1z\"></path>\n",
       "<path d=\"M23 22h-14c-0.552 0-1-0.448-1-1s0.448-1 1-1h14c0.552 0 1 0.448 1 1s-0.448 1-1 1z\"></path>\n",
       "<path d=\"M23 18h-14c-0.552 0-1-0.448-1-1s0.448-1 1-1h14c0.552 0 1 0.448 1 1s-0.448 1-1 1z\"></path>\n",
       "</symbol>\n",
       "</defs>\n",
       "</svg>\n",
       "<style>/* CSS stylesheet for displaying xarray objects in jupyterlab.\n",
       " *\n",
       " */\n",
       "\n",
       ":root {\n",
       "  --xr-font-color0: var(--jp-content-font-color0, rgba(0, 0, 0, 1));\n",
       "  --xr-font-color2: var(--jp-content-font-color2, rgba(0, 0, 0, 0.54));\n",
       "  --xr-font-color3: var(--jp-content-font-color3, rgba(0, 0, 0, 0.38));\n",
       "  --xr-border-color: var(--jp-border-color2, #e0e0e0);\n",
       "  --xr-disabled-color: var(--jp-layout-color3, #bdbdbd);\n",
       "  --xr-background-color: var(--jp-layout-color0, white);\n",
       "  --xr-background-color-row-even: var(--jp-layout-color1, white);\n",
       "  --xr-background-color-row-odd: var(--jp-layout-color2, #eeeeee);\n",
       "}\n",
       "\n",
       "html[theme=dark],\n",
       "body.vscode-dark {\n",
       "  --xr-font-color0: rgba(255, 255, 255, 1);\n",
       "  --xr-font-color2: rgba(255, 255, 255, 0.54);\n",
       "  --xr-font-color3: rgba(255, 255, 255, 0.38);\n",
       "  --xr-border-color: #1F1F1F;\n",
       "  --xr-disabled-color: #515151;\n",
       "  --xr-background-color: #111111;\n",
       "  --xr-background-color-row-even: #111111;\n",
       "  --xr-background-color-row-odd: #313131;\n",
       "}\n",
       "\n",
       ".xr-wrap {\n",
       "  display: block;\n",
       "  min-width: 300px;\n",
       "  max-width: 700px;\n",
       "}\n",
       "\n",
       ".xr-text-repr-fallback {\n",
       "  /* fallback to plain text repr when CSS is not injected (untrusted notebook) */\n",
       "  display: none;\n",
       "}\n",
       "\n",
       ".xr-header {\n",
       "  padding-top: 6px;\n",
       "  padding-bottom: 6px;\n",
       "  margin-bottom: 4px;\n",
       "  border-bottom: solid 1px var(--xr-border-color);\n",
       "}\n",
       "\n",
       ".xr-header > div,\n",
       ".xr-header > ul {\n",
       "  display: inline;\n",
       "  margin-top: 0;\n",
       "  margin-bottom: 0;\n",
       "}\n",
       "\n",
       ".xr-obj-type,\n",
       ".xr-array-name {\n",
       "  margin-left: 2px;\n",
       "  margin-right: 10px;\n",
       "}\n",
       "\n",
       ".xr-obj-type {\n",
       "  color: var(--xr-font-color2);\n",
       "}\n",
       "\n",
       ".xr-sections {\n",
       "  padding-left: 0 !important;\n",
       "  display: grid;\n",
       "  grid-template-columns: 150px auto auto 1fr 20px 20px;\n",
       "}\n",
       "\n",
       ".xr-section-item {\n",
       "  display: contents;\n",
       "}\n",
       "\n",
       ".xr-section-item input {\n",
       "  display: none;\n",
       "}\n",
       "\n",
       ".xr-section-item input + label {\n",
       "  color: var(--xr-disabled-color);\n",
       "}\n",
       "\n",
       ".xr-section-item input:enabled + label {\n",
       "  cursor: pointer;\n",
       "  color: var(--xr-font-color2);\n",
       "}\n",
       "\n",
       ".xr-section-item input:enabled + label:hover {\n",
       "  color: var(--xr-font-color0);\n",
       "}\n",
       "\n",
       ".xr-section-summary {\n",
       "  grid-column: 1;\n",
       "  color: var(--xr-font-color2);\n",
       "  font-weight: 500;\n",
       "}\n",
       "\n",
       ".xr-section-summary > span {\n",
       "  display: inline-block;\n",
       "  padding-left: 0.5em;\n",
       "}\n",
       "\n",
       ".xr-section-summary-in:disabled + label {\n",
       "  color: var(--xr-font-color2);\n",
       "}\n",
       "\n",
       ".xr-section-summary-in + label:before {\n",
       "  display: inline-block;\n",
       "  content: '►';\n",
       "  font-size: 11px;\n",
       "  width: 15px;\n",
       "  text-align: center;\n",
       "}\n",
       "\n",
       ".xr-section-summary-in:disabled + label:before {\n",
       "  color: var(--xr-disabled-color);\n",
       "}\n",
       "\n",
       ".xr-section-summary-in:checked + label:before {\n",
       "  content: '▼';\n",
       "}\n",
       "\n",
       ".xr-section-summary-in:checked + label > span {\n",
       "  display: none;\n",
       "}\n",
       "\n",
       ".xr-section-summary,\n",
       ".xr-section-inline-details {\n",
       "  padding-top: 4px;\n",
       "  padding-bottom: 4px;\n",
       "}\n",
       "\n",
       ".xr-section-inline-details {\n",
       "  grid-column: 2 / -1;\n",
       "}\n",
       "\n",
       ".xr-section-details {\n",
       "  display: none;\n",
       "  grid-column: 1 / -1;\n",
       "  margin-bottom: 5px;\n",
       "}\n",
       "\n",
       ".xr-section-summary-in:checked ~ .xr-section-details {\n",
       "  display: contents;\n",
       "}\n",
       "\n",
       ".xr-array-wrap {\n",
       "  grid-column: 1 / -1;\n",
       "  display: grid;\n",
       "  grid-template-columns: 20px auto;\n",
       "}\n",
       "\n",
       ".xr-array-wrap > label {\n",
       "  grid-column: 1;\n",
       "  vertical-align: top;\n",
       "}\n",
       "\n",
       ".xr-preview {\n",
       "  color: var(--xr-font-color3);\n",
       "}\n",
       "\n",
       ".xr-array-preview,\n",
       ".xr-array-data {\n",
       "  padding: 0 5px !important;\n",
       "  grid-column: 2;\n",
       "}\n",
       "\n",
       ".xr-array-data,\n",
       ".xr-array-in:checked ~ .xr-array-preview {\n",
       "  display: none;\n",
       "}\n",
       "\n",
       ".xr-array-in:checked ~ .xr-array-data,\n",
       ".xr-array-preview {\n",
       "  display: inline-block;\n",
       "}\n",
       "\n",
       ".xr-dim-list {\n",
       "  display: inline-block !important;\n",
       "  list-style: none;\n",
       "  padding: 0 !important;\n",
       "  margin: 0;\n",
       "}\n",
       "\n",
       ".xr-dim-list li {\n",
       "  display: inline-block;\n",
       "  padding: 0;\n",
       "  margin: 0;\n",
       "}\n",
       "\n",
       ".xr-dim-list:before {\n",
       "  content: '(';\n",
       "}\n",
       "\n",
       ".xr-dim-list:after {\n",
       "  content: ')';\n",
       "}\n",
       "\n",
       ".xr-dim-list li:not(:last-child):after {\n",
       "  content: ',';\n",
       "  padding-right: 5px;\n",
       "}\n",
       "\n",
       ".xr-has-index {\n",
       "  font-weight: bold;\n",
       "}\n",
       "\n",
       ".xr-var-list,\n",
       ".xr-var-item {\n",
       "  display: contents;\n",
       "}\n",
       "\n",
       ".xr-var-item > div,\n",
       ".xr-var-item label,\n",
       ".xr-var-item > .xr-var-name span {\n",
       "  background-color: var(--xr-background-color-row-even);\n",
       "  margin-bottom: 0;\n",
       "}\n",
       "\n",
       ".xr-var-item > .xr-var-name:hover span {\n",
       "  padding-right: 5px;\n",
       "}\n",
       "\n",
       ".xr-var-list > li:nth-child(odd) > div,\n",
       ".xr-var-list > li:nth-child(odd) > label,\n",
       ".xr-var-list > li:nth-child(odd) > .xr-var-name span {\n",
       "  background-color: var(--xr-background-color-row-odd);\n",
       "}\n",
       "\n",
       ".xr-var-name {\n",
       "  grid-column: 1;\n",
       "}\n",
       "\n",
       ".xr-var-dims {\n",
       "  grid-column: 2;\n",
       "}\n",
       "\n",
       ".xr-var-dtype {\n",
       "  grid-column: 3;\n",
       "  text-align: right;\n",
       "  color: var(--xr-font-color2);\n",
       "}\n",
       "\n",
       ".xr-var-preview {\n",
       "  grid-column: 4;\n",
       "}\n",
       "\n",
       ".xr-var-name,\n",
       ".xr-var-dims,\n",
       ".xr-var-dtype,\n",
       ".xr-preview,\n",
       ".xr-attrs dt {\n",
       "  white-space: nowrap;\n",
       "  overflow: hidden;\n",
       "  text-overflow: ellipsis;\n",
       "  padding-right: 10px;\n",
       "}\n",
       "\n",
       ".xr-var-name:hover,\n",
       ".xr-var-dims:hover,\n",
       ".xr-var-dtype:hover,\n",
       ".xr-attrs dt:hover {\n",
       "  overflow: visible;\n",
       "  width: auto;\n",
       "  z-index: 1;\n",
       "}\n",
       "\n",
       ".xr-var-attrs,\n",
       ".xr-var-data {\n",
       "  display: none;\n",
       "  background-color: var(--xr-background-color) !important;\n",
       "  padding-bottom: 5px !important;\n",
       "}\n",
       "\n",
       ".xr-var-attrs-in:checked ~ .xr-var-attrs,\n",
       ".xr-var-data-in:checked ~ .xr-var-data {\n",
       "  display: block;\n",
       "}\n",
       "\n",
       ".xr-var-data > table {\n",
       "  float: right;\n",
       "}\n",
       "\n",
       ".xr-var-name span,\n",
       ".xr-var-data,\n",
       ".xr-attrs {\n",
       "  padding-left: 25px !important;\n",
       "}\n",
       "\n",
       ".xr-attrs,\n",
       ".xr-var-attrs,\n",
       ".xr-var-data {\n",
       "  grid-column: 1 / -1;\n",
       "}\n",
       "\n",
       "dl.xr-attrs {\n",
       "  padding: 0;\n",
       "  margin: 0;\n",
       "  display: grid;\n",
       "  grid-template-columns: 125px auto;\n",
       "}\n",
       "\n",
       ".xr-attrs dt,\n",
       ".xr-attrs dd {\n",
       "  padding: 0;\n",
       "  margin: 0;\n",
       "  float: left;\n",
       "  padding-right: 10px;\n",
       "  width: auto;\n",
       "}\n",
       "\n",
       ".xr-attrs dt {\n",
       "  font-weight: normal;\n",
       "  grid-column: 1;\n",
       "}\n",
       "\n",
       ".xr-attrs dt:hover span {\n",
       "  display: inline-block;\n",
       "  background: var(--xr-background-color);\n",
       "  padding-right: 10px;\n",
       "}\n",
       "\n",
       ".xr-attrs dd {\n",
       "  grid-column: 2;\n",
       "  white-space: pre-wrap;\n",
       "  word-break: break-all;\n",
       "}\n",
       "\n",
       ".xr-icon-database,\n",
       ".xr-icon-file-text2 {\n",
       "  display: inline-block;\n",
       "  vertical-align: middle;\n",
       "  width: 1em;\n",
       "  height: 1.5em !important;\n",
       "  stroke-width: 0;\n",
       "  stroke: currentColor;\n",
       "  fill: currentColor;\n",
       "}\n",
       "</style><pre class='xr-text-repr-fallback'>&lt;xarray.Dataset&gt;\n",
       "Dimensions:                      (NbSample: 20, obs: 286)\n",
       "Dimensions without coordinates: NbSample, obs\n",
       "Data variables:\n",
       "    latitude                     (obs) float32 41.92 41.91 41.9 ... 38.99 38.88\n",
       "    longitude                    (obs) float32 341.4 341.3 341.3 ... 348.0 348.0\n",
       "    effective_contour_longitude  (obs, NbSample) float32 340.9 341.4 ... 347.6\n",
       "    effective_contour_latitude   (obs, NbSample) float32 41.25 41.18 ... 38.62\n",
       "    time                         (obs) datetime64[ns] 2022-10-15 ... 2022-10-23\n",
       "    track                        (obs) uint32 106085 106085 ... 133958 133958\n",
       "Attributes: (12/21)\n",
       "    Metadata_Conventions:      Unidata Dataset Discovery v1.0\n",
       "    comment:                   Surface product; mesoscale eddies\n",
       "    creator_email:             aviso@altimetry.fr\n",
       "    creator_url:               https://www.aviso.altimetry.fr\n",
       "    date_created:              2022-11-07T08:17:12Z\n",
       "    framework_used:            https://github.com/AntSimi/py-eddy-tracker\n",
       "    ...                        ...\n",
       "    time_coverage_duration:    P1757D\n",
       "    time_coverage_end:         2022-10-23T00:00:00Z\n",
       "    time_coverage_start:       2018-01-01T00:00:00Z\n",
       "    title:                     Mesoscale Anticyclonic Eddies in Altimeter Obs...\n",
       "    history:                   Fri Nov 25 15:10:49 2022: ncks -v time,track,l...\n",
       "    NCO:                       netCDF Operators version 4.9.1 (Homepage = htt...</pre><div class='xr-wrap' hidden><div class='xr-header'><div class='xr-obj-type'>xarray.Dataset</div></div><ul class='xr-sections'><li class='xr-section-item'><input id='section-2dd31d1c-e106-4f40-82ed-0db3fef92588' class='xr-section-summary-in' type='checkbox' disabled ><label for='section-2dd31d1c-e106-4f40-82ed-0db3fef92588' class='xr-section-summary'  title='Expand/collapse section'>Dimensions:</label><div class='xr-section-inline-details'><ul class='xr-dim-list'><li><span>NbSample</span>: 20</li><li><span>obs</span>: 286</li></ul></div><div class='xr-section-details'></div></li><li class='xr-section-item'><input id='section-675bf8df-5e62-4ed7-8ae5-2f14daa3ad97' class='xr-section-summary-in' type='checkbox' disabled ><label for='section-675bf8df-5e62-4ed7-8ae5-2f14daa3ad97' class='xr-section-summary'  title='Expand/collapse section'>Coordinates: <span>(0)</span></label><div class='xr-section-inline-details'></div><div class='xr-section-details'><ul class='xr-var-list'></ul></div></li><li class='xr-section-item'><input id='section-35f9be35-1ba9-4d1c-be4f-c2dc15146150' class='xr-section-summary-in' type='checkbox'  checked><label for='section-35f9be35-1ba9-4d1c-be4f-c2dc15146150' class='xr-section-summary' >Data variables: <span>(6)</span></label><div class='xr-section-inline-details'></div><div class='xr-section-details'><ul class='xr-var-list'><li class='xr-var-item'><div class='xr-var-name'><span>latitude</span></div><div class='xr-var-dims'>(obs)</div><div class='xr-var-dtype'>float32</div><div class='xr-var-preview xr-preview'>41.92 41.91 41.9 ... 38.99 38.88</div><input id='attrs-91af2401-7610-49ff-8cba-a4aa79b9363e' class='xr-var-attrs-in' type='checkbox' ><label for='attrs-91af2401-7610-49ff-8cba-a4aa79b9363e' title='Show/Hide attributes'><svg class='icon xr-icon-file-text2'><use xlink:href='#icon-file-text2'></use></svg></label><input id='data-1fab983c-6650-4135-bc91-156f92068489' class='xr-var-data-in' type='checkbox'><label for='data-1fab983c-6650-4135-bc91-156f92068489' title='Show/Hide data repr'><svg class='icon xr-icon-database'><use xlink:href='#icon-database'></use></svg></label><div class='xr-var-attrs'><dl class='xr-attrs'><dt><span>axis :</span></dt><dd>Y</dd><dt><span>comment :</span></dt><dd>Latitude center of the best fit circle</dd><dt><span>long_name :</span></dt><dd>Eddy Center Latitude</dd><dt><span>standard_name :</span></dt><dd>latitude</dd><dt><span>units :</span></dt><dd>degrees_north</dd><dt><span>min :</span></dt><dd>35.284584</dd><dt><span>max :</span></dt><dd>44.99866</dd></dl></div><div class='xr-var-data'><pre>array([41.91696 , 41.90554 , 41.89683 , 41.905235, 41.894478, 41.903126,\n",
       "       41.89639 , 41.89053 , 41.891632, 35.757694, 35.755787, 35.739902,\n",
       "       35.700428, 35.679935, 35.667717, 35.65638 , 35.705173, 35.70269 ,\n",
       "       44.24818 , 44.277267, 40.234814, 40.262215, 40.28961 , 40.317013,\n",
       "       40.380264, 40.206196, 40.376266, 40.255096, 40.295692, 38.318672,\n",
       "       38.29767 , 38.300213, 38.278923, 38.28844 , 38.28446 , 38.27638 ,\n",
       "       38.235344, 38.237457, 37.061134, 37.053783, 37.025097, 37.014885,\n",
       "       37.013184, 37.028706, 37.04803 , 37.060814, 37.04351 , 40.77273 ,\n",
       "       40.772556, 40.795357, 40.747013, 40.731304, 40.69846 , 40.705975,\n",
       "       40.70228 , 40.70246 , 44.987873, 44.57531 , 44.498264, 44.505314,\n",
       "       44.57277 , 44.613308, 38.623844, 38.64587 , 38.638554, 38.637573,\n",
       "       38.669846, 38.70212 , 38.734394, 37.192295, 37.248066, 37.243732,\n",
       "       37.217484, 37.20928 , 37.16796 , 37.17527 , 37.182583, 43.74689 ,\n",
       "       43.70505 , 43.655846, 43.638233, 43.519363, 43.479637, 43.471073,\n",
       "       43.546116, 43.53847 , 40.565556, 40.536243, 40.534634, 40.549194,\n",
       "       40.738068, 40.58782 , 40.70369 , 40.70554 , 40.56714 , 36.700203,\n",
       "       36.70026 , 36.700317, 36.706917, 36.6204  , 36.663235, 36.65043 ,\n",
       "       36.617737, 36.628265, 41.532814, 41.179127, 41.173706, 41.168285,\n",
       "       41.162865, 41.15381 , 41.149788, 41.141384, 41.126286, 37.127525,\n",
       "       37.128048, 37.146767, 37.165485, 37.1842  , 37.20292 , 37.221638,\n",
       "...\n",
       "       42.928726, 42.91229 , 42.177082, 42.164562, 42.14692 , 42.143406,\n",
       "       42.131332, 42.1244  , 42.113777, 42.089787, 42.090946, 35.91434 ,\n",
       "       35.89982 , 35.91927 , 35.94011 , 35.903244, 35.90488 , 35.898838,\n",
       "       35.908325, 35.90164 , 36.15073 , 35.929188, 36.069584, 35.873676,\n",
       "       35.88706 , 35.892933, 35.898808, 35.88994 , 35.89052 , 40.519665,\n",
       "       40.428288, 40.454433, 40.470413, 44.484787, 44.479996, 44.4752  ,\n",
       "       44.47429 , 44.47338 , 44.47247 , 44.46765 , 44.4718  , 40.119167,\n",
       "       40.138016, 40.07726 , 40.098213, 40.11039 , 40.13502 , 40.20071 ,\n",
       "       40.187775, 40.13999 , 40.105545, 40.116978, 40.11333 , 40.141743,\n",
       "       40.202274, 40.2066  , 40.217693, 40.293617, 40.291946, 36.59548 ,\n",
       "       36.691685, 36.819984, 36.94828 , 37.07658 , 37.140995, 37.264782,\n",
       "       37.307266, 37.37202 , 35.32372 , 35.284584, 44.86151 , 44.94257 ,\n",
       "       44.997314, 44.99866 , 44.96464 , 38.825592, 38.879665, 38.892303,\n",
       "       38.903584, 38.89971 , 38.90254 , 38.91838 , 38.922104, 38.948227,\n",
       "       42.776558, 42.75238 , 42.74402 , 42.72377 , 42.70352 , 42.683277,\n",
       "       42.66303 , 42.64278 , 42.64273 , 44.64683 , 44.694023, 44.560417,\n",
       "       44.474438, 44.43822 , 44.30989 , 44.292927, 35.42764 , 35.4507  ,\n",
       "       35.36005 , 35.432915, 35.507637, 35.47508 , 35.478653, 35.482227,\n",
       "       35.474144, 38.849583, 38.94124 , 39.032898, 39.124557, 39.216213,\n",
       "       39.21089 , 39.067776, 38.99217 , 38.883877], dtype=float32)</pre></div></li><li class='xr-var-item'><div class='xr-var-name'><span>longitude</span></div><div class='xr-var-dims'>(obs)</div><div class='xr-var-dtype'>float32</div><div class='xr-var-preview xr-preview'>341.4 341.3 341.3 ... 348.0 348.0</div><input id='attrs-8fd5ba7b-2159-4cd5-ab19-840dbf18de49' class='xr-var-attrs-in' type='checkbox' ><label for='attrs-8fd5ba7b-2159-4cd5-ab19-840dbf18de49' title='Show/Hide attributes'><svg class='icon xr-icon-file-text2'><use xlink:href='#icon-file-text2'></use></svg></label><input id='data-3eeb1860-04f8-4d05-884b-389046ecadc5' class='xr-var-data-in' type='checkbox'><label for='data-3eeb1860-04f8-4d05-884b-389046ecadc5' title='Show/Hide data repr'><svg class='icon xr-icon-database'><use xlink:href='#icon-database'></use></svg></label><div class='xr-var-attrs'><dl class='xr-attrs'><dt><span>axis :</span></dt><dd>X</dd><dt><span>comment :</span></dt><dd>Longitude center of the best fit circle</dd><dt><span>long_name :</span></dt><dd>Eddy Center Longitude</dd><dt><span>standard_name :</span></dt><dd>longitude</dd><dt><span>units :</span></dt><dd>degrees_east</dd><dt><span>min :</span></dt><dd>331.62485</dd><dt><span>max :</span></dt><dd>358.34622</dd></dl></div><div class='xr-var-data'><pre>array([341.35495, 341.31183, 341.32983, 341.36166, 341.3845 , 341.33005,\n",
       "       341.33438, 341.3743 , 341.37155, 355.85657, 355.8645 , 355.86   ,\n",
       "       355.86874, 355.86673, 355.85858, 355.85788, 355.91556, 355.871  ,\n",
       "       340.5397 , 340.67245, 345.7808 , 345.7071 , 345.63336, 345.55966,\n",
       "       345.44888, 345.56845, 345.3583 , 345.48196, 345.42984, 335.37646,\n",
       "       335.35965, 335.36514, 335.3474 , 335.34314, 335.37796, 335.3775 ,\n",
       "       335.37543, 335.38818, 347.8859 , 347.89804, 347.90637, 347.8906 ,\n",
       "       347.90787, 347.91165, 347.9052 , 347.92087, 347.92755, 342.83875,\n",
       "       342.84534, 342.8716 , 342.8932 , 342.84894, 342.824  , 342.79346,\n",
       "       342.80362, 342.7853 , 348.22876, 345.72607, 345.69016, 345.61084,\n",
       "       345.61356, 345.66064, 346.40033, 346.39594, 346.37805, 346.34048,\n",
       "       346.34372, 346.34692, 346.35016, 337.89252, 337.85275, 337.84387,\n",
       "       337.88535, 337.8768 , 337.85434, 337.82727, 337.80017, 343.44064,\n",
       "       343.40524, 343.4254 , 343.40546, 343.39413, 343.3908 , 343.3838 ,\n",
       "       343.38937, 343.3264 , 336.08566, 336.0883 , 336.11295, 336.10568,\n",
       "       336.26105, 336.10223, 336.12888, 336.0978 , 336.09296, 343.54697,\n",
       "       343.5549 , 343.5628 , 343.60703, 343.6174 , 343.60632, 343.59357,\n",
       "       343.5863 , 343.5555 , 332.70978, 332.8757 , 332.93036, 332.98502,\n",
       "       333.03967, 333.0353 , 333.01422, 332.99106, 333.00482, 332.02036,\n",
       "       332.02612, 332.05316, 332.08017, 332.1072 , 332.13422, 332.16125,\n",
       "...\n",
       "       337.6862 , 337.67337, 343.70358, 343.6747 , 343.58597, 343.5829 ,\n",
       "       343.52466, 343.55652, 343.5531 , 343.50842, 343.48837, 358.2886 ,\n",
       "       358.3282 , 358.33548, 358.30365, 358.3275 , 358.32526, 358.32407,\n",
       "       358.34134, 358.34622, 346.47357, 346.34695, 346.43582, 346.32004,\n",
       "       346.27518, 346.26785, 346.26053, 346.2727 , 346.28107, 341.25   ,\n",
       "       341.28754, 341.36377, 341.36108, 341.18155, 341.09097, 341.0004 ,\n",
       "       341.05264, 341.1049 , 341.15714, 341.1764 , 341.2132 , 350.035  ,\n",
       "       350.01474, 350.01572, 350.0178 , 350.01096, 350.0305 , 350.10208,\n",
       "       350.13638, 350.1345 , 338.54218, 338.5299 , 338.5033 , 338.5396 ,\n",
       "       338.52637, 338.5074 , 338.53543, 338.66837, 338.6639 , 350.47498,\n",
       "       350.44757, 350.42007, 350.39255, 350.36505, 350.35602, 350.27145,\n",
       "       350.28012, 350.2858 , 340.99362, 340.96967, 354.43808, 354.31482,\n",
       "       354.09103, 354.1088 , 354.1206 , 345.1124 , 345.17838, 345.1778 ,\n",
       "       345.12247, 345.26712, 345.2552 , 345.2551 , 345.3123 , 345.24142,\n",
       "       336.97495, 337.01398, 336.99548, 337.04944, 337.10336, 337.15732,\n",
       "       337.21124, 337.2652 , 337.27286, 355.0444 , 354.99524, 355.07608,\n",
       "       355.1233 , 355.04327, 355.08926, 355.07684, 335.53314, 335.48026,\n",
       "       335.67157, 335.6229 , 335.67218, 335.8249 , 335.80743, 335.78995,\n",
       "       335.7613 , 348.2964 , 348.25397, 348.21155, 348.16916, 348.12674,\n",
       "       348.0882 , 348.03293, 347.99295, 348.0159 ], dtype=float32)</pre></div></li><li class='xr-var-item'><div class='xr-var-name'><span>effective_contour_longitude</span></div><div class='xr-var-dims'>(obs, NbSample)</div><div class='xr-var-dtype'>float32</div><div class='xr-var-preview xr-preview'>340.9 341.4 341.6 ... 347.6 347.6</div><input id='attrs-651fbfb9-79bd-4caf-9e5b-41aab7a6633e' class='xr-var-attrs-in' type='checkbox' ><label for='attrs-651fbfb9-79bd-4caf-9e5b-41aab7a6633e' title='Show/Hide attributes'><svg class='icon xr-icon-file-text2'><use xlink:href='#icon-file-text2'></use></svg></label><input id='data-e18a2716-f953-47df-a364-16119120b939' class='xr-var-data-in' type='checkbox'><label for='data-e18a2716-f953-47df-a364-16119120b939' title='Show/Hide data repr'><svg class='icon xr-icon-database'><use xlink:href='#icon-database'></use></svg></label><div class='xr-var-attrs'><dl class='xr-attrs'><dt><span>axis :</span></dt><dd>X</dd><dt><span>comment :</span></dt><dd>Longitudes of the effective contour</dd><dt><span>long_name :</span></dt><dd>Effective Contour Longitudes</dd><dt><span>units :</span></dt><dd>degrees_east</dd><dt><span>min :</span></dt><dd>180.0</dd><dt><span>max :</span></dt><dd>358.88</dd></dl></div><div class='xr-var-data'><pre>array([[340.87   , 341.36   , 341.62   , ..., 340.12   , 340.53   ,\n",
       "        340.87   ],\n",
       "       [340.62   , 341.37   , 341.62   , ..., 340.12   , 340.36   ,\n",
       "        340.62   ],\n",
       "       [341.38   , 341.87   , 342.38   , ..., 340.25   , 340.87   ,\n",
       "        341.38   ],\n",
       "       ...,\n",
       "       [347.88   , 348.12   , 348.14   , ..., 347.62   , 347.82   ,\n",
       "        347.88   ],\n",
       "       [347.88   , 348.12   , 348.14   , ..., 347.66998, 347.68   ,\n",
       "        347.88   ],\n",
       "       [347.62   , 347.87   , 347.88   , ..., 347.57   , 347.62   ,\n",
       "        347.62   ]], dtype=float32)</pre></div></li><li class='xr-var-item'><div class='xr-var-name'><span>effective_contour_latitude</span></div><div class='xr-var-dims'>(obs, NbSample)</div><div class='xr-var-dtype'>float32</div><div class='xr-var-preview xr-preview'>41.25 41.18 41.21 ... 38.64 38.62</div><input id='attrs-89722fb8-badc-45e8-97a4-1f7f46bf7ba7' class='xr-var-attrs-in' type='checkbox' ><label for='attrs-89722fb8-badc-45e8-97a4-1f7f46bf7ba7' title='Show/Hide attributes'><svg class='icon xr-icon-file-text2'><use xlink:href='#icon-file-text2'></use></svg></label><input id='data-5253004e-0f72-4c4c-be3d-f3350c38c7f8' class='xr-var-data-in' type='checkbox'><label for='data-5253004e-0f72-4c4c-be3d-f3350c38c7f8' title='Show/Hide data repr'><svg class='icon xr-icon-database'><use xlink:href='#icon-database'></use></svg></label><div class='xr-var-attrs'><dl class='xr-attrs'><dt><span>axis :</span></dt><dd>X</dd><dt><span>comment :</span></dt><dd>Latitudes of effective contour</dd><dt><span>long_name :</span></dt><dd>Effective Contour Latitudes</dd><dt><span>units :</span></dt><dd>degrees_east</dd><dt><span>min :</span></dt><dd>0.0</dd><dt><span>max :</span></dt><dd>45.489998</dd></dl></div><div class='xr-var-data'><pre>array([[41.25    , 41.18    , 41.21    , ..., 41.629997, 41.379997,\n",
       "        41.25    ],\n",
       "       [41.3     , 41.19    , 41.21    , ..., 41.399998, 41.399998,\n",
       "        41.3     ],\n",
       "       [41.09    , 41.23    , 41.51    , ..., 41.379997, 41.2     ,\n",
       "        41.09    ],\n",
       "       ...,\n",
       "       [38.6     , 38.579998, 38.59    , ..., 38.86    , 38.62    ,\n",
       "        38.6     ],\n",
       "       [38.54    , 38.55    , 38.559998, ..., 38.64    , 38.62    ,\n",
       "        38.54    ],\n",
       "       [38.62    , 38.53    , 38.52    , ..., 38.86    , 38.64    ,\n",
       "        38.62    ]], dtype=float32)</pre></div></li><li class='xr-var-item'><div class='xr-var-name'><span>time</span></div><div class='xr-var-dims'>(obs)</div><div class='xr-var-dtype'>datetime64[ns]</div><div class='xr-var-preview xr-preview'>2022-10-15 ... 2022-10-23</div><input id='attrs-e40161ec-f9dd-4184-8b02-ac80f4b2da56' class='xr-var-attrs-in' type='checkbox' ><label for='attrs-e40161ec-f9dd-4184-8b02-ac80f4b2da56' title='Show/Hide attributes'><svg class='icon xr-icon-file-text2'><use xlink:href='#icon-file-text2'></use></svg></label><input id='data-5be86d22-46f1-4770-a363-bcbc92813cd4' class='xr-var-data-in' type='checkbox'><label for='data-5be86d22-46f1-4770-a363-bcbc92813cd4' title='Show/Hide data repr'><svg class='icon xr-icon-database'><use xlink:href='#icon-database'></use></svg></label><div class='xr-var-attrs'><dl class='xr-attrs'><dt><span>axis :</span></dt><dd>T</dd><dt><span>comment :</span></dt><dd>Date of this observation</dd><dt><span>long_name :</span></dt><dd>Time</dd><dt><span>standard_name :</span></dt><dd>time</dd><dt><span>min :</span></dt><dd>26585.0</dd><dt><span>max :</span></dt><dd>26593.0</dd></dl></div><div class='xr-var-data'><pre>array([&#x27;2022-10-15T00:00:00.000000000&#x27;, &#x27;2022-10-16T00:00:00.000000000&#x27;,\n",
       "       &#x27;2022-10-17T00:00:00.000000000&#x27;, &#x27;2022-10-18T00:00:00.000000000&#x27;,\n",
       "       &#x27;2022-10-19T00:00:00.000000000&#x27;, &#x27;2022-10-20T00:00:00.000000000&#x27;,\n",
       "       &#x27;2022-10-21T00:00:00.000000000&#x27;, &#x27;2022-10-22T00:00:00.000000000&#x27;,\n",
       "       &#x27;2022-10-23T00:00:00.000000000&#x27;, &#x27;2022-10-15T00:00:00.000000000&#x27;,\n",
       "       &#x27;2022-10-16T00:00:00.000000000&#x27;, &#x27;2022-10-17T00:00:00.000000000&#x27;,\n",
       "       &#x27;2022-10-18T00:00:00.000000000&#x27;, &#x27;2022-10-19T00:00:00.000000000&#x27;,\n",
       "       &#x27;2022-10-20T00:00:00.000000000&#x27;, &#x27;2022-10-21T00:00:00.000000000&#x27;,\n",
       "       &#x27;2022-10-22T00:00:00.000000000&#x27;, &#x27;2022-10-23T00:00:00.000000000&#x27;,\n",
       "       &#x27;2022-10-15T00:00:00.000000000&#x27;, &#x27;2022-10-16T00:00:00.000000000&#x27;,\n",
       "       &#x27;2022-10-15T00:00:00.000000000&#x27;, &#x27;2022-10-16T00:00:00.000000000&#x27;,\n",
       "       &#x27;2022-10-17T00:00:00.000000000&#x27;, &#x27;2022-10-18T00:00:00.000000000&#x27;,\n",
       "       &#x27;2022-10-19T00:00:00.000000000&#x27;, &#x27;2022-10-20T00:00:00.000000000&#x27;,\n",
       "       &#x27;2022-10-21T00:00:00.000000000&#x27;, &#x27;2022-10-22T00:00:00.000000000&#x27;,\n",
       "       &#x27;2022-10-23T00:00:00.000000000&#x27;, &#x27;2022-10-15T00:00:00.000000000&#x27;,\n",
       "       &#x27;2022-10-16T00:00:00.000000000&#x27;, &#x27;2022-10-17T00:00:00.000000000&#x27;,\n",
       "       &#x27;2022-10-18T00:00:00.000000000&#x27;, &#x27;2022-10-19T00:00:00.000000000&#x27;,\n",
       "       &#x27;2022-10-20T00:00:00.000000000&#x27;, &#x27;2022-10-21T00:00:00.000000000&#x27;,\n",
       "       &#x27;2022-10-22T00:00:00.000000000&#x27;, &#x27;2022-10-23T00:00:00.000000000&#x27;,\n",
       "       &#x27;2022-10-15T00:00:00.000000000&#x27;, &#x27;2022-10-16T00:00:00.000000000&#x27;,\n",
       "...\n",
       "       &#x27;2022-10-20T00:00:00.000000000&#x27;, &#x27;2022-10-21T00:00:00.000000000&#x27;,\n",
       "       &#x27;2022-10-22T00:00:00.000000000&#x27;, &#x27;2022-10-23T00:00:00.000000000&#x27;,\n",
       "       &#x27;2022-10-15T00:00:00.000000000&#x27;, &#x27;2022-10-16T00:00:00.000000000&#x27;,\n",
       "       &#x27;2022-10-17T00:00:00.000000000&#x27;, &#x27;2022-10-18T00:00:00.000000000&#x27;,\n",
       "       &#x27;2022-10-19T00:00:00.000000000&#x27;, &#x27;2022-10-20T00:00:00.000000000&#x27;,\n",
       "       &#x27;2022-10-21T00:00:00.000000000&#x27;, &#x27;2022-10-22T00:00:00.000000000&#x27;,\n",
       "       &#x27;2022-10-23T00:00:00.000000000&#x27;, &#x27;2022-10-15T00:00:00.000000000&#x27;,\n",
       "       &#x27;2022-10-16T00:00:00.000000000&#x27;, &#x27;2022-10-17T00:00:00.000000000&#x27;,\n",
       "       &#x27;2022-10-18T00:00:00.000000000&#x27;, &#x27;2022-10-19T00:00:00.000000000&#x27;,\n",
       "       &#x27;2022-10-20T00:00:00.000000000&#x27;, &#x27;2022-10-21T00:00:00.000000000&#x27;,\n",
       "       &#x27;2022-10-15T00:00:00.000000000&#x27;, &#x27;2022-10-16T00:00:00.000000000&#x27;,\n",
       "       &#x27;2022-10-17T00:00:00.000000000&#x27;, &#x27;2022-10-18T00:00:00.000000000&#x27;,\n",
       "       &#x27;2022-10-19T00:00:00.000000000&#x27;, &#x27;2022-10-20T00:00:00.000000000&#x27;,\n",
       "       &#x27;2022-10-21T00:00:00.000000000&#x27;, &#x27;2022-10-22T00:00:00.000000000&#x27;,\n",
       "       &#x27;2022-10-23T00:00:00.000000000&#x27;, &#x27;2022-10-15T00:00:00.000000000&#x27;,\n",
       "       &#x27;2022-10-16T00:00:00.000000000&#x27;, &#x27;2022-10-17T00:00:00.000000000&#x27;,\n",
       "       &#x27;2022-10-18T00:00:00.000000000&#x27;, &#x27;2022-10-19T00:00:00.000000000&#x27;,\n",
       "       &#x27;2022-10-20T00:00:00.000000000&#x27;, &#x27;2022-10-21T00:00:00.000000000&#x27;,\n",
       "       &#x27;2022-10-22T00:00:00.000000000&#x27;, &#x27;2022-10-23T00:00:00.000000000&#x27;],\n",
       "      dtype=&#x27;datetime64[ns]&#x27;)</pre></div></li><li class='xr-var-item'><div class='xr-var-name'><span>track</span></div><div class='xr-var-dims'>(obs)</div><div class='xr-var-dtype'>uint32</div><div class='xr-var-preview xr-preview'>106085 106085 ... 133958 133958</div><input id='attrs-7b5a346c-abba-4061-b182-71763d267585' class='xr-var-attrs-in' type='checkbox' ><label for='attrs-7b5a346c-abba-4061-b182-71763d267585' title='Show/Hide attributes'><svg class='icon xr-icon-file-text2'><use xlink:href='#icon-file-text2'></use></svg></label><input id='data-e3ec85ed-b9f0-4264-8d80-10a5910eb91b' class='xr-var-data-in' type='checkbox'><label for='data-e3ec85ed-b9f0-4264-8d80-10a5910eb91b' title='Show/Hide data repr'><svg class='icon xr-icon-database'><use xlink:href='#icon-database'></use></svg></label><div class='xr-var-attrs'><dl class='xr-attrs'><dt><span>comment :</span></dt><dd>Trajectory identification number</dd><dt><span>long_name :</span></dt><dd>Trajectory number</dd><dt><span>min :</span></dt><dd>106085</dd><dt><span>max :</span></dt><dd>133958</dd></dl></div><div class='xr-var-data'><pre>array([106085, 106085, 106085, 106085, 106085, 106085, 106085, 106085,\n",
       "       106085, 119325, 119325, 119325, 119325, 119325, 119325, 119325,\n",
       "       119325, 119325, 122082, 122082, 125626, 125626, 125626, 125626,\n",
       "       125626, 125626, 125626, 125626, 125626, 126687, 126687, 126687,\n",
       "       126687, 126687, 126687, 126687, 126687, 126687, 126808, 126808,\n",
       "       126808, 126808, 126808, 126808, 126808, 126808, 126808, 127395,\n",
       "       127395, 127395, 127395, 127395, 127395, 127395, 127395, 127395,\n",
       "       128361, 128612, 128612, 128612, 128612, 128612, 129265, 129265,\n",
       "       129265, 129265, 129265, 129265, 129265, 129389, 129389, 129389,\n",
       "       129389, 129389, 129389, 129389, 129389, 129534, 129534, 129534,\n",
       "       129534, 129534, 129534, 129534, 129534, 129534, 129560, 129560,\n",
       "       129560, 129560, 129560, 129560, 129560, 129560, 129560, 130403,\n",
       "       130403, 130403, 130403, 130403, 130403, 130403, 130403, 130403,\n",
       "       130605, 130605, 130605, 130605, 130605, 130605, 130605, 130605,\n",
       "       130605, 130758, 130758, 130758, 130758, 130758, 130758, 130758,\n",
       "       130758, 130758, 130902, 130902, 130902, 130902, 130902, 130902,\n",
       "       130902, 130902, 130902, 130909, 130909, 130909, 130909, 130909,\n",
       "       130909, 130909, 130909, 130909, 132016, 132016, 132016, 132016,\n",
       "       132016, 132016, 132016, 132016, 132016, 132019, 132019, 132019,\n",
       "       132019, 132019, 132019, 132019, 132019, 132019, 132257, 132257,\n",
       "       132257, 132257, 132257, 132257, 132257, 132491, 132491, 132491,\n",
       "       132491, 132491, 132501, 132501, 132501, 132501, 132501, 132501,\n",
       "       132501, 132501, 132501, 132771, 132771, 132771, 132771, 132771,\n",
       "       132771, 132771, 132771, 132771, 132878, 132878, 132878, 132878,\n",
       "       132878, 132878, 132878, 132878, 132878, 132952, 132952, 132952,\n",
       "       132952, 132983, 132983, 132983, 132983, 132983, 132983, 132983,\n",
       "       132983, 133064, 133064, 133064, 133064, 133064, 133064, 133064,\n",
       "       133064, 133064, 133074, 133074, 133074, 133074, 133074, 133074,\n",
       "       133074, 133074, 133074, 133369, 133369, 133369, 133369, 133369,\n",
       "       133369, 133369, 133369, 133369, 133431, 133431, 133532, 133532,\n",
       "       133532, 133532, 133532, 133600, 133600, 133600, 133600, 133600,\n",
       "       133600, 133600, 133600, 133600, 133663, 133663, 133663, 133663,\n",
       "       133663, 133663, 133663, 133663, 133663, 133675, 133675, 133675,\n",
       "       133675, 133675, 133675, 133675, 133735, 133735, 133735, 133735,\n",
       "       133735, 133735, 133735, 133735, 133735, 133958, 133958, 133958,\n",
       "       133958, 133958, 133958, 133958, 133958, 133958], dtype=uint32)</pre></div></li></ul></div></li><li class='xr-section-item'><input id='section-bf8f8cac-cb53-4253-9b7d-ca930436670e' class='xr-section-summary-in' type='checkbox'  ><label for='section-bf8f8cac-cb53-4253-9b7d-ca930436670e' class='xr-section-summary' >Attributes: <span>(21)</span></label><div class='xr-section-inline-details'></div><div class='xr-section-details'><dl class='xr-attrs'><dt><span>Metadata_Conventions :</span></dt><dd>Unidata Dataset Discovery v1.0</dd><dt><span>comment :</span></dt><dd>Surface product; mesoscale eddies</dd><dt><span>creator_email :</span></dt><dd>aviso@altimetry.fr</dd><dt><span>creator_url :</span></dt><dd>https://www.aviso.altimetry.fr</dd><dt><span>date_created :</span></dt><dd>2022-11-07T08:17:12Z</dd><dt><span>framework_used :</span></dt><dd>https://github.com/AntSimi/py-eddy-tracker</dd><dt><span>framework_version :</span></dt><dd>v3.6.0</dd><dt><span>input_maps_processing :</span></dt><dd>DUACS DT2018 until 2021-12-07, DUACS DT2021 since 2021-12-08</dd><dt><span>input_product_reference :</span></dt><dd>https://www.aviso.altimetry.fr/en/data/products/value-added-products/global-mesoscale-eddy-trajectory-product.html</dd><dt><span>institution :</span></dt><dd>CLS/CNES in collaboration with IMEDEA</dd><dt><span>license :</span></dt><dd>https://www.aviso.altimetry.fr/fileadmin/documents/data/License_Aviso.pdf</dd><dt><span>product_version :</span></dt><dd>3.2exp</dd><dt><span>project :</span></dt><dd>SSALTO/DUACS</dd><dt><span>standard_name_vocabulary :</span></dt><dd>NetCDF Climate and Forecast (CF) Metadata Convention Standard Name Table</dd><dt><span>summary :</span></dt><dd>This dataset contains eddy atlas from all-satellite NRT CMEMS maps over global ocean (SEALEVEL_GLO_PHY_L4_NRT_OBSERVATIONS*)</dd><dt><span>time_coverage_duration :</span></dt><dd>P1757D</dd><dt><span>time_coverage_end :</span></dt><dd>2022-10-23T00:00:00Z</dd><dt><span>time_coverage_start :</span></dt><dd>2018-01-01T00:00:00Z</dd><dt><span>title :</span></dt><dd>Mesoscale Anticyclonic Eddies in Altimeter Observations of ADT</dd><dt><span>history :</span></dt><dd>Fri Nov 25 15:10:49 2022: ncks -v time,track,latitude,longitude,effective_contour_longitude,effective_contour_latitude /home/luisfigueiredo/JUNO/data/AVISO/Eddy_trajectory_nrt_3.2exp_anticyclonic_20180101_20221023.nc /home/luisfigueiredo/JUNO/data/AVISO/Eddy_trajectory_nrt_3.2exp_anticyclonic_20180101_20221023_slice.nc</dd><dt><span>NCO :</span></dt><dd>netCDF Operators version 4.9.1 (Homepage = http://nco.sf.net, Code = http://github.com/nco/nco)</dd></dl></div></li></ul></div></div>"
      ],
      "text/plain": [
       "<xarray.Dataset>\n",
       "Dimensions:                      (NbSample: 20, obs: 286)\n",
       "Dimensions without coordinates: NbSample, obs\n",
       "Data variables:\n",
       "    latitude                     (obs) float32 41.92 41.91 41.9 ... 38.99 38.88\n",
       "    longitude                    (obs) float32 341.4 341.3 341.3 ... 348.0 348.0\n",
       "    effective_contour_longitude  (obs, NbSample) float32 340.9 341.4 ... 347.6\n",
       "    effective_contour_latitude   (obs, NbSample) float32 41.25 41.18 ... 38.62\n",
       "    time                         (obs) datetime64[ns] 2022-10-15 ... 2022-10-23\n",
       "    track                        (obs) uint32 106085 106085 ... 133958 133958\n",
       "Attributes: (12/21)\n",
       "    Metadata_Conventions:      Unidata Dataset Discovery v1.0\n",
       "    comment:                   Surface product; mesoscale eddies\n",
       "    creator_email:             aviso@altimetry.fr\n",
       "    creator_url:               https://www.aviso.altimetry.fr\n",
       "    date_created:              2022-11-07T08:17:12Z\n",
       "    framework_used:            https://github.com/AntSimi/py-eddy-tracker\n",
       "    ...                        ...\n",
       "    time_coverage_duration:    P1757D\n",
       "    time_coverage_end:         2022-10-23T00:00:00Z\n",
       "    time_coverage_start:       2018-01-01T00:00:00Z\n",
       "    title:                     Mesoscale Anticyclonic Eddies in Altimeter Obs...\n",
       "    history:                   Fri Nov 25 15:10:49 2022: ncks -v time,track,l...\n",
       "    NCO:                       netCDF Operators version 4.9.1 (Homepage = htt..."
      ]
     },
     "execution_count": 5,
     "metadata": {},
     "output_type": "execute_result"
    }
   ],
   "source": [
    "anticyclonic_data"
   ]
  },
  {
   "cell_type": "code",
   "execution_count": 6,
   "id": "acadb550",
   "metadata": {},
   "outputs": [
    {
     "data": {
      "text/plain": [
       "(286,)"
      ]
     },
     "execution_count": 6,
     "metadata": {},
     "output_type": "execute_result"
    }
   ],
   "source": [
    "anticyclonic_data['time'].shape"
   ]
  },
  {
   "cell_type": "code",
   "execution_count": 7,
   "id": "57ad0828",
   "metadata": {},
   "outputs": [
    {
     "data": {
      "text/plain": [
       "(286,)"
      ]
     },
     "execution_count": 7,
     "metadata": {},
     "output_type": "execute_result"
    }
   ],
   "source": [
    "anticyclonic_data['longitude'].shape"
   ]
  },
  {
   "cell_type": "code",
   "execution_count": 8,
   "id": "f2937653",
   "metadata": {},
   "outputs": [
    {
     "data": {
      "text/plain": [
       "(286,)"
      ]
     },
     "execution_count": 8,
     "metadata": {},
     "output_type": "execute_result"
    }
   ],
   "source": [
    "anticyclonic_data['track'].shape"
   ]
  },
  {
   "cell_type": "code",
   "execution_count": null,
   "id": "a16f4b82",
   "metadata": {},
   "outputs": [],
   "source": []
  },
  {
   "cell_type": "code",
   "execution_count": null,
   "id": "8bf24781",
   "metadata": {},
   "outputs": [],
   "source": []
  },
  {
   "cell_type": "code",
   "execution_count": null,
   "id": "bbba7e14",
   "metadata": {},
   "outputs": [],
   "source": []
  },
  {
   "cell_type": "code",
   "execution_count": 9,
   "id": "06cbbfac",
   "metadata": {},
   "outputs": [],
   "source": [
    "cyclonic_path = os.path.join(aviso_folder, 'cyclonic_test.nc')\n",
    "cyclonic_data = xr.load_dataset(cyclonic_path)"
   ]
  },
  {
   "cell_type": "code",
   "execution_count": 10,
   "id": "b6ed9ed3",
   "metadata": {},
   "outputs": [
    {
     "data": {
      "text/html": [
       "<div><svg style=\"position: absolute; width: 0; height: 0; overflow: hidden\">\n",
       "<defs>\n",
       "<symbol id=\"icon-database\" viewBox=\"0 0 32 32\">\n",
       "<path d=\"M16 0c-8.837 0-16 2.239-16 5v4c0 2.761 7.163 5 16 5s16-2.239 16-5v-4c0-2.761-7.163-5-16-5z\"></path>\n",
       "<path d=\"M16 17c-8.837 0-16-2.239-16-5v6c0 2.761 7.163 5 16 5s16-2.239 16-5v-6c0 2.761-7.163 5-16 5z\"></path>\n",
       "<path d=\"M16 26c-8.837 0-16-2.239-16-5v6c0 2.761 7.163 5 16 5s16-2.239 16-5v-6c0 2.761-7.163 5-16 5z\"></path>\n",
       "</symbol>\n",
       "<symbol id=\"icon-file-text2\" viewBox=\"0 0 32 32\">\n",
       "<path d=\"M28.681 7.159c-0.694-0.947-1.662-2.053-2.724-3.116s-2.169-2.030-3.116-2.724c-1.612-1.182-2.393-1.319-2.841-1.319h-15.5c-1.378 0-2.5 1.121-2.5 2.5v27c0 1.378 1.122 2.5 2.5 2.5h23c1.378 0 2.5-1.122 2.5-2.5v-19.5c0-0.448-0.137-1.23-1.319-2.841zM24.543 5.457c0.959 0.959 1.712 1.825 2.268 2.543h-4.811v-4.811c0.718 0.556 1.584 1.309 2.543 2.268zM28 29.5c0 0.271-0.229 0.5-0.5 0.5h-23c-0.271 0-0.5-0.229-0.5-0.5v-27c0-0.271 0.229-0.5 0.5-0.5 0 0 15.499-0 15.5 0v7c0 0.552 0.448 1 1 1h7v19.5z\"></path>\n",
       "<path d=\"M23 26h-14c-0.552 0-1-0.448-1-1s0.448-1 1-1h14c0.552 0 1 0.448 1 1s-0.448 1-1 1z\"></path>\n",
       "<path d=\"M23 22h-14c-0.552 0-1-0.448-1-1s0.448-1 1-1h14c0.552 0 1 0.448 1 1s-0.448 1-1 1z\"></path>\n",
       "<path d=\"M23 18h-14c-0.552 0-1-0.448-1-1s0.448-1 1-1h14c0.552 0 1 0.448 1 1s-0.448 1-1 1z\"></path>\n",
       "</symbol>\n",
       "</defs>\n",
       "</svg>\n",
       "<style>/* CSS stylesheet for displaying xarray objects in jupyterlab.\n",
       " *\n",
       " */\n",
       "\n",
       ":root {\n",
       "  --xr-font-color0: var(--jp-content-font-color0, rgba(0, 0, 0, 1));\n",
       "  --xr-font-color2: var(--jp-content-font-color2, rgba(0, 0, 0, 0.54));\n",
       "  --xr-font-color3: var(--jp-content-font-color3, rgba(0, 0, 0, 0.38));\n",
       "  --xr-border-color: var(--jp-border-color2, #e0e0e0);\n",
       "  --xr-disabled-color: var(--jp-layout-color3, #bdbdbd);\n",
       "  --xr-background-color: var(--jp-layout-color0, white);\n",
       "  --xr-background-color-row-even: var(--jp-layout-color1, white);\n",
       "  --xr-background-color-row-odd: var(--jp-layout-color2, #eeeeee);\n",
       "}\n",
       "\n",
       "html[theme=dark],\n",
       "body.vscode-dark {\n",
       "  --xr-font-color0: rgba(255, 255, 255, 1);\n",
       "  --xr-font-color2: rgba(255, 255, 255, 0.54);\n",
       "  --xr-font-color3: rgba(255, 255, 255, 0.38);\n",
       "  --xr-border-color: #1F1F1F;\n",
       "  --xr-disabled-color: #515151;\n",
       "  --xr-background-color: #111111;\n",
       "  --xr-background-color-row-even: #111111;\n",
       "  --xr-background-color-row-odd: #313131;\n",
       "}\n",
       "\n",
       ".xr-wrap {\n",
       "  display: block;\n",
       "  min-width: 300px;\n",
       "  max-width: 700px;\n",
       "}\n",
       "\n",
       ".xr-text-repr-fallback {\n",
       "  /* fallback to plain text repr when CSS is not injected (untrusted notebook) */\n",
       "  display: none;\n",
       "}\n",
       "\n",
       ".xr-header {\n",
       "  padding-top: 6px;\n",
       "  padding-bottom: 6px;\n",
       "  margin-bottom: 4px;\n",
       "  border-bottom: solid 1px var(--xr-border-color);\n",
       "}\n",
       "\n",
       ".xr-header > div,\n",
       ".xr-header > ul {\n",
       "  display: inline;\n",
       "  margin-top: 0;\n",
       "  margin-bottom: 0;\n",
       "}\n",
       "\n",
       ".xr-obj-type,\n",
       ".xr-array-name {\n",
       "  margin-left: 2px;\n",
       "  margin-right: 10px;\n",
       "}\n",
       "\n",
       ".xr-obj-type {\n",
       "  color: var(--xr-font-color2);\n",
       "}\n",
       "\n",
       ".xr-sections {\n",
       "  padding-left: 0 !important;\n",
       "  display: grid;\n",
       "  grid-template-columns: 150px auto auto 1fr 20px 20px;\n",
       "}\n",
       "\n",
       ".xr-section-item {\n",
       "  display: contents;\n",
       "}\n",
       "\n",
       ".xr-section-item input {\n",
       "  display: none;\n",
       "}\n",
       "\n",
       ".xr-section-item input + label {\n",
       "  color: var(--xr-disabled-color);\n",
       "}\n",
       "\n",
       ".xr-section-item input:enabled + label {\n",
       "  cursor: pointer;\n",
       "  color: var(--xr-font-color2);\n",
       "}\n",
       "\n",
       ".xr-section-item input:enabled + label:hover {\n",
       "  color: var(--xr-font-color0);\n",
       "}\n",
       "\n",
       ".xr-section-summary {\n",
       "  grid-column: 1;\n",
       "  color: var(--xr-font-color2);\n",
       "  font-weight: 500;\n",
       "}\n",
       "\n",
       ".xr-section-summary > span {\n",
       "  display: inline-block;\n",
       "  padding-left: 0.5em;\n",
       "}\n",
       "\n",
       ".xr-section-summary-in:disabled + label {\n",
       "  color: var(--xr-font-color2);\n",
       "}\n",
       "\n",
       ".xr-section-summary-in + label:before {\n",
       "  display: inline-block;\n",
       "  content: '►';\n",
       "  font-size: 11px;\n",
       "  width: 15px;\n",
       "  text-align: center;\n",
       "}\n",
       "\n",
       ".xr-section-summary-in:disabled + label:before {\n",
       "  color: var(--xr-disabled-color);\n",
       "}\n",
       "\n",
       ".xr-section-summary-in:checked + label:before {\n",
       "  content: '▼';\n",
       "}\n",
       "\n",
       ".xr-section-summary-in:checked + label > span {\n",
       "  display: none;\n",
       "}\n",
       "\n",
       ".xr-section-summary,\n",
       ".xr-section-inline-details {\n",
       "  padding-top: 4px;\n",
       "  padding-bottom: 4px;\n",
       "}\n",
       "\n",
       ".xr-section-inline-details {\n",
       "  grid-column: 2 / -1;\n",
       "}\n",
       "\n",
       ".xr-section-details {\n",
       "  display: none;\n",
       "  grid-column: 1 / -1;\n",
       "  margin-bottom: 5px;\n",
       "}\n",
       "\n",
       ".xr-section-summary-in:checked ~ .xr-section-details {\n",
       "  display: contents;\n",
       "}\n",
       "\n",
       ".xr-array-wrap {\n",
       "  grid-column: 1 / -1;\n",
       "  display: grid;\n",
       "  grid-template-columns: 20px auto;\n",
       "}\n",
       "\n",
       ".xr-array-wrap > label {\n",
       "  grid-column: 1;\n",
       "  vertical-align: top;\n",
       "}\n",
       "\n",
       ".xr-preview {\n",
       "  color: var(--xr-font-color3);\n",
       "}\n",
       "\n",
       ".xr-array-preview,\n",
       ".xr-array-data {\n",
       "  padding: 0 5px !important;\n",
       "  grid-column: 2;\n",
       "}\n",
       "\n",
       ".xr-array-data,\n",
       ".xr-array-in:checked ~ .xr-array-preview {\n",
       "  display: none;\n",
       "}\n",
       "\n",
       ".xr-array-in:checked ~ .xr-array-data,\n",
       ".xr-array-preview {\n",
       "  display: inline-block;\n",
       "}\n",
       "\n",
       ".xr-dim-list {\n",
       "  display: inline-block !important;\n",
       "  list-style: none;\n",
       "  padding: 0 !important;\n",
       "  margin: 0;\n",
       "}\n",
       "\n",
       ".xr-dim-list li {\n",
       "  display: inline-block;\n",
       "  padding: 0;\n",
       "  margin: 0;\n",
       "}\n",
       "\n",
       ".xr-dim-list:before {\n",
       "  content: '(';\n",
       "}\n",
       "\n",
       ".xr-dim-list:after {\n",
       "  content: ')';\n",
       "}\n",
       "\n",
       ".xr-dim-list li:not(:last-child):after {\n",
       "  content: ',';\n",
       "  padding-right: 5px;\n",
       "}\n",
       "\n",
       ".xr-has-index {\n",
       "  font-weight: bold;\n",
       "}\n",
       "\n",
       ".xr-var-list,\n",
       ".xr-var-item {\n",
       "  display: contents;\n",
       "}\n",
       "\n",
       ".xr-var-item > div,\n",
       ".xr-var-item label,\n",
       ".xr-var-item > .xr-var-name span {\n",
       "  background-color: var(--xr-background-color-row-even);\n",
       "  margin-bottom: 0;\n",
       "}\n",
       "\n",
       ".xr-var-item > .xr-var-name:hover span {\n",
       "  padding-right: 5px;\n",
       "}\n",
       "\n",
       ".xr-var-list > li:nth-child(odd) > div,\n",
       ".xr-var-list > li:nth-child(odd) > label,\n",
       ".xr-var-list > li:nth-child(odd) > .xr-var-name span {\n",
       "  background-color: var(--xr-background-color-row-odd);\n",
       "}\n",
       "\n",
       ".xr-var-name {\n",
       "  grid-column: 1;\n",
       "}\n",
       "\n",
       ".xr-var-dims {\n",
       "  grid-column: 2;\n",
       "}\n",
       "\n",
       ".xr-var-dtype {\n",
       "  grid-column: 3;\n",
       "  text-align: right;\n",
       "  color: var(--xr-font-color2);\n",
       "}\n",
       "\n",
       ".xr-var-preview {\n",
       "  grid-column: 4;\n",
       "}\n",
       "\n",
       ".xr-var-name,\n",
       ".xr-var-dims,\n",
       ".xr-var-dtype,\n",
       ".xr-preview,\n",
       ".xr-attrs dt {\n",
       "  white-space: nowrap;\n",
       "  overflow: hidden;\n",
       "  text-overflow: ellipsis;\n",
       "  padding-right: 10px;\n",
       "}\n",
       "\n",
       ".xr-var-name:hover,\n",
       ".xr-var-dims:hover,\n",
       ".xr-var-dtype:hover,\n",
       ".xr-attrs dt:hover {\n",
       "  overflow: visible;\n",
       "  width: auto;\n",
       "  z-index: 1;\n",
       "}\n",
       "\n",
       ".xr-var-attrs,\n",
       ".xr-var-data {\n",
       "  display: none;\n",
       "  background-color: var(--xr-background-color) !important;\n",
       "  padding-bottom: 5px !important;\n",
       "}\n",
       "\n",
       ".xr-var-attrs-in:checked ~ .xr-var-attrs,\n",
       ".xr-var-data-in:checked ~ .xr-var-data {\n",
       "  display: block;\n",
       "}\n",
       "\n",
       ".xr-var-data > table {\n",
       "  float: right;\n",
       "}\n",
       "\n",
       ".xr-var-name span,\n",
       ".xr-var-data,\n",
       ".xr-attrs {\n",
       "  padding-left: 25px !important;\n",
       "}\n",
       "\n",
       ".xr-attrs,\n",
       ".xr-var-attrs,\n",
       ".xr-var-data {\n",
       "  grid-column: 1 / -1;\n",
       "}\n",
       "\n",
       "dl.xr-attrs {\n",
       "  padding: 0;\n",
       "  margin: 0;\n",
       "  display: grid;\n",
       "  grid-template-columns: 125px auto;\n",
       "}\n",
       "\n",
       ".xr-attrs dt,\n",
       ".xr-attrs dd {\n",
       "  padding: 0;\n",
       "  margin: 0;\n",
       "  float: left;\n",
       "  padding-right: 10px;\n",
       "  width: auto;\n",
       "}\n",
       "\n",
       ".xr-attrs dt {\n",
       "  font-weight: normal;\n",
       "  grid-column: 1;\n",
       "}\n",
       "\n",
       ".xr-attrs dt:hover span {\n",
       "  display: inline-block;\n",
       "  background: var(--xr-background-color);\n",
       "  padding-right: 10px;\n",
       "}\n",
       "\n",
       ".xr-attrs dd {\n",
       "  grid-column: 2;\n",
       "  white-space: pre-wrap;\n",
       "  word-break: break-all;\n",
       "}\n",
       "\n",
       ".xr-icon-database,\n",
       ".xr-icon-file-text2 {\n",
       "  display: inline-block;\n",
       "  vertical-align: middle;\n",
       "  width: 1em;\n",
       "  height: 1.5em !important;\n",
       "  stroke-width: 0;\n",
       "  stroke: currentColor;\n",
       "  fill: currentColor;\n",
       "}\n",
       "</style><pre class='xr-text-repr-fallback'>&lt;xarray.Dataset&gt;\n",
       "Dimensions:                      (NbSample: 20, obs: 278)\n",
       "Dimensions without coordinates: NbSample, obs\n",
       "Data variables:\n",
       "    latitude                     (obs) float32 42.8 42.8 42.8 ... 37.17 37.17\n",
       "    longitude                    (obs) float32 340.2 340.2 340.2 ... 342.7 342.7\n",
       "    effective_contour_longitude  (obs, NbSample) float32 339.3 339.3 ... 342.9\n",
       "    effective_contour_latitude   (obs, NbSample) float32 42.37 42.38 ... 36.54\n",
       "    time                         (obs) datetime64[ns] 2022-10-15 ... 2022-10-23\n",
       "    track                        (obs) uint32 83402 83402 ... 139528 139528\n",
       "Attributes: (12/21)\n",
       "    Metadata_Conventions:      Unidata Dataset Discovery v1.0\n",
       "    comment:                   Surface product; mesoscale eddies\n",
       "    creator_email:             aviso@altimetry.fr\n",
       "    creator_url:               https://www.aviso.altimetry.fr\n",
       "    date_created:              2022-11-07T08:19:47Z\n",
       "    framework_used:            https://github.com/AntSimi/py-eddy-tracker\n",
       "    ...                        ...\n",
       "    time_coverage_duration:    P1757D\n",
       "    time_coverage_end:         2022-10-23T00:00:00Z\n",
       "    time_coverage_start:       2018-01-01T00:00:00Z\n",
       "    title:                     Mesoscale Cyclonic Eddies in Altimeter Observa...\n",
       "    history:                   Fri Nov 25 15:10:38 2022: ncks -v time,track,l...\n",
       "    NCO:                       netCDF Operators version 4.9.1 (Homepage = htt...</pre><div class='xr-wrap' hidden><div class='xr-header'><div class='xr-obj-type'>xarray.Dataset</div></div><ul class='xr-sections'><li class='xr-section-item'><input id='section-7239aa0f-434e-4123-b30f-c47fde53510f' class='xr-section-summary-in' type='checkbox' disabled ><label for='section-7239aa0f-434e-4123-b30f-c47fde53510f' class='xr-section-summary'  title='Expand/collapse section'>Dimensions:</label><div class='xr-section-inline-details'><ul class='xr-dim-list'><li><span>NbSample</span>: 20</li><li><span>obs</span>: 278</li></ul></div><div class='xr-section-details'></div></li><li class='xr-section-item'><input id='section-bab9c32e-7fd9-4072-ab58-fde618113aff' class='xr-section-summary-in' type='checkbox' disabled ><label for='section-bab9c32e-7fd9-4072-ab58-fde618113aff' class='xr-section-summary'  title='Expand/collapse section'>Coordinates: <span>(0)</span></label><div class='xr-section-inline-details'></div><div class='xr-section-details'><ul class='xr-var-list'></ul></div></li><li class='xr-section-item'><input id='section-8524b695-105a-493a-aa79-395454e86548' class='xr-section-summary-in' type='checkbox'  checked><label for='section-8524b695-105a-493a-aa79-395454e86548' class='xr-section-summary' >Data variables: <span>(6)</span></label><div class='xr-section-inline-details'></div><div class='xr-section-details'><ul class='xr-var-list'><li class='xr-var-item'><div class='xr-var-name'><span>latitude</span></div><div class='xr-var-dims'>(obs)</div><div class='xr-var-dtype'>float32</div><div class='xr-var-preview xr-preview'>42.8 42.8 42.8 ... 37.17 37.17</div><input id='attrs-f634bf32-ede4-46dc-b722-da56fa97bae1' class='xr-var-attrs-in' type='checkbox' ><label for='attrs-f634bf32-ede4-46dc-b722-da56fa97bae1' title='Show/Hide attributes'><svg class='icon xr-icon-file-text2'><use xlink:href='#icon-file-text2'></use></svg></label><input id='data-49701d23-afe6-460c-802b-fdf60a162258' class='xr-var-data-in' type='checkbox'><label for='data-49701d23-afe6-460c-802b-fdf60a162258' title='Show/Hide data repr'><svg class='icon xr-icon-database'><use xlink:href='#icon-database'></use></svg></label><div class='xr-var-attrs'><dl class='xr-attrs'><dt><span>axis :</span></dt><dd>Y</dd><dt><span>comment :</span></dt><dd>Latitude center of the best fit circle</dd><dt><span>long_name :</span></dt><dd>Eddy Center Latitude</dd><dt><span>standard_name :</span></dt><dd>latitude</dd><dt><span>units :</span></dt><dd>degrees_north</dd><dt><span>min :</span></dt><dd>35.000103</dd><dt><span>max :</span></dt><dd>44.969387</dd></dl></div><div class='xr-var-data'><pre>array([42.802742, 42.803177, 42.804276, 42.795845, 42.82837 , 42.832127,\n",
       "       42.909   , 42.90788 , 42.890453, 38.656845, 38.669014, 38.615486,\n",
       "       38.623924, 38.61701 , 38.61421 , 38.588753, 38.581135, 38.65612 ,\n",
       "       43.85292 , 43.85518 , 43.84721 , 43.83612 , 43.84533 , 43.84455 ,\n",
       "       43.83125 , 43.826553, 43.82718 , 43.683098, 43.678974, 43.67714 ,\n",
       "       43.67531 , 43.74436 , 43.75731 , 43.76844 , 43.79525 , 43.843826,\n",
       "       35.09659 , 35.110626, 35.12699 , 35.13927 , 35.110046, 35.12081 ,\n",
       "       35.130928, 35.135883, 35.143463, 40.81624 , 40.80744 , 40.79865 ,\n",
       "       41.96629 , 41.949684, 41.943066, 41.941925, 41.980526, 41.97969 ,\n",
       "       41.97319 , 41.976967, 41.96786 , 39.408134, 39.396034, 39.374268,\n",
       "       39.38943 , 39.40084 , 39.405243, 39.40609 , 39.422222, 39.423855,\n",
       "       41.020287, 41.021717, 41.019936, 41.02307 , 40.979984, 40.92682 ,\n",
       "       40.895218, 40.839405, 40.848736, 36.254425, 36.23033 , 36.227646,\n",
       "       36.15378 , 36.143143, 36.19626 , 36.183804, 35.993053, 36.138775,\n",
       "       37.24363 , 37.25704 , 37.248867, 37.25614 , 37.221348, 37.224052,\n",
       "       39.29566 , 39.289234, 39.282814, 37.912178, 37.914364, 37.927708,\n",
       "       37.937813, 37.936687, 37.92745 , 37.863644, 37.849598, 37.833767,\n",
       "       41.492107, 41.496002, 41.48789 , 41.497276, 41.508507, 41.523712,\n",
       "       41.46459 , 41.470207, 41.47692 , 35.322266, 35.324745, 35.32722 ,\n",
       "       35.324814, 35.32241 , 35.320004, 35.3176  , 35.315193, 39.488537,\n",
       "...\n",
       "       36.221436, 36.21533 , 36.21202 , 36.210564, 38.520496, 38.530586,\n",
       "       38.54974 , 38.568695, 38.59563 , 38.59974 , 38.60674 , 38.590843,\n",
       "       38.580738, 36.068096, 36.150124, 35.91624 , 36.01001 , 36.103775,\n",
       "       40.46549 , 40.444164, 40.40812 , 40.47503 , 40.457123, 40.50682 ,\n",
       "       40.431725, 40.521626, 40.528076, 44.218624, 44.232864, 44.271862,\n",
       "       44.389942, 44.21735 , 44.22857 , 44.206802, 44.338394, 44.362667,\n",
       "       44.364582, 44.3748  , 44.35941 , 44.328327, 44.348007, 44.33697 ,\n",
       "       44.407654, 35.005116, 35.000103, 35.011543, 36.10318 , 36.116547,\n",
       "       36.105846, 36.107224, 36.085743, 36.07595 , 36.059372, 36.0557  ,\n",
       "       36.058006, 36.127106, 36.160915, 36.11411 , 36.141685, 36.133698,\n",
       "       36.107655, 36.096146, 36.080162, 36.12011 , 35.50178 , 35.562836,\n",
       "       35.60433 , 35.62468 , 35.655876, 35.666317, 35.68272 , 35.699253,\n",
       "       35.705112, 44.894833, 44.91445 , 44.92591 , 44.969387, 44.949528,\n",
       "       44.951454, 44.948116, 35.260296, 35.319813, 35.28214 , 35.263954,\n",
       "       35.228462, 35.22416 , 35.186733, 35.203842, 35.195553, 40.0007  ,\n",
       "       40.015446, 40.02939 , 40.009483, 40.02601 , 40.025787, 40.009975,\n",
       "       39.96832 , 40.02472 , 39.30336 , 39.346813, 39.35337 , 39.38558 ,\n",
       "       39.41646 , 39.379726, 39.37781 , 39.412045, 39.407238, 37.42929 ,\n",
       "       37.399612, 37.256706, 37.137592, 37.144634, 37.151672, 37.158714,\n",
       "       37.165756, 37.169044], dtype=float32)</pre></div></li><li class='xr-var-item'><div class='xr-var-name'><span>longitude</span></div><div class='xr-var-dims'>(obs)</div><div class='xr-var-dtype'>float32</div><div class='xr-var-preview xr-preview'>340.2 340.2 340.2 ... 342.7 342.7</div><input id='attrs-67d94207-00d3-4232-a587-a8e515d4ff17' class='xr-var-attrs-in' type='checkbox' ><label for='attrs-67d94207-00d3-4232-a587-a8e515d4ff17' title='Show/Hide attributes'><svg class='icon xr-icon-file-text2'><use xlink:href='#icon-file-text2'></use></svg></label><input id='data-adc352a9-3b8a-43fd-99c8-202871a02244' class='xr-var-data-in' type='checkbox'><label for='data-adc352a9-3b8a-43fd-99c8-202871a02244' title='Show/Hide data repr'><svg class='icon xr-icon-database'><use xlink:href='#icon-database'></use></svg></label><div class='xr-var-attrs'><dl class='xr-attrs'><dt><span>axis :</span></dt><dd>X</dd><dt><span>comment :</span></dt><dd>Longitude center of the best fit circle</dd><dt><span>long_name :</span></dt><dd>Eddy Center Longitude</dd><dt><span>standard_name :</span></dt><dd>longitude</dd><dt><span>units :</span></dt><dd>degrees_east</dd><dt><span>min :</span></dt><dd>332.4373</dd><dt><span>max :</span></dt><dd>357.04742</dd></dl></div><div class='xr-var-data'><pre>array([340.16644, 340.17642, 340.17938, 340.20953, 340.2314 , 340.20935,\n",
       "       340.17102, 340.1954 , 340.21783, 337.40402, 337.4193 , 337.43167,\n",
       "       337.3571 , 337.30856, 337.31473, 337.30002, 337.26642, 337.2673 ,\n",
       "       332.7005 , 332.68182, 332.66785, 332.63095, 332.62704, 332.60345,\n",
       "       332.54892, 332.49887, 332.4373 , 336.3151 , 336.31107, 336.29703,\n",
       "       336.283  , 336.25287, 336.2366 , 336.21924, 336.2017 , 336.22137,\n",
       "       351.16312, 351.1358 , 351.15765, 351.16647, 351.05255, 351.06677,\n",
       "       351.0688 , 351.06223, 351.06436, 341.95773, 341.93164, 341.90558,\n",
       "       335.53836, 335.51324, 335.49686, 335.50085, 335.46002, 335.4535 ,\n",
       "       335.4387 , 335.42474, 335.42166, 343.5796 , 343.58444, 343.52646,\n",
       "       343.47794, 343.49042, 343.4719 , 343.47617, 343.42413, 343.40485,\n",
       "       344.002  , 343.99603, 344.04224, 344.0457 , 344.0031 , 344.00842,\n",
       "       343.97858, 343.97638, 343.96777, 339.62518, 339.57602, 339.54764,\n",
       "       339.33215, 339.32684, 339.2762 , 339.2412 , 338.94342, 339.11057,\n",
       "       346.29733, 346.34766, 346.34967, 346.36057, 346.37695, 346.40918,\n",
       "       345.89328, 345.89307, 345.89285, 347.6708 , 347.57404, 347.53702,\n",
       "       347.48682, 347.4602 , 347.41986, 347.26706, 347.18082, 347.15692,\n",
       "       337.7693 , 337.7817 , 337.80978, 337.79953, 337.80008, 337.7915 ,\n",
       "       337.58298, 337.58334, 337.6174 , 342.9544 , 342.8917 , 342.82898,\n",
       "       342.78543, 342.74188, 342.69836, 342.65482, 342.61127, 333.37122,\n",
       "...\n",
       "       334.8246 , 334.80905, 334.83588, 334.83847, 340.21783, 340.17917,\n",
       "       340.19165, 340.14627, 340.11517, 340.0693 , 340.05527, 340.02142,\n",
       "       339.93506, 344.40573, 344.3982 , 344.27206, 344.30756, 344.34305,\n",
       "       349.19083, 349.19205, 349.14948, 349.16565, 349.16992, 349.1024 ,\n",
       "       349.1625 , 349.13507, 349.11823, 350.40793, 350.4679 , 350.50568,\n",
       "       350.59247, 342.31836, 342.25345, 342.29312, 356.928  , 356.90244,\n",
       "       356.9153 , 356.89746, 356.91013, 356.83307, 356.88934, 356.87192,\n",
       "       356.78607, 335.055  , 335.2529 , 335.16107, 347.60968, 347.58173,\n",
       "       347.57635, 347.5756 , 347.6019 , 347.58948, 347.63412, 347.63834,\n",
       "       347.62585, 356.92007, 356.94107, 356.9625 , 356.98328, 357.04742,\n",
       "       357.0352 , 357.0357 , 357.02585, 357.03104, 332.7911 , 332.76013,\n",
       "       332.73587, 332.69727, 332.69775, 332.7064 , 332.60074, 332.5642 ,\n",
       "       332.63486, 349.57922, 349.6024 , 349.6445 , 349.5216 , 349.46982,\n",
       "       349.41287, 349.4679 , 349.2807 , 349.4876 , 349.46634, 349.63953,\n",
       "       349.4987 , 349.4866 , 349.5573 , 349.53107, 349.50946, 347.06476,\n",
       "       347.06726, 347.06528, 347.06375, 347.0132 , 346.98743, 346.99664,\n",
       "       347.02887, 346.9287 , 334.5075 , 334.5225 , 334.5563 , 334.60403,\n",
       "       334.5772 , 334.57748, 334.58798, 334.59048, 334.58438, 342.82095,\n",
       "       342.83685, 342.81323, 342.79248, 342.77542, 342.75836, 342.74133,\n",
       "       342.72427, 342.71252], dtype=float32)</pre></div></li><li class='xr-var-item'><div class='xr-var-name'><span>effective_contour_longitude</span></div><div class='xr-var-dims'>(obs, NbSample)</div><div class='xr-var-dtype'>float32</div><div class='xr-var-preview xr-preview'>339.3 339.3 339.3 ... 342.9 342.9</div><input id='attrs-fdaa54ca-8b91-47e3-bfa9-8c74083b7fa2' class='xr-var-attrs-in' type='checkbox' ><label for='attrs-fdaa54ca-8b91-47e3-bfa9-8c74083b7fa2' title='Show/Hide attributes'><svg class='icon xr-icon-file-text2'><use xlink:href='#icon-file-text2'></use></svg></label><input id='data-68317c14-28c5-4362-8963-24b1312743b2' class='xr-var-data-in' type='checkbox'><label for='data-68317c14-28c5-4362-8963-24b1312743b2' title='Show/Hide data repr'><svg class='icon xr-icon-database'><use xlink:href='#icon-database'></use></svg></label><div class='xr-var-attrs'><dl class='xr-attrs'><dt><span>axis :</span></dt><dd>X</dd><dt><span>comment :</span></dt><dd>Longitudes of the effective contour</dd><dt><span>long_name :</span></dt><dd>Effective Contour Longitudes</dd><dt><span>units :</span></dt><dd>degrees_east</dd><dt><span>min :</span></dt><dd>180.0</dd><dt><span>max :</span></dt><dd>357.93</dd></dl></div><div class='xr-var-data'><pre>array([[339.27, 339.26, 339.32, ..., 339.87, 339.62, 339.27],\n",
       "       [339.62, 339.4 , 339.22, ..., 340.38, 339.88, 339.62],\n",
       "       [339.62, 339.44, 339.37, ..., 340.37, 339.87, 339.62],\n",
       "       ...,\n",
       "       [180.  , 180.  , 180.  , ..., 180.  , 180.  , 180.  ],\n",
       "       [342.88, 342.7 , 342.63, ..., 342.99, 342.93, 342.88],\n",
       "       [342.88, 342.75, 342.63, ..., 342.95, 342.91, 342.88]],\n",
       "      dtype=float32)</pre></div></li><li class='xr-var-item'><div class='xr-var-name'><span>effective_contour_latitude</span></div><div class='xr-var-dims'>(obs, NbSample)</div><div class='xr-var-dtype'>float32</div><div class='xr-var-preview xr-preview'>42.37 42.38 42.63 ... 36.63 36.54</div><input id='attrs-b9fd02d4-32f4-4691-a060-0f2202cd0cb2' class='xr-var-attrs-in' type='checkbox' ><label for='attrs-b9fd02d4-32f4-4691-a060-0f2202cd0cb2' title='Show/Hide attributes'><svg class='icon xr-icon-file-text2'><use xlink:href='#icon-file-text2'></use></svg></label><input id='data-d4a2c0cf-5e48-4a94-ad1a-f082d66f6731' class='xr-var-data-in' type='checkbox'><label for='data-d4a2c0cf-5e48-4a94-ad1a-f082d66f6731' title='Show/Hide data repr'><svg class='icon xr-icon-database'><use xlink:href='#icon-database'></use></svg></label><div class='xr-var-attrs'><dl class='xr-attrs'><dt><span>axis :</span></dt><dd>X</dd><dt><span>comment :</span></dt><dd>Latitudes of effective contour</dd><dt><span>long_name :</span></dt><dd>Effective Contour Latitudes</dd><dt><span>units :</span></dt><dd>degrees_east</dd><dt><span>min :</span></dt><dd>0.0</dd><dt><span>max :</span></dt><dd>45.579998</dd></dl></div><div class='xr-var-data'><pre>array([[42.37    , 42.379997, 42.629997, ..., 42.25    , 42.27    ,\n",
       "        42.37    ],\n",
       "       [42.26    , 42.37    , 42.62    , ..., 42.29    , 42.23    ,\n",
       "        42.26    ],\n",
       "       [42.27    , 42.379997, 42.45    , ..., 42.3     , 42.23    ,\n",
       "        42.27    ],\n",
       "       ...,\n",
       "       [ 0.      ,  0.      ,  0.      , ...,  0.      ,  0.      ,\n",
       "         0.      ],\n",
       "       [36.51    , 36.62    , 36.67    , ..., 36.87    , 36.62    ,\n",
       "        36.51    ],\n",
       "       [36.54    , 36.62    , 36.71    , ..., 36.87    , 36.63    ,\n",
       "        36.54    ]], dtype=float32)</pre></div></li><li class='xr-var-item'><div class='xr-var-name'><span>time</span></div><div class='xr-var-dims'>(obs)</div><div class='xr-var-dtype'>datetime64[ns]</div><div class='xr-var-preview xr-preview'>2022-10-15 ... 2022-10-23</div><input id='attrs-20cb46e9-a341-4d74-85a0-9d9381282cbf' class='xr-var-attrs-in' type='checkbox' ><label for='attrs-20cb46e9-a341-4d74-85a0-9d9381282cbf' title='Show/Hide attributes'><svg class='icon xr-icon-file-text2'><use xlink:href='#icon-file-text2'></use></svg></label><input id='data-a6a49c80-7780-4d3f-9a8c-6a7ab1b4dc88' class='xr-var-data-in' type='checkbox'><label for='data-a6a49c80-7780-4d3f-9a8c-6a7ab1b4dc88' title='Show/Hide data repr'><svg class='icon xr-icon-database'><use xlink:href='#icon-database'></use></svg></label><div class='xr-var-attrs'><dl class='xr-attrs'><dt><span>axis :</span></dt><dd>T</dd><dt><span>comment :</span></dt><dd>Date of this observation</dd><dt><span>long_name :</span></dt><dd>Time</dd><dt><span>standard_name :</span></dt><dd>time</dd><dt><span>min :</span></dt><dd>26585.0</dd><dt><span>max :</span></dt><dd>26593.0</dd></dl></div><div class='xr-var-data'><pre>array([&#x27;2022-10-15T00:00:00.000000000&#x27;, &#x27;2022-10-16T00:00:00.000000000&#x27;,\n",
       "       &#x27;2022-10-17T00:00:00.000000000&#x27;, &#x27;2022-10-18T00:00:00.000000000&#x27;,\n",
       "       &#x27;2022-10-19T00:00:00.000000000&#x27;, &#x27;2022-10-20T00:00:00.000000000&#x27;,\n",
       "       &#x27;2022-10-21T00:00:00.000000000&#x27;, &#x27;2022-10-22T00:00:00.000000000&#x27;,\n",
       "       &#x27;2022-10-23T00:00:00.000000000&#x27;, &#x27;2022-10-15T00:00:00.000000000&#x27;,\n",
       "       &#x27;2022-10-16T00:00:00.000000000&#x27;, &#x27;2022-10-17T00:00:00.000000000&#x27;,\n",
       "       &#x27;2022-10-18T00:00:00.000000000&#x27;, &#x27;2022-10-19T00:00:00.000000000&#x27;,\n",
       "       &#x27;2022-10-20T00:00:00.000000000&#x27;, &#x27;2022-10-21T00:00:00.000000000&#x27;,\n",
       "       &#x27;2022-10-22T00:00:00.000000000&#x27;, &#x27;2022-10-23T00:00:00.000000000&#x27;,\n",
       "       &#x27;2022-10-15T00:00:00.000000000&#x27;, &#x27;2022-10-16T00:00:00.000000000&#x27;,\n",
       "       &#x27;2022-10-17T00:00:00.000000000&#x27;, &#x27;2022-10-18T00:00:00.000000000&#x27;,\n",
       "       &#x27;2022-10-19T00:00:00.000000000&#x27;, &#x27;2022-10-20T00:00:00.000000000&#x27;,\n",
       "       &#x27;2022-10-21T00:00:00.000000000&#x27;, &#x27;2022-10-22T00:00:00.000000000&#x27;,\n",
       "       &#x27;2022-10-23T00:00:00.000000000&#x27;, &#x27;2022-10-15T00:00:00.000000000&#x27;,\n",
       "       &#x27;2022-10-16T00:00:00.000000000&#x27;, &#x27;2022-10-17T00:00:00.000000000&#x27;,\n",
       "       &#x27;2022-10-18T00:00:00.000000000&#x27;, &#x27;2022-10-19T00:00:00.000000000&#x27;,\n",
       "       &#x27;2022-10-20T00:00:00.000000000&#x27;, &#x27;2022-10-21T00:00:00.000000000&#x27;,\n",
       "       &#x27;2022-10-22T00:00:00.000000000&#x27;, &#x27;2022-10-23T00:00:00.000000000&#x27;,\n",
       "       &#x27;2022-10-15T00:00:00.000000000&#x27;, &#x27;2022-10-16T00:00:00.000000000&#x27;,\n",
       "       &#x27;2022-10-17T00:00:00.000000000&#x27;, &#x27;2022-10-18T00:00:00.000000000&#x27;,\n",
       "...\n",
       "       &#x27;2022-10-21T00:00:00.000000000&#x27;, &#x27;2022-10-22T00:00:00.000000000&#x27;,\n",
       "       &#x27;2022-10-15T00:00:00.000000000&#x27;, &#x27;2022-10-16T00:00:00.000000000&#x27;,\n",
       "       &#x27;2022-10-17T00:00:00.000000000&#x27;, &#x27;2022-10-18T00:00:00.000000000&#x27;,\n",
       "       &#x27;2022-10-19T00:00:00.000000000&#x27;, &#x27;2022-10-20T00:00:00.000000000&#x27;,\n",
       "       &#x27;2022-10-21T00:00:00.000000000&#x27;, &#x27;2022-10-22T00:00:00.000000000&#x27;,\n",
       "       &#x27;2022-10-23T00:00:00.000000000&#x27;, &#x27;2022-10-15T00:00:00.000000000&#x27;,\n",
       "       &#x27;2022-10-16T00:00:00.000000000&#x27;, &#x27;2022-10-17T00:00:00.000000000&#x27;,\n",
       "       &#x27;2022-10-18T00:00:00.000000000&#x27;, &#x27;2022-10-19T00:00:00.000000000&#x27;,\n",
       "       &#x27;2022-10-20T00:00:00.000000000&#x27;, &#x27;2022-10-21T00:00:00.000000000&#x27;,\n",
       "       &#x27;2022-10-22T00:00:00.000000000&#x27;, &#x27;2022-10-23T00:00:00.000000000&#x27;,\n",
       "       &#x27;2022-10-15T00:00:00.000000000&#x27;, &#x27;2022-10-16T00:00:00.000000000&#x27;,\n",
       "       &#x27;2022-10-17T00:00:00.000000000&#x27;, &#x27;2022-10-18T00:00:00.000000000&#x27;,\n",
       "       &#x27;2022-10-19T00:00:00.000000000&#x27;, &#x27;2022-10-20T00:00:00.000000000&#x27;,\n",
       "       &#x27;2022-10-21T00:00:00.000000000&#x27;, &#x27;2022-10-22T00:00:00.000000000&#x27;,\n",
       "       &#x27;2022-10-23T00:00:00.000000000&#x27;, &#x27;2022-10-15T00:00:00.000000000&#x27;,\n",
       "       &#x27;2022-10-16T00:00:00.000000000&#x27;, &#x27;2022-10-17T00:00:00.000000000&#x27;,\n",
       "       &#x27;2022-10-18T00:00:00.000000000&#x27;, &#x27;2022-10-19T00:00:00.000000000&#x27;,\n",
       "       &#x27;2022-10-20T00:00:00.000000000&#x27;, &#x27;2022-10-21T00:00:00.000000000&#x27;,\n",
       "       &#x27;2022-10-22T00:00:00.000000000&#x27;, &#x27;2022-10-23T00:00:00.000000000&#x27;],\n",
       "      dtype=&#x27;datetime64[ns]&#x27;)</pre></div></li><li class='xr-var-item'><div class='xr-var-name'><span>track</span></div><div class='xr-var-dims'>(obs)</div><div class='xr-var-dtype'>uint32</div><div class='xr-var-preview xr-preview'>83402 83402 83402 ... 139528 139528</div><input id='attrs-b8523e28-3cd3-4bc9-a432-84758d5c0c56' class='xr-var-attrs-in' type='checkbox' ><label for='attrs-b8523e28-3cd3-4bc9-a432-84758d5c0c56' title='Show/Hide attributes'><svg class='icon xr-icon-file-text2'><use xlink:href='#icon-file-text2'></use></svg></label><input id='data-404e63b0-4b38-4a22-9e14-80fbf7abb286' class='xr-var-data-in' type='checkbox'><label for='data-404e63b0-4b38-4a22-9e14-80fbf7abb286' title='Show/Hide data repr'><svg class='icon xr-icon-database'><use xlink:href='#icon-database'></use></svg></label><div class='xr-var-attrs'><dl class='xr-attrs'><dt><span>comment :</span></dt><dd>Trajectory identification number</dd><dt><span>long_name :</span></dt><dd>Trajectory number</dd><dt><span>min :</span></dt><dd>83402</dd><dt><span>max :</span></dt><dd>139528</dd></dl></div><div class='xr-var-data'><pre>array([ 83402,  83402,  83402,  83402,  83402,  83402,  83402,  83402,\n",
       "        83402,  96435,  96435,  96435,  96435,  96435,  96435,  96435,\n",
       "        96435,  96435, 117657, 117657, 117657, 117657, 117657, 117657,\n",
       "       117657, 117657, 117657, 122129, 122129, 122129, 122129, 122129,\n",
       "       122129, 122129, 122129, 122129, 127363, 127363, 127363, 127363,\n",
       "       127363, 127363, 127363, 127363, 127363, 128899, 128899, 128899,\n",
       "       129487, 129487, 129487, 129487, 129487, 129487, 129487, 129487,\n",
       "       129487, 129778, 129778, 129778, 129778, 129778, 129778, 129778,\n",
       "       129778, 129778, 130217, 130217, 130217, 130217, 130217, 130217,\n",
       "       130217, 130217, 130217, 130332, 130332, 130332, 130332, 130332,\n",
       "       130332, 130332, 130332, 130332, 130612, 130612, 130612, 130612,\n",
       "       130612, 130612, 131713, 131713, 131713, 133063, 133063, 133063,\n",
       "       133063, 133063, 133063, 133063, 133063, 133063, 133178, 133178,\n",
       "       133178, 133178, 133178, 133178, 133178, 133178, 133178, 133599,\n",
       "       133599, 133599, 133599, 133599, 133599, 133599, 133599, 134039,\n",
       "       134039, 134039, 134039, 134039, 134039, 134039, 134039, 134039,\n",
       "       134077, 134077, 134077, 134077, 134406, 134406, 134978, 134978,\n",
       "       134978, 134978, 134978, 134978, 134978, 134978, 134978, 135707,\n",
       "       135707, 135707, 135707, 135707, 135707, 135707, 135707, 135707,\n",
       "       135992, 135992, 135992, 135992, 135992, 136093, 136093, 136093,\n",
       "       136093, 136093, 136093, 136093, 136093, 136093, 136345, 136345,\n",
       "       136345, 136345, 136345, 136345, 136345, 136345, 136345, 136600,\n",
       "       136600, 136600, 136600, 136600, 137071, 137071, 137071, 137071,\n",
       "       137071, 137071, 137071, 137071, 137071, 138206, 138206, 138206,\n",
       "       138206, 138408, 138408, 138408, 138440, 138440, 138440, 138440,\n",
       "       138440, 138440, 138440, 138440, 138440, 138516, 138516, 138516,\n",
       "       138690, 138690, 138690, 138690, 138690, 138690, 138690, 138690,\n",
       "       138690, 138871, 138871, 138871, 138871, 138871, 138871, 138871,\n",
       "       138871, 138871, 139167, 139167, 139167, 139167, 139167, 139167,\n",
       "       139167, 139167, 139167, 139230, 139230, 139230, 139230, 139230,\n",
       "       139230, 139230, 139415, 139415, 139415, 139415, 139415, 139415,\n",
       "       139415, 139415, 139415, 139463, 139463, 139463, 139463, 139463,\n",
       "       139463, 139463, 139463, 139463, 139491, 139491, 139491, 139491,\n",
       "       139491, 139491, 139491, 139491, 139491, 139528, 139528, 139528,\n",
       "       139528, 139528, 139528, 139528, 139528, 139528], dtype=uint32)</pre></div></li></ul></div></li><li class='xr-section-item'><input id='section-a395d286-6d9d-4f05-92a8-863d98c673c5' class='xr-section-summary-in' type='checkbox'  ><label for='section-a395d286-6d9d-4f05-92a8-863d98c673c5' class='xr-section-summary' >Attributes: <span>(21)</span></label><div class='xr-section-inline-details'></div><div class='xr-section-details'><dl class='xr-attrs'><dt><span>Metadata_Conventions :</span></dt><dd>Unidata Dataset Discovery v1.0</dd><dt><span>comment :</span></dt><dd>Surface product; mesoscale eddies</dd><dt><span>creator_email :</span></dt><dd>aviso@altimetry.fr</dd><dt><span>creator_url :</span></dt><dd>https://www.aviso.altimetry.fr</dd><dt><span>date_created :</span></dt><dd>2022-11-07T08:19:47Z</dd><dt><span>framework_used :</span></dt><dd>https://github.com/AntSimi/py-eddy-tracker</dd><dt><span>framework_version :</span></dt><dd>v3.6.0</dd><dt><span>input_maps_processing :</span></dt><dd>DUACS DT2018 until 2021-12-07, DUACS DT2021 since 2021-12-08</dd><dt><span>input_product_reference :</span></dt><dd>https://www.aviso.altimetry.fr/en/data/products/value-added-products/global-mesoscale-eddy-trajectory-product.html</dd><dt><span>institution :</span></dt><dd>CLS/CNES in collaboration with IMEDEA</dd><dt><span>license :</span></dt><dd>https://www.aviso.altimetry.fr/fileadmin/documents/data/License_Aviso.pdf</dd><dt><span>product_version :</span></dt><dd>3.2exp</dd><dt><span>project :</span></dt><dd>SSALTO/DUACS</dd><dt><span>standard_name_vocabulary :</span></dt><dd>NetCDF Climate and Forecast (CF) Metadata Convention Standard Name Table</dd><dt><span>summary :</span></dt><dd>This dataset contains eddy atlas from all-satellite NRT CMEMS maps over global ocean (SEALEVEL_GLO_PHY_L4_NRT_OBSERVATIONS*)</dd><dt><span>time_coverage_duration :</span></dt><dd>P1757D</dd><dt><span>time_coverage_end :</span></dt><dd>2022-10-23T00:00:00Z</dd><dt><span>time_coverage_start :</span></dt><dd>2018-01-01T00:00:00Z</dd><dt><span>title :</span></dt><dd>Mesoscale Cyclonic Eddies in Altimeter Observations of ADT</dd><dt><span>history :</span></dt><dd>Fri Nov 25 15:10:38 2022: ncks -v time,track,latitude,longitude,effective_contour_longitude,effective_contour_latitude /home/luisfigueiredo/JUNO/data/AVISO/Eddy_trajectory_nrt_3.2exp_cyclonic_20180101_20221023.nc /home/luisfigueiredo/JUNO/data/AVISO/Eddy_trajectory_nrt_3.2exp_cyclonic_20180101_20221023_slice.nc</dd><dt><span>NCO :</span></dt><dd>netCDF Operators version 4.9.1 (Homepage = http://nco.sf.net, Code = http://github.com/nco/nco)</dd></dl></div></li></ul></div></div>"
      ],
      "text/plain": [
       "<xarray.Dataset>\n",
       "Dimensions:                      (NbSample: 20, obs: 278)\n",
       "Dimensions without coordinates: NbSample, obs\n",
       "Data variables:\n",
       "    latitude                     (obs) float32 42.8 42.8 42.8 ... 37.17 37.17\n",
       "    longitude                    (obs) float32 340.2 340.2 340.2 ... 342.7 342.7\n",
       "    effective_contour_longitude  (obs, NbSample) float32 339.3 339.3 ... 342.9\n",
       "    effective_contour_latitude   (obs, NbSample) float32 42.37 42.38 ... 36.54\n",
       "    time                         (obs) datetime64[ns] 2022-10-15 ... 2022-10-23\n",
       "    track                        (obs) uint32 83402 83402 ... 139528 139528\n",
       "Attributes: (12/21)\n",
       "    Metadata_Conventions:      Unidata Dataset Discovery v1.0\n",
       "    comment:                   Surface product; mesoscale eddies\n",
       "    creator_email:             aviso@altimetry.fr\n",
       "    creator_url:               https://www.aviso.altimetry.fr\n",
       "    date_created:              2022-11-07T08:19:47Z\n",
       "    framework_used:            https://github.com/AntSimi/py-eddy-tracker\n",
       "    ...                        ...\n",
       "    time_coverage_duration:    P1757D\n",
       "    time_coverage_end:         2022-10-23T00:00:00Z\n",
       "    time_coverage_start:       2018-01-01T00:00:00Z\n",
       "    title:                     Mesoscale Cyclonic Eddies in Altimeter Observa...\n",
       "    history:                   Fri Nov 25 15:10:38 2022: ncks -v time,track,l...\n",
       "    NCO:                       netCDF Operators version 4.9.1 (Homepage = htt..."
      ]
     },
     "execution_count": 10,
     "metadata": {},
     "output_type": "execute_result"
    }
   ],
   "source": [
    "cyclonic_data"
   ]
  },
  {
   "cell_type": "code",
   "execution_count": null,
   "id": "c2389cba",
   "metadata": {},
   "outputs": [],
   "source": []
  },
  {
   "cell_type": "markdown",
   "id": "e5c1bd96",
   "metadata": {},
   "source": [
    "## Eddies identificados numa dada zona num dado periodo"
   ]
  },
  {
   "cell_type": "markdown",
   "id": "197f3859",
   "metadata": {},
   "source": [
    "### Identificação de Eddies Ciclonicos"
   ]
  },
  {
   "cell_type": "code",
   "execution_count": 11,
   "id": "361adecf",
   "metadata": {},
   "outputs": [
    {
     "data": {
      "text/plain": [
       "array([127363, 129778, 130217, 133063, 134978, 137071, 138690, 139415,\n",
       "       139463, 139528], dtype=uint32)"
      ]
     },
     "execution_count": 11,
     "metadata": {},
     "output_type": "execute_result"
    }
   ],
   "source": [
    "#Tracking dos eddies cyclonicos\n",
    "track_cyclonic = cyclonic_data['track'].values[(cyclonic_data['latitude'].values > 35) & (cyclonic_data['latitude'].values < 45) & (cyclonic_data['longitude'].values >341) & (cyclonic_data['longitude'].values < 355) & (cyclonic_data['time'].values == np.datetime64('2022-10-23T00:00:00.000000000'))]\n",
    "track_cyclonic\n",
    "# Eddies identified in the location: lat[35; 45] and lon[330;350] in 23 of October 2022"
   ]
  },
  {
   "cell_type": "code",
   "execution_count": 12,
   "id": "323bdd81",
   "metadata": {},
   "outputs": [
    {
     "data": {
      "text/plain": [
       "array([127363, 129778, 130217, 133063, 134978, 137071, 138690, 139415,\n",
       "       139463, 139528], dtype=uint32)"
      ]
     },
     "execution_count": 12,
     "metadata": {},
     "output_type": "execute_result"
    }
   ],
   "source": [
    "eddies_track_cyc = np.unique(track_cyclonic)\n",
    "eddies_track_cyc    # eddies cyclonicos unicos identificados na zona naquele periodo"
   ]
  },
  {
   "cell_type": "code",
   "execution_count": 13,
   "id": "20f5414d",
   "metadata": {},
   "outputs": [],
   "source": [
    "# guardar as coordenadas dos varios contours de longitude e latitude associados a cada eddie\n",
    "eddie_cyc_lons = []\n",
    "eddie_cyc_lats = []\n",
    "\n",
    "#guardar as coordenadas (long e lat) dos centroids de cada eddie\n",
    "centro_cyc_x = []\n",
    "centro_cyc_y = []\n",
    "\n",
    "for value in eddies_track_cyc:     #para cada um dos eddies (com um dado tracking number)\n",
    "    # guardar as coordenadas dos varios contours de longitude e latitude associados a cada eddie\n",
    "    \n",
    "    x = cyclonic_data['effective_contour_longitude'].values[(cyclonic_data['track'] == value)][-1] - 360\n",
    "    y = cyclonic_data['effective_contour_latitude'].values[(cyclonic_data['track'] == value)][-1]\n",
    "    \n",
    "    eddie_cyc_lons.append(list(x))\n",
    "    eddie_cyc_lats.append(list(y))\n",
    "    \n",
    "    poly = Polygon(zip(x, y))\n",
    "    \n",
    "    poly_centroid_x = poly.centroid.coords[0][0]\n",
    "    poly_centroid_y = poly.centroid.coords[0][1]\n",
    "    \n",
    "    centro_cyc_x.append(poly_centroid_x)\n",
    "    centro_cyc_y.append(poly_centroid_y)"
   ]
  },
  {
   "cell_type": "code",
   "execution_count": null,
   "id": "2866f566",
   "metadata": {},
   "outputs": [],
   "source": []
  },
  {
   "cell_type": "code",
   "execution_count": null,
   "id": "f5c607d2",
   "metadata": {},
   "outputs": [],
   "source": []
  },
  {
   "cell_type": "markdown",
   "id": "15aa0c39",
   "metadata": {},
   "source": [
    "### Identificação de Eddies Anticiclonicos"
   ]
  },
  {
   "cell_type": "code",
   "execution_count": 14,
   "id": "a9e84bda",
   "metadata": {},
   "outputs": [
    {
     "data": {
      "text/plain": [
       "array([106085, 125626, 126808, 127395, 129534, 130403, 130902, 132016,\n",
       "       132019, 132501, 132878, 133064, 133369, 133600, 133958],\n",
       "      dtype=uint32)"
      ]
     },
     "execution_count": 14,
     "metadata": {},
     "output_type": "execute_result"
    }
   ],
   "source": [
    "#Tracking dos eddies anticyclonicos\n",
    "track_ant = anticyclonic_data['track'].values[(anticyclonic_data['latitude'].values > 35) & (anticyclonic_data['latitude'].values < 45) & (anticyclonic_data['longitude'].values >341) & (anticyclonic_data['longitude'].values < 355) & (anticyclonic_data['time'].values == np.datetime64('2022-10-23T00:00:00.000000000'))]\n",
    "track_ant"
   ]
  },
  {
   "cell_type": "code",
   "execution_count": 15,
   "id": "f8e170ed",
   "metadata": {},
   "outputs": [
    {
     "data": {
      "text/plain": [
       "array([106085, 125626, 126808, 127395, 129534, 130403, 130902, 132016,\n",
       "       132019, 132501, 132878, 133064, 133369, 133600, 133958],\n",
       "      dtype=uint32)"
      ]
     },
     "execution_count": 15,
     "metadata": {},
     "output_type": "execute_result"
    }
   ],
   "source": [
    "eddies_track_anti = np.unique(track_ant)\n",
    "eddies_track_anti    # eddies cyclonicos unicos identificados na zona naquele periodo"
   ]
  },
  {
   "cell_type": "code",
   "execution_count": 16,
   "id": "151a522a",
   "metadata": {},
   "outputs": [],
   "source": [
    "# guardar as coordenadas dos varios contours de longitude e latitude associados a cada eddie\n",
    "eddie_anti_lons = []\n",
    "eddie_anti_lats = []\n",
    "\n",
    "#guardar as coordenadas (long e lat) dos centroids de cada eddie\n",
    "centro_anti_x = []\n",
    "centro_anti_y = []\n",
    "\n",
    "for value in eddies_track_anti:     #para cada um dos eddies (com um dado tracking number)\n",
    "    # guardar as coordenadas dos varios contours de longitude e latitude associados a cada eddie\n",
    "    \n",
    "    x = anticyclonic_data['effective_contour_longitude'].values[(anticyclonic_data['track'] == value)][-1] - 360\n",
    "    y = anticyclonic_data['effective_contour_latitude'].values[(anticyclonic_data['track'] == value)][-1]\n",
    "    \n",
    "    eddie_anti_lons.append(list(x))\n",
    "    eddie_anti_lats.append(list(y))\n",
    "    \n",
    "    poly = Polygon(zip(x, y))\n",
    "    \n",
    "    poly_centroid_x = poly.centroid.coords[0][0]\n",
    "    poly_centroid_y = poly.centroid.coords[0][1]\n",
    "    \n",
    "    centro_anti_x.append(poly_centroid_x)\n",
    "    centro_anti_y.append(poly_centroid_y)"
   ]
  },
  {
   "cell_type": "code",
   "execution_count": null,
   "id": "fe05bb52",
   "metadata": {},
   "outputs": [],
   "source": []
  },
  {
   "cell_type": "code",
   "execution_count": null,
   "id": "13a2d855",
   "metadata": {},
   "outputs": [],
   "source": []
  },
  {
   "cell_type": "code",
   "execution_count": 17,
   "id": "061af6bb",
   "metadata": {},
   "outputs": [
    {
     "data": {
      "image/png": "[encoded data removed]",
      "text/plain": [
       "<Figure size 864x720 with 1 Axes>"
      ]
     },
     "metadata": {},
     "output_type": "display_data"
    }
   ],
   "source": [
    "fig = plt.figure(figsize=(12,10))\n",
    "\n",
    "m = Basemap(projection='cyl',\n",
    "           llcrnrlat = 35,\n",
    "           llcrnrlon = -20,\n",
    "           urcrnrlat = 45,\n",
    "           urcrnrlon = -5,\n",
    "           resolution= 'i')\n",
    "\n",
    "m.drawcoastlines()\n",
    "m.fillcontinents(color = 'darkgreen')   #por zonas continentais a verde\n",
    "\n",
    "#draw cyclonic eddies and its center\n",
    "for i in range(len(eddie_cyc_lons)):\n",
    "    x1_cyc, y1_cyc = m(eddie_cyc_lons[i], eddie_cyc_lats[i])\n",
    "    eddies_centro_cyc_x, eddies_centro_cyc_y = m(centro_cyc_x, centro_cyc_y)\n",
    "    m.plot(x1_cyc, y1_cyc, color='green')\n",
    "    m.scatter(eddies_centro_cyc_x, eddies_centro_cyc_y, marker='.', color='black')\n",
    "    \n",
    "#draw anticyclonic eddies and its center\n",
    "for i in range(len(eddie_anti_lons)):\n",
    "    x1_anti, y1_anti = m(eddie_anti_lons[i], eddie_anti_lats[i])\n",
    "    eddies_centro_anti_x, eddies_centro_anti_y = m(centro_anti_x, centro_anti_y)\n",
    "    m.plot(x1_anti, y1_anti, color='red')\n",
    "    m.scatter(eddies_centro_anti_x, eddies_centro_anti_y, marker='.', color='black')\n",
    "\n",
    "#m.drawparallels(np.arange(-90,90,2), labels = [True, False, False, False])\n",
    "#m.drawmeridians(np.arange(-180,180,2), labels = [0,0,0,1])\n",
    "\n",
    "plt.title('Eddies identified in 23-10-2022', fontsize=20)\n",
    "plt.show()"
   ]
  },
  {
   "cell_type": "code",
   "execution_count": null,
   "id": "d3fa94ac",
   "metadata": {},
   "outputs": [],
   "source": []
  },
  {
   "cell_type": "code",
   "execution_count": null,
   "id": "bc8cb23e",
   "metadata": {},
   "outputs": [],
   "source": []
  },
  {
   "cell_type": "code",
   "execution_count": null,
   "id": "49a6e8c9",
   "metadata": {},
   "outputs": [],
   "source": []
  },
  {
   "cell_type": "code",
   "execution_count": null,
   "id": "b163406f",
   "metadata": {},
   "outputs": [],
   "source": []
  },
  {
   "cell_type": "markdown",
   "id": "992467c0",
   "metadata": {},
   "source": [
    "## Eddies identificados numa dada zona num dado periodo\n",
    "\n",
    "Mas agora vamos identificar o centro das varias posições que cada eddie ocupou num dado periodo."
   ]
  },
  {
   "cell_type": "code",
   "execution_count": null,
   "id": "0cb3aaf1",
   "metadata": {},
   "outputs": [],
   "source": []
  },
  {
   "cell_type": "markdown",
   "id": "ce532997",
   "metadata": {},
   "source": [
    "### Identificação de Eddies Ciclonicos"
   ]
  },
  {
   "cell_type": "code",
   "execution_count": 18,
   "id": "b3b6b5a7",
   "metadata": {},
   "outputs": [
    {
     "data": {
      "text/plain": [
       "array([127363, 127363, 127363, 127363, 127363, 127363, 127363, 127363,\n",
       "       128899, 128899, 129778, 129778, 129778, 129778, 129778, 129778,\n",
       "       129778, 129778, 130217, 130217, 130217, 130217, 130217, 130217,\n",
       "       130217, 130217, 130612, 130612, 130612, 130612, 130612, 131713,\n",
       "       131713, 133063, 133063, 133063, 133063, 133063, 133063, 133063,\n",
       "       133063, 133599, 133599, 133599, 133599, 133599, 133599, 133599,\n",
       "       134406, 134978, 134978, 134978, 134978, 134978, 134978, 134978,\n",
       "       134978, 135992, 135992, 135992, 135992, 136600, 136600, 136600,\n",
       "       136600, 137071, 137071, 137071, 137071, 137071, 137071, 137071,\n",
       "       137071, 138206, 138206, 138206, 138408, 138408, 138690, 138690,\n",
       "       138690, 138690, 138690, 138690, 138690, 138690, 139230, 139230,\n",
       "       139230, 139230, 139230, 139230, 139415, 139415, 139415, 139415,\n",
       "       139415, 139415, 139415, 139415, 139463, 139463, 139463, 139463,\n",
       "       139463, 139463, 139463, 139463, 139528, 139528, 139528, 139528,\n",
       "       139528, 139528, 139528, 139528], dtype=uint32)"
      ]
     },
     "execution_count": 18,
     "metadata": {},
     "output_type": "execute_result"
    }
   ],
   "source": [
    "#Tracking dos eddies cyclonicos\n",
    "track_cyclonic = cyclonic_data['track'].values[(cyclonic_data['latitude'].values > 35) & (cyclonic_data['latitude'].values < 45) & (cyclonic_data['longitude'].values >341) & (cyclonic_data['longitude'].values < 355) & (cyclonic_data['time'].values > np.datetime64('2022-10-15T00:00:00.000000000'))]\n",
    "track_cyclonic\n",
    "# Eddies identified in the location: lat[35; 45] and lon[330;350] from 15 of October to 23 of October 2022"
   ]
  },
  {
   "cell_type": "code",
   "execution_count": 19,
   "id": "e3e99551",
   "metadata": {},
   "outputs": [
    {
     "data": {
      "text/plain": [
       "array([127363, 128899, 129778, 130217, 130612, 131713, 133063, 133599,\n",
       "       134406, 134978, 135992, 136600, 137071, 138206, 138408, 138690,\n",
       "       139230, 139415, 139463, 139528], dtype=uint32)"
      ]
     },
     "execution_count": 19,
     "metadata": {},
     "output_type": "execute_result"
    }
   ],
   "source": [
    "eddies_track_cyc = np.unique(track_cyclonic)\n",
    "eddies_track_cyc    # eddies cyclonicos unicos identificados na zona naquele periodo"
   ]
  },
  {
   "cell_type": "code",
   "execution_count": 20,
   "id": "c178cdff",
   "metadata": {},
   "outputs": [],
   "source": [
    "track_cyc_list = []\n",
    "track_cyc = list(track_cyclonic)\n",
    "# Eddies identified in the location: lat[35; 45] and lon[330;350] from 20 of August to 30 of August 2022\n",
    "eddies_track_cyc = np.unique(track_cyc)\n",
    "for value in eddies_track_cyc:\n",
    "    x = track_cyc.count(value)\n",
    "    track_cyc_list.append([value, x])"
   ]
  },
  {
   "cell_type": "code",
   "execution_count": null,
   "id": "45a0072b",
   "metadata": {},
   "outputs": [],
   "source": []
  },
  {
   "cell_type": "code",
   "execution_count": 21,
   "id": "9442ab09",
   "metadata": {},
   "outputs": [],
   "source": [
    "\n",
    "eddie_cyc_lons = []\n",
    "eddie_cyc_lats = []\n",
    "\n",
    "centro_cyc_x = []\n",
    "centro_cyc_y = []\n",
    "for value in eddies_track_cyc:\n",
    "    \n",
    "    ####################################################################################\n",
    "    #-360 nos valores maiores que 180\n",
    "    ########################################################################\n",
    "    \n",
    "    x = cyclonic_data['effective_contour_longitude'].values[(cyclonic_data['track'] == value)][-1] - 360\n",
    "    y = cyclonic_data['effective_contour_latitude'].values[(cyclonic_data['track'] == value)][-1] \n",
    "    \n",
    "    eddie_cyc_lons.append(list(x))\n",
    "    eddie_cyc_lats.append(list(y))\n",
    "    \n",
    "    \n",
    " #find center coordinates of all the eddies identified in those coordinates in that period\n",
    "for value in track_cyc_list:\n",
    "    \n",
    "    for i in range(1, value[1] + 1):\n",
    "    \n",
    "        eddie_x = cyclonic_data['effective_contour_longitude'].values[(cyclonic_data['track'] == value[0])][-i] - 360\n",
    "        eddie_y = cyclonic_data['effective_contour_latitude'].values[(cyclonic_data['track'] == value[0])][-i] \n",
    "\n",
    "        poly = Polygon(zip(eddie_x,eddie_y))\n",
    "\n",
    "        poly_centroid_x = poly.centroid.coords[0][0]\n",
    "        poly_centroid_y = poly.centroid.coords[0][1]\n",
    "    \n",
    "        if poly_centroid_x != -180.0:\n",
    "            centro_cyc_x.append(poly_centroid_x)  #coordinates of the centroid\n",
    "        if poly_centroid_y != 0.0:\n",
    "            centro_cyc_y.append(poly_centroid_y)"
   ]
  },
  {
   "cell_type": "code",
   "execution_count": null,
   "id": "0d0ce7ff",
   "metadata": {},
   "outputs": [],
   "source": []
  },
  {
   "cell_type": "code",
   "execution_count": null,
   "id": "4f7820b9",
   "metadata": {},
   "outputs": [],
   "source": []
  },
  {
   "cell_type": "markdown",
   "id": "1e384fb5",
   "metadata": {},
   "source": [
    "### Identificação de Eddies Anti-Ciclonicos"
   ]
  },
  {
   "cell_type": "code",
   "execution_count": 22,
   "id": "552a6b32",
   "metadata": {},
   "outputs": [
    {
     "data": {
      "text/plain": [
       "array([106085, 106085, 106085, 106085, 106085, 106085, 106085, 106085,\n",
       "       125626, 125626, 125626, 125626, 125626, 125626, 125626, 125626,\n",
       "       126808, 126808, 126808, 126808, 126808, 126808, 126808, 126808,\n",
       "       127395, 127395, 127395, 127395, 127395, 127395, 127395, 127395,\n",
       "       128612, 128612, 128612, 128612, 129265, 129265, 129265, 129265,\n",
       "       129265, 129265, 129534, 129534, 129534, 129534, 129534, 129534,\n",
       "       129534, 129534, 130403, 130403, 130403, 130403, 130403, 130403,\n",
       "       130403, 130403, 130902, 130902, 130902, 130902, 130902, 130902,\n",
       "       130902, 130902, 132016, 132016, 132016, 132016, 132016, 132016,\n",
       "       132016, 132016, 132019, 132019, 132019, 132019, 132019, 132019,\n",
       "       132019, 132019, 132501, 132501, 132501, 132501, 132501, 132501,\n",
       "       132501, 132501, 132878, 132878, 132878, 132878, 132878, 132878,\n",
       "       132878, 132878, 132952, 132952, 132952, 132983, 132983, 132983,\n",
       "       132983, 132983, 132983, 132983, 133064, 133064, 133064, 133064,\n",
       "       133064, 133064, 133064, 133064, 133369, 133369, 133369, 133369,\n",
       "       133369, 133369, 133369, 133369, 133532, 133532, 133532, 133532,\n",
       "       133600, 133600, 133600, 133600, 133600, 133600, 133600, 133600,\n",
       "       133675, 133958, 133958, 133958, 133958, 133958, 133958, 133958,\n",
       "       133958], dtype=uint32)"
      ]
     },
     "execution_count": 22,
     "metadata": {},
     "output_type": "execute_result"
    }
   ],
   "source": [
    "#Tracking dos eddies anticyclonicos\n",
    "track_anti = anticyclonic_data['track'].values[(anticyclonic_data['latitude'].values > 35) & (anticyclonic_data['latitude'].values < 45) & (anticyclonic_data['longitude'].values >341) & (anticyclonic_data['longitude'].values < 355) & (anticyclonic_data['time'].values > np.datetime64('2022-10-15T00:00:00.000000000'))]\n",
    "track_anti\n",
    "# Eddies identified in the location: lat[35; 45] and lon[330;350] from 15 of October to 23 of October 2022"
   ]
  },
  {
   "cell_type": "code",
   "execution_count": 23,
   "id": "6a10ca02",
   "metadata": {},
   "outputs": [
    {
     "data": {
      "text/plain": [
       "array([106085, 125626, 126808, 127395, 128612, 129265, 129534, 130403,\n",
       "       130902, 132016, 132019, 132501, 132878, 132952, 132983, 133064,\n",
       "       133369, 133532, 133600, 133675, 133958], dtype=uint32)"
      ]
     },
     "execution_count": 23,
     "metadata": {},
     "output_type": "execute_result"
    }
   ],
   "source": [
    "eddies_track_anti = np.unique(track_anti)\n",
    "eddies_track_anti    # eddies anticyclonicos unicos identificados na zona naquele periodo"
   ]
  },
  {
   "cell_type": "code",
   "execution_count": 24,
   "id": "3cb159bf",
   "metadata": {},
   "outputs": [],
   "source": [
    "track_anti_list = []\n",
    "track_anti = list(track_anti)\n",
    "# Eddies identified in the location: lat[35; 45] and lon[330;350] from 20 of August to 30 of August 2022\n",
    "eddies_track_anti = np.unique(track_anti)\n",
    "for value in eddies_track_anti:\n",
    "    x = track_anti.count(value)\n",
    "    track_anti_list.append([value, x])"
   ]
  },
  {
   "cell_type": "code",
   "execution_count": 25,
   "id": "25792767",
   "metadata": {},
   "outputs": [],
   "source": [
    "\n",
    "eddie_anti_lons = []\n",
    "eddie_anti_lats = []\n",
    "\n",
    "centro_anti_x = []\n",
    "centro_anti_y = []\n",
    "for value in eddies_track_anti:\n",
    "    \n",
    "    ####################################################################################\n",
    "    #-360 nos valores maiores que 180\n",
    "    ########################################################################\n",
    "    \n",
    "    x = anticyclonic_data['effective_contour_longitude'].values[(anticyclonic_data['track'] == value)][-1] - 360\n",
    "    y = anticyclonic_data['effective_contour_latitude'].values[(anticyclonic_data['track'] == value)][-1] \n",
    "\n",
    "    eddie_anti_lons.append(list(x))\n",
    "    eddie_anti_lats.append(list(y))\n",
    "    \n",
    "    \n",
    " #find center coordinates of all the eddies identified in those coordinates in that period\n",
    "for value in track_anti_list:\n",
    "    \n",
    "    for i in range(1, value[1] + 1):\n",
    "    \n",
    "        eddie_x = anticyclonic_data['effective_contour_longitude'].values[(anticyclonic_data['track'] == value[0])][-i] - 360\n",
    "        eddie_y = anticyclonic_data['effective_contour_latitude'].values[(anticyclonic_data['track'] == value[0])][-i] \n",
    "\n",
    "        poly = Polygon(zip(eddie_x,eddie_y))\n",
    "\n",
    "        poly_centroid_x = poly.centroid.coords[0][0]\n",
    "        poly_centroid_y = poly.centroid.coords[0][1]\n",
    "        \n",
    "        if poly_centroid_x != -180.0:\n",
    "            centro_anti_x.append(poly_centroid_x)  #coordinates of the centroid\n",
    "        if poly_centroid_y != 0.0:\n",
    "            centro_anti_y.append(poly_centroid_y)\n",
    "            "
   ]
  },
  {
   "cell_type": "code",
   "execution_count": 26,
   "id": "c42e17de",
   "metadata": {},
   "outputs": [
    {
     "data": {
      "text/plain": [
       "[-18.623048658795742,\n",
       " -18.624822174052046,\n",
       " -18.654937255687223,\n",
       " -18.668608610629786,\n",
       " -18.623172309896468,\n",
       " -18.65596073870438,\n",
       " -18.707046380691335,\n",
       " -18.7450112878442,\n",
       " -14.554553639629264,\n",
       " -14.501903049442845,\n",
       " -14.63275336537209,\n",
       " -14.4094796955073,\n",
       " -14.526765102883815,\n",
       " -14.432066563521003,\n",
       " -11.940975985365009,\n",
       " -12.047168172565614,\n",
       " -12.060860458870014,\n",
       " -12.041154166636472,\n",
       " -12.062132384437131,\n",
       " -12.08406373172955,\n",
       " -12.076919266252853,\n",
       " -12.091014799350349,\n",
       " -17.205547377273035,\n",
       " -17.191224451327045,\n",
       " -17.22532138435614,\n",
       " -17.17491657141623,\n",
       " -17.15322738662512,\n",
       " -17.114164013139757,\n",
       " -17.15406026327423,\n",
       " -17.157671687393833,\n",
       " -14.41638228424015,\n",
       " -14.36542679233309,\n",
       " -14.384023255394494,\n",
       " -14.320025095711651,\n",
       " -13.660339296708855,\n",
       " -13.647314826199551,\n",
       " -13.61725846303422,\n",
       " -13.590897826113572,\n",
       " -16.730809734657736,\n",
       " -16.690074029142362,\n",
       " -16.625356456120205,\n",
       " -16.622917116149072,\n",
       " -16.643231103368393,\n",
       " -16.633714848685997,\n",
       " -16.606995106161854,\n",
       " -16.61530890709705,\n",
       " -16.43693609987512,\n",
       " -16.422292815570625,\n",
       " -16.404341462579783,\n",
       " -16.39121749878885,\n",
       " -16.38207160372819,\n",
       " -16.4191058354362,\n",
       " -16.447265203282058,\n",
       " -12.430704473227628,\n",
       " -12.422817742437177,\n",
       " -12.43995399353578,\n",
       " -12.507384275027544,\n",
       " -12.49423007928638,\n",
       " -12.400294711038526,\n",
       " -12.579147199940921,\n",
       " -12.607548309352177,\n",
       " -10.582844166847247,\n",
       " -10.630777258020634,\n",
       " -10.60541891658386,\n",
       " -10.595204556644308,\n",
       " -10.576625991850888,\n",
       " -10.482330591856892,\n",
       " -10.506367105873156,\n",
       " -10.463364412540182,\n",
       " -18.455130944746443,\n",
       " -18.44946381638473,\n",
       " -18.39159209563212,\n",
       " -18.35157944367396,\n",
       " -18.30810079594472,\n",
       " -18.331916668142913,\n",
       " -16.508850120077398,\n",
       " -16.47033331782127,\n",
       " -16.424993123035968,\n",
       " -16.429117251980177,\n",
       " -16.450070248095816,\n",
       " -16.403732172470466,\n",
       " -16.401869381661577,\n",
       " -16.31950104098034,\n",
       " -13.668611232930637,\n",
       " -13.725114117287992,\n",
       " -13.752339703921447,\n",
       " -13.715118105187747,\n",
       " -13.693057808221987,\n",
       " -13.614177183733556,\n",
       " -13.612642496391944,\n",
       " -18.65214396144834,\n",
       " -18.647060996604917,\n",
       " -18.714219948450005,\n",
       " -18.80823592842507,\n",
       " -18.84984678722156,\n",
       " -18.862244535433465,\n",
       " -18.911705213056646,\n",
       " -9.85503973269786,\n",
       " -9.847024472612151,\n",
       " -9.857731830267321,\n",
       " -9.975823097063854,\n",
       " -9.983475929153922,\n",
       " -9.987815394650195,\n",
       " -10.004747269049158,\n",
       " -10.004786706377596,\n",
       " -9.809149857398745,\n",
       " -9.79062966036871,\n",
       " -9.794169858435426,\n",
       " -9.789912188448886,\n",
       " -9.774675259975073,\n",
       " -9.565821118629241,\n",
       " -5.881054649482155,\n",
       " -5.891962824379883,\n",
       " -5.911258833693988,\n",
       " -14.754420545830074,\n",
       " -14.690046689830908,\n",
       " -14.750616091576143,\n",
       " -14.745499338402217,\n",
       " -14.733971433645525,\n",
       " -14.87870635706863,\n",
       " -14.821808975204917,\n",
       " -14.81588123665923,\n",
       " -4.903740751877911,\n",
       " -11.982206520045352,\n",
       " -11.973420956329772,\n",
       " -11.96146367299991,\n",
       " -11.943029040091798,\n",
       " -11.941693229661546]"
      ]
     },
     "execution_count": 26,
     "metadata": {},
     "output_type": "execute_result"
    }
   ],
   "source": [
    "centro_anti_x"
   ]
  },
  {
   "cell_type": "code",
   "execution_count": null,
   "id": "d5689347",
   "metadata": {},
   "outputs": [],
   "source": []
  },
  {
   "cell_type": "code",
   "execution_count": 27,
   "id": "7490cdf6",
   "metadata": {},
   "outputs": [
    {
     "name": "stderr",
     "output_type": "stream",
     "text": [
      "No handles with labels found to put in legend.\n"
     ]
    },
    {
     "data": {
      "image/png": "[encoded data removed]",
      "text/plain": [
       "<Figure size 864x720 with 1 Axes>"
      ]
     },
     "metadata": {},
     "output_type": "display_data"
    }
   ],
   "source": [
    "fig = plt.figure(figsize=(12,10))\n",
    "\n",
    "m = Basemap(projection='mill',\n",
    "           llcrnrlat = 35,                      #35\n",
    "           llcrnrlon = -20,                     #-20\n",
    "           urcrnrlat = 45,                      # 45\n",
    "           urcrnrlon = -5,                      #-5\n",
    "           resolution = 'i')\n",
    "\n",
    "m.drawcoastlines()\n",
    "m.fillcontinents(color = 'darkgreen')   #por zonas continentais a verde\n",
    "\n",
    "#plot the shapes of the cyclonic eddies\n",
    "for i in range(len(eddie_cyc_lons)):\n",
    "    x1_cyc, y1_cyc = m(eddie_cyc_lons[i], eddie_cyc_lats[i])\n",
    "    m.plot(x1_cyc, y1_cyc, color='green')\n",
    "\n",
    "#all the centroid of the cyclonic eddies identified in a particular period\n",
    "for j in range(len(centro_cyc_x)):\n",
    "    eddies_centro_cyc_x, eddies_centro_cyc_y = m(centro_cyc_x[j], centro_cyc_y[j])\n",
    "    m.scatter(eddies_centro_cyc_x, eddies_centro_cyc_y, marker='.', color='m', linewidths=0.1)\n",
    "    \n",
    "    \n",
    "#plot the shapes of the anticyclonic eddies\n",
    "for i in range(len(eddie_anti_lons)):\n",
    "    x1_anti, y1_anti = m(eddie_anti_lons[i], eddie_anti_lats[i])\n",
    "    m.plot(x1_anti, y1_anti, color='red')\n",
    "\n",
    "#all the centroid of the cyclonic eddies identified in a particular period\n",
    "for j in range(len(centro_anti_x)):\n",
    "    eddies_centro_anti_x, eddies_centro_anti_y = m(centro_anti_x[j], centro_anti_y[j])\n",
    "    m.scatter(eddies_centro_anti_x, eddies_centro_anti_y, marker='.', color='m', linewidths=0.1)\n",
    "\n",
    "#m.drawparallels(np.arange(-90,90,2), labels = [True, False, False, False])\n",
    "#m.drawmeridians(np.arange(-180,180, 2), labels=[0,0,0,1])\n",
    "\n",
    "plt.title('Tracking vortices from 15-10-2022 to 23-10-2022 ', fontsize=20)\n",
    "plt.legend()\n",
    "plt.show()"
   ]
  },
  {
   "cell_type": "code",
   "execution_count": null,
   "id": "48afa0bb",
   "metadata": {},
   "outputs": [],
   "source": []
  },
  {
   "cell_type": "code",
   "execution_count": null,
   "id": "585490c6",
   "metadata": {},
   "outputs": [],
   "source": []
  },
  {
   "cell_type": "code",
   "execution_count": null,
   "id": "ddb866cb",
   "metadata": {},
   "outputs": [],
   "source": []
  },
  {
   "cell_type": "code",
   "execution_count": null,
   "id": "0fdbfbb2",
   "metadata": {},
   "outputs": [],
   "source": []
  },
  {
   "cell_type": "code",
   "execution_count": null,
   "id": "fd0169a3",
   "metadata": {},
   "outputs": [],
   "source": []
  },
  {
   "cell_type": "markdown",
   "id": "7a918c24",
   "metadata": {},
   "source": [
    "## ----------------------- Save Results in a NetCDF -----------------------------------"
   ]
  },
  {
   "cell_type": "code",
   "execution_count": null,
   "id": "081fb28c",
   "metadata": {},
   "outputs": [],
   "source": []
  },
  {
   "cell_type": "code",
   "execution_count": 28,
   "id": "8826054d",
   "metadata": {},
   "outputs": [
    {
     "data": {
      "image/png": "[encoded data removed]",
      "text/plain": [
       "<Figure size 864x720 with 1 Axes>"
      ]
     },
     "metadata": {
      "needs_background": "light"
     },
     "output_type": "display_data"
    }
   ],
   "source": [
    "fig = plt.figure(figsize=(12,10))\n",
    "\n",
    "#plot the shapes of the cyclonic  (CERTO)\n",
    "for i in range(len(eddie_cyc_lons)):\n",
    "    plt.plot(eddie_cyc_lons[i], eddie_cyc_lats[i], color='g');\n",
    "    \n",
    "#plot the shapes of the anticyclonic eddies\n",
    "for i in range(len(eddie_anti_lons)):\n",
    "    plt.plot(eddie_anti_lons[i], eddie_anti_lats[i], color='r');\n",
    "    \n",
    "    \n",
    "#all the centroid of the cyclonic eddies identified in a particular period\n",
    "for j in range(len(centro_anti_x)):\n",
    "    plt.scatter(centro_anti_x[j], centro_anti_y[j], marker='.', color='b');\n",
    "    \n",
    "#all the centroid of the cyclonic eddies identified in a particular period\n",
    "for j in range(len(centro_cyc_x)):\n",
    "    plt.scatter(centro_cyc_x[j], centro_cyc_y[j], marker='.', color='b');\n",
    "    \n",
    "plt.axis('off');\n",
    "plt.savefig('/home/luisfigueiredo/JUNO/data/AVISO_images/image_fast_test.png', format='png')\n",
    "   \n",
    " \n"
   ]
  },
  {
   "cell_type": "code",
   "execution_count": 29,
   "id": "96895f39",
   "metadata": {},
   "outputs": [
    {
     "name": "stdout",
     "output_type": "stream",
     "text": [
      "-18.799988\n",
      "-8.210022\n",
      "34.53\n",
      "45.25\n"
     ]
    }
   ],
   "source": [
    "print(np.min(eddie_cyc_lons))\n",
    "print(np.max(eddie_cyc_lons))\n",
    "print(np.min(eddie_cyc_lats))\n",
    "print(np.max(eddie_cyc_lats))"
   ]
  },
  {
   "cell_type": "code",
   "execution_count": 30,
   "id": "1677a2c0",
   "metadata": {},
   "outputs": [
    {
     "name": "stdout",
     "output_type": "stream",
     "text": [
      "-19.779999\n",
      "-4.549988\n",
      "34.96\n",
      "45.25\n"
     ]
    }
   ],
   "source": [
    "print(np.min(eddie_anti_lons))\n",
    "print(np.max(eddie_anti_lons))\n",
    "print(np.min(eddie_anti_lats))\n",
    "print(np.max(eddie_anti_lats))"
   ]
  },
  {
   "cell_type": "code",
   "execution_count": null,
   "id": "1816de9c",
   "metadata": {},
   "outputs": [],
   "source": []
  },
  {
   "cell_type": "code",
   "execution_count": null,
   "id": "8b703f20",
   "metadata": {},
   "outputs": [],
   "source": []
  },
  {
   "cell_type": "code",
   "execution_count": 22,
   "id": "827a987c",
   "metadata": {},
   "outputs": [
    {
     "ename": "NameError",
     "evalue": "name 'eddie_cyc_lons' is not defined",
     "output_type": "error",
     "traceback": [
      "\u001b[0;31m---------------------------------------------------------------------------\u001b[0m",
      "\u001b[0;31mNameError\u001b[0m                                 Traceback (most recent call last)",
      "\u001b[0;32m/tmp/ipykernel_121199/299525564.py\u001b[0m in \u001b[0;36m<module>\u001b[0;34m\u001b[0m\n\u001b[1;32m      3\u001b[0m \u001b[0;34m\u001b[0m\u001b[0m\n\u001b[1;32m      4\u001b[0m \u001b[0;31m#plot the shapes of the cyclonic  (CERTO)\u001b[0m\u001b[0;34m\u001b[0m\u001b[0;34m\u001b[0m\u001b[0;34m\u001b[0m\u001b[0m\n\u001b[0;32m----> 5\u001b[0;31m \u001b[0;32mfor\u001b[0m \u001b[0mi\u001b[0m \u001b[0;32min\u001b[0m \u001b[0mrange\u001b[0m\u001b[0;34m(\u001b[0m\u001b[0mlen\u001b[0m\u001b[0;34m(\u001b[0m\u001b[0meddie_cyc_lons\u001b[0m\u001b[0;34m)\u001b[0m\u001b[0;34m)\u001b[0m\u001b[0;34m:\u001b[0m\u001b[0;34m\u001b[0m\u001b[0;34m\u001b[0m\u001b[0m\n\u001b[0m\u001b[1;32m      6\u001b[0m     \u001b[0mplt\u001b[0m\u001b[0;34m.\u001b[0m\u001b[0mplot\u001b[0m\u001b[0;34m(\u001b[0m\u001b[0meddie_cyc_lons\u001b[0m\u001b[0;34m[\u001b[0m\u001b[0mi\u001b[0m\u001b[0;34m]\u001b[0m\u001b[0;34m,\u001b[0m \u001b[0meddie_cyc_lats\u001b[0m\u001b[0;34m[\u001b[0m\u001b[0mi\u001b[0m\u001b[0;34m]\u001b[0m\u001b[0;34m,\u001b[0m \u001b[0mcolor\u001b[0m\u001b[0;34m=\u001b[0m\u001b[0;34m'g'\u001b[0m\u001b[0;34m)\u001b[0m\u001b[0;34m;\u001b[0m\u001b[0;34m\u001b[0m\u001b[0;34m\u001b[0m\u001b[0m\n\u001b[1;32m      7\u001b[0m \u001b[0;34m\u001b[0m\u001b[0m\n",
      "\u001b[0;31mNameError\u001b[0m: name 'eddie_cyc_lons' is not defined"
     ]
    },
    {
     "data": {
      "text/plain": [
       "<Figure size 864x720 with 0 Axes>"
      ]
     },
     "metadata": {},
     "output_type": "display_data"
    }
   ],
   "source": [
    "fig = plt.figure(figsize=(12,10))\n",
    "plt.rcParams[\"figure.autolayout\"] = True\n",
    "\n",
    "#plot the shapes of the cyclonic  (CERTO)\n",
    "for i in range(len(eddie_cyc_lons)):\n",
    "    plt.plot(eddie_cyc_lons[i], eddie_cyc_lats[i], color='g');\n",
    "    \n",
    "plt.xlim([-20, -4]);\n",
    "plt.ylim([33, 46]);\n",
    "\n",
    "plt.axis('off');\n",
    "plt.savefig('/home/luisfigueiredo/JUNO/data/AVISO_images/image_cyc_test.png')\n",
    "   "
   ]
  },
  {
   "cell_type": "code",
   "execution_count": 32,
   "id": "cdfbed6e",
   "metadata": {},
   "outputs": [
    {
     "data": {
      "image/png": "[encoded data removed]",
      "text/plain": [
       "<Figure size 864x720 with 1 Axes>"
      ]
     },
     "metadata": {
      "needs_background": "light"
     },
     "output_type": "display_data"
    }
   ],
   "source": [
    "fig = plt.figure(figsize=(12,10))\n",
    "plt.rcParams[\"figure.autolayout\"] = True\n",
    "\n",
    "#plot the shapes of the anticyclonic eddies\n",
    "for i in range(len(eddie_anti_lons)):\n",
    "    plt.plot(eddie_anti_lons[i], eddie_anti_lats[i], color='r');\n",
    "\n",
    "plt.xlim([-20, -4]);\n",
    "plt.ylim([33, 46]);\n",
    "plt.axis('off');\n",
    "plt.savefig('/home/luisfigueiredo/JUNO/data/AVISO_images/image_anti_test.png')"
   ]
  },
  {
   "cell_type": "code",
   "execution_count": 33,
   "id": "e935def8",
   "metadata": {},
   "outputs": [
    {
     "data": {
      "image/png": "[encoded data removed]",
      "text/plain": [
       "<Figure size 864x720 with 1 Axes>"
      ]
     },
     "metadata": {
      "needs_background": "light"
     },
     "output_type": "display_data"
    }
   ],
   "source": [
    "fig = plt.figure(figsize=(12,10))\n",
    "plt.rcParams[\"figure.autolayout\"] = True\n",
    "\n",
    "for j in range(len(centro_cyc_x)):\n",
    "    plt.scatter(centro_cyc_x[j], centro_cyc_y[j], marker='.', color='b');   #, linewidths=0.1\n",
    "\n",
    "plt.xlim([-20, -4]);\n",
    "plt.ylim([33, 46]);\n",
    "plt.axis('off');\n",
    "plt.savefig('/home/luisfigueiredo/JUNO/data/AVISO_images/image_centers_cyc_test.png')"
   ]
  },
  {
   "cell_type": "code",
   "execution_count": 34,
   "id": "59a65530",
   "metadata": {},
   "outputs": [
    {
     "data": {
      "image/png": "[encoded data removed]",
      "text/plain": [
       "<Figure size 864x720 with 1 Axes>"
      ]
     },
     "metadata": {
      "needs_background": "light"
     },
     "output_type": "display_data"
    }
   ],
   "source": [
    "fig = plt.figure(figsize=(12,10))\n",
    "plt.rcParams[\"figure.autolayout\"] = True\n",
    "    \n",
    "#all the centroid of the cyclonic eddies identified in a particular period\n",
    "for j in range(len(centro_anti_x)):\n",
    "    plt.scatter(centro_anti_x[j], centro_anti_y[j], marker='.', color='b');\n",
    "\n",
    "plt.xlim([-20, -4]);\n",
    "plt.ylim([33, 46]);\n",
    "plt.axis('off');\n",
    "plt.savefig('/home/luisfigueiredo/JUNO/data/AVISO_images/image_centers_anti_test.png')"
   ]
  },
  {
   "cell_type": "code",
   "execution_count": null,
   "id": "356bbbce",
   "metadata": {},
   "outputs": [],
   "source": []
  },
  {
   "cell_type": "code",
   "execution_count": null,
   "id": "47aaf7d7",
   "metadata": {},
   "outputs": [],
   "source": []
  },
  {
   "cell_type": "code",
   "execution_count": null,
   "id": "e749f822",
   "metadata": {},
   "outputs": [],
   "source": []
  },
  {
   "cell_type": "code",
   "execution_count": null,
   "id": "f4684f86",
   "metadata": {},
   "outputs": [],
   "source": []
  },
  {
   "cell_type": "code",
   "execution_count": null,
   "id": "cb8604ac",
   "metadata": {},
   "outputs": [],
   "source": []
  },
  {
   "cell_type": "markdown",
   "id": "c3f0c122",
   "metadata": {},
   "source": [
    "# Tentar converter PNG to numpy array para poder guardar como netcdf"
   ]
  },
  {
   "cell_type": "markdown",
   "id": "96a97137",
   "metadata": {},
   "source": [
    "## Dividir cyclonicos, anticyclonicos e centros"
   ]
  },
  {
   "cell_type": "markdown",
   "id": "e167993a",
   "metadata": {},
   "source": [
    "### Using OpenCV"
   ]
  },
  {
   "cell_type": "code",
   "execution_count": 66,
   "id": "6b2830a4",
   "metadata": {},
   "outputs": [],
   "source": [
    "import cv2\n",
    "\n",
    "#array with cyclonic data\n",
    "im_cyc = cv2.imread('/home/luisfigueiredo/JUNO/data/AVISO_images/image_cyc_test.png')\n",
    "img_cyc = cv2.cvtColor(im_cyc, cv2.COLOR_BGR2GRAY).astype('float32')   # BGR -> GRAYSCALE\n",
    "img_cyc[img_cyc<255] = 0\n",
    "img_cyc[img_cyc==255] = np.nan\n",
    "img_cyc[img_cyc==0] = 1\n",
    "\n",
    "#array with anticyclonic data\n",
    "im_anti = cv2.imread('/home/luisfigueiredo/JUNO/data/AVISO_images/image_anti_test.png')\n",
    "img_anti = cv2.cvtColor(im_anti, cv2.COLOR_BGR2GRAY)   # BGR -> GRAYSCALE\n",
    "img_anti[img_anti<255] = 0\n",
    "\n",
    "#array with cyclonic centers data\n",
    "im_centers_cyc = cv2.imread('/home/luisfigueiredo/JUNO/data/AVISO_images/image_centers_cyc_test.png')\n",
    "img_centers_cyc = cv2.cvtColor(im_centers_cyc, cv2.COLOR_BGR2GRAY)   # BGR -> GRAYSCALE\n",
    "img_centers_cyc[img_centers_cyc<255] = 0\n",
    "\n",
    "#array with cyclonic centers data\n",
    "im_centers_anti = cv2.imread('/home/luisfigueiredo/JUNO/data/AVISO_images/image_centers_anti_test.png')\n",
    "img_centers_anti = cv2.cvtColor(im_centers_anti, cv2.COLOR_BGR2GRAY)   # BGR -> GRAYSCALE\n",
    "img_centers_anti[img_centers_anti<255] = 0\n"
   ]
  },
  {
   "cell_type": "code",
   "execution_count": 61,
   "id": "119379c8",
   "metadata": {},
   "outputs": [],
   "source": []
  },
  {
   "cell_type": "code",
   "execution_count": 67,
   "id": "494f3b74",
   "metadata": {},
   "outputs": [
    {
     "data": {
      "text/plain": [
       "array([ 1., nan], dtype=float32)"
      ]
     },
     "execution_count": 67,
     "metadata": {},
     "output_type": "execute_result"
    }
   ],
   "source": [
    "np.unique(img_cyc)"
   ]
  },
  {
   "cell_type": "code",
   "execution_count": 70,
   "id": "1620c07b",
   "metadata": {},
   "outputs": [],
   "source": [
    "count0 = (img_cyc == np.nan).sum()"
   ]
  },
  {
   "cell_type": "code",
   "execution_count": 71,
   "id": "5f214cc4",
   "metadata": {},
   "outputs": [
    {
     "data": {
      "text/plain": [
       "0"
      ]
     },
     "execution_count": 71,
     "metadata": {},
     "output_type": "execute_result"
    }
   ],
   "source": [
    "count0"
   ]
  },
  {
   "cell_type": "code",
   "execution_count": 62,
   "id": "eaaa7b57",
   "metadata": {},
   "outputs": [
    {
     "data": {
      "text/plain": [
       "<matplotlib.image.AxesImage at 0x7fa536c7a3a0>"
      ]
     },
     "execution_count": 62,
     "metadata": {},
     "output_type": "execute_result"
    },
    {
     "data": {
      "image/png": "[encoded data removed]",
      "text/plain": [
       "<Figure size 864x576 with 1 Axes>"
      ]
     },
     "metadata": {
      "needs_background": "light"
     },
     "output_type": "display_data"
    }
   ],
   "source": [
    "plt.imshow(img_cyc)"
   ]
  },
  {
   "cell_type": "code",
   "execution_count": null,
   "id": "a0208afd",
   "metadata": {},
   "outputs": [],
   "source": []
  },
  {
   "cell_type": "code",
   "execution_count": 54,
   "id": "85ed699a",
   "metadata": {},
   "outputs": [
    {
     "data": {
      "text/plain": [
       "array([[0, 0, 0, ..., 0, 0, 0],\n",
       "       [0, 0, 0, ..., 0, 0, 0],\n",
       "       [0, 0, 0, ..., 0, 0, 0],\n",
       "       ...,\n",
       "       [0, 0, 0, ..., 0, 0, 0],\n",
       "       [0, 0, 0, ..., 0, 0, 0],\n",
       "       [0, 0, 0, ..., 0, 0, 0]], dtype=uint8)"
      ]
     },
     "execution_count": 54,
     "metadata": {},
     "output_type": "execute_result"
    }
   ],
   "source": [
    "np.where((img_cyc==0)|(img_cyc==255), img_cyc^255, img_cyc)"
   ]
  },
  {
   "cell_type": "code",
   "execution_count": 57,
   "id": "53d0cd05",
   "metadata": {},
   "outputs": [],
   "source": [
    "count0 = (img_cyc == 0).sum()\n",
    "count255 = (img_cyc == 255).sum()"
   ]
  },
  {
   "cell_type": "code",
   "execution_count": 41,
   "id": "01cfccae",
   "metadata": {},
   "outputs": [
    {
     "data": {
      "text/plain": [
       "<matplotlib.image.AxesImage at 0x7fa5614d0e20>"
      ]
     },
     "execution_count": 41,
     "metadata": {},
     "output_type": "execute_result"
    },
    {
     "data": {
      "image/png": "[encoded data removed]",
      "text/plain": [
       "<Figure size 864x576 with 1 Axes>"
      ]
     },
     "metadata": {
      "needs_background": "light"
     },
     "output_type": "display_data"
    }
   ],
   "source": [
    "plt.imshow(img_cyc)"
   ]
  },
  {
   "cell_type": "code",
   "execution_count": null,
   "id": "11095b7c",
   "metadata": {},
   "outputs": [],
   "source": []
  },
  {
   "cell_type": "code",
   "execution_count": 42,
   "id": "07caa382",
   "metadata": {},
   "outputs": [],
   "source": [
    "img_cyc[img_cyc==0] = np.nan"
   ]
  },
  {
   "cell_type": "code",
   "execution_count": 43,
   "id": "bc401766",
   "metadata": {},
   "outputs": [
    {
     "data": {
      "text/plain": [
       "array([255.,  nan], dtype=float32)"
      ]
     },
     "execution_count": 43,
     "metadata": {},
     "output_type": "execute_result"
    }
   ],
   "source": [
    "np.unique(img_cyc)"
   ]
  },
  {
   "cell_type": "code",
   "execution_count": 46,
   "id": "b9d5d393",
   "metadata": {},
   "outputs": [
    {
     "data": {
      "text/plain": [
       "(array([[  0., 720.],\n",
       "        [  0., 720.],\n",
       "        [  0., 720.],\n",
       "        ...,\n",
       "        [  0., 720.],\n",
       "        [  0., 720.],\n",
       "        [  0., 720.]]),\n",
       " array([254.5, 255. , 255.5], dtype=float32),\n",
       " <a list of 864 Lists of Patches objects>)"
      ]
     },
     "execution_count": 46,
     "metadata": {},
     "output_type": "execute_result"
    },
    {
     "data": {
      "image/png": "[encoded data removed]",
      "text/plain": [
       "<Figure size 864x576 with 1 Axes>"
      ]
     },
     "metadata": {
      "needs_background": "light"
     },
     "output_type": "display_data"
    }
   ],
   "source": [
    "plt.hist(img_cyc, bins=2)"
   ]
  },
  {
   "cell_type": "code",
   "execution_count": 44,
   "id": "d8da7b9d",
   "metadata": {},
   "outputs": [
    {
     "data": {
      "text/plain": [
       "<matplotlib.image.AxesImage at 0x7fa560f7e610>"
      ]
     },
     "execution_count": 44,
     "metadata": {},
     "output_type": "execute_result"
    },
    {
     "data": {
      "image/png": "[encoded data removed]",
      "text/plain": [
       "<Figure size 864x576 with 1 Axes>"
      ]
     },
     "metadata": {
      "needs_background": "light"
     },
     "output_type": "display_data"
    }
   ],
   "source": [
    "plt.imshow(img_cyc)"
   ]
  },
  {
   "cell_type": "code",
   "execution_count": null,
   "id": "57839e61",
   "metadata": {},
   "outputs": [],
   "source": []
  },
  {
   "cell_type": "code",
   "execution_count": null,
   "id": "9810d514",
   "metadata": {},
   "outputs": [],
   "source": []
  },
  {
   "cell_type": "code",
   "execution_count": null,
   "id": "f51b9737",
   "metadata": {},
   "outputs": [],
   "source": []
  },
  {
   "cell_type": "code",
   "execution_count": 14,
   "id": "3061530b",
   "metadata": {},
   "outputs": [
    {
     "data": {
      "text/plain": [
       "numpy.ndarray"
      ]
     },
     "execution_count": 14,
     "metadata": {},
     "output_type": "execute_result"
    }
   ],
   "source": [
    "type(img_anti)"
   ]
  },
  {
   "cell_type": "code",
   "execution_count": 15,
   "id": "d1204de1",
   "metadata": {},
   "outputs": [
    {
     "data": {
      "text/plain": [
       "(720, 864)"
      ]
     },
     "execution_count": 15,
     "metadata": {},
     "output_type": "execute_result"
    }
   ],
   "source": [
    "img_centers_anti.shape"
   ]
  },
  {
   "cell_type": "code",
   "execution_count": 16,
   "id": "898fa2f7",
   "metadata": {
    "scrolled": false
   },
   "outputs": [
    {
     "data": {
      "text/plain": [
       "<matplotlib.image.AxesImage at 0x7fa561d264c0>"
      ]
     },
     "execution_count": 16,
     "metadata": {},
     "output_type": "execute_result"
    },
    {
     "data": {
      "image/png": "[encoded data removed]",
      "text/plain": [
       "<Figure size 864x576 with 1 Axes>"
      ]
     },
     "metadata": {
      "needs_background": "light"
     },
     "output_type": "display_data"
    }
   ],
   "source": [
    "plt.imshow(img_cyc)"
   ]
  },
  {
   "cell_type": "code",
   "execution_count": 821,
   "id": "3a30c0e8",
   "metadata": {},
   "outputs": [
    {
     "data": {
      "text/plain": [
       "array([  0, 255], dtype=uint8)"
      ]
     },
     "execution_count": 821,
     "metadata": {},
     "output_type": "execute_result"
    }
   ],
   "source": [
    "np.unique(img_cyc)"
   ]
  },
  {
   "cell_type": "code",
   "execution_count": null,
   "id": "ffc789e1",
   "metadata": {},
   "outputs": [],
   "source": []
  },
  {
   "cell_type": "code",
   "execution_count": 870,
   "id": "d03db00c",
   "metadata": {},
   "outputs": [
    {
     "data": {
      "text/plain": [
       "array([ 0, 10], dtype=uint8)"
      ]
     },
     "execution_count": 870,
     "metadata": {},
     "output_type": "execute_result"
    }
   ],
   "source": [
    "img_cyc[img_cyc==255] = 10\n",
    "np.unique(img_cyc)"
   ]
  },
  {
   "cell_type": "code",
   "execution_count": 871,
   "id": "203a6654",
   "metadata": {},
   "outputs": [
    {
     "data": {
      "text/plain": [
       "array([ 0, 10], dtype=uint8)"
      ]
     },
     "execution_count": 871,
     "metadata": {},
     "output_type": "execute_result"
    }
   ],
   "source": [
    "img_anti[img_anti==255] = 10\n",
    "np.unique(img_anti)"
   ]
  },
  {
   "cell_type": "code",
   "execution_count": 872,
   "id": "ffaa0d98",
   "metadata": {},
   "outputs": [
    {
     "data": {
      "text/plain": [
       "array([ 0, 10], dtype=uint8)"
      ]
     },
     "execution_count": 872,
     "metadata": {},
     "output_type": "execute_result"
    }
   ],
   "source": [
    "img_centers_cyc[img_centers_cyc==255] = 10\n",
    "np.unique(img_centers_cyc)"
   ]
  },
  {
   "cell_type": "code",
   "execution_count": 873,
   "id": "721da7f6",
   "metadata": {},
   "outputs": [
    {
     "data": {
      "text/plain": [
       "array([ 0, 10], dtype=uint8)"
      ]
     },
     "execution_count": 873,
     "metadata": {},
     "output_type": "execute_result"
    }
   ],
   "source": [
    "img_centers_anti[img_centers_anti==255] = 10\n",
    "np.unique(img_centers_anti)"
   ]
  },
  {
   "cell_type": "code",
   "execution_count": null,
   "id": "f9fb97cc",
   "metadata": {},
   "outputs": [],
   "source": []
  },
  {
   "cell_type": "code",
   "execution_count": null,
   "id": "370f6882",
   "metadata": {},
   "outputs": [],
   "source": []
  },
  {
   "cell_type": "code",
   "execution_count": 874,
   "id": "966c8a77",
   "metadata": {},
   "outputs": [],
   "source": [
    "final = np.add(img_anti,img_cyc, where=True)"
   ]
  },
  {
   "cell_type": "code",
   "execution_count": 875,
   "id": "5c751469",
   "metadata": {},
   "outputs": [],
   "source": [
    "final = np.add(final, img_centers_cyc, where=True)"
   ]
  },
  {
   "cell_type": "code",
   "execution_count": 876,
   "id": "dc797135",
   "metadata": {},
   "outputs": [],
   "source": [
    "final = np.add(final, img_centers_anti, where=True)"
   ]
  },
  {
   "cell_type": "code",
   "execution_count": 877,
   "id": "533d3f9a",
   "metadata": {},
   "outputs": [
    {
     "data": {
      "text/plain": [
       "(720, 864)"
      ]
     },
     "execution_count": 877,
     "metadata": {},
     "output_type": "execute_result"
    }
   ],
   "source": [
    "final.shape"
   ]
  },
  {
   "cell_type": "code",
   "execution_count": 879,
   "id": "fb066b45",
   "metadata": {},
   "outputs": [
    {
     "data": {
      "text/plain": [
       "<matplotlib.image.AxesImage at 0x7f226973f970>"
      ]
     },
     "execution_count": 879,
     "metadata": {},
     "output_type": "execute_result"
    },
    {
     "data": {
      "image/png": "[encoded data removed]",
      "text/plain": [
       "<Figure size 864x576 with 1 Axes>"
      ]
     },
     "metadata": {
      "needs_background": "light"
     },
     "output_type": "display_data"
    }
   ],
   "source": [
    "plt.imshow(final)"
   ]
  },
  {
   "cell_type": "code",
   "execution_count": null,
   "id": "76aa4673",
   "metadata": {},
   "outputs": [],
   "source": []
  },
  {
   "cell_type": "code",
   "execution_count": null,
   "id": "df9fa69b",
   "metadata": {},
   "outputs": [],
   "source": []
  },
  {
   "cell_type": "code",
   "execution_count": null,
   "id": "d060a718",
   "metadata": {},
   "outputs": [],
   "source": []
  },
  {
   "cell_type": "code",
   "execution_count": null,
   "id": "3b67523b",
   "metadata": {},
   "outputs": [],
   "source": []
  },
  {
   "cell_type": "code",
   "execution_count": null,
   "id": "0de5268e",
   "metadata": {},
   "outputs": [],
   "source": []
  },
  {
   "cell_type": "code",
   "execution_count": null,
   "id": "02f9ffb5",
   "metadata": {},
   "outputs": [],
   "source": []
  },
  {
   "cell_type": "code",
   "execution_count": null,
   "id": "d6deff41",
   "metadata": {},
   "outputs": [],
   "source": []
  },
  {
   "cell_type": "code",
   "execution_count": null,
   "id": "49f2fb7e",
   "metadata": {},
   "outputs": [],
   "source": []
  },
  {
   "cell_type": "code",
   "execution_count": null,
   "id": "43dc551b",
   "metadata": {},
   "outputs": [],
   "source": []
  },
  {
   "cell_type": "code",
   "execution_count": null,
   "id": "ab17a41e",
   "metadata": {},
   "outputs": [],
   "source": []
  },
  {
   "cell_type": "code",
   "execution_count": null,
   "id": "e6c9e346",
   "metadata": {},
   "outputs": [],
   "source": []
  },
  {
   "cell_type": "code",
   "execution_count": null,
   "id": "04119656",
   "metadata": {},
   "outputs": [],
   "source": []
  },
  {
   "cell_type": "code",
   "execution_count": null,
   "id": "161e5659",
   "metadata": {},
   "outputs": [],
   "source": []
  },
  {
   "cell_type": "code",
   "execution_count": null,
   "id": "f8ce5afe",
   "metadata": {},
   "outputs": [],
   "source": []
  },
  {
   "cell_type": "code",
   "execution_count": 85,
   "id": "e675ae8e",
   "metadata": {},
   "outputs": [],
   "source": [
    "filename1 = 'anticyclonic_20221123.nc'\n",
    "filename2 = 'cyclonic_20221023.nc'\n",
    "filename3 = 'anticyclonic_20221022.nc'\n",
    "filename4 = 'cyclonic_20221022.nc'\n",
    "filename5 = 'anticyclonic_20220901.nc'\n",
    "filename6 = 'cyclonic_20221021.nc'\n",
    "\n",
    "lista = [filename1, filename2, filename3, filename4, filename5, filename6]"
   ]
  },
  {
   "cell_type": "code",
   "execution_count": 86,
   "id": "1f67d62d",
   "metadata": {},
   "outputs": [
    {
     "data": {
      "text/plain": [
       "['anticyclonic_20221123.nc',\n",
       " 'cyclonic_20221023.nc',\n",
       " 'anticyclonic_20221022.nc',\n",
       " 'cyclonic_20221022.nc',\n",
       " 'anticyclonic_20220901.nc',\n",
       " 'cyclonic_20221021.nc']"
      ]
     },
     "execution_count": 86,
     "metadata": {},
     "output_type": "execute_result"
    }
   ],
   "source": [
    "lista"
   ]
  },
  {
   "cell_type": "code",
   "execution_count": 87,
   "id": "b7b3657d",
   "metadata": {},
   "outputs": [],
   "source": [
    "lista_datas = []\n",
    "for name in lista:\n",
    "    x = name.split('_')[-1]\n",
    "    data = x.split('.')[0]\n",
    "    lista_datas.append(data)\n",
    "    "
   ]
  },
  {
   "cell_type": "code",
   "execution_count": 88,
   "id": "16c85e5a",
   "metadata": {},
   "outputs": [
    {
     "data": {
      "text/plain": [
       "['20221123', '20221023', '20221022', '20221022', '20220901', '20221021']"
      ]
     },
     "execution_count": 88,
     "metadata": {},
     "output_type": "execute_result"
    }
   ],
   "source": [
    "lista_datas"
   ]
  },
  {
   "cell_type": "code",
   "execution_count": 89,
   "id": "89e43a1c",
   "metadata": {},
   "outputs": [],
   "source": [
    "data_recent_str = max(lista_datas)"
   ]
  },
  {
   "cell_type": "code",
   "execution_count": 90,
   "id": "e5f2964f",
   "metadata": {},
   "outputs": [
    {
     "data": {
      "text/plain": [
       "'20221123'"
      ]
     },
     "execution_count": 90,
     "metadata": {},
     "output_type": "execute_result"
    }
   ],
   "source": [
    "data_recent_str"
   ]
  },
  {
   "cell_type": "code",
   "execution_count": 112,
   "id": "b5900c2b",
   "metadata": {},
   "outputs": [],
   "source": [
    "last_date_str = '20221228'"
   ]
  },
  {
   "cell_type": "code",
   "execution_count": 113,
   "id": "f12155c3",
   "metadata": {},
   "outputs": [],
   "source": [
    "from datetime import datetime, timedelta"
   ]
  },
  {
   "cell_type": "code",
   "execution_count": 114,
   "id": "e83de164",
   "metadata": {},
   "outputs": [],
   "source": [
    "data_recent = datetime.strptime(data_recent_str, '%Y%m%d')\n",
    "last_date = datetime.strptime(last_date_str, '%Y%m%d')"
   ]
  },
  {
   "cell_type": "code",
   "execution_count": 116,
   "id": "a31894d8",
   "metadata": {},
   "outputs": [
    {
     "data": {
      "text/plain": [
       "datetime.datetime(2022, 12, 27, 0, 0)"
      ]
     },
     "execution_count": 116,
     "metadata": {},
     "output_type": "execute_result"
    }
   ],
   "source": [
    "last_date - timedelta(days=1)"
   ]
  },
  {
   "cell_type": "code",
   "execution_count": null,
   "id": "c09e4102",
   "metadata": {},
   "outputs": [],
   "source": []
  },
  {
   "cell_type": "code",
   "execution_count": 75,
   "id": "50dee858",
   "metadata": {},
   "outputs": [
    {
     "data": {
      "text/plain": [
       "True"
      ]
     },
     "execution_count": 75,
     "metadata": {},
     "output_type": "execute_result"
    }
   ],
   "source": [
    "last_date > data_recent"
   ]
  },
  {
   "cell_type": "code",
   "execution_count": null,
   "id": "ccec2637",
   "metadata": {},
   "outputs": [],
   "source": []
  },
  {
   "cell_type": "code",
   "execution_count": null,
   "id": "29b98ff1",
   "metadata": {},
   "outputs": [],
   "source": []
  },
  {
   "cell_type": "code",
   "execution_count": 76,
   "id": "9a24c8ca",
   "metadata": {},
   "outputs": [],
   "source": [
    "delta = last_date - data_recent\n",
    "days_diff = abs(delta.days)"
   ]
  },
  {
   "cell_type": "code",
   "execution_count": 77,
   "id": "3ecbdd0c",
   "metadata": {},
   "outputs": [
    {
     "data": {
      "text/plain": [
       "35"
      ]
     },
     "execution_count": 77,
     "metadata": {},
     "output_type": "execute_result"
    }
   ],
   "source": [
    "days_diff"
   ]
  },
  {
   "cell_type": "code",
   "execution_count": null,
   "id": "32ba7361",
   "metadata": {},
   "outputs": [],
   "source": []
  },
  {
   "cell_type": "code",
   "execution_count": 81,
   "id": "a026e90b",
   "metadata": {},
   "outputs": [],
   "source": [
    "file_last_date = datetime.strptime(last_date_str, '%Y%m%d').isoformat()"
   ]
  },
  {
   "cell_type": "code",
   "execution_count": 82,
   "id": "9f78ec7c",
   "metadata": {},
   "outputs": [
    {
     "data": {
      "text/plain": [
       "'2022-12-28T00:00:00'"
      ]
     },
     "execution_count": 82,
     "metadata": {},
     "output_type": "execute_result"
    }
   ],
   "source": [
    "file_last_date"
   ]
  },
  {
   "cell_type": "code",
   "execution_count": null,
   "id": "972347f2",
   "metadata": {},
   "outputs": [],
   "source": []
  },
  {
   "cell_type": "code",
   "execution_count": 83,
   "id": "f6362245",
   "metadata": {},
   "outputs": [],
   "source": [
    "last_date = last_date.isoformat()"
   ]
  },
  {
   "cell_type": "code",
   "execution_count": 84,
   "id": "66a809ea",
   "metadata": {},
   "outputs": [
    {
     "data": {
      "text/plain": [
       "'2022-12-28T00:00:00'"
      ]
     },
     "execution_count": 84,
     "metadata": {},
     "output_type": "execute_result"
    }
   ],
   "source": [
    "last_date"
   ]
  },
  {
   "cell_type": "code",
   "execution_count": null,
   "id": "5aa1f7d9",
   "metadata": {},
   "outputs": [],
   "source": []
  },
  {
   "cell_type": "code",
   "execution_count": 120,
   "id": "cbeb41f8",
   "metadata": {},
   "outputs": [],
   "source": [
    "eddies_user = os.environ.get('EDDIES_USER')\n",
    "eddies_pass = os.environ.get('EDDIES_PASS')"
   ]
  },
  {
   "cell_type": "code",
   "execution_count": 121,
   "id": "3a97b767",
   "metadata": {},
   "outputs": [
    {
     "name": "stdout",
     "output_type": "stream",
     "text": [
      "None\n"
     ]
    }
   ],
   "source": [
    "print(eddies_user)"
   ]
  },
  {
   "cell_type": "code",
   "execution_count": null,
   "id": "0603ab73",
   "metadata": {},
   "outputs": [],
   "source": []
  }
 ],
 "metadata": {
  "kernelspec": {
   "display_name": "Python 3 (ipykernel)",
   "language": "python",
   "name": "python3"
  },
  "language_info": {
   "codemirror_mode": {
    "name": "ipython",
    "version": 3
   },
   "file_extension": ".py",
   "mimetype": "text/x-python",
   "name": "python",
   "nbconvert_exporter": "python",
   "pygments_lexer": "ipython3",
   "version": "3.8.13"
  }
 },
 "nbformat": 4,
 "nbformat_minor": 5
}
