{
 "cells": [
  {
   "cell_type": "code",
   "execution_count": 1,
   "id": "d9e02719",
   "metadata": {},
   "outputs": [],
   "source": [
    "import pandas as pd\n",
    "import numpy as np\n",
    "import matplotlib.pyplot as plt\n",
    "import seaborn as sns\n",
    "import netCDF4 as nc\n",
    "import xarray as xr\n",
    "import os\n",
    "from pathlib import Path\n",
    "from numpy import nanmedian\n",
    "import scipy\n",
    "import scipy.signal\n",
    "import math\n",
    "from numpy.fft import fft2\n",
    "import cmocean\n",
    "import matplotlib\n",
    "plt.rcParams[\"figure.figsize\"] = 10, 8\n",
    "%matplotlib inline"
   ]
  },
  {
   "cell_type": "code",
   "execution_count": null,
   "id": "566e1ee2",
   "metadata": {},
   "outputs": [],
   "source": []
  },
  {
   "cell_type": "code",
   "execution_count": 2,
   "id": "a6c4a2f6",
   "metadata": {},
   "outputs": [
    {
     "data": {
      "text/plain": [
       "'/home/luisfigueiredo/JUNO/notebooks'"
      ]
     },
     "execution_count": 2,
     "metadata": {},
     "output_type": "execute_result"
    }
   ],
   "source": [
    "current_path = os.getcwd()\n",
    "current_path"
   ]
  },
  {
   "cell_type": "code",
   "execution_count": 3,
   "id": "1613e456",
   "metadata": {},
   "outputs": [
    {
     "data": {
      "text/plain": [
       "'/home/luisfigueiredo/JUNO/notebooks/../data'"
      ]
     },
     "execution_count": 3,
     "metadata": {},
     "output_type": "execute_result"
    }
   ],
   "source": [
    "\n",
    "data_folder = os.path.join(current_path,\"../data\")\n",
    "data_folder"
   ]
  },
  {
   "cell_type": "code",
   "execution_count": 7,
   "id": "513a8e0d",
   "metadata": {},
   "outputs": [],
   "source": [
    "nc_path = os.path.join(data_folder, \"AQUA_MODIS.20220209T133501.L2.SST.NRT.nc\")"
   ]
  },
  {
   "cell_type": "code",
   "execution_count": 8,
   "id": "67a30b68",
   "metadata": {},
   "outputs": [
    {
     "data": {
      "text/plain": [
       "'/home/luisfigueiredo/JUNO/notebooks/../data/AQUA_MODIS.20220209T133501.L2.SST.NRT.nc'"
      ]
     },
     "execution_count": 8,
     "metadata": {},
     "output_type": "execute_result"
    }
   ],
   "source": [
    "nc_path"
   ]
  },
  {
   "cell_type": "code",
   "execution_count": null,
   "id": "f71ca364",
   "metadata": {},
   "outputs": [],
   "source": []
  },
  {
   "cell_type": "code",
   "execution_count": 10,
   "id": "d19ccfeb",
   "metadata": {},
   "outputs": [],
   "source": [
    "\n",
    "ds = xr.open_dataset(nc_path, group='geophysical_data')\n",
    "df = ds.to_dataframe()"
   ]
  },
  {
   "cell_type": "code",
   "execution_count": 11,
   "id": "260a484c",
   "metadata": {},
   "outputs": [
    {
     "data": {
      "text/html": [
       "<div>\n",
       "<style scoped>\n",
       "    .dataframe tbody tr th:only-of-type {\n",
       "        vertical-align: middle;\n",
       "    }\n",
       "\n",
       "    .dataframe tbody tr th {\n",
       "        vertical-align: top;\n",
       "    }\n",
       "\n",
       "    .dataframe thead th {\n",
       "        text-align: right;\n",
       "    }\n",
       "</style>\n",
       "<table border=\"1\" class=\"dataframe\">\n",
       "  <thead>\n",
       "    <tr style=\"text-align: right;\">\n",
       "      <th></th>\n",
       "      <th></th>\n",
       "      <th>sst</th>\n",
       "      <th>qual_sst</th>\n",
       "      <th>flags_sst</th>\n",
       "      <th>bias_sst</th>\n",
       "      <th>stdv_sst</th>\n",
       "      <th>sstref</th>\n",
       "      <th>l2_flags</th>\n",
       "    </tr>\n",
       "    <tr>\n",
       "      <th>number_of_lines</th>\n",
       "      <th>pixels_per_line</th>\n",
       "      <th></th>\n",
       "      <th></th>\n",
       "      <th></th>\n",
       "      <th></th>\n",
       "      <th></th>\n",
       "      <th></th>\n",
       "      <th></th>\n",
       "    </tr>\n",
       "  </thead>\n",
       "  <tbody>\n",
       "    <tr>\n",
       "      <th rowspan=\"5\" valign=\"top\">0</th>\n",
       "      <th>0</th>\n",
       "      <td>NaN</td>\n",
       "      <td>4.0</td>\n",
       "      <td>1.0</td>\n",
       "      <td>-18.0</td>\n",
       "      <td>-18.0</td>\n",
       "      <td>NaN</td>\n",
       "      <td>50</td>\n",
       "    </tr>\n",
       "    <tr>\n",
       "      <th>1</th>\n",
       "      <td>NaN</td>\n",
       "      <td>4.0</td>\n",
       "      <td>1.0</td>\n",
       "      <td>-18.0</td>\n",
       "      <td>-18.0</td>\n",
       "      <td>NaN</td>\n",
       "      <td>50</td>\n",
       "    </tr>\n",
       "    <tr>\n",
       "      <th>2</th>\n",
       "      <td>NaN</td>\n",
       "      <td>4.0</td>\n",
       "      <td>1.0</td>\n",
       "      <td>-18.0</td>\n",
       "      <td>-18.0</td>\n",
       "      <td>NaN</td>\n",
       "      <td>50</td>\n",
       "    </tr>\n",
       "    <tr>\n",
       "      <th>3</th>\n",
       "      <td>NaN</td>\n",
       "      <td>4.0</td>\n",
       "      <td>1.0</td>\n",
       "      <td>-18.0</td>\n",
       "      <td>-18.0</td>\n",
       "      <td>NaN</td>\n",
       "      <td>50</td>\n",
       "    </tr>\n",
       "    <tr>\n",
       "      <th>4</th>\n",
       "      <td>NaN</td>\n",
       "      <td>4.0</td>\n",
       "      <td>1.0</td>\n",
       "      <td>-18.0</td>\n",
       "      <td>-18.0</td>\n",
       "      <td>NaN</td>\n",
       "      <td>50</td>\n",
       "    </tr>\n",
       "    <tr>\n",
       "      <th>...</th>\n",
       "      <th>...</th>\n",
       "      <td>...</td>\n",
       "      <td>...</td>\n",
       "      <td>...</td>\n",
       "      <td>...</td>\n",
       "      <td>...</td>\n",
       "      <td>...</td>\n",
       "      <td>...</td>\n",
       "    </tr>\n",
       "    <tr>\n",
       "      <th rowspan=\"5\" valign=\"top\">2029</th>\n",
       "      <th>1349</th>\n",
       "      <td>NaN</td>\n",
       "      <td>4.0</td>\n",
       "      <td>1.0</td>\n",
       "      <td>-18.0</td>\n",
       "      <td>-18.0</td>\n",
       "      <td>-3.0</td>\n",
       "      <td>33619984</td>\n",
       "    </tr>\n",
       "    <tr>\n",
       "      <th>1350</th>\n",
       "      <td>NaN</td>\n",
       "      <td>4.0</td>\n",
       "      <td>1.0</td>\n",
       "      <td>-18.0</td>\n",
       "      <td>-18.0</td>\n",
       "      <td>-3.0</td>\n",
       "      <td>33619984</td>\n",
       "    </tr>\n",
       "    <tr>\n",
       "      <th>1351</th>\n",
       "      <td>NaN</td>\n",
       "      <td>4.0</td>\n",
       "      <td>1.0</td>\n",
       "      <td>-18.0</td>\n",
       "      <td>-18.0</td>\n",
       "      <td>-3.0</td>\n",
       "      <td>33619984</td>\n",
       "    </tr>\n",
       "    <tr>\n",
       "      <th>1352</th>\n",
       "      <td>NaN</td>\n",
       "      <td>4.0</td>\n",
       "      <td>1.0</td>\n",
       "      <td>-18.0</td>\n",
       "      <td>-18.0</td>\n",
       "      <td>-3.0</td>\n",
       "      <td>33619984</td>\n",
       "    </tr>\n",
       "    <tr>\n",
       "      <th>1353</th>\n",
       "      <td>NaN</td>\n",
       "      <td>4.0</td>\n",
       "      <td>1.0</td>\n",
       "      <td>-18.0</td>\n",
       "      <td>-18.0</td>\n",
       "      <td>-3.0</td>\n",
       "      <td>33619984</td>\n",
       "    </tr>\n",
       "  </tbody>\n",
       "</table>\n",
       "<p>2748620 rows × 7 columns</p>\n",
       "</div>"
      ],
      "text/plain": [
       "                                 sst  qual_sst  flags_sst  bias_sst  stdv_sst  \\\n",
       "number_of_lines pixels_per_line                                                 \n",
       "0               0                NaN       4.0        1.0     -18.0     -18.0   \n",
       "                1                NaN       4.0        1.0     -18.0     -18.0   \n",
       "                2                NaN       4.0        1.0     -18.0     -18.0   \n",
       "                3                NaN       4.0        1.0     -18.0     -18.0   \n",
       "                4                NaN       4.0        1.0     -18.0     -18.0   \n",
       "...                              ...       ...        ...       ...       ...   \n",
       "2029            1349             NaN       4.0        1.0     -18.0     -18.0   \n",
       "                1350             NaN       4.0        1.0     -18.0     -18.0   \n",
       "                1351             NaN       4.0        1.0     -18.0     -18.0   \n",
       "                1352             NaN       4.0        1.0     -18.0     -18.0   \n",
       "                1353             NaN       4.0        1.0     -18.0     -18.0   \n",
       "\n",
       "                                 sstref  l2_flags  \n",
       "number_of_lines pixels_per_line                    \n",
       "0               0                   NaN        50  \n",
       "                1                   NaN        50  \n",
       "                2                   NaN        50  \n",
       "                3                   NaN        50  \n",
       "                4                   NaN        50  \n",
       "...                                 ...       ...  \n",
       "2029            1349               -3.0  33619984  \n",
       "                1350               -3.0  33619984  \n",
       "                1351               -3.0  33619984  \n",
       "                1352               -3.0  33619984  \n",
       "                1353               -3.0  33619984  \n",
       "\n",
       "[2748620 rows x 7 columns]"
      ]
     },
     "execution_count": 11,
     "metadata": {},
     "output_type": "execute_result"
    }
   ],
   "source": [
    "df"
   ]
  },
  {
   "cell_type": "code",
   "execution_count": null,
   "id": "a715d19e",
   "metadata": {},
   "outputs": [],
   "source": []
  },
  {
   "cell_type": "code",
   "execution_count": null,
   "id": "fa2a5aa9",
   "metadata": {},
   "outputs": [],
   "source": []
  },
  {
   "cell_type": "code",
   "execution_count": null,
   "id": "d9681ae0",
   "metadata": {},
   "outputs": [],
   "source": []
  },
  {
   "cell_type": "markdown",
   "id": "e34344d0",
   "metadata": {},
   "source": [
    "### Código: Load das variaveis MATLAB"
   ]
  },
  {
   "cell_type": "code",
   "execution_count": null,
   "id": "21ab8b43",
   "metadata": {},
   "outputs": [],
   "source": [
    "\n",
    "## LOAD das variáveis necessários do netCDF (Este exemplo é com imagens\n",
    "# MODIS - os caminhos podem ser diferentes)\n",
    "lon=ncread('AQUA_MODIS.20220209T133501.L2.SST.NRT.nc', '/navigation_data/longitude');\n",
    "lat=ncread('AQUA_MODIS.20220209T133501.L2.SST.NRT.nc', '/navigation_data/latitude');\n",
    "sst=ncread('AQUA_MODIS.20220209T133501.L2.SST.NRT.nc', '/geophysical_data/sst');\n",
    "qual_sst=ncread('AQUA_MODIS.20220209T133501.L2.SST.NRT.nc', '/geophysical_data/qual_sst');\n",
    "\n",
    "# factor de qualidade para as imagens MODIS - esta linha é para comentar no\n",
    "# caso do MUR e/ou modelo\n",
    "sst(qual_sst>1)=NaN;\n",
    "\n",
    "# Figura com os dados SST - grelha irregular L2\n",
    "pcolor(lon,lat,sst); shading flat; colorbar\n",
    "\n",
    "# interpolar dados para uma grelha antes - também não é necessário nos dados L3, L4 ou Modelo\n",
    "\n",
    "Z1=double(sst);\n",
    "X1=double(lon);\n",
    "Y1=double(lat);\n",
    "X1(isnan(X1))=0;  #caso lon tenha NaN values, estes são convertidos para zeros\n",
    "Y1(isnan(Y1))=0;  #caso lat tenha NaN values, estes são convertidos para zeros\n",
    "\n",
    "[X,Y]=meshgrid(-27.296:.02:7.4435,32.2344:0.02:53.7133);\n",
    "\n",
    "Z=griddata(X1,Y1,Z1,X,Y);"
   ]
  },
  {
   "cell_type": "code",
   "execution_count": null,
   "id": "802a7e2b",
   "metadata": {},
   "outputs": [],
   "source": []
  },
  {
   "cell_type": "markdown",
   "id": "3f94fe52",
   "metadata": {},
   "source": [
    "#### Código: LOAD das variaveis em Python (passo a passo)"
   ]
  },
  {
   "cell_type": "code",
   "execution_count": 2,
   "id": "352e7bc1",
   "metadata": {},
   "outputs": [],
   "source": [
    "lon = np.array([1,2,3,4,5,6])\n",
    "lat = np.array([1,2,3,4,5,6,7,8,9,10,11,12,13,14,15])\n",
    "sst = np.arange(1,91, dtype=np.double)#.reshape(6,15) \n",
    "\n",
    "lon[np.isnan(lon)] = 0    #caso lon tenha NaN values, estes são convertidos para zeros\n",
    "lat[np.isnan(lat)] = 0    #caso lat tenha NaN values, estes são convertidos para zeros\n",
    "\n",
    "# corresponde ao [X,Y]=meshgrid(-27.296:.02:7.4435,32.2344:0.02:53.7133); do MATLAB\n",
    "# No entanto como estamos a usar valores dummy isto para já não serve para nada\n",
    "#X = np.arange(-27.296, 7.4435, 0.02)\n",
    "#Y = np.arange(32.2344, 53.7133, 0.02) \n",
    "#X, Y = np.meshgrid(X, Y)\n",
    "\n",
    "#Código de cima mas com dummy variables\n",
    "X1 = np.linspace(-27.296, 7.4435, 6)\n",
    "Y1 = np.linspace(32.2344, 53.7133, 15)\n",
    "X1, Y1 = np.meshgrid(X1, Y1)\n",
    "\n",
    "from scipy.interpolate import griddata\n",
    "#Z = griddata([lat, lon], sst, (X1, Y1), method='linear') #NÃO CONSIGO POR ISTO A FUNCIONAR\n"
   ]
  },
  {
   "cell_type": "code",
   "execution_count": null,
   "id": "0d29d435",
   "metadata": {},
   "outputs": [],
   "source": []
  },
  {
   "cell_type": "code",
   "execution_count": null,
   "id": "18d29fc5",
   "metadata": {},
   "outputs": [],
   "source": []
  },
  {
   "cell_type": "code",
   "execution_count": null,
   "id": "8cbeaeb9",
   "metadata": {},
   "outputs": [],
   "source": []
  },
  {
   "cell_type": "code",
   "execution_count": null,
   "id": "35f5226d",
   "metadata": {},
   "outputs": [],
   "source": []
  },
  {
   "cell_type": "code",
   "execution_count": null,
   "id": "6fb51a29",
   "metadata": {},
   "outputs": [],
   "source": []
  },
  {
   "cell_type": "code",
   "execution_count": null,
   "id": "9575d627",
   "metadata": {},
   "outputs": [],
   "source": []
  },
  {
   "cell_type": "markdown",
   "id": "ef977e97",
   "metadata": {},
   "source": [
    "### Código: Definição da janela MATLAB"
   ]
  },
  {
   "cell_type": "code",
   "execution_count": null,
   "id": "bdaefabc",
   "metadata": {},
   "outputs": [],
   "source": [
    "#####################################\n",
    "\n",
    "# Definição da janela\n",
    "\n",
    "head(1:2) = [-27.296 7.4435];             #cria variavel head com esses 2 valores nas posiçoes 1 e 2\n",
    "head(3:4) = [32.2344 53.7133];\n",
    "z_dim=size(Z); #dimensões da matriz Z\n",
    "z_actual_range = double([min(Z(:)) max(Z(:))]); #range dos dados\n",
    "\tnx = z_dim(end);\t\tny = z_dim(end-1);\n",
    "    node_offset = 0;\t\n",
    " \n",
    "\thead(5:7) = double([z_actual_range node_offset]);\n",
    "\thead(8) = diff(head(1:2)) / (nx - ~node_offset);\n",
    "\thead(9) = diff(head(3:4)) / (ny - ~node_offset);\n",
    "    \n",
    "############################################ "
   ]
  },
  {
   "cell_type": "code",
   "execution_count": null,
   "id": "857633c2",
   "metadata": {},
   "outputs": [],
   "source": []
  },
  {
   "cell_type": "markdown",
   "id": "e799abeb",
   "metadata": {},
   "source": [
    "#### Código: Definição da janela em Python (passo a passo)"
   ]
  },
  {
   "cell_type": "code",
   "execution_count": 33,
   "id": "a518f146",
   "metadata": {},
   "outputs": [],
   "source": [
    "head = np.array([-27.296, 7.4435])\n",
    "head = np.append(head, [32.2344, 53.7133])\n",
    "#create dummy array Z to test \n",
    "Z = np.array([[1,2,3,4,5,6],[1,1,1,1,1,1],[1,2,3,4,5,6],[1,1,1,1,1,1],[1,2,3,4,5,6],\n",
    "             [1,1,1,1,1,1],[1,2,3,4,5,6],[1,1,1,1,1,10],[1,2,3,4,5,6],[1,1,1,1,1,1],\n",
    "             [1,2,3,4,5,6],[1,1,1,1,1,1],[1,2,3,4,5,6],[1,1,1,1,1,1],[1,2,3,4,5,6],\n",
    "              [1,1,1,1,1,1],[1,2,3,4,5,6],[1,1,1,1,1,1],[1,2,3,4,5,6],[1,1,1,1,1,1]])\n",
    "\n",
    "z_dim = Z.shape    #dimensões da matriz Z\n",
    "\n",
    "z_actual_range = np.array([np.min(Z[:]), np.max(Z[:])])    #range dos dados\n",
    "nx = z_dim[1]\n",
    "ny = z_dim[0]\n",
    "node_offset = 0\n",
    "\n",
    "#Solução para o (~node_offset) em MATLAB\n",
    "if node_offset == 0:\n",
    "    logical = 1\n",
    "else:\n",
    "    logical = 0\n",
    "\n",
    "head = np.append(head, np.array([z_actual_range[0], z_actual_range[1] , node_offset]))\n",
    "head = np.append(head, np.array((head[1]- head[0])/(nx - logical)))     \n",
    "head = np.append(head, np.array((head[3]- head[2])/(ny - logical)))\n"
   ]
  },
  {
   "cell_type": "code",
   "execution_count": 4,
   "id": "ef17387b",
   "metadata": {},
   "outputs": [
    {
     "data": {
      "text/plain": [
       "array([-27.296     ,   7.4435    ,  32.2344    ,  53.7133    ,\n",
       "         1.        ,  10.        ,   0.        ,   6.9479    ,\n",
       "         2.38654444])"
      ]
     },
     "execution_count": 4,
     "metadata": {},
     "output_type": "execute_result"
    }
   ],
   "source": [
    "head"
   ]
  },
  {
   "cell_type": "code",
   "execution_count": 266,
   "id": "1e7a05e1",
   "metadata": {},
   "outputs": [],
   "source": []
  },
  {
   "cell_type": "code",
   "execution_count": 267,
   "id": "701da1fc",
   "metadata": {},
   "outputs": [],
   "source": []
  },
  {
   "cell_type": "code",
   "execution_count": null,
   "id": "91d00a0a",
   "metadata": {},
   "outputs": [],
   "source": []
  },
  {
   "cell_type": "markdown",
   "id": "dec5a6bd",
   "metadata": {},
   "source": [
    "### Código: Definição da parametros MATLAB"
   ]
  },
  {
   "cell_type": "code",
   "execution_count": null,
   "id": "d0463c87",
   "metadata": {},
   "outputs": [],
   "source": [
    "%%%%%%%%%%%%%%%%%%%%%%%%%%%%%%  \n",
    "\n",
    "% Window size 32 × 32\n",
    "\n",
    "% Window clarity (% of data have to present in the window) 75%\n",
    "% Overlap 50%\n",
    "\n",
    "% The ratio of variance between the two populations to the\n",
    "% variance within the populations θ(τopt )% 0.76\n",
    "\n",
    "% Gradient ratio 0.9\n",
    "\n",
    "% Cohesion coefficients [C1, C2, C] [0.9, 0.9, 0.92]\n",
    "% Mean temperature difference between the two populations (surface waters)\n",
    "% .25\n",
    "\n",
    "   %cayula\n",
    "    minPopProp = 0.20;\t\t\t\t% \n",
    "\tminPopMeanDiff = 0.4;\n",
    "\tminTheta = 0.70;\n",
    "\tminSinglePopCohesion = 0.90;\n",
    "\tminGlobalPopCohesion = 0.70;\n",
    "   %nieto\n",
    "%     minPopProp = 0.15;\t\t\t\t% \n",
    "% \tminPopMeanDiff = 0.4;\n",
    "% \tminTheta = 0.70;\n",
    "% \tminSinglePopCohesion = 0.90;\n",
    "% \tminGlobalPopCohesion = 0.70;\n",
    "%%%%%%%%%%%%%%%%%%%%%%%"
   ]
  },
  {
   "cell_type": "code",
   "execution_count": null,
   "id": "4e8812e3",
   "metadata": {},
   "outputs": [],
   "source": []
  },
  {
   "cell_type": "markdown",
   "id": "6107f1a5",
   "metadata": {},
   "source": [
    "#### Código: Definição da parametros Python (passo a passo)"
   ]
  },
  {
   "cell_type": "code",
   "execution_count": 5,
   "id": "1e066326",
   "metadata": {},
   "outputs": [],
   "source": [
    "################################# \n",
    "\n",
    "# Window size 32 × 32\n",
    "\n",
    "# Window clarity (% of data have to present in the window) 75%\n",
    "# Overlap 50%\n",
    "\n",
    "# The ratio of variance between the two populations to the\n",
    "# variance within the populations θ(τopt )% 0.76\n",
    "\n",
    "# Gradient ratio 0.9\n",
    "\n",
    "# Cohesion coefficients [C1, C2, C] [0.9, 0.9, 0.92]\n",
    "# Mean temperature difference between the two populations (surface waters)\n",
    "# .25\n",
    "\n",
    "#cayula\n",
    "minPopProp = 0.20\n",
    "minPopMeanDiff = 0.4\n",
    "minTheta = 0.70\n",
    "minSinglePopCohesion = 0.90\n",
    "minGlobalPopCohesion = 0.70\n",
    "\n",
    "#nieto\n",
    "# minPopProp = 0.15\n",
    "# minPopMeanDiff = 0.4\n",
    "# minTheta = 0.70\n",
    "# minSinglePopCohesion = 0.90\n",
    "# minGlobalPopCohesion = 0.70\n",
    "\n",
    "##################################"
   ]
  },
  {
   "cell_type": "code",
   "execution_count": null,
   "id": "4e3b8294",
   "metadata": {},
   "outputs": [],
   "source": []
  },
  {
   "cell_type": "code",
   "execution_count": null,
   "id": "51e6aaf2",
   "metadata": {},
   "outputs": [],
   "source": []
  },
  {
   "cell_type": "code",
   "execution_count": null,
   "id": "c4e07d34",
   "metadata": {},
   "outputs": [],
   "source": []
  },
  {
   "cell_type": "markdown",
   "id": "1d5f8040",
   "metadata": {},
   "source": [
    "### Código: 1ª For Loop MATLAB"
   ]
  },
  {
   "cell_type": "code",
   "execution_count": null,
   "id": "eb4a2634",
   "metadata": {},
   "outputs": [],
   "source": [
    "%%%%%%%%%%%%%%%%%%%%%%%\n",
    "\n",
    "[n_rows, n_cols] = size(Z);\n",
    "\twinW16 = 16;\twinW32 = 2*16;\t\twinW48 = 3*16;\n",
    "\ts = 0;\t\t\t\t% s = 1 means subwindows do NOT share a common border. With s = 0 they do.\n",
    "\txSide16 = winW16 * head(8);\n",
    "\tySide16 = winW16 * head(9);\n",
    "\txSide32 = (winW32 - s) * head(8);\t\t\t% X and Y sizes of the 32x32 window in real coordinates\n",
    "\tySide32 = (winW32 - s) * head(9);\t\t\t% -1 because coords are in grid registration\n",
    "\tnWinRows = floor(n_rows / winW16);\t\tnWinCols = floor(n_cols / winW16);\n",
    "\tfor (wRow = 1:nWinRows-2)\n",
    "\t\tr1 = (wRow - 1) * winW16 + 1;\t\tr2 = r1 + winW48 - s;\t% Start and stop indices and coords of current window\n",
    "\t\ty0 = head(3) + (wRow-1) * ySide16;\t\t\t\t%y1 = y0 + (winW48-1) * head(9);\n",
    "\t\tfor (wCol = 1:nWinCols-2)\n",
    "\t\t\tc1 = (wCol - 1) * winW16 + 1;\tc2 = c1 + winW48 - s;\n",
    "\t\t\tx0 = head(1) + (wCol-1) * xSide16;\t\t\t%x1 = x0 + (winW48-1) * head(8);\n",
    "\t\t\twPad = Z(r1:r2, c1:c2);\t\t\t\t\t\t% 48x49 (or 48x48 if s == 1) Window\n",
    "\t\t\t% |4|3|\n",
    "\t\t\t% |1|2|\n",
    "\t\t\t% Rows and columns of the 4 sub-windows (avoids a double loop). We loop along the order of the\n",
    "\t\t\t% above sketch. There will be a common region when we slide the 33x33 window with shifts of 16\n",
    "\t\t\t% When we at 1 (a 33x33 window) that common zone is depicted at position 1 form the sketch below,\n",
    "\t\t\t% and so forth for the other three positions.\n",
    "\t\t\trr = [1 1 2 2];\t\tcc = [1 2 2 1];\n",
    "\n",
    "\t\t\t% Set the index of the four corner windows of 17x17 representing each the same physical region\n",
    "\t\t\t% when we loop 4 times the sliding window of 33x33 in the larger 49x49 window (above sketch).\n",
    "\t\t\t% |2|1|\n",
    "\t\t\t% |3|4|\n",
    "\t\t\tif (s == 1),\tcorners = [17 32 17 32; 17 32 1 16; 1 16 1 16; 1 16 17 32];\t\t% Less good\n",
    "\t\t\telse\t\t\tcorners = [17 33 17 33; 17 33 1 17; 1 17 1 17; 1 17 17 33];\n",
    "\t\t\tend\n",
    "\n",
    "\t\t\tfor (k = 1:4)\t\t\t\t\t% Loop over the 4 sliding 32x32 sub-windows of the larger 48x48 one.\n",
    "\t\t\t\tm1 = (rr(k) - 1) * winW16 + 1;\t\t\tm2 = m1 + 2*winW16 - s;\t\t% indices of the sliding 33x33 window\n",
    "\t\t\t\tn1 = (cc(k) - 1) * winW16 + 1;\t\t\tn2 = n1 + 2*winW16 - s;\n",
    "\t\t\t\tw = double((wPad(m1:m2, n1:n2)));\t\t\t\t\t% Sub-window with size 33x33\n",
    "\t\t\t\tsubWinX0 = x0 + (cc(k)-1) * xSide16;\tsubWinX1 = subWinX0 + xSide32;\t% Corner coordinates\n",
    "\t\t\t\tsubWinY0 = y0 + (rr(k)-1) * ySide16;\tsubWinY1 = subWinY0 + ySide32;\n",
    "\t\t\t\tR = [subWinX0 subWinX1 subWinY0 subWinY1];\n",
    "\t\t\t\t[x, y, z, exitType] = getFrontInWindow(w, R, minTheta, minPopProp, minPopMeanDiff, ...\n",
    "\t\t\t\t\t\t\t\t\t\t\t\t\t   minSinglePopCohesion, minGlobalPopCohesion, corners(k,:));\n",
    "\t\t\t\tif (~exitType)       #terminates MATLAB program (same as quit)\n",
    "\t\t\t\t\th=line('XData',x, 'YData',y, 'userdata',z, 'Tag','SSTfront');\n",
    "\t\t\t\t\t%rectX = [subWinX0 subWinX0 subWinX1 subWinX1 subWinX0];\n",
    "\t\t\t\t\t%rectY = [subWinY0 subWinY1 subWinY1 subWinY0 subWinY0];\n",
    "\t\t\t\t\t%hl = line('XData',rectX, 'YData',rectY, 'Parent',hMirHand.axes1);\n",
    "\t\t\t\t\t%hl = line('XData',[x0 x0 x1 x1 x0], 'YData',[y0 y1 y1 y0 y0], 'Parent',hMirHand.axes1);\n",
    "\t\t\t\t\t%draw_funs(hl,'line_uicontext')\t\t% Set lines's uicontextmenu\n",
    "\t\t\t\tend\n",
    "\t\t\tend\n",
    "\n",
    "\t\tend\n",
    "\t\tdrawnow\n",
    "    end\n",
    "% ---------------------------------------------------------------------------------------------------\n"
   ]
  },
  {
   "cell_type": "code",
   "execution_count": null,
   "id": "e23edec4",
   "metadata": {},
   "outputs": [],
   "source": []
  },
  {
   "cell_type": "markdown",
   "id": "e20e46e5",
   "metadata": {},
   "source": [
    "#### Código: 1ª For Loop Python (passo a passo)"
   ]
  },
  {
   "cell_type": "code",
   "execution_count": 24,
   "id": "21f76d98",
   "metadata": {},
   "outputs": [],
   "source": [
    "[n_rows, n_cols] = Z.shape\n",
    "winW16 = 16\n",
    "winW32 = 16*2\n",
    "winW48 = 16*3\n",
    "\n",
    "s=0 #s=1 means subwindows do NOT share a common border. With s = 0 they do.\n",
    "\n",
    "xSide16 = winW16*head[7]\n",
    "ySide16 = winW16*head[8]\n",
    "xSide32 = (winW32 - s) * head[7]\n",
    "ySide32 = (winW32 - s) * head[8]\n",
    "\n",
    "nWinRows = math.floor(n_rows/winW16)\n",
    "nWinCols = math.floor(n_cols/winW16)\n",
    "\n",
    "wRow=1\n",
    "wCol=1\n",
    "for wRow in range(1, nWinRows-3):\n",
    "    r1 = (wRow-1) * winW16 + 1;\n",
    "    r2 = r1 + winW48 -s     #start and stop indices and coords of current window\n",
    "    y0 = head[2] + (wRow-1)*ySide    #y1 = y0 + (winW48-1)*head[8]\n",
    "    \n",
    "    for wCol in range(1, nWinCols-3):\n",
    "        c1 = (wCol - 1)*winW16+1\n",
    "        c2 = c1 + winW48 - s\n",
    "        x0 = head[0] + (wCol-1) * xSide16     #x1 = x0 + (winW48-1)*head[7]\n",
    "        wPad = Z[r1-1:r2, c1-1:c2]\n",
    "        \n",
    "        rr = np.array([1,1,2,2])\n",
    "        cc = np.array([1,2,2,1])\n",
    "        \n",
    "        if s==1:\n",
    "            corners = np.array([[17, 32, 17, 32], [17, 32, 1, 16], [1, 16, 1, 16], [1, 16, 17, 32]])  #less good\n",
    "        else:\n",
    "            corners = np.array([[17, 33, 17, 33], [17, 33, 1, 17], [1, 17, 1, 17], [1, 17, 17, 33]])\n",
    "            \n",
    "        for k in range(1:5):     #loop over the 4 slidding 32X32 sub-windows of the larger 48x48 one\n",
    "            m1 = (rr[k] - 1) * winW16 + 1\n",
    "            m2 = m1 + 2 * winW16 - s             #indices of the slidding 33X33 window\n",
    "            ni = (cc[k] - 1) * winW16 + 1\n",
    "            n2 = n1 + 2 * winW16 - s\n",
    "            \n",
    "            w = wPad[m1-1:m2, n1-1:n2].astype('double')      #sub window with size 33x33\n",
    "            \n",
    "            subWinX0 = X0 + (cc[k] - 1) * xSide16\n",
    "            subWinX1 = subWinX0 + xSide32\n",
    "            \n",
    "            subWinY0 = y0 + (rr[k] - 1) * ySide16\n",
    "            subWinY1 = subWinY0 + ySide32\n",
    "            \n",
    "            R = np.array([subWinX0, subWinX1, subWinY0, subWinY1])\n",
    "        "
   ]
  },
  {
   "cell_type": "code",
   "execution_count": null,
   "id": "2acdba03",
   "metadata": {},
   "outputs": [],
   "source": []
  },
  {
   "cell_type": "code",
   "execution_count": 31,
   "id": "5765f41c",
   "metadata": {},
   "outputs": [
    {
     "data": {
      "text/plain": [
       "6"
      ]
     },
     "execution_count": 31,
     "metadata": {},
     "output_type": "execute_result"
    }
   ],
   "source": [
    "n_cols"
   ]
  },
  {
   "cell_type": "code",
   "execution_count": 40,
   "id": "53d90ddc",
   "metadata": {},
   "outputs": [],
   "source": [
    "w_PAD = Z[4:10, 2:5].astype('double')"
   ]
  },
  {
   "cell_type": "code",
   "execution_count": 41,
   "id": "159160ef",
   "metadata": {},
   "outputs": [
    {
     "data": {
      "text/plain": [
       "array([[3., 4., 5.],\n",
       "       [1., 1., 1.],\n",
       "       [3., 4., 5.],\n",
       "       [1., 1., 1.],\n",
       "       [3., 4., 5.],\n",
       "       [1., 1., 1.]])"
      ]
     },
     "execution_count": 41,
     "metadata": {},
     "output_type": "execute_result"
    }
   ],
   "source": [
    "w_PAD"
   ]
  },
  {
   "cell_type": "code",
   "execution_count": null,
   "id": "b8ab4199",
   "metadata": {},
   "outputs": [],
   "source": []
  },
  {
   "cell_type": "code",
   "execution_count": null,
   "id": "b0cce9b3",
   "metadata": {},
   "outputs": [],
   "source": []
  },
  {
   "cell_type": "code",
   "execution_count": null,
   "id": "8510c2c7",
   "metadata": {},
   "outputs": [],
   "source": []
  },
  {
   "cell_type": "markdown",
   "id": "bec0ab36",
   "metadata": {},
   "source": [
    "### Código: function getFrontInWindow() MATLAB"
   ]
  },
  {
   "cell_type": "code",
   "execution_count": null,
   "id": "57594b27",
   "metadata": {},
   "outputs": [],
   "source": [
    "%% função especifica. Pode ficar noutro ficheiro e ser chamada\n",
    "function [xdata, ydata, z, exitType] = getFrontInWindow(w, head, minTheta, minPopProp, minPopMeanDiff, ...\n",
    "                                       minSinglePopCohesion, minGlobalPopCohesion, corners)\n",
    "% ...\n",
    "% If CORNERS exist than it holds the start and stop index of 1/4 sub-window of W inside which\n",
    "% we will retain the fronts found. Detections outside this sub-window are ignored\n",
    "%\n",
    "% Here we follow, patially, what is donne in MGET (FrontUtils.cpp by Jason Roberts) that in turn,\n",
    "% according to program's notes, followed an original Fortran code by Dave Ulman.\n",
    "\n",
    "\tif (nargin < 8),\tcorners = [];\tend\n",
    "\txdata = [];\t\tydata = [];\t\tz = [];\t\texitType = 0;\n",
    "\n",
    "\tmask = isnan(w);\t\n",
    "\thaveNaNs = any(mask(:));\n",
    "\tn_NaNs = 0;\n",
    "\tif (haveNaNs)\n",
    "\t\tn_NaNs = sum(mask(:));\n",
    "\t\tif (n_NaNs / numel(w) > 0.5)\t\t\t% Window must be at least > half filled\n",
    "\t\t\texitType = -1;\n",
    "\t\t\treturn\n",
    "\t\tend\n",
    "\tend\n",
    "\n",
    "\tmi_ma = double([min(w(:)) max(w(:))]);\t\t\n",
    "\tn = ceil(diff(mi_ma) / 0.02);\n",
    "% \t[y,xout] = histo_m('hist',w(:), n, mi_ma); o hist funciona\n",
    "    [y,xout] = hist(w(:),n,mi_ma);  % esta é a função histograma do MATLAB. deve haver algo parecido no python\n",
    "\n",
    "\tthresValue = xout(1);\ttotalCount = numel(w) - n_NaNs;\n",
    "\tthreshPopACount = 0;\tthreshSeparation = -1;\n",
    "\tthreshPopAMean = 0;\t\tthreshPopBMean = 0;\n",
    "\n",
    "\tw(mask) = 0;\t\t\t\t% Replace NaNs with 0's\n",
    "\ttotalSum = sum(w(:));\n",
    "\ttotalSumSquares = sum(w(:) .* w(:));\n",
    "\n",
    "\tfor (k = 2:n-1)\t\t\t\t% Ignore first and last as candidates\n",
    "\t\tpopASum = sum(y(1:k) .* xout(1:k));\n",
    "\t\tpopBSum = sum(y(k+1:end) .* xout(k+1:end));\n",
    "\t\tpopACount = sum(y(1:k));\n",
    "\t\tpopBCount = sum(y(k+1:end));\n",
    "\n",
    "\t\tpopAMean = popASum / popACount;\n",
    "\t\tpopBMean = popBSum / popBCount;\n",
    "\t\tseparation = popACount * popBCount * (popAMean - popBMean) * (popAMean - popBMean);\n",
    "\t\tif (separation > threshSeparation)\n",
    "\t\t\tthreshSeparation = separation;\n",
    "\t\t\tthresValue = xout(k);\n",
    "\t\t\tthreshPopACount = popACount;\n",
    "\t\t\tthreshPopAMean = popAMean;\n",
    "\t\t\tthreshPopBMean = popBMean;\n",
    "\t\tend\n",
    "\tend\n",
    "\n",
    "\t% Continue only if the proportional size of the smaller population exceeds the minimum allowed value.\n",
    "\t% This test corresponds to equation 14 in Cayula-Cornillon\n",
    "\tif (threshPopACount / totalCount < minPopProp)\n",
    "\t\texitType = 1;\n",
    "\t\treturn\n",
    "\tend\n",
    "\tif (1.0 - threshPopACount / totalCount < minPopProp)\n",
    "\t\texitType = 1;\n",
    "\t\treturn\n",
    "\tend\n",
    "\t% Abort this window if the difference in the populations' means is less than a minimum value.\n",
    "\tif (threshPopBMean - threshPopAMean < minPopMeanDiff)\n",
    "\t\texitType = 2;\n",
    "\t\treturn\n",
    "\tend\n",
    "\n",
    "\t% Calculate the criterion function THETA(TAUopt) discussed on page 72 of the paper.\n",
    "\ttotalMean = totalSum / totalCount;\n",
    "\tvariance = totalSumSquares - (totalMean * totalMean * totalCount);\n",
    "\ttheta = threshSeparation / (variance * totalCount);\n",
    "\tif (theta < minTheta)\n",
    "\t\texitType = 3;\n",
    "\t\treturn\n",
    "\tend\n",
    "\n",
    "\t% Cohesion\n",
    "\t% Count the number of times a population A cell is immediately adjacent to another population A cell,\n",
    "\t% and the same for population B. A cell can be adjacent on four sides. Count only two of them\n",
    "\t% (bottom and right side) because doing all four would be redundant. Do not count diagonal neighbors.\n",
    "\tcountANextToA = 0;\t\tcountBNextToB = 0;\n",
    "\tcountANextToAOrB = 0;\tcountBNextToAOrB = 0;\n",
    "\t[n_rows, n_cols] = size(w);\n",
    "\tfor (col = 1:n_cols-1)\n",
    "\t\tfor (row = 1:n_rows-1)\n",
    "\t\t\tif (haveNaNs && (mask(row,col) || mask(row+1,col) || mask(row, col + 1)))\n",
    "\t\t\t\tcontinue\n",
    "\t\t\tend\n",
    "\t\t\t% Examine the bottom neighbor\n",
    "\t\t\tif (w(row,col) <= thresValue)\n",
    "\t\t\t\tcountANextToAOrB = countANextToAOrB + 1;\n",
    "\t\t\t\tif (w(row + 1, col) <= thresValue)\n",
    "\t\t\t\t\tcountANextToA = countANextToA + 1;\n",
    "\t\t\t\tend\n",
    "\t\t\telse\n",
    "\t\t\t\tcountBNextToAOrB = countBNextToAOrB + 1;\n",
    "\t\t\t\tif (w(row + 1, col) > thresValue)\n",
    "\t\t\t\t\tcountBNextToB = countBNextToB + 1;\n",
    "\t\t\t\tend\n",
    "\t\t\tend\n",
    "\t\t\t% Examine the right neighbor\n",
    "\t\t\tif (w(row,col) <= thresValue)\n",
    "\t\t\t\tcountANextToAOrB = countANextToAOrB + 1;\n",
    "\t\t\t\tif (w(row, col + 1) <= thresValue)\n",
    "\t\t\t\t\tcountANextToA = countANextToA + 1;\n",
    "\t\t\t\tend\n",
    "\t\t\telse\n",
    "\t\t\t\tcountBNextToAOrB = countBNextToAOrB + 1;\n",
    "\t\t\t\tif (w(row, col + 1) > thresValue)\n",
    "\t\t\t\t\tcountBNextToB = countBNextToB + 1;\n",
    "\t\t\t\tend\n",
    "\t\t\tend\n",
    "\n",
    "\t\tend\n",
    "\tend\n",
    "\t\n",
    "\tpopACohesion = countANextToA / countANextToAOrB;\n",
    "\tpopBCohesion = countBNextToB / countBNextToAOrB;\n",
    "\tglobalCohesion = (countANextToA + countBNextToB) / (countANextToAOrB + countBNextToAOrB);\n",
    "\tif (popACohesion < minSinglePopCohesion)\n",
    "\t\texitType = 4;\n",
    "\t\treturn\n",
    "\tend\n",
    "\tif (popBCohesion < minSinglePopCohesion)\n",
    "\t\texitType = 4;\n",
    "\t\treturn\n",
    "\tend\n",
    "\tif (globalCohesion < minGlobalPopCohesion)\n",
    "\t\texitType = 4;\n",
    "\t\treturn\n",
    "\tend\n",
    "\n",
    "\t% OK, if we reach here we have a front. Compute its contour. This part is not discussed in any\n",
    "\t% of the papers I saw and is different from the aproach followed in MGET.\n",
    "\tX = linspace(head(1),head(2), n_cols);\n",
    "\tY = linspace(head(3),head(4), n_rows);\n",
    "\tif (isempty(corners))\t\t% Use the full window\n",
    "\t\tw = double(w);\t\t\t% It has to be because of the contourc\n",
    "\t\tif (haveNaNs)\n",
    "\t\t\tw(w == 0) = NaN;\t% Need to restore the NaNs to not invent new contours around zeros\n",
    "\t\tend\n",
    "\t\tc = contourc(X,Y,w,[thresValue thresValue]);\n",
    "\telse\n",
    "\t\t% The four corners have these indices [17 32 17 32; 17 32 1 16; 1 16 1 16; 1 16 17 32]\n",
    "\t\t% and the variable corners has one of its rows (the current to be retained sub-window)\n",
    "\t\tX = X(corners(3):corners(4));\n",
    "\t\tY = Y(corners(1):corners(2));\n",
    "\t\tw = double(w(corners(1):corners(2), corners(3):corners(4)));\n",
    "\t\tif (haveNaNs)\n",
    "\t\t\tw(w == 0) = NaN;\n",
    "\t\tend\n",
    "\t\tif (~all(all(isnan(w))))    % Sometimes w is all NaNs, which would screw later.\n",
    "\t\t\tc = contourc(X,Y,w,[thresValue thresValue]);\n",
    "\t\telse\n",
    "\t\t\tc = [];\n",
    "\t\tend\n",
    "\tend\n",
    "\tlimit = size(c,2);\n",
    "\ti = 1;\n",
    "\twhile(i < limit)\n",
    "\t\tnpoints = c(2,i);\n",
    "\t\tx = c(1,i+1:i+npoints);\t\ty = c(2,i+1:i+npoints);\n",
    "\t\tif (x(1) == x(end) || npoints < 7)\t\t% We don't want closed lines nor very short ones\n",
    "\t\t\ti = i+npoints+1;\n",
    "\t\t\tcontinue\n",
    "\t\tend\n",
    "\t\tif (isempty(xdata))\t\t\t% First contour\n",
    "\t\t\txdata = x;\tydata = y;\n",
    "\t\telse\n",
    "\t\t\txdata = [xdata NaN x];\n",
    "\t\t\tydata = [ydata NaN y];\n",
    "\t\tend\n",
    "\t\ti = i+npoints+1;\n",
    "\t\t%xdata = c(1,2:npoints+1);\t\tydata = c(2,2:npoints+1);\n",
    "\tend\n",
    "\tz = thresValue;\n",
    "\t\n",
    "\tif (isempty(xdata))\n",
    "\t\texitType = 5;\n",
    "    end \n",
    "end"
   ]
  },
  {
   "cell_type": "code",
   "execution_count": null,
   "id": "3227323b",
   "metadata": {},
   "outputs": [],
   "source": []
  },
  {
   "cell_type": "markdown",
   "id": "dbe34181",
   "metadata": {},
   "source": [
    "### Código: function getFrontInWindow() in Python (passo a passo)"
   ]
  },
  {
   "cell_type": "code",
   "execution_count": null,
   "id": "9a0a0615",
   "metadata": {},
   "outputs": [],
   "source": [
    "def getFrontInWindow(w, head, minTheta, minPopProp, minPopMeanDiff, minSinglePopCohesion, \n",
    "                     minGlobalPopCohesion, corners):\n",
    "    \n",
    "    if nargin<8:\n",
    "        corners = []\n",
    "        \n",
    "    xdata=[]\n",
    "    ydata=[]\n",
    "    z=[]\n",
    "    #exitType=0\n",
    "    \n",
    "    mask = np.isnan(w).astype('int')   #if is nan convert to 1 if its not nan convert to 0\n",
    "    haveNaNs = np.any(mask[:]).astype('int')\n",
    "    n_NaNs=0\n",
    "    \n",
    "    if haveNaNs:\n",
    "        n_NaNs = sum(mask.flatten()[:])\n",
    "        if (n_NaNs/len(w.flatten())>0.5):     #window must be at least > half filled\n",
    "            exitType=-1\n",
    "            break\n",
    "            return\n",
    "        \n",
    "    mi_ma = [np.nanmin(w), np.nanmax(w)]\n",
    "    n = math.ceil((mi_ma[1]-mi_ma[0])/0.02)\n",
    "    [y, xout] = np.histogram(w[:], n, mi_ma)    #y->frequency counts, Xout->bin location\n",
    "    #xout = xout[:-1]     #len(xout) is 1 more than len(y) so i will drop the last element of xout\n",
    "    \n",
    "    thresValue = xout[0]\n",
    "    totalCount = len(w.flatten()) - n_NaNs\n",
    "    threshPopACount = 0\n",
    "    threshSeparation = -1\n",
    "    threshPopAMean = 0\n",
    "    threshPopBMean = 0\n",
    "    \n",
    "    w[mask] =0     #Replace NaNs with 0's\n",
    "    totalSum = sum(w.flatten())\n",
    "    totalSumSquares = sum(w.flatten()*w.flatten())\n",
    "    \n",
    "    for k in range(1,n-1):     #ignore the first and last candidates (senão seria de 0 a n)\n",
    "        popASum = sum(y[0:k] * xout[0:k])\n",
    "        popBSum = sum(y[k+1:] * xout[k+1:])\n",
    "        \n",
    "        \n",
    "        \n",
    "        \n",
    "        "
   ]
  },
  {
   "cell_type": "code",
   "execution_count": 419,
   "id": "1d257a0f",
   "metadata": {},
   "outputs": [],
   "source": [
    "mask = np.array([[0, 0, 0, 1, 0, 1, 0, 0, 1], [0, 1, 0, 1, 0, 0, 1, 0, 1], [0, 0, 0, 1, 0, 1, 0, 0, 1]], dtype='bool')"
   ]
  },
  {
   "cell_type": "code",
   "execution_count": 420,
   "id": "c4e8f29d",
   "metadata": {},
   "outputs": [],
   "source": [
    "w = np.array([[1,2,3,4,5,np.nan,1,1,2], [1,2,3,4,0,6,0,1,2], [1,2,3,4,10,6,0,1,2]])"
   ]
  },
  {
   "cell_type": "code",
   "execution_count": null,
   "id": "8431b226",
   "metadata": {},
   "outputs": [],
   "source": []
  },
  {
   "cell_type": "code",
   "execution_count": 421,
   "id": "f6e6c130",
   "metadata": {},
   "outputs": [],
   "source": [
    "        \n",
    "xdata=[]\n",
    "ydata=[]\n",
    "z=[]\n",
    "#exitType=0\n",
    "    \n",
    "#mask = np.isnan(w).astype('int')   #if is nan convert to 1 if its not nan convert to 0\n",
    "haveNaNs = np.any(mask[:]).astype('int')\n",
    "n_NaNs=0\n",
    "    \n",
    "#if haveNaNs:\n",
    "n_NaNs = sum(mask.flatten()[:])\n",
    " #   if (n_NaNs/len(w.flatten())>0.5):     #window must be at least > half filled\n",
    "        #exitType=-1\n",
    "  #      break\n",
    "   #     return\n",
    "        \n",
    "mi_ma = [np.nanmin(w), np.nanmax(w)]\n",
    "n = math.ceil((mi_ma[1]-mi_ma[0])/0.02)\n",
    "[y, xout] = np.histogram(w[:], n, mi_ma)    #y->frequency counts, Xout->bin location \n",
    "xout = xout[:-1]     #len(xout) is 1 more than len(y) so i will drop the last element of xout\n",
    "    \n",
    "thresValue = xout[0]\n",
    "totalCount = len(w.flatten()) - n_NaNs\n",
    "threshPopACount = 0\n",
    "threshSeparation = -1\n",
    "threshPopAMean = 0\n",
    "threshPopBMean = 0\n",
    "    \n",
    "w[mask] =0     #Replace NaNs with 0's\n",
    "totalSum = sum(w.flatten())\n",
    "totalSumSquares = sum(w.flatten()*w.flatten())\n",
    "    \n",
    "for k in range(1,n-1):     #ignore the first and last candidates (senão seria de 0 a n)\n",
    "    popASum = sum(y[0:k] * xout[0:k])\n",
    "    popBSum = sum(y[k+1:] * xout[k+1:])\n",
    "    popACount = sum(y[0:k])\n",
    "    popBCount = sum(y[k+1:])\n",
    "    \n",
    "    popAMean = popASum/popACount\n",
    "    popBMean = popBSum/popBCount\n",
    "    separation = popACount * popBCount * (popAMean - popBMean) * (popAMean - popBMean)\n",
    "    if separation>threshSeparation:\n",
    "        threshSeparation = separation\n",
    "        thresValue = xout[k]\n",
    "        threshPopACount = popACount\n",
    "        threshPopAMean = popAMean\n",
    "        threshPopBMean = popBMean"
   ]
  },
  {
   "cell_type": "code",
   "execution_count": 423,
   "id": "987db6ec",
   "metadata": {},
   "outputs": [
    {
     "data": {
      "text/plain": [
       "2.28"
      ]
     },
     "execution_count": 423,
     "metadata": {},
     "output_type": "execute_result"
    }
   ],
   "source": [
    "popAMean = popASum/popACount\n",
    "popAMean"
   ]
  },
  {
   "cell_type": "code",
   "execution_count": 410,
   "id": "aa300576",
   "metadata": {},
   "outputs": [
    {
     "data": {
      "text/plain": [
       "9.98"
      ]
     },
     "execution_count": 410,
     "metadata": {},
     "output_type": "execute_result"
    }
   ],
   "source": [
    "popBMean = popBSum/popBCount\n",
    "popBMean"
   ]
  },
  {
   "cell_type": "code",
   "execution_count": 422,
   "id": "297f1f91",
   "metadata": {},
   "outputs": [
    {
     "data": {
      "text/plain": [
       "3"
      ]
     },
     "execution_count": 422,
     "metadata": {},
     "output_type": "execute_result"
    }
   ],
   "source": [
    "y[0]"
   ]
  },
  {
   "cell_type": "code",
   "execution_count": 425,
   "id": "adbcd455",
   "metadata": {},
   "outputs": [
    {
     "data": {
      "text/plain": [
       "9.98"
      ]
     },
     "execution_count": 425,
     "metadata": {},
     "output_type": "execute_result"
    }
   ],
   "source": [
    "xout[k+1]"
   ]
  },
  {
   "cell_type": "code",
   "execution_count": 312,
   "id": "6c621faf",
   "metadata": {},
   "outputs": [
    {
     "data": {
      "text/plain": [
       "array([False, False, False,  True, False,  True, False, False,  True,\n",
       "       False,  True, False,  True, False, False,  True, False,  True,\n",
       "       False, False, False,  True, False,  True, False, False,  True])"
      ]
     },
     "execution_count": 312,
     "metadata": {},
     "output_type": "execute_result"
    }
   ],
   "source": [
    "mask.flatten()"
   ]
  },
  {
   "cell_type": "code",
   "execution_count": 313,
   "id": "c43fbf60",
   "metadata": {},
   "outputs": [
    {
     "data": {
      "text/plain": [
       "array([[False, False, False,  True, False,  True, False, False,  True],\n",
       "       [False,  True, False,  True, False, False,  True, False,  True],\n",
       "       [False, False, False,  True, False,  True, False, False,  True]])"
      ]
     },
     "execution_count": 313,
     "metadata": {},
     "output_type": "execute_result"
    }
   ],
   "source": []
  },
  {
   "cell_type": "code",
   "execution_count": null,
   "id": "def6a3bc",
   "metadata": {},
   "outputs": [],
   "source": []
  },
  {
   "cell_type": "code",
   "execution_count": null,
   "id": "bc5b65b1",
   "metadata": {},
   "outputs": [],
   "source": []
  },
  {
   "cell_type": "code",
   "execution_count": null,
   "id": "c7208530",
   "metadata": {},
   "outputs": [],
   "source": []
  },
  {
   "cell_type": "code",
   "execution_count": null,
   "id": "3a257d79",
   "metadata": {},
   "outputs": [],
   "source": []
  },
  {
   "cell_type": "code",
   "execution_count": null,
   "id": "2e895d21",
   "metadata": {},
   "outputs": [],
   "source": []
  },
  {
   "cell_type": "code",
   "execution_count": null,
   "id": "47f9ba79",
   "metadata": {},
   "outputs": [],
   "source": []
  },
  {
   "cell_type": "code",
   "execution_count": null,
   "id": "9a3bd8a1",
   "metadata": {},
   "outputs": [],
   "source": []
  },
  {
   "cell_type": "code",
   "execution_count": null,
   "id": "e60ffc1d",
   "metadata": {},
   "outputs": [],
   "source": []
  },
  {
   "cell_type": "code",
   "execution_count": null,
   "id": "b9b16f1f",
   "metadata": {},
   "outputs": [],
   "source": []
  },
  {
   "cell_type": "code",
   "execution_count": null,
   "id": "38fb0d3c",
   "metadata": {},
   "outputs": [],
   "source": []
  }
 ],
 "metadata": {
  "kernelspec": {
   "display_name": "Python 3 (ipykernel)",
   "language": "python",
   "name": "python3"
  },
  "language_info": {
   "codemirror_mode": {
    "name": "ipython",
    "version": 3
   },
   "file_extension": ".py",
   "mimetype": "text/x-python",
   "name": "python",
   "nbconvert_exporter": "python",
   "pygments_lexer": "ipython3",
   "version": "3.8.10"
  }
 },
 "nbformat": 4,
 "nbformat_minor": 5
}
