{
 "cells": [
  {
   "cell_type": "code",
   "execution_count": 1,
   "id": "d9e02719",
   "metadata": {},
   "outputs": [],
   "source": [
    "import pandas as pd\n",
    "import numpy as np\n",
    "import matplotlib.pyplot as plt\n",
    "import seaborn as sns\n",
    "import netCDF4 as nc\n",
    "import xarray as xr\n",
    "import os\n",
    "from pathlib import Path\n",
    "from numpy import nanmedian\n",
    "import scipy\n",
    "import scipy.signal\n",
    "import math\n",
    "from numpy.fft import fft2\n",
    "import cmocean\n",
    "import matplotlib\n",
    "plt.rcParams[\"figure.figsize\"] = 10, 8\n",
    "%matplotlib inline"
   ]
  },
  {
   "cell_type": "code",
   "execution_count": null,
   "id": "566e1ee2",
   "metadata": {},
   "outputs": [],
   "source": []
  },
  {
   "cell_type": "code",
   "execution_count": 2,
   "id": "a6c4a2f6",
   "metadata": {},
   "outputs": [
    {
     "data": {
      "text/plain": [
       "'/home/luisfigueiredo/JUNO/notebooks'"
      ]
     },
     "execution_count": 2,
     "metadata": {},
     "output_type": "execute_result"
    }
   ],
   "source": [
    "current_path = os.getcwd()\n",
    "current_path"
   ]
  },
  {
   "cell_type": "code",
   "execution_count": 3,
   "id": "1613e456",
   "metadata": {},
   "outputs": [
    {
     "data": {
      "text/plain": [
       "'/home/luisfigueiredo/JUNO/notebooks/../data'"
      ]
     },
     "execution_count": 3,
     "metadata": {},
     "output_type": "execute_result"
    }
   ],
   "source": [
    "\n",
    "data_folder = os.path.join(current_path,\"../data\")\n",
    "data_folder"
   ]
  },
  {
   "cell_type": "code",
   "execution_count": 7,
   "id": "513a8e0d",
   "metadata": {},
   "outputs": [],
   "source": [
    "nc_path = os.path.join(data_folder, \"AQUA_MODIS.20220209T133501.L2.SST.NRT.nc\")"
   ]
  },
  {
   "cell_type": "code",
   "execution_count": 8,
   "id": "67a30b68",
   "metadata": {},
   "outputs": [
    {
     "data": {
      "text/plain": [
       "'/home/luisfigueiredo/JUNO/notebooks/../data/AQUA_MODIS.20220209T133501.L2.SST.NRT.nc'"
      ]
     },
     "execution_count": 8,
     "metadata": {},
     "output_type": "execute_result"
    }
   ],
   "source": [
    "nc_path"
   ]
  },
  {
   "cell_type": "code",
   "execution_count": null,
   "id": "f71ca364",
   "metadata": {},
   "outputs": [],
   "source": []
  },
  {
   "cell_type": "code",
   "execution_count": 10,
   "id": "d19ccfeb",
   "metadata": {},
   "outputs": [],
   "source": [
    "\n",
    "ds = xr.open_dataset(nc_path, group='geophysical_data')\n",
    "df = ds.to_dataframe()"
   ]
  },
  {
   "cell_type": "code",
   "execution_count": 11,
   "id": "260a484c",
   "metadata": {},
   "outputs": [
    {
     "data": {
      "text/html": [
       "<div>\n",
       "<style scoped>\n",
       "    .dataframe tbody tr th:only-of-type {\n",
       "        vertical-align: middle;\n",
       "    }\n",
       "\n",
       "    .dataframe tbody tr th {\n",
       "        vertical-align: top;\n",
       "    }\n",
       "\n",
       "    .dataframe thead th {\n",
       "        text-align: right;\n",
       "    }\n",
       "</style>\n",
       "<table border=\"1\" class=\"dataframe\">\n",
       "  <thead>\n",
       "    <tr style=\"text-align: right;\">\n",
       "      <th></th>\n",
       "      <th></th>\n",
       "      <th>sst</th>\n",
       "      <th>qual_sst</th>\n",
       "      <th>flags_sst</th>\n",
       "      <th>bias_sst</th>\n",
       "      <th>stdv_sst</th>\n",
       "      <th>sstref</th>\n",
       "      <th>l2_flags</th>\n",
       "    </tr>\n",
       "    <tr>\n",
       "      <th>number_of_lines</th>\n",
       "      <th>pixels_per_line</th>\n",
       "      <th></th>\n",
       "      <th></th>\n",
       "      <th></th>\n",
       "      <th></th>\n",
       "      <th></th>\n",
       "      <th></th>\n",
       "      <th></th>\n",
       "    </tr>\n",
       "  </thead>\n",
       "  <tbody>\n",
       "    <tr>\n",
       "      <th rowspan=\"5\" valign=\"top\">0</th>\n",
       "      <th>0</th>\n",
       "      <td>NaN</td>\n",
       "      <td>4.0</td>\n",
       "      <td>1.0</td>\n",
       "      <td>-18.0</td>\n",
       "      <td>-18.0</td>\n",
       "      <td>NaN</td>\n",
       "      <td>50</td>\n",
       "    </tr>\n",
       "    <tr>\n",
       "      <th>1</th>\n",
       "      <td>NaN</td>\n",
       "      <td>4.0</td>\n",
       "      <td>1.0</td>\n",
       "      <td>-18.0</td>\n",
       "      <td>-18.0</td>\n",
       "      <td>NaN</td>\n",
       "      <td>50</td>\n",
       "    </tr>\n",
       "    <tr>\n",
       "      <th>2</th>\n",
       "      <td>NaN</td>\n",
       "      <td>4.0</td>\n",
       "      <td>1.0</td>\n",
       "      <td>-18.0</td>\n",
       "      <td>-18.0</td>\n",
       "      <td>NaN</td>\n",
       "      <td>50</td>\n",
       "    </tr>\n",
       "    <tr>\n",
       "      <th>3</th>\n",
       "      <td>NaN</td>\n",
       "      <td>4.0</td>\n",
       "      <td>1.0</td>\n",
       "      <td>-18.0</td>\n",
       "      <td>-18.0</td>\n",
       "      <td>NaN</td>\n",
       "      <td>50</td>\n",
       "    </tr>\n",
       "    <tr>\n",
       "      <th>4</th>\n",
       "      <td>NaN</td>\n",
       "      <td>4.0</td>\n",
       "      <td>1.0</td>\n",
       "      <td>-18.0</td>\n",
       "      <td>-18.0</td>\n",
       "      <td>NaN</td>\n",
       "      <td>50</td>\n",
       "    </tr>\n",
       "    <tr>\n",
       "      <th>...</th>\n",
       "      <th>...</th>\n",
       "      <td>...</td>\n",
       "      <td>...</td>\n",
       "      <td>...</td>\n",
       "      <td>...</td>\n",
       "      <td>...</td>\n",
       "      <td>...</td>\n",
       "      <td>...</td>\n",
       "    </tr>\n",
       "    <tr>\n",
       "      <th rowspan=\"5\" valign=\"top\">2029</th>\n",
       "      <th>1349</th>\n",
       "      <td>NaN</td>\n",
       "      <td>4.0</td>\n",
       "      <td>1.0</td>\n",
       "      <td>-18.0</td>\n",
       "      <td>-18.0</td>\n",
       "      <td>-3.0</td>\n",
       "      <td>33619984</td>\n",
       "    </tr>\n",
       "    <tr>\n",
       "      <th>1350</th>\n",
       "      <td>NaN</td>\n",
       "      <td>4.0</td>\n",
       "      <td>1.0</td>\n",
       "      <td>-18.0</td>\n",
       "      <td>-18.0</td>\n",
       "      <td>-3.0</td>\n",
       "      <td>33619984</td>\n",
       "    </tr>\n",
       "    <tr>\n",
       "      <th>1351</th>\n",
       "      <td>NaN</td>\n",
       "      <td>4.0</td>\n",
       "      <td>1.0</td>\n",
       "      <td>-18.0</td>\n",
       "      <td>-18.0</td>\n",
       "      <td>-3.0</td>\n",
       "      <td>33619984</td>\n",
       "    </tr>\n",
       "    <tr>\n",
       "      <th>1352</th>\n",
       "      <td>NaN</td>\n",
       "      <td>4.0</td>\n",
       "      <td>1.0</td>\n",
       "      <td>-18.0</td>\n",
       "      <td>-18.0</td>\n",
       "      <td>-3.0</td>\n",
       "      <td>33619984</td>\n",
       "    </tr>\n",
       "    <tr>\n",
       "      <th>1353</th>\n",
       "      <td>NaN</td>\n",
       "      <td>4.0</td>\n",
       "      <td>1.0</td>\n",
       "      <td>-18.0</td>\n",
       "      <td>-18.0</td>\n",
       "      <td>-3.0</td>\n",
       "      <td>33619984</td>\n",
       "    </tr>\n",
       "  </tbody>\n",
       "</table>\n",
       "<p>2748620 rows × 7 columns</p>\n",
       "</div>"
      ],
      "text/plain": [
       "                                 sst  qual_sst  flags_sst  bias_sst  stdv_sst  \\\n",
       "number_of_lines pixels_per_line                                                 \n",
       "0               0                NaN       4.0        1.0     -18.0     -18.0   \n",
       "                1                NaN       4.0        1.0     -18.0     -18.0   \n",
       "                2                NaN       4.0        1.0     -18.0     -18.0   \n",
       "                3                NaN       4.0        1.0     -18.0     -18.0   \n",
       "                4                NaN       4.0        1.0     -18.0     -18.0   \n",
       "...                              ...       ...        ...       ...       ...   \n",
       "2029            1349             NaN       4.0        1.0     -18.0     -18.0   \n",
       "                1350             NaN       4.0        1.0     -18.0     -18.0   \n",
       "                1351             NaN       4.0        1.0     -18.0     -18.0   \n",
       "                1352             NaN       4.0        1.0     -18.0     -18.0   \n",
       "                1353             NaN       4.0        1.0     -18.0     -18.0   \n",
       "\n",
       "                                 sstref  l2_flags  \n",
       "number_of_lines pixels_per_line                    \n",
       "0               0                   NaN        50  \n",
       "                1                   NaN        50  \n",
       "                2                   NaN        50  \n",
       "                3                   NaN        50  \n",
       "                4                   NaN        50  \n",
       "...                                 ...       ...  \n",
       "2029            1349               -3.0  33619984  \n",
       "                1350               -3.0  33619984  \n",
       "                1351               -3.0  33619984  \n",
       "                1352               -3.0  33619984  \n",
       "                1353               -3.0  33619984  \n",
       "\n",
       "[2748620 rows x 7 columns]"
      ]
     },
     "execution_count": 11,
     "metadata": {},
     "output_type": "execute_result"
    }
   ],
   "source": [
    "df"
   ]
  },
  {
   "cell_type": "code",
   "execution_count": null,
   "id": "a715d19e",
   "metadata": {},
   "outputs": [],
   "source": []
  },
  {
   "cell_type": "code",
   "execution_count": null,
   "id": "fa2a5aa9",
   "metadata": {},
   "outputs": [],
   "source": []
  },
  {
   "cell_type": "code",
   "execution_count": null,
   "id": "d9681ae0",
   "metadata": {},
   "outputs": [],
   "source": []
  },
  {
   "cell_type": "markdown",
   "id": "e34344d0",
   "metadata": {},
   "source": [
    "### Código: Load das variaveis MATLAB"
   ]
  },
  {
   "cell_type": "code",
   "execution_count": null,
   "id": "21ab8b43",
   "metadata": {},
   "outputs": [],
   "source": [
    "\n",
    "## LOAD das variáveis necessários do netCDF (Este exemplo é com imagens\n",
    "# MODIS - os caminhos podem ser diferentes)\n",
    "lon=ncread('AQUA_MODIS.20220209T133501.L2.SST.NRT.nc', '/navigation_data/longitude');\n",
    "lat=ncread('AQUA_MODIS.20220209T133501.L2.SST.NRT.nc', '/navigation_data/latitude');\n",
    "sst=ncread('AQUA_MODIS.20220209T133501.L2.SST.NRT.nc', '/geophysical_data/sst');\n",
    "qual_sst=ncread('AQUA_MODIS.20220209T133501.L2.SST.NRT.nc', '/geophysical_data/qual_sst');\n",
    "\n",
    "# factor de qualidade para as imagens MODIS - esta linha é para comentar no\n",
    "# caso do MUR e/ou modelo\n",
    "sst(qual_sst>1)=NaN;\n",
    "\n",
    "# Figura com os dados SST - grelha irregular L2\n",
    "pcolor(lon,lat,sst); shading flat; colorbar\n",
    "\n",
    "# interpolar dados para uma grelha antes - também não é necessário nos dados L3, L4 ou Modelo\n",
    "\n",
    "Z1=double(sst);\n",
    "X1=double(lon);\n",
    "Y1=double(lat);\n",
    "X1(isnan(X1))=0;  #caso lon tenha NaN values, estes são convertidos para zeros\n",
    "Y1(isnan(Y1))=0;  #caso lat tenha NaN values, estes são convertidos para zeros\n",
    "\n",
    "[X,Y]=meshgrid(-27.296:.02:7.4435,32.2344:0.02:53.7133);\n",
    "\n",
    "Z=griddata(X1,Y1,Z1,X,Y);"
   ]
  },
  {
   "cell_type": "code",
   "execution_count": null,
   "id": "802a7e2b",
   "metadata": {},
   "outputs": [],
   "source": []
  },
  {
   "cell_type": "markdown",
   "id": "3f94fe52",
   "metadata": {},
   "source": [
    "#### Código: LOAD das variaveis em Python (passo a passo)"
   ]
  },
  {
   "cell_type": "code",
   "execution_count": 165,
   "id": "352e7bc1",
   "metadata": {},
   "outputs": [],
   "source": [
    "lon = np.array([1,2,3,4,5,6])\n",
    "lat = np.array([1,2,3,4,5,6,7,8,9,10,11,12,13,14,15])\n",
    "sst = np.arange(1,91, dtype=np.double)#.reshape(6,15) \n",
    "\n",
    "lon[np.isnan(lon)] = 0    #caso lon tenha NaN values, estes são convertidos para zeros\n",
    "lat[np.isnan(lat)] = 0    #caso lat tenha NaN values, estes são convertidos para zeros\n",
    "\n",
    "# corresponde ao [X,Y]=meshgrid(-27.296:.02:7.4435,32.2344:0.02:53.7133); do MATLAB\n",
    "# No entanto como estamos a usar valores dummy isto para já não serve para nada\n",
    "#X = np.arange(-27.296, 7.4435, 0.02)\n",
    "#Y = np.arange(32.2344, 53.7133, 0.02) \n",
    "#X, Y = np.meshgrid(X, Y)\n",
    "\n",
    "#Código de cima mas com dummy variables\n",
    "X1 = np.linspace(-27.296, 7.4435, 6)\n",
    "Y1 = np.linspace(32.2344, 53.7133, 15)\n",
    "X1, Y1 = np.meshgrid(X1, Y1)\n",
    "\n",
    "from scipy.interpolate import griddata\n",
    "#Z = griddata([lat, lon], sst, (X1, Y1), method='linear') #NÃO CONSIGO POR ISTO A FUNCIONAR\n"
   ]
  },
  {
   "cell_type": "code",
   "execution_count": null,
   "id": "0d29d435",
   "metadata": {},
   "outputs": [],
   "source": []
  },
  {
   "cell_type": "code",
   "execution_count": null,
   "id": "18d29fc5",
   "metadata": {},
   "outputs": [],
   "source": []
  },
  {
   "cell_type": "code",
   "execution_count": null,
   "id": "8cbeaeb9",
   "metadata": {},
   "outputs": [],
   "source": []
  },
  {
   "cell_type": "code",
   "execution_count": null,
   "id": "35f5226d",
   "metadata": {},
   "outputs": [],
   "source": []
  },
  {
   "cell_type": "code",
   "execution_count": null,
   "id": "6fb51a29",
   "metadata": {},
   "outputs": [],
   "source": []
  },
  {
   "cell_type": "code",
   "execution_count": null,
   "id": "9575d627",
   "metadata": {},
   "outputs": [],
   "source": []
  },
  {
   "cell_type": "markdown",
   "id": "ef977e97",
   "metadata": {},
   "source": [
    "### Código: Definição da janela MATLAB"
   ]
  },
  {
   "cell_type": "code",
   "execution_count": null,
   "id": "bdaefabc",
   "metadata": {},
   "outputs": [],
   "source": [
    "#####################################\n",
    "\n",
    "# Definição da janela\n",
    "\n",
    "head(1:2) = [-27.296 7.4435];             #cria variavel head com esses 2 valores nas posiçoes 1 e 2\n",
    "head(3:4) = [32.2344 53.7133];\n",
    "z_dim=size(Z); #dimensões da matriz Z\n",
    "z_actual_range = double([min(Z(:)) max(Z(:))]); #range dos dados\n",
    "\tnx = z_dim(end);\t\tny = z_dim(end-1);\n",
    "    node_offset = 0;\t\n",
    " \n",
    "\thead(5:7) = double([z_actual_range node_offset]);\n",
    "\thead(8) = diff(head(1:2)) / (nx - ~node_offset);\n",
    "\thead(9) = diff(head(3:4)) / (ny - ~node_offset);\n",
    "    \n",
    "############################################ "
   ]
  },
  {
   "cell_type": "code",
   "execution_count": null,
   "id": "857633c2",
   "metadata": {},
   "outputs": [],
   "source": []
  },
  {
   "cell_type": "markdown",
   "id": "e799abeb",
   "metadata": {},
   "source": [
    "#### Código: Definição da janela em Python (passo a passo)"
   ]
  },
  {
   "cell_type": "code",
   "execution_count": 273,
   "id": "a518f146",
   "metadata": {},
   "outputs": [],
   "source": [
    "head = np.array([-27.296, 7.4435])\n",
    "head = np.append(head, [32.2344, 53.7133])\n",
    "#create dummy array Z to test \n",
    "Z = np.array([[1,2,3,4,5,6],[1,1,1,1,1,1],[1,2,3,4,5,6],[1,1,1,1,1,1],[1,2,3,4,5,6],\n",
    "             [1,1,1,1,1,1],[1,2,3,4,5,6],[1,1,1,1,1,10],[1,2,3,4,5,6],[1,1,1,1,1,1]])\n",
    "\n",
    "z_dim = Z.shape    #dimensões da matriz Z\n",
    "\n",
    "z_actual_range = np.array([np.min(Z[:]), np.max(Z[:])])    #range dos dados\n",
    "nx = z_dim[1]\n",
    "ny = z_dim[0]\n",
    "node_offset = 0\n",
    "\n",
    "#Solução para o (~node_offset) em MATLAB\n",
    "if node_offset == 0:\n",
    "    logical = 1\n",
    "else:\n",
    "    logical = 0\n",
    "\n",
    "head = np.append(head, np.array([z_actual_range[0], z_actual_range[1] , node_offset]))\n",
    "head = np.append(head, np.array((head[1]- head[0])/(nx - logical)))     \n",
    "head = np.append(head, np.array((head[3]- head[2])/(ny - logical)))\n"
   ]
  },
  {
   "cell_type": "code",
   "execution_count": 274,
   "id": "ef17387b",
   "metadata": {},
   "outputs": [
    {
     "data": {
      "text/plain": [
       "array([-27.296     ,   7.4435    ,  32.2344    ,  53.7133    ,\n",
       "         1.        ,  10.        ,   0.        ,   6.9479    ,\n",
       "         2.38654444])"
      ]
     },
     "execution_count": 274,
     "metadata": {},
     "output_type": "execute_result"
    }
   ],
   "source": [
    "head"
   ]
  },
  {
   "cell_type": "code",
   "execution_count": 266,
   "id": "1e7a05e1",
   "metadata": {},
   "outputs": [],
   "source": []
  },
  {
   "cell_type": "code",
   "execution_count": 267,
   "id": "701da1fc",
   "metadata": {},
   "outputs": [],
   "source": []
  },
  {
   "cell_type": "code",
   "execution_count": null,
   "id": "91d00a0a",
   "metadata": {},
   "outputs": [],
   "source": []
  },
  {
   "cell_type": "markdown",
   "id": "dec5a6bd",
   "metadata": {},
   "source": [
    "### Código: Definição da parametros MATLAB"
   ]
  },
  {
   "cell_type": "code",
   "execution_count": null,
   "id": "d0463c87",
   "metadata": {},
   "outputs": [],
   "source": [
    "%%%%%%%%%%%%%%%%%%%%%%%%%%%%%%  \n",
    "\n",
    "% Window size 32 × 32\n",
    "\n",
    "% Window clarity (% of data have to present in the window) 75%\n",
    "% Overlap 50%\n",
    "\n",
    "% The ratio of variance between the two populations to the\n",
    "% variance within the populations θ(τopt )% 0.76\n",
    "\n",
    "% Gradient ratio 0.9\n",
    "\n",
    "% Cohesion coefficients [C1, C2, C] [0.9, 0.9, 0.92]\n",
    "% Mean temperature difference between the two populations (surface waters)\n",
    "% .25\n",
    "\n",
    "   %cayula\n",
    "    minPopProp = 0.20;\t\t\t\t% \n",
    "\tminPopMeanDiff = 0.4;\n",
    "\tminTheta = 0.70;\n",
    "\tminSinglePopCohesion = 0.90;\n",
    "\tminGlobalPopCohesion = 0.70;\n",
    "   %nieto\n",
    "%     minPopProp = 0.15;\t\t\t\t% \n",
    "% \tminPopMeanDiff = 0.4;\n",
    "% \tminTheta = 0.70;\n",
    "% \tminSinglePopCohesion = 0.90;\n",
    "% \tminGlobalPopCohesion = 0.70;\n",
    "%%%%%%%%%%%%%%%%%%%%%%%"
   ]
  },
  {
   "cell_type": "code",
   "execution_count": null,
   "id": "4e8812e3",
   "metadata": {},
   "outputs": [],
   "source": []
  },
  {
   "cell_type": "markdown",
   "id": "6107f1a5",
   "metadata": {},
   "source": [
    "#### Código: Definição da parametros Python (passo a passo)"
   ]
  },
  {
   "cell_type": "code",
   "execution_count": 275,
   "id": "1e066326",
   "metadata": {},
   "outputs": [],
   "source": [
    "################################# \n",
    "\n",
    "# Window size 32 × 32\n",
    "\n",
    "# Window clarity (% of data have to present in the window) 75%\n",
    "# Overlap 50%\n",
    "\n",
    "# The ratio of variance between the two populations to the\n",
    "# variance within the populations θ(τopt )% 0.76\n",
    "\n",
    "# Gradient ratio 0.9\n",
    "\n",
    "# Cohesion coefficients [C1, C2, C] [0.9, 0.9, 0.92]\n",
    "# Mean temperature difference between the two populations (surface waters)\n",
    "# .25\n",
    "\n",
    "#cayula\n",
    "minPopProp = 0.20\n",
    "minPopMeanDiff = 0.4\n",
    "minTheta = 0.70\n",
    "minSinglePopCohesion = 0.90\n",
    "minGlobalPopCohesion = 0.70\n",
    "\n",
    "#nieto\n",
    "# minPopProp = 0.15\n",
    "# minPopMeanDiff = 0.4\n",
    "# minTheta = 0.70\n",
    "# minSinglePopCohesion = 0.90\n",
    "# minGlobalPopCohesion = 0.70\n",
    "\n",
    "##################################"
   ]
  },
  {
   "cell_type": "code",
   "execution_count": null,
   "id": "4e3b8294",
   "metadata": {},
   "outputs": [],
   "source": []
  },
  {
   "cell_type": "code",
   "execution_count": null,
   "id": "c4e07d34",
   "metadata": {},
   "outputs": [],
   "source": []
  },
  {
   "cell_type": "code",
   "execution_count": null,
   "id": "4314b9b2",
   "metadata": {},
   "outputs": [],
   "source": []
  },
  {
   "cell_type": "code",
   "execution_count": null,
   "id": "eb4a2634",
   "metadata": {},
   "outputs": [],
   "source": []
  },
  {
   "cell_type": "code",
   "execution_count": null,
   "id": "e23edec4",
   "metadata": {},
   "outputs": [],
   "source": []
  },
  {
   "cell_type": "code",
   "execution_count": null,
   "id": "c881306c",
   "metadata": {},
   "outputs": [],
   "source": []
  },
  {
   "cell_type": "code",
   "execution_count": null,
   "id": "21f76d98",
   "metadata": {},
   "outputs": [],
   "source": []
  },
  {
   "cell_type": "code",
   "execution_count": null,
   "id": "2acdba03",
   "metadata": {},
   "outputs": [],
   "source": []
  },
  {
   "cell_type": "code",
   "execution_count": null,
   "id": "5765f41c",
   "metadata": {},
   "outputs": [],
   "source": []
  },
  {
   "cell_type": "code",
   "execution_count": null,
   "id": "53d90ddc",
   "metadata": {},
   "outputs": [],
   "source": []
  },
  {
   "cell_type": "code",
   "execution_count": null,
   "id": "159160ef",
   "metadata": {},
   "outputs": [],
   "source": []
  }
 ],
 "metadata": {
  "kernelspec": {
   "display_name": "Python 3 (ipykernel)",
   "language": "python",
   "name": "python3"
  },
  "language_info": {
   "codemirror_mode": {
    "name": "ipython",
    "version": 3
   },
   "file_extension": ".py",
   "mimetype": "text/x-python",
   "name": "python",
   "nbconvert_exporter": "python",
   "pygments_lexer": "ipython3",
   "version": "3.8.10"
  }
 },
 "nbformat": 4,
 "nbformat_minor": 5
}
