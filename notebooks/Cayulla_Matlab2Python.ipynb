{
 "cells": [
  {
   "cell_type": "code",
   "execution_count": 2,
   "id": "d9e02719",
   "metadata": {},
   "outputs": [],
   "source": [
    "import pandas as pd\n",
    "import numpy as np\n",
    "import matplotlib.pyplot as plt\n",
    "import seaborn as sns\n",
    "import netCDF4 as nc\n",
    "import xarray as xr\n",
    "import os\n",
    "from pathlib import Path\n",
    "from numpy import nanmedian\n",
    "import scipy\n",
    "import scipy.signal\n",
    "import math\n",
    "from numpy.fft import fft2\n",
    "import cmocean\n",
    "import matplotlib\n",
    "plt.rcParams[\"figure.figsize\"] = 10, 8\n",
    "%matplotlib inline"
   ]
  },
  {
   "cell_type": "code",
   "execution_count": null,
   "id": "566e1ee2",
   "metadata": {},
   "outputs": [],
   "source": []
  },
  {
   "cell_type": "markdown",
   "id": "3439455e",
   "metadata": {},
   "source": [
    "# ----------------------------------------------------------------------------------------------\n",
    "### Importar dados do MODIS"
   ]
  },
  {
   "cell_type": "code",
   "execution_count": 2,
   "id": "a6c4a2f6",
   "metadata": {},
   "outputs": [
    {
     "data": {
      "text/plain": [
       "'/home/luisfigueiredo/JUNO/notebooks'"
      ]
     },
     "execution_count": 2,
     "metadata": {},
     "output_type": "execute_result"
    }
   ],
   "source": [
    "current_path = os.getcwd()\n",
    "current_path"
   ]
  },
  {
   "cell_type": "code",
   "execution_count": 3,
   "id": "1613e456",
   "metadata": {},
   "outputs": [
    {
     "data": {
      "text/plain": [
       "'/home/luisfigueiredo/JUNO/notebooks/../data'"
      ]
     },
     "execution_count": 3,
     "metadata": {},
     "output_type": "execute_result"
    }
   ],
   "source": [
    "\n",
    "data_folder = os.path.join(current_path,\"../data\")\n",
    "data_folder"
   ]
  },
  {
   "cell_type": "code",
   "execution_count": 7,
   "id": "513a8e0d",
   "metadata": {},
   "outputs": [],
   "source": [
    "nc_path = os.path.join(data_folder, \"AQUA_MODIS.20220209T133501.L2.SST.NRT.nc\")"
   ]
  },
  {
   "cell_type": "code",
   "execution_count": 8,
   "id": "67a30b68",
   "metadata": {},
   "outputs": [
    {
     "data": {
      "text/plain": [
       "'/home/luisfigueiredo/JUNO/notebooks/../data/AQUA_MODIS.20220209T133501.L2.SST.NRT.nc'"
      ]
     },
     "execution_count": 8,
     "metadata": {},
     "output_type": "execute_result"
    }
   ],
   "source": [
    "nc_path"
   ]
  },
  {
   "cell_type": "code",
   "execution_count": 10,
   "id": "d19ccfeb",
   "metadata": {},
   "outputs": [],
   "source": [
    "\n",
    "ds = xr.open_dataset(nc_path, group='geophysical_data')\n",
    "df = ds.to_dataframe()"
   ]
  },
  {
   "cell_type": "code",
   "execution_count": 11,
   "id": "260a484c",
   "metadata": {},
   "outputs": [
    {
     "data": {
      "text/html": [
       "<div>\n",
       "<style scoped>\n",
       "    .dataframe tbody tr th:only-of-type {\n",
       "        vertical-align: middle;\n",
       "    }\n",
       "\n",
       "    .dataframe tbody tr th {\n",
       "        vertical-align: top;\n",
       "    }\n",
       "\n",
       "    .dataframe thead th {\n",
       "        text-align: right;\n",
       "    }\n",
       "</style>\n",
       "<table border=\"1\" class=\"dataframe\">\n",
       "  <thead>\n",
       "    <tr style=\"text-align: right;\">\n",
       "      <th></th>\n",
       "      <th></th>\n",
       "      <th>sst</th>\n",
       "      <th>qual_sst</th>\n",
       "      <th>flags_sst</th>\n",
       "      <th>bias_sst</th>\n",
       "      <th>stdv_sst</th>\n",
       "      <th>sstref</th>\n",
       "      <th>l2_flags</th>\n",
       "    </tr>\n",
       "    <tr>\n",
       "      <th>number_of_lines</th>\n",
       "      <th>pixels_per_line</th>\n",
       "      <th></th>\n",
       "      <th></th>\n",
       "      <th></th>\n",
       "      <th></th>\n",
       "      <th></th>\n",
       "      <th></th>\n",
       "      <th></th>\n",
       "    </tr>\n",
       "  </thead>\n",
       "  <tbody>\n",
       "    <tr>\n",
       "      <th rowspan=\"5\" valign=\"top\">0</th>\n",
       "      <th>0</th>\n",
       "      <td>NaN</td>\n",
       "      <td>4.0</td>\n",
       "      <td>1.0</td>\n",
       "      <td>-18.0</td>\n",
       "      <td>-18.0</td>\n",
       "      <td>NaN</td>\n",
       "      <td>50</td>\n",
       "    </tr>\n",
       "    <tr>\n",
       "      <th>1</th>\n",
       "      <td>NaN</td>\n",
       "      <td>4.0</td>\n",
       "      <td>1.0</td>\n",
       "      <td>-18.0</td>\n",
       "      <td>-18.0</td>\n",
       "      <td>NaN</td>\n",
       "      <td>50</td>\n",
       "    </tr>\n",
       "    <tr>\n",
       "      <th>2</th>\n",
       "      <td>NaN</td>\n",
       "      <td>4.0</td>\n",
       "      <td>1.0</td>\n",
       "      <td>-18.0</td>\n",
       "      <td>-18.0</td>\n",
       "      <td>NaN</td>\n",
       "      <td>50</td>\n",
       "    </tr>\n",
       "    <tr>\n",
       "      <th>3</th>\n",
       "      <td>NaN</td>\n",
       "      <td>4.0</td>\n",
       "      <td>1.0</td>\n",
       "      <td>-18.0</td>\n",
       "      <td>-18.0</td>\n",
       "      <td>NaN</td>\n",
       "      <td>50</td>\n",
       "    </tr>\n",
       "    <tr>\n",
       "      <th>4</th>\n",
       "      <td>NaN</td>\n",
       "      <td>4.0</td>\n",
       "      <td>1.0</td>\n",
       "      <td>-18.0</td>\n",
       "      <td>-18.0</td>\n",
       "      <td>NaN</td>\n",
       "      <td>50</td>\n",
       "    </tr>\n",
       "    <tr>\n",
       "      <th>...</th>\n",
       "      <th>...</th>\n",
       "      <td>...</td>\n",
       "      <td>...</td>\n",
       "      <td>...</td>\n",
       "      <td>...</td>\n",
       "      <td>...</td>\n",
       "      <td>...</td>\n",
       "      <td>...</td>\n",
       "    </tr>\n",
       "    <tr>\n",
       "      <th rowspan=\"5\" valign=\"top\">2029</th>\n",
       "      <th>1349</th>\n",
       "      <td>NaN</td>\n",
       "      <td>4.0</td>\n",
       "      <td>1.0</td>\n",
       "      <td>-18.0</td>\n",
       "      <td>-18.0</td>\n",
       "      <td>-3.0</td>\n",
       "      <td>33619984</td>\n",
       "    </tr>\n",
       "    <tr>\n",
       "      <th>1350</th>\n",
       "      <td>NaN</td>\n",
       "      <td>4.0</td>\n",
       "      <td>1.0</td>\n",
       "      <td>-18.0</td>\n",
       "      <td>-18.0</td>\n",
       "      <td>-3.0</td>\n",
       "      <td>33619984</td>\n",
       "    </tr>\n",
       "    <tr>\n",
       "      <th>1351</th>\n",
       "      <td>NaN</td>\n",
       "      <td>4.0</td>\n",
       "      <td>1.0</td>\n",
       "      <td>-18.0</td>\n",
       "      <td>-18.0</td>\n",
       "      <td>-3.0</td>\n",
       "      <td>33619984</td>\n",
       "    </tr>\n",
       "    <tr>\n",
       "      <th>1352</th>\n",
       "      <td>NaN</td>\n",
       "      <td>4.0</td>\n",
       "      <td>1.0</td>\n",
       "      <td>-18.0</td>\n",
       "      <td>-18.0</td>\n",
       "      <td>-3.0</td>\n",
       "      <td>33619984</td>\n",
       "    </tr>\n",
       "    <tr>\n",
       "      <th>1353</th>\n",
       "      <td>NaN</td>\n",
       "      <td>4.0</td>\n",
       "      <td>1.0</td>\n",
       "      <td>-18.0</td>\n",
       "      <td>-18.0</td>\n",
       "      <td>-3.0</td>\n",
       "      <td>33619984</td>\n",
       "    </tr>\n",
       "  </tbody>\n",
       "</table>\n",
       "<p>2748620 rows × 7 columns</p>\n",
       "</div>"
      ],
      "text/plain": [
       "                                 sst  qual_sst  flags_sst  bias_sst  stdv_sst  \\\n",
       "number_of_lines pixels_per_line                                                 \n",
       "0               0                NaN       4.0        1.0     -18.0     -18.0   \n",
       "                1                NaN       4.0        1.0     -18.0     -18.0   \n",
       "                2                NaN       4.0        1.0     -18.0     -18.0   \n",
       "                3                NaN       4.0        1.0     -18.0     -18.0   \n",
       "                4                NaN       4.0        1.0     -18.0     -18.0   \n",
       "...                              ...       ...        ...       ...       ...   \n",
       "2029            1349             NaN       4.0        1.0     -18.0     -18.0   \n",
       "                1350             NaN       4.0        1.0     -18.0     -18.0   \n",
       "                1351             NaN       4.0        1.0     -18.0     -18.0   \n",
       "                1352             NaN       4.0        1.0     -18.0     -18.0   \n",
       "                1353             NaN       4.0        1.0     -18.0     -18.0   \n",
       "\n",
       "                                 sstref  l2_flags  \n",
       "number_of_lines pixels_per_line                    \n",
       "0               0                   NaN        50  \n",
       "                1                   NaN        50  \n",
       "                2                   NaN        50  \n",
       "                3                   NaN        50  \n",
       "                4                   NaN        50  \n",
       "...                                 ...       ...  \n",
       "2029            1349               -3.0  33619984  \n",
       "                1350               -3.0  33619984  \n",
       "                1351               -3.0  33619984  \n",
       "                1352               -3.0  33619984  \n",
       "                1353               -3.0  33619984  \n",
       "\n",
       "[2748620 rows x 7 columns]"
      ]
     },
     "execution_count": 11,
     "metadata": {},
     "output_type": "execute_result"
    }
   ],
   "source": [
    "df"
   ]
  },
  {
   "cell_type": "markdown",
   "id": "a8ca4001",
   "metadata": {},
   "source": [
    "# ----------------------------------------------------------------------------------------"
   ]
  },
  {
   "cell_type": "code",
   "execution_count": null,
   "id": "fa2a5aa9",
   "metadata": {},
   "outputs": [],
   "source": []
  },
  {
   "cell_type": "code",
   "execution_count": null,
   "id": "7aa47d3d",
   "metadata": {},
   "outputs": [],
   "source": []
  },
  {
   "cell_type": "code",
   "execution_count": null,
   "id": "3e5c09a6",
   "metadata": {},
   "outputs": [],
   "source": []
  },
  {
   "cell_type": "code",
   "execution_count": null,
   "id": "6679cee9",
   "metadata": {},
   "outputs": [],
   "source": []
  },
  {
   "cell_type": "code",
   "execution_count": null,
   "id": "8e655d9d",
   "metadata": {},
   "outputs": [],
   "source": []
  },
  {
   "cell_type": "code",
   "execution_count": null,
   "id": "a5eb3a58",
   "metadata": {},
   "outputs": [],
   "source": []
  },
  {
   "cell_type": "code",
   "execution_count": null,
   "id": "a0edd15e",
   "metadata": {},
   "outputs": [],
   "source": []
  },
  {
   "cell_type": "code",
   "execution_count": null,
   "id": "b7a0d836",
   "metadata": {},
   "outputs": [],
   "source": []
  },
  {
   "cell_type": "code",
   "execution_count": null,
   "id": "9bd665e1",
   "metadata": {},
   "outputs": [],
   "source": []
  },
  {
   "cell_type": "code",
   "execution_count": null,
   "id": "d9681ae0",
   "metadata": {},
   "outputs": [],
   "source": []
  },
  {
   "cell_type": "markdown",
   "id": "e34344d0",
   "metadata": {},
   "source": [
    "### Código: Load das variaveis MATLAB"
   ]
  },
  {
   "cell_type": "code",
   "execution_count": null,
   "id": "21ab8b43",
   "metadata": {},
   "outputs": [],
   "source": [
    "\n",
    "## LOAD das variáveis necessários do netCDF (Este exemplo é com imagens\n",
    "# MODIS - os caminhos podem ser diferentes)\n",
    "lon=ncread('AQUA_MODIS.20220209T133501.L2.SST.NRT.nc', '/navigation_data/longitude');\n",
    "lat=ncread('AQUA_MODIS.20220209T133501.L2.SST.NRT.nc', '/navigation_data/latitude');\n",
    "sst=ncread('AQUA_MODIS.20220209T133501.L2.SST.NRT.nc', '/geophysical_data/sst');\n",
    "qual_sst=ncread('AQUA_MODIS.20220209T133501.L2.SST.NRT.nc', '/geophysical_data/qual_sst');\n",
    "\n",
    "# factor de qualidade para as imagens MODIS - esta linha é para comentar no\n",
    "# caso do MUR e/ou modelo\n",
    "sst(qual_sst>1)=NaN;\n",
    "\n",
    "# Figura com os dados SST - grelha irregular L2\n",
    "pcolor(lon,lat,sst); shading flat; colorbar\n",
    "\n",
    "# interpolar dados para uma grelha antes - também não é necessário nos dados L3, L4 ou Modelo\n",
    "\n",
    "Z1=double(sst);\n",
    "X1=double(lon);\n",
    "Y1=double(lat);\n",
    "X1(isnan(X1))=0;  #caso lon tenha NaN values, estes são convertidos para zeros\n",
    "Y1(isnan(Y1))=0;  #caso lat tenha NaN values, estes são convertidos para zeros\n",
    "\n",
    "[X,Y]=meshgrid(-27.296:.02:7.4435,32.2344:0.02:53.7133);    #Lon_min, lon_max; lat_min, lat_max dados MODIS\n",
    "\n",
    "Z=griddata(X1,Y1,Z1,X,Y);\n",
    "\n",
    "# Z = griddata(X1,Y1,Z1,X,Y) fits a surface of the form Z1 = f(X1,Y1) to the scattered data in the vectors (X1,Y1,Z1).\n",
    "# The griddata function interpolates the surface at the query points specified by (X,Y) and returns the interpolated values, Z"
   ]
  },
  {
   "cell_type": "code",
   "execution_count": null,
   "id": "802a7e2b",
   "metadata": {},
   "outputs": [],
   "source": []
  },
  {
   "cell_type": "markdown",
   "id": "3f94fe52",
   "metadata": {},
   "source": [
    "#### Código: LOAD das variaveis em Python (passo a passo)"
   ]
  },
  {
   "cell_type": "code",
   "execution_count": 11,
   "id": "352e7bc1",
   "metadata": {},
   "outputs": [],
   "source": [
    "lon = np.array([1,2,3,4,5,6])\n",
    "lat = np.array([1,2,3,4,5,6,7,8,9,10,11,12,13,14,15])\n",
    "sst = np.arange(1,91, dtype=np.double).reshape(6,15) \n",
    "#lon, lat e sst são dummy variables aqui\n",
    "\n",
    "lon[np.isnan(lon)] = 0    #caso lon tenha NaN values, estes são convertidos para zeros\n",
    "lat[np.isnan(lat)] = 0    #caso lat tenha NaN values, estes são convertidos para zeros\n",
    "\n",
    "\n",
    "# corresponde ao [X,Y]=meshgrid(-27.296:.02:7.4435,32.2344:0.02:53.7133); do MATLAB\n",
    "# No entanto como estamos a usar valores dummy isto para já não serve para nada\n",
    "#X = np.arange(-27.296, 7.4435, 0.02)\n",
    "#Y = np.arange(32.2344, 53.7133, 0.02) \n",
    "#X, Y = np.meshgrid(X, Y)\n",
    "\n",
    "X1 = np.linspace(-27.296, 7.4435, 6)\n",
    "Y1 = np.linspace(32.2344, 53.7133, 15)\n",
    "X1, Y1 = np.meshgrid(X1, Y1)\n",
    "\n",
    "lon, lat = np.meshgrid(lon, lat)\n",
    "\n",
    "from scipy.interpolate import griddata\n",
    "Z = griddata((lon.flatten(), lat.flatten()), sst.flatten(), (X1, Y1), method='linear')"
   ]
  },
  {
   "cell_type": "code",
   "execution_count": null,
   "id": "1f199026",
   "metadata": {},
   "outputs": [],
   "source": []
  },
  {
   "cell_type": "code",
   "execution_count": null,
   "id": "5dad377d",
   "metadata": {},
   "outputs": [],
   "source": []
  },
  {
   "cell_type": "code",
   "execution_count": null,
   "id": "3964187e",
   "metadata": {},
   "outputs": [],
   "source": []
  },
  {
   "cell_type": "markdown",
   "id": "ef977e97",
   "metadata": {},
   "source": [
    "### Código: Definição da janela MATLAB"
   ]
  },
  {
   "cell_type": "code",
   "execution_count": 13,
   "id": "bdaefabc",
   "metadata": {},
   "outputs": [
    {
     "ename": "IndentationError",
     "evalue": "unindent does not match any outer indentation level (<tokenize>, line 10)",
     "output_type": "error",
     "traceback": [
      "\u001b[0;36m  File \u001b[0;32m\"<tokenize>\"\u001b[0;36m, line \u001b[0;32m10\u001b[0m\n\u001b[0;31m    node_offset = 0;\u001b[0m\n\u001b[0m    ^\u001b[0m\n\u001b[0;31mIndentationError\u001b[0m\u001b[0;31m:\u001b[0m unindent does not match any outer indentation level\n"
     ]
    }
   ],
   "source": [
    "#####################################\n",
    "\n",
    "# Definição da janela\n",
    "\n",
    "head(1:2) = [-27.296 7.4435];             #cria variavel head com esses 2 valores nas posiçoes 1 e 2\n",
    "head(3:4) = [32.2344 53.7133];\n",
    "z_dim=size(Z); #dimensões da matriz Z\n",
    "z_actual_range = double([min(Z(:)) max(Z(:))]); #range dos dados\n",
    "\tnx = z_dim(end);\t\tny = z_dim(end-1);\n",
    "    node_offset = 0;\t\n",
    " \n",
    "\thead(5:7) = double([z_actual_range node_offset]);\n",
    "\thead(8) = diff(head(1:2)) / (nx - ~node_offset);\n",
    "\thead(9) = diff(head(3:4)) / (ny - ~node_offset);\n",
    "    \n",
    "############################################ "
   ]
  },
  {
   "cell_type": "code",
   "execution_count": null,
   "id": "857633c2",
   "metadata": {},
   "outputs": [],
   "source": []
  },
  {
   "cell_type": "markdown",
   "id": "e799abeb",
   "metadata": {},
   "source": [
    "#### Código: Definição da janela em Python (passo a passo)"
   ]
  },
  {
   "cell_type": "code",
   "execution_count": 14,
   "id": "a518f146",
   "metadata": {},
   "outputs": [
    {
     "name": "stderr",
     "output_type": "stream",
     "text": [
      "/tmp/ipykernel_128114/3156741053.py:11: RuntimeWarning: All-NaN slice encountered\n",
      "  z_actual_range = np.array([np.nanmin(Z[:]), np.nanmax(Z[:])])    #range dos dados (valor minimo e maximo da matriz Z)\n"
     ]
    }
   ],
   "source": [
    "head = np.array([-27.296, 7.4435])           #Extremos do array que se obtem com a meshgrid em X\n",
    "head = np.append(head, [32.2344, 53.7133])   #Extremos do array que se obtem com a meshgrid em Y\n",
    "#create dummy array Z to test \n",
    "#Z = np.array([[1,2,3,4,5,6],[1,1,1,1,1,1],[1,2,3,4,5,6],[1,1,1,1,1,1],[1,2,3,4,5,6],\n",
    " #            [1,1,1,1,1,1],[1,2,3,4,5,6],[1,1,1,1,1,10],[1,2,3,4,5,6],[1,1,1,1,1,1],\n",
    "  #           [1,2,3,4,5,6],[1,1,1,1,1,1],[1,2,3,4,5,6],[1,1,1,1,1,1],[1,2,3,4,5,6],\n",
    "   #           [1,1,1,1,1,1],[1,2,3,4,5,6],[1,1,1,1,1,1],[1,2,3,4,5,6],[1,1,1,1,1,1]])\n",
    "\n",
    "z_dim = Z.shape    #dimensões da matriz Z (rows, cols)\n",
    "\n",
    "z_actual_range = np.array([np.nanmin(Z[:]), np.nanmax(Z[:])])    #range dos dados (valor minimo e maximo da matriz Z)\n",
    "nx = z_dim[1]      # number of columns of matrix Z\n",
    "ny = z_dim[0]      # number of rows of matrix Z\n",
    "node_offset = 0\n",
    "\n",
    "    \n",
    "#index 4 -> menor valor de Z; index5 -> maior valor de Z; index6 -> node_offset=6\n",
    "head = np.append(head, np.array([z_actual_range[0], z_actual_range[1] , node_offset]))    \n",
    "head = np.append(head, np.array((head[1]- head[0])/(nx - int(not node_offset))))     #index 7 -> quociente da diferença dos extremos da meshgrid em X e o nr de colunas-1\n",
    "head = np.append(head, np.array((head[3]- head[2])/(ny - int(not node_offset))))     #index 8 -> quociente da diferença dos extremos da meshgrid em Y e o nr de rows-1"
   ]
  },
  {
   "cell_type": "code",
   "execution_count": 16,
   "id": "ef17387b",
   "metadata": {},
   "outputs": [
    {
     "data": {
      "text/plain": [
       "array([-27.296     ,   7.4435    ,  32.2344    ,  53.7133    ,\n",
       "                nan,          nan,   0.        ,   6.9479    ,\n",
       "         1.53420714])"
      ]
     },
     "execution_count": 16,
     "metadata": {},
     "output_type": "execute_result"
    }
   ],
   "source": [
    "head"
   ]
  },
  {
   "cell_type": "code",
   "execution_count": null,
   "id": "91d00a0a",
   "metadata": {},
   "outputs": [],
   "source": []
  },
  {
   "cell_type": "code",
   "execution_count": null,
   "id": "075194b4",
   "metadata": {},
   "outputs": [],
   "source": []
  },
  {
   "cell_type": "markdown",
   "id": "dec5a6bd",
   "metadata": {},
   "source": [
    "### Código: Definição da parametros MATLAB"
   ]
  },
  {
   "cell_type": "code",
   "execution_count": null,
   "id": "d0463c87",
   "metadata": {},
   "outputs": [],
   "source": [
    "%%%%%%%%%%%%%%%%%%%%%%%%%%%%%%  \n",
    "\n",
    "% Window size 32 × 32\n",
    "\n",
    "% Window clarity (% of data have to present in the window) 75%\n",
    "% Overlap 50%\n",
    "\n",
    "% The ratio of variance between the two populations to the\n",
    "% variance within the populations θ(τopt )% 0.76\n",
    "\n",
    "% Gradient ratio 0.9\n",
    "\n",
    "% Cohesion coefficients [C1, C2, C] [0.9, 0.9, 0.92]\n",
    "% Mean temperature difference between the two populations (surface waters)\n",
    "% .25\n",
    "\n",
    "   %cayula\n",
    "    minPopProp = 0.20;\t\t\t\t% \n",
    "\tminPopMeanDiff = 0.4;\n",
    "\tminTheta = 0.70;\n",
    "\tminSinglePopCohesion = 0.90;\n",
    "\tminGlobalPopCohesion = 0.70;\n",
    "   %nieto\n",
    "%     minPopProp = 0.15;\t\t\t\t% \n",
    "% \tminPopMeanDiff = 0.4;\n",
    "% \tminTheta = 0.70;\n",
    "% \tminSinglePopCohesion = 0.90;\n",
    "% \tminGlobalPopCohesion = 0.70;\n",
    "%%%%%%%%%%%%%%%%%%%%%%%"
   ]
  },
  {
   "cell_type": "code",
   "execution_count": null,
   "id": "4e8812e3",
   "metadata": {},
   "outputs": [],
   "source": []
  },
  {
   "cell_type": "markdown",
   "id": "6107f1a5",
   "metadata": {},
   "source": [
    "#### Código: Definição da parametros Python (passo a passo)"
   ]
  },
  {
   "cell_type": "code",
   "execution_count": 161,
   "id": "1e066326",
   "metadata": {},
   "outputs": [],
   "source": [
    "################################# \n",
    "\n",
    "# Window size 32 × 32\n",
    "\n",
    "# Window clarity (% of data have to present in the window) 75%\n",
    "# Overlap 50%\n",
    "\n",
    "# The ratio of variance between the two populations to the\n",
    "# variance within the populations θ(τopt )% 0.76\n",
    "\n",
    "# Gradient ratio 0.9\n",
    "\n",
    "# Cohesion coefficients [C1, C2, C] [0.9, 0.9, 0.92]\n",
    "# Mean temperature difference between the two populations (surface waters)\n",
    "# .25\n",
    "\n",
    "#cayula\n",
    "minPopProp = 0.20\n",
    "minPopMeanDiff = 0.4\n",
    "minTheta = 0.70\n",
    "minSinglePopCohesion = 0.90\n",
    "minGlobalPopCohesion = 0.70\n",
    "\n",
    "#nieto\n",
    "# minPopProp = 0.15\n",
    "# minPopMeanDiff = 0.4\n",
    "# minTheta = 0.70\n",
    "# minSinglePopCohesion = 0.90\n",
    "# minGlobalPopCohesion = 0.70\n",
    "\n",
    "##################################"
   ]
  },
  {
   "cell_type": "code",
   "execution_count": null,
   "id": "4e3b8294",
   "metadata": {},
   "outputs": [],
   "source": []
  },
  {
   "cell_type": "code",
   "execution_count": null,
   "id": "db3913ae",
   "metadata": {},
   "outputs": [],
   "source": []
  },
  {
   "cell_type": "code",
   "execution_count": null,
   "id": "c4e07d34",
   "metadata": {},
   "outputs": [],
   "source": []
  },
  {
   "cell_type": "markdown",
   "id": "f457a446",
   "metadata": {},
   "source": [
    "### Código: 1ª For Loop MATLAB"
   ]
  },
  {
   "cell_type": "code",
   "execution_count": null,
   "id": "eb4a2634",
   "metadata": {},
   "outputs": [],
   "source": [
    "%%%%%%%%%%%%%%%%%%%%%%%\n",
    "\n",
    "[n_rows, n_cols] = size(Z);\n",
    "\twinW16 = 16;\twinW32 = 2*16;\t\twinW48 = 3*16;\n",
    "\ts = 0;\t\t\t\t% s = 1 means subwindows do NOT share a common border. With s = 0 they do.\n",
    "\txSide16 = winW16 * head(8);\n",
    "\tySide16 = winW16 * head(9);\n",
    "\txSide32 = (winW32 - s) * head(8);\t\t\t% X and Y sizes of the 32x32 window in real coordinates\n",
    "\tySide32 = (winW32 - s) * head(9);\t\t\t% -1 because coords are in grid registration\n",
    "\tnWinRows = floor(n_rows / winW16);\t\tnWinCols = floor(n_cols / winW16);\n",
    "\tfor (wRow = 1:nWinRows-2)\n",
    "\t\tr1 = (wRow - 1) * winW16 + 1;\t\tr2 = r1 + winW48 - s;\t% Start and stop indices and coords of current window\n",
    "\t\ty0 = head(3) + (wRow-1) * ySide16;\t\t\t\t%y1 = y0 + (winW48-1) * head(9);\n",
    "\t\tfor (wCol = 1:nWinCols-2)\n",
    "\t\t\tc1 = (wCol - 1) * winW16 + 1;\tc2 = c1 + winW48 - s;\n",
    "\t\t\tx0 = head(1) + (wCol-1) * xSide16;\t\t\t%x1 = x0 + (winW48-1) * head(8);\n",
    "\t\t\twPad = Z(r1:r2, c1:c2);\t\t\t\t\t\t% 48x49 (or 48x48 if s == 1) Window\n",
    "\t\t\t% |4|3|\n",
    "\t\t\t% |1|2|\n",
    "\t\t\t% Rows and columns of the 4 sub-windows (avoids a double loop). We loop along the order of the\n",
    "\t\t\t% above sketch. There will be a common region when we slide the 33x33 window with shifts of 16\n",
    "\t\t\t% When we at 1 (a 33x33 window) that common zone is depicted at position 1 form the sketch below,\n",
    "\t\t\t% and so forth for the other three positions.\n",
    "\t\t\trr = [1 1 2 2];\t\tcc = [1 2 2 1];\n",
    "\n",
    "\t\t\t% Set the index of the four corner windows of 17x17 representing each the same physical region\n",
    "\t\t\t% when we loop 4 times the sliding window of 33x33 in the larger 49x49 window (above sketch).\n",
    "\t\t\t% |2|1|\n",
    "\t\t\t% |3|4|\n",
    "\t\t\tif (s == 1),\tcorners = [17 32 17 32; 17 32 1 16; 1 16 1 16; 1 16 17 32];\t\t% Less good\n",
    "\t\t\telse\t\t\tcorners = [17 33 17 33; 17 33 1 17; 1 17 1 17; 1 17 17 33];\n",
    "\t\t\tend\n",
    "\n",
    "\t\t\tfor (k = 1:4)\t\t\t\t\t% Loop over the 4 sliding 32x32 sub-windows of the larger 48x48 one.\n",
    "\t\t\t\tm1 = (rr(k) - 1) * winW16 + 1;\t\t\tm2 = m1 + 2*winW16 - s;\t\t% indices of the sliding 33x33 window\n",
    "\t\t\t\tn1 = (cc(k) - 1) * winW16 + 1;\t\t\tn2 = n1 + 2*winW16 - s;\n",
    "\t\t\t\tw = double((wPad(m1:m2, n1:n2)));\t\t\t\t\t% Sub-window with size 33x33\n",
    "\t\t\t\tsubWinX0 = x0 + (cc(k)-1) * xSide16;\tsubWinX1 = subWinX0 + xSide32;\t% Corner coordinates\n",
    "\t\t\t\tsubWinY0 = y0 + (rr(k)-1) * ySide16;\tsubWinY1 = subWinY0 + ySide32;\n",
    "\t\t\t\tR = [subWinX0 subWinX1 subWinY0 subWinY1];\n",
    "\t\t\t\t[x, y, z, exitType] = getFrontInWindow(w, R, minTheta, minPopProp, minPopMeanDiff, ...\n",
    "\t\t\t\t\t\t\t\t\t\t\t\t\t   minSinglePopCohesion, minGlobalPopCohesion, corners(k,:));\n",
    "\t\t\t\tif (~exitType)       #terminates MATLAB program (same as quit)\n",
    "\t\t\t\t\th=line('XData',x, 'YData',y, 'userdata',z, 'Tag','SSTfront');\n",
    "                    # Tag -> nas propriedades da imagem, a figure vai ter o Tag 'SSTfront'\n",
    "\t\t\t\t\t%rectX = [subWinX0 subWinX0 subWinX1 subWinX1 subWinX0];\n",
    "\t\t\t\t\t%rectY = [subWinY0 subWinY1 subWinY1 subWinY0 subWinY0];\n",
    "\t\t\t\t\t%hl = line('XData',rectX, 'YData',rectY, 'Parent',hMirHand.axes1);\n",
    "\t\t\t\t\t%hl = line('XData',[x0 x0 x1 x1 x0], 'YData',[y0 y1 y1 y0 y0], 'Parent',hMirHand.axes1);\n",
    "\t\t\t\t\t%draw_funs(hl,'line_uicontext')\t\t% Set lines's uicontextmenu\n",
    "\t\t\t\tend\n",
    "\t\t\tend\n",
    "\n",
    "\t\tend\n",
    "\t\tdrawnow\n",
    "    end\n",
    "% ---------------------------------------------------------------------------------------------------\n"
   ]
  },
  {
   "cell_type": "code",
   "execution_count": null,
   "id": "e23edec4",
   "metadata": {},
   "outputs": [],
   "source": []
  },
  {
   "cell_type": "markdown",
   "id": "b13c8385",
   "metadata": {},
   "source": [
    "#### Código: 1ª For Loop Python (passo a passo)"
   ]
  },
  {
   "cell_type": "code",
   "execution_count": 213,
   "id": "21f76d98",
   "metadata": {},
   "outputs": [],
   "source": [
    "[n_rows, n_cols] = Z.shape\n",
    "winW16 = 16\n",
    "winW32 = 16*2\n",
    "winW48 = 16*3\n",
    "\n",
    "s=0 #s=1 means subwindows do NOT share a common border. With s = 0 they do.\n",
    "\n",
    "xSide16 = winW16*head[7]\n",
    "ySide16 = winW16*head[8]\n",
    "xSide32 = (winW32 - s) * head[7]\n",
    "ySide32 = (winW32 - s) * head[8]\n",
    "\n",
    "nWinRows = math.floor(n_rows/winW16)\n",
    "nWinCols = math.floor(n_cols/winW16)\n",
    "\n",
    "\n",
    "for wRow in range(1, nWinRows-1):    #estava -3 antes\n",
    "    r1 = (wRow-1) * winW16 + 1;\n",
    "    r2 = r1 + winW48 -s     #start and stop indices and coords of current window\n",
    "    y0 = head[2] + (wRow-1)*ySide    #y1 = y0 + (winW48-1)*head[8]\n",
    "    \n",
    "    for wCol in range(1, nWinCols-1):     #estava -3 antes\n",
    "        c1 = (wCol - 1)*winW16+1\n",
    "        c2 = c1 + winW48 - s\n",
    "        x0 = head[0] + (wCol-1) * xSide16     #x1 = x0 + (winW48-1)*head[7]\n",
    "        wPad = Z[r1-1:r2, c1-1:c2]\n",
    "        \n",
    "        rr = np.array([1,1,2,2])\n",
    "        cc = np.array([1,2,2,1])\n",
    "        \n",
    "        if s==1:\n",
    "            corners = np.array([[17, 32, 17, 32], [17, 32, 1, 16], [1, 16, 1, 16], [1, 16, 17, 32]])  #less good\n",
    "        else:\n",
    "            corners = np.array([[17, 33, 17, 33], [17, 33, 1, 17], [1, 17, 1, 17], [1, 17, 17, 33]])\n",
    "            \n",
    "        for k in range(0,4):     #loop over the 4 slidding 32X32 sub-windows of the larger 48x48 one\n",
    "            m1 = (rr[k] - 1) * winW16 + 1\n",
    "            m2 = m1 + 2 * winW16 - s             #indices of the slidding 33X33 window\n",
    "            ni = (cc[k] - 1) * winW16 + 1\n",
    "            n2 = n1 + 2 * winW16 - s\n",
    "            \n",
    "            w = wPad[m1-1:m2, n1-1:n2].astype('double')      #sub window with size 33x33\n",
    "            \n",
    "            subWinX0 = X0 + (cc[k] - 1) * xSide16\n",
    "            subWinX1 = subWinX0 + xSide32\n",
    "            \n",
    "            subWinY0 = y0 + (rr[k] - 1) * ySide16\n",
    "            subWinY1 = subWinY0 + ySide32\n",
    "            \n",
    "            R = np.array([subWinX0, subWinX1, subWinY0, subWinY1])\n",
    "            \n",
    "            [x, y, z, exitType] = getFrontInWindow(w, R, minTheta, minPopProp, minPopMeanDiff, minSinglePopCohesion, minGlobalPopCohesion, corners[k,:])\n",
    "            \n",
    "            if (not exitType):\n",
    "               #  h = line('XData', x, 'YData', y, 'userdata', z, 'Tag', 'SSTfront')  \n",
    "                #Tag -> nas propriedades da imagem, a figure vai ter o Tag 'SSTfront' (em MATLAB)\n",
    "                h = plt.plot(x,y,z)       #DUVIDA\n",
    "                \n",
    "                \n",
    "    #DUVIDA se uso o drawnow?\n",
    "    plt.show()\n",
    "        \n",
    "        "
   ]
  },
  {
   "cell_type": "markdown",
   "id": "bbd6d3ba",
   "metadata": {},
   "source": [
    "#### Duvida:\n",
    "\n",
    "    Em MATLAB é usada a função line('XData', x, 'YData', y, 'userdata', z, 'Tag', 'SSTfront'). Função line()   adds the line to the current axes without deleting other graphics objects or resetting axes properties,    sendo que plt.plot() não faz isso.\n",
    "    \n",
    "    In MATLAB drawnow is used. Drawnow updates figures and processes any pending callbacks. This command is used if we want to modify graphic objects and want to see the updates on the screen immediately. I don't know if the drawnow is really necessary. In python we can also use drawnow but does require small changes to the code, like moving figure(); plot(...); show() inside a function;"
   ]
  },
  {
   "cell_type": "code",
   "execution_count": null,
   "id": "d5cca3b7",
   "metadata": {},
   "outputs": [],
   "source": []
  },
  {
   "cell_type": "code",
   "execution_count": null,
   "id": "ca881822",
   "metadata": {},
   "outputs": [],
   "source": []
  },
  {
   "cell_type": "code",
   "execution_count": null,
   "id": "5765f41c",
   "metadata": {},
   "outputs": [],
   "source": []
  },
  {
   "cell_type": "code",
   "execution_count": 40,
   "id": "53d90ddc",
   "metadata": {},
   "outputs": [],
   "source": [
    "w_PAD = Z[4:10, 2:5].astype('double')"
   ]
  },
  {
   "cell_type": "code",
   "execution_count": 41,
   "id": "159160ef",
   "metadata": {},
   "outputs": [
    {
     "data": {
      "text/plain": [
       "array([[3., 4., 5.],\n",
       "       [1., 1., 1.],\n",
       "       [3., 4., 5.],\n",
       "       [1., 1., 1.],\n",
       "       [3., 4., 5.],\n",
       "       [1., 1., 1.]])"
      ]
     },
     "execution_count": 41,
     "metadata": {},
     "output_type": "execute_result"
    }
   ],
   "source": [
    "w_PAD"
   ]
  },
  {
   "cell_type": "code",
   "execution_count": null,
   "id": "964348bf",
   "metadata": {},
   "outputs": [],
   "source": []
  },
  {
   "cell_type": "code",
   "execution_count": null,
   "id": "b6bd5d1f",
   "metadata": {},
   "outputs": [],
   "source": []
  },
  {
   "cell_type": "code",
   "execution_count": null,
   "id": "2d6095de",
   "metadata": {},
   "outputs": [],
   "source": []
  },
  {
   "cell_type": "markdown",
   "id": "8ff2cc0c",
   "metadata": {},
   "source": [
    "### Código: function getFrontInWindow() MATLAB"
   ]
  },
  {
   "cell_type": "code",
   "execution_count": null,
   "id": "52509d3e",
   "metadata": {},
   "outputs": [],
   "source": [
    "%% função especifica. Pode ficar noutro ficheiro e ser chamada\n",
    "function [xdata, ydata, z, exitType] = getFrontInWindow(w, head, minTheta, minPopProp, minPopMeanDiff, ...\n",
    "                                       minSinglePopCohesion, minGlobalPopCohesion, corners)\n",
    "% ...\n",
    "% If CORNERS exist than it holds the start and stop index of 1/4 sub-window of W inside which\n",
    "% we will retain the fronts found. Detections outside this sub-window are ignored\n",
    "%\n",
    "% Here we follow, patially, what is donne in MGET (FrontUtils.cpp by Jason Roberts) that in turn,\n",
    "% according to program's notes, followed an original Fortran code by Dave Ulman.\n",
    "\n",
    "\tif (nargin < 8),\tcorners = [];\tend\n",
    "\txdata = [];\t\tydata = [];\t\tz = [];\t\texitType = 0;\n",
    "\n",
    "\tmask = isnan(w);\t\n",
    "\thaveNaNs = any(mask(:));\n",
    "\tn_NaNs = 0;\n",
    "\tif (haveNaNs)\n",
    "\t\tn_NaNs = sum(mask(:));\n",
    "\t\tif (n_NaNs / numel(w) > 0.5)\t\t\t% Window must be at least > half filled\n",
    "\t\t\texitType = -1;\n",
    "\t\t\treturn\n",
    "\t\tend\n",
    "\tend\n",
    "\n",
    "\tmi_ma = double([min(w(:)) max(w(:))]);\t\t\n",
    "\tn = ceil(diff(mi_ma) / 0.02);\n",
    "% \t[y,xout] = histo_m('hist',w(:), n, mi_ma); o hist funciona\n",
    "    [y,xout] = hist(w(:),n,mi_ma);  % esta é a função histograma do MATLAB. deve haver algo parecido no python\n",
    "\n",
    "\tthresValue = xout(1);\ttotalCount = numel(w) - n_NaNs;\n",
    "\tthreshPopACount = 0;\tthreshSeparation = -1;\n",
    "\tthreshPopAMean = 0;\t\tthreshPopBMean = 0;\n",
    "\n",
    "\tw(mask) = 0;\t\t\t\t% Replace NaNs with 0's\n",
    "\ttotalSum = sum(w(:));\n",
    "\ttotalSumSquares = sum(w(:) .* w(:));\n",
    "\n",
    "\tfor (k = 2:n-1)\t\t\t\t% Ignore first and last as candidates\n",
    "\t\tpopASum = sum(y(1:k) .* xout(1:k));\n",
    "\t\tpopBSum = sum(y(k+1:end) .* xout(k+1:end));\n",
    "\t\tpopACount = sum(y(1:k));\n",
    "\t\tpopBCount = sum(y(k+1:end));\n",
    "\n",
    "\t\tpopAMean = popASum / popACount;\n",
    "\t\tpopBMean = popBSum / popBCount;\n",
    "\t\tseparation = popACount * popBCount * (popAMean - popBMean) * (popAMean - popBMean);\n",
    "\t\tif (separation > threshSeparation)\n",
    "\t\t\tthreshSeparation = separation;\n",
    "\t\t\tthresValue = xout(k);\n",
    "\t\t\tthreshPopACount = popACount;\n",
    "\t\t\tthreshPopAMean = popAMean;\n",
    "\t\t\tthreshPopBMean = popBMean;\n",
    "\t\tend\n",
    "\tend\n",
    "\n",
    "\t% Continue only if the proportional size of the smaller population exceeds the minimum allowed value.\n",
    "\t% This test corresponds to equation 14 in Cayula-Cornillon\n",
    "\tif (threshPopACount / totalCount < minPopProp)\n",
    "\t\texitType = 1;\n",
    "\t\treturn\n",
    "\tend\n",
    "\tif (1.0 - threshPopACount / totalCount < minPopProp)\n",
    "\t\texitType = 1;\n",
    "\t\treturn\n",
    "\tend\n",
    "\t% Abort this window if the difference in the populations' means is less than a minimum value.\n",
    "\tif (threshPopBMean - threshPopAMean < minPopMeanDiff)\n",
    "\t\texitType = 2;\n",
    "\t\treturn\n",
    "\tend\n",
    "\n",
    "\t% Calculate the criterion function THETA(TAUopt) discussed on page 72 of the paper.\n",
    "\ttotalMean = totalSum / totalCount;\n",
    "\tvariance = totalSumSquares - (totalMean * totalMean * totalCount);\n",
    "\ttheta = threshSeparation / (variance * totalCount);\n",
    "\tif (theta < minTheta)\n",
    "\t\texitType = 3;\n",
    "\t\treturn\n",
    "\tend\n",
    "\n",
    "\t% Cohesion\n",
    "\t% Count the number of times a population A cell is immediately adjacent to another population A cell,\n",
    "\t% and the same for population B. A cell can be adjacent on four sides. Count only two of them\n",
    "\t% (bottom and right side) because doing all four would be redundant. Do not count diagonal neighbors.\n",
    "\tcountANextToA = 0;\t\tcountBNextToB = 0;\n",
    "\tcountANextToAOrB = 0;\tcountBNextToAOrB = 0;\n",
    "\t[n_rows, n_cols] = size(w);\n",
    "\tfor (col = 1:n_cols-1)\n",
    "\t\tfor (row = 1:n_rows-1)\n",
    "\t\t\tif (haveNaNs && (mask(row,col) || mask(row+1,col) || mask(row, col + 1)))\n",
    "\t\t\t\tcontinue\n",
    "\t\t\tend\n",
    "\t\t\t% Examine the bottom neighbor\n",
    "\t\t\tif (w(row,col) <= thresValue)\n",
    "\t\t\t\tcountANextToAOrB = countANextToAOrB + 1;\n",
    "\t\t\t\tif (w(row + 1, col) <= thresValue)\n",
    "\t\t\t\t\tcountANextToA = countANextToA + 1;\n",
    "\t\t\t\tend\n",
    "\t\t\telse\n",
    "\t\t\t\tcountBNextToAOrB = countBNextToAOrB + 1;\n",
    "\t\t\t\tif (w(row + 1, col) > thresValue)\n",
    "\t\t\t\t\tcountBNextToB = countBNextToB + 1;\n",
    "\t\t\t\tend\n",
    "\t\t\tend\n",
    "\t\t\t% Examine the right neighbor\n",
    "\t\t\tif (w(row,col) <= thresValue)\n",
    "\t\t\t\tcountANextToAOrB = countANextToAOrB + 1;\n",
    "\t\t\t\tif (w(row, col + 1) <= thresValue)\n",
    "\t\t\t\t\tcountANextToA = countANextToA + 1;\n",
    "\t\t\t\tend\n",
    "\t\t\telse\n",
    "\t\t\t\tcountBNextToAOrB = countBNextToAOrB + 1;\n",
    "\t\t\t\tif (w(row, col + 1) > thresValue)\n",
    "\t\t\t\t\tcountBNextToB = countBNextToB + 1;\n",
    "\t\t\t\tend\n",
    "\t\t\tend\n",
    "\n",
    "\t\tend\n",
    "\tend\n",
    "\t\n",
    "\tpopACohesion = countANextToA / countANextToAOrB;\n",
    "\tpopBCohesion = countBNextToB / countBNextToAOrB;\n",
    "\tglobalCohesion = (countANextToA + countBNextToB) / (countANextToAOrB + countBNextToAOrB);\n",
    "\tif (popACohesion < minSinglePopCohesion)\n",
    "\t\texitType = 4;\n",
    "\t\treturn\n",
    "\tend\n",
    "\tif (popBCohesion < minSinglePopCohesion)\n",
    "\t\texitType = 4;\n",
    "\t\treturn\n",
    "\tend\n",
    "\tif (globalCohesion < minGlobalPopCohesion)\n",
    "\t\texitType = 4;\n",
    "\t\treturn\n",
    "\tend\n",
    "\n",
    "\t% OK, if we reach here we have a front. Compute its contour. This part is not discussed in any\n",
    "\t% of the papers I saw and is different from the aproach followed in MGET.\n",
    "\tX = linspace(head(1),head(2), n_cols);\n",
    "\tY = linspace(head(3),head(4), n_rows);\n",
    "\tif (isempty(corners))\t\t% Use the full window\n",
    "\t\tw = double(w);\t\t\t% It has to be because of the contourc\n",
    "\t\tif (haveNaNs)\n",
    "\t\t\tw(w == 0) = NaN;\t% Need to restore the NaNs to not invent new contours around zeros\n",
    "\t\tend\n",
    "\t\tc = contourc(X,Y,w,[thresValue thresValue]);\n",
    "\telse\n",
    "\t\t% The four corners have these indices [17 32 17 32; 17 32 1 16; 1 16 1 16; 1 16 17 32]\n",
    "\t\t% and the variable corners has one of its rows (the current to be retained sub-window)\n",
    "\t\tX = X(corners(3):corners(4));\n",
    "\t\tY = Y(corners(1):corners(2));\n",
    "\t\tw = double(w(corners(1):corners(2), corners(3):corners(4)));\n",
    "\t\tif (haveNaNs)\n",
    "\t\t\tw(w == 0) = NaN;\n",
    "\t\tend\n",
    "\t\tif (~all(all(isnan(w))))    % Sometimes w is all NaNs, which would screw later.\n",
    "\t\t\tc = contourc(X,Y,w,[thresValue thresValue]);\n",
    "\t\telse\n",
    "\t\t\tc = [];\n",
    "\t\tend\n",
    "\tend\n",
    "\tlimit = size(c,2);\n",
    "\ti = 1;\n",
    "\twhile(i < limit)\n",
    "\t\tnpoints = c(2,i);\n",
    "\t\tx = c(1,i+1:i+npoints);\t\ty = c(2,i+1:i+npoints);\n",
    "\t\tif (x(1) == x(end) || npoints < 7)\t\t% We don't want closed lines nor very short ones\n",
    "\t\t\ti = i+npoints+1;\n",
    "\t\t\tcontinue\n",
    "\t\tend\n",
    "\t\tif (isempty(xdata))\t\t\t% First contour\n",
    "\t\t\txdata = x;\tydata = y;\n",
    "\t\telse\n",
    "\t\t\txdata = [xdata NaN x];\n",
    "\t\t\tydata = [ydata NaN y];\n",
    "\t\tend\n",
    "\t\ti = i+npoints+1;\n",
    "\t\t%xdata = c(1,2:npoints+1);\t\tydata = c(2,2:npoints+1);\n",
    "\tend\n",
    "\tz = thresValue;\n",
    "\t\n",
    "\tif (isempty(xdata))\n",
    "\t\texitType = 5;\n",
    "    end \n",
    "end"
   ]
  },
  {
   "cell_type": "code",
   "execution_count": null,
   "id": "7bd1246f",
   "metadata": {},
   "outputs": [],
   "source": []
  },
  {
   "cell_type": "markdown",
   "id": "b0778c46",
   "metadata": {},
   "source": [
    "### Código: function getFrontInWindow() in Python (passo a passo)"
   ]
  },
  {
   "cell_type": "code",
   "execution_count": 206,
   "id": "fd7ffd79",
   "metadata": {},
   "outputs": [],
   "source": [
    "def getFrontInWindow(w, head, minTheta, minPopProp, minPopMeanDiff, minSinglePopCohesion, \n",
    "                     minGlobalPopCohesion, corners):\n",
    "    \n",
    "    #empty arrays de xdata, ydata e z\n",
    "    xdata = np.array([])\n",
    "    ydata = np.array([])\n",
    "    z = np.array([])\n",
    "    exitType=0\n",
    "    \n",
    "    #mask é um array com a shape de w, que vai ser 1 se nessa posição w for np.nan e 0 caso contrário\n",
    "    mask = np.isnan(w).astype('int')  \n",
    "    haveNaNs = np.any(mask[:]).astype('int')  #haveNaNs=1 se mask tiver 1s (que correspondem a NaNs na matriz w)\n",
    "    n_NaNs=0\n",
    "    \n",
    "    if haveNaNs:\n",
    "        n_NaNs = sum(mask.flatten()[:])       #contar nr de 1s (NaNs na matriz w) que existem\n",
    "        if (n_NaNs/len(w.flatten())>0.5):     #window não pode ter mais de 50% dos seus pixeis como NaNs\n",
    "            exitType=-1\n",
    "            return\n",
    "        \n",
    "    mi_ma = [np.nanmin(w), np.nanmax(w)]        #array com valor minimo e máximo de w\n",
    "    n = math.ceil((mi_ma[1]-mi_ma[0])/0.02)     #numero de bins\n",
    "    bins = np.arange(0.01, mi_ma[1], 0.02)      #definir a sequencia dos Bins e ter resultados iguais ao MATLAB\n",
    "    [y, xout] = np.histogram(w[:], bins, mi_ma)    #y->frequency counts, Xout->bin location   \n",
    "    #DUVIDA -> valored de Y estão a dar diferentes dos do MATLAB\n",
    "    \n",
    "    thresValue = xout[0]        \n",
    "    totalCount = len(w.flatten()) - n_NaNs    #nr de pixeis não NaNs que existem\n",
    "    threshPopACount = 0\n",
    "    threshSeparation = -1\n",
    "    threshPopAMean = 0\n",
    "    threshPopBMean = 0\n",
    "    \n",
    "    w[mask==1] = 0    #Replace NaNs with 0's (quando o mask é 1 substituir valores do array w por 0)\n",
    "    totalSum = sum(w.flatten())\n",
    "    totalSumSquares = sum(w.flatten()*w.flatten())\n",
    "    \n",
    "    \n",
    "    #Neste for loop ele vai descobrir qual é a linha que vai fazer a melhor separação entre a média da população  \n",
    "    # da esquerda e da direita (A e B) - e esse vai ser o meu thresValue\n",
    "    for k in range(1,n-1):     #ignore the first and last candidates (senão seria de 0 a n)\n",
    "        popASum = sum(y[0:k] * xout[0:k])\n",
    "        popBSum = sum(y[k+1:] * xout[k+1:])\n",
    "        popACount = sum(y[0:k])     #soma das frequências (y) do lado da população A\n",
    "        popBCount = sum(y[k+1:])     #soma das frequências (y) do lado da população B\n",
    "    \n",
    "        popAMean = popASum/popACount\n",
    "        popBMean = popBSum/popBCount\n",
    "        separation = popACount * popBCount * (popAMean - popBMean) * (popAMean - popBMean)\n",
    "        if separation>threshSeparation:\n",
    "            threshSeparation = separation\n",
    "            thresValue = xout[k]\n",
    "            threshPopACount = popACount\n",
    "            threshPopAMean = popAMean\n",
    "            threshPopBMean = popBMean\n",
    "            \n",
    "        #abortar caso a proporção da população A seja menor que um dado minimo\n",
    "    if (threshPopACount / totalCount < minPopProp):\n",
    "        exitType = 1\n",
    "        return    \n",
    "    \n",
    "    #abortar caso a proporção da população B seja menor que um dado minimo\n",
    "    if (1.0 - threshPopACount / totalCount < minPopProp):\n",
    "        exitType = 1\n",
    "        return\n",
    "    \n",
    "    #abort this window if the difference in the populations means is less than a minimum value\n",
    "    if (threshPopBMean - threshPopAMean < minPopMeanDiff):\n",
    "        exitType = 2\n",
    "        return\n",
    "    \n",
    "    #Calculate the criterion function THETA (TAUopt) in page 72 of the paper\n",
    "    totalMean = totalSum/totalCount\n",
    "    variance = totalSumSquares - (totalMean * totalMean * totalCount)\n",
    "    theta = threshSeparation / (variance * totalCount)\n",
    "    if (theta < minTheta):         #abortar caso theta seja menor que um dado minimo \n",
    "        exitType = 3\n",
    "        return\n",
    "    \n",
    "    #Cohesion - agora que ja sei qual o valor de separação. Com base neste valor de separação vou elemento a\n",
    "    #elemento da matriz, verificar se este é maior ou menor que a separação e conforme, \n",
    "    #vemos se é maior para baixo ou para a direita (quando é maior adiciono dum lado quando é menor adiciono do outro)\n",
    "    #Count the nr of times a population A cell is immediately adjacent to another popA cell and the same for popB\n",
    "    # A cell can be adjacent on 4 sides. Count only 2 of them (bottom and right side) because doing all 4 would be\n",
    "    #redundant. Do not count diagonal neighbors\n",
    "    countANextToA = 0\n",
    "    countBNextToB = 0\n",
    "    countANextToAOrB = 0\n",
    "    countBNextToAOrB = 0\n",
    "    [n_rows, n_cols] = w.shape\n",
    "    for col in range(0, n_cols-1):\n",
    "        for row in range(0, n_rows-1):\n",
    "            if (haveNaNs & (mask[row, col] | mask[row+1, col] | mask[row, col+1])):\n",
    "                continue\n",
    "                         \n",
    "            #examine the bottom neighbor\n",
    "            if (w[row, col] <= thresValue):           # se o pixel da matriz for menor que o elemento de separação\n",
    "                countANextToAOrB = countANextToAOrB + 1      #incrementar em 1 o countANextToAOrB\n",
    "                if (w[row+1, col] <= thresValue):            #se pixel da linha de baixo for menor que separação\n",
    "                    countANextToA = countANextToA + 1        #incrementar countANextToA\n",
    "            else:                                            # se o pixel for maior que a separação\n",
    "                countBNextToAOrB = countBNextToAOrB + 1      #incrementar countBNextToAOrB\n",
    "                if (w[row+1, col] > thresValue):             #se o pixel da linha de baixo for maior que separação\n",
    "                    countBNextToB = countBNextToB + 1        #incrementar countBNextToB\n",
    "                         \n",
    "                         \n",
    "            # Examine the right neighbor\n",
    "            if (w[row, col] <= thresValue):                     # se o pixel da matriz for menor que a separação      \n",
    "                countANextToAOrB = countANextToAOrB + 1         # incrementar countANextToAOrB\n",
    "                if (w[row, col+1] <= thresValue):               #se o pixel da direita for menor que separação\n",
    "                    countANextToA = countANextToA + 1           # incrementar countANextToA\n",
    "            else:                                               # se o pixel da matriz for maior que a separação\n",
    "                countBNextToAOrB = countBNextToAOrB + 1         #incrementar countBNextToAOrB\n",
    "                if (w[row, col+1] > thresValue):                #se o pixel da direita for maior que separação\n",
    "                    countBNextToB = countBNextToB +1            # incrementar countBNextToB\n",
    "                         \n",
    "                         \n",
    "    popACohesion = countANextToA / countANextToAOrB\n",
    "    popBohesion = countBextToB/ countBextToAOrB\n",
    "    globalCohesion = (countANextToA + countBNextToB) / (countANextToAOrB + countBNextToAOrB)\n",
    "    \n",
    "    #Estes ifs são para caso surjam erros (parametros menores que certos limites)\n",
    "    if (popACohesion < minSinglePopCohesion):\n",
    "        exitType = 4\n",
    "        return\n",
    "                         \n",
    "    if (popBCohesion < minSinglePopCohesion):\n",
    "        exitType = 4\n",
    "        return\n",
    "                         \n",
    "    if (globalCohesion < minGlobalPopCohesion):\n",
    "        exitType = 4\n",
    "        return\n",
    "                         \n",
    "                         \n",
    "    #OK if we reach here we have a front. Compute its contour\n",
    "    X = np.linspace(head[0], head[1], n_cols)    #Extremos do array que se obtem com a meshgrid em X##############\n",
    "    Y = np.linspace(head[2], head[3], n_rows)\n",
    "    if (corners.size == 0):\n",
    "        w = w.astype('double')    \n",
    "        if haveNaNs:\n",
    "            w[w==0] = np.nan      # Need to restore the NaNs to not invent new contours around zeros\n",
    "        \n",
    "        c = plt.contour(X, Y, w, [thresValue, thresValue])\n",
    "    else:\n",
    "        #the 4 corners havethese indices [17,32,17,32; 17,32,1,16; 1,16,1,16;1,16,17,32]\n",
    "        # and the variable corners has one of its rows (the current to be retained sub-window)\n",
    "        X = X[corners[2,0]-1]\n",
    "        Y = Y[corners[0,0]-1]    \n",
    "        w = w[corners[0,0]-1, corners[2,0]-1]  \n",
    "        \n",
    "        if  haveNaNs:\n",
    "            w[w==0] = np.nan     # Need to restore the NaNs to not invent new contours around zeros\n",
    "                         \n",
    "        if (all(np.isnan(coco))==True):\n",
    "            c = np.array([])\n",
    "        else:\n",
    "            c = plt.contour(X, Y, w, [thresValue, thresValue])\n",
    "                         \n",
    "        limit = c.shape[1]\n",
    "        i = 1\n",
    "        while i<limit:\n",
    "            npoints = c[1, i-1]\n",
    "            x = c[0, i:i+npoints-1]\n",
    "            y = c[1, i:i+npoints-1]\n",
    "            \n",
    "            if (x[0] == x[-1] | npoints<7):   #we dont want closed lines nor very short ones\n",
    "                i = i+npoints+1\n",
    "                continue\n",
    "                         \n",
    "            if (xdata.size == 0):\n",
    "                xdata = x    #first contour\n",
    "                ydata = y\n",
    "            else:\n",
    "                xdata = [xdata, np.nan, x]\n",
    "                ydata = [ydata, np.nan, y]\n",
    "                         \n",
    "            i = i+npoints+1\n",
    "            # xdata = c[0, 1:npoints+1]      ydata 0 c[1, 1:npoints+1]\n",
    "        \n",
    "        z = thresValue\n",
    "        \n",
    "        if (xdata.size == 0):\n",
    "            exitType = 5;\n",
    "            \n",
    "                 "
   ]
  },
  {
   "cell_type": "markdown",
   "id": "b93532b1",
   "metadata": {},
   "source": [
    "#### DUVIDA:\n",
    "\n",
    "Na linha de código ([y, xout] = np.histogram(w[:], n, mi_ma)), em MATLAB xout é um array com shape (500) que começa em 0,01 e acaba em 9,99 (em passo de 0.02) Em python xout é um array de shape (501) que começa em 0 e termina em 10 (em passo de 0.02).\n",
    "\n",
    "O que acontece é que em MATLAB, o array xout corresponde aos valores centrais dos bins enquanto que em Python o array xout corresponde às extremidades dos bins. Por isso é que o array xout em python tem mais 1 elemento"
   ]
  },
  {
   "cell_type": "code",
   "execution_count": null,
   "id": "02a2287c",
   "metadata": {},
   "outputs": [],
   "source": []
  },
  {
   "cell_type": "code",
   "execution_count": 20,
   "id": "e2eac36d",
   "metadata": {},
   "outputs": [],
   "source": [
    "#mask = np.array([[0, 0, 0, 1, 0, 1, 0, 0, 1], [0, 1, 0, 1, 0, 1, 1, 0, 1], [0, 0, 0, 1, 0, 1, 0, 0, 1]], dtype='bool')\n",
    "mask = np.array([])"
   ]
  },
  {
   "cell_type": "code",
   "execution_count": 21,
   "id": "db058ec2",
   "metadata": {},
   "outputs": [],
   "source": [
    "w = np.array([[1,2,3,4,5,np.nan,1,1,2], [1,2,3,4,0,np.nan,0,1,2], [1,2,3,4,10,6,0,1,2]])"
   ]
  },
  {
   "cell_type": "code",
   "execution_count": 22,
   "id": "6e8eed32",
   "metadata": {},
   "outputs": [
    {
     "data": {
      "text/plain": [
       "array([[ 1.,  2.,  3.,  4.,  5., nan,  1.,  1.,  2.],\n",
       "       [ 1.,  2.,  3.,  4.,  0., nan,  0.,  1.,  2.],\n",
       "       [ 1.,  2.,  3.,  4., 10.,  6.,  0.,  1.,  2.]])"
      ]
     },
     "execution_count": 22,
     "metadata": {},
     "output_type": "execute_result"
    }
   ],
   "source": [
    "w"
   ]
  },
  {
   "cell_type": "code",
   "execution_count": 32,
   "id": "8cfd1aee",
   "metadata": {},
   "outputs": [
    {
     "data": {
      "text/plain": [
       "(499,)"
      ]
     },
     "execution_count": 32,
     "metadata": {},
     "output_type": "execute_result"
    }
   ],
   "source": [
    "y.shape"
   ]
  },
  {
   "cell_type": "code",
   "execution_count": 23,
   "id": "13aeb575",
   "metadata": {},
   "outputs": [],
   "source": [
    "        \n",
    "xdata = np.array([])\n",
    "ydata = np.array([])\n",
    "z = np.array([])\n",
    "exitType=0\n",
    "    \n",
    "#mask é um array com a shape de w, que vai ser 1 se nessa posição w for np.nan e 0 caso contrário\n",
    "mask = np.isnan(w).astype('int')   #if is nan convert to 1 if its not nan convert to 0\n",
    "haveNaNs = np.any(mask[:]).astype('int')      #check\n",
    "n_NaNs=0\n",
    "    \n",
    "if haveNaNs:\n",
    "    n_NaNs = sum(mask.flatten()[:])            #check\n",
    "\n",
    "  #  if (n_NaNs/len(w.flatten())>0.5):     #window must be at least > half filled    #check\n",
    "   #     exitType=-1\n",
    "    #    return\n",
    "        \n",
    "mi_ma = [np.nanmin(w), np.nanmax(w)]    #array com valor minimo e máximo de w\n",
    "n = math.ceil((mi_ma[1]-mi_ma[0])/0.02)\n",
    "bins = np.arange(0.01, mi_ma[1], 0.02)\n",
    "[y, xout] = np.histogram(w[:], bins, mi_ma)  #y->frequency counts (ESTA A DAR DIFERENTE DO MATLAB), Xout->bin location \n",
    "    # ???????????????????????????????????????????????????\n",
    "    \n",
    "thresValue = xout[0]\n",
    "totalCount = len(w.flatten()) - n_NaNs\n",
    "threshPopACount = 0\n",
    "threshSeparation = -1\n",
    "threshPopAMean = 0\n",
    "threshPopBMean = 0\n",
    "    \n",
    "w[mask==1] = 0     #Replace NaNs with 0's (quando o mask é 1 substituir valores do array w por 0)         #check\n",
    "totalSum = sum(w.flatten())                        #check\n",
    "totalSumSquares = sum(w.flatten()*w.flatten())     #check\n",
    "    \n",
    "#for k in range(1,n-1):     #ignore the first and last candidates (senão seria de 0 a n)\n",
    " #   popASum = sum(y[0:k] * xout[0:k])\n",
    "  #  popBSum = sum(y[k+1:] * xout[k+1:])\n",
    "   # popACount = sum(y[0:k])\n",
    "    #popBCount = sum(y[k+1:])\n",
    "    \n",
    "    #popAMean = popASum/popACount\n",
    "    #popBMean = popBSum/popBCount\n",
    "    #separation = popACount * popBCount * (popAMean - popBMean) * (popAMean - popBMean)\n",
    "    #if separation>threshSeparation:\n",
    "     #   threshSeparation = separation\n",
    "      #  thresValue = xout[k]\n",
    "       # threshPopACount = popACount\n",
    "        #threshPopAMean = popAMean\n",
    "        #threshPopBMean = popBMean\n",
    "        \n",
    "        \n",
    "#if (threshPopACount / totalCount < minPopProp):\n",
    " #   exitType = 1\n",
    "  #  return     #arranjar forma de exit the function and completely exit the loop\n",
    "\n",
    "#if (1.0 - threshPopACount / totalCount < minPopProp):\n",
    " #   exitType = 1\n",
    "  #  return\n",
    "\n",
    "#if (threshPopBMean - threshPopAMean < minPopMeanDiff):\n",
    " #   exitType = 2\n",
    "  #  return\n",
    "\n",
    "#totalMean = totalSum/totalCount\n",
    "#variance = totalSumSquares - (totalMean * totalMean * totalCount)\n",
    "#theta = threshSeparation / (variance * totalCount)\n",
    "#if (theta < minTheta):\n",
    " #   exitType = 3\n",
    "  #  return\n",
    "        \n",
    "    \n",
    "#countANextToA = 0\n",
    "#countBNextToB = 0\n",
    "#countANextToAOrB = 0\n",
    "#countBNextToAOrB = 0\n",
    "[n_rows, n_cols] = w.shape\n",
    "#for col in range(0, n_cols-1):\n",
    " #   for row in range(0, n_rows-1):\n",
    "  #      if (haveNaNs & (mask[row, col] | mask[row+1, col] | mask[row, col+1])):\n",
    "   #         continue\n",
    "            \n",
    "        #examine the bottom neighbor\n",
    "    #    if (w[row, col] <= thresValue):\n",
    "     #       countANextToAOrB = countANextToAOrB + 1\n",
    "      #      if (w[row+1, col] <= thresValue):\n",
    "       #         countANextToA = countANextToA + 1\n",
    "        #else:\n",
    "         #   countBextToAOrB = countBextToAOrB + 1\n",
    "          #  if (w[row+1, col] > thresValue):\n",
    "                #countBNextToB = countBNextToB + 1\n",
    "                         \n",
    "                         \n",
    "        # Examine the right neighbor\n",
    "       # if (w[row, col] <= thresValue):\n",
    "        #    countANextToAOrB = countANextToAOrB + 1\n",
    "         #   if (w[row, col+1] <= thresValue):\n",
    "          #      countANextToA = countANextToA + 1\n",
    "        #else:\n",
    "         #   countBextToAOrB = countBextToAOrB + 1\n",
    "          #  if (w[row, col+1] > thresValue):\n",
    "           #     countBNextToB = countBNextToB +1 \n",
    "        \n",
    "        \n",
    "#popACohesion = countANextToA / countANextToAOrB\n",
    "#popBohesion = countBextToB/ countBextToAOrB\n",
    "#globalCohesion = (countANextToA + countBNextToB) / (countANextToAOrB + countBNextToAOrB)\n",
    "   \n",
    "#X = np.linspace(head[0], head[1], n_cols)    #array das coordenadas das colunas\n",
    "#Y = np.linspace(head[2], head[3], n_rows)    #array das coordenadas das linhas\n",
    "\n",
    "#X = X[corners[2,0]-1]\n",
    "#Y = Y[corners[0,0]-1]    \n",
    "#w = w[corners[0,0]-1, corners[2,0]-1]  "
   ]
  },
  {
   "cell_type": "code",
   "execution_count": 18,
   "id": "c5952dcf",
   "metadata": {},
   "outputs": [],
   "source": [
    "corners = np.array([[17, 32, 17, 32], [17, 32, 1, 16], [1, 16, 1, 16], [1, 16, 17, 32]])"
   ]
  },
  {
   "cell_type": "code",
   "execution_count": 142,
   "id": "54e289b3",
   "metadata": {},
   "outputs": [
    {
     "data": {
      "text/plain": [
       "16"
      ]
     },
     "execution_count": 142,
     "metadata": {},
     "output_type": "execute_result"
    }
   ],
   "source": [
    "corners[0,0]-1"
   ]
  },
  {
   "cell_type": "code",
   "execution_count": 143,
   "id": "4329a5c5",
   "metadata": {},
   "outputs": [
    {
     "data": {
      "text/plain": [
       "[16, 0]"
      ]
     },
     "execution_count": 143,
     "metadata": {},
     "output_type": "execute_result"
    }
   ],
   "source": [
    "[corners[0,0]-1, corners[2,0]-1]"
   ]
  },
  {
   "cell_type": "code",
   "execution_count": null,
   "id": "b25d043e",
   "metadata": {},
   "outputs": [],
   "source": [
    "corners(3) = corners(3,1) (linha 3 coluna 1) = 1\n",
    "corners(4) = corners(4,1) (linha 4 coluna 1) = 1\n",
    "corners(1) = corners(1,1) = 17\n",
    "corners(2) = corners(2,1) = 17"
   ]
  },
  {
   "cell_type": "code",
   "execution_count": 144,
   "id": "9dc8a46e",
   "metadata": {},
   "outputs": [
    {
     "data": {
      "text/plain": [
       "array([[ 1.,  2.,  3.,  4.,  5.,  0.,  1.,  1.,  2.],\n",
       "       [ 1.,  2.,  3.,  4.,  0.,  0.,  0.,  1.,  2.],\n",
       "       [ 1.,  2.,  3.,  4., 10.,  6.,  0.,  1.,  2.]])"
      ]
     },
     "execution_count": 144,
     "metadata": {},
     "output_type": "execute_result"
    }
   ],
   "source": [
    "w"
   ]
  },
  {
   "cell_type": "code",
   "execution_count": null,
   "id": "aeaaa9f2",
   "metadata": {},
   "outputs": [],
   "source": []
  },
  {
   "cell_type": "code",
   "execution_count": null,
   "id": "16c92345",
   "metadata": {},
   "outputs": [],
   "source": []
  },
  {
   "cell_type": "code",
   "execution_count": null,
   "id": "fb168360",
   "metadata": {},
   "outputs": [],
   "source": []
  },
  {
   "cell_type": "code",
   "execution_count": null,
   "id": "2815d754",
   "metadata": {},
   "outputs": [],
   "source": []
  },
  {
   "cell_type": "code",
   "execution_count": null,
   "id": "efa8821f",
   "metadata": {},
   "outputs": [],
   "source": []
  },
  {
   "cell_type": "code",
   "execution_count": null,
   "id": "9500bc39",
   "metadata": {},
   "outputs": [],
   "source": []
  },
  {
   "cell_type": "code",
   "execution_count": null,
   "id": "f8e34390",
   "metadata": {},
   "outputs": [],
   "source": []
  },
  {
   "cell_type": "code",
   "execution_count": null,
   "id": "9c322481",
   "metadata": {},
   "outputs": [],
   "source": []
  },
  {
   "cell_type": "code",
   "execution_count": null,
   "id": "39bc1f93",
   "metadata": {},
   "outputs": [],
   "source": []
  },
  {
   "cell_type": "code",
   "execution_count": null,
   "id": "c1e658c5",
   "metadata": {},
   "outputs": [],
   "source": []
  },
  {
   "cell_type": "code",
   "execution_count": null,
   "id": "9e1bc377",
   "metadata": {},
   "outputs": [],
   "source": []
  },
  {
   "cell_type": "code",
   "execution_count": null,
   "id": "7b068f33",
   "metadata": {},
   "outputs": [],
   "source": []
  },
  {
   "cell_type": "code",
   "execution_count": 7,
   "id": "e854da8e",
   "metadata": {},
   "outputs": [
    {
     "data": {
      "text/plain": [
       "[<mpl_toolkits.mplot3d.art3d.Line3D at 0x7f7677b64c40>]"
      ]
     },
     "execution_count": 7,
     "metadata": {},
     "output_type": "execute_result"
    },
    {
     "data": {
      "image/png": "[encoded data removed]",
      "text/plain": [
       "<Figure size 432x288 with 1 Axes>"
      ]
     },
     "metadata": {
      "needs_background": "light"
     },
     "output_type": "display_data"
    }
   ],
   "source": [
    "x1 = [1,2,3,4,5,6,7,8,9]\n",
    "y1 = [11,12,13,14,15,16,17,18,19,20]\n",
    "z1 = [21,22,23,24,25,26,27,28,29,30]\n",
    "\n",
    "ax = plt.axes(projection='3d')\n",
    "ax.plot3D(x1, y1, z1, 'gray')"
   ]
  },
  {
   "cell_type": "code",
   "execution_count": null,
   "id": "930db085",
   "metadata": {},
   "outputs": [],
   "source": []
  },
  {
   "cell_type": "code",
   "execution_count": 56,
   "id": "eff7e526",
   "metadata": {},
   "outputs": [],
   "source": [
    "x11 = np.array([1,2,3,4,5,6,7,8,9])\n",
    "y11 = np.array([11,12,13,14,15,16,17,18,19])\n",
    "z11 = np.arange(1,82).reshape(9,9)"
   ]
  },
  {
   "cell_type": "code",
   "execution_count": 62,
   "id": "1f766922",
   "metadata": {},
   "outputs": [
    {
     "data": {
      "image/png": "[encoded data removed]",
      "text/plain": [
       "<Figure size 432x288 with 1 Axes>"
      ]
     },
     "metadata": {
      "needs_background": "light"
     },
     "output_type": "display_data"
    }
   ],
   "source": [
    "c = plt.contour(x11,y11, z11)"
   ]
  },
  {
   "cell_type": "code",
   "execution_count": 63,
   "id": "2fde8c77",
   "metadata": {},
   "outputs": [
    {
     "data": {
      "text/plain": [
       "<matplotlib.contour.QuadContourSet at 0x7f767537ed60>"
      ]
     },
     "execution_count": 63,
     "metadata": {},
     "output_type": "execute_result"
    }
   ],
   "source": [
    "c"
   ]
  },
  {
   "cell_type": "code",
   "execution_count": null,
   "id": "b5c24af1",
   "metadata": {},
   "outputs": [],
   "source": []
  },
  {
   "cell_type": "code",
   "execution_count": 48,
   "id": "f7d3b9bb",
   "metadata": {},
   "outputs": [
    {
     "data": {
      "text/plain": [
       "<matplotlib.image.AxesImage at 0x7f7675433460>"
      ]
     },
     "execution_count": 48,
     "metadata": {},
     "output_type": "execute_result"
    },
    {
     "data": {
      "image/png": "[encoded data removed]",
      "text/plain": [
       "<Figure size 432x288 with 1 Axes>"
      ]
     },
     "metadata": {
      "needs_background": "light"
     },
     "output_type": "display_data"
    }
   ],
   "source": [
    "from skimage import measure\n",
    "contours = measure.find_contours(z11)\n",
    "plt.imshow(z11, cmap=plt.cm.gray)"
   ]
  },
  {
   "cell_type": "code",
   "execution_count": 55,
   "id": "2b4db7af",
   "metadata": {},
   "outputs": [
    {
     "data": {
      "text/plain": [
       "(9, 2)"
      ]
     },
     "execution_count": 55,
     "metadata": {},
     "output_type": "execute_result"
    }
   ],
   "source": [
    "contours[0].shape"
   ]
  },
  {
   "cell_type": "code",
   "execution_count": 43,
   "id": "c23c2958",
   "metadata": {},
   "outputs": [],
   "source": [
    "dat0= c.allsegs[1]"
   ]
  },
  {
   "cell_type": "code",
   "execution_count": 66,
   "id": "e007c226",
   "metadata": {},
   "outputs": [
    {
     "data": {
      "text/plain": [
       "(9, 2)"
      ]
     },
     "execution_count": 66,
     "metadata": {},
     "output_type": "execute_result"
    }
   ],
   "source": [
    "dat0[0].shape"
   ]
  },
  {
   "cell_type": "code",
   "execution_count": 42,
   "id": "09b60fcc",
   "metadata": {},
   "outputs": [
    {
     "data": {
      "text/plain": [
       "9"
      ]
     },
     "execution_count": 42,
     "metadata": {},
     "output_type": "execute_result"
    }
   ],
   "source": [
    "dat0[0].shape[0]"
   ]
  },
  {
   "cell_type": "code",
   "execution_count": null,
   "id": "6a060f15",
   "metadata": {},
   "outputs": [],
   "source": []
  },
  {
   "cell_type": "code",
   "execution_count": null,
   "id": "6b0b8a16",
   "metadata": {},
   "outputs": [],
   "source": []
  },
  {
   "cell_type": "code",
   "execution_count": null,
   "id": "b715ca5e",
   "metadata": {},
   "outputs": [],
   "source": []
  },
  {
   "cell_type": "code",
   "execution_count": null,
   "id": "3021deab",
   "metadata": {},
   "outputs": [],
   "source": []
  }
 ],
 "metadata": {
  "kernelspec": {
   "display_name": "Python 3 (ipykernel)",
   "language": "python",
   "name": "python3"
  },
  "language_info": {
   "codemirror_mode": {
    "name": "ipython",
    "version": 3
   },
   "file_extension": ".py",
   "mimetype": "text/x-python",
   "name": "python",
   "nbconvert_exporter": "python",
   "pygments_lexer": "ipython3",
   "version": "3.8.10"
  }
 },
 "nbformat": 4,
 "nbformat_minor": 5
}
