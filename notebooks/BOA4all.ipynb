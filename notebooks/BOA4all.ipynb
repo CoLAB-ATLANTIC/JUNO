{
 "cells": [
  {
   "cell_type": "markdown",
   "id": "1191e383",
   "metadata": {},
   "source": [
    "##### In this notebook we will try to group the whole code into functions so that it is possible to visualize the frontal probabilities map for both the reanalysis data and the MUR data using the BOA algorithm"
   ]
  },
  {
   "cell_type": "code",
   "execution_count": 22,
   "id": "30d496a9",
   "metadata": {},
   "outputs": [],
   "source": [
    "import pandas as pd\n",
    "import numpy as np\n",
    "import matplotlib.pyplot as plt\n",
    "import seaborn as sns\n",
    "import netCDF4 as nc\n",
    "import xarray as xr\n",
    "import os\n",
    "from pathlib import Path\n",
    "from numpy import nanmedian\n",
    "import scipy\n",
    "import scipy.signal\n",
    "import math\n",
    "from numpy.fft import fft, ifft, rfft, fft2, ifft2\n",
    "import cmocean\n",
    "\n",
    "plt.rcParams[\"figure.figsize\"] = 10, 8\n",
    "%matplotlib inline"
   ]
  },
  {
   "cell_type": "code",
   "execution_count": null,
   "id": "10e1a054",
   "metadata": {},
   "outputs": [],
   "source": []
  },
  {
   "cell_type": "code",
   "execution_count": null,
   "id": "8002eeef",
   "metadata": {},
   "outputs": [],
   "source": []
  },
  {
   "cell_type": "markdown",
   "id": "98267896",
   "metadata": {},
   "source": [
    "# ----------------------------------------------------------------------------------------------------------\n",
    "### Functions for the BOA algorithm\n",
    "\n",
    "Estas são as funções que foram convertidas de R para Python (filt5, filt3 e boa)"
   ]
  },
  {
   "cell_type": "code",
   "execution_count": 2,
   "id": "aae63bc1",
   "metadata": {},
   "outputs": [],
   "source": [
    "def filt5(lon, lat, ingrid, nodata=np.nan):\n",
    "    \"\"\"\n",
    "    Find peaks in 5 directions. Flag as 5\n",
    "    Finds maximum of a 5x5 sliding window. If the central pixel is the maximum, this is flagged as a one.\n",
    "    All other pixels are flagged as zero.\n",
    "    \"\"\"\n",
    "    \n",
    "    nodatidx = ingrid.flatten()*np.nan ## creates single dim array with as much values as the matrix ingrid, with NANs\n",
    "    outgrid = np.zeros(ingrid.shape)   ## outgrid is a matrix with the shape of ingrid, full of Zeros\n",
    "\n",
    "    l1 = len(lat)\n",
    "    l2 = len(lon)\n",
    "\n",
    "    \n",
    "    for i in range(3, l1-1):   \n",
    "        for j in range(3, l2-1):\n",
    "            subg = ingrid[(i-3):(i+2), (j-3):(j+2)] # return the last 5 rows of the last 5 columns of the matrix\n",
    "            if np.isnan(subg).sum()==25:    #if all values in submatrix subg are null values:\n",
    "                outgrid[i,j] = 0\n",
    "            else:\n",
    "                vec = np.array(subg).T.flatten()    # array with values of the transpose subg matrix\n",
    "                ma = np.argmax(subg.flatten())      # index with the maximum value of subg array\n",
    "                mi = np.argmin(subg.flatten())      # index with the minimum value of subg array\n",
    "                \n",
    "                if ma==12 or mi==12:     #se ma or mi se tratar do valor meio da matrix 5x5 (if the central pixel is the maximum)\n",
    "                    outgrid[i-1,j-1] = 1      #flagged as 1\n",
    "                else:\n",
    "                    outgrid[i-1,j-1] = 0      #all other pixels are flagged as 0\n",
    "    \n",
    "    return outgrid"
   ]
  },
  {
   "cell_type": "code",
   "execution_count": null,
   "id": "d5cdc106",
   "metadata": {},
   "outputs": [],
   "source": []
  },
  {
   "cell_type": "code",
   "execution_count": 3,
   "id": "dcb8dc70",
   "metadata": {},
   "outputs": [],
   "source": [
    "def filt3(lon, lat, ingrid, grid5):\n",
    "    \"\"\"\n",
    "    Find peaks in 3 directions. FLag as 3\n",
    "    Returns a median smoothed grid of satellite data\n",
    "    \"\"\"\n",
    "    \n",
    "    outgrid = ingrid*0   # matrix of 0s with shape of ingrid matrix\n",
    "    l1 = len(lat)\n",
    "    l2 = len(lon)\n",
    "    \n",
    "    for i in range(3, l1-1):   \n",
    "        for j in range(3, l2-1):\n",
    "            if (grid5[i,j]==0):\n",
    "                subg = ingrid[(i-2):(i+1), (j-2):(j+1)]       # submatrix subg (3x3) \n",
    "                if np.isnan(subg).sum()==9:                   # if all values in submatrix subg (3x3) are null values:\n",
    "                    outgrid[i-1,j-1] = ingrid[i-1,j-1]\n",
    "                else:\n",
    "                    vec = np.array(subg).T.flatten()          # array with values of the transpose subg matrix\n",
    "                    ma = np.argmax(subg.flatten())            # index with the maximum value of subg array\n",
    "                    mi = np.argmin(subg.flatten())            # index with the minimum value of subg array\n",
    "                    \n",
    "                    if (ma==4 or mi==4):                      #se ma or mi se tratar do valor meio da matrix 3x3\n",
    "                        outgrid[i-1,j-1] = nanmedian(subg)    # median while ignoring NaNs.\n",
    "                    else:\n",
    "                        outgrid[i-1,j-1] = ingrid[i-1,j-1]\n",
    "            \n",
    "            else:\n",
    "                outgrid[i-1,j-1] = ingrid[i-1,j-1]\n",
    "                \n",
    "    return outgrid"
   ]
  },
  {
   "cell_type": "code",
   "execution_count": null,
   "id": "644bf7ca",
   "metadata": {},
   "outputs": [],
   "source": []
  },
  {
   "cell_type": "code",
   "execution_count": 4,
   "id": "93ac69f3",
   "metadata": {},
   "outputs": [],
   "source": [
    "def boa(lon, lat, ingrid, nodata = np.nan, direction = False):\n",
    "    \n",
    "    def filter2(x, filt):\n",
    "        \"\"\"\n",
    "        Workhorse filter from EBImage. Modified so we don't need colorspace and other annoying requirements ????\n",
    "        \"\"\"\n",
    "        \n",
    "        dx = x.shape                          \n",
    "        df = filt.shape  \n",
    "        \n",
    "        if (df[0]//2 == 0) or (df[1]//2 == 0):\n",
    "            sys.exit('dimensions of \"filter\" matrix must be odd')\n",
    "        if (dx[0] < df[0]) or (dx[1] < df[1]):\n",
    "            sys.exit(\"dimensions of 'x' must be bigger than 'filter'\")\n",
    "            \n",
    "        cx = tuple(elem//2 for elem in dx)    \n",
    "        cf = tuple(elem//2 for elem in df)    \n",
    "\n",
    "        wf = np.zeros(shape=dx)       #matrix with zeros with shape of x\n",
    "\n",
    "        wf[cx[0]-cf[0]-1:cx[0]+cf[0], cx[1]-cf[1]-1:cx[1]+cf[1]] = filt    #colocar valores de filt nos meio da matriz wf\n",
    "\n",
    "        wf = fft2(wf)         #apply the 2 dimensional discrete fourier transform                  \n",
    "    \n",
    "        dim_x = np.array(dx[0:2])\n",
    "        dim_x =np.append(dim_x, math.prod(dx)/math.prod(dx[0:2]))     \n",
    "\n",
    "        aux1 = np.arange(cx[0],dx[0]+1)\n",
    "        aux2 = np.arange(1,cx[0])\n",
    "        index1 = np.concatenate((aux1, aux2), axis=None)  \n",
    "        index1 = index1-1   \n",
    "\n",
    "        aux3 = np.arange(cx[1], dx[1]+1)\n",
    "        aux4 = np.arange(1,cx[1])\n",
    "        index2 = np.concatenate((aux3, aux4), axis=None) \n",
    "        index2 = index2-1   \n",
    "        \n",
    "        #estes index vao ser usados para reordenar valores da matriz y\n",
    "        \n",
    "        y = (scipy.fft.ifft2(scipy.fft.fft2(x)*wf)).real\n",
    "\n",
    "        y = np.array([[y[i][j] for j in index2] for i in index1])\n",
    "        \n",
    "        return y\n",
    "    \n",
    "#======================================================#\n",
    "# Main BOA algorithm                                   \n",
    "#======================================================#      \n",
    "    gx = np.matrix([[-1,0,1],[-2,0,2],[-1,0,1]])        #filter in x\n",
    "    gy = np.matrix([[1,2,1],[0,0,0],[-1,-2,-1]])        #filter in y\n",
    "        \n",
    "    np.nan_to_num(ingrid, nan=-9999, posinf=-9999, neginf=-9999) ##replace NaN and inf values with -9999\n",
    "        \n",
    "    grid5 = filt5(lon, lat, ingrid, nodata = nodata)\n",
    "    grid35 = filt3(lon, lat, ingrid, grid5)\n",
    "\n",
    "    # make an index of bad values and land pixels.\n",
    "    grid35 = grid35.astype(\"float\")\n",
    "    grid35[grid35 == -9999]=np.nan\n",
    "    naidx = np.isnan(grid35)        #matriz com dimensões de grid35 (True se valor for nan, False caso contrario)\n",
    "    # convert these (True values of naidx) to zeros (in grid35) for smoothing purposes\n",
    "    grid35[naidx]=0  \n",
    "\n",
    "    # perform the smoothing (Sobel filter)  \n",
    "    tgx = filter2(grid35, gx)\n",
    "    tgy = filter2(grid35, gy)\n",
    "        \n",
    "    tx = tgx/np.nansum(abs(np.array(gx).flatten()))    #tgx a dividir pela soma dos valores absolutos do filtro gx\n",
    "    ty = tgy/np.nansum(abs(np.array(gy).flatten()))    #tgy a dividir pela soma dos valores absolutos do filtro gy\n",
    "    front = np.sqrt((tx**2)+(ty**2))                   #front é raiz quadrada da soma dos quadrados dos valores de tx e ty\n",
    "\n",
    "\n",
    "#======================================================#\n",
    "# landmask and edge dilation\n",
    "#======================================================#\n",
    "\n",
    "    land = naidx*1\n",
    "    land = land.astype(\"float\")\n",
    "\n",
    "    land[land==1] = np.nan\n",
    "    land[~np.isnan(land)] = 1\n",
    "\n",
    "    \n",
    "#======================================================#\n",
    "# landmask and edge dilation using raster!\n",
    "#======================================================#\n",
    "\n",
    "    l2=lon.size    #using size because lon and lat are matrices\n",
    "    l1=lat.size\n",
    "\n",
    "    midx = land*np.nan\n",
    "\n",
    "    midx[5:(l1-2), 5:(l2-2)] = 1\n",
    "\n",
    "    land = np.multiply(land, midx)\n",
    "    \n",
    "    \n",
    "    ssr = np.flip(front.T, 0)\n",
    "    \n",
    "\n",
    "    #Apply a sliding window kernell to the land matrix\n",
    "    mask = scipy.signal.convolve2d(np.flip(land.T, 0), np.array([0,0,0,0,1,0,0,0,0]).reshape(3,3), boundary='symm', mode='same')\n",
    "\n",
    "    matrix_front =  mask * np.flip(front.T, 0)   #matrix of mask raster file * matrix of ssr raster file\n",
    "\n",
    "\n",
    "    \n",
    "    if direction==True:\n",
    "#   ************************************\n",
    "#   *** Calculate Gradient Direction ***\n",
    "#   ************************************\n",
    "        \n",
    "        n = ingrid.size       #nr os elements of the grid matrix\n",
    "        grid_shape = ingrid.shape\n",
    "\n",
    "        GRAD_DIR = np.zeros(n)     #matrix of zeros with shape of ingrid matrix\n",
    "\n",
    "        for i in range(n):\n",
    "            GRAD_DIR[i] = math.atan2(tgy.flatten()[i], tgx.flatten()[i])\n",
    "    \n",
    "        GRAD_DIR = GRAD_DIR*180/math.pi    # change radians to degrees\n",
    "\n",
    "        OK = np.where(GRAD_DIR < 0)\n",
    "\n",
    "        OK = np.array(OK)\n",
    "\n",
    "        if OK.size >1:\n",
    "            GRAD_DIR[OK] = 360 - abs(GRAD_DIR[OK])    #Adjust to 0-360 scheme (make negative degrees positive)\n",
    "    \n",
    "        GRAD_DIR = (360 - GRAD_DIR + 90) % 360     #Convert degrees so that 0 degrees is North and East is 90 degrees\n",
    "        GRAD_DIR = GRAD_DIR.reshape(grid_shape)\n",
    "        \n",
    "        \n",
    "        grad_dir = np.flip(GRAD_DIR.T, 0)\n",
    "\n",
    "\n",
    "        # create array grdir (result from multiplication of grad_dir_matrix and mask_matrix (its the conv matrix))\n",
    "        grdir_matrix = np.flip(GRAD_DIR.T, 0)*mask\n",
    "\n",
    "\n",
    "        #No R eles pôem numa named_list por isso aqui pus num dicionário (algo equivalente)\n",
    "        dic = {'grdir': grdir_matrix, 'front': matrix_front}\n",
    "        \n",
    "    else:\n",
    "        matrix_front\n",
    "\n",
    "        \n",
    "    return matrix_front"
   ]
  },
  {
   "cell_type": "markdown",
   "id": "78c28263",
   "metadata": {},
   "source": [
    "# -----------------------------------------------------------------------------------------------------------"
   ]
  },
  {
   "cell_type": "code",
   "execution_count": null,
   "id": "6c79220e",
   "metadata": {},
   "outputs": [],
   "source": []
  },
  {
   "cell_type": "code",
   "execution_count": null,
   "id": "6ebd112f",
   "metadata": {},
   "outputs": [],
   "source": []
  },
  {
   "cell_type": "code",
   "execution_count": null,
   "id": "f6e7a62b",
   "metadata": {},
   "outputs": [],
   "source": []
  },
  {
   "cell_type": "markdown",
   "id": "b90294f5",
   "metadata": {},
   "source": [
    "### BOA pipeline\n",
    "\n",
    "Nesta parte serão definidas as funções e o código para que seja possivel implementar o algoritmo BOA a diferentes datasets (no nosso caso serão os dados de modelo (Reanálise) e do MUR)"
   ]
  },
  {
   "cell_type": "code",
   "execution_count": null,
   "id": "ffd83b58",
   "metadata": {},
   "outputs": [],
   "source": []
  },
  {
   "cell_type": "code",
   "execution_count": 5,
   "id": "1712cf15",
   "metadata": {},
   "outputs": [],
   "source": [
    "def get_data(data):\n",
    "    \n",
    "    \"\"\"\n",
    "    function to get our netCDF file that is stored in the data directory and convert it to a dataframe.\n",
    "    The data parameter is the string name of the netCDF file we want to import\n",
    "    \"\"\"\n",
    "    \n",
    "    current_path = os.getcwd()\n",
    "    data_folder = os.path.join(current_path,\"../data\")\n",
    "    \n",
    "    nc_path = os.path.join(data_folder, data)\n",
    "    ds = nc.Dataset(nc_path)\n",
    "    netCDF = xr.load_dataset(nc_path)\n",
    "    \n",
    "    df = netCDF.to_dataframe()\n",
    "    df = df.reset_index()\n",
    "    \n",
    "    df = df.drop(['depth'], axis=1, errors='ignore') #drop the column 'depth' if exists: only exists in reanalysis\n",
    "    \n",
    "    #caso se esteja a importar os dados do MUR, renomear as colunas e passar a temperatura para Celsius\n",
    "    if data.startswith('mur'):\n",
    "        df.rename(columns={'lat': 'latitude', 'lon': 'longitude', 'time': 'time', 'analysed_sst':'thetao'}, inplace=True)\n",
    "        df['thetao'] = df['thetao']-273.15   \n",
    "        \n",
    "    \n",
    "    return df"
   ]
  },
  {
   "cell_type": "code",
   "execution_count": null,
   "id": "411f94f9",
   "metadata": {},
   "outputs": [],
   "source": []
  },
  {
   "cell_type": "code",
   "execution_count": 6,
   "id": "d7cd857d",
   "metadata": {},
   "outputs": [],
   "source": [
    "#Importar o netCDF dos dados de reanalise e converte-los para uma dataframe\n",
    "df_reanalysis = get_data('IBI2014-2019.nc')"
   ]
  },
  {
   "cell_type": "code",
   "execution_count": 7,
   "id": "bdbfed27",
   "metadata": {},
   "outputs": [],
   "source": [
    "#Importar o netCDF dos dados do MUR e converte-los para uma dataframe\n",
    "df_mur_sept = get_data('murSept2019.nc')"
   ]
  },
  {
   "cell_type": "code",
   "execution_count": null,
   "id": "27cc6aad",
   "metadata": {},
   "outputs": [],
   "source": []
  },
  {
   "cell_type": "code",
   "execution_count": null,
   "id": "06f22eff",
   "metadata": {},
   "outputs": [],
   "source": []
  },
  {
   "cell_type": "code",
   "execution_count": 8,
   "id": "e94cb033",
   "metadata": {},
   "outputs": [],
   "source": [
    "def get_period(df):\n",
    "    \n",
    "    \"\"\"\n",
    "    Function that receives a dataframe with data of SST relative to different days \n",
    "    and returns a dictionaire of dataframes (for each different day) and an array with the different dates \n",
    "    its possible to find in our dataframe \n",
    "    \"\"\"\n",
    "    \n",
    "    specificday = [pd.Timestamp(dd).strftime(\"%Y-%m-%d %H:%M:%S\") for dd in df['time'].unique()]\n",
    "    specificday = np.array(specificday, dtype=np.object)\n",
    "  \n",
    "    #create a dictionary to store the data frames for each day\n",
    "    days = {elem : pd.DataFrame for elem in specificday}\n",
    "\n",
    "    for key in days.keys():\n",
    "        days[key] = df[:][df['time'] == key]\n",
    "        \n",
    "    return days, specificday\n",
    "\n",
    "#after this function we only have to define the period we want to analyse"
   ]
  },
  {
   "cell_type": "code",
   "execution_count": null,
   "id": "5cceaef1",
   "metadata": {},
   "outputs": [],
   "source": []
  },
  {
   "cell_type": "code",
   "execution_count": 9,
   "id": "dedd1b89",
   "metadata": {},
   "outputs": [],
   "source": [
    "days_mur, specificday_mur = get_period(df_mur_sept)\n",
    "#days_mur -> dictionaire of dataframes for each day of the MUR data\n",
    "#specificday_mur -> array with the different dates that are in the data in question"
   ]
  },
  {
   "cell_type": "code",
   "execution_count": 11,
   "id": "3f7b12a4",
   "metadata": {},
   "outputs": [],
   "source": [
    "days_r, specificday_r = get_period(df_reanalysis)"
   ]
  },
  {
   "cell_type": "code",
   "execution_count": null,
   "id": "0975d268",
   "metadata": {},
   "outputs": [],
   "source": []
  },
  {
   "cell_type": "code",
   "execution_count": null,
   "id": "72f28c2b",
   "metadata": {},
   "outputs": [],
   "source": []
  },
  {
   "cell_type": "markdown",
   "id": "fea7c24c",
   "metadata": {},
   "source": [
    "##### Define the period we want to analyse"
   ]
  },
  {
   "cell_type": "code",
   "execution_count": 12,
   "id": "c794b4af",
   "metadata": {},
   "outputs": [],
   "source": [
    "set2019_mur = specificday_mur[(specificday_mur >='2019-09-01 09:00:00') & (specificday_mur<='2019-09-30 09:00:00')]"
   ]
  },
  {
   "cell_type": "code",
   "execution_count": 13,
   "id": "b5a36999",
   "metadata": {},
   "outputs": [],
   "source": [
    "set2019_r = specificday_r[(specificday_r >='2019-09-01 12:00:00') & (specificday_r<='2019-09-30 12:00:00')]\n",
    "#dates for the days of september 2019"
   ]
  },
  {
   "cell_type": "code",
   "execution_count": 34,
   "id": "68c250d3",
   "metadata": {},
   "outputs": [],
   "source": [
    "set15_2019_mur = specificday_mur[(specificday_mur =='2019-09-15 09:00:00')]"
   ]
  },
  {
   "cell_type": "code",
   "execution_count": 35,
   "id": "4b65d184",
   "metadata": {},
   "outputs": [],
   "source": [
    "set15_2019_r = specificday_r[(specificday_r =='2019-09-15 12:00:00')]"
   ]
  },
  {
   "cell_type": "code",
   "execution_count": 54,
   "id": "82158bb8",
   "metadata": {},
   "outputs": [],
   "source": [
    "set10_2019_mur = specificday_mur[(specificday_mur =='2019-09-10 09:00:00')]"
   ]
  },
  {
   "cell_type": "code",
   "execution_count": 55,
   "id": "abc41dcb",
   "metadata": {},
   "outputs": [],
   "source": [
    "set10_2019_r = specificday_r[(specificday_r =='2019-09-10 12:00:00')]"
   ]
  },
  {
   "cell_type": "code",
   "execution_count": null,
   "id": "ff563fe8",
   "metadata": {},
   "outputs": [],
   "source": []
  },
  {
   "cell_type": "code",
   "execution_count": null,
   "id": "7a05bdde",
   "metadata": {},
   "outputs": [],
   "source": []
  },
  {
   "cell_type": "code",
   "execution_count": null,
   "id": "ad4bb2ef",
   "metadata": {},
   "outputs": [],
   "source": []
  },
  {
   "cell_type": "code",
   "execution_count": 14,
   "id": "95786682",
   "metadata": {},
   "outputs": [],
   "source": [
    "def BOA_aplication(df):  \n",
    "    \n",
    "    \"\"\"\n",
    "    Função para que, para uma dada dataframe retorne a aplicação do BOA para um certo dia\n",
    "    \"\"\"\n",
    "    \n",
    "    \n",
    "    lat = np.array(df['latitude'].unique())\n",
    "    lon = np.array(df['longitude'].unique())\n",
    "    ingrid = np.array(df['thetao']).reshape(len(lat), len(lon))\n",
    "    \n",
    "    front = boa(lon=lon, lat=lat, ingrid=ingrid, nodata = np.nan, direction = False)\n",
    "    front = np.flip(front, axis=0)\n",
    "    front = np.array([[front[j][i] for j in range(len(front))] for i in range(len(front[0])-1,-1,-1)])\n",
    "    \n",
    "    return front"
   ]
  },
  {
   "cell_type": "code",
   "execution_count": null,
   "id": "3aa387b3",
   "metadata": {},
   "outputs": [],
   "source": []
  },
  {
   "cell_type": "code",
   "execution_count": null,
   "id": "caa833d2",
   "metadata": {},
   "outputs": [],
   "source": []
  },
  {
   "cell_type": "code",
   "execution_count": 27,
   "id": "c60b41d6",
   "metadata": {},
   "outputs": [],
   "source": [
    "def frontal_prob_boa(period, df, MUR=False):\n",
    "    \"\"\"\n",
    "    Função que retorna um array de shape com a frontal probability de cada pixel\n",
    "    \"\"\"\n",
    "    #if statment to define array shape based on which data it is\n",
    "    if MUR==False:\n",
    "        fp = np.zeros((121,169))\n",
    "    elif MUR==True: \n",
    "        fp = np.zeros((1001,1401))\n",
    "        \n",
    "    for day in period:\n",
    "        fp = fp + BOA_aplication(df[day])\n",
    "    \n",
    "    fp = fp/(len(period))     #para o calculo da FP vai dividir-se pelo numero de periodos (dias) em questão\n",
    "    \n",
    "    return fp"
   ]
  },
  {
   "cell_type": "code",
   "execution_count": 36,
   "id": "9e2e63ab",
   "metadata": {},
   "outputs": [],
   "source": [
    "fp = frontal_prob_boa(period=set15_2019_r, df=days_r, MUR=False)"
   ]
  },
  {
   "cell_type": "code",
   "execution_count": 37,
   "id": "800c4b4e",
   "metadata": {},
   "outputs": [
    {
     "data": {
      "text/plain": [
       "1.6770272456847226"
      ]
     },
     "execution_count": 37,
     "metadata": {},
     "output_type": "execute_result"
    }
   ],
   "source": [
    "np.nanmax(fp)"
   ]
  },
  {
   "cell_type": "code",
   "execution_count": 38,
   "id": "4fb2c3b6",
   "metadata": {},
   "outputs": [
    {
     "data": {
      "text/plain": [
       "array(['2019-09-15 12:00:00'], dtype=object)"
      ]
     },
     "execution_count": 38,
     "metadata": {},
     "output_type": "execute_result"
    }
   ],
   "source": [
    "set15_2019_r"
   ]
  },
  {
   "cell_type": "code",
   "execution_count": null,
   "id": "e1ab9c9f",
   "metadata": {},
   "outputs": [],
   "source": []
  },
  {
   "cell_type": "code",
   "execution_count": null,
   "id": "a4b22466",
   "metadata": {},
   "outputs": [],
   "source": []
  },
  {
   "cell_type": "code",
   "execution_count": 49,
   "id": "c05af225",
   "metadata": {},
   "outputs": [],
   "source": [
    "def BOA_visualization(period, df, MUR, vmin=None, vmax=None):\n",
    "    \n",
    "    \"\"\"\n",
    "    Função para visualizar o map of frontal probability e um histograma com as frontal probabilities\n",
    "    \"\"\"\n",
    "    \n",
    "    fp = frontal_prob_boa(period=period, df=df, MUR=MUR)\n",
    "    \n",
    "    #fp=jas_data[Tmax]\n",
    "    \n",
    "    plt.rcParams[\"figure.figsize\"] = (15, 25)\n",
    "    fig = plt.figure()\n",
    "    ax1 = fig.add_subplot(2,1,1)\n",
    "    img = ax1.imshow(fp, cmocean.cm.thermal, vmin=vmin, vmax=vmax)\n",
    "    plt.colorbar(img, orientation='horizontal', fraction=0.025, pad=0.08, aspect=50)\n",
    "    plt.title(\"Map of frontal probability\", fontsize=20)\n",
    "\n",
    "    ax2 = fig.add_subplot(2,1,2)\n",
    "    ax2.hist(fp.flatten(), bins=100);\n",
    "    plt.xlabel('Frontal Probability',fontsize=10)"
   ]
  },
  {
   "cell_type": "code",
   "execution_count": null,
   "id": "2a7cc975",
   "metadata": {},
   "outputs": [],
   "source": []
  },
  {
   "cell_type": "code",
   "execution_count": 56,
   "id": "b7b541b2",
   "metadata": {},
   "outputs": [
    {
     "data": {
      "image/png": "[encoded data removed]",
      "text/plain": [
       "<Figure size 1080x1800 with 3 Axes>"
      ]
     },
     "metadata": {
      "needs_background": "light"
     },
     "output_type": "display_data"
    }
   ],
   "source": [
    "BOA_visualization(period=set10_2019_mur, df=days_r, MUR=False)"
   ]
  },
  {
   "cell_type": "code",
   "execution_count": null,
   "id": "d8e0ade0",
   "metadata": {},
   "outputs": [],
   "source": []
  },
  {
   "cell_type": "code",
   "execution_count": null,
   "id": "3acdbebb",
   "metadata": {},
   "outputs": [],
   "source": []
  },
  {
   "cell_type": "code",
   "execution_count": null,
   "id": "2d106f12",
   "metadata": {},
   "outputs": [],
   "source": []
  },
  {
   "cell_type": "code",
   "execution_count": null,
   "id": "9236f1bb",
   "metadata": {},
   "outputs": [],
   "source": []
  },
  {
   "cell_type": "code",
   "execution_count": null,
   "id": "1d391e2f",
   "metadata": {},
   "outputs": [],
   "source": []
  },
  {
   "cell_type": "code",
   "execution_count": null,
   "id": "5181b047",
   "metadata": {},
   "outputs": [],
   "source": []
  },
  {
   "cell_type": "code",
   "execution_count": null,
   "id": "882f425c",
   "metadata": {},
   "outputs": [],
   "source": []
  },
  {
   "cell_type": "code",
   "execution_count": null,
   "id": "2ec38f38",
   "metadata": {},
   "outputs": [],
   "source": []
  },
  {
   "cell_type": "code",
   "execution_count": null,
   "id": "7bd33c48",
   "metadata": {},
   "outputs": [],
   "source": []
  },
  {
   "cell_type": "code",
   "execution_count": null,
   "id": "6d65f7b4",
   "metadata": {},
   "outputs": [],
   "source": []
  },
  {
   "cell_type": "code",
   "execution_count": null,
   "id": "bd8edd06",
   "metadata": {},
   "outputs": [],
   "source": []
  },
  {
   "cell_type": "code",
   "execution_count": null,
   "id": "b7e92c0f",
   "metadata": {},
   "outputs": [],
   "source": []
  },
  {
   "cell_type": "code",
   "execution_count": null,
   "id": "4475918e",
   "metadata": {},
   "outputs": [],
   "source": []
  },
  {
   "cell_type": "code",
   "execution_count": null,
   "id": "a0899e58",
   "metadata": {},
   "outputs": [],
   "source": []
  },
  {
   "cell_type": "code",
   "execution_count": null,
   "id": "40d0220b",
   "metadata": {},
   "outputs": [],
   "source": []
  }
 ],
 "metadata": {
  "kernelspec": {
   "display_name": "Python 3 (ipykernel)",
   "language": "python",
   "name": "python3"
  },
  "language_info": {
   "codemirror_mode": {
    "name": "ipython",
    "version": 3
   },
   "file_extension": ".py",
   "mimetype": "text/x-python",
   "name": "python",
   "nbconvert_exporter": "python",
   "pygments_lexer": "ipython3",
   "version": "3.8.10"
  }
 },
 "nbformat": 4,
 "nbformat_minor": 5
}
