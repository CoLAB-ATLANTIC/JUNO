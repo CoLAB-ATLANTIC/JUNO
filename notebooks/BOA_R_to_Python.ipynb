{
 "cells": [
  {
   "cell_type": "code",
   "execution_count": null,
   "id": "4f664471",
   "metadata": {},
   "outputs": [],
   "source": []
  },
  {
   "cell_type": "code",
   "execution_count": 660,
   "id": "a8f50395",
   "metadata": {},
   "outputs": [],
   "source": [
    "import numpy as np\n",
    "from numpy import nanmedian\n",
    "#from scipy.fft import fft\n",
    "import math\n",
    "from numpy.fft import fft, ifft, rfft, fft2"
   ]
  },
  {
   "cell_type": "code",
   "execution_count": null,
   "id": "4934c661",
   "metadata": {},
   "outputs": [],
   "source": []
  },
  {
   "cell_type": "markdown",
   "id": "68d92207",
   "metadata": {},
   "source": [
    "# Função Filt5"
   ]
  },
  {
   "cell_type": "code",
   "execution_count": 3,
   "id": "03341968",
   "metadata": {},
   "outputs": [
    {
     "ename": "SyntaxError",
     "evalue": "invalid syntax (2922168994.py, line 15)",
     "output_type": "error",
     "traceback": [
      "\u001b[0;36m  File \u001b[0;32m\"/tmp/ipykernel_3825/2922168994.py\"\u001b[0;36m, line \u001b[0;32m15\u001b[0m\n\u001b[0;31m    filt5 <-\u001b[0m\n\u001b[0m            ^\u001b[0m\n\u001b[0;31mSyntaxError\u001b[0m\u001b[0;31m:\u001b[0m invalid syntax\n"
     ]
    }
   ],
   "source": [
    "#' filt5\n",
    "#' @description  Finds maximum of a 5x5 sliding window. If the central pixel is the maximum, this is flagged as a one. All other pixels are flagged as zero. Usually this function is not used directly.\n",
    "#' @usage filt5(lon, lat, ingrid, nodata = NA)\n",
    "#' @param lon longitude (vector) of the satellite image\n",
    "#' @param lat latitude (vector) of the satellite image\n",
    "#' @param ingrid The satellite data (matrix)\n",
    "#' @param nodata value representing 'no data'\n",
    "#'\n",
    "#' @return returns a grid of zeros and ones\n",
    "#' @seealso \\code{\\link{boa}}\n",
    "#' @export\n",
    "#'\n",
    "#' @examples \n",
    "#' # none\n",
    "filt5 <-\n",
    "function(lon , lat, ingrid, nodata = NA){\n",
    "#======================================================#\n",
    "# Find peaks in 5 directions. FLag as 5\n",
    "#======================================================#\n",
    " #outgrid = matrix(0,nrow=dim(ingrid)[1],ncol=dim(ingrid)[2] ) # make all zeros..\n",
    " nodatidx = ingrid[ingrid==nodata]    # creates single dim array with as much values as the matrix ingrid, with NANs\n",
    " ingrid[nodatidx] = -9999\n",
    " outgrid = ingrid*0 ## outgrid is a matrix with the shape of ingrid, full of Zeros\n",
    " l1 = length(lon)\n",
    " l2 = length(lat)\n",
    "for(i in 3:(l1-2)){\n",
    " for(j in 3:(l2-2)){\n",
    "   subg = ingrid[(i-2):(i+2),(j-2):(j+2)]   #results in slice with data from row i-2 to i+2 (i-2,i-1, i, i+1, i+2) (included) and columns (j-2, j-1, j, j+1, j+2)\n",
    "if(sum(is.na(subg))==25){\n",
    "outgrid[i,j] = 0\n",
    "}else{\n",
    "vec = as.vector(subg)    ## convert matrix to vector\n",
    "ma = which.max(subg)\n",
    "mi = which.min(subg)\n",
    "\n",
    "   if(ma==13||mi==13){\n",
    " outgrid[i,j] = 1\n",
    "}else{\n",
    "  outgrid[i,j] = 0\n",
    "}\n",
    "}\n",
    "   }\n",
    "  }\n",
    " ## não tou a perceber para que serve esta parte  \n",
    "outgrid[nodatidx] = nodata  \n",
    "outgrid"
   ]
  },
  {
   "cell_type": "code",
   "execution_count": 556,
   "id": "a6498593",
   "metadata": {},
   "outputs": [],
   "source": [
    "def filt5(lon, lat, ingrid, nodata=np.nan):\n",
    "    \"\"\"\n",
    "    Find peaks in 5 directions. FLag as 5\n",
    "    \"\"\"\n",
    "    \n",
    "    nodatidx = ingrid.flatten()*np.nan ## creates single dim array with as much values as the matrix ingrid, with NANs\n",
    "    outgrid = np.zeros(ingrid.shape)   ## outgrid is a matrix with the shape of ingrid, full of Zeros\n",
    "    \n",
    "    l1 = len(lon)\n",
    "    l2 = len(lat)\n",
    "    \n",
    "    for i in range(3, l1-1):   #tem de ser -1 em vez de -2 \n",
    "        for j in range(3, l2-1):\n",
    "            subg = ingrid[(i-3):(i+2), (j-3):(j+2)] # slice with data from row (i-2,i-1, i, i+1, i+2) and columns (j-2, j-1, j, j+1, j+2)\n",
    "            if np.isnan(subg).sum()==25:    #if all values in submatrix subg are null values:\n",
    "                outgrid[i,j] = 0\n",
    "            else:\n",
    "                vec = np.array(subg).T.flatten()    ## convert matrix to vector\n",
    "                ma = np.where(subg == np.amax(subg))\n",
    "                mi = np.where(subg == np.amin(subg))\n",
    "                \n",
    "                if ma==(2,2) or mi==(2,2):     #se se tratar do valor meio da matrix\n",
    "                    outgrid[i-1,j-1] = 1\n",
    "                else:\n",
    "                    outgrid[i,j] = 0\n",
    "    \n",
    "    #Não estou a perceber esta parte (esta em R, converter para python)\n",
    "    #outgrid[nodatidx] = nodata\n",
    "    return outgrid\n",
    "\n",
    "                \n",
    "                \n",
    "    \n"
   ]
  },
  {
   "cell_type": "markdown",
   "id": "e60c5619",
   "metadata": {},
   "source": [
    "#### Quanto à função filt5 só falta aquela ultima linha de código"
   ]
  },
  {
   "cell_type": "code",
   "execution_count": null,
   "id": "6ba892d3",
   "metadata": {},
   "outputs": [],
   "source": []
  },
  {
   "cell_type": "markdown",
   "id": "a30c909b",
   "metadata": {},
   "source": [
    "## Verificação passo a passo da conversão da função filt5 de R para python"
   ]
  },
  {
   "cell_type": "code",
   "execution_count": 563,
   "id": "1c31c68b",
   "metadata": {},
   "outputs": [
    {
     "data": {
      "text/plain": [
       "array([[0., 0., 0., 0., 0., 0., 0., 0., 0., 0., 0., 0., 0., 0., 0.],\n",
       "       [0., 0., 0., 0., 0., 0., 0., 0., 0., 0., 0., 0., 0., 0., 0.],\n",
       "       [0., 0., 1., 1., 1., 1., 1., 1., 1., 1., 1., 1., 1., 0., 0.],\n",
       "       [0., 0., 1., 1., 1., 1., 1., 1., 1., 1., 1., 1., 1., 0., 0.],\n",
       "       [0., 0., 0., 0., 0., 0., 0., 0., 0., 0., 0., 0., 0., 0., 0.],\n",
       "       [0., 0., 0., 0., 0., 0., 0., 0., 0., 0., 0., 0., 0., 0., 0.]])"
      ]
     },
     "execution_count": 563,
     "metadata": {},
     "output_type": "execute_result"
    }
   ],
   "source": [
    "lon = np.array([1,2,3,4,5,6])\n",
    "lat = np.array([1,2,3,4,5,6,7,8,9,10,11,12,13,14,15])\n",
    "\n",
    "ingrid = np.arange(1,91).reshape(6, 15)  \n",
    "\n",
    "nodatidx = ingrid.flatten()*np.nan      #check\n",
    "outgrid = np.zeros(ingrid.shape)        #check\n",
    "\n",
    "l1 = len(lon)                           #check\n",
    "l2 = len(lat)                           #check\n",
    "\n",
    "for i in range(3, l1-1):   \n",
    "    for j in range(3, l2-1):\n",
    "        subg = ingrid[(i-3):(i+2), (j-3):(j+2)]       #check\n",
    "        if np.isnan(subg).sum()==25:\n",
    "            outgrid[i,j] = 0\n",
    "        else:\n",
    "            vec = np.array(subg).T.flatten()\n",
    "            ma = np.argmax(subg.flatten())\n",
    "            mi = np.argmin(subg.flatten())\n",
    "            \n",
    "            if ma==24 or mi==13:\n",
    "                outgrid[i-1,j-1] = 1\n",
    "            else:\n",
    "                outgrid[i,j] = 0\n",
    "                \n",
    "            \n",
    "outgrid"
   ]
  },
  {
   "cell_type": "code",
   "execution_count": null,
   "id": "acce2b98",
   "metadata": {},
   "outputs": [],
   "source": []
  },
  {
   "cell_type": "code",
   "execution_count": null,
   "id": "280d2ab7",
   "metadata": {},
   "outputs": [],
   "source": []
  },
  {
   "cell_type": "code",
   "execution_count": null,
   "id": "2e456b33",
   "metadata": {},
   "outputs": [],
   "source": []
  },
  {
   "cell_type": "code",
   "execution_count": null,
   "id": "cd3d6d37",
   "metadata": {},
   "outputs": [],
   "source": []
  },
  {
   "cell_type": "markdown",
   "id": "527a5f24",
   "metadata": {},
   "source": [
    "# Função Filt3"
   ]
  },
  {
   "cell_type": "code",
   "execution_count": null,
   "id": "af11f48f",
   "metadata": {},
   "outputs": [],
   "source": [
    "#' filt3\n",
    "#'\n",
    "#' @param lon longitude (vector) of the satellite image\n",
    "#' @param lat latitude (vector) of the satellite image\n",
    "#' @param ingrid The satellite data (matrix)\n",
    "#' @param grid5 results of \\code{\\link{filt5}}\n",
    "#'\n",
    "#' @return returns a median smoothed grid of satellite data\n",
    "#' @seealso \\code{\\link{boa}}\n",
    "#' @usage filt3(lon, lat, ingrid, grid5 = grid5(lon, lat, ingrid))\n",
    "#' @export\n",
    "#'\n",
    "#' @examples\n",
    "#' # none here\n",
    "filt3 <-\n",
    "function(lon , lat, ingrid, grid5){\n",
    "#======================================================#\n",
    "# Find peaks in 3 directions. FLag as 3\n",
    "#======================================================#\n",
    " outgrid = ingrid*0 # make all zeros..\n",
    " l1 = length(lon)\n",
    " l2 = length(lat)\n",
    "for(i in 3:(l1-2)){\n",
    " for(j in 3:(l2-2)){\n",
    "  if((grid5[i,j]==0)==T){\n",
    " subg = ingrid[(i-1):(i+1),(j-1):(j+1)]\n",
    "if(sum(is.na(subg))==9){\n",
    "outgrid[i,j] = ingrid[i,j]\n",
    "}else{\n",
    "vec = as.vector(subg)\n",
    "ma = which.max(subg)\n",
    "mi = which.min(subg)\n",
    "\n",
    "   if((ma==5||mi==5)==T){\n",
    " outgrid[i,j] = median(subg,na.rm=T)  # apply median filter if there is peak 3\n",
    "}else{\n",
    "  outgrid[i,j] = ingrid[i,j]\n",
    "}\n",
    "}\n",
    "}else{\n",
    " outgrid[i,j] = ingrid[i,j]\n",
    "}\n",
    "\n",
    " }\n",
    "}\n",
    "outgrid\n",
    "}\n"
   ]
  },
  {
   "cell_type": "code",
   "execution_count": 620,
   "id": "4f38c736",
   "metadata": {},
   "outputs": [],
   "source": [
    "def filt3(lon, lat, ingrid, grid5):\n",
    "    \"\"\"\n",
    "    Find peaks in 3 directions. FLag as 3\n",
    "    \"\"\"\n",
    "    \n",
    "    outgrid = ingrid*0   #make all zeros. in python if matrix ingrid has null values, they'll stay null after (*0)\n",
    "    l1=len(lon)\n",
    "    l2=len(lat)\n",
    "    \n",
    "    \n",
    "    for i in range(3, l1-1):   #tem de ser -1 em vez de -2 \n",
    "        for j in range(3, l2-1):\n",
    "            if (grid5[i,j]==0):\n",
    "                subg = ingrid[(i-2):(i+1), (j-2):(j+1)]\n",
    "                if np.isnan(subg).sum()==9:\n",
    "                    outgrid[i-1,j-1] = ingrid[i-1,j-1]\n",
    "                else:\n",
    "                    vec = np.array(subg).T.flatten()\n",
    "                    ma = np.where(subg == np.amax(subg))\n",
    "                    mi = np.where(subg == np.amin(subg))\n",
    "                    \n",
    "                    if ((ma==(1,1) or mi==(1,1))):     #pixel do meio\n",
    "                        outgrid[i-1,j-1] = nanmedian(subg)\n",
    "                    else:\n",
    "                        outgrid[i-1,j-1] = ingrid[i-1,j-1]\n",
    "            \n",
    "            else:\n",
    "                outgrid[i-1,j-1] = ingrid[i-1,j-1]\n",
    "                \n",
    "    return outgrid"
   ]
  },
  {
   "cell_type": "markdown",
   "id": "9480a298",
   "metadata": {},
   "source": [
    "#### Quanto à função filt3 penso estar tudo correto"
   ]
  },
  {
   "cell_type": "code",
   "execution_count": null,
   "id": "f628ecb7",
   "metadata": {},
   "outputs": [],
   "source": []
  },
  {
   "cell_type": "markdown",
   "id": "5a3389b0",
   "metadata": {},
   "source": [
    "## Verificação passo a passo da conversão da função filt3 de R para python"
   ]
  },
  {
   "cell_type": "code",
   "execution_count": 621,
   "id": "caa95618",
   "metadata": {},
   "outputs": [],
   "source": [
    "    \n",
    "grid5 = filt5(lon=lon, lat=lat, ingrid=ingrid)\n",
    " \n",
    "ingrid = np.arange(1,91).reshape(6, 15)     \n",
    "outgrid = ingrid*0   #make all zeros. in python if matrix ingrid has null values, they'll stay null after (*0)\n",
    "l1=len(lon)\n",
    "l2=len(lat)\n",
    "    \n",
    "for i in range(3, l1-1):   \n",
    "    for j in range(3, l2-1):\n",
    "        if (grid5[i,j]==0):\n",
    "            subg1 = ingrid[(i-2):(i+1), (j-2):(j+1)]\n",
    "            if np.isnan(subg1).sum()==9:\n",
    "                outgrid[i-1,j-1] = ingrid[i-1,j-1]\n",
    "            else:\n",
    "                vec = np.array(subg1).T.flatten()    ## convert matrix to vector\n",
    "                ma = np.where(subg1 == np.amax(subg1))\n",
    "                mi = np.where(subg1 == np.amin(subg1))\n",
    "                    \n",
    "                if ((ma==(1,1) or mi==(1,1))):     #pixel do meio\n",
    "                    outgrid[i-1,j-1] = nanmedian(subg1)\n",
    "                else:\n",
    "                    outgrid[i-1,j-1] = ingrid[i-1,j-1]\n",
    "            \n",
    "        else:\n",
    "            outgrid[i-1,j-1] = ingrid[i-1,j-1]\n",
    "                "
   ]
  },
  {
   "cell_type": "code",
   "execution_count": 622,
   "id": "0d402754",
   "metadata": {},
   "outputs": [
    {
     "data": {
      "text/plain": [
       "array([[0., 0., 0., 0., 0., 0., 0., 0., 0., 0., 0., 0., 0., 0., 0.],\n",
       "       [0., 0., 0., 0., 0., 0., 0., 0., 0., 0., 0., 0., 0., 0., 0.],\n",
       "       [0., 0., 0., 0., 0., 0., 0., 0., 0., 0., 0., 0., 0., 0., 0.],\n",
       "       [0., 0., 0., 0., 0., 0., 0., 0., 0., 0., 0., 0., 0., 0., 0.],\n",
       "       [0., 0., 0., 0., 0., 0., 0., 0., 0., 0., 0., 0., 0., 0., 0.],\n",
       "       [0., 0., 0., 0., 0., 0., 0., 0., 0., 0., 0., 0., 0., 0., 0.]])"
      ]
     },
     "execution_count": 622,
     "metadata": {},
     "output_type": "execute_result"
    }
   ],
   "source": [
    "grid5"
   ]
  },
  {
   "cell_type": "code",
   "execution_count": 623,
   "id": "2f5b8e13",
   "metadata": {},
   "outputs": [
    {
     "data": {
      "text/plain": [
       "array([42, 57, 72, 43, 58, 73, 44, 59, 74])"
      ]
     },
     "execution_count": 623,
     "metadata": {},
     "output_type": "execute_result"
    }
   ],
   "source": [
    "vec"
   ]
  },
  {
   "cell_type": "code",
   "execution_count": 624,
   "id": "fff190aa",
   "metadata": {},
   "outputs": [
    {
     "data": {
      "text/plain": [
       "array([[ 0,  0,  0,  0,  0,  0,  0,  0,  0,  0,  0,  0,  0,  0,  0],\n",
       "       [ 0,  0,  0,  0,  0,  0,  0,  0,  0,  0,  0,  0,  0,  0,  0],\n",
       "       [ 0,  0, 33, 34, 35, 36, 37, 38, 39, 40, 41, 42, 43,  0,  0],\n",
       "       [ 0,  0, 48, 49, 50, 51, 52, 53, 54, 55, 56, 57, 58,  0,  0],\n",
       "       [ 0,  0,  0,  0,  0,  0,  0,  0,  0,  0,  0,  0,  0,  0,  0],\n",
       "       [ 0,  0,  0,  0,  0,  0,  0,  0,  0,  0,  0,  0,  0,  0,  0]])"
      ]
     },
     "execution_count": 624,
     "metadata": {},
     "output_type": "execute_result"
    }
   ],
   "source": [
    "outgrid"
   ]
  },
  {
   "cell_type": "code",
   "execution_count": null,
   "id": "cd8c6103",
   "metadata": {},
   "outputs": [],
   "source": []
  },
  {
   "cell_type": "code",
   "execution_count": null,
   "id": "0dd7ae0a",
   "metadata": {},
   "outputs": [],
   "source": []
  },
  {
   "cell_type": "code",
   "execution_count": null,
   "id": "e5ff3dd4",
   "metadata": {},
   "outputs": [],
   "source": []
  },
  {
   "cell_type": "code",
   "execution_count": null,
   "id": "462c4155",
   "metadata": {},
   "outputs": [],
   "source": []
  },
  {
   "cell_type": "markdown",
   "id": "41ce0978",
   "metadata": {},
   "source": [
    "# Implementação do BOA"
   ]
  },
  {
   "cell_type": "code",
   "execution_count": null,
   "id": "60b340c8",
   "metadata": {},
   "outputs": [],
   "source": [
    "#' boa\n",
    "#'\n",
    "#' @param lon longitude (vector) of the satellite image\n",
    "#' @param lat latitude (vector) of the satellite image\n",
    "#' @param ingrid The satellite data (matrix). If using chlorophyll, transform using log(ingrid))\n",
    "#' @param nodata value representing 'no data'\n",
    "#' @param direction Logical. Should direction be calculated and returned\n",
    "#'\n",
    "#' @return either a stand alone asc grid of front gradient data or a list of:\n",
    "#'\t\tgrdir : ascii grid Gradient direction\n",
    "#'    front : Gradient magnitude. In the case of chlorophyll, this is a ratio\n",
    "#' @references Belkin, I. M. & O'Reilly, J. E. An algorithm for oceanic front detection in chlorophyll and SST satellite imagery. Journal of Marine Systems, 2009, 78, 319 - 326\n",
    "#' @details Note: These grids are in raster format, as is used in \\code{\\link{raster}}. \n",
    "#' @keywords sst, chl, front, satellite\n",
    "#' @export\n",
    "#'\n",
    "#' @examples # none\n",
    "boa <-\n",
    "function(lon, lat, ingrid, nodata = NA, direction = F){\n",
    "\n",
    "## Workhorse filter from EBImage. Modified so we don't need colorspace and other annoying requirements.\t\t\n",
    "\t.filter2 <-\n",
    "\t\tfunction (x, filter) \n",
    "\t\t{\n",
    "\t\t\t# Workhorse filter from EBImage. Modified so we don't need colorspace and other annoying requirements.\n",
    "\t\t\tvalidObject(x)\n",
    "\t\t\tvalidObject(filter)\n",
    "\t\t\t#if (colorMode(x) == TrueColor) \n",
    "\t\t\t#   stop(\"this method doesn't support the 'TrueColor' color mode\")\n",
    "\t\t\tdx = dim(x)\n",
    "\t\t\t#cmx = colorMode(x)\n",
    "\t\t\tdf = dim(filter)\n",
    "\t\t\tif (any(df%%2 == 0)) \n",
    "\t\t\t\tstop(\"dimensions of 'filter' matrix must be odd\")\n",
    "\t\t\tif (any(dx[1:2] < df)) \n",
    "\t\t\t\tstop(\"dimensions of 'x' must be bigger than 'filter'\")\n",
    "\t\t\tcx = dx%/%2    #divisão inteira\n",
    "\t\t\tcf = df%/%2    #divisão inteiracr\n",
    "\t\t\twf = matrix(0, nr = dx[1], nc = dx[2])     #matrix of zeros with dimensions of x (dim(x)=dx)\n",
    "\t\t\twf[(cx[1] - cf[1]):(cx[1] + cf[1]), (cx[2] - cf[2]):(cx[2] + cf[2])] = filter\n",
    "\t\t\twf = fft(wf)\n",
    "\t\t\tdim(x) = c(dx[1:2], prod(dx)/prod(dx[1:2]))\n",
    "\t\t\tindex1 = c(cx[1]:dx[1], 1:(cx[1] - 1))\n",
    "\t\t\tindex2 = c(cx[2]:dx[2], 1:(cx[2] - 1))\n",
    "\t\t\tpdx = prod(dim(x)[1:2])\n",
    "            \n",
    "            ## Não estou a conseguir implementar esta parte\n",
    "\t\t\ty = apply(x, 3, function(xx) {\n",
    "\t\t\t\tdim(xx) = dx[1:2]   #dim(xx) is equal to dimensions of matrix x (dim(x)=dx)\n",
    "\t\t\t\tRe(fft(fft(xx) * wf, inverse = T)/pdx)[index1, index2]\n",
    "\t\t\t})\n",
    "\t\t\tdim(y) = dx\n",
    "\t\t\ty\n",
    "\t\t}\t\n",
    "\t\n",
    "\t# browser()\n",
    "    \n",
    "    \n",
    "#======================================================#\n",
    "# Main BOA algorithm\n",
    "#======================================================#\n",
    "# require(adehabitat)\n",
    "# x component (longitudinal kernel)\n",
    "gx = matrix(c(-1,0,1,-2,0,2,-1,0,1),nrow=3, byrow=T)\n",
    "# y component (latitudinal kernel)\n",
    "gy = matrix(c(1,2,1,0,0,0,-1,-2,-1),nrow=3, byrow=T)\n",
    "# filt 5 and 35 don't like NA's... but final steps are ok with it!\n",
    "\n",
    "# if nodata is numeric, this will take care of it..\n",
    "ingrid[ingrid == nodata] = -9999      ##NÂO ESTOU A PERCEBER   \n",
    "# if something else: \n",
    "if(any(is.infinite(ingrid)|is.nan(ingrid)|is.na(ingrid))){\n",
    "ingrid[is.na(ingrid)] = -9999       ## TO FIND MISSING VALUES. IF THE VALUE IS NA RETURN TRUE OTHERWISE FALSE\n",
    "ingrid[is.nan(ingrid)] = -9999      ##CHECK IF MATRIX HAS ANY NaN (NOT A NUMBER) VALUE AS ELEMENT\n",
    "ingrid[is.infinite(ingrid)] = -9999    ## CHECK TO SEE IF THE VECTOR CONTAINS INFINITE VALUES AS ELEMENTS\n",
    "}\n",
    "\n",
    "# do the median filtering\n",
    "grid5 = filt5(lon, lat, ingrid, nodata = nodata)\n",
    "grid35 = filt3(lon, lat, ingrid, grid5)\n",
    "\n",
    "# make an index of bad values and land pixels.\n",
    "grid35[grid35==-9999] = NA\n",
    "naidx = is.na(grid35)\n",
    "# convert these to zeros for smoothing purposes\n",
    "grid35[naidx]=0\n",
    "# perform the smoothing (Sobel filter)\n",
    "tgx = .filter2(grid35, gx)\n",
    "tgy = .filter2(grid35, gy)\n",
    "\n",
    "# NOTE!! IDL CONVOL uses NORMALIZE function which defaults to the abs(sum(KERNEL)), in this case gx and gy\n",
    "tx = tgx/sum(abs(as.vector(gx)), na.rm=T)\n",
    "ty = tgy/sum(abs(as.vector(gy)), na.rm=T)\n",
    "front = (sqrt(tx^2+ty^2))\n",
    "\n",
    "    \n",
    "#======================================================#\n",
    "# landmask and edge dilation\n",
    "#======================================================#\n",
    "land = naidx*1\n",
    "# land = naidx*1\n",
    "land[land==1] = NaN\n",
    "land[!is.nan(land)] = 1\n",
    "# # use adehabitat library for image erosion (expand land pixels slightly)\n",
    "# mask = morphology(as.asc(land, min(lon), yll = min(lat), cellsize = diff(lat)[1]), 'erode', 1)\n",
    "# # remove edge pixels\n",
    "# l1 = length(lon)\n",
    "# l2 = length(lat)\n",
    "# midx = mask*NaN\n",
    "# midx[5:(l1-3), 5:(l2-3)]=1\n",
    "# mask = mask*midx\n",
    "# # account for the edge effect\n",
    "# front = front *mask\n",
    "\n",
    "    \n",
    "    \n",
    "#======================================================#\n",
    "# landmask and edge dilation using raster!\n",
    "#======================================================#\n",
    "\n",
    "\n",
    "l1 = length(lon)\n",
    "l2 = length(lat)\n",
    "\n",
    "midx = land*NaN\n",
    "\n",
    "midx[5:(l1-3), 5:(l2-3)] = 1\n",
    "\n",
    "# land = land*midx\n",
    "\n",
    "land = (land*midx)\n",
    "\n",
    "# ssr = flip(t(raster(front)), 2)\n",
    "ssr = flip(raster((t(front))),2)\n",
    "extent(ssr) = c(min(lon), max(lon), min(lat), max(lat))\n",
    "\n",
    "mask = flip(focal(raster(t(land)), w = matrix(c(0,0,0,0,1,0,0,0,0), nrow=3, ncol=3)), direction = 2)\n",
    "extent(mask) = c(min(lon), max(lon), min(lat), max(lat))\n",
    "\n",
    "front = mask*ssr\n",
    "\n",
    "\n",
    "if(direction==T){\n",
    "# ;   ************************************\n",
    "# ;   *** Calculate Gradient Direction ***\n",
    "# ;   ************************************\n",
    "    GRAD_DIR = atan2(tgy@.Data, tgx@.Data)\n",
    "\n",
    "# ;===> change radians to degrees\n",
    "GRAD_DIR = GRAD_DIR*180/pi\n",
    "\n",
    "# ;===> Adjust to 0-360 scheme (make negative degrees positive)\n",
    "OK = which(GRAD_DIR < 0)\n",
    "if(length(OK)>1)GRAD_DIR[OK] = 360 - abs(GRAD_DIR[OK])\n",
    "\n",
    "# ;===> Convert degrees so that 0 degrees is North and East is 90 degrees\n",
    "GRAD_DIR = (360 - GRAD_DIR + 90) %% 360\n",
    "\n",
    "GRAD_DIR = flip(raster(t(GRAD_DIR)), direction = 2)\n",
    "extent(GRAD_DIR) = extent(front)\n",
    "\n",
    "list(grdir = GRAD_DIR*mask, front = front)\n",
    "}\n",
    "else{\n",
    "front\n",
    "}\n",
    "}"
   ]
  },
  {
   "cell_type": "code",
   "execution_count": null,
   "id": "43e24c0d",
   "metadata": {},
   "outputs": [],
   "source": []
  },
  {
   "cell_type": "markdown",
   "id": "a6fae200",
   "metadata": {},
   "source": [
    "## Verificação passo a passo da conversão da função filt2 de R para python"
   ]
  },
  {
   "cell_type": "code",
   "execution_count": 742,
   "id": "9944a78b",
   "metadata": {
    "scrolled": true
   },
   "outputs": [
    {
     "data": {
      "text/plain": [
       "array([[ 4.50000000e+01+0.00000000e+00j, -3.57419117e+01-2.29514941e+01j,\n",
       "         1.50790732e+01+3.19794122e+01j,  2.07294902e+00-2.48459823e+01j,\n",
       "        -6.09090400e+00+1.18010808e+01j,  4.44089210e-16-5.19615242e+00j,\n",
       "         5.42705098e+00+8.30223851e+00j, -3.24625742e+00-1.40278512e+01j,\n",
       "        -3.24625742e+00+1.40278512e+01j,  5.42705098e+00-8.30223851e+00j,\n",
       "        -8.88178420e-16+5.19615242e+00j, -6.09090400e+00-1.18010808e+01j,\n",
       "         2.07294902e+00+2.48459823e+01j,  1.50790732e+01-3.19794122e+01j,\n",
       "        -3.57419117e+01+2.29514941e+01j],\n",
       "       [-2.85000000e+01-1.81865335e+01j,  1.32724413e+01+2.98216230e+01j,\n",
       "         4.40778336e+00-2.74956222e+01j, -1.32877894e+01+1.53090025e+01j,\n",
       "         1.05152895e+01-4.17165317e+00j, -3.00000000e+00+1.73205081e+00j,\n",
       "        -2.09523786e-01-6.23640476e+00j, -3.32416989e+00+9.87512521e+00j,\n",
       "         8.14794473e+00-7.66219265e+00j, -7.90851020e+00+2.56786228e+00j,\n",
       "         3.00000000e+00-1.73205081e+00j, -6.95709321e-01+7.87987609e+00j,\n",
       "         7.40582336e+00-1.51045616e+01j, -2.09635609e+01+1.38383530e+01j,\n",
       "         3.11399812e+01-4.34874151e-01j],\n",
       "       [ 1.35000000e+01+7.79422863e+00j, -5.97495938e+00-1.34199785e+01j,\n",
       "        -2.52611907e+00+1.18844559e+01j,  6.24802819e+00-5.62574985e+00j,\n",
       "        -4.08734652e+00+4.29597430e-01j,  1.62547932e-16+3.59626827e-15j,\n",
       "         1.30619357e+00+2.93375879e+00j,  1.03312476e+00-4.86046984e+00j,\n",
       "        -3.69272798e+00+3.32494721e+00j,  3.19380643e+00-3.35682582e-01j,\n",
       "         1.11022302e-16-1.32799596e-16j, -1.67163097e+00-3.75454464e+00j,\n",
       "        -1.74802819e+00+8.22382606e+00j,  9.02918114e+00-8.12991122e+00j,\n",
       "        -1.46095220e+01+1.53552264e+00j],\n",
       "       [-1.50000000e+01+1.77635684e-15j,  1.19139706e+01+7.65049802e+00j,\n",
       "        -5.02635772e+00-1.06598041e+01j, -6.90983006e-01+8.28199410e+00j,\n",
       "         2.03030133e+00-3.93369360e+00j,  1.55431223e-15+1.73205081e+00j,\n",
       "        -1.80901699e+00-2.76741284e+00j,  1.08208581e+00+4.67595041e+00j,\n",
       "         1.08208581e+00-4.67595041e+00j, -1.80901699e+00+2.76741284e+00j,\n",
       "        -6.66133815e-16-1.73205081e+00j,  2.03030133e+00+3.93369360e+00j,\n",
       "        -6.90983006e-01-8.28199410e+00j, -5.02635772e+00+1.06598041e+01j,\n",
       "         1.19139706e+01-7.65049802e+00j],\n",
       "       [ 1.35000000e+01-7.79422863e+00j, -1.46095220e+01-1.53552264e+00j,\n",
       "         9.02918114e+00+8.12991122e+00j, -1.74802819e+00-8.22382606e+00j,\n",
       "        -1.67163097e+00+3.75454464e+00j, -6.06637142e-16+1.28871304e-15j,\n",
       "         3.19380643e+00+3.35682582e-01j, -3.69272798e+00-3.32494721e+00j,\n",
       "         1.03312476e+00+4.86046984e+00j,  1.30619357e+00-2.93375879e+00j,\n",
       "         1.11022302e-16+1.02097802e-15j, -4.08734652e+00-4.29597430e-01j,\n",
       "         6.24802819e+00+5.62574985e+00j, -2.52611907e+00-1.18844559e+01j,\n",
       "        -5.97495938e+00+1.34199785e+01j],\n",
       "       [-2.85000000e+01+1.81865335e+01j,  3.11399812e+01+4.34874151e-01j,\n",
       "        -2.09635609e+01-1.38383530e+01j,  7.40582336e+00+1.51045616e+01j,\n",
       "        -6.95709321e-01-7.87987609e+00j,  3.00000000e+00+1.73205081e+00j,\n",
       "        -7.90851020e+00-2.56786228e+00j,  8.14794473e+00+7.66219265e+00j,\n",
       "        -3.32416989e+00-9.87512521e+00j, -2.09523786e-01+6.23640476e+00j,\n",
       "        -3.00000000e+00-1.73205081e+00j,  1.05152895e+01+4.17165317e+00j,\n",
       "        -1.32877894e+01-1.53090025e+01j,  4.40778336e+00+2.74956222e+01j,\n",
       "         1.32724413e+01-2.98216230e+01j]])"
      ]
     },
     "execution_count": 742,
     "metadata": {},
     "output_type": "execute_result"
    }
   ],
   "source": [
    "x = np.arange(1,91).reshape(6, 15)    #check\n",
    "filt = np.arange(1,10).reshape(3,3)   #check\n",
    "dx = x.shape                          #check   -> é uma tuple\n",
    "df = filt.shape                       #check   -> é uma tuple\n",
    "cx = tuple(elem//2 for elem in dx)    #check   -> é uma tuple\n",
    "cf = tuple(elem//2 for elem in df)    #check   -> é uma tuple\n",
    "\n",
    "wf = np.zeros(shape=dx)               #check     -> é numpy array\n",
    "wf\n",
    "\n",
    "wf[cx[0]-cf[0]-1:cx[0]+cf[0], cx[1]-cf[1]-1:cx[1]+cf[1]] = filt     #check\n",
    "\n",
    "wf = fft2(wf)                        #check CARALHOOOOOOOOOO\n",
    "wf"
   ]
  },
  {
   "cell_type": "code",
   "execution_count": 743,
   "id": "b15c557d",
   "metadata": {},
   "outputs": [
    {
     "data": {
      "text/plain": [
       "90.0"
      ]
     },
     "execution_count": 743,
     "metadata": {},
     "output_type": "execute_result"
    }
   ],
   "source": [
    "#dim_x = [([dx[0:2], math.prod(dx)/math.prod(dx[0:2])]   #check\n",
    "#dim_x\n",
    "dim_x = np.array(dx[0:2])\n",
    "dim_x =np.append(dim_x, math.prod(dx)/math.prod(dx[0:2]))     #check\n",
    "\n",
    "aux1 = np.arange(cx[0],dx[0]+1)\n",
    "aux2 = np.arange(1,cx[0])\n",
    "index1 = np.concatenate((aux1, aux2), axis=None)               #check\n",
    "index1 = index1-1\n",
    "\n",
    "aux3 = np.arange(cx[1], dx[1]+1)\n",
    "aux4 = np.arange(1,cx[1])\n",
    "index2 = np.concatenate((aux3, aux4), axis=None)               #check\n",
    "index2 = index2-1\n",
    "\n",
    "pdx = math.prod(dim_x[0:2])                                   #check\n",
    "\n",
    "y = (fft2(fft2(x)*wf)/pdx).real \n",
    "y = np.array([[y[i][j] for j in index2] for i in index1])\n",
    "\n",
    "# Os resultados não são absolutamente iguais mas são parecidos (pode reverificar-se).\n",
    "# Se houver problema é nas funções fft usadas"
   ]
  },
  {
   "cell_type": "code",
   "execution_count": null,
   "id": "51a1153f",
   "metadata": {},
   "outputs": [],
   "source": []
  },
  {
   "cell_type": "code",
   "execution_count": null,
   "id": "a5eafb2c",
   "metadata": {},
   "outputs": [],
   "source": []
  },
  {
   "cell_type": "markdown",
   "id": "4cb24723",
   "metadata": {},
   "source": [
    "## Verificação passo a passo da conversão do Main BOA algorithm de R para python"
   ]
  },
  {
   "cell_type": "code",
   "execution_count": null,
   "id": "635d4afe",
   "metadata": {},
   "outputs": [],
   "source": [
    "lon = np.array([1,2,3,4,5,6])\n",
    "lat = np.array([1,2,3,4,5,6,7,8,9,10,11,12,13,14,15])\n",
    "ingrid = np.arange(1,91).reshape(6, 15) "
   ]
  },
  {
   "cell_type": "code",
   "execution_count": 773,
   "id": "93dddff1",
   "metadata": {
    "scrolled": true
   },
   "outputs": [],
   "source": [
    "#======================================================#\n",
    "# Main BOA algorithm                                   \n",
    "#======================================================#\n",
    "\n",
    "gx = np.matrix([[-1,0,1],[-2,0,2],[-1,0,1]])          #check  \n",
    "gy = np.matrix([[1,2,1],[0,0,0],[-1,-2,-1]])          #check\n",
    "        \n",
    "np.nan_to_num(ingrid, nan=-9999, posinf=-9999, neginf=-9999)         #check\n",
    "        \n",
    "grid5 = filt5(lon, lat, ingrid, nodata = np.nan)          #check\n",
    "grid35 = filt3(lon, lat, ingrid, grid5)                   #check\n",
    "\n",
    "# make an index of bad values and land pixels.\n",
    "grid35 = grid35.astype(\"float\")\n",
    "grid35[grid35 == -9999]=np.nan\n",
    "naidx = np.isnan(grid35)  \n",
    "naidx\n",
    "# convert these to zeros for smoothing purposes\n",
    "grid35[naidx]=0 \n",
    "\n",
    "# perform the smoothing (Sobel filter)\n",
    "tgx = filter2(grid35, gx)\n",
    "tgy = filter2(grid35, gy)\n",
    "tgy\n",
    "        \n",
    "tx = tgx/np.nansum(abs(np.array(gx).flatten()))\n",
    "ty = tgy/np.nansum(abs(np.array(gy).flatten()))\n",
    "front = np.sqrt((tx**2)+(ty**2))\n"
   ]
  },
  {
   "cell_type": "markdown",
   "id": "8143db65",
   "metadata": {},
   "source": [
    "#### Esta parte esta bem implementada (Main BOA algorithm)"
   ]
  },
  {
   "cell_type": "code",
   "execution_count": null,
   "id": "04a04330",
   "metadata": {},
   "outputs": [],
   "source": []
  },
  {
   "cell_type": "code",
   "execution_count": 762,
   "id": "f6cad08f",
   "metadata": {},
   "outputs": [],
   "source": [
    "def filter2(x, filt):\n",
    "        \n",
    "        dx = x.shape                          \n",
    "        df = filt.shape                       \n",
    "        cx = tuple(elem//2 for elem in dx)    \n",
    "        cf = tuple(elem//2 for elem in df)    \n",
    "\n",
    "        wf = np.zeros(shape=dx)               \n",
    "\n",
    "        wf[cx[0]-cf[0]-1:cx[0]+cf[0], cx[1]-cf[1]-1:cx[1]+cf[1]] = filt    \n",
    "\n",
    "        wf = fft2(wf)                        \n",
    "    \n",
    "        dim_x = np.array(dx[0:2])\n",
    "        dim_x =np.append(dim_x, math.prod(dx)/math.prod(dx[0:2]))     \n",
    "\n",
    "        aux1 = np.arange(cx[0],dx[0]+1)\n",
    "        aux2 = np.arange(1,cx[0])\n",
    "        index1 = np.concatenate((aux1, aux2), axis=None)  \n",
    "        index1 = index1-1\n",
    "\n",
    "        aux3 = np.arange(cx[1], dx[1]+1)\n",
    "        aux4 = np.arange(1,cx[1])\n",
    "        index2 = np.concatenate((aux3, aux4), axis=None) \n",
    "        index2 = index2-1\n",
    "\n",
    "        pdx = math.prod(dim_x[0:2])                                   \n",
    "        \n",
    "        y = (fft2(fft2(x)*wf)/pdx).real \n",
    "        \n",
    "        y = np.array([[y[i][j] for j in index2] for i in index1])\n",
    "        \n",
    "        return y\n",
    "    "
   ]
  },
  {
   "cell_type": "markdown",
   "id": "459bf754",
   "metadata": {},
   "source": [
    "#### Esta função filter2 pode ter um erro nos fft -> verificar melhor"
   ]
  },
  {
   "cell_type": "code",
   "execution_count": null,
   "id": "8f110605",
   "metadata": {},
   "outputs": [],
   "source": []
  },
  {
   "cell_type": "code",
   "execution_count": 787,
   "id": "d41c1f83",
   "metadata": {},
   "outputs": [
    {
     "data": {
      "text/plain": [
       "array([[1., 1., 1., 1., 1., 1., 1., 1., 1., 1., 1., 1., 1., 1., 1.],\n",
       "       [1., 1., 1., 1., 1., 1., 1., 1., 1., 1., 1., 1., 1., 1., 1.],\n",
       "       [1., 1., 1., 1., 1., 1., 1., 1., 1., 1., 1., 1., 1., 1., 1.],\n",
       "       [1., 1., 1., 1., 1., 1., 1., 1., 1., 1., 1., 1., 1., 1., 1.],\n",
       "       [1., 1., 1., 1., 1., 1., 1., 1., 1., 1., 1., 1., 1., 1., 1.],\n",
       "       [1., 1., 1., 1., 1., 1., 1., 1., 1., 1., 1., 1., 1., 1., 1.]])"
      ]
     },
     "execution_count": 787,
     "metadata": {},
     "output_type": "execute_result"
    }
   ],
   "source": [
    "#======================================================#\n",
    "# landmask and edge dilation\n",
    "#======================================================#\n",
    "\n",
    "land = naidx*1\n",
    "land = land.astype(\"float\")\n",
    "land[land==1] = np.nan\n",
    "land[~np.isnan(land)] = 1\n"
   ]
  },
  {
   "cell_type": "markdown",
   "id": "dc06d759",
   "metadata": {},
   "source": [
    "#### Esta parte da Landmask and Edge Dilation está correta"
   ]
  },
  {
   "cell_type": "code",
   "execution_count": null,
   "id": "6c349d65",
   "metadata": {},
   "outputs": [],
   "source": []
  },
  {
   "cell_type": "code",
   "execution_count": 806,
   "id": "8a929447",
   "metadata": {},
   "outputs": [
    {
     "data": {
      "text/plain": [
       "array([[nan, nan, nan, nan, nan, nan, nan, nan, nan, nan, nan, nan, nan,\n",
       "        nan, nan],\n",
       "       [nan, nan, nan, nan, nan, nan, nan, nan, nan, nan, nan, nan, nan,\n",
       "        nan, nan],\n",
       "       [nan, nan, nan, nan,  1.,  1.,  1.,  1.,  1.,  1.,  1.,  1., nan,\n",
       "        nan, nan],\n",
       "       [nan, nan, nan, nan,  1.,  1.,  1.,  1.,  1.,  1.,  1.,  1., nan,\n",
       "        nan, nan],\n",
       "       [nan, nan, nan, nan,  1.,  1.,  1.,  1.,  1.,  1.,  1.,  1., nan,\n",
       "        nan, nan],\n",
       "       [nan, nan, nan, nan, nan, nan, nan, nan, nan, nan, nan, nan, nan,\n",
       "        nan, nan]])"
      ]
     },
     "execution_count": 806,
     "metadata": {},
     "output_type": "execute_result"
    }
   ],
   "source": [
    "#======================================================#\n",
    "# landmask and edge dilation using raster!\n",
    "#======================================================#\n",
    "\n",
    "l1=lon.size                       #check\n",
    "l2=lat.size                       #check\n",
    "\n",
    "midx = land*np.nan                #check \n",
    "\n",
    "midx[2:(l1-1), 4:(l2-3)] = 1\n",
    "\n",
    "land = np.multiply(land, midx)\n",
    "land\n",
    "\n",
    "################################## This part is hunting my nightmares\n",
    "#ssr = flip(raster((t(front))),2)\n",
    "#extent(ssr) = c(min(lon), max(lon), min(lat), max(lat))\n",
    "\n",
    "#mask = flip(focal(raster(t(land)), w = matrix(c(0,0,0,0,1,0,0,0,0), nrow=3, ncol=3)), direction = 2)\n",
    "#extent(mask) = c(min(lon), max(lon), min(lat), max(lat))\n",
    "\n",
    "#front = mask*ssr\n",
    "##################################"
   ]
  },
  {
   "cell_type": "code",
   "execution_count": 809,
   "id": "d5a8852f",
   "metadata": {},
   "outputs": [
    {
     "data": {
      "text/plain": [
       "array([[2.45114769e+01, 2.32896168e+01, 1.54616461e+01, 1.56312230e-15,\n",
       "        3.28346894e-15, 1.94052184e+01, 2.78976926e+01, 2.85098667e+01,\n",
       "        2.80100428e+01, 2.75102254e+01, 2.70104147e+01, 2.65106111e+01,\n",
       "        2.60108151e+01, 2.55110270e+01, 2.50112475e+01],\n",
       "       [1.70018381e+01, 1.32027459e+01, 5.83363094e+00, 9.28491675e-16,\n",
       "        5.62434467e-15, 7.60139790e+00, 1.68393141e+01, 2.10014880e+01,\n",
       "        2.05015243e+01, 2.00015624e+01, 1.95016025e+01, 1.90016447e+01,\n",
       "        1.85016891e+01, 1.80017360e+01, 1.75017856e+01],\n",
       "       [2.60412689e-15, 2.82457219e-15, 2.52637417e-15, 6.11059290e-16,\n",
       "        2.09730572e-15, 2.82457219e-15, 2.82457219e-15, 1.57898386e-15,\n",
       "        5.12683682e-15, 4.73695157e-16, 2.53745211e-15, 2.62439277e-15,\n",
       "        2.52637417e-15, 2.53745211e-15, 2.55702773e-15],\n",
       "       [2.57410995e-15, 3.11023750e-15, 4.39854005e-15, 1.72636134e-15,\n",
       "        4.28892559e-15, 4.73695157e-15, 3.69630644e-15, 2.87006378e-15,\n",
       "        3.89680452e-15, 2.53407233e-15, 2.74972513e-15, 1.46907032e-15,\n",
       "        2.52830091e-15, 2.53745211e-15, 1.26457410e-15],\n",
       "       [2.45012755e+01, 1.91319432e+01, 8.48528137e+00, 8.23505375e-16,\n",
       "        4.57947137e-15, 1.02530483e+01, 2.27685364e+01, 2.85010965e+01,\n",
       "        2.80011160e+01, 2.75011363e+01, 2.70011574e+01, 2.65011792e+01,\n",
       "        2.60012019e+01, 2.55012255e+01, 2.50012500e+01],\n",
       "       [1.70165361e+01, 2.07002415e+01, 1.66442558e+01, 1.13563696e-15,\n",
       "        2.98835677e-15, 2.05889837e+01, 2.52239965e+01, 2.10133886e+01,\n",
       "        2.05137149e+01, 2.00140576e+01, 1.95144177e+01, 1.90147969e+01,\n",
       "        1.85151965e+01, 1.80156182e+01, 1.75160641e+01]])"
      ]
     },
     "execution_count": 809,
     "metadata": {},
     "output_type": "execute_result"
    }
   ],
   "source": [
    "front"
   ]
  },
  {
   "cell_type": "code",
   "execution_count": 811,
   "id": "6dbe755a",
   "metadata": {},
   "outputs": [
    {
     "ename": "NameError",
     "evalue": "name 'raster' is not defined",
     "output_type": "error",
     "traceback": [
      "\u001b[0;31m---------------------------------------------------------------------------\u001b[0m",
      "\u001b[0;31mNameError\u001b[0m                                 Traceback (most recent call last)",
      "\u001b[0;32m/tmp/ipykernel_37637/2957736507.py\u001b[0m in \u001b[0;36m<module>\u001b[0;34m\u001b[0m\n\u001b[0;32m----> 1\u001b[0;31m \u001b[0mssr\u001b[0m \u001b[0;34m=\u001b[0m \u001b[0mnp\u001b[0m\u001b[0;34m.\u001b[0m\u001b[0mflip\u001b[0m\u001b[0;34m(\u001b[0m\u001b[0mraster\u001b[0m\u001b[0;34m(\u001b[0m\u001b[0mfront\u001b[0m\u001b[0;34m.\u001b[0m\u001b[0mT\u001b[0m\u001b[0;34m)\u001b[0m\u001b[0;34m,\u001b[0m\u001b[0;36m2\u001b[0m\u001b[0;34m)\u001b[0m\u001b[0;34m\u001b[0m\u001b[0;34m\u001b[0m\u001b[0m\n\u001b[0m\u001b[1;32m      2\u001b[0m \u001b[0mssr\u001b[0m\u001b[0;34m\u001b[0m\u001b[0;34m\u001b[0m\u001b[0m\n",
      "\u001b[0;31mNameError\u001b[0m: name 'raster' is not defined"
     ]
    }
   ],
   "source": [
    "ssr = np.flip(raster(front.T),2)\n",
    "ssr"
   ]
  },
  {
   "cell_type": "code",
   "execution_count": 814,
   "id": "2806fbe7",
   "metadata": {},
   "outputs": [
    {
     "ename": "ModuleNotFoundError",
     "evalue": "No module named 'arcpy'",
     "output_type": "error",
     "traceback": [
      "\u001b[0;31m---------------------------------------------------------------------------\u001b[0m",
      "\u001b[0;31mModuleNotFoundError\u001b[0m                       Traceback (most recent call last)",
      "\u001b[0;32m/tmp/ipykernel_37637/2114399977.py\u001b[0m in \u001b[0;36m<module>\u001b[0;34m\u001b[0m\n\u001b[0;32m----> 1\u001b[0;31m \u001b[0;32mimport\u001b[0m \u001b[0marcpy\u001b[0m\u001b[0;34m\u001b[0m\u001b[0;34m\u001b[0m\u001b[0m\n\u001b[0m\u001b[1;32m      2\u001b[0m \u001b[0;31m#ssr = arcpy.MakeRasterLayer_management(\"c:/workspace/image.tif\", \"rdlayer\", \"#\", \"feature.shp\", \"1\")\u001b[0m\u001b[0;34m\u001b[0m\u001b[0;34m\u001b[0m\u001b[0;34m\u001b[0m\u001b[0m\n",
      "\u001b[0;31mModuleNotFoundError\u001b[0m: No module named 'arcpy'"
     ]
    }
   ],
   "source": [
    "import arcpy\n",
    "#ssr = arcpy.MakeRasterLayer_management(\"c:/workspace/image.tif\", \"rdlayer\", \"#\", \"feature.shp\", \"1\")"
   ]
  },
  {
   "cell_type": "code",
   "execution_count": 812,
   "id": "f2ff9d1e",
   "metadata": {},
   "outputs": [
    {
     "ename": "NameError",
     "evalue": "name 'arcpy' is not defined",
     "output_type": "error",
     "traceback": [
      "\u001b[0;31m---------------------------------------------------------------------------\u001b[0m",
      "\u001b[0;31mNameError\u001b[0m                                 Traceback (most recent call last)",
      "\u001b[0;32m/tmp/ipykernel_37637/740133257.py\u001b[0m in \u001b[0;36m<module>\u001b[0;34m\u001b[0m\n\u001b[0;32m----> 1\u001b[0;31m \u001b[0mssr\u001b[0m \u001b[0;34m=\u001b[0m \u001b[0marcpy\u001b[0m\u001b[0;34m.\u001b[0m\u001b[0mNumPyArrayToRaster\u001b[0m\u001b[0;34m(\u001b[0m\u001b[0mfront\u001b[0m\u001b[0;34m.\u001b[0m\u001b[0mT\u001b[0m\u001b[0;34m,\u001b[0m \u001b[0my_cell_size\u001b[0m\u001b[0;34m=\u001b[0m\u001b[0;36m1\u001b[0m\u001b[0;34m)\u001b[0m\u001b[0;34m\u001b[0m\u001b[0;34m\u001b[0m\u001b[0m\n\u001b[0m\u001b[1;32m      2\u001b[0m \u001b[0mssr\u001b[0m\u001b[0;34m\u001b[0m\u001b[0;34m\u001b[0m\u001b[0m\n",
      "\u001b[0;31mNameError\u001b[0m: name 'arcpy' is not defined"
     ]
    }
   ],
   "source": [
    "ssr = arcpy.NumPyArrayToRaster(front.T, y_cell_size=1)\n",
    "ssr"
   ]
  },
  {
   "cell_type": "code",
   "execution_count": null,
   "id": "99eed8df",
   "metadata": {},
   "outputs": [],
   "source": []
  },
  {
   "cell_type": "code",
   "execution_count": null,
   "id": "5dfcc5a4",
   "metadata": {},
   "outputs": [],
   "source": []
  },
  {
   "cell_type": "code",
   "execution_count": null,
   "id": "1e6ebad3",
   "metadata": {},
   "outputs": [],
   "source": []
  },
  {
   "cell_type": "code",
   "execution_count": null,
   "id": "efd5e878",
   "metadata": {},
   "outputs": [],
   "source": []
  },
  {
   "cell_type": "markdown",
   "id": "cd5add9c",
   "metadata": {},
   "source": [
    "## BOA in Python"
   ]
  },
  {
   "cell_type": "code",
   "execution_count": 760,
   "id": "e76a8770",
   "metadata": {},
   "outputs": [
    {
     "ename": "SyntaxError",
     "evalue": "invalid syntax (845762282.py, line 105)",
     "output_type": "error",
     "traceback": [
      "\u001b[0;36m  File \u001b[0;32m\"/tmp/ipykernel_37637/845762282.py\"\u001b[0;36m, line \u001b[0;32m105\u001b[0m\n\u001b[0;31m    GRAD_DIR = atan2(tgy@.Data, tgx@.Data)     ## NÃO COMPREENDO\u001b[0m\n\u001b[0m                         ^\u001b[0m\n\u001b[0;31mSyntaxError\u001b[0m\u001b[0;31m:\u001b[0m invalid syntax\n"
     ]
    }
   ],
   "source": [
    "def boa(lon, lat, ingrid, nodata = np.nan, direction = False):\n",
    "    \n",
    "    def filter2(x, filt):\n",
    "        \n",
    "        dx = x.shape                          \n",
    "        df = filt.shape                       \n",
    "        cx = tuple(elem//2 for elem in dx)    \n",
    "        cf = tuple(elem//2 for elem in df)    \n",
    "\n",
    "        wf = np.zeros(shape=dx)               \n",
    "\n",
    "        wf[cx[0]-cf[0]-1:cx[0]+cf[0], cx[1]-cf[1]-1:cx[1]+cf[1]] = filt    \n",
    "\n",
    "        wf = fft2(wf)                        \n",
    "    \n",
    "        dim_x = np.array(dx[0:2])\n",
    "        dim_x =np.append(dim_x, math.prod(dx)/math.prod(dx[0:2]))     \n",
    "\n",
    "        aux1 = np.arange(cx[0],dx[0]+1)\n",
    "        aux2 = np.arange(1,cx[0])\n",
    "        index1 = np.concatenate((aux1, aux2), axis=None)  \n",
    "        index1 = index1-1\n",
    "\n",
    "        aux3 = np.arange(cx[1], dx[1]+1)\n",
    "        aux4 = np.arange(1,cx[1])\n",
    "        index2 = np.concatenate((aux3, aux4), axis=None) \n",
    "        index2 = index2-1\n",
    "\n",
    "        pdx = math.prod(dim_x[0:2])                                   \n",
    "        \n",
    "        y = (fft2(fft2(x)*wf)/pdx).real \n",
    "        \n",
    "        y = np.array([[y[i][j] for j in index2] for i in index1])\n",
    "        \n",
    "        return y\n",
    "    \n",
    "   \n",
    "    \n",
    "#======================================================#\n",
    "# Main BOA algorithm                                   \n",
    "#======================================================#      \n",
    "    gx = np.matrix([[-1,0,1],[-2,0,2],[-1,0,1]])   \n",
    "    gy = np.matrix([[1,2,1],[0,0,0],[-1,-2,-1]])\n",
    "        \n",
    "    np.nan_to_num(ingrid, nan=-9999, posinf=-9999, neginf=-9999) ##replace NaN and inf values with -9999\n",
    "        \n",
    "    grid5 = filt5(lon, lat, ingrid, nodata = nodata)\n",
    "    grid35 = filt3(lon, lat, ingrid, grid5)\n",
    "\n",
    "    # make an index of bad values and land pixels.\n",
    "    grid35 = grid35.astype(\"float\")\n",
    "    grid35[grid35 == -9999]=np.nan\n",
    "    naidx = np.isnan(grid35)       \n",
    "    # convert these to zeros for smoothing purposes\n",
    "    grid35[naidx]=0  \n",
    "\n",
    "    # perform the smoothing (Sobel filter)  \n",
    "    tgx = filter2(grid35, gx)\n",
    "    tgy = filter2(grid35, gy)\n",
    "        \n",
    "    tx = tgx/np.nansum(abs(np.array(gx).flatten()))\n",
    "    ty = tgy/np.nansum(abs(np.array(gy).flatten()))\n",
    "    front = np.sqrt((tx**2)+(ty**2))\n",
    "\n",
    "\n",
    "#======================================================#\n",
    "# landmask and edge dilation\n",
    "#======================================================#\n",
    "\n",
    "    land = naidx*1\n",
    "    land = land.astype(\"float\")\n",
    "\n",
    "    land[land==1] = np.nan\n",
    "    land[~np.isnan(land)] = 1\n",
    "\n",
    "    \n",
    "#======================================================#\n",
    "# landmask and edge dilation using raster!\n",
    "#======================================================#\n",
    "\n",
    "    l1=lon.size    #using size because lon and lat are matrices\n",
    "    l2=lat.size\n",
    "\n",
    "    midx = land*np.nan\n",
    "\n",
    "    midx[5:(l1-2), 5:(l2-2)] = 1\n",
    "\n",
    "    land = np.multiply(land, midx)\n",
    "\n",
    "    ################################## Não consigo converter isto para python\n",
    "    ssr = flip(raster((t(front))),2)\n",
    "    extent(ssr) = c(min(lon), max(lon), min(lat), max(lat))\n",
    "\n",
    "    mask = flip(focal(raster(t(land)), w = matrix(c(0,0,0,0,1,0,0,0,0), nrow=3, ncol=3)), direction = 2)\n",
    "    extent(mask) = c(min(lon), max(lon), min(lat), max(lat))\n",
    "\n",
    "    front = mask*ssr\n",
    "    ##################################\n",
    "\n",
    "\n",
    "    if direction==True:\n",
    "#   ************************************\n",
    "#   *** Calculate Gradient Direction ***\n",
    "#   ************************************\n",
    "        GRAD_DIR = atan2(tgy@.Data, tgx@.Data)     ## NÃO COMPREENDO\n",
    "        # ata2() -> function returns the radian arctangent between the x-axis and the vector from the origin to (x, y).\n",
    "\n",
    "        # ;===> change radians to degrees\n",
    "        GRAD_DIR = GRAD_DIR*180/math.pi\n",
    "\n",
    "        # ;===> Adjust to 0-360 scheme (make negative degrees positive)\n",
    "        OK = np.where(GRAD_DIR < 0)     ## retorna index da matriz cujos valores são negativos\n",
    "\n",
    "        if grad[OK].size >1:\n",
    "            GRAD_DIR[OK] = 360 - abs(GRAD_DIR[OK])\n",
    "\n",
    "        # ;===> Convert degrees so that 0 degrees is North and East is 90 degrees\n",
    "        GRAD_DIR = (360 - GRAD_DIR + 90) % 360     \n",
    "\n",
    "        GRAD_DIR = flip(raster(t(GRAD_DIR)), direction = 2)       ## NÃO CONSIGO CONVERTER PARA PYTHON\n",
    "        extent(GRAD_DIR) = extent(front)    \n",
    "        #extent -> recebe matriz com 4 elementos e retorna a class Extent com (xmin, xmax,ymin, ymax)\n",
    "\n",
    "        list(grdir = np.multiply(GRAD_DIR, mask), front = front)   \n",
    "    \n",
    "    else:\n",
    "        front\n",
    "    \n",
    "\n"
   ]
  },
  {
   "cell_type": "code",
   "execution_count": null,
   "id": "0a259001",
   "metadata": {},
   "outputs": [],
   "source": []
  },
  {
   "cell_type": "code",
   "execution_count": null,
   "id": "019c9c13",
   "metadata": {},
   "outputs": [],
   "source": []
  },
  {
   "cell_type": "code",
   "execution_count": null,
   "id": "abf82684",
   "metadata": {},
   "outputs": [],
   "source": []
  },
  {
   "cell_type": "code",
   "execution_count": null,
   "id": "0ce63c89",
   "metadata": {},
   "outputs": [],
   "source": []
  },
  {
   "cell_type": "code",
   "execution_count": null,
   "id": "c0e9c591",
   "metadata": {},
   "outputs": [],
   "source": []
  },
  {
   "cell_type": "code",
   "execution_count": null,
   "id": "4f4ada9b",
   "metadata": {},
   "outputs": [],
   "source": []
  },
  {
   "cell_type": "code",
   "execution_count": null,
   "id": "52351921",
   "metadata": {},
   "outputs": [],
   "source": []
  },
  {
   "cell_type": "code",
   "execution_count": null,
   "id": "e4f5dbf8",
   "metadata": {},
   "outputs": [],
   "source": []
  },
  {
   "cell_type": "code",
   "execution_count": null,
   "id": "3a6dcdce",
   "metadata": {},
   "outputs": [],
   "source": []
  },
  {
   "cell_type": "code",
   "execution_count": null,
   "id": "f7c1bab4",
   "metadata": {},
   "outputs": [],
   "source": []
  },
  {
   "cell_type": "code",
   "execution_count": null,
   "id": "5f420e24",
   "metadata": {},
   "outputs": [],
   "source": []
  }
 ],
 "metadata": {
  "kernelspec": {
   "display_name": "Python 3 (ipykernel)",
   "language": "python",
   "name": "python3"
  },
  "language_info": {
   "codemirror_mode": {
    "name": "ipython",
    "version": 3
   },
   "file_extension": ".py",
   "mimetype": "text/x-python",
   "name": "python",
   "nbconvert_exporter": "python",
   "pygments_lexer": "ipython3",
   "version": "3.8.10"
  }
 },
 "nbformat": 4,
 "nbformat_minor": 5
}
