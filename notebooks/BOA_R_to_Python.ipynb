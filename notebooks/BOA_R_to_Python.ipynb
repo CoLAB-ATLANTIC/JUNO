{
 "cells": [
  {
   "cell_type": "code",
   "execution_count": null,
   "id": "4f664471",
   "metadata": {},
   "outputs": [],
   "source": []
  },
  {
   "cell_type": "code",
   "execution_count": 26,
   "id": "a8f50395",
   "metadata": {},
   "outputs": [],
   "source": [
    "import numpy as np\n",
    "from numpy import nanmedian\n",
    "from scipy.fft import fft\n",
    "import math"
   ]
  },
  {
   "cell_type": "code",
   "execution_count": null,
   "id": "4934c661",
   "metadata": {},
   "outputs": [],
   "source": []
  },
  {
   "cell_type": "code",
   "execution_count": 3,
   "id": "03341968",
   "metadata": {},
   "outputs": [
    {
     "ename": "SyntaxError",
     "evalue": "invalid syntax (2922168994.py, line 15)",
     "output_type": "error",
     "traceback": [
      "\u001b[0;36m  File \u001b[0;32m\"/tmp/ipykernel_3825/2922168994.py\"\u001b[0;36m, line \u001b[0;32m15\u001b[0m\n\u001b[0;31m    filt5 <-\u001b[0m\n\u001b[0m            ^\u001b[0m\n\u001b[0;31mSyntaxError\u001b[0m\u001b[0;31m:\u001b[0m invalid syntax\n"
     ]
    }
   ],
   "source": [
    "#' filt5\n",
    "#' @description  Finds maximum of a 5x5 sliding window. If the central pixel is the maximum, this is flagged as a one. All other pixels are flagged as zero. Usually this function is not used directly.\n",
    "#' @usage filt5(lon, lat, ingrid, nodata = NA)\n",
    "#' @param lon longitude (vector) of the satellite image\n",
    "#' @param lat latitude (vector) of the satellite image\n",
    "#' @param ingrid The satellite data (matrix)\n",
    "#' @param nodata value representing 'no data'\n",
    "#'\n",
    "#' @return returns a grid of zeros and ones\n",
    "#' @seealso \\code{\\link{boa}}\n",
    "#' @export\n",
    "#'\n",
    "#' @examples \n",
    "#' # none\n",
    "filt5 <-\n",
    "function(lon , lat, ingrid, nodata = NA){\n",
    "#======================================================#\n",
    "# Find peaks in 5 directions. FLag as 5\n",
    "#======================================================#\n",
    " #outgrid = matrix(0,nrow=dim(ingrid)[1],ncol=dim(ingrid)[2] ) # make all zeros..\n",
    " nodatidx = ingrid[ingrid==nodata]    # creates single dim array with as much values as the matrix ingrid, with NANs\n",
    " ingrid[nodatidx] = -9999\n",
    " outgrid = ingrid*0 ## outgrid is a matrix with the shape of ingrid, full of Zeros\n",
    " l1 = length(lon)\n",
    " l2 = length(lat)\n",
    "for(i in 3:(l1-2)){\n",
    " for(j in 3:(l2-2)){\n",
    "   subg = ingrid[(i-2):(i+2),(j-2):(j+2)]   #results in slice with data from row i-2 to i+2 (i-2,i-1, i, i+1, i+2) (included) and columns (j-2, j-1, j, j+1, j+2)\n",
    "if(sum(is.na(subg))==25){\n",
    "outgrid[i,j] = 0\n",
    "}else{\n",
    "vec = as.vector(subg)    ## convert matrix to vector\n",
    "ma = which.max(subg)\n",
    "mi = which.min(subg)\n",
    "\n",
    "   if(ma==13||mi==13){\n",
    " outgrid[i,j] = 1\n",
    "}else{\n",
    "  outgrid[i,j] = 0\n",
    "}\n",
    "}\n",
    "   }\n",
    "  }\n",
    " ## Fodass não tou a perceber para que serve esta parte  \n",
    "outgrid[nodatidx] = nodata  \n",
    "outgrid"
   ]
  },
  {
   "cell_type": "code",
   "execution_count": 4,
   "id": "a6498593",
   "metadata": {},
   "outputs": [],
   "source": [
    "def filt5(lon, lat, ingrid, nodata=np.nan):\n",
    "    \"\"\"\n",
    "    Find peaks in 5 directions. FLag as 5\n",
    "    \"\"\"\n",
    "    \n",
    "    nodatidx = ingrid.flatten()*np.nan ## creates single dim array with as much values as the matrix ingrid, with NANs\n",
    "    outgrid = np.zeros(ingrid.shape)   ## outgrid is a matrix with the shape of ingrid, full of Zeros\n",
    "    \n",
    "    l1 = len(lon)\n",
    "    l2 = len(lat)\n",
    "    \n",
    "    for i in range(3, l1-2):   #tem de ser -1 em vez de -2 \n",
    "        for j in range(3, l2-2):\n",
    "            subg = ingrid[(i-2):(i+3), (j-2):(j+3)] # slice with data from row (i-2,i-1, i, i+1, i+2) and columns (j-2, j-1, j, j+1, j+2)\n",
    "            if np.isnan(subg).sum()==25:    #if all values in submatrix subg are null values:\n",
    "                outgrid[i,j] = 0\n",
    "            else:\n",
    "                vec = np.array(subg).flatten()    ## convert matrix to vector\n",
    "                ma = np.where(subg == np.amax(subg))\n",
    "                mi = np.where(subg == np.amin(subg))\n",
    "                \n",
    "                if ma==(2,2) or mi==(2,2):     #se se tratar do valor meio da matrix\n",
    "                    outgrid[i,j] = 1\n",
    "                else:\n",
    "                    outgrid[i,j] = 0\n",
    "    \n",
    "    #Não estou a perceber esta parte\n",
    "    #outgrid[nodatidx] = nodata\n",
    "    return outgrid\n",
    "                    \n",
    "                \n",
    "                \n",
    "    \n",
    "    "
   ]
  },
  {
   "cell_type": "code",
   "execution_count": null,
   "id": "1c31c68b",
   "metadata": {},
   "outputs": [],
   "source": []
  },
  {
   "cell_type": "code",
   "execution_count": null,
   "id": "40198696",
   "metadata": {},
   "outputs": [],
   "source": []
  },
  {
   "cell_type": "code",
   "execution_count": null,
   "id": "af11f48f",
   "metadata": {},
   "outputs": [],
   "source": [
    "#' filt3\n",
    "#'\n",
    "#' @param lon longitude (vector) of the satellite image\n",
    "#' @param lat latitude (vector) of the satellite image\n",
    "#' @param ingrid The satellite data (matrix)\n",
    "#' @param grid5 results of \\code{\\link{filt5}}\n",
    "#'\n",
    "#' @return returns a median smoothed grid of satellite data\n",
    "#' @seealso \\code{\\link{boa}}\n",
    "#' @usage filt3(lon, lat, ingrid, grid5 = grid5(lon, lat, ingrid))\n",
    "#' @export\n",
    "#'\n",
    "#' @examples\n",
    "#' # none here\n",
    "filt3 <-\n",
    "function(lon , lat, ingrid, grid5){\n",
    "#======================================================#\n",
    "# Find peaks in 3 directions. FLag as 3\n",
    "#======================================================#\n",
    " outgrid = ingrid*0 # make all zeros..\n",
    " l1 = length(lon)\n",
    " l2 = length(lat)\n",
    "for(i in 3:(l1-2)){\n",
    " for(j in 3:(l2-2)){\n",
    "  if((grid5[i,j]==0)==T){\n",
    " subg = ingrid[(i-1):(i+1),(j-1):(j+1)]\n",
    "if(sum(is.na(subg))==9){\n",
    "outgrid[i,j] = ingrid[i,j]\n",
    "}else{\n",
    "vec = as.vector(subg)\n",
    "ma = which.max(subg)\n",
    "mi = which.min(subg)\n",
    "\n",
    "   if((ma==5||mi==5)==T){\n",
    " outgrid[i,j] = median(subg,na.rm=T)  # apply median filter if there is peak 3\n",
    "}else{\n",
    "  outgrid[i,j] = ingrid[i,j]\n",
    "}\n",
    "}\n",
    "}else{\n",
    " outgrid[i,j] = ingrid[i,j]\n",
    "}\n",
    "\n",
    " }\n",
    "}\n",
    "outgrid\n",
    "}\n"
   ]
  },
  {
   "cell_type": "code",
   "execution_count": null,
   "id": "4f38c736",
   "metadata": {},
   "outputs": [],
   "source": [
    "def filt3(lon, lat, ingrid, grid5):\n",
    "    \"\"\"\n",
    "    Find peaks in 3 directions. FLag as 3\n",
    "    \"\"\"\n",
    "    \n",
    "    outgrid = ingrid*0   #make all zeros. in python if matrix ingrid has null values, they'll stay null after (*0)\n",
    "    l1=len(lon)\n",
    "    l2=len(lat)\n",
    "    \n",
    "    for i in range(3, l1-2):   #tem de ser -1 em vez de -2 \n",
    "        for j in range(3, l2-2):\n",
    "            if (grid5[i,j]==0)==True:\n",
    "                subg = ingrid[(i-1):(i+2), (j-1):(j+2)]\n",
    "                if np.isnan(subg).sum()==9:\n",
    "                    outgrid[i,j] = ingrid[i,j]\n",
    "                else:\n",
    "                    vec = np.array(subg).flatten()    ## convert matrix to vector\n",
    "                    ma = np.where(subg == np.amax(subg))\n",
    "                    mi = np.where(subg == np.amin(subg))\n",
    "                    \n",
    "                    if ((ma==(1,1) or mi==(1,1))):     #pixel do meio\n",
    "                        outgrid[i,j] = nanmedian(subg)\n",
    "                    else:\n",
    "                        outgrid[i,j] = ingrid[i,j]\n",
    "            \n",
    "            else:\n",
    "                outgrid[i,j] = ingrid[i,j]\n",
    "                \n",
    "    return outgrid"
   ]
  },
  {
   "cell_type": "code",
   "execution_count": null,
   "id": "8baf3e70",
   "metadata": {},
   "outputs": [],
   "source": []
  },
  {
   "cell_type": "code",
   "execution_count": null,
   "id": "462c4155",
   "metadata": {},
   "outputs": [],
   "source": []
  },
  {
   "cell_type": "code",
   "execution_count": null,
   "id": "683bd33e",
   "metadata": {},
   "outputs": [],
   "source": []
  },
  {
   "cell_type": "code",
   "execution_count": null,
   "id": "60b340c8",
   "metadata": {},
   "outputs": [],
   "source": [
    "#' boa\n",
    "#'\n",
    "#' @param lon longitude (vector) of the satellite image\n",
    "#' @param lat latitude (vector) of the satellite image\n",
    "#' @param ingrid The satellite data (matrix). If using chlorophyll, transform using log(ingrid))\n",
    "#' @param nodata value representing 'no data'\n",
    "#' @param direction Logical. Should direction be calculated and returned\n",
    "#'\n",
    "#' @return either a stand alone asc grid of front gradient data or a list of:\n",
    "#'\t\tgrdir : ascii grid Gradient direction\n",
    "#'    front : Gradient magnitude. In the case of chlorophyll, this is a ratio\n",
    "#' @references Belkin, I. M. & O'Reilly, J. E. An algorithm for oceanic front detection in chlorophyll and SST satellite imagery. Journal of Marine Systems, 2009, 78, 319 - 326\n",
    "#' @details Note: These grids are in raster format, as is used in \\code{\\link{raster}}. \n",
    "#' @keywords sst, chl, front, satellite\n",
    "#' @export\n",
    "#'\n",
    "#' @examples # none\n",
    "boa <-\n",
    "function(lon, lat, ingrid, nodata = NA, direction = F){\n",
    "\n",
    "## Workhorse filter from EBImage. Modified so we don't need colorspace and other annoying requirements.\t\t\n",
    "\t.filter2 <-\n",
    "\t\tfunction (x, filter) \n",
    "\t\t{\n",
    "\t\t\t# Workhorse filter from EBImage. Modified so we don't need colorspace and other annoying requirements.\n",
    "\t\t\tvalidObject(x)\n",
    "\t\t\tvalidObject(filter)\n",
    "\t\t\t#if (colorMode(x) == TrueColor) \n",
    "\t\t\t#   stop(\"this method doesn't support the 'TrueColor' color mode\")\n",
    "\t\t\tdx = dim(x)\n",
    "\t\t\t#cmx = colorMode(x)\n",
    "\t\t\tdf = dim(filter)\n",
    "\t\t\tif (any(df%%2 == 0)) \n",
    "\t\t\t\tstop(\"dimensions of 'filter' matrix must be odd\")\n",
    "\t\t\tif (any(dx[1:2] < df)) \n",
    "\t\t\t\tstop(\"dimensions of 'x' must be bigger than 'filter'\")\n",
    "\t\t\tcx = dx%/%2\n",
    "\t\t\tcf = df%/%2\n",
    "\t\t\twf = matrix(0, nr = dx[1], nc = dx[2])\n",
    "\t\t\twf[(cx[1] - cf[1]):(cx[1] + cf[1]), (cx[2] - cf[2]):(cx[2] + cf[2])] = filter\n",
    "\t\t\twf = fft(wf)\n",
    "\t\t\tdim(x) = c(dx[1:2], prod(dx)/prod(dx[1:2]))\n",
    "\t\t\tindex1 = c(cx[1]:dx[1], 1:(cx[1] - 1))\n",
    "\t\t\tindex2 = c(cx[2]:dx[2], 1:(cx[2] - 1))\n",
    "\t\t\tpdx = prod(dim(x)[1:2])\n",
    "            \n",
    "            ## Não estou a conseguir implementar esta parte\n",
    "\t\t\ty = apply(x, 3, function(xx) {\n",
    "\t\t\t\tdim(xx) = dx[1:2]\n",
    "\t\t\t\tRe(fft(fft(xx) * wf, inverse = T)/pdx)[index1, index2]\n",
    "\t\t\t})\n",
    "\t\t\tdim(y) = dx\n",
    "\t\t\ty\n",
    "\t\t}\t\n",
    "\t\n",
    "\t# browser()\n",
    "    \n",
    "    \n",
    "#======================================================#\n",
    "# Main BOA algorithm\n",
    "#======================================================#\n",
    "# require(adehabitat)\n",
    "# x component (longitudinal kernel)\n",
    "gx = matrix(c(-1,0,1,-2,0,2,-1,0,1),nrow=3, byrow=T)\n",
    "# y component (latitudinal kernel)\n",
    "gy = matrix(c(1,2,1,0,0,0,-1,-2,-1),nrow=3, byrow=T)\n",
    "# filt 5 and 35 don't like NA's... but final steps are ok with it!\n",
    "\n",
    "# if nodata is numeric, this will take care of it..\n",
    "ingrid[ingrid == nodata] = -9999      ##NÂO ESTOU A PERCEBER   \n",
    "# if something else: \n",
    "if(any(is.infinite(ingrid)|is.nan(ingrid)|is.na(ingrid))){\n",
    "ingrid[is.na(ingrid)] = -9999       ## TO FIND MISSING VALUES. IF THE VALUE IS NA RETURN TRUE OTHERWISE FALSE\n",
    "ingrid[is.nan(ingrid)] = -9999      ##CHECK IF MATRIX HAS ANY NaN (NOT A NUMBER) VALUE AS ELEMENT\n",
    "ingrid[is.infinite(ingrid)] = -9999    ## CHECK TO SEE IF THE VECTOR CONTAINS INFINITE VALUES AS ELEMENTS\n",
    "}\n",
    "\n",
    "# do the median filtering\n",
    "grid5 = filt5(lon, lat, ingrid, nodata = nodata)\n",
    "grid35 = filt3(lon, lat, ingrid, grid5)\n",
    "\n",
    "# make an index of bad values and land pixels.\n",
    "grid35[grid35==-9999] = NA\n",
    "naidx = is.na(grid35)\n",
    "# convert these to zeros for smoothing purposes\n",
    "grid35[naidx]=0\n",
    "# perform the smoothing (Sobel filter)\n",
    "tgx = .filter2(grid35, gx)\n",
    "tgy = .filter2(grid35, gy)\n",
    "\n",
    "# NOTE!! IDL CONVOL uses NORMALIZE function which defaults to the abs(sum(KERNEL)), in this case gx and gy\n",
    "tx = tgx/sum(abs(as.vector(gx)), na.rm=T)\n",
    "ty = tgy/sum(abs(as.vector(gy)), na.rm=T)\n",
    "front = (sqrt(tx^2+ty^2))\n",
    "\n",
    "    \n",
    "#======================================================#\n",
    "# landmask and edge dilation\n",
    "#======================================================#\n",
    "land = naidx*1\n",
    "# land = naidx*1\n",
    "land[land==1] = NaN\n",
    "land[!is.nan(land)] = 1\n",
    "# # use adehabitat library for image erosion (expand land pixels slightly)\n",
    "# mask = morphology(as.asc(land, min(lon), yll = min(lat), cellsize = diff(lat)[1]), 'erode', 1)\n",
    "# # remove edge pixels\n",
    "# l1 = length(lon)\n",
    "# l2 = length(lat)\n",
    "# midx = mask*NaN\n",
    "# midx[5:(l1-3), 5:(l2-3)]=1\n",
    "# mask = mask*midx\n",
    "# # account for the edge effect\n",
    "# front = front *mask\n",
    "\n",
    "    \n",
    "    \n",
    "#======================================================#\n",
    "# landmask and edge dilation using raster!\n",
    "#======================================================#\n",
    "\n",
    "\n",
    "l1 = length(lon)\n",
    "l2 = length(lat)\n",
    "\n",
    "midx = land*NaN\n",
    "\n",
    "midx[5:(l1-3), 5:(l2-3)] = 1\n",
    "\n",
    "# land = land*midx\n",
    "\n",
    "land = (land*midx)\n",
    "\n",
    "# ssr = flip(t(raster(front)), 2)\n",
    "ssr = flip(raster((t(front))),2)\n",
    "extent(ssr) = c(min(lon), max(lon), min(lat), max(lat))\n",
    "\n",
    "mask = flip(focal(raster(t(land)), w = matrix(c(0,0,0,0,1,0,0,0,0), nrow=3, ncol=3)), direction = 2)\n",
    "extent(mask) = c(min(lon), max(lon), min(lat), max(lat))\n",
    "\n",
    "front = mask*ssr\n",
    "\n",
    "\n",
    "if(direction==T){\n",
    "# ;   ************************************\n",
    "# ;   *** Calculate Gradient Direction ***\n",
    "# ;   ************************************\n",
    "    GRAD_DIR = atan2(tgy@.Data, tgx@.Data)\n",
    "\n",
    "# ;===> change radians to degrees\n",
    "GRAD_DIR = GRAD_DIR*180/pi\n",
    "\n",
    "# ;===> Adjust to 0-360 scheme (make negative degrees positive)\n",
    "OK = which(GRAD_DIR < 0)\n",
    "if(length(OK)>1)GRAD_DIR[OK] = 360 - abs(GRAD_DIR[OK])\n",
    "\n",
    "# ;===> Convert degrees so that 0 degrees is North and East is 90 degrees\n",
    "GRAD_DIR = (360 - GRAD_DIR + 90) %% 360\n",
    "\n",
    "GRAD_DIR = flip(raster(t(GRAD_DIR)), direction = 2)\n",
    "extent(GRAD_DIR) = extent(front)\n",
    "\n",
    "list(grdir = GRAD_DIR*mask, front = front)\n",
    "}\n",
    "else{\n",
    "front\n",
    "}\n",
    "}"
   ]
  },
  {
   "cell_type": "code",
   "execution_count": 76,
   "id": "43e24c0d",
   "metadata": {},
   "outputs": [
    {
     "name": "stdout",
     "output_type": "stream",
     "text": [
      "[[ True False  True False]\n",
      " [False False False False]]\n",
      "[[ 1. nan nan nan]\n",
      " [nan nan nan nan]]\n"
     ]
    },
    {
     "data": {
      "text/plain": [
       "matrix([[ 1., nan, nan, nan],\n",
       "        [nan, nan, nan, nan]])"
      ]
     },
     "execution_count": 76,
     "metadata": {},
     "output_type": "execute_result"
    }
   ],
   "source": [
    "import math\n",
    "\n",
    "dx = np.matrix([[True,False,True,False],[False,False,False,False]])\n",
    "print(dx)\n",
    "midx = dx*np.nan\n",
    "midx[0:1, 0:1] = 1\n",
    "midx\n",
    "print(midx)\n",
    "\n",
    "\n",
    "dx = np.multiply(dx, midx)    #dx(2,4) midx(2,4)\n",
    "dx"
   ]
  },
  {
   "cell_type": "code",
   "execution_count": null,
   "id": "e76a8770",
   "metadata": {},
   "outputs": [],
   "source": [
    "def boa(lon, lat, ingrid, nodata = np.nan, direction = False):\n",
    "    \n",
    "    def filter2(x, filter):\n",
    "        \n",
    "        dx = x.shape\n",
    "        df = filter.shape\n",
    "        \n",
    "        if any(df%%2==0):\n",
    "            exit(\"dimensions of 'filter' matrix must be odd\")\n",
    "        if (any(dx[1:3] < df)):\n",
    "            exit(\"dimensions of 'x' must be bigger than 'filter'\")\n",
    "        \n",
    "        cx = dx//2\n",
    "        cf = df//2\n",
    "        \n",
    "        wf = np.zeros(shape=dx)\n",
    "        wf[(cx[0]-cf[0]):(cx[0]+cf[0]), (cx[1]-cf[1]):(cx[1]+cf[1])] = filter\n",
    "        wf = fft(wf)\n",
    "        \n",
    "        x.shape = [dx[0:2], math.prod(dx)/math.prod(dx[0:2])]\n",
    "        index1 = [cx[0]:dx[0], 0:(cx[0] - 1)]\n",
    "        index2 = [cx[1]:dx[1], 0:(cx[1] - 1)]\n",
    "        \n",
    "        pdx = math.prod(x.shape)\n",
    "        \n",
    "\n",
    "############################### Não estou a conseguir converter esta parte de R para python\n",
    "\t\t\ty = apply(x, 3, function(xx) {\n",
    "\t\t\t\tdim(xx) = dx[1:2]\n",
    "\t\t\t\tRe(fft(fft(xx) * wf, inverse = T)/pdx)[index1, index2]\n",
    "\t\t\t})\n",
    "\t\t\tdim(y) = dx\n",
    "\t\t\ty\n",
    "\t\t}\t\n",
    "##############################\n",
    "        \n",
    "    \n",
    "#======================================================#\n",
    "# Main BOA algorithm\n",
    "#======================================================#      \n",
    "    gx = np.matrix([[-1,0,1],[-2,0,2],[-1,0,1]])   \n",
    "    gy = np.matrix([[1,2,1],[0,0,0],[-1,-2,-1]])\n",
    "        \n",
    "    np.nan_to_num(ingrid, nan=-9999, posinf=-9999, neginf=-9999) ##replace NaN and inf values with -9999\n",
    "        \n",
    "    grid5 = filt5(lon, lat, ingrid, nodata = nodata)\n",
    "    grid35 = filt3(lon, lat, ingrid, grid5)\n",
    "\n",
    "    # make an index of bad values and land pixels.\n",
    "    grid35 = grid35.astype(\"float\")\n",
    "    grid35[grid35 == -9999]=np.nan\n",
    "    naidx = np.isnan(grid35)       \n",
    "    # convert these to zeros for smoothing purposes\n",
    "    grid35[naidx]=0  \n",
    "\n",
    "    # perform the smoothing (Sobel filter)\n",
    "    tgx = filter2(grid35, gx)\n",
    "    tgy = filter2(grid35, gy)\n",
    "        \n",
    "    tx = tgx/np.nansum(abs(np.array(gx).flatten()))\n",
    "    ty = tgy/np.nansum(abs(np.array(gy).flatten()))\n",
    "    front = (math.sqrt(tx**2+ty**2))\n",
    "\n",
    "\n",
    "#======================================================#\n",
    "# landmask and edge dilation\n",
    "#======================================================#\n",
    "\n",
    "    land = naidx*1\n",
    "    land = land.astype(\"float\")\n",
    "\n",
    "    land[land==1] = np.nan\n",
    "    land[~np.isnan(land)] = 1\n",
    "\n",
    "    \n",
    "#======================================================#\n",
    "# landmask and edge dilation using raster!\n",
    "#======================================================#\n",
    "\n",
    "    l1=lon.size    #using size because lon and lat are matrices\n",
    "    l2=lat.size\n",
    "\n",
    "    midx = land*np.nan\n",
    "\n",
    "    midx[5:(l1-2), 5:(l2-2)] = 1\n",
    "\n",
    "    land = np.multiply(land, midx)\n",
    "\n",
    "    ################################## Não consigo converter isto para python\n",
    "    ssr = flip(raster((t(front))),2)\n",
    "    extent(ssr) = c(min(lon), max(lon), min(lat), max(lat))\n",
    "\n",
    "    mask = flip(focal(raster(t(land)), w = matrix(c(0,0,0,0,1,0,0,0,0), nrow=3, ncol=3)), direction = 2)\n",
    "    extent(mask) = c(min(lon), max(lon), min(lat), max(lat))\n",
    "\n",
    "    front = mask*ssr\n",
    "    ##################################\n",
    "\n",
    "\n",
    "    if direction==True:\n",
    "#   ************************************\n",
    "#   *** Calculate Gradient Direction ***\n",
    "#   ************************************\n",
    "        GRAD_DIR = atan2(tgy@.Data, tgx@.Data)     ## NÃO COMPREENDO\n",
    "        # ata2() -> function returns the radian arctangent between the x-axis and the vector from the origin to (x, y).\n",
    "\n",
    "        # ;===> change radians to degrees\n",
    "        GRAD_DIR = GRAD_DIR*180/math.pi\n",
    "\n",
    "        # ;===> Adjust to 0-360 scheme (make negative degrees positive)\n",
    "        OK = np.where(GRAD_DIR < 0)     ## retorna index da matriz cujos valores são negativos\n",
    "\n",
    "        if grad[OK].size >1:\n",
    "            GRAD_DIR[OK] = 360 - abs(GRAD_DIR[OK])\n",
    "\n",
    "        # ;===> Convert degrees so that 0 degrees is North and East is 90 degrees\n",
    "        GRAD_DIR = (360 - GRAD_DIR + 90) % 360     \n",
    "\n",
    "        GRAD_DIR = flip(raster(t(GRAD_DIR)), direction = 2)       ## NÃO CONSIGO CONVERTER PARA PYTHON\n",
    "        extent(GRAD_DIR) = extent(front)    \n",
    "        #extent -> recebe matriz com 4 elementos e retorna a class Extent com (xmin, xmax,ymin, ymax)\n",
    "\n",
    "        list(grdir = np.multiply(GRAD_DIR, mask), front = front)   \n",
    "    \n",
    "    else:\n",
    "        front\n",
    "    \n",
    "\n"
   ]
  },
  {
   "cell_type": "code",
   "execution_count": 130,
   "id": "0a6c064e",
   "metadata": {},
   "outputs": [
    {
     "data": {
      "text/plain": [
       "matrix([[ 1,  5,  7],\n",
       "        [-4,  0, -1],\n",
       "        [ 2, -3,  4]])"
      ]
     },
     "execution_count": 130,
     "metadata": {},
     "output_type": "execute_result"
    }
   ],
   "source": [
    "grad =np.matrix([[1,5,7],[-4,0,-1], [2,-3,4]])\n",
    "mask =np.matrix([[1,1,1],[1,1,1], [1,1,1]])\n",
    "\n",
    "grdir = np.multiply(grad, mask)\n",
    "grdir"
   ]
  },
  {
   "cell_type": "code",
   "execution_count": 128,
   "id": "3568e041",
   "metadata": {},
   "outputs": [
    {
     "data": {
      "text/plain": [
       "matrix([[89, 85, 83],\n",
       "        [94, 90, 91],\n",
       "        [88, 93, 86]])"
      ]
     },
     "execution_count": 128,
     "metadata": {},
     "output_type": "execute_result"
    }
   ],
   "source": [
    "grad"
   ]
  },
  {
   "cell_type": "code",
   "execution_count": 120,
   "id": "3fa34b73",
   "metadata": {},
   "outputs": [
    {
     "data": {
      "text/plain": [
       "3"
      ]
     },
     "execution_count": 120,
     "metadata": {},
     "output_type": "execute_result"
    }
   ],
   "source": [
    "grad[OK].size"
   ]
  },
  {
   "cell_type": "code",
   "execution_count": 78,
   "id": "2f65dcc8",
   "metadata": {},
   "outputs": [
    {
     "ename": "NameError",
     "evalue": "name 'raster' is not defined",
     "output_type": "error",
     "traceback": [
      "\u001b[0;31m---------------------------------------------------------------------------\u001b[0m",
      "\u001b[0;31mNameError\u001b[0m                                 Traceback (most recent call last)",
      "\u001b[0;32m/tmp/ipykernel_3825/3256891549.py\u001b[0m in \u001b[0;36m<module>\u001b[0;34m\u001b[0m\n\u001b[0;32m----> 1\u001b[0;31m \u001b[0mssr\u001b[0m \u001b[0;34m=\u001b[0m \u001b[0mnp\u001b[0m\u001b[0;34m.\u001b[0m\u001b[0mflipud\u001b[0m\u001b[0;34m(\u001b[0m\u001b[0mraster\u001b[0m\u001b[0;34m(\u001b[0m\u001b[0;36m25\u001b[0m\u001b[0;34m)\u001b[0m\u001b[0;34m)\u001b[0m\u001b[0;34m\u001b[0m\u001b[0;34m\u001b[0m\u001b[0m\n\u001b[0m",
      "\u001b[0;31mNameError\u001b[0m: name 'raster' is not defined"
     ]
    }
   ],
   "source": [
    "ssr = np.flipud(raster(25))"
   ]
  },
  {
   "cell_type": "code",
   "execution_count": 55,
   "id": "d125d435",
   "metadata": {},
   "outputs": [
    {
     "data": {
      "text/plain": [
       "3"
      ]
     },
     "execution_count": 55,
     "metadata": {},
     "output_type": "execute_result"
    }
   ],
   "source": [
    "naidx = np.matrix([[False, False, False],[False, True, False],[False, False, False]])\n",
    "\n",
    "land = naidx*1\n",
    "land = land.astype(\"float\")\n",
    "land[land==1] = np.nan\n",
    "land[~np.isnan(land)] = 1\n",
    "land\n",
    "len(land)"
   ]
  },
  {
   "cell_type": "code",
   "execution_count": 172,
   "id": "635fb47e",
   "metadata": {},
   "outputs": [
    {
     "data": {
      "text/plain": [
       "matrix([[ 1.000e+00,  2.000e+00,  1.000e+00],\n",
       "        [ 0.000e+00, -9.999e+03,  0.000e+00],\n",
       "        [-1.000e+00, -9.999e+03, -1.000e+00]])"
      ]
     },
     "execution_count": 172,
     "metadata": {},
     "output_type": "execute_result"
    }
   ],
   "source": [
    "gy = np.matrix([[1,2,1],[0,np.nan,0],[-1,np.inf,-1]])\n",
    "gx = np.matrix([[1,2,1],[0,2,0],[-1,0,-1]])\n",
    "px = np.matrix([[1,2,1],[0,2,0],[-1,1,-1]])\n",
    "\n",
    "gy = np.nan_to_num(gy, nan=-9999, posinf=-9999, neginf=-9999) \n",
    "gy"
   ]
  },
  {
   "cell_type": "code",
   "execution_count": 173,
   "id": "b442fd01",
   "metadata": {},
   "outputs": [],
   "source": [
    "gy[gy==1] = np.nan\n",
    "gy[~np.isnan(gy)]=1"
   ]
  },
  {
   "cell_type": "code",
   "execution_count": 180,
   "id": "32f11648",
   "metadata": {},
   "outputs": [
    {
     "data": {
      "text/plain": [
       "matrix([[1., 1.],\n",
       "        [1., 1.]])"
      ]
     },
     "execution_count": 180,
     "metadata": {},
     "output_type": "execute_result"
    }
   ],
   "source": [
    "gy[1:3,1:3]"
   ]
  },
  {
   "cell_type": "code",
   "execution_count": 170,
   "id": "0e7f3597",
   "metadata": {},
   "outputs": [],
   "source": [
    "y = gy*np.nan"
   ]
  },
  {
   "cell_type": "code",
   "execution_count": 171,
   "id": "83987f10",
   "metadata": {},
   "outputs": [
    {
     "data": {
      "text/plain": [
       "matrix([[nan, nan, nan],\n",
       "        [nan, nan, nan],\n",
       "        [nan, nan, nan]])"
      ]
     },
     "execution_count": 171,
     "metadata": {},
     "output_type": "execute_result"
    }
   ],
   "source": [
    "y"
   ]
  },
  {
   "cell_type": "code",
   "execution_count": null,
   "id": "46cd8916",
   "metadata": {},
   "outputs": [],
   "source": []
  },
  {
   "cell_type": "code",
   "execution_count": 183,
   "id": "517a7b2a",
   "metadata": {},
   "outputs": [
    {
     "data": {
      "text/plain": [
       "[[1, 2, -1], [-9999, 0, 0], [-9999, -2, -1]]"
      ]
     },
     "execution_count": 183,
     "metadata": {},
     "output_type": "execute_result"
    }
   ],
   "source": [
    "s = [[1,2,-1],[-9999,0,0],[-9999,-2,-1]]\n",
    "s"
   ]
  },
  {
   "cell_type": "code",
   "execution_count": 185,
   "id": "626c358d",
   "metadata": {},
   "outputs": [
    {
     "data": {
      "text/plain": [
       "[]"
      ]
     },
     "execution_count": 185,
     "metadata": {},
     "output_type": "execute_result"
    }
   ],
   "source": [
    "s[5:9]"
   ]
  },
  {
   "cell_type": "code",
   "execution_count": null,
   "id": "095ebf0d",
   "metadata": {},
   "outputs": [],
   "source": []
  },
  {
   "cell_type": "code",
   "execution_count": 154,
   "id": "11470086",
   "metadata": {},
   "outputs": [
    {
     "data": {
      "text/plain": [
       "matrix([[False, False, False],\n",
       "        [False,  True, False],\n",
       "        [False,  True, False]])"
      ]
     },
     "execution_count": 154,
     "metadata": {},
     "output_type": "execute_result"
    }
   ],
   "source": [
    "gy[gy==-9999]=np.nan\n",
    "np.isnan(gy)"
   ]
  },
  {
   "cell_type": "code",
   "execution_count": 156,
   "id": "8257e4cf",
   "metadata": {},
   "outputs": [
    {
     "data": {
      "text/plain": [
       "3.605551275463989"
      ]
     },
     "execution_count": 156,
     "metadata": {},
     "output_type": "execute_result"
    }
   ],
   "source": [
    "tx=2\n",
    "ty=3\n",
    "math.sqrt(tx**2+ty**2)"
   ]
  },
  {
   "cell_type": "code",
   "execution_count": 147,
   "id": "3a1e9d33",
   "metadata": {},
   "outputs": [
    {
     "data": {
      "text/plain": [
       "[matrix([[1, 2, 1]], dtype=object),\n",
       " matrix([[0, None, 0]], dtype=object),\n",
       " matrix([[-1, -2, -1]], dtype=object)]"
      ]
     },
     "execution_count": 147,
     "metadata": {},
     "output_type": "execute_result"
    }
   ],
   "source": [
    "gz"
   ]
  },
  {
   "cell_type": "code",
   "execution_count": null,
   "id": "6018e9bf",
   "metadata": {},
   "outputs": [],
   "source": []
  },
  {
   "cell_type": "code",
   "execution_count": null,
   "id": "a58c9eaf",
   "metadata": {},
   "outputs": [],
   "source": []
  },
  {
   "cell_type": "code",
   "execution_count": 209,
   "id": "8179fa03",
   "metadata": {},
   "outputs": [
    {
     "data": {
      "text/plain": [
       "[[1, nan, 3], [4, 5, 6]]"
      ]
     },
     "execution_count": 209,
     "metadata": {},
     "output_type": "execute_result"
    }
   ],
   "source": [
    "A = [[1,2,3],[4,5,6]]\n",
    "A[0][1] = np.nan\n",
    "A"
   ]
  },
  {
   "cell_type": "code",
   "execution_count": 202,
   "id": "a8615659",
   "metadata": {},
   "outputs": [
    {
     "data": {
      "text/plain": [
       "nan"
      ]
     },
     "execution_count": 202,
     "metadata": {},
     "output_type": "execute_result"
    }
   ],
   "source": [
    "A[0]"
   ]
  },
  {
   "cell_type": "code",
   "execution_count": 189,
   "id": "407406e5",
   "metadata": {},
   "outputs": [
    {
     "data": {
      "text/plain": [
       "list"
      ]
     },
     "execution_count": 189,
     "metadata": {},
     "output_type": "execute_result"
    }
   ],
   "source": [
    "type(A)"
   ]
  },
  {
   "cell_type": "code",
   "execution_count": 211,
   "id": "89b1fa57",
   "metadata": {},
   "outputs": [
    {
     "data": {
      "text/plain": [
       "array([[nan, 20., 30.],\n",
       "       [40., 50., 60.]])"
      ]
     },
     "execution_count": 211,
     "metadata": {},
     "output_type": "execute_result"
    }
   ],
   "source": [
    "a=np.array([[10,20,30],[40,50,60]])\n",
    "a=a.astype('float')\n",
    "a[a==10] = np.nan\n",
    "a"
   ]
  },
  {
   "cell_type": "code",
   "execution_count": null,
   "id": "0a53f200",
   "metadata": {},
   "outputs": [],
   "source": []
  },
  {
   "cell_type": "code",
   "execution_count": null,
   "id": "12e1008b",
   "metadata": {},
   "outputs": [],
   "source": []
  },
  {
   "cell_type": "code",
   "execution_count": null,
   "id": "204c8da2",
   "metadata": {},
   "outputs": [],
   "source": []
  },
  {
   "cell_type": "code",
   "execution_count": null,
   "id": "3345a688",
   "metadata": {},
   "outputs": [],
   "source": []
  },
  {
   "cell_type": "code",
   "execution_count": null,
   "id": "42e1b452",
   "metadata": {},
   "outputs": [],
   "source": []
  },
  {
   "cell_type": "code",
   "execution_count": null,
   "id": "28f02abc",
   "metadata": {},
   "outputs": [],
   "source": []
  },
  {
   "cell_type": "code",
   "execution_count": null,
   "id": "e8216fba",
   "metadata": {},
   "outputs": [],
   "source": []
  },
  {
   "cell_type": "code",
   "execution_count": null,
   "id": "ed79a481",
   "metadata": {},
   "outputs": [],
   "source": []
  },
  {
   "cell_type": "code",
   "execution_count": null,
   "id": "5fc8fd5f",
   "metadata": {},
   "outputs": [],
   "source": []
  },
  {
   "cell_type": "code",
   "execution_count": null,
   "id": "90ff14aa",
   "metadata": {},
   "outputs": [],
   "source": []
  },
  {
   "cell_type": "code",
   "execution_count": null,
   "id": "6759a380",
   "metadata": {},
   "outputs": [],
   "source": []
  },
  {
   "cell_type": "code",
   "execution_count": null,
   "id": "f9ca8d91",
   "metadata": {},
   "outputs": [],
   "source": []
  },
  {
   "cell_type": "code",
   "execution_count": null,
   "id": "1ca9280b",
   "metadata": {},
   "outputs": [],
   "source": []
  },
  {
   "cell_type": "code",
   "execution_count": null,
   "id": "942251b5",
   "metadata": {},
   "outputs": [],
   "source": []
  },
  {
   "cell_type": "code",
   "execution_count": null,
   "id": "089a99c5",
   "metadata": {},
   "outputs": [],
   "source": []
  }
 ],
 "metadata": {
  "kernelspec": {
   "display_name": "Python 3 (ipykernel)",
   "language": "python",
   "name": "python3"
  },
  "language_info": {
   "codemirror_mode": {
    "name": "ipython",
    "version": 3
   },
   "file_extension": ".py",
   "mimetype": "text/x-python",
   "name": "python",
   "nbconvert_exporter": "python",
   "pygments_lexer": "ipython3",
   "version": "3.8.10"
  }
 },
 "nbformat": 4,
 "nbformat_minor": 5
}
