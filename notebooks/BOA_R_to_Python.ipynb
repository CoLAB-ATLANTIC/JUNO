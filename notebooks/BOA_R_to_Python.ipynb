{
 "cells": [
  {
   "cell_type": "code",
   "execution_count": null,
   "id": "1ffc098e",
   "metadata": {},
   "outputs": [],
   "source": []
  },
  {
   "cell_type": "code",
   "execution_count": 8,
   "id": "a4bba07b",
   "metadata": {},
   "outputs": [],
   "source": [
    "import numpy as np"
   ]
  },
  {
   "cell_type": "code",
   "execution_count": null,
   "id": "cece9a24",
   "metadata": {},
   "outputs": [],
   "source": []
  },
  {
   "cell_type": "code",
   "execution_count": null,
   "id": "feda9d68",
   "metadata": {},
   "outputs": [],
   "source": [
    "#' filt5\n",
    "#' @description  Finds maximum of a 5x5 sliding window. If the central pixel is the maximum, this is flagged as a one. All other pixels are flagged as zero. Usually this function is not used directly.\n",
    "#' @usage filt5(lon, lat, ingrid, nodata = NA)\n",
    "#' @param lon longitude (vector) of the satellite image\n",
    "#' @param lat latitude (vector) of the satellite image\n",
    "#' @param ingrid The satellite data (matrix)\n",
    "#' @param nodata value representing 'no data'\n",
    "#'\n",
    "#' @return returns a grid of zeros and ones\n",
    "#' @seealso \\code{\\link{boa}}\n",
    "#' @export\n",
    "#'\n",
    "#' @examples \n",
    "#' # none\n",
    "filt5 <-\n",
    "function(lon , lat, ingrid, nodata = NA){\n",
    "#======================================================#\n",
    "# Find peaks in 5 directions. FLag as 5\n",
    "#======================================================#\n",
    " #outgrid = matrix(0,nrow=dim(ingrid)[1],ncol=dim(ingrid)[2] ) # make all zeros..\n",
    " nodatidx = ingrid[ingrid==nodata]    ## creates single dim array with as much values as the matrix ingrid, with NANs\n",
    " ingrid[nodatidx] = -9999\n",
    " outgrid = ingrid*0 ## outgrid is a matrix with the shape of ingrid, full of Zeros\n",
    " l1 = length(lon)\n",
    " l2 = length(lat)\n",
    "for(i in 3:(l1-2)){\n",
    " for(j in 3:(l2-2)){\n",
    "   subg = ingrid[(i-2):(i+2),(j-2):(j+2)]   #results in slice with data from row i-2 to i+2 (i-2,i-1, i, i+1, i+2) (included) and columns (j-2, j-1, j, j+1, j+2)\n",
    "if(sum(is.na(subg))==25){\n",
    "outgrid[i,j] = 0\n",
    "}else{\n",
    "vec = as.vector(subg)    ## convert matrix to vector\n",
    "ma = which.max(subg)\n",
    "mi = which.min(subg)\n",
    "\n",
    "   if(ma==13||mi==13){\n",
    " outgrid[i,j] = 1\n",
    "}else{\n",
    "  outgrid[i,j] = 0\n",
    "}\n",
    "}\n",
    "   }\n",
    "  }\n",
    "outgrid[nodatidx] = nodata  \n",
    "outgrid"
   ]
  },
  {
   "cell_type": "code",
   "execution_count": null,
   "id": "5d23c4e8",
   "metadata": {},
   "outputs": [],
   "source": [
    "def filt5(lon, lat, ingrid, nodata=np.nan):\n",
    "    \"\"\"\n",
    "    Find peaks in 5 directions. FLag as 5\n",
    "    \"\"\"\n",
    "    \n",
    "    nodatidx = ingrid.flatten()*np.nan ## creates single dim array with as much values as the matrix ingrid, with NANs\n",
    "    outgrid = np.zeros(ingrid.shape)   ## outgrid is a matrix with the shape of ingrid, full of Zeros\n",
    "    \n",
    "    l1 = len(lon)\n",
    "    l2 = len(lat)\n",
    "    \n",
    "    for i in range(3, l1-1):   #tem de ser -1 em vez de -2 \n",
    "        for j in range(3, l2-1):\n",
    "            subg = m[(i-2):(i+3), (j-2):(j+3)] # slice with data from row (i-2,i-1, i, i+1, i+2) and columns (j-2, j-1, j, j+1, j+2)\n",
    "            if np.isnan(subg).sum()==25:    #if all values in submatrix subg are null values:\n",
    "                outgrid[i,j] = 0\n",
    "            else:\n",
    "                vec = np.array(subg).flatten()    ## convert matrix to vector\n",
    "                ma = np.max(subg)\n",
    "                mi = np.min(subg)\n",
    "                \n",
    "                if ma==13 or mi==13:\n",
    "                    outgrid[i,j] = 1\n",
    "                else:\n",
    "                    outgrid[i,j] = 0\n",
    "    \n",
    "    outgrid[nodatidx] = nodata\n",
    "    outgrid\n",
    "                    \n",
    "                \n",
    "                \n",
    "    \n",
    "    "
   ]
  },
  {
   "cell_type": "code",
   "execution_count": 83,
   "id": "b971328c",
   "metadata": {},
   "outputs": [],
   "source": [
    "ma=10\n",
    "mi=13\n",
    "\n",
    "if (ma==13 | mi==13):\n",
    "    print('pila')"
   ]
  },
  {
   "cell_type": "code",
   "execution_count": 78,
   "id": "93fdb254",
   "metadata": {},
   "outputs": [
    {
     "data": {
      "text/plain": [
       "1"
      ]
     },
     "execution_count": 78,
     "metadata": {},
     "output_type": "execute_result"
    }
   ],
   "source": [
    "arr_2d=[[1,2],[3,4],[5,6]]\n",
    "np.min(arr_2d)"
   ]
  },
  {
   "cell_type": "code",
   "execution_count": 73,
   "id": "40e01190",
   "metadata": {},
   "outputs": [
    {
     "data": {
      "text/plain": [
       "array([1, 2, 3, 4, 5, 6])"
      ]
     },
     "execution_count": 73,
     "metadata": {},
     "output_type": "execute_result"
    }
   ],
   "source": [
    "vec"
   ]
  },
  {
   "cell_type": "code",
   "execution_count": 47,
   "id": "ca46db79",
   "metadata": {},
   "outputs": [],
   "source": [
    "l1=8\n",
    "l2=6\n",
    "for i in range(3, l1-1):   #tem de ser -1 em vez de -2 \n",
    "    for j in range(3, l2-1):\n",
    "        subg = m[(i-2):(i+3), (j-2):(j+3)]"
   ]
  },
  {
   "cell_type": "code",
   "execution_count": 48,
   "id": "0f4948f8",
   "metadata": {},
   "outputs": [
    {
     "data": {
      "text/plain": [
       "matrix([], shape=(0, 0), dtype=object)"
      ]
     },
     "execution_count": 48,
     "metadata": {},
     "output_type": "execute_result"
    }
   ],
   "source": [
    "subg"
   ]
  },
  {
   "cell_type": "code",
   "execution_count": null,
   "id": "0fe4ec8b",
   "metadata": {},
   "outputs": [],
   "source": []
  },
  {
   "cell_type": "code",
   "execution_count": null,
   "id": "6ac2babc",
   "metadata": {},
   "outputs": [],
   "source": [
    "#' filt3\n",
    "#'\n",
    "#' @param lon longitude (vector) of the satellite image\n",
    "#' @param lat latitude (vector) of the satellite image\n",
    "#' @param ingrid The satellite data (matrix)\n",
    "#' @param grid5 results of \\code{\\link{filt5}}\n",
    "#'\n",
    "#' @return returns a median smoothed grid of satellite data\n",
    "#' @seealso \\code{\\link{boa}}\n",
    "#' @usage filt3(lon, lat, ingrid, grid5 = grid5(lon, lat, ingrid))\n",
    "#' @export\n",
    "#'\n",
    "#' @examples\n",
    "#' # none here\n",
    "filt3 <-\n",
    "function(lon , lat, ingrid, grid5){\n",
    "#======================================================#\n",
    "# Find peaks in 3 directions. FLag as 3\n",
    "#======================================================#\n",
    " outgrid = ingrid*0 # make all zeros..\n",
    " l1 = length(lon)\n",
    " l2 = length(lat)\n",
    "for(i in 3:(l1-2)){\n",
    " for(j in 3:(l2-2)){\n",
    "  if((grid5[i,j]==0)==T){\n",
    " subg = ingrid[(i-1):(i+1),(j-1):(j+1)]\n",
    "if(sum(is.na(subg))==9){\n",
    "outgrid[i,j] = ingrid[i,j]\n",
    "}else{\n",
    "vec = as.vector(subg)\n",
    "ma = which.max(subg)\n",
    "mi = which.min(subg)\n",
    "\n",
    "   if((ma==5||mi==5)==T){\n",
    " outgrid[i,j] = median(subg,na.rm=T)  # apply median filter if there is peak 3\n",
    "}else{\n",
    "  outgrid[i,j] = ingrid[i,j]\n",
    "}\n",
    "}\n",
    "}else{\n",
    " outgrid[i,j] = ingrid[i,j]\n",
    "}\n",
    "\n",
    " }\n",
    "}\n",
    "outgrid\n",
    "}\n"
   ]
  },
  {
   "cell_type": "code",
   "execution_count": null,
   "id": "f33857d9",
   "metadata": {},
   "outputs": [],
   "source": [
    "def filt3(lon, lat, ingrid, grid5):\n",
    "    \"\"\"\n",
    "    Find peaks in 3 directions. FLag as 3\n",
    "    \"\"\"\n",
    "    \n",
    "    outgrid = ingrid*0   #make all zeros. in python if matrix ingrid has null values, they'll stay null after (*0)\n",
    "    l1=len(lon)\n",
    "    l2=len(lat)\n",
    "    \n",
    "    for i in range(3, l1-1):\n",
    "        for j in range(3, l2-1):\n",
    "            \n",
    "    "
   ]
  },
  {
   "cell_type": "code",
   "execution_count": null,
   "id": "bbbdfcce",
   "metadata": {},
   "outputs": [],
   "source": []
  },
  {
   "cell_type": "code",
   "execution_count": null,
   "id": "255f3e65",
   "metadata": {},
   "outputs": [],
   "source": []
  },
  {
   "cell_type": "code",
   "execution_count": 3,
   "id": "972b29c1",
   "metadata": {},
   "outputs": [
    {
     "name": "stdout",
     "output_type": "stream",
     "text": [
      "3\n",
      "4\n"
     ]
    }
   ],
   "source": [
    "v = [10,11,12,13,14,15]\n",
    "l1 = len(v)\n",
    "for i in range(3, l1-1):\n",
    "    print(i)"
   ]
  },
  {
   "cell_type": "code",
   "execution_count": null,
   "id": "6adf1deb",
   "metadata": {},
   "outputs": [],
   "source": []
  },
  {
   "cell_type": "code",
   "execution_count": null,
   "id": "85623560",
   "metadata": {},
   "outputs": [],
   "source": []
  },
  {
   "cell_type": "code",
   "execution_count": null,
   "id": "a65775c0",
   "metadata": {},
   "outputs": [],
   "source": []
  },
  {
   "cell_type": "code",
   "execution_count": null,
   "id": "06aa517e",
   "metadata": {},
   "outputs": [],
   "source": [
    "\n",
    "  \n",
    "#' boa\n",
    "#'\n",
    "#' @param lon longitude (vector) of the satellite image\n",
    "#' @param lat latitude (vector) of the satellite image\n",
    "#' @param ingrid The satellite data (matrix). If using chlorophyll, transform using log(ingrid))\n",
    "#' @param nodata value representing 'no data'\n",
    "#' @param direction Logical. Should direction be calculated and returned\n",
    "#'\n",
    "#' @return either a stand alone asc grid of front gradient data or a list of:\n",
    "#'\t\tgrdir : ascii grid Gradient direction\n",
    "#'    front : Gradient magnitude. In the case of chlorophyll, this is a ratio\n",
    "#' @references Belkin, I. M. & O'Reilly, J. E. An algorithm for oceanic front detection in chlorophyll and SST satellite imagery. Journal of Marine Systems, 2009, 78, 319 - 326\n",
    "#' @details Note: These grids are in raster format, as is used in \\code{\\link{raster}}. \n",
    "#' @keywords sst, chl, front, satellite\n",
    "#' @export\n",
    "#'\n",
    "#' @examples # none\n",
    "boa <-\n",
    "function(lon, lat, ingrid, nodata = NA, direction = F){\n",
    "\n",
    "## Workhorse filter from EBImage. Modified so we don't need colorspace and other annoying requirements.\t\t\n",
    "\t.filter2 <-\n",
    "\t\tfunction (x, filter) \n",
    "\t\t{\n",
    "\t\t\t# Workhorse filter from EBImage. Modified so we don't need colorspace and other annoying requirements.\n",
    "\t\t\tvalidObject(x)\n",
    "\t\t\tvalidObject(filter)\n",
    "\t\t\t#if (colorMode(x) == TrueColor) \n",
    "\t\t\t#   stop(\"this method doesn't support the 'TrueColor' color mode\")\n",
    "\t\t\tdx = dim(x)\n",
    "\t\t\t#cmx = colorMode(x)\n",
    "\t\t\tdf = dim(filter)\n",
    "\t\t\tif (any(df%%2 == 0)) \n",
    "\t\t\t\tstop(\"dimensions of 'filter' matrix must be odd\")\n",
    "\t\t\tif (any(dx[1:2] < df)) \n",
    "\t\t\t\tstop(\"dimensions of 'x' must be bigger than 'filter'\")\n",
    "\t\t\tcx = dx%/%2\n",
    "\t\t\tcf = df%/%2\n",
    "\t\t\twf = matrix(0, nr = dx[1], nc = dx[2])\n",
    "\t\t\twf[(cx[1] - cf[1]):(cx[1] + cf[1]), (cx[2] - cf[2]):(cx[2] + \n",
    "\t\t\t\t\t\t\t\t\t\t\t\t\t\t\t\t\t\t\t\t\t\t\t\t\t\t\t\t\t \tcf[2])] = filter\n",
    "\t\t\twf = fft(wf)\n",
    "\t\t\tdim(x) = c(dx[1:2], prod(dx)/prod(dx[1:2]))\n",
    "\t\t\tindex1 = c(cx[1]:dx[1], 1:(cx[1] - 1))\n",
    "\t\t\tindex2 = c(cx[2]:dx[2], 1:(cx[2] - 1))\n",
    "\t\t\tpdx = prod(dim(x)[1:2])\n",
    "\t\t\ty = apply(x, 3, function(xx) {\n",
    "\t\t\t\tdim(xx) = dx[1:2]\n",
    "\t\t\t\tRe(fft(fft(xx) * wf, inverse = T)/pdx)[index1, index2]\n",
    "\t\t\t})\n",
    "\t\t\tdim(y) = dx\n",
    "\t\t\ty\n",
    "\t\t}\t\n",
    "\t\n",
    "\t# browser()\n",
    "#======================================================#\n",
    "# Main BOA algorithm\n",
    "#======================================================#\n",
    "# require(adehabitat)\n",
    "# x component (longitudinal kernel)\n",
    "gx = matrix(c(-1,0,1,-2,0,2,-1,0,1),nrow=3, byrow=T)\n",
    "# y component (latitudinal kernel)\n",
    "gy = matrix(c(1,2,1,0,0,0,-1,-2,-1),nrow=3, byrow=T)\n",
    "# filt 5 and 35 don't like NA's... but final steps are ok with it!\n",
    "\n",
    "# if nodata is numeric, this will take care of it..\n",
    "ingrid[ingrid == nodata] = -9999\n",
    "# if something else: \n",
    "if(any(is.infinite(ingrid)|is.nan(ingrid)|is.na(ingrid))){\n",
    "ingrid[is.na(ingrid)] = -9999\n",
    "ingrid[is.nan(ingrid)] = -9999\n",
    "ingrid[is.infinite(ingrid)] = -9999\n",
    "}\n",
    "\n",
    "# do the median filtering\n",
    "grid5 = filt5(lon, lat, ingrid, nodata = nodata)\n",
    "grid35 = filt3(lon, lat, ingrid, grid5)\n",
    "\n",
    "# make an index of bad values and land pixels.\n",
    "grid35[grid35==-9999] = NA\n",
    "naidx = is.na(grid35)\n",
    "# convert these to zeros for smoothing purposes\n",
    "grid35[naidx]=0\n",
    "# perform the smoothing (Sobel filter)\n",
    "tgx = .filter2(grid35, gx)\n",
    "tgy = .filter2(grid35, gy)\n",
    "\n",
    "# NOTE!! IDL CONVOL uses NORMALIZE function which defaults to the abs(sum(KERNEL)), in this case gx and gy\n",
    "tx = tgx/sum(abs(as.vector(gx)), na.rm=T)\n",
    "ty = tgy/sum(abs(as.vector(gy)), na.rm=T)\n",
    "front = (sqrt(tx^2+ty^2))\n",
    "\n",
    "#======================================================#\n",
    "# landmask and edge dilation\n",
    "#======================================================#\n",
    "land = naidx*1\n",
    "# land = naidx*1\n",
    "land[land==1] = NaN\n",
    "land[!is.nan(land)] = 1\n",
    "# # use adehabitat library for image erosion (expand land pixels slightly)\n",
    "# mask = morphology(as.asc(land, min(lon), yll = min(lat), cellsize = diff(lat)[1]), 'erode', 1)\n",
    "# # remove edge pixels\n",
    "# l1 = length(lon)\n",
    "# l2 = length(lat)\n",
    "# midx = mask*NaN\n",
    "# midx[5:(l1-3), 5:(l2-3)]=1\n",
    "# mask = mask*midx\n",
    "# # account for the edge effect\n",
    "# front = front *mask\n",
    "\n",
    "#======================================================#\n",
    "# landmask and edge dilation using raster!\n",
    "#======================================================#\n",
    "\n",
    "\n",
    "l1 = length(lon)\n",
    "l2 = length(lat)\n",
    "\n",
    "midx = land*NaN\n",
    "\n",
    "midx[5:(l1-3), 5:(l2-3)] = 1\n",
    "\n",
    "# land = land*midx\n",
    "\n",
    "land = (land*midx)\n",
    "\n",
    "# ssr = flip(t(raster(front)), 2)\n",
    "ssr = flip(raster((t(front))),2)\n",
    "extent(ssr) = c(min(lon), max(lon), min(lat), max(lat))\n",
    "\n",
    "mask = flip(focal(raster(t(land)), w = matrix(c(0,0,0,0,1,0,0,0,0), nrow=3, ncol=3)), direction = 2)\n",
    "extent(mask) = c(min(lon), max(lon), min(lat), max(lat))\n",
    "\n",
    "front = mask*ssr\n",
    "\n",
    "\n",
    "if(direction==T){\n",
    "# ;   ************************************\n",
    "# ;   *** Calculate Gradient Direction ***\n",
    "# ;   ************************************\n",
    "    GRAD_DIR = atan2(tgy@.Data, tgx@.Data)\n",
    "\n",
    "# ;===> change radians to degrees\n",
    "GRAD_DIR = GRAD_DIR*180/pi\n",
    "\n",
    "# ;===> Adjust to 0-360 scheme (make negative degrees positive)\n",
    "OK = which(GRAD_DIR < 0)\n",
    "if(length(OK)>1)GRAD_DIR[OK] = 360 - abs(GRAD_DIR[OK])\n",
    "\n",
    "# ;===> Convert degrees so that 0 degrees is North and East is 90 degrees\n",
    "GRAD_DIR = (360 - GRAD_DIR + 90) %% 360\n",
    "\n",
    "GRAD_DIR = flip(raster(t(GRAD_DIR)), direction = 2)\n",
    "extent(GRAD_DIR) = extent(front)\n",
    "\n",
    "list(grdir = GRAD_DIR*mask, front = front)\n",
    "}\n",
    "else{\n",
    "front\n",
    "}\n",
    "}"
   ]
  },
  {
   "cell_type": "code",
   "execution_count": null,
   "id": "320319a9",
   "metadata": {},
   "outputs": [],
   "source": [
    "def boa(lon, lat, ingrid, nodata = np.nan, direction = F):\n",
    "    \n",
    "    def filter2(x, filter):\n",
    "        "
   ]
  },
  {
   "cell_type": "code",
   "execution_count": null,
   "id": "36acd819",
   "metadata": {},
   "outputs": [],
   "source": []
  },
  {
   "cell_type": "code",
   "execution_count": null,
   "id": "24d5e5e3",
   "metadata": {},
   "outputs": [],
   "source": []
  },
  {
   "cell_type": "code",
   "execution_count": null,
   "id": "71397a82",
   "metadata": {},
   "outputs": [],
   "source": []
  },
  {
   "cell_type": "code",
   "execution_count": null,
   "id": "4a0f226a",
   "metadata": {},
   "outputs": [],
   "source": []
  },
  {
   "cell_type": "code",
   "execution_count": null,
   "id": "f03a4c96",
   "metadata": {},
   "outputs": [],
   "source": []
  },
  {
   "cell_type": "code",
   "execution_count": null,
   "id": "71b48903",
   "metadata": {},
   "outputs": [],
   "source": []
  },
  {
   "cell_type": "code",
   "execution_count": null,
   "id": "216f59ff",
   "metadata": {},
   "outputs": [],
   "source": []
  },
  {
   "cell_type": "code",
   "execution_count": null,
   "id": "8da7c406",
   "metadata": {},
   "outputs": [],
   "source": []
  },
  {
   "cell_type": "code",
   "execution_count": null,
   "id": "3c28d1ba",
   "metadata": {},
   "outputs": [],
   "source": []
  },
  {
   "cell_type": "code",
   "execution_count": null,
   "id": "62a90b32",
   "metadata": {},
   "outputs": [],
   "source": []
  },
  {
   "cell_type": "code",
   "execution_count": null,
   "id": "92aac55b",
   "metadata": {},
   "outputs": [],
   "source": []
  },
  {
   "cell_type": "code",
   "execution_count": null,
   "id": "650da49a",
   "metadata": {},
   "outputs": [],
   "source": []
  },
  {
   "cell_type": "code",
   "execution_count": null,
   "id": "6c2d6bdf",
   "metadata": {},
   "outputs": [],
   "source": []
  },
  {
   "cell_type": "code",
   "execution_count": null,
   "id": "4474ef1e",
   "metadata": {},
   "outputs": [],
   "source": []
  },
  {
   "cell_type": "code",
   "execution_count": null,
   "id": "3836aebe",
   "metadata": {},
   "outputs": [],
   "source": []
  },
  {
   "cell_type": "code",
   "execution_count": null,
   "id": "601d0644",
   "metadata": {},
   "outputs": [],
   "source": []
  },
  {
   "cell_type": "code",
   "execution_count": null,
   "id": "a14311f6",
   "metadata": {},
   "outputs": [],
   "source": []
  },
  {
   "cell_type": "code",
   "execution_count": null,
   "id": "6e253a42",
   "metadata": {},
   "outputs": [],
   "source": []
  },
  {
   "cell_type": "code",
   "execution_count": null,
   "id": "3dca977c",
   "metadata": {},
   "outputs": [],
   "source": []
  },
  {
   "cell_type": "code",
   "execution_count": null,
   "id": "be01cc13",
   "metadata": {},
   "outputs": [],
   "source": []
  },
  {
   "cell_type": "code",
   "execution_count": null,
   "id": "629022f8",
   "metadata": {},
   "outputs": [],
   "source": []
  },
  {
   "cell_type": "code",
   "execution_count": null,
   "id": "1f4de8ad",
   "metadata": {},
   "outputs": [],
   "source": []
  },
  {
   "cell_type": "code",
   "execution_count": null,
   "id": "10420734",
   "metadata": {},
   "outputs": [],
   "source": []
  },
  {
   "cell_type": "code",
   "execution_count": null,
   "id": "4cbd87cb",
   "metadata": {},
   "outputs": [],
   "source": []
  }
 ],
 "metadata": {
  "kernelspec": {
   "display_name": "Python 3 (ipykernel)",
   "language": "python",
   "name": "python3"
  },
  "language_info": {
   "codemirror_mode": {
    "name": "ipython",
    "version": 3
   },
   "file_extension": ".py",
   "mimetype": "text/x-python",
   "name": "python",
   "nbconvert_exporter": "python",
   "pygments_lexer": "ipython3",
   "version": "3.8.10"
  }
 },
 "nbformat": 4,
 "nbformat_minor": 5
}
