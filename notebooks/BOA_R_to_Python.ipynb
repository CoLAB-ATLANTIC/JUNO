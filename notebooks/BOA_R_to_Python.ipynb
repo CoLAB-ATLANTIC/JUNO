{
 "cells": [
  {
   "cell_type": "code",
   "execution_count": null,
   "id": "4f664471",
   "metadata": {},
   "outputs": [],
   "source": []
  },
  {
   "cell_type": "code",
   "execution_count": 357,
   "id": "a8f50395",
   "metadata": {},
   "outputs": [],
   "source": [
    "import numpy as np\n",
    "from numpy import nanmedian\n",
    "#from scipy.fft import fft\n",
    "import math\n",
    "from numpy.fft import fft, ifft, rfft, fft2, ifft2\n",
    "import rasterio"
   ]
  },
  {
   "cell_type": "code",
   "execution_count": null,
   "id": "4934c661",
   "metadata": {},
   "outputs": [],
   "source": []
  },
  {
   "cell_type": "markdown",
   "id": "68d92207",
   "metadata": {},
   "source": [
    "# Função Filt5"
   ]
  },
  {
   "cell_type": "code",
   "execution_count": 3,
   "id": "03341968",
   "metadata": {},
   "outputs": [
    {
     "ename": "SyntaxError",
     "evalue": "invalid syntax (2922168994.py, line 15)",
     "output_type": "error",
     "traceback": [
      "\u001b[0;36m  File \u001b[0;32m\"/tmp/ipykernel_3825/2922168994.py\"\u001b[0;36m, line \u001b[0;32m15\u001b[0m\n\u001b[0;31m    filt5 <-\u001b[0m\n\u001b[0m            ^\u001b[0m\n\u001b[0;31mSyntaxError\u001b[0m\u001b[0;31m:\u001b[0m invalid syntax\n"
     ]
    }
   ],
   "source": [
    "#' filt5\n",
    "#' @description  Finds maximum of a 5x5 sliding window. If the central pixel is the maximum, this is flagged as a one. All other pixels are flagged as zero. Usually this function is not used directly.\n",
    "#' @usage filt5(lon, lat, ingrid, nodata = NA)\n",
    "#' @param lon longitude (vector) of the satellite image\n",
    "#' @param lat latitude (vector) of the satellite image\n",
    "#' @param ingrid The satellite data (matrix)\n",
    "#' @param nodata value representing 'no data'\n",
    "#'\n",
    "#' @return returns a grid of zeros and ones\n",
    "#' @seealso \\code{\\link{boa}}\n",
    "#' @export\n",
    "#'\n",
    "#' @examples \n",
    "#' # none\n",
    "filt5 <-\n",
    "function(lon , lat, ingrid, nodata = NA){\n",
    "#======================================================#\n",
    "# Find peaks in 5 directions. FLag as 5\n",
    "#======================================================#\n",
    " #outgrid = matrix(0,nrow=dim(ingrid)[1],ncol=dim(ingrid)[2] ) # make all zeros..\n",
    " nodatidx = ingrid[ingrid==nodata]    # creates single dim array with as much values as the matrix ingrid, with NANs\n",
    " ingrid[nodatidx] = -9999\n",
    " outgrid = ingrid*0 ## outgrid is a matrix with the shape of ingrid, full of Zeros\n",
    " l1 = length(lon)\n",
    " l2 = length(lat)\n",
    "for(i in 3:(l1-2)){\n",
    " for(j in 3:(l2-2)){\n",
    "   subg = ingrid[(i-2):(i+2),(j-2):(j+2)]   #results in slice with data from row i-2 to i+2 (i-2,i-1, i, i+1, i+2) (included) and columns (j-2, j-1, j, j+1, j+2)\n",
    "if(sum(is.na(subg))==25){\n",
    "outgrid[i,j] = 0\n",
    "}else{\n",
    "vec = as.vector(subg)    ## convert matrix to vector\n",
    "ma = which.max(subg)\n",
    "mi = which.min(subg)\n",
    "\n",
    "   if(ma==13||mi==13){\n",
    " outgrid[i,j] = 1\n",
    "}else{\n",
    "  outgrid[i,j] = 0\n",
    "}\n",
    "}\n",
    "   }\n",
    "  }\n",
    " ## não tou a perceber para que serve esta parte  \n",
    "outgrid[nodatidx] = nodata  \n",
    "outgrid"
   ]
  },
  {
   "cell_type": "code",
   "execution_count": 543,
   "id": "a6498593",
   "metadata": {},
   "outputs": [],
   "source": [
    "def filt5(lon, lat, ingrid, nodata=np.nan):\n",
    "    \"\"\"\n",
    "    Find peaks in 5 directions. FLag as 5\n",
    "    \"\"\"\n",
    "    \n",
    "    nodatidx = ingrid.flatten()*np.nan ## creates single dim array with as much values as the matrix ingrid, with NANs\n",
    "    outgrid = np.zeros(ingrid.shape)   ## outgrid is a matrix with the shape of ingrid, full of Zeros\n",
    "    \n",
    "    l1 = len(lon)\n",
    "    l2 = len(lat)\n",
    "    \n",
    "    for i in range(3, l1-1):   #tem de ser -1 em vez de -2 \n",
    "        for j in range(3, l2-1):\n",
    "            subg = ingrid[(i-3):(i+2), (j-3):(j+2)] # slice with data from row (i-2,i-1, i, i+1, i+2) and columns (j-2, j-1, j, j+1, j+2)\n",
    "            if np.isnan(subg).sum()==25:    #if all values in submatrix subg are null values:\n",
    "                outgrid[i,j] = 0\n",
    "            else:\n",
    "                vec = np.array(subg).T.flatten()    ## convert matrix to vector\n",
    "                ma = np.argmax(subg.flatten())\n",
    "                mi = np.argmin(subg.flatten())\n",
    "                \n",
    "                if ma==12 or mi==12:     #se se tratar do valor meio da matrix\n",
    "                    outgrid[i-1,j-1] = 1\n",
    "                else:\n",
    "                    outgrid[i,j] = 0\n",
    "    \n",
    "    #Não estou a perceber esta parte (esta em R, converter para python)\n",
    "    #outgrid[nodatidx] = nodata\n",
    "    return outgrid\n",
    "\n",
    "                \n",
    "                \n",
    "    \n"
   ]
  },
  {
   "cell_type": "markdown",
   "id": "e60c5619",
   "metadata": {},
   "source": [
    "#### Quanto à função filt5 só falta aquela ultima linha de código"
   ]
  },
  {
   "cell_type": "code",
   "execution_count": null,
   "id": "6ba892d3",
   "metadata": {},
   "outputs": [],
   "source": []
  },
  {
   "cell_type": "markdown",
   "id": "a30c909b",
   "metadata": {},
   "source": [
    "## Verificação passo a passo da conversão da função filt5 de R para python"
   ]
  },
  {
   "cell_type": "code",
   "execution_count": 297,
   "id": "1c31c68b",
   "metadata": {},
   "outputs": [
    {
     "data": {
      "text/plain": [
       "array([[0., 0., 0., 0., 0., 0., 0., 0., 0., 0., 0., 0., 0., 0., 0.],\n",
       "       [0., 0., 0., 0., 0., 0., 0., 0., 0., 0., 0., 0., 0., 0., 0.],\n",
       "       [0., 0., 0., 0., 0., 0., 0., 0., 0., 0., 0., 0., 0., 0., 0.],\n",
       "       [0., 0., 0., 0., 0., 0., 0., 0., 0., 0., 0., 0., 0., 0., 0.],\n",
       "       [0., 0., 0., 0., 0., 0., 0., 0., 0., 0., 0., 0., 0., 0., 0.],\n",
       "       [0., 0., 0., 0., 0., 0., 0., 0., 0., 0., 0., 0., 0., 0., 0.]])"
      ]
     },
     "execution_count": 297,
     "metadata": {},
     "output_type": "execute_result"
    }
   ],
   "source": [
    "lon = np.array([1,2,3,4,5,6])\n",
    "lat = np.array([1,2,3,4,5,6,7,8,9,10,11,12,13,14,15])\n",
    "\n",
    "ingrid = np.arange(1,91).reshape(6, 15)  \n",
    "\n",
    "nodatidx = ingrid.flatten()*np.nan      #check\n",
    "outgrid = np.zeros(ingrid.shape)        #check\n",
    "\n",
    "l1 = len(lon)                           #check\n",
    "l2 = len(lat)                           #check\n",
    "\n",
    "for i in range(3, l1-1):   \n",
    "    for j in range(3, l2-1):\n",
    "        subg = ingrid[(i-3):(i+2), (j-3):(j+2)]       #check\n",
    "        if np.isnan(subg).sum()==25:\n",
    "            outgrid[i,j] = 0\n",
    "        else:\n",
    "            vec = np.array(subg).T.flatten()\n",
    "            ma = np.argmax(subg.flatten())\n",
    "            mi = np.argmin(subg.flatten())\n",
    "            \n",
    "            if ma==12 or mi==12:\n",
    "                outgrid[i-1,j-1] = 1\n",
    "            else:\n",
    "                outgrid[i,j] = 0\n",
    "                \n",
    "#outgrid[nodatidx = np.nan]  \n",
    "outgrid"
   ]
  },
  {
   "cell_type": "code",
   "execution_count": null,
   "id": "acce2b98",
   "metadata": {},
   "outputs": [],
   "source": []
  },
  {
   "cell_type": "code",
   "execution_count": null,
   "id": "280d2ab7",
   "metadata": {},
   "outputs": [],
   "source": []
  },
  {
   "cell_type": "code",
   "execution_count": null,
   "id": "2e456b33",
   "metadata": {},
   "outputs": [],
   "source": []
  },
  {
   "cell_type": "code",
   "execution_count": null,
   "id": "cd3d6d37",
   "metadata": {},
   "outputs": [],
   "source": []
  },
  {
   "cell_type": "markdown",
   "id": "527a5f24",
   "metadata": {},
   "source": [
    "# Função Filt3"
   ]
  },
  {
   "cell_type": "code",
   "execution_count": 544,
   "id": "af11f48f",
   "metadata": {},
   "outputs": [
    {
     "ename": "SyntaxError",
     "evalue": "invalid syntax (777735033.py, line 15)",
     "output_type": "error",
     "traceback": [
      "\u001b[0;36m  File \u001b[0;32m\"/tmp/ipykernel_8914/777735033.py\"\u001b[0;36m, line \u001b[0;32m15\u001b[0m\n\u001b[0;31m    filt3 <-\u001b[0m\n\u001b[0m            ^\u001b[0m\n\u001b[0;31mSyntaxError\u001b[0m\u001b[0;31m:\u001b[0m invalid syntax\n"
     ]
    }
   ],
   "source": [
    "#' filt3\n",
    "#'\n",
    "#' @param lon longitude (vector) of the satellite image\n",
    "#' @param lat latitude (vector) of the satellite image\n",
    "#' @param ingrid The satellite data (matrix)\n",
    "#' @param grid5 results of \\code{\\link{filt5}}\n",
    "#'\n",
    "#' @return returns a median smoothed grid of satellite data\n",
    "#' @seealso \\code{\\link{boa}}\n",
    "#' @usage filt3(lon, lat, ingrid, grid5 = grid5(lon, lat, ingrid))\n",
    "#' @export\n",
    "#'\n",
    "#' @examples\n",
    "#' # none here\n",
    "filt3 <-\n",
    "function(lon , lat, ingrid, grid5){\n",
    "#======================================================#\n",
    "# Find peaks in 3 directions. FLag as 3\n",
    "#======================================================#\n",
    " outgrid = ingrid*0 # make all zeros..\n",
    " l1 = length(lon)\n",
    " l2 = length(lat)\n",
    "for(i in 3:(l1-2)){\n",
    " for(j in 3:(l2-2)){\n",
    "  if((grid5[i,j]==0)==T){\n",
    " subg = ingrid[(i-1):(i+1),(j-1):(j+1)]\n",
    "if(sum(is.na(subg))==9){\n",
    "outgrid[i,j] = ingrid[i,j]\n",
    "}else{\n",
    "vec = as.vector(subg)\n",
    "ma = which.max(subg)\n",
    "mi = which.min(subg)\n",
    "\n",
    "   if((ma==5||mi==5)==T){\n",
    " outgrid[i,j] = median(subg,na.rm=T)  # apply median filter if there is peak 3\n",
    "}else{\n",
    "  outgrid[i,j] = ingrid[i,j]\n",
    "}\n",
    "}\n",
    "}else{\n",
    " outgrid[i,j] = ingrid[i,j]\n",
    "}\n",
    "\n",
    " }\n",
    "}\n",
    "outgrid\n",
    "}\n"
   ]
  },
  {
   "cell_type": "code",
   "execution_count": 545,
   "id": "4f38c736",
   "metadata": {},
   "outputs": [],
   "source": [
    "def filt3(lon, lat, ingrid, grid5):\n",
    "    \"\"\"\n",
    "    Find peaks in 3 directions. FLag as 3\n",
    "    \"\"\"\n",
    "    \n",
    "    outgrid = ingrid*0   #make all zeros. in python if matrix ingrid has null values, they'll stay null after (*0)\n",
    "    l1=len(lon)\n",
    "    l2=len(lat)\n",
    "    \n",
    "    \n",
    "    for i in range(3, l1-1):   \n",
    "        for j in range(3, l2-1):\n",
    "            if (grid5[i,j]==0):\n",
    "                subg = ingrid[(i-2):(i+1), (j-2):(j+1)]\n",
    "                if np.isnan(subg).sum()==9:\n",
    "                    outgrid[i-1,j-1] = ingrid[i-1,j-1]\n",
    "                else:\n",
    "                    vec = np.array(subg).T.flatten()\n",
    "                    ma = np.argmax(subg.flatten())\n",
    "                    mi = np.argmin(subg.flatten())\n",
    "                    \n",
    "                    if (ma==4 or mi==4):     #pixel do meio\n",
    "                        outgrid[i-1,j-1] = nanmedian(subg)\n",
    "                    else:\n",
    "                        outgrid[i-1,j-1] = ingrid[i-1,j-1]\n",
    "            \n",
    "            else:\n",
    "                outgrid[i-1,j-1] = ingrid[i-1,j-1]\n",
    "                \n",
    "    return outgrid"
   ]
  },
  {
   "cell_type": "markdown",
   "id": "9480a298",
   "metadata": {},
   "source": [
    "#### Quanto à função filt3 penso estar tudo correto"
   ]
  },
  {
   "cell_type": "code",
   "execution_count": null,
   "id": "f628ecb7",
   "metadata": {},
   "outputs": [],
   "source": []
  },
  {
   "cell_type": "markdown",
   "id": "5a3389b0",
   "metadata": {},
   "source": [
    "## Verificação passo a passo da conversão da função filt3 de R para python"
   ]
  },
  {
   "cell_type": "code",
   "execution_count": 328,
   "id": "caa95618",
   "metadata": {},
   "outputs": [],
   "source": [
    "    \n",
    "grid5 = filt5(lon=lon, lat=lat, ingrid=ingrid)\n",
    " \n",
    "ingrid = np.arange(1,91).reshape(6, 15)     \n",
    "outgrid = ingrid*0   #make all zeros. in python if matrix ingrid has null values, they'll stay null after (*0)\n",
    "l1=len(lon)\n",
    "l2=len(lat)\n",
    "    \n",
    "for i in range(3, l1-1):   \n",
    "    for j in range(3, l2-1):\n",
    "        if (grid5[i,j]==0):\n",
    "            subg1 = ingrid[(i-2):(i+1), (j-2):(j+1)]      #estou a usar nova var subg1 para evitar convergencias\n",
    "            if np.isnan(subg1).sum()==9:\n",
    "                outgrid[i-1,j-1] = ingrid[i-1,j-1]\n",
    "            else:\n",
    "                vec = np.array(subg1).T.flatten()    ## convert matrix to vector\n",
    "                ma = np.argmax(subg.flatten())\n",
    "                #ma = np.where(subg1 == np.amax(subg1))    #alternativa\n",
    "                #mi = np.where(subg1 == np.amin(subg1))\n",
    "                mi = np.argmin(subg.flatten())\n",
    "                    \n",
    "                if (ma==4 or mi==4):     #pixel do meio\n",
    "                    outgrid[i-1,j-1] = nanmedian(subg1)\n",
    "                else:\n",
    "                    outgrid[i-1,j-1] = ingrid[i-1,j-1]\n",
    "            \n",
    "        else:\n",
    "            outgrid[i-1,j-1] = ingrid[i-1,j-1]\n",
    "                "
   ]
  },
  {
   "cell_type": "code",
   "execution_count": 329,
   "id": "0d402754",
   "metadata": {},
   "outputs": [
    {
     "data": {
      "text/plain": [
       "array([[ 0,  0,  0,  0,  0,  0,  0,  0,  0,  0,  0,  0,  0,  0,  0],\n",
       "       [ 0,  0,  0,  0,  0,  0,  0,  0,  0,  0,  0,  0,  0,  0,  0],\n",
       "       [ 0,  0, 33, 34, 35, 36, 37, 38, 39, 40, 41, 42, 43,  0,  0],\n",
       "       [ 0,  0, 48, 49, 50, 51, 52, 53, 54, 55, 56, 57, 58,  0,  0],\n",
       "       [ 0,  0,  0,  0,  0,  0,  0,  0,  0,  0,  0,  0,  0,  0,  0],\n",
       "       [ 0,  0,  0,  0,  0,  0,  0,  0,  0,  0,  0,  0,  0,  0,  0]])"
      ]
     },
     "execution_count": 329,
     "metadata": {},
     "output_type": "execute_result"
    }
   ],
   "source": [
    "outgrid"
   ]
  },
  {
   "cell_type": "code",
   "execution_count": null,
   "id": "2f5b8e13",
   "metadata": {},
   "outputs": [],
   "source": []
  },
  {
   "cell_type": "code",
   "execution_count": null,
   "id": "fff190aa",
   "metadata": {},
   "outputs": [],
   "source": []
  },
  {
   "cell_type": "code",
   "execution_count": null,
   "id": "cd8c6103",
   "metadata": {},
   "outputs": [],
   "source": []
  },
  {
   "cell_type": "code",
   "execution_count": null,
   "id": "0dd7ae0a",
   "metadata": {},
   "outputs": [],
   "source": []
  },
  {
   "cell_type": "code",
   "execution_count": null,
   "id": "e5ff3dd4",
   "metadata": {},
   "outputs": [],
   "source": []
  },
  {
   "cell_type": "code",
   "execution_count": null,
   "id": "462c4155",
   "metadata": {},
   "outputs": [],
   "source": []
  },
  {
   "cell_type": "markdown",
   "id": "41ce0978",
   "metadata": {},
   "source": [
    "# Implementação do BOA"
   ]
  },
  {
   "cell_type": "code",
   "execution_count": null,
   "id": "60b340c8",
   "metadata": {},
   "outputs": [],
   "source": [
    "#' boa\n",
    "#'\n",
    "#' @param lon longitude (vector) of the satellite image\n",
    "#' @param lat latitude (vector) of the satellite image\n",
    "#' @param ingrid The satellite data (matrix). If using chlorophyll, transform using log(ingrid))\n",
    "#' @param nodata value representing 'no data'\n",
    "#' @param direction Logical. Should direction be calculated and returned\n",
    "#'\n",
    "#' @return either a stand alone asc grid of front gradient data or a list of:\n",
    "#'\t\tgrdir : ascii grid Gradient direction\n",
    "#'    front : Gradient magnitude. In the case of chlorophyll, this is a ratio\n",
    "#' @references Belkin, I. M. & O'Reilly, J. E. An algorithm for oceanic front detection in chlorophyll and SST satellite imagery. Journal of Marine Systems, 2009, 78, 319 - 326\n",
    "#' @details Note: These grids are in raster format, as is used in \\code{\\link{raster}}. \n",
    "#' @keywords sst, chl, front, satellite\n",
    "#' @export\n",
    "#'\n",
    "#' @examples # none\n",
    "boa <-\n",
    "function(lon, lat, ingrid, nodata = NA, direction = F){\n",
    "\n",
    "## Workhorse filter from EBImage. Modified so we don't need colorspace and other annoying requirements.\t\t\n",
    "\t.filter2 <-\n",
    "\t\tfunction (x, filter) \n",
    "\t\t{\n",
    "\t\t\t# Workhorse filter from EBImage. Modified so we don't need colorspace and other annoying requirements.\n",
    "\t\t\tvalidObject(x)\n",
    "\t\t\tvalidObject(filter)\n",
    "\t\t\t#if (colorMode(x) == TrueColor) \n",
    "\t\t\t#   stop(\"this method doesn't support the 'TrueColor' color mode\")\n",
    "\t\t\tdx = dim(x)\n",
    "\t\t\t#cmx = colorMode(x)\n",
    "\t\t\tdf = dim(filter)\n",
    "\t\t\tif (any(df%%2 == 0)) \n",
    "\t\t\t\tstop(\"dimensions of 'filter' matrix must be odd\")\n",
    "\t\t\tif (any(dx[1:2] < df)) \n",
    "\t\t\t\tstop(\"dimensions of 'x' must be bigger than 'filter'\")\n",
    "\t\t\tcx = dx%/%2    #divisão inteira\n",
    "\t\t\tcf = df%/%2    #divisão inteiracr\n",
    "\t\t\twf = matrix(0, nr = dx[1], nc = dx[2])     #matrix of zeros with dimensions of x (dim(x)=dx)\n",
    "\t\t\twf[(cx[1] - cf[1]):(cx[1] + cf[1]), (cx[2] - cf[2]):(cx[2] + cf[2])] = filter\n",
    "\t\t\twf = fft(wf)\n",
    "\t\t\tdim(x) = c(dx[1:2], prod(dx)/prod(dx[1:2]))\n",
    "\t\t\tindex1 = c(cx[1]:dx[1], 1:(cx[1] - 1))\n",
    "\t\t\tindex2 = c(cx[2]:dx[2], 1:(cx[2] - 1))\n",
    "\t\t\tpdx = prod(dim(x)[1:2])\n",
    "            \n",
    "            ## Não estou a conseguir implementar esta parte\n",
    "\t\t\ty = apply(x, 3, function(xx) {\n",
    "\t\t\t\tdim(xx) = dx[1:2]   #dim(xx) is equal to dimensions of matrix x (dim(x)=dx)\n",
    "\t\t\t\tRe(fft(fft(xx) * wf, inverse = T)/pdx)[index1, index2]\n",
    "\t\t\t})\n",
    "\t\t\tdim(y) = dx\n",
    "\t\t\ty\n",
    "\t\t}\t\n",
    "\t\n",
    "\t# browser()\n",
    "    \n",
    "    \n",
    "#======================================================#\n",
    "# Main BOA algorithm\n",
    "#======================================================#\n",
    "# require(adehabitat)\n",
    "# x component (longitudinal kernel)\n",
    "gx = matrix(c(-1,0,1,-2,0,2,-1,0,1),nrow=3, byrow=T)\n",
    "# y component (latitudinal kernel)\n",
    "gy = matrix(c(1,2,1,0,0,0,-1,-2,-1),nrow=3, byrow=T)\n",
    "# filt 5 and 35 don't like NA's... but final steps are ok with it!\n",
    "\n",
    "# if nodata is numeric, this will take care of it..\n",
    "ingrid[ingrid == nodata] = -9999      ##NÂO ESTOU A PERCEBER   \n",
    "# if something else: \n",
    "if(any(is.infinite(ingrid)|is.nan(ingrid)|is.na(ingrid))){\n",
    "ingrid[is.na(ingrid)] = -9999       ## TO FIND MISSING VALUES. IF THE VALUE IS NA RETURN TRUE OTHERWISE FALSE\n",
    "ingrid[is.nan(ingrid)] = -9999      ##CHECK IF MATRIX HAS ANY NaN (NOT A NUMBER) VALUE AS ELEMENT\n",
    "ingrid[is.infinite(ingrid)] = -9999    ## CHECK TO SEE IF THE VECTOR CONTAINS INFINITE VALUES AS ELEMENTS\n",
    "}\n",
    "\n",
    "# do the median filtering\n",
    "grid5 = filt5(lon, lat, ingrid, nodata = nodata)\n",
    "grid35 = filt3(lon, lat, ingrid, grid5)\n",
    "\n",
    "# make an index of bad values and land pixels.\n",
    "grid35[grid35==-9999] = NA\n",
    "naidx = is.na(grid35)\n",
    "# convert these to zeros for smoothing purposes\n",
    "grid35[naidx]=0\n",
    "# perform the smoothing (Sobel filter)\n",
    "tgx = .filter2(grid35, gx)\n",
    "tgy = .filter2(grid35, gy)\n",
    "\n",
    "# NOTE!! IDL CONVOL uses NORMALIZE function which defaults to the abs(sum(KERNEL)), in this case gx and gy\n",
    "tx = tgx/sum(abs(as.vector(gx)), na.rm=T)\n",
    "ty = tgy/sum(abs(as.vector(gy)), na.rm=T)\n",
    "front = (sqrt(tx^2+ty^2))\n",
    "\n",
    "    \n",
    "#======================================================#\n",
    "# landmask and edge dilation\n",
    "#======================================================#\n",
    "land = naidx*1\n",
    "# land = naidx*1\n",
    "land[land==1] = NaN\n",
    "land[!is.nan(land)] = 1\n",
    "# # use adehabitat library for image erosion (expand land pixels slightly)\n",
    "# mask = morphology(as.asc(land, min(lon), yll = min(lat), cellsize = diff(lat)[1]), 'erode', 1)\n",
    "# # remove edge pixels\n",
    "# l1 = length(lon)\n",
    "# l2 = length(lat)\n",
    "# midx = mask*NaN\n",
    "# midx[5:(l1-3), 5:(l2-3)]=1\n",
    "# mask = mask*midx\n",
    "# # account for the edge effect\n",
    "# front = front *mask\n",
    "\n",
    "    \n",
    "    \n",
    "#======================================================#\n",
    "# landmask and edge dilation using raster!\n",
    "#======================================================#\n",
    "\n",
    "\n",
    "l1 = length(lon)\n",
    "l2 = length(lat)\n",
    "\n",
    "midx = land*NaN\n",
    "\n",
    "midx[5:(l1-3), 5:(l2-3)] = 1\n",
    "\n",
    "# land = land*midx\n",
    "\n",
    "land = (land*midx)\n",
    "\n",
    "# ssr = flip(t(raster(front)), 2)\n",
    "ssr = flip(raster((t(front))),2)\n",
    "extent(ssr) = c(min(lon), max(lon), min(lat), max(lat))\n",
    "\n",
    "mask = flip(focal(raster(t(land)), w = matrix(c(0,0,0,0,1,0,0,0,0), nrow=3, ncol=3)), direction = 2)\n",
    "extent(mask) = c(min(lon), max(lon), min(lat), max(lat))\n",
    "\n",
    "front = mask*ssr\n",
    "\n",
    "\n",
    "if(direction==T){\n",
    "# ;   ************************************\n",
    "# ;   *** Calculate Gradient Direction ***\n",
    "# ;   ************************************\n",
    "    GRAD_DIR = atan2(tgy@.Data, tgx@.Data)\n",
    "\n",
    "# ;===> change radians to degrees\n",
    "GRAD_DIR = GRAD_DIR*180/pi\n",
    "\n",
    "# ;===> Adjust to 0-360 scheme (make negative degrees positive)\n",
    "OK = which(GRAD_DIR < 0)\n",
    "if(length(OK)>1)GRAD_DIR[OK] = 360 - abs(GRAD_DIR[OK])\n",
    "\n",
    "# ;===> Convert degrees so that 0 degrees is North and East is 90 degrees\n",
    "GRAD_DIR = (360 - GRAD_DIR + 90) %% 360\n",
    "\n",
    "GRAD_DIR = flip(raster(t(GRAD_DIR)), direction = 2)\n",
    "extent(GRAD_DIR) = extent(front)\n",
    "\n",
    "list(grdir = GRAD_DIR*mask, front = front)\n",
    "}\n",
    "else{\n",
    "front\n",
    "}\n",
    "}"
   ]
  },
  {
   "cell_type": "code",
   "execution_count": null,
   "id": "43e24c0d",
   "metadata": {},
   "outputs": [],
   "source": []
  },
  {
   "cell_type": "markdown",
   "id": "a6fae200",
   "metadata": {},
   "source": [
    "## Verificação passo a passo da conversão da função filt2 de R para python"
   ]
  },
  {
   "cell_type": "code",
   "execution_count": 445,
   "id": "9944a78b",
   "metadata": {
    "scrolled": true
   },
   "outputs": [
    {
     "data": {
      "text/plain": [
       "(6, 15)"
      ]
     },
     "execution_count": 445,
     "metadata": {},
     "output_type": "execute_result"
    }
   ],
   "source": [
    "x = np.arange(1,91).reshape(6, 15)    #check\n",
    "filt = np.arange(1,10).reshape(3,3)   #check\n",
    "dx = x.shape                          #check   -> é uma tuple\n",
    "df = filt.shape                       #check   -> é uma tuple\n",
    "cx = tuple(elem//2 for elem in dx)    #check   -> é uma tuple\n",
    "cf = tuple(elem//2 for elem in df)    #check   -> é uma tuple\n",
    "\n",
    "wf = np.zeros(shape=dx)               #check     -> é numpy array\n",
    "\n",
    "wf[cx[0]-cf[0]-1:cx[0]+cf[0], cx[1]-cf[1]-1:cx[1]+cf[1]] = filt     #check\n",
    "\n",
    "wf = fft2(wf)                        #check (a matriz que se obtem é igual à que se obtem em R)\n",
    "\n",
    "wf"
   ]
  },
  {
   "cell_type": "code",
   "execution_count": 534,
   "id": "b15c557d",
   "metadata": {},
   "outputs": [
    {
     "data": {
      "text/plain": [
       "array([[1254., 1209., 1164., 1389., 1569., 1704., 1659., 1614., 1569.,\n",
       "        1524., 1479., 1434., 1389., 1344., 1299.],\n",
       "       [ 579.,  534.,  489.,  714.,  894., 1029.,  984.,  939.,  894.,\n",
       "         849.,  804.,  759.,  714.,  669.,  624.],\n",
       "       [2064., 2019., 1974., 2199., 2379., 2514., 2469., 2424., 2379.,\n",
       "        2334., 2289., 2244., 2199., 2154., 2109.],\n",
       "       [2739., 2694., 2649., 2874., 3054., 3189., 3144., 3099., 3054.,\n",
       "        3009., 2964., 2919., 2874., 2829., 2784.],\n",
       "       [2604., 2559., 2514., 2739., 2919., 3054., 3009., 2964., 2919.,\n",
       "        2874., 2829., 2784., 2739., 2694., 2649.],\n",
       "       [1929., 1884., 1839., 2064., 2244., 2379., 2334., 2289., 2244.,\n",
       "        2199., 2154., 2109., 2064., 2019., 1974.]])"
      ]
     },
     "execution_count": 534,
     "metadata": {},
     "output_type": "execute_result"
    }
   ],
   "source": [
    "#dim_x = [dx[0:2], math.prod(dx)/math.prod(dx[0:2])]   #uma alternativa às 2 linhas de baixo mas não exatam igual\n",
    "\n",
    "dim_x = np.array(dx[0:2])\n",
    "dim_x =np.append(dim_x, math.prod(dx)/math.prod(dx[0:2]))     #check\n",
    "\n",
    "aux1 = np.arange(cx[0],dx[0]+1)\n",
    "aux2 = np.arange(1,cx[0])\n",
    "index1 = np.concatenate((aux1, aux2), axis=None)               #check\n",
    "index1 = index1-1\n",
    "\n",
    "aux3 = np.arange(cx[1], dx[1]+1)\n",
    "aux4 = np.arange(1,cx[1])\n",
    "index2 = np.concatenate((aux3, aux4), axis=None)               #check\n",
    "index2 = index2-1\n",
    "\n",
    "pdx = math.prod(dim_x[0:2])                                   #check\n",
    "\n",
    "y = fft2(((fft2(x)*wf))/pdx).real\n",
    "\n",
    "y = np.array([[y[i][j] for j in index2] for i in index1])\n",
    "y\n",
    "\n",
    "#O problema é que na função fft() em R há um parametro inverse=T que altera a ordem da matriz\n",
    "# Não estou a conseguir arranjar forma de replicar os efeitos desse parametro no codigo em Python"
   ]
  },
  {
   "cell_type": "code",
   "execution_count": null,
   "id": "51a1153f",
   "metadata": {},
   "outputs": [],
   "source": []
  },
  {
   "cell_type": "code",
   "execution_count": null,
   "id": "ced0aed5",
   "metadata": {},
   "outputs": [],
   "source": []
  },
  {
   "cell_type": "code",
   "execution_count": null,
   "id": "01198b9f",
   "metadata": {},
   "outputs": [],
   "source": []
  },
  {
   "cell_type": "code",
   "execution_count": null,
   "id": "2f21e48c",
   "metadata": {},
   "outputs": [],
   "source": []
  },
  {
   "cell_type": "code",
   "execution_count": null,
   "id": "c3151984",
   "metadata": {},
   "outputs": [],
   "source": []
  },
  {
   "cell_type": "markdown",
   "id": "4cb24723",
   "metadata": {},
   "source": [
    "## Verificação passo a passo da conversão do Main BOA algorithm de R para python"
   ]
  },
  {
   "cell_type": "code",
   "execution_count": 6,
   "id": "635d4afe",
   "metadata": {},
   "outputs": [],
   "source": [
    "lon = np.array([1,2,3,4,5,6])\n",
    "lat = np.array([1,2,3,4,5,6,7,8,9,10,11,12,13,14,15])\n",
    "ingrid = np.arange(1,91).reshape(6, 15) "
   ]
  },
  {
   "cell_type": "code",
   "execution_count": 547,
   "id": "93dddff1",
   "metadata": {
    "scrolled": true
   },
   "outputs": [],
   "source": [
    "#======================================================#\n",
    "# Main BOA algorithm                                   \n",
    "#======================================================#\n",
    "\n",
    "gx = np.matrix([[-1,0,1],[-2,0,2],[-1,0,1]])          #check  \n",
    "gy = np.matrix([[1,2,1],[0,0,0],[-1,-2,-1]])          #check\n",
    "        \n",
    "np.nan_to_num(ingrid, nan=-9999, posinf=-9999, neginf=-9999)         #check\n",
    "        \n",
    "grid5 = filt5(lon, lat, ingrid, nodata = np.nan)          #check\n",
    "grid35 = filt3(lon, lat, ingrid, grid5)                   #check\n",
    "\n",
    "# make an index of bad values and land pixels.\n",
    "grid35 = grid35.astype(\"float\")\n",
    "grid35[grid35 == -9999]=np.nan\n",
    "naidx = np.isnan(grid35)  \n",
    "naidx\n",
    "# convert these to zeros for smoothing purposes\n",
    "grid35[naidx]=0 \n",
    "\n",
    "# perform the smoothing (Sobel filter)\n",
    "tgx = filter2(grid35, gx)\n",
    "tgy = filter2(grid35, gy)\n",
    "tgy\n",
    "        \n",
    "tx = tgx/np.nansum(abs(np.array(gx).flatten()))\n",
    "ty = tgy/np.nansum(abs(np.array(gy).flatten()))\n",
    "front = np.sqrt((tx**2)+(ty**2))\n"
   ]
  },
  {
   "cell_type": "markdown",
   "id": "8143db65",
   "metadata": {},
   "source": [
    "#### Esta parte esta bem implementada (Main BOA algorithm)"
   ]
  },
  {
   "cell_type": "code",
   "execution_count": null,
   "id": "04a04330",
   "metadata": {},
   "outputs": [],
   "source": []
  },
  {
   "cell_type": "code",
   "execution_count": 546,
   "id": "f6cad08f",
   "metadata": {},
   "outputs": [],
   "source": [
    "def filter2(x, filt):\n",
    "        \n",
    "        dx = x.shape                          \n",
    "        df = filt.shape                       \n",
    "        cx = tuple(elem//2 for elem in dx)    \n",
    "        cf = tuple(elem//2 for elem in df)    \n",
    "\n",
    "        wf = np.zeros(shape=dx)               \n",
    "\n",
    "        wf[cx[0]-cf[0]-1:cx[0]+cf[0], cx[1]-cf[1]-1:cx[1]+cf[1]] = filt    \n",
    "\n",
    "        wf = fft2(wf)                        \n",
    "    \n",
    "        dim_x = np.array(dx[0:2])\n",
    "        dim_x =np.append(dim_x, math.prod(dx)/math.prod(dx[0:2]))     \n",
    "\n",
    "        aux1 = np.arange(cx[0],dx[0]+1)\n",
    "        aux2 = np.arange(1,cx[0])\n",
    "        index1 = np.concatenate((aux1, aux2), axis=None)  \n",
    "        index1 = index1-1\n",
    "\n",
    "        aux3 = np.arange(cx[1], dx[1]+1)\n",
    "        aux4 = np.arange(1,cx[1])\n",
    "        index2 = np.concatenate((aux3, aux4), axis=None) \n",
    "        index2 = index2-1\n",
    "\n",
    "        pdx = math.prod(dim_x[0:2]) \n",
    "        \n",
    "        y = fft2(((fft2(x)*wf))/pdx).real\n",
    "\n",
    "        y = np.array([[y[i][j] for j in index2] for i in index1])\n",
    "        y\n",
    "        \n",
    "        return y\n",
    "\n",
    "    \n",
    "#O problema é que na função fft() em R há um parametro inverse=T que altera a ordem da matriz\n",
    "# Não estou a conseguir arranjar forma de replicar os efeitos desse parametro no codigo em Python"
   ]
  },
  {
   "cell_type": "code",
   "execution_count": null,
   "id": "8f110605",
   "metadata": {},
   "outputs": [],
   "source": []
  },
  {
   "cell_type": "code",
   "execution_count": 548,
   "id": "d41c1f83",
   "metadata": {},
   "outputs": [],
   "source": [
    "#======================================================#\n",
    "# landmask and edge dilation\n",
    "#======================================================#\n",
    "\n",
    "land = naidx*1\n",
    "land = land.astype(\"float\")\n",
    "land[land==1] = np.nan\n",
    "land[~np.isnan(land)] = 1\n"
   ]
  },
  {
   "cell_type": "markdown",
   "id": "dc06d759",
   "metadata": {},
   "source": [
    "#### Esta parte da Landmask and Edge Dilation está correta"
   ]
  },
  {
   "cell_type": "code",
   "execution_count": null,
   "id": "bdbc4f23",
   "metadata": {},
   "outputs": [],
   "source": []
  },
  {
   "cell_type": "code",
   "execution_count": null,
   "id": "505b7dfe",
   "metadata": {},
   "outputs": [],
   "source": []
  },
  {
   "cell_type": "code",
   "execution_count": null,
   "id": "6c349d65",
   "metadata": {},
   "outputs": [],
   "source": []
  },
  {
   "cell_type": "code",
   "execution_count": 788,
   "id": "8a929447",
   "metadata": {},
   "outputs": [],
   "source": [
    "#======================================================#\n",
    "# landmask and edge dilation using raster!\n",
    "#======================================================#\n",
    "\n",
    "l1=lon.size                       #check\n",
    "l2=lat.size                       #check\n",
    "\n",
    "\n",
    "midx = land*np.nan                #check \n",
    "\n",
    "\n",
    "midx[2:(l1-1), 4:(l2-3)] = 1\n",
    "\n",
    "land = np.multiply(land, midx)\n",
    "land\n",
    "\n",
    "\n",
    "####################################################### R code\n",
    "\n",
    "#ssr = flip(raster((t(front))),2)\n",
    "#Objects of class Extent are used to define the spatial extent(extremes) of objects of the Raster* classes.\n",
    "#extent(ssr) = c(min(lon), max(lon), min(lat), max(lat)) -> CODE IN R\n",
    "\n",
    "\n",
    "#mask = flip(focal(raster(t(land)), w = matrix(c(0,0,0,0,1,0,0,0,0), nrow=3, ncol=3)), direction = 2)\n",
    "#extent(mask) = c(min(lon), max(lon), min(lat), max(lat))\n",
    "\n",
    "#front = mask*ssr\n",
    "####################################################\n",
    "\n",
    "\n",
    "#################################################### Python code (TRY TO MAKE IT CLEANER)\n",
    "\n",
    "#write the array front to a raster data file with 'w' mode\n",
    "ssr = rasterio.open('ssr.tif', 'w', driver='GTiff', height = front.shape[1], \n",
    "                    width = front.shape[0], count = 1, dtype = front.dtype)\n",
    "\n",
    "#To copy the grid (front matrix) to the opened dataset\n",
    "ssr.write(np.flip(front.T, 0), 1)\n",
    "\n",
    "# To sync data to disk and finish\n",
    "ssr.close()\n",
    "\n",
    "# Now in order to read the data (front matrix) stored inside the .tif file\n",
    "ssr = rasterio.open('ssr.tif', 'r')\n",
    "\n",
    "# To access the matrix in the raster data\n",
    "matrix_ssr = ssr.read()\n",
    "\n",
    "# To access the metadata of the .tif file\n",
    "#ssr.meta\n",
    "\n",
    "extent_ssr = [min(lon), max(lon), min(lat), max(lat)]\n",
    "\n",
    "\n",
    "\n",
    "#write the array mask to a raster data file with 'w' mode\n",
    "mask = rasterio.open('mask.tif', 'w', driver='GTiff', height = land.shape[1], \n",
    "                    width = front.shape[0], count = 1, dtype = land.dtype)\n",
    "\n",
    "#Apply the sliding window kernell to the land matrix\n",
    "conv = signal.convolve2d(np.flip(land.T, 0), np.array([0,0,0,0,1,0,0,0,0]).reshape(3,3), boundary='symm', mode='same')\n",
    "\n",
    "#To copy the grid (conv matrix) to the opened dataset\n",
    "mask.write(conv, 1)\n",
    "\n",
    "# To sync data to disk and finish\n",
    "mask.close()\n",
    "\n",
    "# Now in order to read the data (front matrix) stored inside the .tif file\n",
    "mask = rasterio.open('mask.tif', 'r')\n",
    "\n",
    "# To access the matrix in the raster data\n",
    "mask_matrix = mask.read()\n",
    "\n",
    "# To access the metadata of the .tif file\n",
    "#mask.meta\n",
    "\n",
    "extent_mask = [min(lon), max(lon), min(lat), max(lat)]\n",
    "\n",
    "\n",
    "\n",
    "matrix_front = matrix_ssr*matrix_mask\n",
    "matrix_front = matrix_front.reshape(15,6)\n",
    "\n",
    "#write the array front to a raster data file with 'w' mode\n",
    "front_raster = rasterio.open('front.tif', 'w', driver='GTiff', height = matrix_front.shape[0], \n",
    "                    width = matrix_front.shape[1], count = 1, dtype = front.dtype)\n",
    "\n",
    "#To copy the grid (conv matrix) to the opened dataset\n",
    "front_raster.write(matrix_front, 1)\n",
    "\n",
    "# To sync data to disk and finish\n",
    "front_raster.close()\n",
    "\n",
    "# Now in order to read the data (front matrix) stored inside the .tif file\n",
    "front_raster = rasterio.open('front.tif', 'r')\n",
    "\n",
    "# To access the matrix in the raster data\n",
    "front_matrix = front_raster.read()\n",
    "\n",
    "# To access the metadata of the .tif file\n",
    "#front_matrix.meta\n",
    "\n",
    "\n"
   ]
  },
  {
   "cell_type": "code",
   "execution_count": null,
   "id": "ab3bdd6a",
   "metadata": {},
   "outputs": [],
   "source": []
  },
  {
   "cell_type": "code",
   "execution_count": null,
   "id": "c776a3a6",
   "metadata": {},
   "outputs": [],
   "source": []
  },
  {
   "cell_type": "code",
   "execution_count": 253,
   "id": "b735efa8",
   "metadata": {},
   "outputs": [
    {
     "data": {
      "text/plain": [
       "Affine(0.8333333333333334, 0.0, 0.5833333333333333,\n",
       "       0.0, 0.8333333333333334, 0.5833333333333333)"
      ]
     },
     "execution_count": 253,
     "metadata": {},
     "output_type": "execute_result"
    }
   ],
   "source": [
    "#Perceber melhor isto -> verificar se isto será importante no resto do código\n",
    "from rasterio.transform import Affine\n",
    "res = (lon[-1] - lon[0])/lon.shape[0]\n",
    "transform = Affine.translation(lon[0] - res/2, lat[0] - res/2) * Affine.scale(res, res)\n",
    "transform"
   ]
  },
  {
   "cell_type": "code",
   "execution_count": 580,
   "id": "c33bf645",
   "metadata": {},
   "outputs": [],
   "source": [
    "#write the array front to a raster data file with 'w' mode\n",
    "ssr = rasterio.open('ssr.tif', 'w', driver='GTiff', height = front.shape[1], \n",
    "                    width = front.shape[0], count = 1, dtype = front.dtype)#, transform=transform)\n"
   ]
  },
  {
   "cell_type": "code",
   "execution_count": null,
   "id": "ee08dbd3",
   "metadata": {},
   "outputs": [],
   "source": []
  },
  {
   "cell_type": "code",
   "execution_count": null,
   "id": "fe78fc13",
   "metadata": {},
   "outputs": [],
   "source": []
  },
  {
   "cell_type": "code",
   "execution_count": null,
   "id": "1e6ebad3",
   "metadata": {},
   "outputs": [],
   "source": []
  },
  {
   "cell_type": "code",
   "execution_count": null,
   "id": "efd5e878",
   "metadata": {},
   "outputs": [],
   "source": []
  },
  {
   "cell_type": "markdown",
   "id": "cd5add9c",
   "metadata": {},
   "source": [
    "## BOA in Python"
   ]
  },
  {
   "cell_type": "code",
   "execution_count": 760,
   "id": "e76a8770",
   "metadata": {},
   "outputs": [
    {
     "ename": "SyntaxError",
     "evalue": "invalid syntax (845762282.py, line 105)",
     "output_type": "error",
     "traceback": [
      "\u001b[0;36m  File \u001b[0;32m\"/tmp/ipykernel_37637/845762282.py\"\u001b[0;36m, line \u001b[0;32m105\u001b[0m\n\u001b[0;31m    GRAD_DIR = atan2(tgy@.Data, tgx@.Data)     ## NÃO COMPREENDO\u001b[0m\n\u001b[0m                         ^\u001b[0m\n\u001b[0;31mSyntaxError\u001b[0m\u001b[0;31m:\u001b[0m invalid syntax\n"
     ]
    }
   ],
   "source": [
    "def boa(lon, lat, ingrid, nodata = np.nan, direction = False):\n",
    "    \n",
    "    def filter2(x, filt):\n",
    "        \n",
    "        dx = x.shape                          \n",
    "        df = filt.shape                       \n",
    "        cx = tuple(elem//2 for elem in dx)    \n",
    "        cf = tuple(elem//2 for elem in df)    \n",
    "\n",
    "        wf = np.zeros(shape=dx)               \n",
    "\n",
    "        wf[cx[0]-cf[0]-1:cx[0]+cf[0], cx[1]-cf[1]-1:cx[1]+cf[1]] = filt    \n",
    "\n",
    "        wf = fft2(wf)                        \n",
    "    \n",
    "        dim_x = np.array(dx[0:2])\n",
    "        dim_x =np.append(dim_x, math.prod(dx)/math.prod(dx[0:2]))     \n",
    "\n",
    "        aux1 = np.arange(cx[0],dx[0]+1)\n",
    "        aux2 = np.arange(1,cx[0])\n",
    "        index1 = np.concatenate((aux1, aux2), axis=None)  \n",
    "        index1 = index1-1\n",
    "\n",
    "        aux3 = np.arange(cx[1], dx[1]+1)\n",
    "        aux4 = np.arange(1,cx[1])\n",
    "        index2 = np.concatenate((aux3, aux4), axis=None) \n",
    "        index2 = index2-1\n",
    "\n",
    "        pdx = math.prod(dim_x[0:2])                                   \n",
    "        \n",
    "        y = fft2(((fft2(x) * wf))/pdx).real\n",
    "        \n",
    "        y = np.array([[y[i][j] for j in index2] for i in index1])\n",
    "        \n",
    "        return y\n",
    "    \n",
    "#O problema é que na função fft() em R há um parametro inverse=T que altera a ordem da matriz\n",
    "# Não estou a conseguir arranjar forma de replicar os efeitos desse parametro no codigo em Python   \n",
    "    \n",
    "#======================================================#\n",
    "# Main BOA algorithm                                   \n",
    "#======================================================#      \n",
    "    gx = np.matrix([[-1,0,1],[-2,0,2],[-1,0,1]])   \n",
    "    gy = np.matrix([[1,2,1],[0,0,0],[-1,-2,-1]])\n",
    "        \n",
    "    np.nan_to_num(ingrid, nan=-9999, posinf=-9999, neginf=-9999) ##replace NaN and inf values with -9999\n",
    "        \n",
    "    grid5 = filt5(lon, lat, ingrid, nodata = nodata)\n",
    "    grid35 = filt3(lon, lat, ingrid, grid5)\n",
    "\n",
    "    # make an index of bad values and land pixels.\n",
    "    grid35 = grid35.astype(\"float\")\n",
    "    grid35[grid35 == -9999]=np.nan\n",
    "    naidx = np.isnan(grid35)       \n",
    "    # convert these to zeros for smoothing purposes\n",
    "    grid35[naidx]=0  \n",
    "\n",
    "    # perform the smoothing (Sobel filter)  \n",
    "    tgx = filter2(grid35, gx)\n",
    "    tgy = filter2(grid35, gy)\n",
    "        \n",
    "    tx = tgx/np.nansum(abs(np.array(gx).flatten()))\n",
    "    ty = tgy/np.nansum(abs(np.array(gy).flatten()))\n",
    "    front = np.sqrt((tx**2)+(ty**2))\n",
    "\n",
    "\n",
    "#======================================================#\n",
    "# landmask and edge dilation\n",
    "#======================================================#\n",
    "\n",
    "    land = naidx*1\n",
    "    land = land.astype(\"float\")\n",
    "\n",
    "    land[land==1] = np.nan\n",
    "    land[~np.isnan(land)] = 1\n",
    "\n",
    "    \n",
    "#======================================================#\n",
    "# landmask and edge dilation using raster!\n",
    "#======================================================#\n",
    "\n",
    "    l1=lon.size    #using size because lon and lat are matrices\n",
    "    l2=lat.size\n",
    "\n",
    "    midx = land*np.nan\n",
    "\n",
    "    midx[5:(l1-2), 5:(l2-2)] = 1\n",
    "\n",
    "    land = np.multiply(land, midx)\n",
    "\n",
    "    ########################################## Talvez arranjar um pouco mais o código\n",
    "    \n",
    "    #write the array front to a raster data file with 'w' mode\n",
    "    ssr = rasterio.open('ssr.tif', 'w', driver='GTiff', height = front.shape[1], \n",
    "                        width = front.shape[0], count = 1, dtype = front.dtype)\n",
    "\n",
    "    #To copy the grid (front matrix) to the opened dataset\n",
    "    ssr.write(np.flip(front.T, 0), 1)\n",
    "\n",
    "    # To sync data to disk and finish\n",
    "    ssr.close()\n",
    "\n",
    "    extent_ssr = [min(lon), max(lon), min(lat), max(lat)]\n",
    "\n",
    "\n",
    "\n",
    "    #write the array mask to a raster data file with 'w' mode\n",
    "    mask = rasterio.open('mask.tif', 'w', driver='GTiff', height = land.shape[1], \n",
    "                    width = front.shape[0], count = 1, dtype = land.dtype)\n",
    "\n",
    "    #Apply the sliding window kernell to the land matrix\n",
    "    conv = signal.convolve2d(np.flip(land.T, 0), np.array([0,0,0,0,1,0,0,0,0]).reshape(3,3), boundary='symm', mode='same')\n",
    "\n",
    "    #To copy the grid (conv matrix) to the opened dataset\n",
    "    mask.write(conv, 1)\n",
    "\n",
    "    # To sync data to disk and finish\n",
    "    mask.close()\n",
    "\n",
    "    extent_mask = [min(lon), max(lon), min(lat), max(lat)]\n",
    "\n",
    "\n",
    "\n",
    "    matrix_front = matrix_ssr*matrix_mask\n",
    "    matrix_front = matrix_front.reshape(15,6)\n",
    "\n",
    "    #write the array front to a raster data file with 'w' mode\n",
    "    front_raster = rasterio.open('front.tif', 'w', driver='GTiff', height = matrix_front.shape[0], \n",
    "                    width = matrix_front.shape[1], count = 1, dtype = front.dtype)\n",
    "    \n",
    "    #To copy the grid (conv matrix) to the opened dataset\n",
    "    front_raster.write(matrix_front, 1)\n",
    "\n",
    "    # To sync data to disk and finish\n",
    "    front_raster.close()\n",
    "\n",
    "\n",
    "    ####################################################\n",
    "\n",
    "\n",
    "    if direction==True:\n",
    "#   ************************************\n",
    "#   *** Calculate Gradient Direction ***\n",
    "#   ************************************\n",
    "\n",
    "        GRAD_DIR = np.zeros(90)\n",
    "\n",
    "        for i in range(90):\n",
    "            GRAD_DIR[i] = math.atan2(tgy.flatten()[i], tgx.flatten()[i])\n",
    "    \n",
    "        GRAD_DIR = GRAD_DIR*180/math.pi\n",
    "\n",
    "        OK = np.where(GRAD_DIR < 0)\n",
    "\n",
    "        OK = np.array(OK)\n",
    "\n",
    "        if OK.size >1:\n",
    "            GRAD_DIR[OK] = 360 - abs(GRAD_DIR[OK])\n",
    "    \n",
    "        GRAD_DIR = (360 - GRAD_DIR + 90) % 360   \n",
    "        GRAD_DIR = GRAD_DIR.reshape(6, 15)\n",
    "\n",
    "\n",
    "        #write the array front to a raster data file with 'w' mode\n",
    "        grad_dir = rasterio.open('grad_dir.tif', 'w', driver='GTiff', height = GRAD_DIR.shape[1], \n",
    "                            width = GRAD_DIR.shape[0], count = 1, dtype = GRAD_DIR.dtype)\n",
    "\n",
    "        #To copy the grid (front matrix) to the opened dataset\n",
    "        grad_dir.write(np.flip(GRAD_DIR.T, 0), 1)\n",
    "\n",
    "        # To sync data to disk and finish\n",
    "        grad_dir.close()\n",
    "\n",
    "        #extent_grad_dir = extent_front     ##extent_front AINDA NAO TA DEFINIDO\n",
    "\n",
    "\n",
    "\n",
    "        # create array grdir (result from multiplication of grad_dir_matrix and mask_matrix)\n",
    "        grad_dir_raster = rasterio.open('grad_dir.tif', 'r')\n",
    "        # To access the matrix in the raster data\n",
    "        grad_dir_matrix = grad_dir_raster.read()\n",
    "        grad_dir_matrix = grad_dir_matrix.reshape(15,6)\n",
    "        matrix_mask = matrix_mask.reshape(15,6)\n",
    "        grdir_matrix = grad_dir_matrix * matrix_mask\n",
    "\n",
    "        grdir = rasterio.open('grdir.tif', 'w', driver='GTiff', height = grdir_matrix.shape[0], \n",
    "                            width = grdir_matrix.shape[1], count = 1, dtype = grdir_matrix.dtype)\n",
    "\n",
    "        grdir.write(grdir_matrix, 1)\n",
    "\n",
    "        grdir.close()\n",
    "\n",
    "        #No R eles pôem numa named_list por isso aqui pus num dicionário (algo equivalente)\n",
    "        dic = {'grdir': grdir, 'front': front_raster}\n",
    "        \n",
    "    else:\n",
    "        front_raster\n",
    "\n",
    "        \n",
    "return front_raster\n",
    "    \n",
    "\n"
   ]
  },
  {
   "cell_type": "code",
   "execution_count": null,
   "id": "0a259001",
   "metadata": {},
   "outputs": [],
   "source": []
  },
  {
   "cell_type": "code",
   "execution_count": null,
   "id": "019c9c13",
   "metadata": {},
   "outputs": [],
   "source": []
  },
  {
   "cell_type": "code",
   "execution_count": 911,
   "id": "abf82684",
   "metadata": {},
   "outputs": [
    {
     "ename": "NameError",
     "evalue": "name 'extent_front' is not defined",
     "output_type": "error",
     "traceback": [
      "\u001b[0;31m---------------------------------------------------------------------------\u001b[0m",
      "\u001b[0;31mNameError\u001b[0m                                 Traceback (most recent call last)",
      "\u001b[0;32m/tmp/ipykernel_8914/3582766729.py\u001b[0m in \u001b[0;36m<module>\u001b[0;34m\u001b[0m\n\u001b[1;32m     31\u001b[0m \u001b[0mgrad_dir\u001b[0m\u001b[0;34m.\u001b[0m\u001b[0mclose\u001b[0m\u001b[0;34m(\u001b[0m\u001b[0;34m)\u001b[0m\u001b[0;34m\u001b[0m\u001b[0;34m\u001b[0m\u001b[0m\n\u001b[1;32m     32\u001b[0m \u001b[0;34m\u001b[0m\u001b[0m\n\u001b[0;32m---> 33\u001b[0;31m \u001b[0mextent_grad_dir\u001b[0m \u001b[0;34m=\u001b[0m \u001b[0mextent_front\u001b[0m\u001b[0;34m\u001b[0m\u001b[0;34m\u001b[0m\u001b[0m\n\u001b[0m\u001b[1;32m     34\u001b[0m \u001b[0;34m\u001b[0m\u001b[0m\n\u001b[1;32m     35\u001b[0m \u001b[0;34m\u001b[0m\u001b[0m\n",
      "\u001b[0;31mNameError\u001b[0m: name 'extent_front' is not defined"
     ]
    }
   ],
   "source": [
    "#   ************************************\n",
    "#   *** Calculate Gradient Direction ***\n",
    "#   ************************************\n",
    "\n",
    "GRAD_DIR = np.zeros(90)\n",
    "\n",
    "for i in range(90):\n",
    "    GRAD_DIR[i] = math.atan2(tgy.flatten()[i], tgx.flatten()[i])\n",
    "    \n",
    "GRAD_DIR = GRAD_DIR*180/math.pi\n",
    "\n",
    "OK = np.where(GRAD_DIR < 0)\n",
    "\n",
    "OK = np.array(OK)\n",
    "\n",
    "if OK.size >1:\n",
    "    GRAD_DIR[OK] = 360 - abs(GRAD_DIR[OK])\n",
    "    \n",
    "GRAD_DIR = (360 - GRAD_DIR + 90) % 360   \n",
    "GRAD_DIR = GRAD_DIR.reshape(6, 15)\n",
    "\n",
    "\n",
    "#write the array front to a raster data file with 'w' mode\n",
    "grad_dir = rasterio.open('grad_dir.tif', 'w', driver='GTiff', height = GRAD_DIR.shape[1], \n",
    "                    width = GRAD_DIR.shape[0], count = 1, dtype = GRAD_DIR.dtype)\n",
    "\n",
    "#To copy the grid (front matrix) to the opened dataset\n",
    "grad_dir.write(np.flip(GRAD_DIR.T, 0), 1)\n",
    "\n",
    "# To sync data to disk and finish\n",
    "grad_dir.close()\n",
    "\n",
    "extent_grad_dir = extent_front\n",
    "\n",
    "\n",
    "\n",
    "# create array grdir (result from multiplication of grad_dir_matrix and mask_matrix)\n",
    "grad_dir_raster = rasterio.open('grad_dir.tif', 'r')\n",
    "# To access the matrix in the raster data\n",
    "grad_dir_matrix = grad_dir_raster.read()\n",
    "grad_dir_matrix = grad_dir_matrix.reshape(15,6)\n",
    "matrix_mask = matrix_mask.reshape(15,6)\n",
    "grdir_matrix = grad_dir_matrix * matrix_mask\n",
    "\n",
    "grdir = rasterio.open('grdir.tif', 'w', driver='GTiff', height = grdir_matrix.shape[0], \n",
    "                    width = grdir_matrix.shape[1], count = 1, dtype = grdir_matrix.dtype)\n",
    "\n",
    "grdir.write(grdir_matrix, 1)\n",
    "\n",
    "grdir.close()\n",
    "\n",
    "#No R eles pôem numa named_list por isso aqui pus num dicionário (algo equivalente)\n",
    "dic = {'grdir': grdir, 'front': front_raster}"
   ]
  },
  {
   "cell_type": "code",
   "execution_count": null,
   "id": "0ce63c89",
   "metadata": {},
   "outputs": [],
   "source": []
  },
  {
   "cell_type": "code",
   "execution_count": 936,
   "id": "2967a1d0",
   "metadata": {},
   "outputs": [],
   "source": [
    "dic = {'grdir': grdir, 'front': front_raster}"
   ]
  },
  {
   "cell_type": "code",
   "execution_count": 938,
   "id": "7b419dc0",
   "metadata": {},
   "outputs": [
    {
     "data": {
      "text/plain": [
       "<open DatasetReader name='front.tif' mode='r'>"
      ]
     },
     "execution_count": 938,
     "metadata": {},
     "output_type": "execute_result"
    }
   ],
   "source": [
    "dic['front']"
   ]
  },
  {
   "cell_type": "code",
   "execution_count": 935,
   "id": "84791173",
   "metadata": {},
   "outputs": [
    {
     "data": {
      "text/plain": [
       "array([[2.45114769e+01, 2.32896168e+01, 1.54616461e+01, 1.42097772e-15,\n",
       "        3.25323691e-15, 1.94052184e+01, 2.78976926e+01, 2.85098667e+01,\n",
       "        2.80100428e+01, 2.75102254e+01, 2.70104147e+01, 2.65106111e+01,\n",
       "        2.60108151e+01, 2.55110270e+01, 2.50112475e+01],\n",
       "       [1.70018381e+01, 1.32027459e+01, 5.83363094e+00, 3.54203922e-15,\n",
       "        4.44106411e-15, 7.60139790e+00, 1.68393141e+01, 2.10014880e+01,\n",
       "        2.05015243e+01, 2.00015624e+01, 1.95016025e+01, 1.90016447e+01,\n",
       "        1.85016891e+01, 1.80017360e+01, 1.75017856e+01],\n",
       "       [5.36394003e-15, 1.77635684e-15, 1.25607397e-15, 7.28369372e-16,\n",
       "        1.60660709e-15, 1.77635684e-15, 1.77635684e-15, 2.01146554e-15,\n",
       "        1.60982339e-15, 1.77982290e-15, 1.11022302e-16, 1.80731214e-15,\n",
       "        5.55111512e-17, 1.78414602e-15, 1.83102672e-15],\n",
       "       [1.01307851e-15, 3.20237283e-15, 2.84355838e-15, 2.00500320e-15,\n",
       "        4.01833380e-15, 3.55271368e-15, 6.16948447e-15, 1.98602732e-15,\n",
       "        2.37873542e-15, 1.77684466e-15, 6.80011603e-16, 1.66533454e-16,\n",
       "        1.77657367e-15, 3.55490851e-15, 2.22044605e-15],\n",
       "       [2.45012755e+01, 1.91319432e+01, 8.48528137e+00, 1.76960295e-15,\n",
       "        4.38792126e-15, 1.02530483e+01, 2.27685364e+01, 2.85010965e+01,\n",
       "        2.80011160e+01, 2.75011363e+01, 2.70011574e+01, 2.65011792e+01,\n",
       "        2.60012019e+01, 2.55012255e+01, 2.50012500e+01],\n",
       "       [1.70165361e+01, 2.07002415e+01, 1.66442558e+01, 1.89979784e-15,\n",
       "        4.36022439e-15, 2.05889837e+01, 2.52239965e+01, 2.10133886e+01,\n",
       "        2.05137149e+01, 2.00140576e+01, 1.95144177e+01, 1.90147969e+01,\n",
       "        1.85151965e+01, 1.80156182e+01, 1.75160641e+01]])"
      ]
     },
     "execution_count": 935,
     "metadata": {},
     "output_type": "execute_result"
    }
   ],
   "source": [
    "front_raster"
   ]
  },
  {
   "cell_type": "code",
   "execution_count": 934,
   "id": "863f848f",
   "metadata": {},
   "outputs": [
    {
     "data": {
      "text/plain": [
       "<closed DatasetWriter name='grdir.tif' mode='w'>"
      ]
     },
     "execution_count": 934,
     "metadata": {},
     "output_type": "execute_result"
    }
   ],
   "source": [
    "grdir"
   ]
  },
  {
   "cell_type": "code",
   "execution_count": null,
   "id": "528292ac",
   "metadata": {},
   "outputs": [],
   "source": []
  },
  {
   "cell_type": "code",
   "execution_count": 933,
   "id": "332a3ea6",
   "metadata": {},
   "outputs": [
    {
     "data": {
      "text/plain": [
       "array([[[           nan,            nan,            nan,            nan,\n",
       "                    nan,            nan],\n",
       "        [           nan,            nan,            nan,            nan,\n",
       "                    nan,            nan],\n",
       "        [           nan,            nan,            nan,            nan,\n",
       "                    nan,            nan],\n",
       "        [           nan,            nan,            nan,            nan,\n",
       "                    nan,            nan],\n",
       "        [           nan,            nan,            nan, 6.80011603e-16,\n",
       "                    nan,            nan],\n",
       "        [           nan,            nan,            nan, 1.77684466e-15,\n",
       "                    nan,            nan],\n",
       "        [           nan,            nan,            nan, 2.37873542e-15,\n",
       "                    nan,            nan],\n",
       "        [           nan,            nan,            nan, 1.98602732e-15,\n",
       "                    nan,            nan],\n",
       "        [           nan,            nan,            nan, 6.16948447e-15,\n",
       "                    nan,            nan],\n",
       "        [           nan,            nan,            nan, 3.55271368e-15,\n",
       "                    nan,            nan],\n",
       "        [           nan,            nan,            nan,            nan,\n",
       "                    nan,            nan],\n",
       "        [           nan,            nan,            nan,            nan,\n",
       "                    nan,            nan],\n",
       "        [           nan,            nan,            nan,            nan,\n",
       "                    nan,            nan],\n",
       "        [           nan,            nan,            nan,            nan,\n",
       "                    nan,            nan],\n",
       "        [           nan,            nan,            nan,            nan,\n",
       "                    nan,            nan]]])"
      ]
     },
     "execution_count": 933,
     "metadata": {},
     "output_type": "execute_result"
    }
   ],
   "source": []
  },
  {
   "cell_type": "code",
   "execution_count": null,
   "id": "d6767055",
   "metadata": {},
   "outputs": [],
   "source": []
  },
  {
   "cell_type": "code",
   "execution_count": null,
   "id": "b7245072",
   "metadata": {},
   "outputs": [],
   "source": []
  },
  {
   "cell_type": "code",
   "execution_count": null,
   "id": "dd0448c9",
   "metadata": {},
   "outputs": [],
   "source": []
  },
  {
   "cell_type": "code",
   "execution_count": 884,
   "id": "1b00ebf9",
   "metadata": {},
   "outputs": [],
   "source": [
    "# Now in order to read the data (front matrix) stored inside the .tif file\n",
    "grad_raster = rasterio.open('grad_dir.tif', 'r')"
   ]
  },
  {
   "cell_type": "code",
   "execution_count": 886,
   "id": "9f455cde",
   "metadata": {},
   "outputs": [
    {
     "data": {
      "text/plain": [
       "(1, 15, 6)"
      ]
     },
     "execution_count": 886,
     "metadata": {},
     "output_type": "execute_result"
    }
   ],
   "source": [
    "grad_matrix.shape"
   ]
  },
  {
   "cell_type": "code",
   "execution_count": 888,
   "id": "6422eefc",
   "metadata": {},
   "outputs": [
    {
     "data": {
      "text/plain": [
       "{'driver': 'GTiff',\n",
       " 'dtype': 'float64',\n",
       " 'nodata': None,\n",
       " 'width': 6,\n",
       " 'height': 15,\n",
       " 'count': 1,\n",
       " 'crs': None,\n",
       " 'transform': Affine(1.0, 0.0, 0.0,\n",
       "        0.0, 1.0, 0.0)}"
      ]
     },
     "execution_count": 888,
     "metadata": {},
     "output_type": "execute_result"
    }
   ],
   "source": [
    "grad_raster.meta"
   ]
  },
  {
   "cell_type": "code",
   "execution_count": null,
   "id": "ccd471c2",
   "metadata": {},
   "outputs": [],
   "source": []
  },
  {
   "cell_type": "code",
   "execution_count": null,
   "id": "ff644ecd",
   "metadata": {},
   "outputs": [],
   "source": []
  },
  {
   "cell_type": "markdown",
   "id": "0d0b264e",
   "metadata": {},
   "source": [
    "#### Alternativa a usar o rasterio "
   ]
  },
  {
   "cell_type": "code",
   "execution_count": null,
   "id": "52351921",
   "metadata": {},
   "outputs": [],
   "source": [
    "import imageio"
   ]
  },
  {
   "cell_type": "code",
   "execution_count": null,
   "id": "e4f5dbf8",
   "metadata": {},
   "outputs": [],
   "source": [
    "imageio.imwrite('ssr.tif', np.flip(front.T, 0))    #check"
   ]
  },
  {
   "cell_type": "code",
   "execution_count": null,
   "id": "3a6dcdce",
   "metadata": {},
   "outputs": [],
   "source": [
    "im = imageio.imread('ssr.tif')"
   ]
  },
  {
   "cell_type": "code",
   "execution_count": null,
   "id": "fddd8275",
   "metadata": {},
   "outputs": [],
   "source": [
    "im.meta"
   ]
  },
  {
   "cell_type": "code",
   "execution_count": null,
   "id": "936375d8",
   "metadata": {},
   "outputs": [],
   "source": [
    "extent_ssr = [min(lon), max(lon), min(lat), max(lat)]    #check\n",
    "extent_ssr"
   ]
  },
  {
   "cell_type": "code",
   "execution_count": null,
   "id": "cbcf10cf",
   "metadata": {},
   "outputs": [],
   "source": []
  },
  {
   "cell_type": "code",
   "execution_count": null,
   "id": "ffc4c3c4",
   "metadata": {},
   "outputs": [],
   "source": []
  },
  {
   "cell_type": "code",
   "execution_count": null,
   "id": "be8ffcda",
   "metadata": {},
   "outputs": [],
   "source": []
  },
  {
   "cell_type": "code",
   "execution_count": null,
   "id": "f7c1bab4",
   "metadata": {},
   "outputs": [],
   "source": []
  },
  {
   "cell_type": "code",
   "execution_count": null,
   "id": "5f420e24",
   "metadata": {},
   "outputs": [],
   "source": []
  }
 ],
 "metadata": {
  "kernelspec": {
   "display_name": "Python 3 (ipykernel)",
   "language": "python",
   "name": "python3"
  },
  "language_info": {
   "codemirror_mode": {
    "name": "ipython",
    "version": 3
   },
   "file_extension": ".py",
   "mimetype": "text/x-python",
   "name": "python",
   "nbconvert_exporter": "python",
   "pygments_lexer": "ipython3",
   "version": "3.8.10"
  }
 },
 "nbformat": 4,
 "nbformat_minor": 5
}
