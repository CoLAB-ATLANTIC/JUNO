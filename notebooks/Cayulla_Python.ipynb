{
 "cells": [
  {
   "cell_type": "code",
   "execution_count": null,
   "id": "80172bbb",
   "metadata": {},
   "outputs": [],
   "source": []
  },
  {
   "cell_type": "code",
   "execution_count": 17,
   "id": "5a5b8905",
   "metadata": {},
   "outputs": [],
   "source": [
    "import pandas as pd\n",
    "import numpy as np\n",
    "import matplotlib.pyplot as plt\n",
    "import seaborn as sns\n",
    "import netCDF4 as nc\n",
    "import xarray as xr\n",
    "import os\n",
    "from pathlib import Path\n",
    "from numpy import nanmedian\n",
    "import scipy\n",
    "import scipy.signal\n",
    "import math\n",
    "from numpy.fft import fft2\n",
    "import cmocean\n",
    "import matplotlib\n",
    "plt.rcParams[\"figure.figsize\"] = 14, 12\n",
    "%matplotlib inline"
   ]
  },
  {
   "cell_type": "code",
   "execution_count": null,
   "id": "12986d3f",
   "metadata": {},
   "outputs": [],
   "source": []
  },
  {
   "cell_type": "code",
   "execution_count": null,
   "id": "13c3db2a",
   "metadata": {},
   "outputs": [],
   "source": []
  },
  {
   "cell_type": "markdown",
   "id": "de01942d",
   "metadata": {},
   "source": [
    "### Importação dos dados do MUR\n",
    "\n",
    "Importar dados do MUR do mês de Agosto para retirar dados relativamente ao dia 1 de Agosto e testar a aplicação do algoritmo Cayulla\n"
   ]
  },
  {
   "cell_type": "code",
   "execution_count": 2,
   "id": "1d2a37f8",
   "metadata": {},
   "outputs": [
    {
     "data": {
      "text/plain": [
       "'/home/luisfigueiredo/JUNO/notebooks'"
      ]
     },
     "execution_count": 2,
     "metadata": {},
     "output_type": "execute_result"
    }
   ],
   "source": [
    "current_path = os.getcwd()\n",
    "current_path"
   ]
  },
  {
   "cell_type": "code",
   "execution_count": 3,
   "id": "4912f65b",
   "metadata": {},
   "outputs": [
    {
     "data": {
      "text/plain": [
       "'/home/luisfigueiredo/JUNO/notebooks/../data'"
      ]
     },
     "execution_count": 3,
     "metadata": {},
     "output_type": "execute_result"
    }
   ],
   "source": [
    "from pathlib import Path\n",
    "\n",
    "data_folder = os.path.join(current_path,\"../data\")\n",
    "data_folder"
   ]
  },
  {
   "cell_type": "code",
   "execution_count": 4,
   "id": "9add0848",
   "metadata": {},
   "outputs": [],
   "source": [
    "nc_path = os.path.join(data_folder, \"murAugust2019.nc\")\n",
    "ds = nc.Dataset(nc_path)\n",
    "data = xr.load_dataset(nc_path)"
   ]
  },
  {
   "cell_type": "code",
   "execution_count": 5,
   "id": "dc81c52b",
   "metadata": {},
   "outputs": [
    {
     "name": "stdout",
     "output_type": "stream",
     "text": [
      "<class 'netCDF4._netCDF4.Dataset'>\n",
      "root group (NETCDF4 data model, file format HDF5):\n",
      "    Conventions: CF-1.7\n",
      "    title: Daily MUR SST, Final product\n",
      "    summary: A merged, multi-sensor L4 Foundation SST analysis product from JPL.\n",
      "    references: http://podaac.jpl.nasa.gov/Multi-scale_Ultra-high_Resolution_MUR-SST\n",
      "    institution: Jet Propulsion Laboratory\n",
      "    history: created at nominal 4-day latency; replaced nrt (1-day latency) version.\n",
      "2022-03-21 16:59:07 GMT Hyrax-1.16.0 https://podaac-opendap.jpl.nasa.gov/opendap/allData/ghrsst/data/GDS2/L4/GLOB/JPL/MUR/v4.1/2019/213/20190801090000-JPL-L4_GHRSST-SSTfnd-MUR-GLOB-v02.0-fv04.1.nc.nc4?analysed_sst[0:1:0][12499:1:13499][16099:1:17499]\n",
      "    comment: MUR = \\\"Multi-scale Ultra-high Resolution\\\"\n",
      "    license: These data are available free of charge under data policy of JPL PO.DAAC.\n",
      "    id: MUR-JPL-L4-GLOB-v04.1\n",
      "    naming_authority: org.ghrsst\n",
      "    product_version: 04.1\n",
      "    uuid: 27665bc0-d5fc-11e1-9b23-0800200c9a66\n",
      "    gds_version_id: 2.0\n",
      "    netcdf_version_id: 4.1\n",
      "    date_created: 20190810T004515Z\n",
      "    start_time: 20190801T090000Z\n",
      "    stop_time: 20190801T090000Z\n",
      "    time_coverage_start: 20190731T210000Z\n",
      "    time_coverage_end: 20190801T210000Z\n",
      "    file_quality_level: 3\n",
      "    source: MODIS_T-JPL, MODIS_A-JPL, AMSR2-REMSS, AVHRRMTA_G-NAVO, AVHRRMTB_G-NAVO, iQUAM-NOAA/NESDIS, Ice_Conc-OSISAF\n",
      "    platform: Terra, Aqua, GCOM-W, MetOp-A, MetOp-B, Buoys/Ships\n",
      "    sensor: MODIS, AMSR2, AVHRR, in-situ\n",
      "    Metadata_Conventions: Unidata Observation Dataset v1.0\n",
      "    metadata_link: http://podaac.jpl.nasa.gov/ws/metadata/dataset/?format=iso&shortName=MUR-JPL-L4-GLOB-v04.1\n",
      "    keywords: Oceans > Ocean Temperature > Sea Surface Temperature\n",
      "    keywords_vocabulary: NASA Global Change Master Directory (GCMD) Science Keywords\n",
      "    standard_name_vocabulary: NetCDF Climate and Forecast (CF) Metadata Convention\n",
      "    southernmost_latitude: -90.0\n",
      "    northernmost_latitude: 90.0\n",
      "    westernmost_longitude: -180.0\n",
      "    easternmost_longitude: 180.0\n",
      "    spatial_resolution: 0.01 degrees\n",
      "    geospatial_lat_units: degrees north\n",
      "    geospatial_lat_resolution: 0.01\n",
      "    geospatial_lon_units: degrees east\n",
      "    geospatial_lon_resolution: 0.01\n",
      "    acknowledgment: Please acknowledge the use of these data with the following statement:  These data were provided by JPL under support by NASA MEaSUREs program.\n",
      "    creator_name: JPL MUR SST project\n",
      "    creator_email: ghrsst@podaac.jpl.nasa.gov\n",
      "    creator_url: http://mur.jpl.nasa.gov\n",
      "    project: NASA Making Earth Science Data Records for Use in Research Environments (MEaSUREs) Program\n",
      "    publisher_name: GHRSST Project Office\n",
      "    publisher_url: http://www.ghrsst.org\n",
      "    publisher_email: ghrsst-po@nceo.ac.uk\n",
      "    processing_level: L4\n",
      "    cdm_data_type: grid\n",
      "    dimensions(sizes): time(31), lat(1001), lon(1401)\n",
      "    variables(dimensions): int64 time(time), float32 lat(lat), float32 lon(lon), int16 analysed_sst(time, lat, lon)\n",
      "    groups: \n"
     ]
    }
   ],
   "source": [
    "print(ds) "
   ]
  },
  {
   "cell_type": "code",
   "execution_count": null,
   "id": "3fdb4227",
   "metadata": {},
   "outputs": [],
   "source": []
  },
  {
   "cell_type": "code",
   "execution_count": 6,
   "id": "8fd99e23",
   "metadata": {},
   "outputs": [],
   "source": [
    "#Converter o ficheiro netCDF para uma dataframe\n",
    "datadf = data.to_dataframe()\n",
    "datadf = datadf.reset_index()"
   ]
  },
  {
   "cell_type": "code",
   "execution_count": 7,
   "id": "fa5235d7",
   "metadata": {},
   "outputs": [
    {
     "data": {
      "text/html": [
       "<div>\n",
       "<style scoped>\n",
       "    .dataframe tbody tr th:only-of-type {\n",
       "        vertical-align: middle;\n",
       "    }\n",
       "\n",
       "    .dataframe tbody tr th {\n",
       "        vertical-align: top;\n",
       "    }\n",
       "\n",
       "    .dataframe thead th {\n",
       "        text-align: right;\n",
       "    }\n",
       "</style>\n",
       "<table border=\"1\" class=\"dataframe\">\n",
       "  <thead>\n",
       "    <tr style=\"text-align: right;\">\n",
       "      <th></th>\n",
       "      <th>lat</th>\n",
       "      <th>lon</th>\n",
       "      <th>time</th>\n",
       "      <th>analysed_sst</th>\n",
       "    </tr>\n",
       "  </thead>\n",
       "  <tbody>\n",
       "    <tr>\n",
       "      <th>0</th>\n",
       "      <td>35.0</td>\n",
       "      <td>-19.0</td>\n",
       "      <td>2019-08-01 09:00:00</td>\n",
       "      <td>22.830994</td>\n",
       "    </tr>\n",
       "    <tr>\n",
       "      <th>1</th>\n",
       "      <td>35.0</td>\n",
       "      <td>-19.0</td>\n",
       "      <td>2019-08-02 09:00:00</td>\n",
       "      <td>23.727997</td>\n",
       "    </tr>\n",
       "    <tr>\n",
       "      <th>2</th>\n",
       "      <td>35.0</td>\n",
       "      <td>-19.0</td>\n",
       "      <td>2019-08-03 09:00:00</td>\n",
       "      <td>24.345001</td>\n",
       "    </tr>\n",
       "    <tr>\n",
       "      <th>3</th>\n",
       "      <td>35.0</td>\n",
       "      <td>-19.0</td>\n",
       "      <td>2019-08-04 09:00:00</td>\n",
       "      <td>24.382996</td>\n",
       "    </tr>\n",
       "    <tr>\n",
       "      <th>4</th>\n",
       "      <td>35.0</td>\n",
       "      <td>-19.0</td>\n",
       "      <td>2019-08-05 09:00:00</td>\n",
       "      <td>24.256012</td>\n",
       "    </tr>\n",
       "    <tr>\n",
       "      <th>...</th>\n",
       "      <td>...</td>\n",
       "      <td>...</td>\n",
       "      <td>...</td>\n",
       "      <td>...</td>\n",
       "    </tr>\n",
       "    <tr>\n",
       "      <th>43474426</th>\n",
       "      <td>45.0</td>\n",
       "      <td>-5.0</td>\n",
       "      <td>2019-08-27 09:00:00</td>\n",
       "      <td>19.819000</td>\n",
       "    </tr>\n",
       "    <tr>\n",
       "      <th>43474427</th>\n",
       "      <td>45.0</td>\n",
       "      <td>-5.0</td>\n",
       "      <td>2019-08-28 09:00:00</td>\n",
       "      <td>20.588013</td>\n",
       "    </tr>\n",
       "    <tr>\n",
       "      <th>43474428</th>\n",
       "      <td>45.0</td>\n",
       "      <td>-5.0</td>\n",
       "      <td>2019-08-29 09:00:00</td>\n",
       "      <td>20.716003</td>\n",
       "    </tr>\n",
       "    <tr>\n",
       "      <th>43474429</th>\n",
       "      <td>45.0</td>\n",
       "      <td>-5.0</td>\n",
       "      <td>2019-08-30 09:00:00</td>\n",
       "      <td>20.743988</td>\n",
       "    </tr>\n",
       "    <tr>\n",
       "      <th>43474430</th>\n",
       "      <td>45.0</td>\n",
       "      <td>-5.0</td>\n",
       "      <td>2019-08-31 09:00:00</td>\n",
       "      <td>20.885010</td>\n",
       "    </tr>\n",
       "  </tbody>\n",
       "</table>\n",
       "<p>43474431 rows × 4 columns</p>\n",
       "</div>"
      ],
      "text/plain": [
       "           lat   lon                time  analysed_sst\n",
       "0         35.0 -19.0 2019-08-01 09:00:00     22.830994\n",
       "1         35.0 -19.0 2019-08-02 09:00:00     23.727997\n",
       "2         35.0 -19.0 2019-08-03 09:00:00     24.345001\n",
       "3         35.0 -19.0 2019-08-04 09:00:00     24.382996\n",
       "4         35.0 -19.0 2019-08-05 09:00:00     24.256012\n",
       "...        ...   ...                 ...           ...\n",
       "43474426  45.0  -5.0 2019-08-27 09:00:00     19.819000\n",
       "43474427  45.0  -5.0 2019-08-28 09:00:00     20.588013\n",
       "43474428  45.0  -5.0 2019-08-29 09:00:00     20.716003\n",
       "43474429  45.0  -5.0 2019-08-30 09:00:00     20.743988\n",
       "43474430  45.0  -5.0 2019-08-31 09:00:00     20.885010\n",
       "\n",
       "[43474431 rows x 4 columns]"
      ]
     },
     "execution_count": 7,
     "metadata": {},
     "output_type": "execute_result"
    }
   ],
   "source": [
    "datadf['analysed_sst'] =  datadf['analysed_sst']-273.15    #convert to celsius\n",
    "datadf"
   ]
  },
  {
   "cell_type": "code",
   "execution_count": null,
   "id": "e0b97fbd",
   "metadata": {},
   "outputs": [],
   "source": []
  },
  {
   "cell_type": "code",
   "execution_count": 8,
   "id": "affca45a",
   "metadata": {},
   "outputs": [],
   "source": [
    "#Sacar dados do MUR para um só dia para testar o algoritmo Cayulla-Cornillon no MATLAB e Python\n",
    "Aug1_mur = datadf[datadf['time'] == '2019-08-01 09:00:00']"
   ]
  },
  {
   "cell_type": "code",
   "execution_count": 9,
   "id": "b563c1b3",
   "metadata": {},
   "outputs": [
    {
     "data": {
      "text/html": [
       "<div>\n",
       "<style scoped>\n",
       "    .dataframe tbody tr th:only-of-type {\n",
       "        vertical-align: middle;\n",
       "    }\n",
       "\n",
       "    .dataframe tbody tr th {\n",
       "        vertical-align: top;\n",
       "    }\n",
       "\n",
       "    .dataframe thead th {\n",
       "        text-align: right;\n",
       "    }\n",
       "</style>\n",
       "<table border=\"1\" class=\"dataframe\">\n",
       "  <thead>\n",
       "    <tr style=\"text-align: right;\">\n",
       "      <th></th>\n",
       "      <th>lat</th>\n",
       "      <th>lon</th>\n",
       "      <th>analysed_sst</th>\n",
       "    </tr>\n",
       "  </thead>\n",
       "  <tbody>\n",
       "    <tr>\n",
       "      <th>0</th>\n",
       "      <td>35.0</td>\n",
       "      <td>-19.000000</td>\n",
       "      <td>22.830994</td>\n",
       "    </tr>\n",
       "    <tr>\n",
       "      <th>31</th>\n",
       "      <td>35.0</td>\n",
       "      <td>-18.990000</td>\n",
       "      <td>22.815002</td>\n",
       "    </tr>\n",
       "    <tr>\n",
       "      <th>62</th>\n",
       "      <td>35.0</td>\n",
       "      <td>-18.980000</td>\n",
       "      <td>22.802002</td>\n",
       "    </tr>\n",
       "    <tr>\n",
       "      <th>93</th>\n",
       "      <td>35.0</td>\n",
       "      <td>-18.969999</td>\n",
       "      <td>22.790985</td>\n",
       "    </tr>\n",
       "    <tr>\n",
       "      <th>124</th>\n",
       "      <td>35.0</td>\n",
       "      <td>-18.959999</td>\n",
       "      <td>22.782013</td>\n",
       "    </tr>\n",
       "    <tr>\n",
       "      <th>...</th>\n",
       "      <td>...</td>\n",
       "      <td>...</td>\n",
       "      <td>...</td>\n",
       "    </tr>\n",
       "    <tr>\n",
       "      <th>43474276</th>\n",
       "      <td>45.0</td>\n",
       "      <td>-5.040000</td>\n",
       "      <td>20.843994</td>\n",
       "    </tr>\n",
       "    <tr>\n",
       "      <th>43474307</th>\n",
       "      <td>45.0</td>\n",
       "      <td>-5.030000</td>\n",
       "      <td>20.859009</td>\n",
       "    </tr>\n",
       "    <tr>\n",
       "      <th>43474338</th>\n",
       "      <td>45.0</td>\n",
       "      <td>-5.020000</td>\n",
       "      <td>20.871002</td>\n",
       "    </tr>\n",
       "    <tr>\n",
       "      <th>43474369</th>\n",
       "      <td>45.0</td>\n",
       "      <td>-5.010000</td>\n",
       "      <td>20.878998</td>\n",
       "    </tr>\n",
       "    <tr>\n",
       "      <th>43474400</th>\n",
       "      <td>45.0</td>\n",
       "      <td>-5.000000</td>\n",
       "      <td>20.885010</td>\n",
       "    </tr>\n",
       "  </tbody>\n",
       "</table>\n",
       "<p>1402401 rows × 3 columns</p>\n",
       "</div>"
      ],
      "text/plain": [
       "           lat        lon  analysed_sst\n",
       "0         35.0 -19.000000     22.830994\n",
       "31        35.0 -18.990000     22.815002\n",
       "62        35.0 -18.980000     22.802002\n",
       "93        35.0 -18.969999     22.790985\n",
       "124       35.0 -18.959999     22.782013\n",
       "...        ...        ...           ...\n",
       "43474276  45.0  -5.040000     20.843994\n",
       "43474307  45.0  -5.030000     20.859009\n",
       "43474338  45.0  -5.020000     20.871002\n",
       "43474369  45.0  -5.010000     20.878998\n",
       "43474400  45.0  -5.000000     20.885010\n",
       "\n",
       "[1402401 rows x 3 columns]"
      ]
     },
     "execution_count": 9,
     "metadata": {},
     "output_type": "execute_result"
    }
   ],
   "source": [
    "Aug1_mur.drop('time', axis=1)"
   ]
  },
  {
   "cell_type": "code",
   "execution_count": null,
   "id": "9e161761",
   "metadata": {},
   "outputs": [],
   "source": []
  },
  {
   "cell_type": "code",
   "execution_count": 223,
   "id": "729b3e48",
   "metadata": {},
   "outputs": [],
   "source": [
    "lat = Aug1_mur['lat'].to_numpy()\n",
    "lon = Aug1_mur['lon'].to_numpy()\n"
   ]
  },
  {
   "cell_type": "code",
   "execution_count": 224,
   "id": "86d468e4",
   "metadata": {},
   "outputs": [],
   "source": [
    "lat = np.unique(lat).round(3)\n",
    "lon = np.unique(lon).round(3)\n",
    "sst = Aug1_mur.pivot_table(index='lon', columns='lat', values='analysed_sst').values.round(4)"
   ]
  },
  {
   "cell_type": "code",
   "execution_count": null,
   "id": "949993cc",
   "metadata": {},
   "outputs": [],
   "source": []
  },
  {
   "cell_type": "code",
   "execution_count": null,
   "id": "b278156f",
   "metadata": {},
   "outputs": [],
   "source": []
  },
  {
   "cell_type": "code",
   "execution_count": null,
   "id": "a3ff2940",
   "metadata": {},
   "outputs": [],
   "source": []
  },
  {
   "cell_type": "markdown",
   "id": "0fa35da0",
   "metadata": {},
   "source": [
    "### Código: LOAD das variaveis em Python"
   ]
  },
  {
   "cell_type": "code",
   "execution_count": null,
   "id": "c2bf208f",
   "metadata": {},
   "outputs": [],
   "source": []
  },
  {
   "cell_type": "code",
   "execution_count": 225,
   "id": "41b66951",
   "metadata": {},
   "outputs": [],
   "source": [
    "X = np.linspace(-19.0, -5.0, 1401)\n",
    "Y = np.linspace(35.0, 45.0, 1001)\n",
    "X, Y = np.meshgrid(X, Y)                #CHECK\n",
    "\n",
    "lat, lon = np.meshgrid(lat, lon)            #CHECK\n",
    "\n",
    "from scipy.interpolate import griddata\n",
    "Z = griddata((lon.flatten(), lat.flatten()), sst.flatten(), (X,Y), method='linear')     #CHECK\n",
    "\n"
   ]
  },
  {
   "cell_type": "code",
   "execution_count": null,
   "id": "50b49df1",
   "metadata": {},
   "outputs": [],
   "source": []
  },
  {
   "cell_type": "code",
   "execution_count": 226,
   "id": "0277da66",
   "metadata": {},
   "outputs": [
    {
     "data": {
      "text/plain": [
       "<matplotlib.colorbar.Colorbar at 0x7f61e7495c10>"
      ]
     },
     "execution_count": 226,
     "metadata": {},
     "output_type": "execute_result"
    },
    {
     "data": {
      "image/png": "[encoded data removed]",
      "text/plain": [
       "<Figure size 432x288 with 2 Axes>"
      ]
     },
     "metadata": {
      "needs_background": "light"
     },
     "output_type": "display_data"
    }
   ],
   "source": [
    "sst = sst.T\n",
    "plt.pcolormesh(X, Y, sst, shading='flat')\n",
    "plt.colorbar()\n",
    "#este pcolormesh fica com os valores das coordenadas direitinhos"
   ]
  },
  {
   "cell_type": "code",
   "execution_count": 44,
   "id": "6b2c9dc6",
   "metadata": {},
   "outputs": [
    {
     "data": {
      "text/plain": [
       "(1001, 1401)"
      ]
     },
     "execution_count": 44,
     "metadata": {},
     "output_type": "execute_result"
    }
   ],
   "source": [
    "X.shape"
   ]
  },
  {
   "cell_type": "code",
   "execution_count": null,
   "id": "17c96362",
   "metadata": {},
   "outputs": [],
   "source": []
  },
  {
   "cell_type": "code",
   "execution_count": null,
   "id": "1ab83185",
   "metadata": {},
   "outputs": [],
   "source": []
  },
  {
   "cell_type": "markdown",
   "id": "da2f2f60",
   "metadata": {},
   "source": [
    "### Código: Definição da janela em Python "
   ]
  },
  {
   "cell_type": "code",
   "execution_count": null,
   "id": "672afaa2",
   "metadata": {},
   "outputs": [],
   "source": []
  },
  {
   "cell_type": "code",
   "execution_count": 227,
   "id": "1253811e",
   "metadata": {},
   "outputs": [],
   "source": [
    "head = np.array([-19, -5])           #Extremos do array que se obtem com a meshgrid em X\n",
    "head = np.append(head, [35, 45])   #Extremos do array que se obtem com a meshgrid em Y\n",
    "\n",
    "z_dim = Z.shape    #dimensões da matriz Z (rows, cols)\n",
    "\n",
    "z_actual_range = np.array([np.nanmin(Z[:]), np.nanmax(Z[:])])    #range dos dados (valor minimo e maximo da matriz Z)\n",
    "nx = z_dim[1]      # number of columns of matrix Z\n",
    "ny = z_dim[0]      # number of rows of matrix Z\n",
    "node_offset = 0\n",
    "    \n",
    "#index 4 -> menor valor de Z; index5 -> maior valor de Z; index6 -> node_offset=0\n",
    "head = np.append(head, np.array([z_actual_range[0], z_actual_range[1] , node_offset]))    \n",
    "head = np.append(head, np.array((head[1]- head[0])/(nx - int(not node_offset))))     #index 7 -> quociente da diferença dos extremos da meshgrid em X e o nr de colunas-1\n",
    "head = np.append(head, np.array((head[3]- head[2])/(ny - int(not node_offset))))     #index 8 -> quociente da diferença dos extremos da meshgrid em Y e o nr de rows-1"
   ]
  },
  {
   "cell_type": "code",
   "execution_count": 228,
   "id": "eb3fbbda",
   "metadata": {},
   "outputs": [
    {
     "data": {
      "text/plain": [
       "array([-1.90000000e+01, -5.00000000e+00,  3.50000000e+01,  4.50000000e+01,\n",
       "        1.64360008e+01,  2.33969994e+01,  0.00000000e+00,  1.00000000e-02,\n",
       "        1.00000000e-02])"
      ]
     },
     "execution_count": 228,
     "metadata": {},
     "output_type": "execute_result"
    }
   ],
   "source": [
    "head"
   ]
  },
  {
   "cell_type": "code",
   "execution_count": null,
   "id": "dcbd7c8d",
   "metadata": {},
   "outputs": [],
   "source": []
  },
  {
   "cell_type": "code",
   "execution_count": null,
   "id": "cbd001da",
   "metadata": {},
   "outputs": [],
   "source": []
  },
  {
   "cell_type": "code",
   "execution_count": null,
   "id": "4e158707",
   "metadata": {},
   "outputs": [],
   "source": []
  },
  {
   "cell_type": "markdown",
   "id": "bffd222b",
   "metadata": {},
   "source": [
    "### Código: Definição da parametros Python"
   ]
  },
  {
   "cell_type": "code",
   "execution_count": 229,
   "id": "5270031c",
   "metadata": {},
   "outputs": [],
   "source": [
    "################################# \n",
    "\n",
    "# Window size 32 × 32\n",
    "\n",
    "# Window clarity (% of data have to present in the window) 75%\n",
    "# Overlap 50%\n",
    "\n",
    "# The ratio of variance between the two populations to the\n",
    "# variance within the populations θ(τopt )% 0.76\n",
    "\n",
    "# Gradient ratio 0.9\n",
    "\n",
    "# Cohesion coefficients [C1, C2, C] [0.9, 0.9, 0.92]\n",
    "# Mean temperature difference between the two populations (surface waters)\n",
    "# .25\n",
    "\n",
    "#cayula\n",
    "minPopProp = 0.20\n",
    "minPopMeanDiff = 0.4\n",
    "minTheta = 0.70\n",
    "minSinglePopCohesion = 0.90\n",
    "minGlobalPopCohesion = 0.70\n",
    "\n",
    "#nieto\n",
    "# minPopProp = 0.15\n",
    "# minPopMeanDiff = 0.4\n",
    "# minTheta = 0.70\n",
    "# minSinglePopCohesion = 0.90\n",
    "# minGlobalPopCohesion = 0.70\n",
    "\n",
    "##################################"
   ]
  },
  {
   "cell_type": "code",
   "execution_count": null,
   "id": "1facb78a",
   "metadata": {},
   "outputs": [],
   "source": []
  },
  {
   "cell_type": "code",
   "execution_count": null,
   "id": "1f659d62",
   "metadata": {},
   "outputs": [],
   "source": []
  },
  {
   "cell_type": "markdown",
   "id": "7fe5d42d",
   "metadata": {},
   "source": [
    "### Código: function getFrontInWindow() in Python"
   ]
  },
  {
   "cell_type": "code",
   "execution_count": null,
   "id": "d4b6a988",
   "metadata": {},
   "outputs": [],
   "source": []
  },
  {
   "cell_type": "code",
   "execution_count": 230,
   "id": "21c6d4f9",
   "metadata": {},
   "outputs": [],
   "source": [
    "def getFrontInWindow(w, head, minTheta, minPopProp, minPopMeanDiff, minSinglePopCohesion, \n",
    "                     minGlobalPopCohesion, corners):\n",
    "    \n",
    "    #empty arrays de xdata, ydata e z\n",
    "    xdata = np.array([])\n",
    "    ydata = np.array([])\n",
    "    z = np.array([])\n",
    "    exitType=0\n",
    "    \n",
    "    #mask é um array com a shape de w, que vai ser 1 se nessa posição w for np.nan e 0 caso contrário\n",
    "    mask = np.isnan(w).astype('int')  \n",
    "    haveNaNs = np.any(mask[:]).astype('int')  #haveNaNs=1 se mask tiver 1s (que correspondem a NaNs na matriz w)\n",
    "    n_NaNs=0\n",
    "    \n",
    "    if haveNaNs:\n",
    "        n_NaNs = sum(mask.flatten()[:])       #contar nr de 1s (NaNs na matriz w) que existem\n",
    "        if (n_NaNs/len(w.flatten())>0.5):     #window não pode ter mais de 50% dos seus pixeis como NaNs\n",
    "            exitType=-1\n",
    "            return 0,0,0,exitType\n",
    "        \n",
    "    mi_ma = [np.nanmin(w), np.nanmax(w)]        #array com valor minimo e máximo de w\n",
    "    n = math.ceil((mi_ma[1]-mi_ma[0])/0.02)     #numero de bins\n",
    "    bins = np.arange(mi_ma[0], mi_ma[1], 0.02)      #definir a sequencia dos Bins e ter resultados iguais ao MATLAB\n",
    "    [y, xout] = np.histogram(w[:], bins, mi_ma)    #y->frequency counts, Xout->bin location\n",
    "    xout = np.mean(np.vstack([xout[0:-1],xout[1:]]), axis=0)\n",
    "    \n",
    "    \n",
    "    thresValue = xout[0]        \n",
    "    totalCount = len(w.flatten()) - n_NaNs    #nr de pixeis não NaNs que existem\n",
    "    threshPopACount = 0\n",
    "    threshSeparation = -1\n",
    "    threshPopAMean = 0\n",
    "    threshPopBMean = 0\n",
    "    \n",
    "    w[mask==1] = 0    #Replace NaNs with 0's (quando o mask é 1 substituir valores do array w por 0)\n",
    "    totalSum = sum(w.flatten())\n",
    "    totalSumSquares = sum(w.flatten()*w.flatten())\n",
    "    \n",
    "    \n",
    "    #Neste for loop ele vai descobrir qual é a linha que vai fazer a melhor separação entre a média da população  \n",
    "    # da esquerda e da direita (A e B) - e esse vai ser o meu thresValue\n",
    "    for k in range(1,n-1):     #ignore the first and last candidates (senão seria de 0 a n)\n",
    "        popASum = sum(y[0:k+1] * xout[0:k+1])\n",
    "        popBSum = sum(y[k+1:] * xout[k+1:])  \n",
    "        popACount = sum(y[0:k+1])     #soma das frequências (y) do lado da população A\n",
    "        popBCount = sum(y[k+1:])     #soma das frequências (y) do lado da população B\n",
    "    \n",
    "        popAMean = popASum/popACount\n",
    "        try:           #este try aqui é uma estupidez (só para evitar o zerodivisionerror)\n",
    "            popBMean = popBSum/popBCount\n",
    "        except ZeroDivisionError:\n",
    "            popBMean = 0\n",
    "        separation = popACount * popBCount * (popAMean - popBMean) * (popAMean - popBMean)\n",
    "        if separation>threshSeparation:\n",
    "            threshSeparation = separation\n",
    "            thresValue = xout[k]\n",
    "            threshPopACount = popACount\n",
    "            threshPopAMean = popAMean\n",
    "            threshPopBMean = popBMean\n",
    "            \n",
    "            \n",
    "        #abortar caso a proporção da população A seja menor que um dado minimo\n",
    "    if (threshPopACount / totalCount < minPopProp):\n",
    "        exitType = 1\n",
    "        return 0,0,0,exitType  \n",
    "    \n",
    "    #abortar caso a proporção da população B seja menor que um dado minimo\n",
    "    if (1.0 - threshPopACount / totalCount < minPopProp):\n",
    "        exitType = 1\n",
    "        return 0,0,0,exitType\n",
    "    \n",
    "    #abort this window if the difference in the populations means is less than a minimum value\n",
    "    if (threshPopBMean - threshPopAMean < minPopMeanDiff):\n",
    "        exitType = 2\n",
    "        return 0,0,0,exitType\n",
    "    \n",
    "    #Calculate the criterion function THETA (TAUopt) in page 72 of the paper\n",
    "    totalMean = totalSum/totalCount\n",
    "    variance = totalSumSquares - (totalMean * totalMean * totalCount)\n",
    "    theta = threshSeparation / (variance * totalCount)\n",
    "    if (theta < minTheta):         #abortar caso theta seja menor que um dado minimo \n",
    "        exitType = 3\n",
    "        return 0,0,0,exitType\n",
    "    \n",
    "    #Cohesion - agora que ja sei qual o valor de separação. Com base neste valor de separação vou elemento a\n",
    "    #elemento da matriz, verificar se este é maior ou menor que a separação e conforme, \n",
    "    #vemos se é maior para baixo ou para a direita (quando é maior adiciono dum lado quando é menor adiciono do outro)\n",
    "    #Count the nr of times a population A cell is immediately adjacent to another popA cell and the same for popB\n",
    "    # A cell can be adjacent on 4 sides. Count only 2 of them (bottom and right side) because doing all 4 would be\n",
    "    #redundant. Do not count diagonal neighbors\n",
    "    countANextToA = 0\n",
    "    countBNextToB = 0\n",
    "    countANextToAOrB = 0\n",
    "    countBNextToAOrB = 0\n",
    "    [n_rows, n_cols] = w.shape\n",
    "    for col in range(0, n_cols-1):\n",
    "        for row in range(0, n_rows-1):\n",
    "            if (haveNaNs & (mask[row, col] | mask[row+1, col] | mask[row, col+1])):\n",
    "                continue\n",
    "                         \n",
    "            #examine the bottom neighbor\n",
    "            if (w[row, col] <= thresValue):           # se o pixel da matriz for menor que o elemento de separação\n",
    "                countANextToAOrB = countANextToAOrB + 1      #incrementar em 1 o countANextToAOrB\n",
    "                if (w[row+1, col] <= thresValue):            #se pixel da linha de baixo for menor que separação\n",
    "                    countANextToA = countANextToA + 1        #incrementar countANextToA\n",
    "            else:                                            # se o pixel for maior que a separação\n",
    "                countBNextToAOrB = countBNextToAOrB + 1      #incrementar countBNextToAOrB\n",
    "                if (w[row+1, col] > thresValue):             #se o pixel da linha de baixo for maior que separação\n",
    "                    countBNextToB = countBNextToB + 1        #incrementar countBNextToB\n",
    "                         \n",
    "                         \n",
    "            # Examine the right neighbor\n",
    "            if (w[row, col] <= thresValue):                     # se o pixel da matriz for menor que a separação      \n",
    "                countANextToAOrB = countANextToAOrB + 1         # incrementar countANextToAOrB\n",
    "                if (w[row, col+1] <= thresValue):               #se o pixel da direita for menor que separação\n",
    "                    countANextToA = countANextToA + 1           # incrementar countANextToA\n",
    "            else:                                               # se o pixel da matriz for maior que a separação\n",
    "                countBNextToAOrB = countBNextToAOrB + 1         #incrementar countBNextToAOrB\n",
    "                if (w[row, col+1] > thresValue):                #se o pixel da direita for maior que separação\n",
    "                    countBNextToB = countBNextToB +1            # incrementar countBNextToB\n",
    "                         \n",
    "                         \n",
    "    popACohesion = countANextToA / countANextToAOrB\n",
    "    popBCohesion = countBNextToB/ countBNextToAOrB\n",
    "    globalCohesion = (countANextToA + countBNextToB) / (countANextToAOrB + countBNextToAOrB)\n",
    "    \n",
    "    #Estes ifs são para caso surjam erros (parametros menores que certos limites)\n",
    "    if (popACohesion < minSinglePopCohesion):\n",
    "        exitType = 4\n",
    "        return 0,0,0,exitType\n",
    "                         \n",
    "    if (popBCohesion < minSinglePopCohesion):\n",
    "        exitType = 4\n",
    "        return 0,0,0,exitType\n",
    "                         \n",
    "    if (globalCohesion < minGlobalPopCohesion):\n",
    "        exitType = 4\n",
    "        return 0,0,0,exitType\n",
    "                         \n",
    "                         \n",
    "    #OK if we reach here we have a front. Compute its contour\n",
    "    X = np.linspace(head[0], head[1], n_cols)    #Extremos do array que se obtem com a meshgrid em X##############\n",
    "    Y = np.linspace(head[2], head[3], n_rows)\n",
    "    if (corners.size == 0):\n",
    "        w = w.astype('double')    \n",
    "        if haveNaNs:\n",
    "            w[w==0] = np.nan      # Need to restore the NaNs to not invent new contours around zeros\n",
    "        \n",
    "        c = plt.contour(X, Y, w, thresValue)\n",
    "    else:\n",
    "        #the 4 corners havethese indices [17,32,17,32; 17,32,1,16; 1,16,1,16;1,16,17,32]\n",
    "        # and the variable corners has one of its rows (the current to be retained sub-window)\n",
    "        #X = X[corners[0]-1:]\n",
    "        #Y = Y[corners[0,0]-1]\n",
    "       # w = w[corners[0,0]-1, corners[2,0]-1]\n",
    "        \n",
    "        X = X[np.arange(corners[2]-1, corners[3])]\n",
    "        Y = Y[np.arange(corners[0]-1, corners[1])]\n",
    "        w = w[np.arange(corners[0], corners[1]).min()-1:np.arange(corners[0], corners[1]).max()+1, np.arange(corners[2], corners[3]).min()-1:np.arange(corners[2], corners[3]).max()+1]\n",
    "        \n",
    "        if  haveNaNs:\n",
    "            w[w==0] = np.nan     # Need to restore the NaNs to not invent new contours around zeros\n",
    "                         \n",
    "        if (np.isnan(w)).all()==True:\n",
    "            c = np.array([])\n",
    "        else:\n",
    "            c = plt.contour(X, Y, w, thresValue)\n",
    "                         \n",
    "        limit = c.shape[1]\n",
    "        i = 1\n",
    "        while i<limit:\n",
    "            npoints = c[1, i-1]\n",
    "            x = c[0, i:i+npoints-1]\n",
    "            y = c[1, i:i+npoints-1]\n",
    "            \n",
    "            if (x[0] == x[-1] or npoints<7):   #we dont want closed lines nor very short ones\n",
    "                i = i+npoints+1\n",
    "                continue\n",
    "                         \n",
    "            if (xdata.size == 0):\n",
    "                xdata = x    #first contour\n",
    "                ydata = y\n",
    "            else:\n",
    "                xdata = [xdata, np.nan, x]\n",
    "                ydata = [ydata, np.nan, y]\n",
    "                         \n",
    "            i = i+npoints+1\n",
    "            # xdata = c[0, 1:npoints+1]      ydata 0 c[1, 1:npoints+1]\n",
    "        \n",
    "        z = thresValue\n",
    "        \n",
    "        if (xdata.size == 0):\n",
    "            exitType = 5;\n",
    "            \n",
    "    return xdata, ydata, z, exitType\n",
    "            "
   ]
  },
  {
   "cell_type": "code",
   "execution_count": null,
   "id": "03236c1b",
   "metadata": {},
   "outputs": [],
   "source": []
  },
  {
   "cell_type": "code",
   "execution_count": null,
   "id": "ef20d604",
   "metadata": {},
   "outputs": [],
   "source": []
  },
  {
   "cell_type": "code",
   "execution_count": null,
   "id": "8f1e2083",
   "metadata": {},
   "outputs": [],
   "source": []
  },
  {
   "cell_type": "code",
   "execution_count": null,
   "id": "e79ba7d3",
   "metadata": {},
   "outputs": [],
   "source": []
  },
  {
   "cell_type": "markdown",
   "id": "ebadba62",
   "metadata": {},
   "source": [
    "### Código"
   ]
  },
  {
   "cell_type": "code",
   "execution_count": null,
   "id": "5029fbc1",
   "metadata": {},
   "outputs": [],
   "source": []
  },
  {
   "cell_type": "code",
   "execution_count": 231,
   "id": "ddd0fb4f",
   "metadata": {},
   "outputs": [
    {
     "name": "stderr",
     "output_type": "stream",
     "text": [
      "/tmp/ipykernel_5285/2985117784.py:167: UserWarning: No contour levels were found within the data range.\n",
      "  c = plt.contour(X, Y, w, thresValue)\n"
     ]
    },
    {
     "ename": "AttributeError",
     "evalue": "'QuadContourSet' object has no attribute 'shape'",
     "output_type": "error",
     "traceback": [
      "\u001b[0;31m---------------------------------------------------------------------------\u001b[0m",
      "\u001b[0;31mAttributeError\u001b[0m                            Traceback (most recent call last)",
      "\u001b[0;32m/tmp/ipykernel_5285/3289248838.py\u001b[0m in \u001b[0;36m<module>\u001b[0;34m\u001b[0m\n\u001b[1;32m     52\u001b[0m             \u001b[0mR\u001b[0m \u001b[0;34m=\u001b[0m \u001b[0mnp\u001b[0m\u001b[0;34m.\u001b[0m\u001b[0marray\u001b[0m\u001b[0;34m(\u001b[0m\u001b[0;34m[\u001b[0m\u001b[0msubWinX0\u001b[0m\u001b[0;34m,\u001b[0m \u001b[0msubWinX1\u001b[0m\u001b[0;34m,\u001b[0m \u001b[0msubWinY0\u001b[0m\u001b[0;34m,\u001b[0m \u001b[0msubWinY1\u001b[0m\u001b[0;34m]\u001b[0m\u001b[0;34m)\u001b[0m\u001b[0;34m\u001b[0m\u001b[0;34m\u001b[0m\u001b[0m\n\u001b[1;32m     53\u001b[0m \u001b[0;34m\u001b[0m\u001b[0m\n\u001b[0;32m---> 54\u001b[0;31m             \u001b[0mxdata\u001b[0m\u001b[0;34m,\u001b[0m \u001b[0mydata\u001b[0m\u001b[0;34m,\u001b[0m \u001b[0mz\u001b[0m\u001b[0;34m,\u001b[0m \u001b[0mexitType\u001b[0m \u001b[0;34m=\u001b[0m \u001b[0mgetFrontInWindow\u001b[0m\u001b[0;34m(\u001b[0m\u001b[0mw\u001b[0m\u001b[0;34m,\u001b[0m \u001b[0mR\u001b[0m\u001b[0;34m,\u001b[0m \u001b[0mminTheta\u001b[0m\u001b[0;34m,\u001b[0m \u001b[0mminPopProp\u001b[0m\u001b[0;34m,\u001b[0m \u001b[0mminPopMeanDiff\u001b[0m\u001b[0;34m,\u001b[0m \u001b[0mminSinglePopCohesion\u001b[0m\u001b[0;34m,\u001b[0m \u001b[0mminGlobalPopCohesion\u001b[0m\u001b[0;34m,\u001b[0m \u001b[0mcorners\u001b[0m\u001b[0;34m[\u001b[0m\u001b[0mk\u001b[0m\u001b[0;34m,\u001b[0m\u001b[0;34m:\u001b[0m\u001b[0;34m]\u001b[0m\u001b[0;34m)\u001b[0m\u001b[0;34m\u001b[0m\u001b[0;34m\u001b[0m\u001b[0m\n\u001b[0m\u001b[1;32m     55\u001b[0m \u001b[0;34m\u001b[0m\u001b[0m\n\u001b[1;32m     56\u001b[0m             \u001b[0;32mif\u001b[0m \u001b[0;34m(\u001b[0m\u001b[0mexitType\u001b[0m \u001b[0;34m==\u001b[0m \u001b[0;36m0\u001b[0m\u001b[0;34m)\u001b[0m\u001b[0;34m:\u001b[0m\u001b[0;34m\u001b[0m\u001b[0;34m\u001b[0m\u001b[0m\n",
      "\u001b[0;32m/tmp/ipykernel_5285/2985117784.py\u001b[0m in \u001b[0;36mgetFrontInWindow\u001b[0;34m(w, head, minTheta, minPopProp, minPopMeanDiff, minSinglePopCohesion, minGlobalPopCohesion, corners)\u001b[0m\n\u001b[1;32m    167\u001b[0m             \u001b[0mc\u001b[0m \u001b[0;34m=\u001b[0m \u001b[0mplt\u001b[0m\u001b[0;34m.\u001b[0m\u001b[0mcontour\u001b[0m\u001b[0;34m(\u001b[0m\u001b[0mX\u001b[0m\u001b[0;34m,\u001b[0m \u001b[0mY\u001b[0m\u001b[0;34m,\u001b[0m \u001b[0mw\u001b[0m\u001b[0;34m,\u001b[0m \u001b[0mthresValue\u001b[0m\u001b[0;34m)\u001b[0m\u001b[0;34m\u001b[0m\u001b[0;34m\u001b[0m\u001b[0m\n\u001b[1;32m    168\u001b[0m \u001b[0;34m\u001b[0m\u001b[0m\n\u001b[0;32m--> 169\u001b[0;31m         \u001b[0mlimit\u001b[0m \u001b[0;34m=\u001b[0m \u001b[0mc\u001b[0m\u001b[0;34m.\u001b[0m\u001b[0mshape\u001b[0m\u001b[0;34m[\u001b[0m\u001b[0;36m1\u001b[0m\u001b[0;34m]\u001b[0m\u001b[0;34m\u001b[0m\u001b[0;34m\u001b[0m\u001b[0m\n\u001b[0m\u001b[1;32m    170\u001b[0m         \u001b[0mi\u001b[0m \u001b[0;34m=\u001b[0m \u001b[0;36m1\u001b[0m\u001b[0;34m\u001b[0m\u001b[0;34m\u001b[0m\u001b[0m\n\u001b[1;32m    171\u001b[0m         \u001b[0;32mwhile\u001b[0m \u001b[0mi\u001b[0m\u001b[0;34m<\u001b[0m\u001b[0mlimit\u001b[0m\u001b[0;34m:\u001b[0m\u001b[0;34m\u001b[0m\u001b[0;34m\u001b[0m\u001b[0m\n",
      "\u001b[0;31mAttributeError\u001b[0m: 'QuadContourSet' object has no attribute 'shape'"
     ]
    },
    {
     "data": {
      "image/png": "[encoded data removed]",
      "text/plain": [
       "<Figure size 432x288 with 1 Axes>"
      ]
     },
     "metadata": {
      "needs_background": "light"
     },
     "output_type": "display_data"
    }
   ],
   "source": [
    "[n_rows, n_cols] = Z.shape\n",
    "winW16 = 16\n",
    "winW32 = 16*2\n",
    "winW48 = 16*3\n",
    "\n",
    "s=0 #s=1 means subwindows do NOT share a common border. With s = 0 they do.\n",
    "\n",
    "xSide16 = winW16*head[7]\n",
    "ySide16 = winW16*head[8]\n",
    "xSide32 = (winW32 - s) * head[7]\n",
    "ySide32 = (winW32 - s) * head[8]\n",
    "\n",
    "nWinRows = math.floor(n_rows/winW16)\n",
    "nWinCols = math.floor(n_cols/winW16)\n",
    "\n",
    "#def draw_fig():\n",
    " #   plt.imshow(h)\n",
    "\n",
    "for wRow in range(1, nWinRows-1):    #estava -3 antes\n",
    "    r1 = (wRow-1) * winW16 + 1;\n",
    "    r2 = r1 + winW48 -s     #start and stop indices and coords of current window\n",
    "    y0 = head[2] + (wRow-1)*ySide16    #y1 = y0 + (winW48-1)*head[8]\n",
    "    \n",
    "    for wCol in range(1, nWinCols-1):     #estava -3 antes\n",
    "        c1 = (wCol - 1)*winW16+1\n",
    "        c2 = c1 + winW48 - s\n",
    "        x0 = head[0] + (wCol-1) * xSide16     #x1 = x0 + (winW48-1)*head[7]\n",
    "        wPad = Z[r1-1:r2, c1-1:c2]\n",
    "        \n",
    "        rr = np.array([1,1,2,2])\n",
    "        cc = np.array([1,2,2,1])\n",
    "        \n",
    "        if s==1:\n",
    "            corners = np.array([[17, 32, 17, 32], [17, 32, 1, 16], [1, 16, 1, 16], [1, 16, 17, 32]])  #less good\n",
    "        else:\n",
    "            corners = np.array([[17, 33, 17, 33], [17, 33, 1, 17], [1, 17, 1, 17], [1, 17, 17, 33]])\n",
    "            \n",
    "        for k in range(0,4):     #loop over the 4 slidding 32X32 sub-windows of the larger 48x48 one\n",
    "            m1 = (rr[k] - 1) * winW16 + 1\n",
    "            m2 = m1 + 2 * winW16 - s             #indices of the slidding 33X33 window\n",
    "            n1 = (cc[k] - 1) * winW16 + 1\n",
    "            n2 = n1 + 2 * winW16 - s\n",
    "            \n",
    "            w = wPad[m1-1:m2, n1-1:n2].astype('double')      #sub window with size 33x33\n",
    "            \n",
    "            subWinX0 = x0 + (cc[k] - 1) * xSide16\n",
    "            subWinX1 = subWinX0 + xSide32\n",
    "            \n",
    "            subWinY0 = y0 + (rr[k] - 1) * ySide16\n",
    "            subWinY1 = subWinY0 + ySide32\n",
    "            \n",
    "            R = np.array([subWinX0, subWinX1, subWinY0, subWinY1])\n",
    "          \n",
    "            xdata, ydata, z, exitType = getFrontInWindow(w, R, minTheta, minPopProp, minPopMeanDiff, minSinglePopCohesion, minGlobalPopCohesion, corners[k,:])\n",
    "            \n",
    "            if (exitType == 0):\n",
    "                #  h = line('XData', x, 'YData', y, 'userdata', z, 'Tag', 'SSTfront')  \n",
    "                #Tag -> nas propriedades da imagem, a figure vai ter o Tag 'SSTfront' (em MATLAB)\n",
    "                h = plt.plot(xdata,ydata,z)       #DUVIDA\n",
    "    \n",
    "    #drawnow(draw_fig)\n",
    "                \n",
    "                \n",
    "        #DUVIDA se uso o drawnow?\n",
    "    plt.show()\n",
    "        \n",
    "        "
   ]
  },
  {
   "cell_type": "code",
   "execution_count": null,
   "id": "7d69c846",
   "metadata": {},
   "outputs": [],
   "source": []
  },
  {
   "cell_type": "code",
   "execution_count": 204,
   "id": "d0bea40d",
   "metadata": {},
   "outputs": [
    {
     "data": {
      "text/plain": [
       "array([[17, 33, 17, 33],\n",
       "       [17, 33,  1, 17],\n",
       "       [ 1, 17,  1, 17],\n",
       "       [ 1, 17, 17, 33]])"
      ]
     },
     "execution_count": 204,
     "metadata": {},
     "output_type": "execute_result"
    }
   ],
   "source": [
    "corners"
   ]
  },
  {
   "cell_type": "code",
   "execution_count": 206,
   "id": "0d1b487d",
   "metadata": {},
   "outputs": [],
   "source": [
    "corners = corners[3,:]"
   ]
  },
  {
   "cell_type": "code",
   "execution_count": 207,
   "id": "95fcb148",
   "metadata": {},
   "outputs": [
    {
     "data": {
      "text/plain": [
       "array([ 1, 17, 17, 33])"
      ]
     },
     "execution_count": 207,
     "metadata": {},
     "output_type": "execute_result"
    }
   ],
   "source": [
    "corners"
   ]
  },
  {
   "cell_type": "code",
   "execution_count": null,
   "id": "c2d83de5",
   "metadata": {},
   "outputs": [],
   "source": []
  },
  {
   "cell_type": "code",
   "execution_count": null,
   "id": "71230f29",
   "metadata": {},
   "outputs": [],
   "source": []
  },
  {
   "cell_type": "code",
   "execution_count": null,
   "id": "b8587759",
   "metadata": {},
   "outputs": [],
   "source": []
  },
  {
   "cell_type": "code",
   "execution_count": null,
   "id": "f1473c6a",
   "metadata": {},
   "outputs": [],
   "source": []
  },
  {
   "cell_type": "code",
   "execution_count": null,
   "id": "9a01642a",
   "metadata": {},
   "outputs": [],
   "source": []
  },
  {
   "cell_type": "code",
   "execution_count": null,
   "id": "bd1f38d2",
   "metadata": {},
   "outputs": [],
   "source": []
  },
  {
   "cell_type": "code",
   "execution_count": null,
   "id": "ab370991",
   "metadata": {},
   "outputs": [],
   "source": []
  },
  {
   "cell_type": "code",
   "execution_count": null,
   "id": "108e399e",
   "metadata": {},
   "outputs": [],
   "source": []
  },
  {
   "cell_type": "code",
   "execution_count": null,
   "id": "1e880e81",
   "metadata": {},
   "outputs": [],
   "source": []
  }
 ],
 "metadata": {
  "kernelspec": {
   "display_name": "Python 3 (ipykernel)",
   "language": "python",
   "name": "python3"
  },
  "language_info": {
   "codemirror_mode": {
    "name": "ipython",
    "version": 3
   },
   "file_extension": ".py",
   "mimetype": "text/x-python",
   "name": "python",
   "nbconvert_exporter": "python",
   "pygments_lexer": "ipython3",
   "version": "3.8.10"
  }
 },
 "nbformat": 4,
 "nbformat_minor": 5
}
