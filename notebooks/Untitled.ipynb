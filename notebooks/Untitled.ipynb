{
 "cells": [
  {
   "cell_type": "code",
   "execution_count": 124,
   "id": "65ee32c7",
   "metadata": {},
   "outputs": [],
   "source": [
    "import numpy as np\n",
    "import datetime\n",
    "from datetime import date, timedelta\n",
    "import datetime\n",
    "import pandas as pd\n",
    "import math\n",
    "import itertools\n",
    "import time"
   ]
  },
  {
   "cell_type": "code",
   "execution_count": null,
   "id": "71d854c9",
   "metadata": {},
   "outputs": [],
   "source": []
  },
  {
   "cell_type": "code",
   "execution_count": null,
   "id": "63ccd6d7",
   "metadata": {},
   "outputs": [],
   "source": [
    "key = 'crazy'\n",
    "message = 'secretinformation'\n",
    "\n",
    "x = sorted(key)\n",
    "\n",
    "list_key = [0] * len(key)\n",
    "for i in range(len(key)):\n",
    "    aux = key.find(x[i]) \n",
    "    list_key[aux] = i + 1    \n",
    "    \n",
    "#DIVIDIR A MENSAGE, DE ACORDO COM LEN DA KEY\n",
    "chunks = len(message)\n",
    "chunk_size = len(key)\n",
    "sub_strings = [message[i:i+chunk_size] for i in range(0, chunks, chunk_size)]\n",
    "\n",
    "\n",
    "novo = []\n",
    "for sub_string in sub_strings:\n",
    "    aux = ''\n",
    "    if len(sub_string) < len(list_key):\n",
    "        sub_string = sub_string + ' '*(len(list_key) - len(sub_string))\n",
    "    for j in range(1, len(key)+1):\n",
    "        index = list_key.index(j)\n",
    "        aux += sub_string[index]\n",
    "    novo.append(aux)\n",
    "    \n",
    "result = ''.join(novo)"
   ]
  },
  {
   "cell_type": "code",
   "execution_count": null,
   "id": "771b9410",
   "metadata": {},
   "outputs": [],
   "source": []
  },
  {
   "cell_type": "code",
   "execution_count": null,
   "id": "ddd20664",
   "metadata": {},
   "outputs": [],
   "source": []
  },
  {
   "cell_type": "code",
   "execution_count": null,
   "id": "c217eaee",
   "metadata": {},
   "outputs": [],
   "source": []
  },
  {
   "cell_type": "code",
   "execution_count": 107,
   "id": "6929b435",
   "metadata": {},
   "outputs": [],
   "source": [
    "key = 'crazy'\n",
    "x = sorted(key)"
   ]
  },
  {
   "cell_type": "code",
   "execution_count": 108,
   "id": "3ffb0f0a",
   "metadata": {},
   "outputs": [
    {
     "data": {
      "text/plain": [
       "['a', 'c', 'r', 'y', 'z']"
      ]
     },
     "execution_count": 108,
     "metadata": {},
     "output_type": "execute_result"
    }
   ],
   "source": []
  },
  {
   "cell_type": "code",
   "execution_count": 109,
   "id": "faac423a",
   "metadata": {},
   "outputs": [],
   "source": [
    "\n",
    "list_key = [0] * len(key)\n",
    "for i in range(len(key)):\n",
    "    aux = key.find(x[i]) \n",
    "    list_key[aux] = i + 1    \n",
    "    "
   ]
  },
  {
   "cell_type": "code",
   "execution_count": 110,
   "id": "9c075ef5",
   "metadata": {},
   "outputs": [
    {
     "data": {
      "text/plain": [
       "[2, 3, 1, 5, 4]"
      ]
     },
     "execution_count": 110,
     "metadata": {},
     "output_type": "execute_result"
    }
   ],
   "source": [
    "list_key"
   ]
  },
  {
   "cell_type": "code",
   "execution_count": null,
   "id": "c775f8fb",
   "metadata": {},
   "outputs": [],
   "source": []
  },
  {
   "cell_type": "code",
   "execution_count": 111,
   "id": "b7623003",
   "metadata": {},
   "outputs": [],
   "source": [
    "message = 'secretinformation'"
   ]
  },
  {
   "cell_type": "code",
   "execution_count": 112,
   "id": "b29c3ad0",
   "metadata": {},
   "outputs": [],
   "source": [
    "#DIVIDIR A MENSAGE, DE ACORDO COM LEN DA KEY\n",
    "chunks = len(message)\n",
    "chunk_size = len(key)\n",
    "sub_strings = [message[i:i+chunk_size] for i in range(0, chunks, chunk_size)]"
   ]
  },
  {
   "cell_type": "code",
   "execution_count": null,
   "id": "a151c65b",
   "metadata": {},
   "outputs": [],
   "source": []
  },
  {
   "cell_type": "code",
   "execution_count": null,
   "id": "855894f3",
   "metadata": {},
   "outputs": [],
   "source": []
  },
  {
   "cell_type": "code",
   "execution_count": 93,
   "id": "ddcad088",
   "metadata": {},
   "outputs": [],
   "source": [
    "aux = ''\n",
    "novo = []\n",
    "for sub_string in sub_strings:\n",
    "    aux = ''\n",
    "    for j in range(1, len(key)+1):\n",
    "        index = list_key.index(j)\n",
    "        aux += sub_string[index]\n",
    "    novo.append(aux)"
   ]
  },
  {
   "cell_type": "code",
   "execution_count": 94,
   "id": "ff73d3ea",
   "metadata": {},
   "outputs": [
    {
     "data": {
      "text/plain": [
       "['cseer', 'ntiof', 'armit']"
      ]
     },
     "execution_count": 94,
     "metadata": {},
     "output_type": "execute_result"
    }
   ],
   "source": [
    "novo"
   ]
  },
  {
   "cell_type": "code",
   "execution_count": null,
   "id": "16fa140e",
   "metadata": {},
   "outputs": [],
   "source": []
  },
  {
   "cell_type": "code",
   "execution_count": null,
   "id": "30a8cdf0",
   "metadata": {},
   "outputs": [],
   "source": []
  },
  {
   "cell_type": "code",
   "execution_count": 116,
   "id": "f9f12767",
   "metadata": {},
   "outputs": [],
   "source": [
    "\n",
    "novo = []\n",
    "for sub_string in sub_strings:\n",
    "    aux = ''\n",
    "    if len(sub_string) < len(list_key):\n",
    "        sub_string = sub_string + ' '*(len(list_key) - len(sub_string))\n",
    "    for j in range(1, len(key)+1):\n",
    "        index = list_key.index(j)\n",
    "        aux += sub_string[index]\n",
    "    novo.append(aux)\n",
    "    \n",
    "result = ''.join(novo)"
   ]
  },
  {
   "cell_type": "code",
   "execution_count": null,
   "id": "cfae2562",
   "metadata": {},
   "outputs": [],
   "source": []
  },
  {
   "cell_type": "code",
   "execution_count": 115,
   "id": "4af9b5fc",
   "metadata": {},
   "outputs": [
    {
     "data": {
      "text/plain": [
       "['cseer', 'ntiof', 'armit', ' on  ']"
      ]
     },
     "execution_count": 115,
     "metadata": {},
     "output_type": "execute_result"
    }
   ],
   "source": [
    "novo"
   ]
  },
  {
   "cell_type": "code",
   "execution_count": 117,
   "id": "7ac0b68c",
   "metadata": {},
   "outputs": [
    {
     "data": {
      "text/plain": [
       "'cseerntiofarmit on  '"
      ]
     },
     "execution_count": 117,
     "metadata": {},
     "output_type": "execute_result"
    }
   ],
   "source": [
    "result"
   ]
  },
  {
   "cell_type": "code",
   "execution_count": null,
   "id": "e6a94a4b",
   "metadata": {},
   "outputs": [],
   "source": []
  },
  {
   "cell_type": "code",
   "execution_count": null,
   "id": "1a219bab",
   "metadata": {},
   "outputs": [],
   "source": []
  },
  {
   "cell_type": "code",
   "execution_count": 125,
   "id": "88db2322",
   "metadata": {},
   "outputs": [],
   "source": [
    "day_txt = (date.today() - timedelta(days=2)).strftime('%Y%m%d')"
   ]
  },
  {
   "cell_type": "code",
   "execution_count": 126,
   "id": "765895d3",
   "metadata": {},
   "outputs": [
    {
     "data": {
      "text/plain": [
       "'20220910'"
      ]
     },
     "execution_count": 126,
     "metadata": {},
     "output_type": "execute_result"
    }
   ],
   "source": [
    "day_txt"
   ]
  },
  {
   "cell_type": "code",
   "execution_count": null,
   "id": "df9fb1cb",
   "metadata": {},
   "outputs": [],
   "source": []
  },
  {
   "cell_type": "code",
   "execution_count": 120,
   "id": "22bfa8f5",
   "metadata": {},
   "outputs": [],
   "source": [
    "import os"
   ]
  },
  {
   "cell_type": "code",
   "execution_count": 121,
   "id": "2327ac5a",
   "metadata": {},
   "outputs": [],
   "source": [
    "day_txt = '2022-08-15'"
   ]
  },
  {
   "cell_type": "code",
   "execution_count": 127,
   "id": "5848f873",
   "metadata": {},
   "outputs": [],
   "source": [
    "nc_file = os.path.join('JUNO/data/MUR_daily_fronts_netcdf/' + day_txt + '.nc')"
   ]
  },
  {
   "cell_type": "code",
   "execution_count": 128,
   "id": "5e2780b1",
   "metadata": {},
   "outputs": [
    {
     "data": {
      "text/plain": [
       "'JUNO/data/MUR_daily_fronts_netcdf/20220910.nc'"
      ]
     },
     "execution_count": 128,
     "metadata": {},
     "output_type": "execute_result"
    }
   ],
   "source": [
    "nc_file"
   ]
  },
  {
   "cell_type": "code",
   "execution_count": null,
   "id": "534726f1",
   "metadata": {},
   "outputs": [],
   "source": []
  }
 ],
 "metadata": {
  "kernelspec": {
   "display_name": "Python 3 (ipykernel)",
   "language": "python",
   "name": "python3"
  },
  "language_info": {
   "codemirror_mode": {
    "name": "ipython",
    "version": 3
   },
   "file_extension": ".py",
   "mimetype": "text/x-python",
   "name": "python",
   "nbconvert_exporter": "python",
   "pygments_lexer": "ipython3",
   "version": "3.8.10"
  }
 },
 "nbformat": 4,
 "nbformat_minor": 5
}
