{
 "cells": [
  {
   "cell_type": "code",
   "execution_count": 172,
   "id": "65ee32c7",
   "metadata": {},
   "outputs": [],
   "source": [
    "import numpy as np\n",
    "import datetime\n",
    "from datetime import date, timedelta\n",
    "import datetime\n",
    "import pandas as pd\n",
    "import math\n",
    "import itertools\n",
    "import time\n",
    "import netCDF4 as nc\n",
    "import xarray as xr\n",
    "import cv2\n",
    "from scipy.ndimage import gaussian_filter\n",
    "import matplotlib.pyplot as plt"
   ]
  },
  {
   "cell_type": "code",
   "execution_count": null,
   "id": "71d854c9",
   "metadata": {},
   "outputs": [],
   "source": []
  },
  {
   "cell_type": "code",
   "execution_count": 148,
   "id": "cf120817",
   "metadata": {},
   "outputs": [],
   "source": [
    "x = np.array([[1.1,2,3,4],[2,np.nan, 5, 6], [np.nan, 3, 4, 5]])"
   ]
  },
  {
   "cell_type": "code",
   "execution_count": 149,
   "id": "e7464113",
   "metadata": {},
   "outputs": [
    {
     "data": {
      "text/plain": [
       "array([[1.1, 2. , 3. , 4. ],\n",
       "       [2. , nan, 5. , 6. ],\n",
       "       [nan, 3. , 4. , 5. ]])"
      ]
     },
     "execution_count": 149,
     "metadata": {},
     "output_type": "execute_result"
    }
   ],
   "source": [
    "x"
   ]
  },
  {
   "cell_type": "code",
   "execution_count": 150,
   "id": "f18f7cf6",
   "metadata": {},
   "outputs": [],
   "source": [
    "x[x == 3] = np.nan"
   ]
  },
  {
   "cell_type": "code",
   "execution_count": 151,
   "id": "9ad9ed00",
   "metadata": {},
   "outputs": [
    {
     "data": {
      "text/plain": [
       "array([[1.1, 2. , nan, 4. ],\n",
       "       [2. , nan, 5. , 6. ],\n",
       "       [nan, nan, 4. , 5. ]])"
      ]
     },
     "execution_count": 151,
     "metadata": {},
     "output_type": "execute_result"
    }
   ],
   "source": [
    "x"
   ]
  },
  {
   "cell_type": "code",
   "execution_count": null,
   "id": "9e291574",
   "metadata": {},
   "outputs": [],
   "source": []
  },
  {
   "cell_type": "code",
   "execution_count": null,
   "id": "fa991766",
   "metadata": {},
   "outputs": [],
   "source": []
  },
  {
   "cell_type": "code",
   "execution_count": 158,
   "id": "c986bc23",
   "metadata": {},
   "outputs": [],
   "source": [
    "def get_data(data):\n",
    "    \n",
    "    \"\"\"\n",
    "    Function to get our netCDF file that is stored in the data directory and convert it to a dataframe.\n",
    "    The data parameter is the string name of the netCDF file we want to import\n",
    "    \"\"\"\n",
    "    \n",
    "    current_path = os.getcwd()\n",
    "    data_folder = os.path.join(current_path,\"../data\")\n",
    "    \n",
    "    nc_path = os.path.join(data_folder, data)\n",
    "    ds = nc.Dataset(nc_path)\n",
    "    netCDF = xr.load_dataset(nc_path)\n",
    "    \n",
    "    df = netCDF.to_dataframe()\n",
    "    df = df.reset_index()\n",
    "    \n",
    "    df = df.drop(['depth'], axis=1, errors='ignore') #drop the column 'depth' if exists: only exists in reanalysis\n",
    "    \n",
    "    #if MUR data, rename columns and convert temperature to Celsius (the data must be saved as 'mur...nc')\n",
    "    if data.startswith('mur'):\n",
    "        df.rename(columns={'lat': 'latitude', 'lon': 'longitude', 'time': 'time', 'analysed_sst':'thetao'}, inplace=True)\n",
    "        df['thetao'] = df['thetao']-273.15   \n",
    "        \n",
    "    \n",
    "    return df"
   ]
  },
  {
   "cell_type": "code",
   "execution_count": 159,
   "id": "0412851b",
   "metadata": {},
   "outputs": [],
   "source": [
    "df_ex = get_data('sst_20220615.nc')"
   ]
  },
  {
   "cell_type": "code",
   "execution_count": 162,
   "id": "2edee17f",
   "metadata": {},
   "outputs": [
    {
     "data": {
      "text/html": [
       "<div>\n",
       "<style scoped>\n",
       "    .dataframe tbody tr th:only-of-type {\n",
       "        vertical-align: middle;\n",
       "    }\n",
       "\n",
       "    .dataframe tbody tr th {\n",
       "        vertical-align: top;\n",
       "    }\n",
       "\n",
       "    .dataframe thead th {\n",
       "        text-align: right;\n",
       "    }\n",
       "</style>\n",
       "<table border=\"1\" class=\"dataframe\">\n",
       "  <thead>\n",
       "    <tr style=\"text-align: right;\">\n",
       "      <th></th>\n",
       "      <th>lat</th>\n",
       "      <th>lon</th>\n",
       "      <th>time</th>\n",
       "      <th>analysed_sst</th>\n",
       "    </tr>\n",
       "  </thead>\n",
       "  <tbody>\n",
       "    <tr>\n",
       "      <th>0</th>\n",
       "      <td>35.0</td>\n",
       "      <td>-19.000000</td>\n",
       "      <td>2022-06-15 09:00:00</td>\n",
       "      <td>292.756989</td>\n",
       "    </tr>\n",
       "    <tr>\n",
       "      <th>1</th>\n",
       "      <td>35.0</td>\n",
       "      <td>-18.990000</td>\n",
       "      <td>2022-06-15 09:00:00</td>\n",
       "      <td>292.744995</td>\n",
       "    </tr>\n",
       "    <tr>\n",
       "      <th>2</th>\n",
       "      <td>35.0</td>\n",
       "      <td>-18.980000</td>\n",
       "      <td>2022-06-15 09:00:00</td>\n",
       "      <td>292.733002</td>\n",
       "    </tr>\n",
       "    <tr>\n",
       "      <th>3</th>\n",
       "      <td>35.0</td>\n",
       "      <td>-18.969999</td>\n",
       "      <td>2022-06-15 09:00:00</td>\n",
       "      <td>292.721985</td>\n",
       "    </tr>\n",
       "    <tr>\n",
       "      <th>4</th>\n",
       "      <td>35.0</td>\n",
       "      <td>-18.959999</td>\n",
       "      <td>2022-06-15 09:00:00</td>\n",
       "      <td>292.709991</td>\n",
       "    </tr>\n",
       "    <tr>\n",
       "      <th>...</th>\n",
       "      <td>...</td>\n",
       "      <td>...</td>\n",
       "      <td>...</td>\n",
       "      <td>...</td>\n",
       "    </tr>\n",
       "    <tr>\n",
       "      <th>1402396</th>\n",
       "      <td>45.0</td>\n",
       "      <td>-5.040000</td>\n",
       "      <td>2022-06-15 09:00:00</td>\n",
       "      <td>291.488007</td>\n",
       "    </tr>\n",
       "    <tr>\n",
       "      <th>1402397</th>\n",
       "      <td>45.0</td>\n",
       "      <td>-5.030000</td>\n",
       "      <td>2022-06-15 09:00:00</td>\n",
       "      <td>291.488983</td>\n",
       "    </tr>\n",
       "    <tr>\n",
       "      <th>1402398</th>\n",
       "      <td>45.0</td>\n",
       "      <td>-5.020000</td>\n",
       "      <td>2022-06-15 09:00:00</td>\n",
       "      <td>291.489990</td>\n",
       "    </tr>\n",
       "    <tr>\n",
       "      <th>1402399</th>\n",
       "      <td>45.0</td>\n",
       "      <td>-5.010000</td>\n",
       "      <td>2022-06-15 09:00:00</td>\n",
       "      <td>291.489990</td>\n",
       "    </tr>\n",
       "    <tr>\n",
       "      <th>1402400</th>\n",
       "      <td>45.0</td>\n",
       "      <td>-5.000000</td>\n",
       "      <td>2022-06-15 09:00:00</td>\n",
       "      <td>291.488983</td>\n",
       "    </tr>\n",
       "  </tbody>\n",
       "</table>\n",
       "<p>1402401 rows × 4 columns</p>\n",
       "</div>"
      ],
      "text/plain": [
       "          lat        lon                time  analysed_sst\n",
       "0        35.0 -19.000000 2022-06-15 09:00:00    292.756989\n",
       "1        35.0 -18.990000 2022-06-15 09:00:00    292.744995\n",
       "2        35.0 -18.980000 2022-06-15 09:00:00    292.733002\n",
       "3        35.0 -18.969999 2022-06-15 09:00:00    292.721985\n",
       "4        35.0 -18.959999 2022-06-15 09:00:00    292.709991\n",
       "...       ...        ...                 ...           ...\n",
       "1402396  45.0  -5.040000 2022-06-15 09:00:00    291.488007\n",
       "1402397  45.0  -5.030000 2022-06-15 09:00:00    291.488983\n",
       "1402398  45.0  -5.020000 2022-06-15 09:00:00    291.489990\n",
       "1402399  45.0  -5.010000 2022-06-15 09:00:00    291.489990\n",
       "1402400  45.0  -5.000000 2022-06-15 09:00:00    291.488983\n",
       "\n",
       "[1402401 rows x 4 columns]"
      ]
     },
     "execution_count": 162,
     "metadata": {},
     "output_type": "execute_result"
    }
   ],
   "source": [
    "df_ex"
   ]
  },
  {
   "cell_type": "code",
   "execution_count": 181,
   "id": "d492bd34",
   "metadata": {},
   "outputs": [],
   "source": [
    "\n",
    "\n",
    "# Convert the df to a numpy array with the SST values for the coordinate pair (longitude and latitude)\n",
    "sst = df_ex.pivot_table(index='lon', columns='lat', values='analysed_sst').T.values\n",
    "#Convert Temperature values to uint8 format with values in the range of 0-255\n",
    "sst_final = ((sst - np.nanmin(sst)) * (1/(np.nanmax(sst) - np.nanmin(sst)) * 255)).astype('uint8')\n",
    "sst_final = np.flipud(sst_final)   #flipud -> Reverse the order of elements along axis 0 (up/down).\n",
    "#in case we want to apply a gaussian filter with a certain sigma value (by default is 0)\n",
    "sst_final = gaussian_filter(sst_final, sigma=5)   \n",
    "\n",
    "\n",
    "#apply the canny algorithm and plot the image with the edges\n",
    "canny = cv2.Canny(sst_final, 120, 220, apertureSize=5, L2gradient=False)\n",
    "\n",
    "#Apply a mask for the continental zone:\n",
    "mask = np.isnan(np.flipud(sst))    #Boolean array: True where array Temp had Null Values (correspond to the continental zone)\n",
    "mask255 =np.where(mask,(np.ones(mask.shape))*255,0).astype(\"uint8\")   #array which values= 255 when mask=True\n",
    "#Dilation to ensure that the pixels that belong to the \"shore/continental zone\" are not considered fronts \n",
    "kernel = np.ones((3,3), np.uint8)\n",
    "mask_dilated = cv2.dilate(mask255, kernel)\n",
    "canny_front =np.ma.masked_where(mask_dilated==255, canny)   #Mask an array where a condition is True\n",
    "\n",
    "canny_front[canny_front == 255] = 1\n",
    "\n",
    "#canny_front = np.flipud(canny_front) \n",
    "\n"
   ]
  },
  {
   "cell_type": "code",
   "execution_count": 182,
   "id": "59ffe307",
   "metadata": {},
   "outputs": [
    {
     "data": {
      "text/plain": [
       "<matplotlib.image.AxesImage at 0x7f44bdee7130>"
      ]
     },
     "execution_count": 182,
     "metadata": {},
     "output_type": "execute_result"
    },
    {
     "data": {
      "image/png": "[encoded data removed]",
      "text/plain": [
       "<Figure size 432x288 with 1 Axes>"
      ]
     },
     "metadata": {
      "needs_background": "light"
     },
     "output_type": "display_data"
    }
   ],
   "source": [
    "plt.imshow(canny_front)"
   ]
  },
  {
   "cell_type": "code",
   "execution_count": 183,
   "id": "8d907a2f",
   "metadata": {},
   "outputs": [
    {
     "data": {
      "text/plain": [
       "1"
      ]
     },
     "execution_count": 183,
     "metadata": {},
     "output_type": "execute_result"
    }
   ],
   "source": [
    "canny_front.max()"
   ]
  },
  {
   "cell_type": "code",
   "execution_count": null,
   "id": "5ef42ceb",
   "metadata": {},
   "outputs": [],
   "source": []
  },
  {
   "cell_type": "code",
   "execution_count": null,
   "id": "7e11614d",
   "metadata": {},
   "outputs": [],
   "source": []
  }
 ],
 "metadata": {
  "kernelspec": {
   "display_name": "Python 3 (ipykernel)",
   "language": "python",
   "name": "python3"
  },
  "language_info": {
   "codemirror_mode": {
    "name": "ipython",
    "version": 3
   },
   "file_extension": ".py",
   "mimetype": "text/x-python",
   "name": "python",
   "nbconvert_exporter": "python",
   "pygments_lexer": "ipython3",
   "version": "3.8.10"
  }
 },
 "nbformat": 4,
 "nbformat_minor": 5
}
