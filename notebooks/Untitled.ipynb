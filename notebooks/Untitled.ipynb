{
 "cells": [
  {
   "cell_type": "code",
   "execution_count": 347,
   "id": "65ee32c7",
   "metadata": {},
   "outputs": [],
   "source": [
    "import numpy as np\n",
    "import datetime\n",
    "from datetime import timedelta\n",
    "import pandas as pd\n",
    "import math\n",
    "import itertools\n",
    "import time"
   ]
  },
  {
   "cell_type": "code",
   "execution_count": null,
   "id": "f726c4e5",
   "metadata": {},
   "outputs": [],
   "source": []
  },
  {
   "cell_type": "code",
   "execution_count": 331,
   "id": "05c58dae",
   "metadata": {},
   "outputs": [],
   "source": [
    "g = 4     #gap between consecutive prime numbers\n",
    "m = 130   #start of search (inclusive)\n",
    "n = 200   #end of search (inclusive)"
   ]
  },
  {
   "cell_type": "code",
   "execution_count": null,
   "id": "0c1fb226",
   "metadata": {},
   "outputs": [],
   "source": []
  },
  {
   "cell_type": "code",
   "execution_count": 334,
   "id": "089a78ac",
   "metadata": {},
   "outputs": [],
   "source": [
    "#LINHA PARA CRIAR LISTA COM TODOS OS NRS PRIMOS ATE n\n",
    "\n",
    "primes = []\n",
    "for possibleprime in range(m, n+1):\n",
    "    isPrime = True\n",
    "    for num in range(2, possibleprime):\n",
    "        if possibleprime % num == 0:\n",
    "            isPrime = False\n",
    "    if isPrime:\n",
    "        primes.append(possibleprime)"
   ]
  },
  {
   "cell_type": "code",
   "execution_count": 335,
   "id": "b276618f",
   "metadata": {},
   "outputs": [
    {
     "data": {
      "text/plain": [
       "[131, 137, 139, 149, 151, 157, 163, 167, 173, 179, 181, 191, 193, 197, 199]"
      ]
     },
     "execution_count": 335,
     "metadata": {},
     "output_type": "execute_result"
    }
   ],
   "source": [
    "primes"
   ]
  },
  {
   "cell_type": "code",
   "execution_count": null,
   "id": "086dd72d",
   "metadata": {},
   "outputs": [],
   "source": []
  },
  {
   "cell_type": "code",
   "execution_count": 341,
   "id": "6dbf94ab",
   "metadata": {},
   "outputs": [],
   "source": [
    "res = []\n",
    "for i in range(len(primes)-1):\n",
    "    if primes[i+1] - primes[i] == g:\n",
    "        res.append([[primes[i], primes[i+1]]])\n",
    "    "
   ]
  },
  {
   "cell_type": "code",
   "execution_count": 342,
   "id": "3a3b7b23",
   "metadata": {},
   "outputs": [
    {
     "data": {
      "text/plain": [
       "[[[163, 167]], [[193, 197]]]"
      ]
     },
     "execution_count": 342,
     "metadata": {},
     "output_type": "execute_result"
    }
   ],
   "source": [
    "res"
   ]
  },
  {
   "cell_type": "code",
   "execution_count": 361,
   "id": "1301ca0a",
   "metadata": {},
   "outputs": [],
   "source": [
    "def gap(g,m,n):\n",
    "    \n",
    "    start = time.time()\n",
    "    \n",
    "    primes = []\n",
    "    for possibleprime in range(m, n+1):\n",
    "        isPrime = True\n",
    "        for num in range(2, possibleprime):\n",
    "            if possibleprime % num == 0:\n",
    "                isPrime = False\n",
    "        if isPrime:\n",
    "            primes.append(possibleprime)\n",
    "    \n",
    "    resultado = []\n",
    "    for i in range(len(primes)-1):\n",
    "        if primes[i+1] - primes[i] == g:\n",
    "            resultado.append(primes[i])\n",
    "            resultado.append(primes[i+1])\n",
    "            break\n",
    "    \n",
    "    end = time.time()\n",
    "            \n",
    "    print(f'It took {(end-start)*1000}ms to run this shit')\n",
    "            \n",
    "    if len(resultado) == 0:\n",
    "        return None\n",
    "    else:\n",
    "        return resultado\n",
    "    "
   ]
  },
  {
   "cell_type": "code",
   "execution_count": 362,
   "id": "3fd4a2fc",
   "metadata": {},
   "outputs": [
    {
     "name": "stdout",
     "output_type": "stream",
     "text": [
      "It took 0.2789497375488281ms to run this shit\n"
     ]
    },
    {
     "data": {
      "text/plain": [
       "[163, 167]"
      ]
     },
     "execution_count": 362,
     "metadata": {},
     "output_type": "execute_result"
    }
   ],
   "source": [
    "gap(4,130,200)"
   ]
  },
  {
   "cell_type": "code",
   "execution_count": null,
   "id": "a09ff5c4",
   "metadata": {},
   "outputs": [],
   "source": []
  },
  {
   "cell_type": "code",
   "execution_count": null,
   "id": "8e75f64d",
   "metadata": {},
   "outputs": [],
   "source": []
  },
  {
   "cell_type": "code",
   "execution_count": 385,
   "id": "0b125552",
   "metadata": {},
   "outputs": [],
   "source": [
    "def gap(g,m,n):\n",
    "    \n",
    "    start = time.time()\n",
    "    \n",
    "    if m % 2 == 0:\n",
    "        m = m+1\n",
    "    \n",
    "    primes = []\n",
    "    for possibleprime in range(m, n+1, 2):\n",
    "        isPrime = True\n",
    "        for num in range(2, possibleprime):\n",
    "            if possibleprime % num == 0:\n",
    "                isPrime = False\n",
    "        if isPrime:\n",
    "            primes.append(possibleprime)\n",
    "    \n",
    "    \n",
    "    resultado = [[primes[i], primes[i+1]] for i in range(len(primes)-1) if primes[i+1]-primes[i] == g]\n",
    "    \n",
    "    end = time.time()\n",
    "            \n",
    "    print(f'It took {(end-start)*1000}ms to run this shit')\n",
    "            \n",
    "    if len(resultado) == 0:\n",
    "        return None\n",
    "    else:\n",
    "        return resultado\n",
    "    "
   ]
  },
  {
   "cell_type": "code",
   "execution_count": null,
   "id": "91ac3551",
   "metadata": {},
   "outputs": [],
   "source": []
  },
  {
   "cell_type": "code",
   "execution_count": 358,
   "id": "fc994c2d",
   "metadata": {},
   "outputs": [
    {
     "name": "stdout",
     "output_type": "stream",
     "text": [
      "It took 0.9925365447998047ms to run this shit\n"
     ]
    },
    {
     "data": {
      "text/plain": [
       "[[163, 167], [193, 197]]"
      ]
     },
     "execution_count": 358,
     "metadata": {},
     "output_type": "execute_result"
    }
   ],
   "source": [
    "gap(4,130,200)"
   ]
  },
  {
   "cell_type": "code",
   "execution_count": null,
   "id": "872c42a6",
   "metadata": {},
   "outputs": [],
   "source": []
  },
  {
   "cell_type": "code",
   "execution_count": null,
   "id": "62c6398e",
   "metadata": {},
   "outputs": [],
   "source": []
  },
  {
   "cell_type": "code",
   "execution_count": null,
   "id": "655cd67b",
   "metadata": {},
   "outputs": [],
   "source": [
    "import math"
   ]
  },
  {
   "cell_type": "code",
   "execution_count": 390,
   "id": "fadd1434",
   "metadata": {},
   "outputs": [],
   "source": [
    "def gap3(g,m,n):\n",
    "    \n",
    "    start = time.time()\n",
    "    \n",
    "    if m % 2 == 0:\n",
    "        m = m+1\n",
    "    \n",
    "    primes = []\n",
    "    for num in range(m,n+1,2):\n",
    "        if all(num%i!=0 for i in range(2,int(math.sqrt(num))+1)):\n",
    "            primes.append(num)\n",
    "    \n",
    "    resultado = []\n",
    "    for i in range(len(primes)-1):\n",
    "        if primes[i+1] - primes[i] == g:\n",
    "            resultado.append(primes[i])\n",
    "            resultado.append(primes[i+1])\n",
    "            break\n",
    "    \n",
    "    end = time.time()\n",
    "            \n",
    "    print(f'It took {(end-start)*1000}ms to run this shit')\n",
    "            \n",
    "    if len(resultado) == 0:\n",
    "        return None\n",
    "    else:\n",
    "        return resultado"
   ]
  },
  {
   "cell_type": "code",
   "execution_count": null,
   "id": "06a1faf8",
   "metadata": {},
   "outputs": [],
   "source": []
  },
  {
   "cell_type": "code",
   "execution_count": 391,
   "id": "be264f59",
   "metadata": {},
   "outputs": [
    {
     "name": "stdout",
     "output_type": "stream",
     "text": [
      "It took 0.031948089599609375ms to run this shit\n"
     ]
    },
    {
     "data": {
      "text/plain": [
       "[163, 167]"
      ]
     },
     "execution_count": 391,
     "metadata": {},
     "output_type": "execute_result"
    }
   ],
   "source": [
    "gap3(4,130,200)"
   ]
  },
  {
   "cell_type": "code",
   "execution_count": null,
   "id": "5a5a39ce",
   "metadata": {},
   "outputs": [],
   "source": []
  },
  {
   "cell_type": "code",
   "execution_count": 383,
   "id": "86336d4c",
   "metadata": {},
   "outputs": [],
   "source": [
    "primes = []\n",
    "for num in range(m,n+1):\n",
    "    if all(num%i!=0 for i in range(2,int(math.sqrt(num))+1)):\n",
    "        primes.append(num)\n"
   ]
  },
  {
   "cell_type": "code",
   "execution_count": 384,
   "id": "ce76d0f9",
   "metadata": {},
   "outputs": [
    {
     "data": {
      "text/plain": [
       "[131, 137, 139, 149, 151, 157, 163, 167, 173, 179, 181, 191, 193, 197, 199]"
      ]
     },
     "execution_count": 384,
     "metadata": {},
     "output_type": "execute_result"
    }
   ],
   "source": [
    "primes"
   ]
  },
  {
   "cell_type": "code",
   "execution_count": null,
   "id": "40d25b70",
   "metadata": {},
   "outputs": [],
   "source": []
  },
  {
   "cell_type": "code",
   "execution_count": null,
   "id": "fa02ce0d",
   "metadata": {},
   "outputs": [],
   "source": []
  },
  {
   "cell_type": "code",
   "execution_count": null,
   "id": "52227a40",
   "metadata": {},
   "outputs": [],
   "source": []
  },
  {
   "cell_type": "code",
   "execution_count": 393,
   "id": "9a1c7585",
   "metadata": {},
   "outputs": [],
   "source": [
    "def gap4(g,m,n):\n",
    "    \n",
    "    start = time.time()\n",
    "    \n",
    "    if m % 2 == 0:\n",
    "        m = m+1\n",
    "    \n",
    "    primes = []\n",
    "    for num in range(m,n+1,2):\n",
    "        if all(num%i!=0 for i in range(2,int(math.sqrt(num))+1)):\n",
    "            primes.append(num)\n",
    "            \n",
    "            \n",
    "    resultado = [[primes[i], primes[i+1]] for i in range(len(primes)-1) if primes[i+1]-primes[i] == g]\n",
    "    resultado = resultado[0]\n",
    "    \n",
    "\n",
    "    end = time.time()\n",
    "            \n",
    "    print(f'It took {(end-start)*1000}ms to run this shit')\n",
    "            \n",
    "    if len(resultado) == 0:\n",
    "        return None\n",
    "    else:\n",
    "        return resultado"
   ]
  },
  {
   "cell_type": "code",
   "execution_count": 394,
   "id": "2a9e1e81",
   "metadata": {},
   "outputs": [
    {
     "name": "stdout",
     "output_type": "stream",
     "text": [
      "It took 0.03504753112792969ms to run this shit\n"
     ]
    },
    {
     "data": {
      "text/plain": [
       "[163, 167]"
      ]
     },
     "execution_count": 394,
     "metadata": {},
     "output_type": "execute_result"
    }
   ],
   "source": [
    "gap3(4,130,200)"
   ]
  },
  {
   "cell_type": "code",
   "execution_count": null,
   "id": "1c1fcbb1",
   "metadata": {},
   "outputs": [],
   "source": []
  },
  {
   "cell_type": "code",
   "execution_count": null,
   "id": "145cb8a1",
   "metadata": {},
   "outputs": [],
   "source": []
  },
  {
   "cell_type": "code",
   "execution_count": null,
   "id": "da1dbd52",
   "metadata": {},
   "outputs": [],
   "source": []
  }
 ],
 "metadata": {
  "kernelspec": {
   "display_name": "Python 3 (ipykernel)",
   "language": "python",
   "name": "python3"
  },
  "language_info": {
   "codemirror_mode": {
    "name": "ipython",
    "version": 3
   },
   "file_extension": ".py",
   "mimetype": "text/x-python",
   "name": "python",
   "nbconvert_exporter": "python",
   "pygments_lexer": "ipython3",
   "version": "3.8.10"
  }
 },
 "nbformat": 4,
 "nbformat_minor": 5
}
