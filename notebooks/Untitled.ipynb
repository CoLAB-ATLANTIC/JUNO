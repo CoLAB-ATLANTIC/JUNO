{
 "cells": [
  {
   "cell_type": "code",
   "execution_count": 244,
   "id": "65ee32c7",
   "metadata": {},
   "outputs": [],
   "source": [
    "import numpy as np\n",
    "import datetime\n",
    "from datetime import timedelta\n",
    "import pandas as pd\n",
    "import math\n",
    "import itertools"
   ]
  },
  {
   "cell_type": "code",
   "execution_count": null,
   "id": "6363965a",
   "metadata": {},
   "outputs": [],
   "source": []
  },
  {
   "cell_type": "code",
   "execution_count": null,
   "id": "d24eabb0",
   "metadata": {},
   "outputs": [],
   "source": []
  },
  {
   "cell_type": "code",
   "execution_count": null,
   "id": "bd0ac97b",
   "metadata": {},
   "outputs": [],
   "source": []
  },
  {
   "cell_type": "code",
   "execution_count": 273,
   "id": "4516e99a",
   "metadata": {},
   "outputs": [],
   "source": [
    "s = ' 56 65 74 100 99 68 68    90 86 180 90    '\n",
    "s2 = s.strip()\n",
    "lista = s2.split(' ')\n",
    "lista = [i for i in lista if i]\n",
    "\n",
    "my_list = []\n",
    "for i in range(len(lista)):\n",
    "    j = 0\n",
    "    valor = 0\n",
    "    while j < len(lista[i]):\n",
    "        valor = valor + int(lista[i][j])\n",
    "        j += 1\n",
    "    my_list.append([lista[i], valor])\n",
    "    \n",
    "from operator import itemgetter\n",
    "x = sorted(my_list, key=itemgetter(1))\n",
    "    \n",
    "d = collections.defaultdict(list)\n",
    "for sub in x:\n",
    "    d[sub[1]].append(sub[0])\n",
    "    \n",
    "lista_final = [(k, v) for k, v in d.items()]\n",
    "\n",
    "lista = []\n",
    "for i in range(len(lista_final)):\n",
    "    aux = lista_final[i][1]\n",
    "    aux.sort(key = str)\n",
    "    lista.append(aux)\n",
    "    \n",
    "res = [item for sublist in lista for item in sublist]\n",
    "\n",
    "resultado = ' '.join(res)"
   ]
  },
  {
   "cell_type": "code",
   "execution_count": 274,
   "id": "a0ba29aa",
   "metadata": {},
   "outputs": [
    {
     "data": {
      "text/plain": [
       "'100 180 90 90 56 65 74 68 68 86 99'"
      ]
     },
     "execution_count": 274,
     "metadata": {},
     "output_type": "execute_result"
    }
   ],
   "source": [
    "resultado"
   ]
  },
  {
   "cell_type": "code",
   "execution_count": null,
   "id": "8dd08c85",
   "metadata": {},
   "outputs": [],
   "source": []
  },
  {
   "cell_type": "code",
   "execution_count": 275,
   "id": "1670dfd1",
   "metadata": {},
   "outputs": [],
   "source": [
    "def order_weight(_str):\n",
    "    \n",
    "    return ' '.join(sorted(sorted(_str.split(' ')), key=lambda x: sum(int(c) for c in x)))"
   ]
  },
  {
   "cell_type": "code",
   "execution_count": 278,
   "id": "0c1631be",
   "metadata": {},
   "outputs": [
    {
     "data": {
      "text/plain": [
       "'       100 180 90 90 56 65 74 68 68 86 99'"
      ]
     },
     "execution_count": 278,
     "metadata": {},
     "output_type": "execute_result"
    }
   ],
   "source": [
    "order_weight('56 65 74 100 99 68 68    90 86 180 90    ')"
   ]
  },
  {
   "cell_type": "code",
   "execution_count": null,
   "id": "0c336990",
   "metadata": {},
   "outputs": [],
   "source": []
  }
 ],
 "metadata": {
  "kernelspec": {
   "display_name": "Python 3 (ipykernel)",
   "language": "python",
   "name": "python3"
  },
  "language_info": {
   "codemirror_mode": {
    "name": "ipython",
    "version": 3
   },
   "file_extension": ".py",
   "mimetype": "text/x-python",
   "name": "python",
   "nbconvert_exporter": "python",
   "pygments_lexer": "ipython3",
   "version": "3.8.10"
  }
 },
 "nbformat": 4,
 "nbformat_minor": 5
}
