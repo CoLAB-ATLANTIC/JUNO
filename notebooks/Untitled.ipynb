{
 "cells": [
  {
   "cell_type": "code",
   "execution_count": 65,
   "id": "65ee32c7",
   "metadata": {},
   "outputs": [],
   "source": [
    "\n",
    "import datetime\n",
    "from datetime import date, timedelta\n",
    "import math\n",
    "import itertools\n",
    "import time\n",
    "import cv2\n",
    "from scipy.ndimage import gaussian_filter\n",
    "\n",
    "import pandas as pd\n",
    "import numpy as np\n",
    "import matplotlib.pyplot as plt\n",
    "import seaborn as sns\n",
    "import netCDF4 as nc\n",
    "import xarray as xr\n",
    "import os\n",
    "from pathlib import Path\n",
    "from numpy import nanmedian\n",
    "import scipy\n",
    "import scipy.signal\n",
    "import math\n",
    "from numpy.fft import fft2\n",
    "import cmocean\n",
    "import matplotlib\n",
    "from matplotlib.colors import ListedColormap\n",
    "plt.rcParams[\"figure.figsize\"] = 14, 12\n",
    "%matplotlib inline"
   ]
  },
  {
   "cell_type": "code",
   "execution_count": null,
   "id": "71d854c9",
   "metadata": {},
   "outputs": [],
   "source": []
  },
  {
   "cell_type": "code",
   "execution_count": null,
   "id": "e4e3fd4a",
   "metadata": {},
   "outputs": [],
   "source": []
  },
  {
   "cell_type": "code",
   "execution_count": null,
   "id": "5bb88553",
   "metadata": {},
   "outputs": [],
   "source": []
  },
  {
   "cell_type": "code",
   "execution_count": 66,
   "id": "33f8700b",
   "metadata": {},
   "outputs": [],
   "source": [
    "def get_data(data):\n",
    "    \n",
    "    \"\"\"\n",
    "    Function to get our netCDF file that is stored in the data directory and convert it to a dataframe.\n",
    "    The data parameter is the string name of the netCDF file we want to import\n",
    "    \"\"\"\n",
    "    \n",
    "    current_path = os.getcwd()\n",
    "    data_folder = os.path.join(current_path,\"../data\")\n",
    "    \n",
    "    nc_path = os.path.join(data_folder, data)\n",
    "    ds = nc.Dataset(nc_path)\n",
    "    netCDF = xr.load_dataset(nc_path)\n",
    "    \n",
    "    df = netCDF.to_dataframe()\n",
    "    df = df.reset_index()\n",
    "    \n",
    "    df = df.drop(['depth'], axis=1, errors='ignore') #drop the column 'depth' if exists: only exists in reanalysis\n",
    "    \n",
    "    #if MUR data, rename columns and convert temperature to Celsius (the data must be saved as 'mur...nc')\n",
    "    if data.startswith('mur') or data.startswith('sst'): \n",
    "        df.rename(columns={'lat': 'latitude', 'lon': 'longitude', 'time': 'time', 'analysed_sst':'thetao'}, inplace=True)\n",
    "        df['thetao'] = df['thetao']-273.15   \n",
    "        \n",
    "    \n",
    "    return df"
   ]
  },
  {
   "cell_type": "code",
   "execution_count": 69,
   "id": "d01129ce",
   "metadata": {},
   "outputs": [],
   "source": [
    "df_ex = get_data('sst_20220615.nc')"
   ]
  },
  {
   "cell_type": "code",
   "execution_count": 70,
   "id": "8c185a74",
   "metadata": {},
   "outputs": [
    {
     "data": {
      "text/html": [
       "<div>\n",
       "<style scoped>\n",
       "    .dataframe tbody tr th:only-of-type {\n",
       "        vertical-align: middle;\n",
       "    }\n",
       "\n",
       "    .dataframe tbody tr th {\n",
       "        vertical-align: top;\n",
       "    }\n",
       "\n",
       "    .dataframe thead th {\n",
       "        text-align: right;\n",
       "    }\n",
       "</style>\n",
       "<table border=\"1\" class=\"dataframe\">\n",
       "  <thead>\n",
       "    <tr style=\"text-align: right;\">\n",
       "      <th></th>\n",
       "      <th>latitude</th>\n",
       "      <th>longitude</th>\n",
       "      <th>time</th>\n",
       "      <th>thetao</th>\n",
       "    </tr>\n",
       "  </thead>\n",
       "  <tbody>\n",
       "    <tr>\n",
       "      <th>0</th>\n",
       "      <td>35.0</td>\n",
       "      <td>-19.000000</td>\n",
       "      <td>2022-06-15 09:00:00</td>\n",
       "      <td>19.606995</td>\n",
       "    </tr>\n",
       "    <tr>\n",
       "      <th>1</th>\n",
       "      <td>35.0</td>\n",
       "      <td>-18.990000</td>\n",
       "      <td>2022-06-15 09:00:00</td>\n",
       "      <td>19.595001</td>\n",
       "    </tr>\n",
       "    <tr>\n",
       "      <th>2</th>\n",
       "      <td>35.0</td>\n",
       "      <td>-18.980000</td>\n",
       "      <td>2022-06-15 09:00:00</td>\n",
       "      <td>19.583008</td>\n",
       "    </tr>\n",
       "    <tr>\n",
       "      <th>3</th>\n",
       "      <td>35.0</td>\n",
       "      <td>-18.969999</td>\n",
       "      <td>2022-06-15 09:00:00</td>\n",
       "      <td>19.571991</td>\n",
       "    </tr>\n",
       "    <tr>\n",
       "      <th>4</th>\n",
       "      <td>35.0</td>\n",
       "      <td>-18.959999</td>\n",
       "      <td>2022-06-15 09:00:00</td>\n",
       "      <td>19.559998</td>\n",
       "    </tr>\n",
       "    <tr>\n",
       "      <th>...</th>\n",
       "      <td>...</td>\n",
       "      <td>...</td>\n",
       "      <td>...</td>\n",
       "      <td>...</td>\n",
       "    </tr>\n",
       "    <tr>\n",
       "      <th>1402396</th>\n",
       "      <td>45.0</td>\n",
       "      <td>-5.040000</td>\n",
       "      <td>2022-06-15 09:00:00</td>\n",
       "      <td>18.338013</td>\n",
       "    </tr>\n",
       "    <tr>\n",
       "      <th>1402397</th>\n",
       "      <td>45.0</td>\n",
       "      <td>-5.030000</td>\n",
       "      <td>2022-06-15 09:00:00</td>\n",
       "      <td>18.338989</td>\n",
       "    </tr>\n",
       "    <tr>\n",
       "      <th>1402398</th>\n",
       "      <td>45.0</td>\n",
       "      <td>-5.020000</td>\n",
       "      <td>2022-06-15 09:00:00</td>\n",
       "      <td>18.339996</td>\n",
       "    </tr>\n",
       "    <tr>\n",
       "      <th>1402399</th>\n",
       "      <td>45.0</td>\n",
       "      <td>-5.010000</td>\n",
       "      <td>2022-06-15 09:00:00</td>\n",
       "      <td>18.339996</td>\n",
       "    </tr>\n",
       "    <tr>\n",
       "      <th>1402400</th>\n",
       "      <td>45.0</td>\n",
       "      <td>-5.000000</td>\n",
       "      <td>2022-06-15 09:00:00</td>\n",
       "      <td>18.338989</td>\n",
       "    </tr>\n",
       "  </tbody>\n",
       "</table>\n",
       "<p>1402401 rows × 4 columns</p>\n",
       "</div>"
      ],
      "text/plain": [
       "         latitude  longitude                time     thetao\n",
       "0            35.0 -19.000000 2022-06-15 09:00:00  19.606995\n",
       "1            35.0 -18.990000 2022-06-15 09:00:00  19.595001\n",
       "2            35.0 -18.980000 2022-06-15 09:00:00  19.583008\n",
       "3            35.0 -18.969999 2022-06-15 09:00:00  19.571991\n",
       "4            35.0 -18.959999 2022-06-15 09:00:00  19.559998\n",
       "...           ...        ...                 ...        ...\n",
       "1402396      45.0  -5.040000 2022-06-15 09:00:00  18.338013\n",
       "1402397      45.0  -5.030000 2022-06-15 09:00:00  18.338989\n",
       "1402398      45.0  -5.020000 2022-06-15 09:00:00  18.339996\n",
       "1402399      45.0  -5.010000 2022-06-15 09:00:00  18.339996\n",
       "1402400      45.0  -5.000000 2022-06-15 09:00:00  18.338989\n",
       "\n",
       "[1402401 rows x 4 columns]"
      ]
     },
     "execution_count": 70,
     "metadata": {},
     "output_type": "execute_result"
    }
   ],
   "source": [
    "df_ex"
   ]
  },
  {
   "cell_type": "code",
   "execution_count": null,
   "id": "2b9f63ef",
   "metadata": {},
   "outputs": [],
   "source": []
  },
  {
   "cell_type": "code",
   "execution_count": 67,
   "id": "8adabe7a",
   "metadata": {},
   "outputs": [],
   "source": [
    "cmems = get_data('CMEMS_forecast_2022-07-18.nc')"
   ]
  },
  {
   "cell_type": "code",
   "execution_count": 68,
   "id": "99693a27",
   "metadata": {},
   "outputs": [
    {
     "data": {
      "text/html": [
       "<div>\n",
       "<style scoped>\n",
       "    .dataframe tbody tr th:only-of-type {\n",
       "        vertical-align: middle;\n",
       "    }\n",
       "\n",
       "    .dataframe tbody tr th {\n",
       "        vertical-align: top;\n",
       "    }\n",
       "\n",
       "    .dataframe thead th {\n",
       "        text-align: right;\n",
       "    }\n",
       "</style>\n",
       "<table border=\"1\" class=\"dataframe\">\n",
       "  <thead>\n",
       "    <tr style=\"text-align: right;\">\n",
       "      <th></th>\n",
       "      <th>latitude</th>\n",
       "      <th>longitude</th>\n",
       "      <th>time</th>\n",
       "      <th>thetao</th>\n",
       "    </tr>\n",
       "  </thead>\n",
       "  <tbody>\n",
       "    <tr>\n",
       "      <th>0</th>\n",
       "      <td>35.0</td>\n",
       "      <td>-19.000000</td>\n",
       "      <td>2022-07-18 12:30:00</td>\n",
       "      <td>21.688000</td>\n",
       "    </tr>\n",
       "    <tr>\n",
       "      <th>1</th>\n",
       "      <td>35.0</td>\n",
       "      <td>-18.972221</td>\n",
       "      <td>2022-07-18 12:30:00</td>\n",
       "      <td>21.656000</td>\n",
       "    </tr>\n",
       "    <tr>\n",
       "      <th>2</th>\n",
       "      <td>35.0</td>\n",
       "      <td>-18.944445</td>\n",
       "      <td>2022-07-18 12:30:00</td>\n",
       "      <td>21.605000</td>\n",
       "    </tr>\n",
       "    <tr>\n",
       "      <th>3</th>\n",
       "      <td>35.0</td>\n",
       "      <td>-18.916666</td>\n",
       "      <td>2022-07-18 12:30:00</td>\n",
       "      <td>21.563000</td>\n",
       "    </tr>\n",
       "    <tr>\n",
       "      <th>4</th>\n",
       "      <td>35.0</td>\n",
       "      <td>-18.888889</td>\n",
       "      <td>2022-07-18 12:30:00</td>\n",
       "      <td>21.548000</td>\n",
       "    </tr>\n",
       "    <tr>\n",
       "      <th>...</th>\n",
       "      <td>...</td>\n",
       "      <td>...</td>\n",
       "      <td>...</td>\n",
       "      <td>...</td>\n",
       "    </tr>\n",
       "    <tr>\n",
       "      <th>182300</th>\n",
       "      <td>45.0</td>\n",
       "      <td>-5.111111</td>\n",
       "      <td>2022-07-18 12:30:00</td>\n",
       "      <td>21.221001</td>\n",
       "    </tr>\n",
       "    <tr>\n",
       "      <th>182301</th>\n",
       "      <td>45.0</td>\n",
       "      <td>-5.083333</td>\n",
       "      <td>2022-07-18 12:30:00</td>\n",
       "      <td>21.224001</td>\n",
       "    </tr>\n",
       "    <tr>\n",
       "      <th>182302</th>\n",
       "      <td>45.0</td>\n",
       "      <td>-5.055555</td>\n",
       "      <td>2022-07-18 12:30:00</td>\n",
       "      <td>21.209000</td>\n",
       "    </tr>\n",
       "    <tr>\n",
       "      <th>182303</th>\n",
       "      <td>45.0</td>\n",
       "      <td>-5.027778</td>\n",
       "      <td>2022-07-18 12:30:00</td>\n",
       "      <td>21.177002</td>\n",
       "    </tr>\n",
       "    <tr>\n",
       "      <th>182304</th>\n",
       "      <td>45.0</td>\n",
       "      <td>-5.000000</td>\n",
       "      <td>2022-07-18 12:30:00</td>\n",
       "      <td>21.130001</td>\n",
       "    </tr>\n",
       "  </tbody>\n",
       "</table>\n",
       "<p>182305 rows × 4 columns</p>\n",
       "</div>"
      ],
      "text/plain": [
       "        latitude  longitude                time     thetao\n",
       "0           35.0 -19.000000 2022-07-18 12:30:00  21.688000\n",
       "1           35.0 -18.972221 2022-07-18 12:30:00  21.656000\n",
       "2           35.0 -18.944445 2022-07-18 12:30:00  21.605000\n",
       "3           35.0 -18.916666 2022-07-18 12:30:00  21.563000\n",
       "4           35.0 -18.888889 2022-07-18 12:30:00  21.548000\n",
       "...          ...        ...                 ...        ...\n",
       "182300      45.0  -5.111111 2022-07-18 12:30:00  21.221001\n",
       "182301      45.0  -5.083333 2022-07-18 12:30:00  21.224001\n",
       "182302      45.0  -5.055555 2022-07-18 12:30:00  21.209000\n",
       "182303      45.0  -5.027778 2022-07-18 12:30:00  21.177002\n",
       "182304      45.0  -5.000000 2022-07-18 12:30:00  21.130001\n",
       "\n",
       "[182305 rows x 4 columns]"
      ]
     },
     "execution_count": 68,
     "metadata": {},
     "output_type": "execute_result"
    }
   ],
   "source": [
    "cmems"
   ]
  },
  {
   "cell_type": "code",
   "execution_count": null,
   "id": "20c26377",
   "metadata": {},
   "outputs": [],
   "source": []
  },
  {
   "cell_type": "code",
   "execution_count": null,
   "id": "d2688492",
   "metadata": {},
   "outputs": [],
   "source": []
  },
  {
   "cell_type": "code",
   "execution_count": 90,
   "id": "6242e883",
   "metadata": {},
   "outputs": [],
   "source": [
    "def get_data(data):\n",
    "    \n",
    "    \"\"\"\n",
    "    Function to get our netCDF file that is stored in the data directory inside the MUR_seasonal_data folder and convert it to a dataframe.\n",
    "    The data parameter is the string name of the netCDF file we want to import\n",
    "    \"\"\"\n",
    "    \n",
    "    base_path = os.getcwd()\n",
    "    data_folder = os.path.join(base_path, \"../data\")  \n",
    "    \n",
    "    nc_path = os.path.join(data_folder, data)\n",
    "    data_xarray = xr.load_dataset(nc_path)\n",
    "    \n",
    "    \n",
    "    data_xarray = data_xarray.rename({'latitude':'lat', 'longitude':'lon', 'thetao':'analysed_sst'})\n",
    "    \n",
    "    return data_xarray"
   ]
  },
  {
   "cell_type": "code",
   "execution_count": 91,
   "id": "e982a5f2",
   "metadata": {},
   "outputs": [],
   "source": [
    "ex = get_data('CMEMS_forecast_2022-07-18.nc')"
   ]
  },
  {
   "cell_type": "code",
   "execution_count": 92,
   "id": "31ad1a75",
   "metadata": {},
   "outputs": [
    {
     "data": {
      "text/html": [
       "<div><svg style=\"position: absolute; width: 0; height: 0; overflow: hidden\">\n",
       "<defs>\n",
       "<symbol id=\"icon-database\" viewBox=\"0 0 32 32\">\n",
       "<path d=\"M16 0c-8.837 0-16 2.239-16 5v4c0 2.761 7.163 5 16 5s16-2.239 16-5v-4c0-2.761-7.163-5-16-5z\"></path>\n",
       "<path d=\"M16 17c-8.837 0-16-2.239-16-5v6c0 2.761 7.163 5 16 5s16-2.239 16-5v-6c0 2.761-7.163 5-16 5z\"></path>\n",
       "<path d=\"M16 26c-8.837 0-16-2.239-16-5v6c0 2.761 7.163 5 16 5s16-2.239 16-5v-6c0 2.761-7.163 5-16 5z\"></path>\n",
       "</symbol>\n",
       "<symbol id=\"icon-file-text2\" viewBox=\"0 0 32 32\">\n",
       "<path d=\"M28.681 7.159c-0.694-0.947-1.662-2.053-2.724-3.116s-2.169-2.030-3.116-2.724c-1.612-1.182-2.393-1.319-2.841-1.319h-15.5c-1.378 0-2.5 1.121-2.5 2.5v27c0 1.378 1.122 2.5 2.5 2.5h23c1.378 0 2.5-1.122 2.5-2.5v-19.5c0-0.448-0.137-1.23-1.319-2.841zM24.543 5.457c0.959 0.959 1.712 1.825 2.268 2.543h-4.811v-4.811c0.718 0.556 1.584 1.309 2.543 2.268zM28 29.5c0 0.271-0.229 0.5-0.5 0.5h-23c-0.271 0-0.5-0.229-0.5-0.5v-27c0-0.271 0.229-0.5 0.5-0.5 0 0 15.499-0 15.5 0v7c0 0.552 0.448 1 1 1h7v19.5z\"></path>\n",
       "<path d=\"M23 26h-14c-0.552 0-1-0.448-1-1s0.448-1 1-1h14c0.552 0 1 0.448 1 1s-0.448 1-1 1z\"></path>\n",
       "<path d=\"M23 22h-14c-0.552 0-1-0.448-1-1s0.448-1 1-1h14c0.552 0 1 0.448 1 1s-0.448 1-1 1z\"></path>\n",
       "<path d=\"M23 18h-14c-0.552 0-1-0.448-1-1s0.448-1 1-1h14c0.552 0 1 0.448 1 1s-0.448 1-1 1z\"></path>\n",
       "</symbol>\n",
       "</defs>\n",
       "</svg>\n",
       "<style>/* CSS stylesheet for displaying xarray objects in jupyterlab.\n",
       " *\n",
       " */\n",
       "\n",
       ":root {\n",
       "  --xr-font-color0: var(--jp-content-font-color0, rgba(0, 0, 0, 1));\n",
       "  --xr-font-color2: var(--jp-content-font-color2, rgba(0, 0, 0, 0.54));\n",
       "  --xr-font-color3: var(--jp-content-font-color3, rgba(0, 0, 0, 0.38));\n",
       "  --xr-border-color: var(--jp-border-color2, #e0e0e0);\n",
       "  --xr-disabled-color: var(--jp-layout-color3, #bdbdbd);\n",
       "  --xr-background-color: var(--jp-layout-color0, white);\n",
       "  --xr-background-color-row-even: var(--jp-layout-color1, white);\n",
       "  --xr-background-color-row-odd: var(--jp-layout-color2, #eeeeee);\n",
       "}\n",
       "\n",
       "html[theme=dark],\n",
       "body.vscode-dark {\n",
       "  --xr-font-color0: rgba(255, 255, 255, 1);\n",
       "  --xr-font-color2: rgba(255, 255, 255, 0.54);\n",
       "  --xr-font-color3: rgba(255, 255, 255, 0.38);\n",
       "  --xr-border-color: #1F1F1F;\n",
       "  --xr-disabled-color: #515151;\n",
       "  --xr-background-color: #111111;\n",
       "  --xr-background-color-row-even: #111111;\n",
       "  --xr-background-color-row-odd: #313131;\n",
       "}\n",
       "\n",
       ".xr-wrap {\n",
       "  display: block;\n",
       "  min-width: 300px;\n",
       "  max-width: 700px;\n",
       "}\n",
       "\n",
       ".xr-text-repr-fallback {\n",
       "  /* fallback to plain text repr when CSS is not injected (untrusted notebook) */\n",
       "  display: none;\n",
       "}\n",
       "\n",
       ".xr-header {\n",
       "  padding-top: 6px;\n",
       "  padding-bottom: 6px;\n",
       "  margin-bottom: 4px;\n",
       "  border-bottom: solid 1px var(--xr-border-color);\n",
       "}\n",
       "\n",
       ".xr-header > div,\n",
       ".xr-header > ul {\n",
       "  display: inline;\n",
       "  margin-top: 0;\n",
       "  margin-bottom: 0;\n",
       "}\n",
       "\n",
       ".xr-obj-type,\n",
       ".xr-array-name {\n",
       "  margin-left: 2px;\n",
       "  margin-right: 10px;\n",
       "}\n",
       "\n",
       ".xr-obj-type {\n",
       "  color: var(--xr-font-color2);\n",
       "}\n",
       "\n",
       ".xr-sections {\n",
       "  padding-left: 0 !important;\n",
       "  display: grid;\n",
       "  grid-template-columns: 150px auto auto 1fr 20px 20px;\n",
       "}\n",
       "\n",
       ".xr-section-item {\n",
       "  display: contents;\n",
       "}\n",
       "\n",
       ".xr-section-item input {\n",
       "  display: none;\n",
       "}\n",
       "\n",
       ".xr-section-item input + label {\n",
       "  color: var(--xr-disabled-color);\n",
       "}\n",
       "\n",
       ".xr-section-item input:enabled + label {\n",
       "  cursor: pointer;\n",
       "  color: var(--xr-font-color2);\n",
       "}\n",
       "\n",
       ".xr-section-item input:enabled + label:hover {\n",
       "  color: var(--xr-font-color0);\n",
       "}\n",
       "\n",
       ".xr-section-summary {\n",
       "  grid-column: 1;\n",
       "  color: var(--xr-font-color2);\n",
       "  font-weight: 500;\n",
       "}\n",
       "\n",
       ".xr-section-summary > span {\n",
       "  display: inline-block;\n",
       "  padding-left: 0.5em;\n",
       "}\n",
       "\n",
       ".xr-section-summary-in:disabled + label {\n",
       "  color: var(--xr-font-color2);\n",
       "}\n",
       "\n",
       ".xr-section-summary-in + label:before {\n",
       "  display: inline-block;\n",
       "  content: '►';\n",
       "  font-size: 11px;\n",
       "  width: 15px;\n",
       "  text-align: center;\n",
       "}\n",
       "\n",
       ".xr-section-summary-in:disabled + label:before {\n",
       "  color: var(--xr-disabled-color);\n",
       "}\n",
       "\n",
       ".xr-section-summary-in:checked + label:before {\n",
       "  content: '▼';\n",
       "}\n",
       "\n",
       ".xr-section-summary-in:checked + label > span {\n",
       "  display: none;\n",
       "}\n",
       "\n",
       ".xr-section-summary,\n",
       ".xr-section-inline-details {\n",
       "  padding-top: 4px;\n",
       "  padding-bottom: 4px;\n",
       "}\n",
       "\n",
       ".xr-section-inline-details {\n",
       "  grid-column: 2 / -1;\n",
       "}\n",
       "\n",
       ".xr-section-details {\n",
       "  display: none;\n",
       "  grid-column: 1 / -1;\n",
       "  margin-bottom: 5px;\n",
       "}\n",
       "\n",
       ".xr-section-summary-in:checked ~ .xr-section-details {\n",
       "  display: contents;\n",
       "}\n",
       "\n",
       ".xr-array-wrap {\n",
       "  grid-column: 1 / -1;\n",
       "  display: grid;\n",
       "  grid-template-columns: 20px auto;\n",
       "}\n",
       "\n",
       ".xr-array-wrap > label {\n",
       "  grid-column: 1;\n",
       "  vertical-align: top;\n",
       "}\n",
       "\n",
       ".xr-preview {\n",
       "  color: var(--xr-font-color3);\n",
       "}\n",
       "\n",
       ".xr-array-preview,\n",
       ".xr-array-data {\n",
       "  padding: 0 5px !important;\n",
       "  grid-column: 2;\n",
       "}\n",
       "\n",
       ".xr-array-data,\n",
       ".xr-array-in:checked ~ .xr-array-preview {\n",
       "  display: none;\n",
       "}\n",
       "\n",
       ".xr-array-in:checked ~ .xr-array-data,\n",
       ".xr-array-preview {\n",
       "  display: inline-block;\n",
       "}\n",
       "\n",
       ".xr-dim-list {\n",
       "  display: inline-block !important;\n",
       "  list-style: none;\n",
       "  padding: 0 !important;\n",
       "  margin: 0;\n",
       "}\n",
       "\n",
       ".xr-dim-list li {\n",
       "  display: inline-block;\n",
       "  padding: 0;\n",
       "  margin: 0;\n",
       "}\n",
       "\n",
       ".xr-dim-list:before {\n",
       "  content: '(';\n",
       "}\n",
       "\n",
       ".xr-dim-list:after {\n",
       "  content: ')';\n",
       "}\n",
       "\n",
       ".xr-dim-list li:not(:last-child):after {\n",
       "  content: ',';\n",
       "  padding-right: 5px;\n",
       "}\n",
       "\n",
       ".xr-has-index {\n",
       "  font-weight: bold;\n",
       "}\n",
       "\n",
       ".xr-var-list,\n",
       ".xr-var-item {\n",
       "  display: contents;\n",
       "}\n",
       "\n",
       ".xr-var-item > div,\n",
       ".xr-var-item label,\n",
       ".xr-var-item > .xr-var-name span {\n",
       "  background-color: var(--xr-background-color-row-even);\n",
       "  margin-bottom: 0;\n",
       "}\n",
       "\n",
       ".xr-var-item > .xr-var-name:hover span {\n",
       "  padding-right: 5px;\n",
       "}\n",
       "\n",
       ".xr-var-list > li:nth-child(odd) > div,\n",
       ".xr-var-list > li:nth-child(odd) > label,\n",
       ".xr-var-list > li:nth-child(odd) > .xr-var-name span {\n",
       "  background-color: var(--xr-background-color-row-odd);\n",
       "}\n",
       "\n",
       ".xr-var-name {\n",
       "  grid-column: 1;\n",
       "}\n",
       "\n",
       ".xr-var-dims {\n",
       "  grid-column: 2;\n",
       "}\n",
       "\n",
       ".xr-var-dtype {\n",
       "  grid-column: 3;\n",
       "  text-align: right;\n",
       "  color: var(--xr-font-color2);\n",
       "}\n",
       "\n",
       ".xr-var-preview {\n",
       "  grid-column: 4;\n",
       "}\n",
       "\n",
       ".xr-var-name,\n",
       ".xr-var-dims,\n",
       ".xr-var-dtype,\n",
       ".xr-preview,\n",
       ".xr-attrs dt {\n",
       "  white-space: nowrap;\n",
       "  overflow: hidden;\n",
       "  text-overflow: ellipsis;\n",
       "  padding-right: 10px;\n",
       "}\n",
       "\n",
       ".xr-var-name:hover,\n",
       ".xr-var-dims:hover,\n",
       ".xr-var-dtype:hover,\n",
       ".xr-attrs dt:hover {\n",
       "  overflow: visible;\n",
       "  width: auto;\n",
       "  z-index: 1;\n",
       "}\n",
       "\n",
       ".xr-var-attrs,\n",
       ".xr-var-data {\n",
       "  display: none;\n",
       "  background-color: var(--xr-background-color) !important;\n",
       "  padding-bottom: 5px !important;\n",
       "}\n",
       "\n",
       ".xr-var-attrs-in:checked ~ .xr-var-attrs,\n",
       ".xr-var-data-in:checked ~ .xr-var-data {\n",
       "  display: block;\n",
       "}\n",
       "\n",
       ".xr-var-data > table {\n",
       "  float: right;\n",
       "}\n",
       "\n",
       ".xr-var-name span,\n",
       ".xr-var-data,\n",
       ".xr-attrs {\n",
       "  padding-left: 25px !important;\n",
       "}\n",
       "\n",
       ".xr-attrs,\n",
       ".xr-var-attrs,\n",
       ".xr-var-data {\n",
       "  grid-column: 1 / -1;\n",
       "}\n",
       "\n",
       "dl.xr-attrs {\n",
       "  padding: 0;\n",
       "  margin: 0;\n",
       "  display: grid;\n",
       "  grid-template-columns: 125px auto;\n",
       "}\n",
       "\n",
       ".xr-attrs dt,\n",
       ".xr-attrs dd {\n",
       "  padding: 0;\n",
       "  margin: 0;\n",
       "  float: left;\n",
       "  padding-right: 10px;\n",
       "  width: auto;\n",
       "}\n",
       "\n",
       ".xr-attrs dt {\n",
       "  font-weight: normal;\n",
       "  grid-column: 1;\n",
       "}\n",
       "\n",
       ".xr-attrs dt:hover span {\n",
       "  display: inline-block;\n",
       "  background: var(--xr-background-color);\n",
       "  padding-right: 10px;\n",
       "}\n",
       "\n",
       ".xr-attrs dd {\n",
       "  grid-column: 2;\n",
       "  white-space: pre-wrap;\n",
       "  word-break: break-all;\n",
       "}\n",
       "\n",
       ".xr-icon-database,\n",
       ".xr-icon-file-text2 {\n",
       "  display: inline-block;\n",
       "  vertical-align: middle;\n",
       "  width: 1em;\n",
       "  height: 1.5em !important;\n",
       "  stroke-width: 0;\n",
       "  stroke: currentColor;\n",
       "  fill: currentColor;\n",
       "}\n",
       "</style><pre class='xr-text-repr-fallback'>&lt;xarray.Dataset&gt;\n",
       "Dimensions:       (lat: 361, lon: 505, time: 1)\n",
       "Coordinates:\n",
       "  * lat           (lat) float32 35.0 35.03 35.06 35.08 ... 44.94 44.97 45.0\n",
       "  * time          (time) datetime64[ns] 2022-07-18T12:30:00\n",
       "  * lon           (lon) float32 -19.0 -18.97 -18.94 ... -5.056 -5.028 -5.0\n",
       "Data variables:\n",
       "    analysed_sst  (time, lat, lon) float32 21.69 21.66 21.6 ... 21.18 21.13\n",
       "Attributes: (12/24)\n",
       "    Conventions:                        CF-1.0\n",
       "    source:                             IBI-MFC (PdE Production Center)\n",
       "    institution:                        Puertos del Estado (PdE)\n",
       "    title:                              Ocean surface hourly mean fields for ...\n",
       "    easting:                            longitude\n",
       "    northing:                           latitude\n",
       "    ...                                 ...\n",
       "    z_min:                              0.494025f\n",
       "    z_max:                              0.494025f\n",
       "    contact:                            mailto: servicedesk.cmems@mercator-oc...\n",
       "    _CoordSysBuilder:                   ucar.nc2.dataset.conv.CF1Convention\n",
       "    comment:                            \n",
       "    history:                            Data extracted from dataset http://lo...</pre><div class='xr-wrap' hidden><div class='xr-header'><div class='xr-obj-type'>xarray.Dataset</div></div><ul class='xr-sections'><li class='xr-section-item'><input id='section-fa48c733-0895-4de7-8f50-b8a535c9d46d' class='xr-section-summary-in' type='checkbox' disabled ><label for='section-fa48c733-0895-4de7-8f50-b8a535c9d46d' class='xr-section-summary'  title='Expand/collapse section'>Dimensions:</label><div class='xr-section-inline-details'><ul class='xr-dim-list'><li><span class='xr-has-index'>lat</span>: 361</li><li><span class='xr-has-index'>lon</span>: 505</li><li><span class='xr-has-index'>time</span>: 1</li></ul></div><div class='xr-section-details'></div></li><li class='xr-section-item'><input id='section-c89441ba-ec8c-413e-a99e-086d4d618d1b' class='xr-section-summary-in' type='checkbox'  checked><label for='section-c89441ba-ec8c-413e-a99e-086d4d618d1b' class='xr-section-summary' >Coordinates: <span>(3)</span></label><div class='xr-section-inline-details'></div><div class='xr-section-details'><ul class='xr-var-list'><li class='xr-var-item'><div class='xr-var-name'><span class='xr-has-index'>lat</span></div><div class='xr-var-dims'>(lat)</div><div class='xr-var-dtype'>float32</div><div class='xr-var-preview xr-preview'>35.0 35.03 35.06 ... 44.97 45.0</div><input id='attrs-a66e7cb3-0044-4e91-bf0c-ab013cf3bc4f' class='xr-var-attrs-in' type='checkbox' ><label for='attrs-a66e7cb3-0044-4e91-bf0c-ab013cf3bc4f' title='Show/Hide attributes'><svg class='icon xr-icon-file-text2'><use xlink:href='#icon-file-text2'></use></svg></label><input id='data-37cfa937-f270-416e-8518-5b330d7445dd' class='xr-var-data-in' type='checkbox'><label for='data-37cfa937-f270-416e-8518-5b330d7445dd' title='Show/Hide data repr'><svg class='icon xr-icon-database'><use xlink:href='#icon-database'></use></svg></label><div class='xr-var-attrs'><dl class='xr-attrs'><dt><span>standard_name :</span></dt><dd>latitude</dd><dt><span>long_name :</span></dt><dd>Latitude</dd><dt><span>units :</span></dt><dd>degrees_north</dd><dt><span>axis :</span></dt><dd>Y</dd><dt><span>unit_long :</span></dt><dd>Degrees North</dd><dt><span>step :</span></dt><dd>0.02777863f</dd><dt><span>_CoordinateAxisType :</span></dt><dd>Lat</dd><dt><span>_ChunkSizes :</span></dt><dd>1081</dd><dt><span>valid_min :</span></dt><dd>35.0</dd><dt><span>valid_max :</span></dt><dd>45.0</dd></dl></div><div class='xr-var-data'><pre>array([35.      , 35.02778 , 35.055557, ..., 44.944443, 44.97222 , 45.      ],\n",
       "      dtype=float32)</pre></div></li><li class='xr-var-item'><div class='xr-var-name'><span class='xr-has-index'>time</span></div><div class='xr-var-dims'>(time)</div><div class='xr-var-dtype'>datetime64[ns]</div><div class='xr-var-preview xr-preview'>2022-07-18T12:30:00</div><input id='attrs-8ab614aa-a5c0-482d-841c-c1b93e28f3e4' class='xr-var-attrs-in' type='checkbox' ><label for='attrs-8ab614aa-a5c0-482d-841c-c1b93e28f3e4' title='Show/Hide attributes'><svg class='icon xr-icon-file-text2'><use xlink:href='#icon-file-text2'></use></svg></label><input id='data-be02bd59-707f-43bc-85f5-4f1d989ebf69' class='xr-var-data-in' type='checkbox'><label for='data-be02bd59-707f-43bc-85f5-4f1d989ebf69' title='Show/Hide data repr'><svg class='icon xr-icon-database'><use xlink:href='#icon-database'></use></svg></label><div class='xr-var-attrs'><dl class='xr-attrs'><dt><span>axis :</span></dt><dd>T</dd><dt><span>standard_name :</span></dt><dd>time</dd><dt><span>long_name :</span></dt><dd>time</dd><dt><span>_CoordinateAxisType :</span></dt><dd>Time</dd><dt><span>_ChunkSizes :</span></dt><dd>24</dd><dt><span>valid_min :</span></dt><dd>635916.5</dd><dt><span>valid_max :</span></dt><dd>635916.5</dd></dl></div><div class='xr-var-data'><pre>array([&#x27;2022-07-18T12:30:00.000000000&#x27;], dtype=&#x27;datetime64[ns]&#x27;)</pre></div></li><li class='xr-var-item'><div class='xr-var-name'><span class='xr-has-index'>lon</span></div><div class='xr-var-dims'>(lon)</div><div class='xr-var-dtype'>float32</div><div class='xr-var-preview xr-preview'>-19.0 -18.97 -18.94 ... -5.028 -5.0</div><input id='attrs-3a7db68b-b5da-4369-a54a-e603e3bbeb9e' class='xr-var-attrs-in' type='checkbox' ><label for='attrs-3a7db68b-b5da-4369-a54a-e603e3bbeb9e' title='Show/Hide attributes'><svg class='icon xr-icon-file-text2'><use xlink:href='#icon-file-text2'></use></svg></label><input id='data-f9dba57f-33d8-4f05-9b27-c16776be5a37' class='xr-var-data-in' type='checkbox'><label for='data-f9dba57f-33d8-4f05-9b27-c16776be5a37' title='Show/Hide data repr'><svg class='icon xr-icon-database'><use xlink:href='#icon-database'></use></svg></label><div class='xr-var-attrs'><dl class='xr-attrs'><dt><span>standard_name :</span></dt><dd>longitude</dd><dt><span>long_name :</span></dt><dd>Longitude</dd><dt><span>units :</span></dt><dd>degrees_east</dd><dt><span>axis :</span></dt><dd>X</dd><dt><span>unit_long :</span></dt><dd>Degrees East</dd><dt><span>step :</span></dt><dd>0.02777863f</dd><dt><span>_CoordinateAxisType :</span></dt><dd>Lon</dd><dt><span>_ChunkSizes :</span></dt><dd>865</dd><dt><span>valid_min :</span></dt><dd>-19.0</dd><dt><span>valid_max :</span></dt><dd>-5.0</dd></dl></div><div class='xr-var-data'><pre>array([-19.      , -18.972221, -18.944445, ...,  -5.055555,  -5.027778,\n",
       "        -5.      ], dtype=float32)</pre></div></li></ul></div></li><li class='xr-section-item'><input id='section-f8debddb-0e6e-47b2-94be-87f21d4c0c5b' class='xr-section-summary-in' type='checkbox'  checked><label for='section-f8debddb-0e6e-47b2-94be-87f21d4c0c5b' class='xr-section-summary' >Data variables: <span>(1)</span></label><div class='xr-section-inline-details'></div><div class='xr-section-details'><ul class='xr-var-list'><li class='xr-var-item'><div class='xr-var-name'><span>analysed_sst</span></div><div class='xr-var-dims'>(time, lat, lon)</div><div class='xr-var-dtype'>float32</div><div class='xr-var-preview xr-preview'>21.69 21.66 21.6 ... 21.18 21.13</div><input id='attrs-12dd1fdc-e530-40a6-a48c-6fafea17d269' class='xr-var-attrs-in' type='checkbox' ><label for='attrs-12dd1fdc-e530-40a6-a48c-6fafea17d269' title='Show/Hide attributes'><svg class='icon xr-icon-file-text2'><use xlink:href='#icon-file-text2'></use></svg></label><input id='data-340d215b-d50c-4260-9fc5-29187231feb7' class='xr-var-data-in' type='checkbox'><label for='data-340d215b-d50c-4260-9fc5-29187231feb7' title='Show/Hide data repr'><svg class='icon xr-icon-database'><use xlink:href='#icon-database'></use></svg></label><div class='xr-var-attrs'><dl class='xr-attrs'><dt><span>standard_name :</span></dt><dd>sea_water_potential_temperature</dd><dt><span>long_name :</span></dt><dd>Temperature</dd><dt><span>units :</span></dt><dd>degrees_C</dd><dt><span>unit_long :</span></dt><dd>degrees_C</dd><dt><span>_ChunkSizes :</span></dt><dd>[  8 361 289]</dd></dl></div><div class='xr-var-data'><pre>array([[[21.688   , 21.656   , 21.605   , ...,       nan,       nan,\n",
       "               nan],\n",
       "        [21.679   , 21.637001, 21.585001, ...,       nan,       nan,\n",
       "               nan],\n",
       "        [21.66    , 21.614   , 21.568   , ...,       nan,       nan,\n",
       "               nan],\n",
       "        ...,\n",
       "        [18.579   , 18.631   , 18.653   , ..., 21.277   , 21.239   ,\n",
       "         21.186   ],\n",
       "        [18.515   , 18.584   , 18.626   , ..., 21.246   , 21.214   ,\n",
       "         21.166   ],\n",
       "        [18.455002, 18.531   , 18.591   , ..., 21.209   , 21.177002,\n",
       "         21.130001]]], dtype=float32)</pre></div></li></ul></div></li><li class='xr-section-item'><input id='section-4ac9c554-03bc-4948-904f-ab3c0e52a225' class='xr-section-summary-in' type='checkbox'  ><label for='section-4ac9c554-03bc-4948-904f-ab3c0e52a225' class='xr-section-summary' >Attributes: <span>(24)</span></label><div class='xr-section-inline-details'></div><div class='xr-section-details'><dl class='xr-attrs'><dt><span>Conventions :</span></dt><dd>CF-1.0</dd><dt><span>source :</span></dt><dd>IBI-MFC (PdE Production Center)</dd><dt><span>institution :</span></dt><dd>Puertos del Estado (PdE)</dd><dt><span>title :</span></dt><dd>Ocean surface hourly mean fields for the Iberia-Biscay-Ireland (IBI) region</dd><dt><span>easting :</span></dt><dd>longitude</dd><dt><span>northing :</span></dt><dd>latitude</dd><dt><span>references :</span></dt><dd>http://marine.copernicus.eu/</dd><dt><span>domain_name :</span></dt><dd>IBI36</dd><dt><span>FROM_ORIGINAL_FILE__field_type :</span></dt><dd>mean</dd><dt><span>field_date :</span></dt><dd>20220723</dd><dt><span>forecast_range :</span></dt><dd>05-day_forecast</dd><dt><span>forecast_type :</span></dt><dd>forecast</dd><dt><span>bulletin_date :</span></dt><dd>2022-07-19</dd><dt><span>bulletin_type :</span></dt><dd>Operational</dd><dt><span>FROM_ORIGINAL_FILE__longitude_min :</span></dt><dd>-19.0f</dd><dt><span>FROM_ORIGINAL_FILE__longitude_max :</span></dt><dd>5.000736f</dd><dt><span>FROM_ORIGINAL_FILE__latitude_min :</span></dt><dd>26.0f</dd><dt><span>FROM_ORIGINAL_FILE__latitude_max :</span></dt><dd>56.00092f</dd><dt><span>z_min :</span></dt><dd>0.494025f</dd><dt><span>z_max :</span></dt><dd>0.494025f</dd><dt><span>contact :</span></dt><dd>mailto: servicedesk.cmems@mercator-ocean.eu</dd><dt><span>_CoordSysBuilder :</span></dt><dd>ucar.nc2.dataset.conv.CF1Convention</dd><dt><span>comment :</span></dt><dd></dd><dt><span>history :</span></dt><dd>Data extracted from dataset http://localhost:8080/thredds/dodsC/cmems_mod_ibi_phy_anfc_0.027deg-2D_PT1H-m</dd></dl></div></li></ul></div></div>"
      ],
      "text/plain": [
       "<xarray.Dataset>\n",
       "Dimensions:       (lat: 361, lon: 505, time: 1)\n",
       "Coordinates:\n",
       "  * lat           (lat) float32 35.0 35.03 35.06 35.08 ... 44.94 44.97 45.0\n",
       "  * time          (time) datetime64[ns] 2022-07-18T12:30:00\n",
       "  * lon           (lon) float32 -19.0 -18.97 -18.94 ... -5.056 -5.028 -5.0\n",
       "Data variables:\n",
       "    analysed_sst  (time, lat, lon) float32 21.69 21.66 21.6 ... 21.18 21.13\n",
       "Attributes: (12/24)\n",
       "    Conventions:                        CF-1.0\n",
       "    source:                             IBI-MFC (PdE Production Center)\n",
       "    institution:                        Puertos del Estado (PdE)\n",
       "    title:                              Ocean surface hourly mean fields for ...\n",
       "    easting:                            longitude\n",
       "    northing:                           latitude\n",
       "    ...                                 ...\n",
       "    z_min:                              0.494025f\n",
       "    z_max:                              0.494025f\n",
       "    contact:                            mailto: servicedesk.cmems@mercator-oc...\n",
       "    _CoordSysBuilder:                   ucar.nc2.dataset.conv.CF1Convention\n",
       "    comment:                            \n",
       "    history:                            Data extracted from dataset http://lo..."
      ]
     },
     "execution_count": 92,
     "metadata": {},
     "output_type": "execute_result"
    }
   ],
   "source": [
    "ex"
   ]
  },
  {
   "cell_type": "code",
   "execution_count": 81,
   "id": "a91b6f3b",
   "metadata": {},
   "outputs": [
    {
     "ename": "KeyError",
     "evalue": "'lat'",
     "output_type": "error",
     "traceback": [
      "\u001b[0;31m---------------------------------------------------------------------------\u001b[0m",
      "\u001b[0;31mKeyError\u001b[0m                                  Traceback (most recent call last)",
      "\u001b[0;32m~/.local/lib/python3.8/site-packages/xarray/core/dataset.py\u001b[0m in \u001b[0;36m_construct_dataarray\u001b[0;34m(self, name)\u001b[0m\n\u001b[1;32m   1369\u001b[0m         \u001b[0;32mtry\u001b[0m\u001b[0;34m:\u001b[0m\u001b[0;34m\u001b[0m\u001b[0;34m\u001b[0m\u001b[0m\n\u001b[0;32m-> 1370\u001b[0;31m             \u001b[0mvariable\u001b[0m \u001b[0;34m=\u001b[0m \u001b[0mself\u001b[0m\u001b[0;34m.\u001b[0m\u001b[0m_variables\u001b[0m\u001b[0;34m[\u001b[0m\u001b[0mname\u001b[0m\u001b[0;34m]\u001b[0m\u001b[0;34m\u001b[0m\u001b[0;34m\u001b[0m\u001b[0m\n\u001b[0m\u001b[1;32m   1371\u001b[0m         \u001b[0;32mexcept\u001b[0m \u001b[0mKeyError\u001b[0m\u001b[0;34m:\u001b[0m\u001b[0;34m\u001b[0m\u001b[0;34m\u001b[0m\u001b[0m\n",
      "\u001b[0;31mKeyError\u001b[0m: 'lat'",
      "\nDuring handling of the above exception, another exception occurred:\n",
      "\u001b[0;31mKeyError\u001b[0m                                  Traceback (most recent call last)",
      "\u001b[0;32m/tmp/ipykernel_9146/2519655637.py\u001b[0m in \u001b[0;36m<module>\u001b[0;34m\u001b[0m\n\u001b[0;32m----> 1\u001b[0;31m \u001b[0mex\u001b[0m\u001b[0;34m[\u001b[0m\u001b[0;34m'lat'\u001b[0m\u001b[0;34m]\u001b[0m\u001b[0;34m\u001b[0m\u001b[0;34m\u001b[0m\u001b[0m\n\u001b[0m",
      "\u001b[0;32m~/.local/lib/python3.8/site-packages/xarray/core/dataset.py\u001b[0m in \u001b[0;36m__getitem__\u001b[0;34m(self, key)\u001b[0m\n\u001b[1;32m   1472\u001b[0m \u001b[0;34m\u001b[0m\u001b[0m\n\u001b[1;32m   1473\u001b[0m         \u001b[0;32mif\u001b[0m \u001b[0mhashable\u001b[0m\u001b[0;34m(\u001b[0m\u001b[0mkey\u001b[0m\u001b[0;34m)\u001b[0m\u001b[0;34m:\u001b[0m\u001b[0;34m\u001b[0m\u001b[0;34m\u001b[0m\u001b[0m\n\u001b[0;32m-> 1474\u001b[0;31m             \u001b[0;32mreturn\u001b[0m \u001b[0mself\u001b[0m\u001b[0;34m.\u001b[0m\u001b[0m_construct_dataarray\u001b[0m\u001b[0;34m(\u001b[0m\u001b[0mkey\u001b[0m\u001b[0;34m)\u001b[0m\u001b[0;34m\u001b[0m\u001b[0;34m\u001b[0m\u001b[0m\n\u001b[0m\u001b[1;32m   1475\u001b[0m         \u001b[0;32melse\u001b[0m\u001b[0;34m:\u001b[0m\u001b[0;34m\u001b[0m\u001b[0;34m\u001b[0m\u001b[0m\n\u001b[1;32m   1476\u001b[0m             \u001b[0;32mreturn\u001b[0m \u001b[0mself\u001b[0m\u001b[0;34m.\u001b[0m\u001b[0m_copy_listed\u001b[0m\u001b[0;34m(\u001b[0m\u001b[0mnp\u001b[0m\u001b[0;34m.\u001b[0m\u001b[0masarray\u001b[0m\u001b[0;34m(\u001b[0m\u001b[0mkey\u001b[0m\u001b[0;34m)\u001b[0m\u001b[0;34m)\u001b[0m\u001b[0;34m\u001b[0m\u001b[0;34m\u001b[0m\u001b[0m\n",
      "\u001b[0;32m~/.local/lib/python3.8/site-packages/xarray/core/dataset.py\u001b[0m in \u001b[0;36m_construct_dataarray\u001b[0;34m(self, name)\u001b[0m\n\u001b[1;32m   1370\u001b[0m             \u001b[0mvariable\u001b[0m \u001b[0;34m=\u001b[0m \u001b[0mself\u001b[0m\u001b[0;34m.\u001b[0m\u001b[0m_variables\u001b[0m\u001b[0;34m[\u001b[0m\u001b[0mname\u001b[0m\u001b[0;34m]\u001b[0m\u001b[0;34m\u001b[0m\u001b[0;34m\u001b[0m\u001b[0m\n\u001b[1;32m   1371\u001b[0m         \u001b[0;32mexcept\u001b[0m \u001b[0mKeyError\u001b[0m\u001b[0;34m:\u001b[0m\u001b[0;34m\u001b[0m\u001b[0;34m\u001b[0m\u001b[0m\n\u001b[0;32m-> 1372\u001b[0;31m             _, name, variable = _get_virtual_variable(\n\u001b[0m\u001b[1;32m   1373\u001b[0m                 \u001b[0mself\u001b[0m\u001b[0;34m.\u001b[0m\u001b[0m_variables\u001b[0m\u001b[0;34m,\u001b[0m \u001b[0mname\u001b[0m\u001b[0;34m,\u001b[0m \u001b[0mself\u001b[0m\u001b[0;34m.\u001b[0m\u001b[0m_level_coords\u001b[0m\u001b[0;34m,\u001b[0m \u001b[0mself\u001b[0m\u001b[0;34m.\u001b[0m\u001b[0mdims\u001b[0m\u001b[0;34m\u001b[0m\u001b[0;34m\u001b[0m\u001b[0m\n\u001b[1;32m   1374\u001b[0m             )\n",
      "\u001b[0;32m~/.local/lib/python3.8/site-packages/xarray/core/dataset.py\u001b[0m in \u001b[0;36m_get_virtual_variable\u001b[0;34m(variables, key, level_vars, dim_sizes)\u001b[0m\n\u001b[1;32m    166\u001b[0m         \u001b[0mref_var\u001b[0m \u001b[0;34m=\u001b[0m \u001b[0mdim_var\u001b[0m\u001b[0;34m.\u001b[0m\u001b[0mto_index_variable\u001b[0m\u001b[0;34m(\u001b[0m\u001b[0;34m)\u001b[0m\u001b[0;34m.\u001b[0m\u001b[0mget_level_variable\u001b[0m\u001b[0;34m(\u001b[0m\u001b[0mref_name\u001b[0m\u001b[0;34m)\u001b[0m\u001b[0;34m\u001b[0m\u001b[0;34m\u001b[0m\u001b[0m\n\u001b[1;32m    167\u001b[0m     \u001b[0;32melse\u001b[0m\u001b[0;34m:\u001b[0m\u001b[0;34m\u001b[0m\u001b[0;34m\u001b[0m\u001b[0m\n\u001b[0;32m--> 168\u001b[0;31m         \u001b[0mref_var\u001b[0m \u001b[0;34m=\u001b[0m \u001b[0mvariables\u001b[0m\u001b[0;34m[\u001b[0m\u001b[0mref_name\u001b[0m\u001b[0;34m]\u001b[0m\u001b[0;34m\u001b[0m\u001b[0;34m\u001b[0m\u001b[0m\n\u001b[0m\u001b[1;32m    169\u001b[0m \u001b[0;34m\u001b[0m\u001b[0m\n\u001b[1;32m    170\u001b[0m     \u001b[0;32mif\u001b[0m \u001b[0mvar_name\u001b[0m \u001b[0;32mis\u001b[0m \u001b[0;32mNone\u001b[0m\u001b[0;34m:\u001b[0m\u001b[0;34m\u001b[0m\u001b[0;34m\u001b[0m\u001b[0m\n",
      "\u001b[0;31mKeyError\u001b[0m: 'lat'"
     ]
    }
   ],
   "source": [
    "ex['lat']"
   ]
  },
  {
   "cell_type": "code",
   "execution_count": null,
   "id": "9512097c",
   "metadata": {},
   "outputs": [],
   "source": []
  },
  {
   "cell_type": "code",
   "execution_count": null,
   "id": "e8219055",
   "metadata": {},
   "outputs": [],
   "source": []
  },
  {
   "cell_type": "code",
   "execution_count": null,
   "id": "cdd1b4d7",
   "metadata": {},
   "outputs": [],
   "source": []
  },
  {
   "cell_type": "markdown",
   "id": "b694b9a8",
   "metadata": {},
   "source": [
    "# -------------------------------------- CANNY ----------------------------------------------"
   ]
  },
  {
   "cell_type": "code",
   "execution_count": null,
   "id": "22812254",
   "metadata": {},
   "outputs": [],
   "source": []
  },
  {
   "cell_type": "code",
   "execution_count": 63,
   "id": "af4ed2de",
   "metadata": {},
   "outputs": [],
   "source": [
    "\n",
    "\n",
    "# Convert the df to a numpy array with the SST values for the coordinate pair (longitude and latitude)\n",
    "sst = df_ex.pivot_table(index='longitude', columns='latitude', values='thetao').T.values\n",
    "#Convert Temperature values to uint8 format with values in the range of 0-255\n",
    "sst_final = ((sst - np.nanmin(sst)) * (1/(np.nanmax(sst) - np.nanmin(sst)) * 255)).astype('uint8')\n",
    "sst_final = np.flipud(sst_final)   #flipud -> Reverse the order of elements along axis 0 (up/down).\n",
    "#in case we want to apply a gaussian filter with a certain sigma value (by default is 0)\n",
    "sst_final = gaussian_filter(sst_final, sigma=5)   \n",
    "\n",
    "\n",
    "#apply the canny algorithm and plot the image with the edges\n",
    "canny = cv2.Canny(sst_final, 120, 220, apertureSize=5, L2gradient=False)  #max = 255, min = 0\n",
    "\n",
    "canny[canny == 255] = 1\n",
    "\n",
    "#Apply a mask for the continental zone:\n",
    "mask = np.isnan(np.flipud(sst))    #Boolean array: True where array Temp had Null Values (correspond to the continental zone)\n",
    "#mask255 =np.where(mask,(np.ones(mask.shape))*255,0).astype(\"uint8\")   #array which values= 255 when mask=True\n",
    "#Dilation to ensure that the pixels that belong to the \"shore/continental zone\" are not considered fronts \n",
    "#kernel = np.ones((3,3), np.uint8)\n",
    "#mask_dilated = cv2.dilate(mask255, kernel)\n",
    "canny_front =np.ma.masked_array(canny, mask)   #Mask an array where a condition is True\n",
    "\n",
    "#canny_front.astype('float32')\n",
    "\n",
    "#canny_front[canny_front == 255] = np.nan\n",
    "\n",
    "canny_front = np.flipud(canny_front) \n",
    "\n"
   ]
  },
  {
   "cell_type": "code",
   "execution_count": 62,
   "id": "0c024aed",
   "metadata": {},
   "outputs": [
    {
     "data": {
      "text/plain": [
       "<matplotlib.image.AxesImage at 0x7f2705e9bd90>"
      ]
     },
     "execution_count": 62,
     "metadata": {},
     "output_type": "execute_result"
    },
    {
     "data": {
      "image/png": "[encoded data removed]",
      "text/plain": [
       "<Figure size 1008x864 with 1 Axes>"
      ]
     },
     "metadata": {
      "needs_background": "light"
     },
     "output_type": "display_data"
    }
   ],
   "source": [
    "plt.rcParams[\"figure.figsize\"] = 14, 12\n",
    "plt.imshow(canny_front)"
   ]
  },
  {
   "cell_type": "code",
   "execution_count": 38,
   "id": "e192d51a",
   "metadata": {},
   "outputs": [
    {
     "data": {
      "text/plain": [
       "0"
      ]
     },
     "execution_count": 38,
     "metadata": {},
     "output_type": "execute_result"
    }
   ],
   "source": [
    "canny_front.min()"
   ]
  },
  {
   "cell_type": "code",
   "execution_count": 64,
   "id": "1d25327a",
   "metadata": {},
   "outputs": [
    {
     "data": {
      "text/plain": [
       "masked_array(\n",
       "  data=[[0, 0, 0, ..., --, --, --],\n",
       "        [0, 0, 0, ..., --, --, --],\n",
       "        [0, 0, 0, ..., --, --, --],\n",
       "        ...,\n",
       "        [0, 0, 0, ..., 0, 0, 0],\n",
       "        [0, 0, 0, ..., 0, 0, 0],\n",
       "        [0, 0, 0, ..., 0, 0, 0]],\n",
       "  mask=[[False, False, False, ...,  True,  True,  True],\n",
       "        [False, False, False, ...,  True,  True,  True],\n",
       "        [False, False, False, ...,  True,  True,  True],\n",
       "        ...,\n",
       "        [False, False, False, ..., False, False, False],\n",
       "        [False, False, False, ..., False, False, False],\n",
       "        [False, False, False, ..., False, False, False]],\n",
       "  fill_value=999999,\n",
       "  dtype=uint8)"
      ]
     },
     "execution_count": 64,
     "metadata": {},
     "output_type": "execute_result"
    }
   ],
   "source": [
    "canny_front"
   ]
  },
  {
   "cell_type": "code",
   "execution_count": 40,
   "id": "bc91ba23",
   "metadata": {},
   "outputs": [
    {
     "data": {
      "text/plain": [
       "masked_array(data=[0, 1, --],\n",
       "             mask=[False, False,  True],\n",
       "       fill_value=999999,\n",
       "            dtype=uint8)"
      ]
     },
     "execution_count": 40,
     "metadata": {},
     "output_type": "execute_result"
    }
   ],
   "source": [
    "np.unique(canny_front)"
   ]
  },
  {
   "cell_type": "code",
   "execution_count": 360,
   "id": "3447ba58",
   "metadata": {},
   "outputs": [
    {
     "data": {
      "text/plain": [
       "0"
      ]
     },
     "execution_count": 360,
     "metadata": {},
     "output_type": "execute_result"
    }
   ],
   "source": [
    "canny_front.min()"
   ]
  },
  {
   "cell_type": "code",
   "execution_count": null,
   "id": "d75580f6",
   "metadata": {},
   "outputs": [],
   "source": []
  },
  {
   "cell_type": "code",
   "execution_count": null,
   "id": "4f3fe7ba",
   "metadata": {},
   "outputs": [],
   "source": []
  },
  {
   "cell_type": "code",
   "execution_count": null,
   "id": "c14badbc",
   "metadata": {},
   "outputs": [],
   "source": []
  },
  {
   "cell_type": "code",
   "execution_count": 41,
   "id": "cb2eba13",
   "metadata": {},
   "outputs": [],
   "source": [
    "\n",
    "# Convert the df to a numpy array with the SST values for the coordinate pair (longitude and latitude)\n",
    "sst2 = df_ex.pivot_table(index='lon', columns='lat', values='analysed_sst').T.values\n",
    "#Convert Temperature values to uint8 format with values in the range of 0-255\n",
    "sst_final2 = ((sst2 - np.nanmin(sst)) * (1/(np.nanmax(sst2) - np.nanmin(sst2)) * 255)).astype('uint8')\n",
    "sst_final2 = np.flipud(sst_final2)   #flipud -> Reverse the order of elements along axis 0 (up/down).\n",
    "#in case we want to apply a gaussian filter with a certain sigma value (by default is 0)\n",
    "sst_final2 = gaussian_filter(sst_final2, sigma=5)   \n",
    "\n",
    "\n",
    "#apply the canny algorithm and plot the image with the edges\n",
    "canny2 = cv2.Canny(sst_final2, 120, 220, apertureSize=5, L2gradient=False)  #max = 255, min = 0\n",
    "\n",
    "canny2[canny2 == 255] = 1\n",
    "\n",
    "#Apply a mask for the continental zone:\n",
    "mask2 = np.isnan(np.flipud(sst2))    #Boolean array: True where array Temp had Null Values (correspond to the continental zone)\n",
    "mask255 = np.where(mask,(np.ones(mask.shape))*255,0).astype(\"uint8\")   #array which values= 255 when mask=True\n",
    "#Dilation to ensure that the pixels that belong to the \"shore/continental zone\" are not considered fronts \n",
    "kernel = np.ones((3,3), np.uint8)\n",
    "mask_dilated = cv2.dilate(mask255, kernel)\n",
    "canny_front2 =np.ma.masked_where(mask_dilated==255, canny2)   #Mask an array where a condition is True\n",
    "\n",
    "#canny_front.astype('float32')\n",
    "\n",
    "#canny_front[canny_front == 255] = np.nan\n",
    "\n",
    "#canny_front = np.flipud(canny_front) \n"
   ]
  },
  {
   "cell_type": "code",
   "execution_count": null,
   "id": "46b763b9",
   "metadata": {},
   "outputs": [],
   "source": []
  },
  {
   "cell_type": "code",
   "execution_count": 42,
   "id": "ba1d98a0",
   "metadata": {},
   "outputs": [
    {
     "data": {
      "text/plain": [
       "<matplotlib.image.AxesImage at 0x7f2706122670>"
      ]
     },
     "execution_count": 42,
     "metadata": {},
     "output_type": "execute_result"
    },
    {
     "data": {
      "image/png": "[encoded data removed]",
      "text/plain": [
       "<Figure size 432x288 with 1 Axes>"
      ]
     },
     "metadata": {
      "needs_background": "light"
     },
     "output_type": "display_data"
    }
   ],
   "source": [
    "plt.imshow(canny_front2)"
   ]
  },
  {
   "cell_type": "code",
   "execution_count": 43,
   "id": "ab6ab3bf",
   "metadata": {},
   "outputs": [
    {
     "data": {
      "text/plain": [
       "masked_array(\n",
       "  data=[[0, 0, 0, ..., 0, 0, 0],\n",
       "        [0, 0, 0, ..., 0, 0, 0],\n",
       "        [0, 0, 0, ..., 0, 0, 0],\n",
       "        ...,\n",
       "        [0, 0, 0, ..., --, --, --],\n",
       "        [0, 0, 0, ..., --, --, --],\n",
       "        [0, 0, 0, ..., --, --, --]],\n",
       "  mask=[[False, False, False, ..., False, False, False],\n",
       "        [False, False, False, ..., False, False, False],\n",
       "        [False, False, False, ..., False, False, False],\n",
       "        ...,\n",
       "        [False, False, False, ...,  True,  True,  True],\n",
       "        [False, False, False, ...,  True,  True,  True],\n",
       "        [False, False, False, ...,  True,  True,  True]],\n",
       "  fill_value=999999,\n",
       "  dtype=uint8)"
      ]
     },
     "execution_count": 43,
     "metadata": {},
     "output_type": "execute_result"
    }
   ],
   "source": [
    "canny_front2"
   ]
  },
  {
   "cell_type": "code",
   "execution_count": null,
   "id": "2963cc10",
   "metadata": {},
   "outputs": [],
   "source": []
  },
  {
   "cell_type": "code",
   "execution_count": null,
   "id": "15f1e493",
   "metadata": {},
   "outputs": [],
   "source": []
  },
  {
   "cell_type": "code",
   "execution_count": null,
   "id": "f2e85ba7",
   "metadata": {},
   "outputs": [],
   "source": []
  },
  {
   "cell_type": "markdown",
   "id": "93c6143e",
   "metadata": {},
   "source": [
    "# ------------------------------------- BOA -----------------------------------------------"
   ]
  },
  {
   "cell_type": "code",
   "execution_count": null,
   "id": "67002e2d",
   "metadata": {},
   "outputs": [],
   "source": []
  },
  {
   "cell_type": "code",
   "execution_count": 276,
   "id": "0cdd155a",
   "metadata": {},
   "outputs": [],
   "source": [
    "def filt5(lon, lat, ingrid, nodata=np.nan):\n",
    "    \"\"\"\n",
    "    Find peaks in 5 directions. Flag as 5\n",
    "    Finds maximum of a 5x5 sliding window. If the central pixel is the maximum, this is flagged as a one.\n",
    "    All other pixels are flagged as zero.\n",
    "    \"\"\"\n",
    "    \n",
    "    nodatidx = ingrid.flatten()*np.nan     # creates 1D array with as much values as the matrix ingrid, with NANs\n",
    "    outgrid = np.zeros(ingrid.shape)       # outgrid is a matrix with the shape of ingrid, full of Zeros\n",
    "\n",
    "    l1 = len(lat)\n",
    "    l2 = len(lon)\n",
    "\n",
    "    \n",
    "    for i in range(3, l1-1):   \n",
    "        for j in range(3, l2-1):\n",
    "            subg = ingrid[(i-3):(i+2), (j-3):(j+2)]   #return the last 5 rows of the last 5 columns of the matrix\n",
    "            if np.isnan(subg).sum()==25:              #if all values in submatrix subg are null values:\n",
    "                outgrid[i,j] = 0\n",
    "            else:\n",
    "                vec = np.array(subg).T.flatten()    # array with values of the transpose subg matrix\n",
    "                ma = np.argmax(subg.flatten())      # index with the maximum value of subg array\n",
    "                mi = np.argmin(subg.flatten())      # index with the minimum value of subg array\n",
    "                \n",
    "                if ma==12 or mi==12:     #if ma or mi is the middle value of 5X5 matrix (if the central pixel is the maximum)\n",
    "                    outgrid[i-1,j-1] = 1      #flagged as 1\n",
    "                else:\n",
    "                    outgrid[i-1,j-1] = 0      #all other pixels are flagged as 0\n",
    "    \n",
    "    return outgrid"
   ]
  },
  {
   "cell_type": "code",
   "execution_count": null,
   "id": "32d03ad9",
   "metadata": {},
   "outputs": [],
   "source": []
  },
  {
   "cell_type": "code",
   "execution_count": 277,
   "id": "e8d5523b",
   "metadata": {},
   "outputs": [],
   "source": [
    "def filt3(lon, lat, ingrid, grid5):\n",
    "    \"\"\"\n",
    "    Find peaks in 3 directions. FLag as 3\n",
    "    Returns a median smoothed grid of satellite data\n",
    "    \"\"\"\n",
    "    \n",
    "    outgrid = ingrid*0   # matrix of 0s with shape of ingrid matrix\n",
    "    l1 = len(lat)\n",
    "    l2 = len(lon)\n",
    "    \n",
    "    for i in range(3, l1-1):   \n",
    "        for j in range(3, l2-1):\n",
    "            if (grid5[i,j]==0):\n",
    "                subg = ingrid[(i-2):(i+1), (j-2):(j+1)]       # submatrix subg (3x3) \n",
    "                if np.isnan(subg).sum()==9:                   # if all values in submatrix subg (3x3) are null values:\n",
    "                    outgrid[i-1,j-1] = ingrid[i-1,j-1]\n",
    "                else:\n",
    "                    vec = np.array(subg).T.flatten()          # array with values of the transpose subg matrix\n",
    "                    ma = np.argmax(subg.flatten())            # index with the maximum value of subg array\n",
    "                    mi = np.argmin(subg.flatten())            # index with the minimum value of subg array\n",
    "                    \n",
    "                    if (ma==4 or mi==4):                      #if ma or mi is the middle value of 3X3 matrix\n",
    "                        outgrid[i-1,j-1] = nanmedian(subg)    # median while ignoring NaNs.\n",
    "                    else:\n",
    "                        outgrid[i-1,j-1] = ingrid[i-1,j-1]\n",
    "            \n",
    "            else:\n",
    "                outgrid[i-1,j-1] = ingrid[i-1,j-1]\n",
    "                \n",
    "    return outgrid"
   ]
  },
  {
   "cell_type": "code",
   "execution_count": null,
   "id": "ff7dbbed",
   "metadata": {},
   "outputs": [],
   "source": []
  },
  {
   "cell_type": "code",
   "execution_count": 278,
   "id": "d78940b6",
   "metadata": {},
   "outputs": [],
   "source": [
    "def boa(lon, lat, ingrid, nodata = np.nan, direction = False):\n",
    "    \n",
    "    def filter2(x, filt):\n",
    "        \"\"\"\n",
    "        Workhorse filter from EBImage. Modified so we don't need colorspace and other annoying requirements\n",
    "        \"\"\"\n",
    "        \n",
    "        dx = x.shape                          \n",
    "        df = filt.shape  \n",
    "        \n",
    "        if (df[0]//2 == 0) or (df[1]//2 == 0):\n",
    "            sys.exit('dimensions of \"filter\" matrix must be odd')\n",
    "        if (dx[0] < df[0]) or (dx[1] < df[1]):\n",
    "            sys.exit(\"dimensions of 'x' must be bigger than 'filter'\")\n",
    "            \n",
    "        cx = tuple(elem//2 for elem in dx)    \n",
    "        cf = tuple(elem//2 for elem in df)    \n",
    "\n",
    "        wf = np.zeros(shape=dx)                                   #matrix with zeros with shape of x\n",
    "\n",
    "        wf[cx[0]-cf[0]-1:cx[0]+cf[0], cx[1]-cf[1]-1:cx[1]+cf[1]] = filt    #put values of filt in middle of matrix wf\n",
    "\n",
    "        wf = fft2(wf)                                      #apply the 2 dimensional discrete fourier transform                  \n",
    "    \n",
    "        dim_x = np.array(dx[0:2])\n",
    "        dim_x =np.append(dim_x, math.prod(dx)/math.prod(dx[0:2]))     \n",
    "\n",
    "        aux1 = np.arange(cx[0],dx[0]+1)\n",
    "        aux2 = np.arange(1,cx[0])\n",
    "        index1 = np.concatenate((aux1, aux2), axis=None)  \n",
    "        index1 = index1-1   \n",
    "\n",
    "        aux3 = np.arange(cx[1], dx[1]+1)\n",
    "        aux4 = np.arange(1,cx[1])\n",
    "        index2 = np.concatenate((aux3, aux4), axis=None) \n",
    "        index2 = index2-1   \n",
    "        #this indices will be used to reorder values of matrix y\n",
    "        \n",
    "        y = (scipy.fft.ifft2(scipy.fft.fft2(x)*wf)).real\n",
    "\n",
    "        y = np.array([[y[i][j] for j in index2] for i in index1])\n",
    "        \n",
    "        return y\n",
    "    \n",
    "#======================================================#\n",
    "# Main BOA algorithm                                   \n",
    "#======================================================#      \n",
    "    gx = np.matrix([[-1,0,1],[-2,0,2],[-1,0,1]])        #filter in x\n",
    "    gy = np.matrix([[1,2,1],[0,0,0],[-1,-2,-1]])        #filter in y\n",
    "        \n",
    "    np.nan_to_num(ingrid, nan=-9999, posinf=-9999, neginf=-9999)    #replace NaN and inf values with -9999\n",
    "        \n",
    "    grid5 = filt5(lon, lat, ingrid, nodata = nodata)\n",
    "    grid35 = filt3(lon, lat, ingrid, grid5)\n",
    "\n",
    "    # make an index of bad values and land pixels.\n",
    "    grid35 = grid35.astype(\"float\")\n",
    "    grid35[grid35 == -9999]=np.nan\n",
    "    naidx = np.isnan(grid35)        #matrix with shape of grid35 (True if value is nan, False otherwise)\n",
    "    # convert these (True values of naidx) to zeros (in grid35) for smoothing purposes\n",
    "    grid35[naidx]=0  \n",
    "\n",
    "    # perform the smoothing (Sobel filter)  \n",
    "    tgx = filter2(grid35, gx)\n",
    "    tgy = filter2(grid35, gy)\n",
    "        \n",
    "    tx = tgx/np.nansum(abs(np.array(gx).flatten()))    \n",
    "    ty = tgy/np.nansum(abs(np.array(gy).flatten()))    \n",
    "    front = np.sqrt((tx**2)+(ty**2))                   \n",
    "\n",
    "#======================================================#\n",
    "# landmask and edge dilation\n",
    "#======================================================#\n",
    "\n",
    "    land = naidx*1\n",
    "    land = land.astype(\"float\")\n",
    "\n",
    "    land[land==1] = np.nan\n",
    "    land[~np.isnan(land)] = 1\n",
    "\n",
    "    \n",
    "#======================================================#\n",
    "# landmask and edge dilation using raster!\n",
    "#======================================================#\n",
    "\n",
    "    l2=lon.size    \n",
    "    l1=lat.size\n",
    "\n",
    "    midx = land*np.nan\n",
    "\n",
    "    midx[5:(l1-2), 5:(l2-2)] = 1\n",
    "\n",
    "    land = np.multiply(land, midx)\n",
    "    \n",
    "    \n",
    "    ssr = np.flip(front.T, 0)\n",
    "    \n",
    "\n",
    "    #Apply a sliding window kernell to the land matrix\n",
    "    mask = scipy.signal.convolve2d(np.flip(land.T, 0), np.array([0,0,0,0,1,0,0,0,0]).reshape(3,3), boundary='symm', mode='same')\n",
    "\n",
    "    matrix_front =  mask * np.flip(front.T, 0)         #matrix of mask raster file * matrix of ssr raster file\n",
    "\n",
    "\n",
    "    \n",
    "    if direction==True:\n",
    "#   ************************************\n",
    "#   *** Calculate Gradient Direction ***\n",
    "#   ************************************\n",
    "        \n",
    "        n = ingrid.size                                      #nr of elements of the grid matrix\n",
    "        grid_shape = ingrid.shape\n",
    "\n",
    "        GRAD_DIR = np.zeros(n)                               #matrix of zeros with shape of ingrid matrix\n",
    "\n",
    "        for i in range(n):\n",
    "            GRAD_DIR[i] = math.atan2(tgy.flatten()[i], tgx.flatten()[i])\n",
    "    \n",
    "        GRAD_DIR = GRAD_DIR*180/math.pi                      #change radians to degrees\n",
    "\n",
    "        OK = np.where(GRAD_DIR < 0)\n",
    "\n",
    "        OK = np.array(OK)\n",
    "\n",
    "        if OK.size >1:\n",
    "            GRAD_DIR[OK] = 360 - abs(GRAD_DIR[OK])    #Adjust to 0-360 scheme (make negative degrees positive)\n",
    "    \n",
    "        GRAD_DIR = (360 - GRAD_DIR + 90) % 360     #Convert degrees so that 0 degrees is North and East is 90 degrees\n",
    "        GRAD_DIR = GRAD_DIR.reshape(grid_shape)\n",
    "        \n",
    "        \n",
    "        grad_dir = np.flip(GRAD_DIR.T, 0)\n",
    "\n",
    "\n",
    "        # create array grdir (result from multiplication of grad_dir_matrix and mask_matrix (its the conv matrix))\n",
    "        grdir_matrix = np.flip(GRAD_DIR.T, 0)*mask\n",
    "\n",
    "\n",
    "        dic = {'grdir': grdir_matrix, 'front': matrix_front}\n",
    "        \n",
    "    else:\n",
    "        matrix_front\n",
    "\n",
    "        \n",
    "    return matrix_front"
   ]
  },
  {
   "cell_type": "code",
   "execution_count": null,
   "id": "39f9eba4",
   "metadata": {},
   "outputs": [],
   "source": []
  },
  {
   "cell_type": "code",
   "execution_count": 279,
   "id": "dd2182a6",
   "metadata": {},
   "outputs": [],
   "source": [
    "def BOA_aplication(df, threshold = 0.05):  \n",
    "    \n",
    "    \"\"\"\n",
    "    Function to, for a given dataframe with a longitude, latitude and SST columns, \n",
    "    identifies fronts through the application of BOA algorithm.\n",
    "    We also need to define a threshold value to later get the frontal probabilities matrix\n",
    "    (if the pixel value is greater than the threshold, then it is considered a front, otherwise don't). \n",
    "    \"\"\"\n",
    "    \n",
    "    lat = np.array(df['lat'].unique())\n",
    "    lon = np.array(df['lon'].unique())\n",
    "    ingrid = np.array(df['analysed_sst']).reshape(len(lat), len(lon))\n",
    "    \n",
    "    boa_front = boa(lon=lon, lat=lat, ingrid=ingrid, nodata = np.nan, direction = False)\n",
    "    boa_front = np.flip(boa_front, axis=0)\n",
    "    boa_front = np.array([[boa_front[j][i] for j in range(len(boa_front))] for i in range(len(boa_front[0])-1,-1,-1)])\n",
    "    \n",
    "    boa_front = np.where(boa_front>=threshold, 1, boa_front)    \n",
    "    boa_front = np.where(boa_front<threshold, 0, boa_front)\n",
    "    \n",
    "    \n",
    "    #Create a masked_array in order to get the continental zone well defined\n",
    "    #Convert some df to a numpy array with the SST values for each value of longitude and latitude\n",
    "    #sst = df.pivot_table(index='lon', columns='lat', values='analysed_sst').T.values   \n",
    "    #mask = np.isnan(np.flipud(sst))       #Boolean array=True where array Temp had Null values (continental zone)\n",
    "    #mask255 =np.where(mask,(np.ones(mask.shape))*255,0).astype(\"uint8\")   #array which pixels = 255 when mask=True \n",
    "    #Make a dilation to ensure the pixels that belong to the shore are not consideredd fronts\n",
    "    #kernel = np.ones((3,3), np.uint8)\n",
    "    #mask_dilated = cv2.dilate(mask255, kernel)\n",
    "    #boa_front = np.ma.masked_where(mask_dilated==255, boa_front)  \n",
    "    \n",
    "    #boa_front[boa_front == 255] = np.nan\n",
    "    \n",
    "    #boa_front = np.flipud(boa_front) \n",
    "\n",
    "    \n",
    "    #boa_front = np.where(boa_front>=threshold, 1, boa_front)    \n",
    "    #boa_front = np.where(boa_front<threshold, 0, boa_front)\n",
    "\n",
    "    \n",
    "    return boa_front\n"
   ]
  },
  {
   "cell_type": "code",
   "execution_count": null,
   "id": "102f5d4d",
   "metadata": {},
   "outputs": [],
   "source": []
  },
  {
   "cell_type": "code",
   "execution_count": 280,
   "id": "2565614f",
   "metadata": {},
   "outputs": [],
   "source": [
    "boa = BOA_aplication(df_ex, threshold=0.05)"
   ]
  },
  {
   "cell_type": "code",
   "execution_count": 281,
   "id": "2230a6ab",
   "metadata": {},
   "outputs": [
    {
     "data": {
      "text/plain": [
       "<matplotlib.image.AxesImage at 0x7f448c22e250>"
      ]
     },
     "execution_count": 281,
     "metadata": {},
     "output_type": "execute_result"
    },
    {
     "data": {
      "image/png": "[encoded data removed]",
      "text/plain": [
       "<Figure size 432x288 with 1 Axes>"
      ]
     },
     "metadata": {
      "needs_background": "light"
     },
     "output_type": "display_data"
    }
   ],
   "source": [
    "plt.imshow(boa)"
   ]
  },
  {
   "cell_type": "code",
   "execution_count": 282,
   "id": "19d37450",
   "metadata": {},
   "outputs": [
    {
     "data": {
      "text/plain": [
       "1.0"
      ]
     },
     "execution_count": 282,
     "metadata": {},
     "output_type": "execute_result"
    }
   ],
   "source": [
    "np.nanmax(boa)"
   ]
  },
  {
   "cell_type": "code",
   "execution_count": 283,
   "id": "d95fe33b",
   "metadata": {},
   "outputs": [
    {
     "data": {
      "text/plain": [
       "0.0"
      ]
     },
     "execution_count": 283,
     "metadata": {},
     "output_type": "execute_result"
    }
   ],
   "source": [
    "np.nanmin(boa)"
   ]
  },
  {
   "cell_type": "code",
   "execution_count": 284,
   "id": "1210fc75",
   "metadata": {},
   "outputs": [
    {
     "data": {
      "text/plain": [
       "array([[nan, nan, nan, ..., nan, nan, nan],\n",
       "       [nan, nan, nan, ..., nan, nan, nan],\n",
       "       [nan, nan, nan, ..., nan, nan, nan],\n",
       "       ...,\n",
       "       [nan, nan, nan, ..., nan, nan, nan],\n",
       "       [nan, nan, nan, ..., nan, nan, nan],\n",
       "       [nan, nan, nan, ..., nan, nan, nan]])"
      ]
     },
     "execution_count": 284,
     "metadata": {},
     "output_type": "execute_result"
    }
   ],
   "source": [
    "boa"
   ]
  },
  {
   "cell_type": "code",
   "execution_count": 285,
   "id": "3136dc2c",
   "metadata": {},
   "outputs": [
    {
     "name": "stderr",
     "output_type": "stream",
     "text": [
      "/home/luisfigueiredo/.local/lib/python3.8/site-packages/matplotlib/axes/_axes.py:6630: RuntimeWarning: All-NaN slice encountered\n",
      "  xmin = min(xmin, np.nanmin(xi))\n",
      "/home/luisfigueiredo/.local/lib/python3.8/site-packages/matplotlib/axes/_axes.py:6631: RuntimeWarning: All-NaN slice encountered\n",
      "  xmax = max(xmax, np.nanmax(xi))\n"
     ]
    },
    {
     "data": {
      "text/plain": [
       "(array([[0., 0., 0., ..., 0., 0., 0.],\n",
       "        [0., 0., 0., ..., 0., 0., 0.],\n",
       "        [0., 0., 0., ..., 0., 0., 0.],\n",
       "        ...,\n",
       "        [0., 0., 0., ..., 0., 0., 0.],\n",
       "        [0., 0., 0., ..., 0., 0., 0.],\n",
       "        [0., 0., 0., ..., 0., 0., 0.]]),\n",
       " array([0. , 0.1, 0.2, 0.3, 0.4, 0.5, 0.6, 0.7, 0.8, 0.9, 1. ]),\n",
       " <a list of 1401 Lists of Patches objects>)"
      ]
     },
     "execution_count": 285,
     "metadata": {},
     "output_type": "execute_result"
    },
    {
     "data": {
      "image/png": "[encoded data removed]",
      "text/plain": [
       "<Figure size 432x288 with 1 Axes>"
      ]
     },
     "metadata": {
      "needs_background": "light"
     },
     "output_type": "display_data"
    }
   ],
   "source": [
    "plt.hist(boa)"
   ]
  },
  {
   "cell_type": "code",
   "execution_count": null,
   "id": "d52d38bc",
   "metadata": {},
   "outputs": [],
   "source": []
  },
  {
   "cell_type": "code",
   "execution_count": null,
   "id": "5f687cec",
   "metadata": {},
   "outputs": [],
   "source": []
  },
  {
   "cell_type": "code",
   "execution_count": null,
   "id": "aaedb2a4",
   "metadata": {},
   "outputs": [],
   "source": []
  },
  {
   "cell_type": "markdown",
   "id": "99e22e1b",
   "metadata": {},
   "source": [
    "# ----------------------------------------- CCA --------------------------------------------------"
   ]
  },
  {
   "cell_type": "code",
   "execution_count": null,
   "id": "25c69a4b",
   "metadata": {},
   "outputs": [],
   "source": []
  },
  {
   "cell_type": "code",
   "execution_count": 286,
   "id": "95667bec",
   "metadata": {},
   "outputs": [],
   "source": [
    "from math import floor, ceil\n",
    "\n",
    "np.set_printoptions(suppress=True)    #so the values in arrays don't came with that exponential format"
   ]
  },
  {
   "cell_type": "code",
   "execution_count": 298,
   "id": "5904a88c",
   "metadata": {},
   "outputs": [],
   "source": [
    "\n",
    "\n",
    "\n",
    "##################################### Cayula-Cornillon Functions ############################################################3\n",
    "\n",
    "def getFrontInWindow(w, head, minTheta, minPopProp, minPopMeanDiff, minSinglePopCohesion, \n",
    "                     minGlobalPopCohesion, corners):\n",
    "    \n",
    "    \"\"\"\n",
    "    This functions detects fronts in slidding windows. If a front is detected, the function will return\n",
    "    2 1D arrays (x and y) with the coordinate values corresponding to the location of the front.\n",
    "    \"\"\"\n",
    "    \n",
    "    #empty arrays de xdata, ydata e z\n",
    "    xdata, ydata = np.array([]), np.array([])\n",
    "    exitType=0\n",
    "    \n",
    "    #mask is an array with the same shape of w, that is 1 if in that index position w = np.nan and 0 otherwise\n",
    "    mask = np.isnan(w).astype('int')  \n",
    "    haveNaNs = np.any(mask[:]).astype('int')  #haveNaNs=1 if mask has 1s (that correspond to NaNs in matrix w)\n",
    "    n_NaNs=0\n",
    "    \n",
    "    \n",
    "    if haveNaNs:\n",
    "        n_NaNs = sum(mask.flatten()[:])                 # count nr of 1s (NaNs in matrix w) that there are\n",
    "        if (n_NaNs/len(w.flatten())>0.5):               #window can't have more than 50% of its pixels as NaNs\n",
    "            exitType=-1\n",
    "            return None,None,None,exitType  \n",
    "        \n",
    "    mi_ma = [np.nanmin(w), np.nanmax(w)]                          #array with minimum and maximum value of w\n",
    "    n = ceil((mi_ma[1]-mi_ma[0])/0.02)                            #number of bins\n",
    "    bins = np.arange(mi_ma[0], mi_ma[1], 0.02)                    #to define the bins sequence \n",
    "    [y, xout] = np.histogram(w[:], bins, mi_ma)                   #y->frequency counts, Xout->bin location\n",
    "    xout = np.mean(np.vstack([xout[0:-1],xout[1:]]), axis=0)      #xout to be relative to the centers of the bins\n",
    "    \n",
    "    \n",
    "    thresValue = xout[0]        \n",
    "    totalCount = len(w.flatten()) - n_NaNs                         #nr of non NaN pixels \n",
    "    threshPopACount, threshSeparation, threshPopAMean, threshPopBMean  = 0, -1, 0, 0\n",
    " \n",
    "    \n",
    "    w[mask==1] = 0                      #Replace NaNs with 0's (when mask is 1 replace values of array w for 0)\n",
    "    totalSum = sum(w.flatten())                      #sum of values of matrix w\n",
    "    totalSumSquares = sum(w.flatten()*w.flatten())   #sum of the squares of the values of w\n",
    "    \n",
    "    #In this for loop we are going to discover which line is going to make the best separation between the average\n",
    "    # of population on the left and on the right (A and B) - and that is going to be the thresValue\n",
    "    for k in range(1,n-1):     #ignore the first and last candidates (senão seria de 0 a n)\n",
    "        popASum = sum(y[0:k+1] * xout[0:k+1])    \n",
    "        popBSum = sum(y[k+1:] * xout[k+1:])  \n",
    "        popACount = sum(y[0:k+1])     #sum of frequencies (y) from populationA\n",
    "        popBCount = sum(y[k+1:])      #sum of frequencies (y) from populationB\n",
    "    \n",
    "        popAMean = popASum/popACount\n",
    "        try:                                  #to avoid the zerodivisionerror that was poping up \n",
    "            popBMean = popBSum/popBCount\n",
    "        except ZeroDivisionError:\n",
    "            popBMean = 0\n",
    "        separation = popACount * popBCount * (popAMean - popBMean) * (popAMean - popBMean)\n",
    "        if separation>threshSeparation:\n",
    "            threshSeparation = separation\n",
    "            thresValue = xout[k]\n",
    "            threshPopACount = popACount\n",
    "            threshPopAMean = popAMean\n",
    "            threshPopBMean = popBMean\n",
    "            \n",
    "         \n",
    "    #abort in case the proportion of population A is less that a certain minimum OR in case the proportion of population B is less that a certain minimum\n",
    "    if (threshPopACount / totalCount < minPopProp) or (1.0 - threshPopACount / totalCount < minPopProp):\n",
    "        exitType = 1\n",
    "        return None,None, None, exitType  \n",
    "    \n",
    "    #abort this window if the difference in the populations means is less than a minimum value\n",
    "    if (threshPopBMean - threshPopAMean < minPopMeanDiff):   \n",
    "        exitType = 2\n",
    "        return None,None,None,exitType  \n",
    "    \n",
    "    #Calculate the criterion function THETA (TAUopt) in page 72 of the paper\n",
    "    totalMean = totalSum/totalCount\n",
    "    variance = totalSumSquares - (totalMean * totalMean * totalCount)\n",
    "    theta = threshSeparation / (variance * totalCount)\n",
    "    if (theta < minTheta):         #abort if theta is lower than a certain minimum  \n",
    "        exitType = 3\n",
    "        return None,None,None,exitType  \n",
    "    \n",
    "#Cohesion - now that we know the separation value. Based on this value we will check the matrix element by \n",
    "#element, and check whether is bigger or lower than the separation  \n",
    "#we check if it's bigger bellow or to the right (when its bigger we add from one side, when its lower add to the other)\n",
    "#Count the nr of times a population A cell is immediately adjacent to another popA cell and the same for popB\n",
    "# A cell can be adjacent on 4 sides. Count only 2 of them (bottom and right side) because doing all 4 would be\n",
    "#redundant. Do not count diagonal neighbors\n",
    "    countANextToA, countBNextToB, countANextToAOrB, countBNextToAOrB  = 0, 0, 0, 0\n",
    "    [n_rows, n_cols] = w.shape\n",
    "    for col in range(0, n_cols-1):\n",
    "        for row in range(0, n_rows-1):\n",
    "            if (haveNaNs & (mask[row, col] | mask[row+1, col] | mask[row, col+1])):\n",
    "                continue\n",
    "                         \n",
    "            #examine the bottom neighbor\n",
    "            if (w[row, col] <= thresValue):                  #if matrix pixel < than the element of separation\n",
    "                countANextToAOrB = countANextToAOrB + 1      #increase by 1 countANextToAOrB\n",
    "                if (w[row+1, col] <= thresValue):            #if pixel of bottom row < than separation\n",
    "                    countANextToA = countANextToA + 1        #increase countANextToA\n",
    "            else:                                            #if pixel > than separation \n",
    "                countBNextToAOrB = countBNextToAOrB + 1      #increase countBNextToAOrB\n",
    "                if (w[row+1, col] > thresValue):             #if pixel of bellow row > separation\n",
    "                    countBNextToB = countBNextToB + 1        #increase countBNextToB\n",
    "                         \n",
    "                         \n",
    "            # Examine the right neighbor\n",
    "            if (w[row, col] <= thresValue):                     #if matrix pixel < separation      \n",
    "                countANextToAOrB = countANextToAOrB + 1         # increase countANextToAOrB\n",
    "                if (w[row, col+1] <= thresValue):               #if right pixel < separation\n",
    "                    countANextToA = countANextToA + 1           # increase countANextToA\n",
    "            else:                                               #if matrix pixel > separation\n",
    "                countBNextToAOrB = countBNextToAOrB + 1         #increase countBNextToAOrB\n",
    "                if (w[row, col+1] > thresValue):                #if right pixel > separation\n",
    "                    countBNextToB = countBNextToB +1            # increase countBNextToB\n",
    "                         \n",
    "                         \n",
    "    popACohesion = countANextToA / countANextToAOrB\n",
    "    popBCohesion = countBNextToB/ countBNextToAOrB\n",
    "    globalCohesion = (countANextToA + countBNextToB) / (countANextToAOrB + countBNextToAOrB)\n",
    "    \n",
    "    #These ifs are in case of errors (parameters below certain limits)\n",
    "    if (popACohesion < minSinglePopCohesion) or (popBCohesion < minSinglePopCohesion) or (globalCohesion < minGlobalPopCohesion):\n",
    "        exitType = 4\n",
    "        return None, None,None,exitType  \n",
    "                         \n",
    "                         \n",
    "    #OK if we reach here we have a front. Compute its contour\n",
    "    X = np.linspace(head[0], head[1], n_cols)    \n",
    "    Y = np.linspace(head[2], head[3], n_rows)\n",
    "    if (corners.size == 0):\n",
    "        w = w.astype('double')    \n",
    "        if haveNaNs:\n",
    "            w[w==0] = np.nan      # Need to restore the NaNs to not invent new contours around zeros\n",
    "        \n",
    "        c = plt.contour(X, Y, w, [thresValue])    #Create and store a set of contour lines or filled regions.\n",
    "    else:\n",
    "        #the 4 corners have these indices [17,32,17,32; 17,32,1,16; 1,16,1,16;1,16,17,32]\n",
    "        # and the variable corners has one of its rows (the current to be retained sub-window)\n",
    "        \n",
    "        X = X[np.arange(corners[2]-1, corners[3])]\n",
    "        Y = Y[np.arange(corners[0]-1, corners[1])]\n",
    "        w = w[np.arange(corners[0], corners[1]).min()-1:np.arange(corners[0], corners[1]).max()+1, np.arange(corners[2], corners[3]).min()-1:np.arange(corners[2], corners[3]).max()+1]\n",
    "        \n",
    "        if  haveNaNs:\n",
    "            w[w==0] = np.nan     # Need to restore the NaNs to not invent new contours around zeros\n",
    "                         \n",
    "        if (np.isnan(w)).all()==True:\n",
    "            c = np.array([])\n",
    "        else:\n",
    "            c = plt.contour(X, Y, w, [thresValue])     #Create and store a set of contour lines or filled regions.\n",
    "                     \n",
    "                \n",
    "        #breakpoint()\n",
    "        try:\n",
    "            M = c.allsegs[:]          #list of arrays for contour c. Each array corresponds to a line that may or may not be drawn. This list can have any number of arrays\n",
    "        except:\n",
    "            M = []\n",
    "            \n",
    "        M = [x for x in M if x]   #if the list has empty arrays we will drop them\n",
    "        \n",
    "        count = 0   #to iterate through the various arrays\n",
    "        \n",
    "        #Create list of booleans (True or False) wether the conditions bellow are fulfilled\n",
    "        # Each array (line of contour) must have more that 7 data points and they can't be closed lines\n",
    "        lista = []     \n",
    "        for i in range(len(M[:])):\n",
    "            lista.append([(len(x)<7 or (x[0][0]==x[-1][0] and x[0][1] == x[-1][1])) for x in M[:][i]])\n",
    "            \n",
    "            #if False the line will be drawn\n",
    "            #if True the line will be ignored\n",
    "            \n",
    "        for value in lista:\n",
    "            if value == [True]:\n",
    "                continue        #return to the top of the for loop\n",
    "            else:                    \n",
    "                #For the first array of M we will take all the values of x and put them into an array                    \n",
    "                x = [(M[:][count][0][i][0]).round(4) for i in range(len(M[:][count][0]))]\n",
    "                \n",
    "                #For the first array of M we will take all the values of y and put them into an array                    \n",
    "                y = [(M[:][count][0][i][1]).round(4) for i in range(len(M[:][count][0]))]\n",
    "                \n",
    "                \n",
    "                #save the x and y data points for each line in an xdata and ydata array\n",
    "                xdata, ydata = np.append(xdata, x), np.append(ydata, y)\n",
    "                \n",
    "                count += 1\n",
    "            \n",
    "        z = thresValue\n",
    "        \n",
    "        if (xdata.size == 0):\n",
    "            exitType = 5\n",
    "            \n",
    "    return xdata, ydata, z, exitType\n",
    "        \n",
    "        \n",
    "        \n",
    "def CCA_SIED(df, shape):\n",
    "    \n",
    "    \"\"\"\n",
    "    This function applies the Cayula-Cornillon Algorithm Single Image Edge Detector (CCA_SIED) to a single image data in \n",
    "    df - dataframe format. This dataframe has a column for the longitude, latitude and SST values. \n",
    "    For a single image, the function return the fronts coordinates (x,y) points \n",
    "    \n",
    "    Shape is a tuple with the shape of the data: MUR (1001, 1401);   CMEMS forecast (361,505)\n",
    "    \"\"\"\n",
    "    \n",
    "    #convert the latitude and longitude columns to a numpy array\n",
    "    lat = df['lat'].to_numpy()\n",
    "    lon = df['lon'].to_numpy()\n",
    "    \n",
    "    lat = np.unique(lat).round(3)                        #get the unique values of the latitude array\n",
    "    lon = np.unique(lon).round(3)                        #get the unique values of the longitude array\n",
    "    \n",
    "    lat_min, lat_max, lon_min, lon_max = lat.min(), lat.max(), lon.min(), lon.max()  \n",
    "        \n",
    "    X, Y = np.meshgrid(lon, lat)                              #create rectangular grid out of two given 1D arrays\n",
    "\n",
    "    lat = Y.T\n",
    "    lon = X.T\n",
    "    \n",
    "    Z = df['analysed_sst'].to_numpy(dtype ='float32').reshape(shape)\n",
    "    \n",
    "    head = np.array([lon_min, lon_max], dtype='float64')           \n",
    "    head = np.append(head, [lat_min, lat_max])  \n",
    "\n",
    "    z_dim = Z.shape                                                 #dimensions/shape of matrix Z (rows, cols)\n",
    "\n",
    "    z_actual_range = np.array([np.nanmin(Z[:]), np.nanmax(Z[:])])   #range of data (minimum and maximum of matrix Z)\n",
    "    nx = z_dim[1]                                                   # number of columns of matrix Z\n",
    "    ny = z_dim[0]                                                   # number of rows of matrix Z\n",
    "    node_offset = 0\n",
    "    \n",
    "    #index 4 -> minimum value of Z; index5 -> maximum value of Z; index6 -> node_offset=0\n",
    "    head = np.append(head, np.array([z_actual_range[0], z_actual_range[1] , node_offset]))    \n",
    "    head = np.append(head, np.array((head[1]- head[0])/(nx - int(not node_offset))))     \n",
    "    head = np.append(head, np.array((head[3]- head[2])/(ny - int(not node_offset))))     \n",
    "\n",
    "    \n",
    "    #cayula;   minPopProp-> minimum proportion of each population;     minPopMeanDiff ->minimum difference between the means of the 2 populations\n",
    "    minPopProp, minPopMeanDiff, minTheta, minSinglePopCohesion, minGlobalPopCohesion = 0.2, 0.4, 0.7, 0.9, 0.7       \n",
    "    \n",
    "    [n_rows, n_cols] = Z.shape         #nr of rows and nr of columns of matrix Z\n",
    "    winW16, winW32, winW48 = 16, 32, 48\n",
    "\n",
    "    #arrays that will store the contour of every front that will be detected\n",
    "    xdata_final, ydata_final = np.array([]), np.array([])\n",
    "\n",
    "    s=0                              #s=1 means subwindows do NOT share a common border. With s = 0 they do.\n",
    "\n",
    "    xSide16 = winW16*head[7]\n",
    "    ySide16 = winW16*head[8]\n",
    "    xSide32 = (winW32 - s) * head[7]\n",
    "    ySide32 = (winW32 - s) * head[8]\n",
    "\n",
    "    nWinRows = floor(n_rows/winW16)   #times a window can slide over the rows \n",
    "    nWinCols = floor(n_cols/winW16)   #times a window can slide over the columns\n",
    "\n",
    "\n",
    "    \n",
    "    for wRow in range(1, nWinRows-1):    \n",
    "        #start and stop indices and coords of current window\n",
    "        r1 = (wRow-1) * winW16 + 1\n",
    "        r2 = r1 + winW48 -s     \n",
    "    \n",
    "        y0 = head[2] + (wRow-1)*ySide16   \n",
    "    \n",
    "        for wCol in range(1, nWinCols-1):     \n",
    "            c1 = (wCol - 1)*winW16+1\n",
    "            c2 = c1 + winW48 - s\n",
    "            x0 = head[0] + (wCol-1) * xSide16     \n",
    "            wPad = Z[r1-1:r2, c1-1:c2]            # 49x49 (or 48x48 if s == 1) Window\n",
    "        \n",
    "            rr = np.array([1,1,2,2])\n",
    "            cc = np.array([1,2,2,1])\n",
    "        \n",
    "            if s==1:\n",
    "                corners = np.array([[17, 32, 17, 32], [17, 32, 1, 16], [1, 16, 1, 16], [1, 16, 17, 32]])  #less good\n",
    "            else:\n",
    "                corners = np.array([[17, 33, 17, 33], [17, 33, 1, 17], [1, 17, 1, 17], [1, 17, 17, 33]])\n",
    "            \n",
    "            for k in range(0,4):            #loop over the 4 slidding 32X32 sub-windows of the larger 48x48 one\n",
    "                m1 = (rr[k] - 1) * winW16 + 1\n",
    "                m2 = m1 + 2 * winW16 - s             #indices of the slidding 33X33 window\n",
    "                n1 = (cc[k] - 1) * winW16 + 1\n",
    "                n2 = n1 + 2 * winW16 - s\n",
    "            \n",
    "                w = wPad[m1-1:m2, n1-1:n2].astype('double')      #sub window with size 33x33\n",
    "            \n",
    "                #corners coordinates\n",
    "                subWinX0 = x0 + (cc[k] - 1) * xSide16\n",
    "                subWinX1 = subWinX0 + xSide32\n",
    "                subWinY0 = y0 + (rr[k] - 1) * ySide16\n",
    "                subWinY1 = subWinY0 + ySide32\n",
    "            \n",
    "                R = np.array([subWinX0, subWinX1, subWinY0, subWinY1])\n",
    "          \n",
    "                xdata, ydata, z, exitType = getFrontInWindow(w, R, minTheta, minPopProp, minPopMeanDiff, minSinglePopCohesion, minGlobalPopCohesion, corners[k,:])\n",
    "            \n",
    "                if (exitType == 0):\n",
    "                   \n",
    "                    xdata_final = np.append(xdata_final, xdata)\n",
    "                \n",
    "                    ydata_final = np.append(ydata_final,ydata)\n",
    "            \n",
    "                \n",
    "    return xdata_final, ydata_final                "
   ]
  },
  {
   "cell_type": "code",
   "execution_count": null,
   "id": "a4b8081d",
   "metadata": {},
   "outputs": [],
   "source": []
  },
  {
   "cell_type": "code",
   "execution_count": 325,
   "id": "0918897b",
   "metadata": {},
   "outputs": [],
   "source": [
    "def CCA_front(df): \n",
    "    \n",
    "    \"\"\"\n",
    "    This function receives a dataframe with MUR data for a individual day and plots the result\n",
    "    of the aplication of the Cayula-Cornillon Algorithm\n",
    "    \"\"\"\n",
    "    \n",
    "\n",
    "    front = np.zeros((1001,1401))       #initialize a matrix of zeros. This shape is for the MUR data\n",
    "        \n",
    "    xdata_final, ydata_final = CCA_SIED(df, shape=(1001, 1401))       \n",
    "    \n",
    "    cols_x = np.array([])\n",
    "    for value in xdata_final:                     #convert values in array x to the respective index in a (1001, 1401) matrix\n",
    "        aux_x = (19+value)/0.01                  #these numbers are relative to the MUR data\n",
    "        cols_x = np.append(cols_x, aux_x)\n",
    "    \n",
    "    rows_y = np.array([])\n",
    "    for value in ydata_final:                     #convert values in array y to the respective index in a (1001, 1401) matrix\n",
    "        aux_y = (45-value)/0.01                  #these numbers are relative to the MUR data\n",
    "        rows_y = np.append(rows_y, aux_y)\n",
    "\n",
    "    cols_x = np.round(cols_x)\n",
    "    rows_y = np.round(rows_y)\n",
    "            \n",
    "    for i in range(len(cols_x)):   #it could also be len(rows_y)\n",
    "        front[int(rows_y[i]), int(cols_x[i])] = front[int(rows_y[i]), int(cols_x[i])] + 1\n",
    "        \n",
    "    front[front != 0] = 1\n",
    "    \n",
    "    \n",
    "    #Create a masked_array in order to get the continental zone well defined\n",
    "    \n",
    "    #Convert some df to a numpy array with the SST values for each value of longitude and latitude\n",
    "    sst = df.pivot_table(index='lon', columns='lat', values='analysed_sst').T.values   \n",
    "    mask = np.isnan(np.flipud(sst))       #Boolean array=True where array Temp had Null values (continental zone)\n",
    "    mask255 =np.where(mask,(np.ones(mask.shape))*255,0).astype(\"uint8\")   #array which pixels = 255 when mask=True \n",
    "    #Make a dilation to ensure the pixels that belong to the shore are not consideredd fronts\n",
    "    kernel = np.ones((3,3), np.uint8)\n",
    "    mask_dilated = cv2.dilate(mask255, kernel)\n",
    "    cca_front = np.ma.masked_where(mask_dilated==255, front)  \n",
    "    \n",
    "    #cca_front = np.flipud(cca_front) \n",
    "    \n",
    "    #cca_front[cca_front == 255] = 1\n",
    "    \n",
    "    return cca_front"
   ]
  },
  {
   "cell_type": "code",
   "execution_count": null,
   "id": "5729aa3a",
   "metadata": {},
   "outputs": [],
   "source": []
  },
  {
   "cell_type": "code",
   "execution_count": 326,
   "id": "29a5c13a",
   "metadata": {},
   "outputs": [
    {
     "name": "stderr",
     "output_type": "stream",
     "text": [
      "/tmp/ipykernel_6027/3035077971.py:151: UserWarning: No contour levels were found within the data range.\n",
      "  c = plt.contour(X, Y, w, [thresValue])     #Create and store a set of contour lines or filled regions.\n",
      "/tmp/ipykernel_6027/3035077971.py:53: RuntimeWarning: invalid value encountered in double_scalars\n",
      "  popBMean = popBSum/popBCount\n"
     ]
    },
    {
     "data": {
      "image/png": "[encoded data removed]",
      "text/plain": [
       "<Figure size 432x288 with 1 Axes>"
      ]
     },
     "metadata": {
      "needs_background": "light"
     },
     "output_type": "display_data"
    }
   ],
   "source": [
    "cca_frente = CCA_front(df_ex)"
   ]
  },
  {
   "cell_type": "code",
   "execution_count": null,
   "id": "bf878119",
   "metadata": {},
   "outputs": [],
   "source": []
  },
  {
   "cell_type": "code",
   "execution_count": 327,
   "id": "3113bfad",
   "metadata": {},
   "outputs": [
    {
     "data": {
      "text/plain": [
       "<matplotlib.image.AxesImage at 0x7f4480b053d0>"
      ]
     },
     "execution_count": 327,
     "metadata": {},
     "output_type": "execute_result"
    },
    {
     "data": {
      "image/png": "[encoded data removed]",
      "text/plain": [
       "<Figure size 432x288 with 1 Axes>"
      ]
     },
     "metadata": {
      "needs_background": "light"
     },
     "output_type": "display_data"
    }
   ],
   "source": [
    "plt.imshow(cca_frente)"
   ]
  },
  {
   "cell_type": "code",
   "execution_count": 337,
   "id": "1a118aa9",
   "metadata": {},
   "outputs": [
    {
     "data": {
      "text/plain": [
       "1.0"
      ]
     },
     "execution_count": 337,
     "metadata": {},
     "output_type": "execute_result"
    }
   ],
   "source": [
    "np.nanmax(cca_frente)"
   ]
  },
  {
   "cell_type": "code",
   "execution_count": 329,
   "id": "2598b1c9",
   "metadata": {},
   "outputs": [
    {
     "data": {
      "text/plain": [
       "0.0"
      ]
     },
     "execution_count": 329,
     "metadata": {},
     "output_type": "execute_result"
    }
   ],
   "source": [
    "np.nanmin(cca_frente)"
   ]
  },
  {
   "cell_type": "code",
   "execution_count": 336,
   "id": "5d13a686",
   "metadata": {},
   "outputs": [
    {
     "data": {
      "text/plain": [
       "1.0"
      ]
     },
     "execution_count": 336,
     "metadata": {},
     "output_type": "execute_result"
    }
   ],
   "source": [
    "cca_frente.max()"
   ]
  },
  {
   "cell_type": "code",
   "execution_count": 335,
   "id": "b999294d",
   "metadata": {},
   "outputs": [
    {
     "data": {
      "text/plain": [
       "masked_array(\n",
       "  data=[[0.0, 0.0, 0.0, ..., 0.0, 0.0, 0.0],\n",
       "        [0.0, 0.0, 0.0, ..., 0.0, 0.0, 0.0],\n",
       "        [0.0, 0.0, 0.0, ..., 0.0, 0.0, 0.0],\n",
       "        ...,\n",
       "        [0.0, 0.0, 0.0, ..., --, --, --],\n",
       "        [0.0, 0.0, 0.0, ..., --, --, --],\n",
       "        [0.0, 0.0, 0.0, ..., --, --, --]],\n",
       "  mask=[[False, False, False, ..., False, False, False],\n",
       "        [False, False, False, ..., False, False, False],\n",
       "        [False, False, False, ..., False, False, False],\n",
       "        ...,\n",
       "        [False, False, False, ...,  True,  True,  True],\n",
       "        [False, False, False, ...,  True,  True,  True],\n",
       "        [False, False, False, ...,  True,  True,  True]],\n",
       "  fill_value=1e+20)"
      ]
     },
     "execution_count": 335,
     "metadata": {},
     "output_type": "execute_result"
    }
   ],
   "source": [
    "cca_frente"
   ]
  },
  {
   "cell_type": "code",
   "execution_count": null,
   "id": "f9d277be",
   "metadata": {},
   "outputs": [],
   "source": []
  },
  {
   "cell_type": "code",
   "execution_count": 338,
   "id": "30822d02",
   "metadata": {},
   "outputs": [
    {
     "data": {
      "text/plain": [
       "(array([[1001.,    0.,    0., ...,    0.,    0.,    0.],\n",
       "        [1001.,    0.,    0., ...,    0.,    0.,    0.],\n",
       "        [1001.,    0.,    0., ...,    0.,    0.,    0.],\n",
       "        ...,\n",
       "        [1001.,    0.,    0., ...,    0.,    0.,    0.],\n",
       "        [1001.,    0.,    0., ...,    0.,    0.,    0.],\n",
       "        [1001.,    0.,    0., ...,    0.,    0.,    0.]]),\n",
       " array([0. , 0.1, 0.2, 0.3, 0.4, 0.5, 0.6, 0.7, 0.8, 0.9, 1. ]),\n",
       " <a list of 1401 Lists of Patches objects>)"
      ]
     },
     "execution_count": 338,
     "metadata": {},
     "output_type": "execute_result"
    },
    {
     "data": {
      "image/png": "[encoded data removed]",
      "text/plain": [
       "<Figure size 432x288 with 1 Axes>"
      ]
     },
     "metadata": {
      "needs_background": "light"
     },
     "output_type": "display_data"
    }
   ],
   "source": [
    "plt.hist(cca_frente)"
   ]
  },
  {
   "cell_type": "code",
   "execution_count": null,
   "id": "33addb28",
   "metadata": {},
   "outputs": [],
   "source": []
  },
  {
   "cell_type": "code",
   "execution_count": 339,
   "id": "8d3c0857",
   "metadata": {},
   "outputs": [],
   "source": [
    "cca_frente[cca_frente == 255] = 1"
   ]
  },
  {
   "cell_type": "code",
   "execution_count": 340,
   "id": "e5e4d90a",
   "metadata": {},
   "outputs": [
    {
     "data": {
      "text/plain": [
       "<matplotlib.image.AxesImage at 0x7f4479afcf40>"
      ]
     },
     "execution_count": 340,
     "metadata": {},
     "output_type": "execute_result"
    },
    {
     "data": {
      "image/png": "[encoded data removed]",
      "text/plain": [
       "<Figure size 432x288 with 1 Axes>"
      ]
     },
     "metadata": {
      "needs_background": "light"
     },
     "output_type": "display_data"
    }
   ],
   "source": [
    "plt.imshow(cca_frente)"
   ]
  },
  {
   "cell_type": "code",
   "execution_count": 342,
   "id": "596d1a41",
   "metadata": {},
   "outputs": [
    {
     "data": {
      "text/plain": [
       "0.0"
      ]
     },
     "execution_count": 342,
     "metadata": {},
     "output_type": "execute_result"
    }
   ],
   "source": [
    "cca_frente.min()"
   ]
  },
  {
   "cell_type": "code",
   "execution_count": null,
   "id": "6f434bcc",
   "metadata": {},
   "outputs": [],
   "source": []
  },
  {
   "cell_type": "code",
   "execution_count": null,
   "id": "7c6e44ae",
   "metadata": {},
   "outputs": [],
   "source": []
  },
  {
   "cell_type": "markdown",
   "id": "54a70f22",
   "metadata": {},
   "source": [
    "# -----------------------------------------------------------------------------------------------"
   ]
  },
  {
   "cell_type": "code",
   "execution_count": null,
   "id": "6ecd4907",
   "metadata": {},
   "outputs": [],
   "source": []
  },
  {
   "cell_type": "code",
   "execution_count": 135,
   "id": "1c9bebaa",
   "metadata": {},
   "outputs": [],
   "source": [
    "class Employee:\n",
    "    \n",
    "    num_employees = 0\n",
    "    \n",
    "    raise_amount = 1.04\n",
    "    \n",
    "    def __init__(self, first, last, pay):\n",
    "        self.first = first\n",
    "        self.last = last\n",
    "        self.pay = pay\n",
    "        self.email = first + '.' + last + '@colabatlantic.com'\n",
    "        \n",
    "        Employee.num_employees += 1\n",
    "        \n",
    "    def fullname(self):\n",
    "        return '{} {}'.format(self.first, self.last)\n",
    "    \n",
    "    def apply_raise(self):\n",
    "        self.pay = int(self.pay * self.raise_amount)\n",
    "\n",
    "    @classmethod   #decorator->allows user to add new functionality to existing object without modifying its structure.\n",
    "    def set_raise_amt(cls, amount):   #agora recebemos a class como 1º arg em vez da instance variable (self)\n",
    "        cls.raise_amount = amount\n",
    "        \n",
    "    @classmethod\n",
    "    def from_string(cls, emp_str):\n",
    "        first, last, pay = emp_str.split('-')\n",
    "        return cls(first, last, pay)\n",
    "    \n",
    "    #function that receives a date and say if it was work day\n",
    "    #Usam-se Static Methods quando não vamos ter de aceder à instance nem à class durante a função\n",
    "    @staticmethod # static methods don't take the instance (self) or the class as the first argument\n",
    "    def is_workday(day):\n",
    "        if day.weekday() == 5 or day.weekday() == 6:   #se for sabado ou domingo\n",
    "            return False\n",
    "        return True\n",
    "\n",
    "class Developer(Employee):   #Inherit from the Employee class\n",
    "    \n",
    "    #Visto que queremos que o exista o attribute programming language na class Developer:\n",
    "    def __init__(self, first, last, pay, prog_lang):\n",
    "        \n",
    "        raise_amount = 1.1\n",
    "        \n",
    "        #We are calling the parent class init method. Both of this are the same basically\n",
    "        super().__init__(first, last, pay)\n",
    "        #Employee.__init__(self, first, last, pay)\n",
    "        self.prog_lang = prog_lang\n",
    "        \n",
    "        \n",
    "class Manager(Employee):\n",
    "    \n",
    "    #You don't want to pass mutable data types (lists, dictionaires, ..) as default arguments\n",
    "    def __init__(self, first, last, pay, employees=None):\n",
    "        super().__init__(first, last, pay)\n",
    "        if employees is None:\n",
    "            self.employees = []\n",
    "        else:\n",
    "            self.employees = employees\n",
    "            \n",
    "    #option the adicionar um tirar employees dum certo manager\n",
    "    def add_employee(self, emp):\n",
    "        if emp not in self.employees:\n",
    "            self.employees.append(emp)\n",
    "            \n",
    "    def remove_employee(self, emp):\n",
    "        if emp in self.employees:\n",
    "            self.employees.remove(emp)\n",
    "            \n",
    "    #method that will print all the employees that this manager supervizies\n",
    "    def print_emps(self):\n",
    "        \n",
    "        for emp in self.employees:\n",
    "            print('-->', emp.fullname())\n",
    "        \n",
    "        "
   ]
  },
  {
   "cell_type": "code",
   "execution_count": null,
   "id": "4acf3ed5",
   "metadata": {},
   "outputs": [],
   "source": []
  },
  {
   "cell_type": "code",
   "execution_count": 128,
   "id": "0bf5fd15",
   "metadata": {},
   "outputs": [],
   "source": [
    "dev1 = Developer('Luis', 'Figueiredo', 1600, 'Python')\n",
    "dev2 = Developer('Gui', 'Eugenio', 1600, 'Java')"
   ]
  },
  {
   "cell_type": "code",
   "execution_count": 137,
   "id": "084d67fb",
   "metadata": {},
   "outputs": [],
   "source": [
    "man1 = Manager('Caio', 'Fonteles', 2600, [dev1])\n",
    "man2 = Manager('Nuno', 'Loureiro', 3000, [dev2])"
   ]
  },
  {
   "cell_type": "code",
   "execution_count": 130,
   "id": "159228f8",
   "metadata": {},
   "outputs": [
    {
     "name": "stdout",
     "output_type": "stream",
     "text": [
      "--> Gui Eugenio\n",
      "None\n"
     ]
    }
   ],
   "source": [
    "print(man2.print_emps())"
   ]
  },
  {
   "cell_type": "code",
   "execution_count": 133,
   "id": "99802f66",
   "metadata": {},
   "outputs": [],
   "source": [
    "man2.add_employee(dev1)\n",
    "man2.remove_employee(dev2)"
   ]
  },
  {
   "cell_type": "code",
   "execution_count": 134,
   "id": "4b9360e1",
   "metadata": {},
   "outputs": [
    {
     "name": "stdout",
     "output_type": "stream",
     "text": [
      "--> Luis Figueiredo\n",
      "None\n"
     ]
    }
   ],
   "source": [
    "print(man2.print_emps())"
   ]
  },
  {
   "cell_type": "code",
   "execution_count": null,
   "id": "9c38f613",
   "metadata": {},
   "outputs": [],
   "source": []
  },
  {
   "cell_type": "code",
   "execution_count": 139,
   "id": "63a93309",
   "metadata": {},
   "outputs": [
    {
     "name": "stdout",
     "output_type": "stream",
     "text": [
      "True\n",
      "False\n"
     ]
    }
   ],
   "source": [
    "#diz-nos se um object é uma instance duma dada classe\n",
    "print(isinstance(man1, Manager))   #man1 é uma instance da class Manager\n",
    "\n",
    "print(isinstance(dev1, Manager))    #dev1 não é uma instance da class Manager mas sim da class developer"
   ]
  },
  {
   "cell_type": "code",
   "execution_count": 140,
   "id": "cf23c777",
   "metadata": {},
   "outputs": [
    {
     "name": "stdout",
     "output_type": "stream",
     "text": [
      "True\n"
     ]
    }
   ],
   "source": [
    "print(isinstance(man1, Employee))  \n",
    "#man1 é uma instance da class Employee pq a class Manager é uma sub-class da class Employee"
   ]
  },
  {
   "cell_type": "code",
   "execution_count": null,
   "id": "b971c9ad",
   "metadata": {},
   "outputs": [],
   "source": []
  },
  {
   "cell_type": "code",
   "execution_count": null,
   "id": "fd582f9d",
   "metadata": {},
   "outputs": [],
   "source": []
  },
  {
   "cell_type": "code",
   "execution_count": 141,
   "id": "b8f81945",
   "metadata": {},
   "outputs": [
    {
     "name": "stdout",
     "output_type": "stream",
     "text": [
      "True\n"
     ]
    }
   ],
   "source": [
    "print(issubclass(Developer, Employee))\n",
    "#Developer é uma subclass de Employee"
   ]
  },
  {
   "cell_type": "code",
   "execution_count": 142,
   "id": "f8730162",
   "metadata": {},
   "outputs": [
    {
     "name": "stdout",
     "output_type": "stream",
     "text": [
      "False\n"
     ]
    }
   ],
   "source": [
    "print(issubclass(Developer, Manager))\n",
    "#Mas Developer não é uma subclass de Manager"
   ]
  },
  {
   "cell_type": "code",
   "execution_count": null,
   "id": "5cc0cb5c",
   "metadata": {},
   "outputs": [],
   "source": []
  },
  {
   "cell_type": "code",
   "execution_count": null,
   "id": "14edd441",
   "metadata": {},
   "outputs": [],
   "source": []
  },
  {
   "cell_type": "code",
   "execution_count": null,
   "id": "94fbb3ff",
   "metadata": {},
   "outputs": [],
   "source": []
  },
  {
   "cell_type": "code",
   "execution_count": null,
   "id": "dae10993",
   "metadata": {},
   "outputs": [],
   "source": []
  },
  {
   "cell_type": "code",
   "execution_count": 110,
   "id": "804ca802",
   "metadata": {},
   "outputs": [
    {
     "name": "stdout",
     "output_type": "stream",
     "text": [
      "Help on class Developer in module __main__:\n",
      "\n",
      "class Developer(Employee)\n",
      " |  Developer(first, last, pay)\n",
      " |  \n",
      " |  Method resolution order:\n",
      " |      Developer\n",
      " |      Employee\n",
      " |      builtins.object\n",
      " |  \n",
      " |  Data and other attributes defined here:\n",
      " |  \n",
      " |  raise_amount = 1.1\n",
      " |  \n",
      " |  ----------------------------------------------------------------------\n",
      " |  Methods inherited from Employee:\n",
      " |  \n",
      " |  __init__(self, first, last, pay)\n",
      " |      Initialize self.  See help(type(self)) for accurate signature.\n",
      " |  \n",
      " |  apply_raise(self)\n",
      " |  \n",
      " |  fullname(self)\n",
      " |  \n",
      " |  ----------------------------------------------------------------------\n",
      " |  Class methods inherited from Employee:\n",
      " |  \n",
      " |  from_string(emp_str) from builtins.type\n",
      " |  \n",
      " |  set_raise_amt(amount) from builtins.type\n",
      " |  \n",
      " |  ----------------------------------------------------------------------\n",
      " |  Static methods inherited from Employee:\n",
      " |  \n",
      " |  is_workday(day)\n",
      " |      #function that receives a date and say if it was work day\n",
      " |      #Usam-se Static Methods quando não vamos ter de aceder à instance nem à class durante a função\n",
      " |  \n",
      " |  ----------------------------------------------------------------------\n",
      " |  Data descriptors inherited from Employee:\n",
      " |  \n",
      " |  __dict__\n",
      " |      dictionary for instance variables (if defined)\n",
      " |  \n",
      " |  __weakref__\n",
      " |      list of weak references to the object (if defined)\n",
      " |  \n",
      " |  ----------------------------------------------------------------------\n",
      " |  Data and other attributes inherited from Employee:\n",
      " |  \n",
      " |  num_employees = 6\n",
      "\n",
      "None\n"
     ]
    }
   ],
   "source": [
    "print(help(Developer))"
   ]
  },
  {
   "cell_type": "code",
   "execution_count": 111,
   "id": "3c37cd21",
   "metadata": {},
   "outputs": [],
   "source": [
    "#INHERITANCE -> allow us to inherit attributes and methods from the parent class"
   ]
  },
  {
   "cell_type": "code",
   "execution_count": null,
   "id": "bb32a99f",
   "metadata": {},
   "outputs": [],
   "source": []
  },
  {
   "cell_type": "code",
   "execution_count": 112,
   "id": "a037249b",
   "metadata": {},
   "outputs": [
    {
     "name": "stdout",
     "output_type": "stream",
     "text": [
      "1600\n",
      "1760\n"
     ]
    }
   ],
   "source": [
    "print(dev1.pay)\n",
    "dev1.apply_raise()\n",
    "print(dev1.pay)"
   ]
  },
  {
   "cell_type": "code",
   "execution_count": null,
   "id": "b14405de",
   "metadata": {},
   "outputs": [],
   "source": []
  },
  {
   "cell_type": "code",
   "execution_count": 145,
   "id": "ee7cf4f6",
   "metadata": {},
   "outputs": [],
   "source": [
    "from matplotlib.dates import date2num"
   ]
  },
  {
   "cell_type": "code",
   "execution_count": 146,
   "id": "b37bbdab",
   "metadata": {},
   "outputs": [],
   "source": [
    "day_txt = '20220913'"
   ]
  },
  {
   "cell_type": "code",
   "execution_count": 147,
   "id": "86a419bb",
   "metadata": {},
   "outputs": [],
   "source": [
    "date_obj = datetime.datetime.strptime(day_txt+' 00:00:00', '%Y%m%d %H:%M:%S')\n",
    "date_time = date2num(date_obj)"
   ]
  },
  {
   "cell_type": "code",
   "execution_count": 148,
   "id": "7328a47f",
   "metadata": {},
   "outputs": [
    {
     "data": {
      "text/plain": [
       "738411.0"
      ]
     },
     "execution_count": 148,
     "metadata": {},
     "output_type": "execute_result"
    }
   ],
   "source": [
    "date_time"
   ]
  },
  {
   "cell_type": "code",
   "execution_count": null,
   "id": "9f239578",
   "metadata": {},
   "outputs": [],
   "source": []
  },
  {
   "cell_type": "code",
   "execution_count": 149,
   "id": "29a343a5",
   "metadata": {},
   "outputs": [
    {
     "data": {
      "text/plain": [
       "590198400.0"
      ]
     },
     "execution_count": 149,
     "metadata": {},
     "output_type": "execute_result"
    }
   ],
   "source": [
    "t = datetime.datetime(2022, 9, 14, 0, 0)\n",
    "\n",
    "(t-datetime.datetime(2004,1,1)).total_seconds()\n",
    "    "
   ]
  },
  {
   "cell_type": "code",
   "execution_count": null,
   "id": "b0d3d33f",
   "metadata": {},
   "outputs": [],
   "source": []
  },
  {
   "cell_type": "code",
   "execution_count": null,
   "id": "b7380da8",
   "metadata": {},
   "outputs": [],
   "source": []
  },
  {
   "cell_type": "code",
   "execution_count": null,
   "id": "04205c1d",
   "metadata": {},
   "outputs": [],
   "source": []
  },
  {
   "cell_type": "code",
   "execution_count": null,
   "id": "a1b76251",
   "metadata": {},
   "outputs": [],
   "source": []
  },
  {
   "cell_type": "code",
   "execution_count": null,
   "id": "8b5cba87",
   "metadata": {},
   "outputs": [],
   "source": []
  },
  {
   "cell_type": "code",
   "execution_count": null,
   "id": "f528dcfd",
   "metadata": {},
   "outputs": [],
   "source": []
  },
  {
   "cell_type": "code",
   "execution_count": null,
   "id": "d99be058",
   "metadata": {},
   "outputs": [],
   "source": []
  },
  {
   "cell_type": "code",
   "execution_count": null,
   "id": "a5708991",
   "metadata": {},
   "outputs": [],
   "source": []
  },
  {
   "cell_type": "code",
   "execution_count": null,
   "id": "1fce5a22",
   "metadata": {},
   "outputs": [],
   "source": []
  },
  {
   "cell_type": "code",
   "execution_count": null,
   "id": "786a9f93",
   "metadata": {},
   "outputs": [],
   "source": []
  },
  {
   "cell_type": "code",
   "execution_count": null,
   "id": "8ae99060",
   "metadata": {},
   "outputs": [],
   "source": []
  },
  {
   "cell_type": "code",
   "execution_count": null,
   "id": "a593b946",
   "metadata": {},
   "outputs": [],
   "source": []
  },
  {
   "cell_type": "code",
   "execution_count": null,
   "id": "09a883dc",
   "metadata": {},
   "outputs": [],
   "source": []
  },
  {
   "cell_type": "code",
   "execution_count": null,
   "id": "12363fec",
   "metadata": {},
   "outputs": [],
   "source": []
  },
  {
   "cell_type": "code",
   "execution_count": null,
   "id": "f12195fb",
   "metadata": {},
   "outputs": [],
   "source": []
  },
  {
   "cell_type": "code",
   "execution_count": null,
   "id": "58ab7d7b",
   "metadata": {},
   "outputs": [],
   "source": []
  },
  {
   "cell_type": "code",
   "execution_count": null,
   "id": "10f62171",
   "metadata": {},
   "outputs": [],
   "source": []
  },
  {
   "cell_type": "code",
   "execution_count": null,
   "id": "2c0371a3",
   "metadata": {},
   "outputs": [],
   "source": []
  },
  {
   "cell_type": "code",
   "execution_count": null,
   "id": "eabd3b20",
   "metadata": {},
   "outputs": [],
   "source": []
  },
  {
   "cell_type": "code",
   "execution_count": null,
   "id": "3774c894",
   "metadata": {},
   "outputs": [],
   "source": []
  },
  {
   "cell_type": "code",
   "execution_count": null,
   "id": "1bfea6e2",
   "metadata": {},
   "outputs": [],
   "source": []
  },
  {
   "cell_type": "code",
   "execution_count": null,
   "id": "801db2f3",
   "metadata": {},
   "outputs": [],
   "source": []
  },
  {
   "cell_type": "code",
   "execution_count": null,
   "id": "c9a05d18",
   "metadata": {},
   "outputs": [],
   "source": []
  },
  {
   "cell_type": "code",
   "execution_count": null,
   "id": "f9b9684f",
   "metadata": {},
   "outputs": [],
   "source": []
  },
  {
   "cell_type": "code",
   "execution_count": null,
   "id": "51c469dc",
   "metadata": {},
   "outputs": [],
   "source": []
  },
  {
   "cell_type": "code",
   "execution_count": null,
   "id": "84a427b0",
   "metadata": {},
   "outputs": [],
   "source": []
  },
  {
   "cell_type": "code",
   "execution_count": null,
   "id": "83feb28e",
   "metadata": {},
   "outputs": [],
   "source": []
  },
  {
   "cell_type": "code",
   "execution_count": null,
   "id": "f6bf864e",
   "metadata": {},
   "outputs": [],
   "source": []
  },
  {
   "cell_type": "code",
   "execution_count": null,
   "id": "361a1afe",
   "metadata": {},
   "outputs": [],
   "source": []
  },
  {
   "cell_type": "code",
   "execution_count": null,
   "id": "685033bb",
   "metadata": {},
   "outputs": [],
   "source": []
  },
  {
   "cell_type": "code",
   "execution_count": null,
   "id": "52a8915f",
   "metadata": {},
   "outputs": [],
   "source": []
  }
 ],
 "metadata": {
  "kernelspec": {
   "display_name": "Python 3 (ipykernel)",
   "language": "python",
   "name": "python3"
  },
  "language_info": {
   "codemirror_mode": {
    "name": "ipython",
    "version": 3
   },
   "file_extension": ".py",
   "mimetype": "text/x-python",
   "name": "python",
   "nbconvert_exporter": "python",
   "pygments_lexer": "ipython3",
   "version": "3.8.10"
  }
 },
 "nbformat": 4,
 "nbformat_minor": 5
}
