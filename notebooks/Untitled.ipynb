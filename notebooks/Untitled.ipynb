{
 "cells": [
  {
   "cell_type": "code",
   "execution_count": 2,
   "id": "65ee32c7",
   "metadata": {},
   "outputs": [],
   "source": [
    "\n",
    "import datetime\n",
    "from datetime import date, timedelta\n",
    "import math\n",
    "import itertools\n",
    "import time\n",
    "import cv2\n",
    "from scipy.ndimage import gaussian_filter\n",
    "\n",
    "import pandas as pd\n",
    "import numpy as np\n",
    "import matplotlib.pyplot as plt\n",
    "import seaborn as sns\n",
    "import netCDF4 as nc\n",
    "import xarray as xr\n",
    "import os\n",
    "from pathlib import Path\n",
    "from numpy import nanmedian\n",
    "import scipy\n",
    "import scipy.signal\n",
    "import math\n",
    "from numpy.fft import fft2\n",
    "import cmocean\n",
    "import matplotlib\n",
    "from matplotlib.colors import ListedColormap\n",
    "plt.rcParams[\"figure.figsize\"] = 12, 10\n",
    "%matplotlib inline"
   ]
  },
  {
   "cell_type": "code",
   "execution_count": null,
   "id": "71d854c9",
   "metadata": {},
   "outputs": [],
   "source": []
  },
  {
   "cell_type": "code",
   "execution_count": null,
   "id": "e4e3fd4a",
   "metadata": {},
   "outputs": [],
   "source": []
  },
  {
   "cell_type": "code",
   "execution_count": null,
   "id": "5bb88553",
   "metadata": {},
   "outputs": [],
   "source": []
  },
  {
   "cell_type": "code",
   "execution_count": 3,
   "id": "33f8700b",
   "metadata": {},
   "outputs": [],
   "source": [
    "def get_data(data):\n",
    "    \n",
    "    \"\"\"\n",
    "    Function to get our netCDF file that is stored in the data directory and convert it to a dataframe.\n",
    "    The data parameter is the string name of the netCDF file we want to import\n",
    "    \"\"\"\n",
    "    \n",
    "    current_path = os.getcwd()\n",
    "    data_folder = os.path.join(current_path,\"../data\")\n",
    "    \n",
    "    nc_path = os.path.join(data_folder, data)\n",
    "    ds = nc.Dataset(nc_path)\n",
    "    netCDF = xr.load_dataset(nc_path)\n",
    "    \n",
    "    df = netCDF.to_dataframe()\n",
    "    df = df.reset_index()\n",
    "    \n",
    "    df = df.drop(['depth'], axis=1, errors='ignore') #drop the column 'depth' if exists: only exists in reanalysis\n",
    "    \n",
    "    #if MUR data, rename columns and convert temperature to Celsius (the data must be saved as 'mur...nc')\n",
    "    if data.startswith('mur'):\n",
    "        df.rename(columns={'lat': 'latitude', 'lon': 'longitude', 'time': 'time', 'analysed_sst':'thetao'}, inplace=True)\n",
    "        df['thetao'] = df['thetao']-273.15   \n",
    "        \n",
    "    \n",
    "    return df"
   ]
  },
  {
   "cell_type": "code",
   "execution_count": 4,
   "id": "d01129ce",
   "metadata": {},
   "outputs": [],
   "source": [
    "df_ex = get_data('sst_20220615.nc')"
   ]
  },
  {
   "cell_type": "code",
   "execution_count": 5,
   "id": "cf7e3c46",
   "metadata": {},
   "outputs": [
    {
     "data": {
      "text/html": [
       "<div>\n",
       "<style scoped>\n",
       "    .dataframe tbody tr th:only-of-type {\n",
       "        vertical-align: middle;\n",
       "    }\n",
       "\n",
       "    .dataframe tbody tr th {\n",
       "        vertical-align: top;\n",
       "    }\n",
       "\n",
       "    .dataframe thead th {\n",
       "        text-align: right;\n",
       "    }\n",
       "</style>\n",
       "<table border=\"1\" class=\"dataframe\">\n",
       "  <thead>\n",
       "    <tr style=\"text-align: right;\">\n",
       "      <th></th>\n",
       "      <th>lat</th>\n",
       "      <th>lon</th>\n",
       "      <th>time</th>\n",
       "      <th>analysed_sst</th>\n",
       "    </tr>\n",
       "  </thead>\n",
       "  <tbody>\n",
       "    <tr>\n",
       "      <th>0</th>\n",
       "      <td>35.0</td>\n",
       "      <td>-19.000000</td>\n",
       "      <td>2022-06-15 09:00:00</td>\n",
       "      <td>292.756989</td>\n",
       "    </tr>\n",
       "    <tr>\n",
       "      <th>1</th>\n",
       "      <td>35.0</td>\n",
       "      <td>-18.990000</td>\n",
       "      <td>2022-06-15 09:00:00</td>\n",
       "      <td>292.744995</td>\n",
       "    </tr>\n",
       "    <tr>\n",
       "      <th>2</th>\n",
       "      <td>35.0</td>\n",
       "      <td>-18.980000</td>\n",
       "      <td>2022-06-15 09:00:00</td>\n",
       "      <td>292.733002</td>\n",
       "    </tr>\n",
       "    <tr>\n",
       "      <th>3</th>\n",
       "      <td>35.0</td>\n",
       "      <td>-18.969999</td>\n",
       "      <td>2022-06-15 09:00:00</td>\n",
       "      <td>292.721985</td>\n",
       "    </tr>\n",
       "    <tr>\n",
       "      <th>4</th>\n",
       "      <td>35.0</td>\n",
       "      <td>-18.959999</td>\n",
       "      <td>2022-06-15 09:00:00</td>\n",
       "      <td>292.709991</td>\n",
       "    </tr>\n",
       "    <tr>\n",
       "      <th>...</th>\n",
       "      <td>...</td>\n",
       "      <td>...</td>\n",
       "      <td>...</td>\n",
       "      <td>...</td>\n",
       "    </tr>\n",
       "    <tr>\n",
       "      <th>1402396</th>\n",
       "      <td>45.0</td>\n",
       "      <td>-5.040000</td>\n",
       "      <td>2022-06-15 09:00:00</td>\n",
       "      <td>291.488007</td>\n",
       "    </tr>\n",
       "    <tr>\n",
       "      <th>1402397</th>\n",
       "      <td>45.0</td>\n",
       "      <td>-5.030000</td>\n",
       "      <td>2022-06-15 09:00:00</td>\n",
       "      <td>291.488983</td>\n",
       "    </tr>\n",
       "    <tr>\n",
       "      <th>1402398</th>\n",
       "      <td>45.0</td>\n",
       "      <td>-5.020000</td>\n",
       "      <td>2022-06-15 09:00:00</td>\n",
       "      <td>291.489990</td>\n",
       "    </tr>\n",
       "    <tr>\n",
       "      <th>1402399</th>\n",
       "      <td>45.0</td>\n",
       "      <td>-5.010000</td>\n",
       "      <td>2022-06-15 09:00:00</td>\n",
       "      <td>291.489990</td>\n",
       "    </tr>\n",
       "    <tr>\n",
       "      <th>1402400</th>\n",
       "      <td>45.0</td>\n",
       "      <td>-5.000000</td>\n",
       "      <td>2022-06-15 09:00:00</td>\n",
       "      <td>291.488983</td>\n",
       "    </tr>\n",
       "  </tbody>\n",
       "</table>\n",
       "<p>1402401 rows × 4 columns</p>\n",
       "</div>"
      ],
      "text/plain": [
       "          lat        lon                time  analysed_sst\n",
       "0        35.0 -19.000000 2022-06-15 09:00:00    292.756989\n",
       "1        35.0 -18.990000 2022-06-15 09:00:00    292.744995\n",
       "2        35.0 -18.980000 2022-06-15 09:00:00    292.733002\n",
       "3        35.0 -18.969999 2022-06-15 09:00:00    292.721985\n",
       "4        35.0 -18.959999 2022-06-15 09:00:00    292.709991\n",
       "...       ...        ...                 ...           ...\n",
       "1402396  45.0  -5.040000 2022-06-15 09:00:00    291.488007\n",
       "1402397  45.0  -5.030000 2022-06-15 09:00:00    291.488983\n",
       "1402398  45.0  -5.020000 2022-06-15 09:00:00    291.489990\n",
       "1402399  45.0  -5.010000 2022-06-15 09:00:00    291.489990\n",
       "1402400  45.0  -5.000000 2022-06-15 09:00:00    291.488983\n",
       "\n",
       "[1402401 rows x 4 columns]"
      ]
     },
     "execution_count": 5,
     "metadata": {},
     "output_type": "execute_result"
    }
   ],
   "source": [
    "df_ex"
   ]
  },
  {
   "cell_type": "code",
   "execution_count": null,
   "id": "20c26377",
   "metadata": {},
   "outputs": [],
   "source": []
  },
  {
   "cell_type": "markdown",
   "id": "b694b9a8",
   "metadata": {},
   "source": [
    "# -------------------------------------- CANNY ----------------------------------------------"
   ]
  },
  {
   "cell_type": "code",
   "execution_count": null,
   "id": "22812254",
   "metadata": {},
   "outputs": [],
   "source": []
  },
  {
   "cell_type": "code",
   "execution_count": 26,
   "id": "af4ed2de",
   "metadata": {},
   "outputs": [],
   "source": [
    "\n",
    "\n",
    "# Convert the df to a numpy array with the SST values for the coordinate pair (longitude and latitude)\n",
    "sst = df_ex.pivot_table(index='lon', columns='lat', values='analysed_sst').T.values\n",
    "#Convert Temperature values to uint8 format with values in the range of 0-255\n",
    "sst_final = ((sst - np.nanmin(sst)) * (1/(np.nanmax(sst) - np.nanmin(sst)) * 255)).astype('uint8')\n",
    "sst_final = np.flipud(sst_final)   #flipud -> Reverse the order of elements along axis 0 (up/down).\n",
    "#in case we want to apply a gaussian filter with a certain sigma value (by default is 0)\n",
    "sst_final = gaussian_filter(sst_final, sigma=5)   \n",
    "\n",
    "\n",
    "#apply the canny algorithm and plot the image with the edges\n",
    "canny = cv2.Canny(sst_final, 120, 220, apertureSize=5, L2gradient=False)  #max = 255, min = 0\n",
    "\n",
    "canny[canny == 255] = 1\n",
    "\n",
    "#Apply a mask for the continental zone:\n",
    "mask = np.isnan(np.flipud(sst))    #Boolean array: True where array Temp had Null Values (correspond to the continental zone)\n",
    "#mask255 =np.where(mask,(np.ones(mask.shape))*255,0).astype(\"uint8\")   #array which values= 255 when mask=True\n",
    "#Dilation to ensure that the pixels that belong to the \"shore/continental zone\" are not considered fronts \n",
    "#kernel = np.ones((3,3), np.uint8)\n",
    "#mask_dilated = cv2.dilate(mask255, kernel)\n",
    "canny_front =np.ma.masked_array(canny, mask)   #Mask an array where a condition is True\n",
    "\n",
    "#canny_front.astype('float32')\n",
    "\n",
    "#canny_front[canny_front == 255] = np.nan\n",
    "\n",
    "#canny_front = np.flipud(canny_front) \n",
    "\n"
   ]
  },
  {
   "cell_type": "code",
   "execution_count": 27,
   "id": "0c024aed",
   "metadata": {},
   "outputs": [
    {
     "data": {
      "text/plain": [
       "<matplotlib.image.AxesImage at 0x7f27062194c0>"
      ]
     },
     "execution_count": 27,
     "metadata": {},
     "output_type": "execute_result"
    },
    {
     "data": {
      "image/png": "[encoded data removed]",
      "text/plain": [
       "<Figure size 432x288 with 1 Axes>"
      ]
     },
     "metadata": {
      "needs_background": "light"
     },
     "output_type": "display_data"
    }
   ],
   "source": [
    "plt.imshow(canny_front)"
   ]
  },
  {
   "cell_type": "code",
   "execution_count": 30,
   "id": "e192d51a",
   "metadata": {},
   "outputs": [
    {
     "data": {
      "text/plain": [
       "0"
      ]
     },
     "execution_count": 30,
     "metadata": {},
     "output_type": "execute_result"
    }
   ],
   "source": [
    "canny_front.min()"
   ]
  },
  {
   "cell_type": "code",
   "execution_count": 356,
   "id": "1d25327a",
   "metadata": {},
   "outputs": [
    {
     "data": {
      "text/plain": [
       "<matplotlib.image.AxesImage at 0x7f44797d1550>"
      ]
     },
     "execution_count": 356,
     "metadata": {},
     "output_type": "execute_result"
    },
    {
     "data": {
      "image/png": "[encoded data removed]",
      "text/plain": [
       "<Figure size 432x288 with 1 Axes>"
      ]
     },
     "metadata": {
      "needs_background": "light"
     },
     "output_type": "display_data"
    }
   ],
   "source": [
    "plt.imshow(canny_front)"
   ]
  },
  {
   "cell_type": "code",
   "execution_count": 357,
   "id": "bc91ba23",
   "metadata": {},
   "outputs": [
    {
     "data": {
      "text/plain": [
       "masked_array(data=[0, --, 255, ..., --, 255, --],\n",
       "             mask=[False,  True, False, ...,  True, False,  True],\n",
       "       fill_value=999999,\n",
       "            dtype=uint8)"
      ]
     },
     "execution_count": 357,
     "metadata": {},
     "output_type": "execute_result"
    }
   ],
   "source": [
    "np.unique(canny_front)"
   ]
  },
  {
   "cell_type": "code",
   "execution_count": 360,
   "id": "3447ba58",
   "metadata": {},
   "outputs": [
    {
     "data": {
      "text/plain": [
       "0"
      ]
     },
     "execution_count": 360,
     "metadata": {},
     "output_type": "execute_result"
    }
   ],
   "source": [
    "canny_front.min()"
   ]
  },
  {
   "cell_type": "code",
   "execution_count": null,
   "id": "d75580f6",
   "metadata": {},
   "outputs": [],
   "source": []
  },
  {
   "cell_type": "markdown",
   "id": "93c6143e",
   "metadata": {},
   "source": [
    "# ------------------------------------- BOA -----------------------------------------------"
   ]
  },
  {
   "cell_type": "code",
   "execution_count": null,
   "id": "67002e2d",
   "metadata": {},
   "outputs": [],
   "source": []
  },
  {
   "cell_type": "code",
   "execution_count": 276,
   "id": "0cdd155a",
   "metadata": {},
   "outputs": [],
   "source": [
    "def filt5(lon, lat, ingrid, nodata=np.nan):\n",
    "    \"\"\"\n",
    "    Find peaks in 5 directions. Flag as 5\n",
    "    Finds maximum of a 5x5 sliding window. If the central pixel is the maximum, this is flagged as a one.\n",
    "    All other pixels are flagged as zero.\n",
    "    \"\"\"\n",
    "    \n",
    "    nodatidx = ingrid.flatten()*np.nan     # creates 1D array with as much values as the matrix ingrid, with NANs\n",
    "    outgrid = np.zeros(ingrid.shape)       # outgrid is a matrix with the shape of ingrid, full of Zeros\n",
    "\n",
    "    l1 = len(lat)\n",
    "    l2 = len(lon)\n",
    "\n",
    "    \n",
    "    for i in range(3, l1-1):   \n",
    "        for j in range(3, l2-1):\n",
    "            subg = ingrid[(i-3):(i+2), (j-3):(j+2)]   #return the last 5 rows of the last 5 columns of the matrix\n",
    "            if np.isnan(subg).sum()==25:              #if all values in submatrix subg are null values:\n",
    "                outgrid[i,j] = 0\n",
    "            else:\n",
    "                vec = np.array(subg).T.flatten()    # array with values of the transpose subg matrix\n",
    "                ma = np.argmax(subg.flatten())      # index with the maximum value of subg array\n",
    "                mi = np.argmin(subg.flatten())      # index with the minimum value of subg array\n",
    "                \n",
    "                if ma==12 or mi==12:     #if ma or mi is the middle value of 5X5 matrix (if the central pixel is the maximum)\n",
    "                    outgrid[i-1,j-1] = 1      #flagged as 1\n",
    "                else:\n",
    "                    outgrid[i-1,j-1] = 0      #all other pixels are flagged as 0\n",
    "    \n",
    "    return outgrid"
   ]
  },
  {
   "cell_type": "code",
   "execution_count": null,
   "id": "32d03ad9",
   "metadata": {},
   "outputs": [],
   "source": []
  },
  {
   "cell_type": "code",
   "execution_count": 277,
   "id": "e8d5523b",
   "metadata": {},
   "outputs": [],
   "source": [
    "def filt3(lon, lat, ingrid, grid5):\n",
    "    \"\"\"\n",
    "    Find peaks in 3 directions. FLag as 3\n",
    "    Returns a median smoothed grid of satellite data\n",
    "    \"\"\"\n",
    "    \n",
    "    outgrid = ingrid*0   # matrix of 0s with shape of ingrid matrix\n",
    "    l1 = len(lat)\n",
    "    l2 = len(lon)\n",
    "    \n",
    "    for i in range(3, l1-1):   \n",
    "        for j in range(3, l2-1):\n",
    "            if (grid5[i,j]==0):\n",
    "                subg = ingrid[(i-2):(i+1), (j-2):(j+1)]       # submatrix subg (3x3) \n",
    "                if np.isnan(subg).sum()==9:                   # if all values in submatrix subg (3x3) are null values:\n",
    "                    outgrid[i-1,j-1] = ingrid[i-1,j-1]\n",
    "                else:\n",
    "                    vec = np.array(subg).T.flatten()          # array with values of the transpose subg matrix\n",
    "                    ma = np.argmax(subg.flatten())            # index with the maximum value of subg array\n",
    "                    mi = np.argmin(subg.flatten())            # index with the minimum value of subg array\n",
    "                    \n",
    "                    if (ma==4 or mi==4):                      #if ma or mi is the middle value of 3X3 matrix\n",
    "                        outgrid[i-1,j-1] = nanmedian(subg)    # median while ignoring NaNs.\n",
    "                    else:\n",
    "                        outgrid[i-1,j-1] = ingrid[i-1,j-1]\n",
    "            \n",
    "            else:\n",
    "                outgrid[i-1,j-1] = ingrid[i-1,j-1]\n",
    "                \n",
    "    return outgrid"
   ]
  },
  {
   "cell_type": "code",
   "execution_count": null,
   "id": "ff7dbbed",
   "metadata": {},
   "outputs": [],
   "source": []
  },
  {
   "cell_type": "code",
   "execution_count": 278,
   "id": "d78940b6",
   "metadata": {},
   "outputs": [],
   "source": [
    "def boa(lon, lat, ingrid, nodata = np.nan, direction = False):\n",
    "    \n",
    "    def filter2(x, filt):\n",
    "        \"\"\"\n",
    "        Workhorse filter from EBImage. Modified so we don't need colorspace and other annoying requirements\n",
    "        \"\"\"\n",
    "        \n",
    "        dx = x.shape                          \n",
    "        df = filt.shape  \n",
    "        \n",
    "        if (df[0]//2 == 0) or (df[1]//2 == 0):\n",
    "            sys.exit('dimensions of \"filter\" matrix must be odd')\n",
    "        if (dx[0] < df[0]) or (dx[1] < df[1]):\n",
    "            sys.exit(\"dimensions of 'x' must be bigger than 'filter'\")\n",
    "            \n",
    "        cx = tuple(elem//2 for elem in dx)    \n",
    "        cf = tuple(elem//2 for elem in df)    \n",
    "\n",
    "        wf = np.zeros(shape=dx)                                   #matrix with zeros with shape of x\n",
    "\n",
    "        wf[cx[0]-cf[0]-1:cx[0]+cf[0], cx[1]-cf[1]-1:cx[1]+cf[1]] = filt    #put values of filt in middle of matrix wf\n",
    "\n",
    "        wf = fft2(wf)                                      #apply the 2 dimensional discrete fourier transform                  \n",
    "    \n",
    "        dim_x = np.array(dx[0:2])\n",
    "        dim_x =np.append(dim_x, math.prod(dx)/math.prod(dx[0:2]))     \n",
    "\n",
    "        aux1 = np.arange(cx[0],dx[0]+1)\n",
    "        aux2 = np.arange(1,cx[0])\n",
    "        index1 = np.concatenate((aux1, aux2), axis=None)  \n",
    "        index1 = index1-1   \n",
    "\n",
    "        aux3 = np.arange(cx[1], dx[1]+1)\n",
    "        aux4 = np.arange(1,cx[1])\n",
    "        index2 = np.concatenate((aux3, aux4), axis=None) \n",
    "        index2 = index2-1   \n",
    "        #this indices will be used to reorder values of matrix y\n",
    "        \n",
    "        y = (scipy.fft.ifft2(scipy.fft.fft2(x)*wf)).real\n",
    "\n",
    "        y = np.array([[y[i][j] for j in index2] for i in index1])\n",
    "        \n",
    "        return y\n",
    "    \n",
    "#======================================================#\n",
    "# Main BOA algorithm                                   \n",
    "#======================================================#      \n",
    "    gx = np.matrix([[-1,0,1],[-2,0,2],[-1,0,1]])        #filter in x\n",
    "    gy = np.matrix([[1,2,1],[0,0,0],[-1,-2,-1]])        #filter in y\n",
    "        \n",
    "    np.nan_to_num(ingrid, nan=-9999, posinf=-9999, neginf=-9999)    #replace NaN and inf values with -9999\n",
    "        \n",
    "    grid5 = filt5(lon, lat, ingrid, nodata = nodata)\n",
    "    grid35 = filt3(lon, lat, ingrid, grid5)\n",
    "\n",
    "    # make an index of bad values and land pixels.\n",
    "    grid35 = grid35.astype(\"float\")\n",
    "    grid35[grid35 == -9999]=np.nan\n",
    "    naidx = np.isnan(grid35)        #matrix with shape of grid35 (True if value is nan, False otherwise)\n",
    "    # convert these (True values of naidx) to zeros (in grid35) for smoothing purposes\n",
    "    grid35[naidx]=0  \n",
    "\n",
    "    # perform the smoothing (Sobel filter)  \n",
    "    tgx = filter2(grid35, gx)\n",
    "    tgy = filter2(grid35, gy)\n",
    "        \n",
    "    tx = tgx/np.nansum(abs(np.array(gx).flatten()))    \n",
    "    ty = tgy/np.nansum(abs(np.array(gy).flatten()))    \n",
    "    front = np.sqrt((tx**2)+(ty**2))                   \n",
    "\n",
    "#======================================================#\n",
    "# landmask and edge dilation\n",
    "#======================================================#\n",
    "\n",
    "    land = naidx*1\n",
    "    land = land.astype(\"float\")\n",
    "\n",
    "    land[land==1] = np.nan\n",
    "    land[~np.isnan(land)] = 1\n",
    "\n",
    "    \n",
    "#======================================================#\n",
    "# landmask and edge dilation using raster!\n",
    "#======================================================#\n",
    "\n",
    "    l2=lon.size    \n",
    "    l1=lat.size\n",
    "\n",
    "    midx = land*np.nan\n",
    "\n",
    "    midx[5:(l1-2), 5:(l2-2)] = 1\n",
    "\n",
    "    land = np.multiply(land, midx)\n",
    "    \n",
    "    \n",
    "    ssr = np.flip(front.T, 0)\n",
    "    \n",
    "\n",
    "    #Apply a sliding window kernell to the land matrix\n",
    "    mask = scipy.signal.convolve2d(np.flip(land.T, 0), np.array([0,0,0,0,1,0,0,0,0]).reshape(3,3), boundary='symm', mode='same')\n",
    "\n",
    "    matrix_front =  mask * np.flip(front.T, 0)         #matrix of mask raster file * matrix of ssr raster file\n",
    "\n",
    "\n",
    "    \n",
    "    if direction==True:\n",
    "#   ************************************\n",
    "#   *** Calculate Gradient Direction ***\n",
    "#   ************************************\n",
    "        \n",
    "        n = ingrid.size                                      #nr of elements of the grid matrix\n",
    "        grid_shape = ingrid.shape\n",
    "\n",
    "        GRAD_DIR = np.zeros(n)                               #matrix of zeros with shape of ingrid matrix\n",
    "\n",
    "        for i in range(n):\n",
    "            GRAD_DIR[i] = math.atan2(tgy.flatten()[i], tgx.flatten()[i])\n",
    "    \n",
    "        GRAD_DIR = GRAD_DIR*180/math.pi                      #change radians to degrees\n",
    "\n",
    "        OK = np.where(GRAD_DIR < 0)\n",
    "\n",
    "        OK = np.array(OK)\n",
    "\n",
    "        if OK.size >1:\n",
    "            GRAD_DIR[OK] = 360 - abs(GRAD_DIR[OK])    #Adjust to 0-360 scheme (make negative degrees positive)\n",
    "    \n",
    "        GRAD_DIR = (360 - GRAD_DIR + 90) % 360     #Convert degrees so that 0 degrees is North and East is 90 degrees\n",
    "        GRAD_DIR = GRAD_DIR.reshape(grid_shape)\n",
    "        \n",
    "        \n",
    "        grad_dir = np.flip(GRAD_DIR.T, 0)\n",
    "\n",
    "\n",
    "        # create array grdir (result from multiplication of grad_dir_matrix and mask_matrix (its the conv matrix))\n",
    "        grdir_matrix = np.flip(GRAD_DIR.T, 0)*mask\n",
    "\n",
    "\n",
    "        dic = {'grdir': grdir_matrix, 'front': matrix_front}\n",
    "        \n",
    "    else:\n",
    "        matrix_front\n",
    "\n",
    "        \n",
    "    return matrix_front"
   ]
  },
  {
   "cell_type": "code",
   "execution_count": null,
   "id": "39f9eba4",
   "metadata": {},
   "outputs": [],
   "source": []
  },
  {
   "cell_type": "code",
   "execution_count": 279,
   "id": "dd2182a6",
   "metadata": {},
   "outputs": [],
   "source": [
    "def BOA_aplication(df, threshold = 0.05):  \n",
    "    \n",
    "    \"\"\"\n",
    "    Function to, for a given dataframe with a longitude, latitude and SST columns, \n",
    "    identifies fronts through the application of BOA algorithm.\n",
    "    We also need to define a threshold value to later get the frontal probabilities matrix\n",
    "    (if the pixel value is greater than the threshold, then it is considered a front, otherwise don't). \n",
    "    \"\"\"\n",
    "    \n",
    "    lat = np.array(df['lat'].unique())\n",
    "    lon = np.array(df['lon'].unique())\n",
    "    ingrid = np.array(df['analysed_sst']).reshape(len(lat), len(lon))\n",
    "    \n",
    "    boa_front = boa(lon=lon, lat=lat, ingrid=ingrid, nodata = np.nan, direction = False)\n",
    "    boa_front = np.flip(boa_front, axis=0)\n",
    "    boa_front = np.array([[boa_front[j][i] for j in range(len(boa_front))] for i in range(len(boa_front[0])-1,-1,-1)])\n",
    "    \n",
    "    boa_front = np.where(boa_front>=threshold, 1, boa_front)    \n",
    "    boa_front = np.where(boa_front<threshold, 0, boa_front)\n",
    "    \n",
    "    \n",
    "    #Create a masked_array in order to get the continental zone well defined\n",
    "    #Convert some df to a numpy array with the SST values for each value of longitude and latitude\n",
    "    #sst = df.pivot_table(index='lon', columns='lat', values='analysed_sst').T.values   \n",
    "    #mask = np.isnan(np.flipud(sst))       #Boolean array=True where array Temp had Null values (continental zone)\n",
    "    #mask255 =np.where(mask,(np.ones(mask.shape))*255,0).astype(\"uint8\")   #array which pixels = 255 when mask=True \n",
    "    #Make a dilation to ensure the pixels that belong to the shore are not consideredd fronts\n",
    "    #kernel = np.ones((3,3), np.uint8)\n",
    "    #mask_dilated = cv2.dilate(mask255, kernel)\n",
    "    #boa_front = np.ma.masked_where(mask_dilated==255, boa_front)  \n",
    "    \n",
    "    #boa_front[boa_front == 255] = np.nan\n",
    "    \n",
    "    #boa_front = np.flipud(boa_front) \n",
    "\n",
    "    \n",
    "    #boa_front = np.where(boa_front>=threshold, 1, boa_front)    \n",
    "    #boa_front = np.where(boa_front<threshold, 0, boa_front)\n",
    "\n",
    "    \n",
    "    return boa_front\n"
   ]
  },
  {
   "cell_type": "code",
   "execution_count": null,
   "id": "102f5d4d",
   "metadata": {},
   "outputs": [],
   "source": []
  },
  {
   "cell_type": "code",
   "execution_count": 280,
   "id": "2565614f",
   "metadata": {},
   "outputs": [],
   "source": [
    "boa = BOA_aplication(df_ex, threshold=0.05)"
   ]
  },
  {
   "cell_type": "code",
   "execution_count": 281,
   "id": "2230a6ab",
   "metadata": {},
   "outputs": [
    {
     "data": {
      "text/plain": [
       "<matplotlib.image.AxesImage at 0x7f448c22e250>"
      ]
     },
     "execution_count": 281,
     "metadata": {},
     "output_type": "execute_result"
    },
    {
     "data": {
      "image/png": "[encoded data removed]",
      "text/plain": [
       "<Figure size 432x288 with 1 Axes>"
      ]
     },
     "metadata": {
      "needs_background": "light"
     },
     "output_type": "display_data"
    }
   ],
   "source": [
    "plt.imshow(boa)"
   ]
  },
  {
   "cell_type": "code",
   "execution_count": 282,
   "id": "19d37450",
   "metadata": {},
   "outputs": [
    {
     "data": {
      "text/plain": [
       "1.0"
      ]
     },
     "execution_count": 282,
     "metadata": {},
     "output_type": "execute_result"
    }
   ],
   "source": [
    "np.nanmax(boa)"
   ]
  },
  {
   "cell_type": "code",
   "execution_count": 283,
   "id": "d95fe33b",
   "metadata": {},
   "outputs": [
    {
     "data": {
      "text/plain": [
       "0.0"
      ]
     },
     "execution_count": 283,
     "metadata": {},
     "output_type": "execute_result"
    }
   ],
   "source": [
    "np.nanmin(boa)"
   ]
  },
  {
   "cell_type": "code",
   "execution_count": 284,
   "id": "1210fc75",
   "metadata": {},
   "outputs": [
    {
     "data": {
      "text/plain": [
       "array([[nan, nan, nan, ..., nan, nan, nan],\n",
       "       [nan, nan, nan, ..., nan, nan, nan],\n",
       "       [nan, nan, nan, ..., nan, nan, nan],\n",
       "       ...,\n",
       "       [nan, nan, nan, ..., nan, nan, nan],\n",
       "       [nan, nan, nan, ..., nan, nan, nan],\n",
       "       [nan, nan, nan, ..., nan, nan, nan]])"
      ]
     },
     "execution_count": 284,
     "metadata": {},
     "output_type": "execute_result"
    }
   ],
   "source": [
    "boa"
   ]
  },
  {
   "cell_type": "code",
   "execution_count": 285,
   "id": "3136dc2c",
   "metadata": {},
   "outputs": [
    {
     "name": "stderr",
     "output_type": "stream",
     "text": [
      "/home/luisfigueiredo/.local/lib/python3.8/site-packages/matplotlib/axes/_axes.py:6630: RuntimeWarning: All-NaN slice encountered\n",
      "  xmin = min(xmin, np.nanmin(xi))\n",
      "/home/luisfigueiredo/.local/lib/python3.8/site-packages/matplotlib/axes/_axes.py:6631: RuntimeWarning: All-NaN slice encountered\n",
      "  xmax = max(xmax, np.nanmax(xi))\n"
     ]
    },
    {
     "data": {
      "text/plain": [
       "(array([[0., 0., 0., ..., 0., 0., 0.],\n",
       "        [0., 0., 0., ..., 0., 0., 0.],\n",
       "        [0., 0., 0., ..., 0., 0., 0.],\n",
       "        ...,\n",
       "        [0., 0., 0., ..., 0., 0., 0.],\n",
       "        [0., 0., 0., ..., 0., 0., 0.],\n",
       "        [0., 0., 0., ..., 0., 0., 0.]]),\n",
       " array([0. , 0.1, 0.2, 0.3, 0.4, 0.5, 0.6, 0.7, 0.8, 0.9, 1. ]),\n",
       " <a list of 1401 Lists of Patches objects>)"
      ]
     },
     "execution_count": 285,
     "metadata": {},
     "output_type": "execute_result"
    },
    {
     "data": {
      "image/png": "[encoded data removed]",
      "text/plain": [
       "<Figure size 432x288 with 1 Axes>"
      ]
     },
     "metadata": {
      "needs_background": "light"
     },
     "output_type": "display_data"
    }
   ],
   "source": [
    "plt.hist(boa)"
   ]
  },
  {
   "cell_type": "code",
   "execution_count": null,
   "id": "d52d38bc",
   "metadata": {},
   "outputs": [],
   "source": []
  },
  {
   "cell_type": "code",
   "execution_count": null,
   "id": "5f687cec",
   "metadata": {},
   "outputs": [],
   "source": []
  },
  {
   "cell_type": "code",
   "execution_count": null,
   "id": "aaedb2a4",
   "metadata": {},
   "outputs": [],
   "source": []
  },
  {
   "cell_type": "markdown",
   "id": "99e22e1b",
   "metadata": {},
   "source": [
    "# ----------------------------------------- CCA --------------------------------------------------"
   ]
  },
  {
   "cell_type": "code",
   "execution_count": null,
   "id": "25c69a4b",
   "metadata": {},
   "outputs": [],
   "source": []
  },
  {
   "cell_type": "code",
   "execution_count": 286,
   "id": "95667bec",
   "metadata": {},
   "outputs": [],
   "source": [
    "from math import floor, ceil\n",
    "\n",
    "np.set_printoptions(suppress=True)    #so the values in arrays don't came with that exponential format"
   ]
  },
  {
   "cell_type": "code",
   "execution_count": 298,
   "id": "5904a88c",
   "metadata": {},
   "outputs": [],
   "source": [
    "\n",
    "\n",
    "\n",
    "##################################### Cayula-Cornillon Functions ############################################################3\n",
    "\n",
    "def getFrontInWindow(w, head, minTheta, minPopProp, minPopMeanDiff, minSinglePopCohesion, \n",
    "                     minGlobalPopCohesion, corners):\n",
    "    \n",
    "    \"\"\"\n",
    "    This functions detects fronts in slidding windows. If a front is detected, the function will return\n",
    "    2 1D arrays (x and y) with the coordinate values corresponding to the location of the front.\n",
    "    \"\"\"\n",
    "    \n",
    "    #empty arrays de xdata, ydata e z\n",
    "    xdata, ydata = np.array([]), np.array([])\n",
    "    exitType=0\n",
    "    \n",
    "    #mask is an array with the same shape of w, that is 1 if in that index position w = np.nan and 0 otherwise\n",
    "    mask = np.isnan(w).astype('int')  \n",
    "    haveNaNs = np.any(mask[:]).astype('int')  #haveNaNs=1 if mask has 1s (that correspond to NaNs in matrix w)\n",
    "    n_NaNs=0\n",
    "    \n",
    "    \n",
    "    if haveNaNs:\n",
    "        n_NaNs = sum(mask.flatten()[:])                 # count nr of 1s (NaNs in matrix w) that there are\n",
    "        if (n_NaNs/len(w.flatten())>0.5):               #window can't have more than 50% of its pixels as NaNs\n",
    "            exitType=-1\n",
    "            return None,None,None,exitType  \n",
    "        \n",
    "    mi_ma = [np.nanmin(w), np.nanmax(w)]                          #array with minimum and maximum value of w\n",
    "    n = ceil((mi_ma[1]-mi_ma[0])/0.02)                            #number of bins\n",
    "    bins = np.arange(mi_ma[0], mi_ma[1], 0.02)                    #to define the bins sequence \n",
    "    [y, xout] = np.histogram(w[:], bins, mi_ma)                   #y->frequency counts, Xout->bin location\n",
    "    xout = np.mean(np.vstack([xout[0:-1],xout[1:]]), axis=0)      #xout to be relative to the centers of the bins\n",
    "    \n",
    "    \n",
    "    thresValue = xout[0]        \n",
    "    totalCount = len(w.flatten()) - n_NaNs                         #nr of non NaN pixels \n",
    "    threshPopACount, threshSeparation, threshPopAMean, threshPopBMean  = 0, -1, 0, 0\n",
    " \n",
    "    \n",
    "    w[mask==1] = 0                      #Replace NaNs with 0's (when mask is 1 replace values of array w for 0)\n",
    "    totalSum = sum(w.flatten())                      #sum of values of matrix w\n",
    "    totalSumSquares = sum(w.flatten()*w.flatten())   #sum of the squares of the values of w\n",
    "    \n",
    "    #In this for loop we are going to discover which line is going to make the best separation between the average\n",
    "    # of population on the left and on the right (A and B) - and that is going to be the thresValue\n",
    "    for k in range(1,n-1):     #ignore the first and last candidates (senão seria de 0 a n)\n",
    "        popASum = sum(y[0:k+1] * xout[0:k+1])    \n",
    "        popBSum = sum(y[k+1:] * xout[k+1:])  \n",
    "        popACount = sum(y[0:k+1])     #sum of frequencies (y) from populationA\n",
    "        popBCount = sum(y[k+1:])      #sum of frequencies (y) from populationB\n",
    "    \n",
    "        popAMean = popASum/popACount\n",
    "        try:                                  #to avoid the zerodivisionerror that was poping up \n",
    "            popBMean = popBSum/popBCount\n",
    "        except ZeroDivisionError:\n",
    "            popBMean = 0\n",
    "        separation = popACount * popBCount * (popAMean - popBMean) * (popAMean - popBMean)\n",
    "        if separation>threshSeparation:\n",
    "            threshSeparation = separation\n",
    "            thresValue = xout[k]\n",
    "            threshPopACount = popACount\n",
    "            threshPopAMean = popAMean\n",
    "            threshPopBMean = popBMean\n",
    "            \n",
    "         \n",
    "    #abort in case the proportion of population A is less that a certain minimum OR in case the proportion of population B is less that a certain minimum\n",
    "    if (threshPopACount / totalCount < minPopProp) or (1.0 - threshPopACount / totalCount < minPopProp):\n",
    "        exitType = 1\n",
    "        return None,None, None, exitType  \n",
    "    \n",
    "    #abort this window if the difference in the populations means is less than a minimum value\n",
    "    if (threshPopBMean - threshPopAMean < minPopMeanDiff):   \n",
    "        exitType = 2\n",
    "        return None,None,None,exitType  \n",
    "    \n",
    "    #Calculate the criterion function THETA (TAUopt) in page 72 of the paper\n",
    "    totalMean = totalSum/totalCount\n",
    "    variance = totalSumSquares - (totalMean * totalMean * totalCount)\n",
    "    theta = threshSeparation / (variance * totalCount)\n",
    "    if (theta < minTheta):         #abort if theta is lower than a certain minimum  \n",
    "        exitType = 3\n",
    "        return None,None,None,exitType  \n",
    "    \n",
    "#Cohesion - now that we know the separation value. Based on this value we will check the matrix element by \n",
    "#element, and check whether is bigger or lower than the separation  \n",
    "#we check if it's bigger bellow or to the right (when its bigger we add from one side, when its lower add to the other)\n",
    "#Count the nr of times a population A cell is immediately adjacent to another popA cell and the same for popB\n",
    "# A cell can be adjacent on 4 sides. Count only 2 of them (bottom and right side) because doing all 4 would be\n",
    "#redundant. Do not count diagonal neighbors\n",
    "    countANextToA, countBNextToB, countANextToAOrB, countBNextToAOrB  = 0, 0, 0, 0\n",
    "    [n_rows, n_cols] = w.shape\n",
    "    for col in range(0, n_cols-1):\n",
    "        for row in range(0, n_rows-1):\n",
    "            if (haveNaNs & (mask[row, col] | mask[row+1, col] | mask[row, col+1])):\n",
    "                continue\n",
    "                         \n",
    "            #examine the bottom neighbor\n",
    "            if (w[row, col] <= thresValue):                  #if matrix pixel < than the element of separation\n",
    "                countANextToAOrB = countANextToAOrB + 1      #increase by 1 countANextToAOrB\n",
    "                if (w[row+1, col] <= thresValue):            #if pixel of bottom row < than separation\n",
    "                    countANextToA = countANextToA + 1        #increase countANextToA\n",
    "            else:                                            #if pixel > than separation \n",
    "                countBNextToAOrB = countBNextToAOrB + 1      #increase countBNextToAOrB\n",
    "                if (w[row+1, col] > thresValue):             #if pixel of bellow row > separation\n",
    "                    countBNextToB = countBNextToB + 1        #increase countBNextToB\n",
    "                         \n",
    "                         \n",
    "            # Examine the right neighbor\n",
    "            if (w[row, col] <= thresValue):                     #if matrix pixel < separation      \n",
    "                countANextToAOrB = countANextToAOrB + 1         # increase countANextToAOrB\n",
    "                if (w[row, col+1] <= thresValue):               #if right pixel < separation\n",
    "                    countANextToA = countANextToA + 1           # increase countANextToA\n",
    "            else:                                               #if matrix pixel > separation\n",
    "                countBNextToAOrB = countBNextToAOrB + 1         #increase countBNextToAOrB\n",
    "                if (w[row, col+1] > thresValue):                #if right pixel > separation\n",
    "                    countBNextToB = countBNextToB +1            # increase countBNextToB\n",
    "                         \n",
    "                         \n",
    "    popACohesion = countANextToA / countANextToAOrB\n",
    "    popBCohesion = countBNextToB/ countBNextToAOrB\n",
    "    globalCohesion = (countANextToA + countBNextToB) / (countANextToAOrB + countBNextToAOrB)\n",
    "    \n",
    "    #These ifs are in case of errors (parameters below certain limits)\n",
    "    if (popACohesion < minSinglePopCohesion) or (popBCohesion < minSinglePopCohesion) or (globalCohesion < minGlobalPopCohesion):\n",
    "        exitType = 4\n",
    "        return None, None,None,exitType  \n",
    "                         \n",
    "                         \n",
    "    #OK if we reach here we have a front. Compute its contour\n",
    "    X = np.linspace(head[0], head[1], n_cols)    \n",
    "    Y = np.linspace(head[2], head[3], n_rows)\n",
    "    if (corners.size == 0):\n",
    "        w = w.astype('double')    \n",
    "        if haveNaNs:\n",
    "            w[w==0] = np.nan      # Need to restore the NaNs to not invent new contours around zeros\n",
    "        \n",
    "        c = plt.contour(X, Y, w, [thresValue])    #Create and store a set of contour lines or filled regions.\n",
    "    else:\n",
    "        #the 4 corners have these indices [17,32,17,32; 17,32,1,16; 1,16,1,16;1,16,17,32]\n",
    "        # and the variable corners has one of its rows (the current to be retained sub-window)\n",
    "        \n",
    "        X = X[np.arange(corners[2]-1, corners[3])]\n",
    "        Y = Y[np.arange(corners[0]-1, corners[1])]\n",
    "        w = w[np.arange(corners[0], corners[1]).min()-1:np.arange(corners[0], corners[1]).max()+1, np.arange(corners[2], corners[3]).min()-1:np.arange(corners[2], corners[3]).max()+1]\n",
    "        \n",
    "        if  haveNaNs:\n",
    "            w[w==0] = np.nan     # Need to restore the NaNs to not invent new contours around zeros\n",
    "                         \n",
    "        if (np.isnan(w)).all()==True:\n",
    "            c = np.array([])\n",
    "        else:\n",
    "            c = plt.contour(X, Y, w, [thresValue])     #Create and store a set of contour lines or filled regions.\n",
    "                     \n",
    "                \n",
    "        #breakpoint()\n",
    "        try:\n",
    "            M = c.allsegs[:]          #list of arrays for contour c. Each array corresponds to a line that may or may not be drawn. This list can have any number of arrays\n",
    "        except:\n",
    "            M = []\n",
    "            \n",
    "        M = [x for x in M if x]   #if the list has empty arrays we will drop them\n",
    "        \n",
    "        count = 0   #to iterate through the various arrays\n",
    "        \n",
    "        #Create list of booleans (True or False) wether the conditions bellow are fulfilled\n",
    "        # Each array (line of contour) must have more that 7 data points and they can't be closed lines\n",
    "        lista = []     \n",
    "        for i in range(len(M[:])):\n",
    "            lista.append([(len(x)<7 or (x[0][0]==x[-1][0] and x[0][1] == x[-1][1])) for x in M[:][i]])\n",
    "            \n",
    "            #if False the line will be drawn\n",
    "            #if True the line will be ignored\n",
    "            \n",
    "        for value in lista:\n",
    "            if value == [True]:\n",
    "                continue        #return to the top of the for loop\n",
    "            else:                    \n",
    "                #For the first array of M we will take all the values of x and put them into an array                    \n",
    "                x = [(M[:][count][0][i][0]).round(4) for i in range(len(M[:][count][0]))]\n",
    "                \n",
    "                #For the first array of M we will take all the values of y and put them into an array                    \n",
    "                y = [(M[:][count][0][i][1]).round(4) for i in range(len(M[:][count][0]))]\n",
    "                \n",
    "                \n",
    "                #save the x and y data points for each line in an xdata and ydata array\n",
    "                xdata, ydata = np.append(xdata, x), np.append(ydata, y)\n",
    "                \n",
    "                count += 1\n",
    "            \n",
    "        z = thresValue\n",
    "        \n",
    "        if (xdata.size == 0):\n",
    "            exitType = 5\n",
    "            \n",
    "    return xdata, ydata, z, exitType\n",
    "        \n",
    "        \n",
    "        \n",
    "def CCA_SIED(df, shape):\n",
    "    \n",
    "    \"\"\"\n",
    "    This function applies the Cayula-Cornillon Algorithm Single Image Edge Detector (CCA_SIED) to a single image data in \n",
    "    df - dataframe format. This dataframe has a column for the longitude, latitude and SST values. \n",
    "    For a single image, the function return the fronts coordinates (x,y) points \n",
    "    \n",
    "    Shape is a tuple with the shape of the data: MUR (1001, 1401);   CMEMS forecast (361,505)\n",
    "    \"\"\"\n",
    "    \n",
    "    #convert the latitude and longitude columns to a numpy array\n",
    "    lat = df['lat'].to_numpy()\n",
    "    lon = df['lon'].to_numpy()\n",
    "    \n",
    "    lat = np.unique(lat).round(3)                        #get the unique values of the latitude array\n",
    "    lon = np.unique(lon).round(3)                        #get the unique values of the longitude array\n",
    "    \n",
    "    lat_min, lat_max, lon_min, lon_max = lat.min(), lat.max(), lon.min(), lon.max()  \n",
    "        \n",
    "    X, Y = np.meshgrid(lon, lat)                              #create rectangular grid out of two given 1D arrays\n",
    "\n",
    "    lat = Y.T\n",
    "    lon = X.T\n",
    "    \n",
    "    Z = df['analysed_sst'].to_numpy(dtype ='float32').reshape(shape)\n",
    "    \n",
    "    head = np.array([lon_min, lon_max], dtype='float64')           \n",
    "    head = np.append(head, [lat_min, lat_max])  \n",
    "\n",
    "    z_dim = Z.shape                                                 #dimensions/shape of matrix Z (rows, cols)\n",
    "\n",
    "    z_actual_range = np.array([np.nanmin(Z[:]), np.nanmax(Z[:])])   #range of data (minimum and maximum of matrix Z)\n",
    "    nx = z_dim[1]                                                   # number of columns of matrix Z\n",
    "    ny = z_dim[0]                                                   # number of rows of matrix Z\n",
    "    node_offset = 0\n",
    "    \n",
    "    #index 4 -> minimum value of Z; index5 -> maximum value of Z; index6 -> node_offset=0\n",
    "    head = np.append(head, np.array([z_actual_range[0], z_actual_range[1] , node_offset]))    \n",
    "    head = np.append(head, np.array((head[1]- head[0])/(nx - int(not node_offset))))     \n",
    "    head = np.append(head, np.array((head[3]- head[2])/(ny - int(not node_offset))))     \n",
    "\n",
    "    \n",
    "    #cayula;   minPopProp-> minimum proportion of each population;     minPopMeanDiff ->minimum difference between the means of the 2 populations\n",
    "    minPopProp, minPopMeanDiff, minTheta, minSinglePopCohesion, minGlobalPopCohesion = 0.2, 0.4, 0.7, 0.9, 0.7       \n",
    "    \n",
    "    [n_rows, n_cols] = Z.shape         #nr of rows and nr of columns of matrix Z\n",
    "    winW16, winW32, winW48 = 16, 32, 48\n",
    "\n",
    "    #arrays that will store the contour of every front that will be detected\n",
    "    xdata_final, ydata_final = np.array([]), np.array([])\n",
    "\n",
    "    s=0                              #s=1 means subwindows do NOT share a common border. With s = 0 they do.\n",
    "\n",
    "    xSide16 = winW16*head[7]\n",
    "    ySide16 = winW16*head[8]\n",
    "    xSide32 = (winW32 - s) * head[7]\n",
    "    ySide32 = (winW32 - s) * head[8]\n",
    "\n",
    "    nWinRows = floor(n_rows/winW16)   #times a window can slide over the rows \n",
    "    nWinCols = floor(n_cols/winW16)   #times a window can slide over the columns\n",
    "\n",
    "\n",
    "    \n",
    "    for wRow in range(1, nWinRows-1):    \n",
    "        #start and stop indices and coords of current window\n",
    "        r1 = (wRow-1) * winW16 + 1\n",
    "        r2 = r1 + winW48 -s     \n",
    "    \n",
    "        y0 = head[2] + (wRow-1)*ySide16   \n",
    "    \n",
    "        for wCol in range(1, nWinCols-1):     \n",
    "            c1 = (wCol - 1)*winW16+1\n",
    "            c2 = c1 + winW48 - s\n",
    "            x0 = head[0] + (wCol-1) * xSide16     \n",
    "            wPad = Z[r1-1:r2, c1-1:c2]            # 49x49 (or 48x48 if s == 1) Window\n",
    "        \n",
    "            rr = np.array([1,1,2,2])\n",
    "            cc = np.array([1,2,2,1])\n",
    "        \n",
    "            if s==1:\n",
    "                corners = np.array([[17, 32, 17, 32], [17, 32, 1, 16], [1, 16, 1, 16], [1, 16, 17, 32]])  #less good\n",
    "            else:\n",
    "                corners = np.array([[17, 33, 17, 33], [17, 33, 1, 17], [1, 17, 1, 17], [1, 17, 17, 33]])\n",
    "            \n",
    "            for k in range(0,4):            #loop over the 4 slidding 32X32 sub-windows of the larger 48x48 one\n",
    "                m1 = (rr[k] - 1) * winW16 + 1\n",
    "                m2 = m1 + 2 * winW16 - s             #indices of the slidding 33X33 window\n",
    "                n1 = (cc[k] - 1) * winW16 + 1\n",
    "                n2 = n1 + 2 * winW16 - s\n",
    "            \n",
    "                w = wPad[m1-1:m2, n1-1:n2].astype('double')      #sub window with size 33x33\n",
    "            \n",
    "                #corners coordinates\n",
    "                subWinX0 = x0 + (cc[k] - 1) * xSide16\n",
    "                subWinX1 = subWinX0 + xSide32\n",
    "                subWinY0 = y0 + (rr[k] - 1) * ySide16\n",
    "                subWinY1 = subWinY0 + ySide32\n",
    "            \n",
    "                R = np.array([subWinX0, subWinX1, subWinY0, subWinY1])\n",
    "          \n",
    "                xdata, ydata, z, exitType = getFrontInWindow(w, R, minTheta, minPopProp, minPopMeanDiff, minSinglePopCohesion, minGlobalPopCohesion, corners[k,:])\n",
    "            \n",
    "                if (exitType == 0):\n",
    "                   \n",
    "                    xdata_final = np.append(xdata_final, xdata)\n",
    "                \n",
    "                    ydata_final = np.append(ydata_final,ydata)\n",
    "            \n",
    "                \n",
    "    return xdata_final, ydata_final                "
   ]
  },
  {
   "cell_type": "code",
   "execution_count": null,
   "id": "a4b8081d",
   "metadata": {},
   "outputs": [],
   "source": []
  },
  {
   "cell_type": "code",
   "execution_count": 325,
   "id": "0918897b",
   "metadata": {},
   "outputs": [],
   "source": [
    "def CCA_front(df): \n",
    "    \n",
    "    \"\"\"\n",
    "    This function receives a dataframe with MUR data for a individual day and plots the result\n",
    "    of the aplication of the Cayula-Cornillon Algorithm\n",
    "    \"\"\"\n",
    "    \n",
    "\n",
    "    front = np.zeros((1001,1401))       #initialize a matrix of zeros. This shape is for the MUR data\n",
    "        \n",
    "    xdata_final, ydata_final = CCA_SIED(df, shape=(1001, 1401))       \n",
    "    \n",
    "    cols_x = np.array([])\n",
    "    for value in xdata_final:                     #convert values in array x to the respective index in a (1001, 1401) matrix\n",
    "        aux_x = (19+value)/0.01                  #these numbers are relative to the MUR data\n",
    "        cols_x = np.append(cols_x, aux_x)\n",
    "    \n",
    "    rows_y = np.array([])\n",
    "    for value in ydata_final:                     #convert values in array y to the respective index in a (1001, 1401) matrix\n",
    "        aux_y = (45-value)/0.01                  #these numbers are relative to the MUR data\n",
    "        rows_y = np.append(rows_y, aux_y)\n",
    "\n",
    "    cols_x = np.round(cols_x)\n",
    "    rows_y = np.round(rows_y)\n",
    "            \n",
    "    for i in range(len(cols_x)):   #it could also be len(rows_y)\n",
    "        front[int(rows_y[i]), int(cols_x[i])] = front[int(rows_y[i]), int(cols_x[i])] + 1\n",
    "        \n",
    "    front[front != 0] = 1\n",
    "    \n",
    "    \n",
    "    #Create a masked_array in order to get the continental zone well defined\n",
    "    \n",
    "    #Convert some df to a numpy array with the SST values for each value of longitude and latitude\n",
    "    sst = df.pivot_table(index='lon', columns='lat', values='analysed_sst').T.values   \n",
    "    mask = np.isnan(np.flipud(sst))       #Boolean array=True where array Temp had Null values (continental zone)\n",
    "    mask255 =np.where(mask,(np.ones(mask.shape))*255,0).astype(\"uint8\")   #array which pixels = 255 when mask=True \n",
    "    #Make a dilation to ensure the pixels that belong to the shore are not consideredd fronts\n",
    "    kernel = np.ones((3,3), np.uint8)\n",
    "    mask_dilated = cv2.dilate(mask255, kernel)\n",
    "    cca_front = np.ma.masked_where(mask_dilated==255, front)  \n",
    "    \n",
    "    #cca_front = np.flipud(cca_front) \n",
    "    \n",
    "    #cca_front[cca_front == 255] = 1\n",
    "    \n",
    "    return cca_front"
   ]
  },
  {
   "cell_type": "code",
   "execution_count": null,
   "id": "5729aa3a",
   "metadata": {},
   "outputs": [],
   "source": []
  },
  {
   "cell_type": "code",
   "execution_count": 326,
   "id": "29a5c13a",
   "metadata": {},
   "outputs": [
    {
     "name": "stderr",
     "output_type": "stream",
     "text": [
      "/tmp/ipykernel_6027/3035077971.py:151: UserWarning: No contour levels were found within the data range.\n",
      "  c = plt.contour(X, Y, w, [thresValue])     #Create and store a set of contour lines or filled regions.\n",
      "/tmp/ipykernel_6027/3035077971.py:53: RuntimeWarning: invalid value encountered in double_scalars\n",
      "  popBMean = popBSum/popBCount\n"
     ]
    },
    {
     "data": {
      "image/png": "[encoded data removed]",
      "text/plain": [
       "<Figure size 432x288 with 1 Axes>"
      ]
     },
     "metadata": {
      "needs_background": "light"
     },
     "output_type": "display_data"
    }
   ],
   "source": [
    "cca_frente = CCA_front(df_ex)"
   ]
  },
  {
   "cell_type": "code",
   "execution_count": null,
   "id": "bf878119",
   "metadata": {},
   "outputs": [],
   "source": []
  },
  {
   "cell_type": "code",
   "execution_count": 327,
   "id": "3113bfad",
   "metadata": {},
   "outputs": [
    {
     "data": {
      "text/plain": [
       "<matplotlib.image.AxesImage at 0x7f4480b053d0>"
      ]
     },
     "execution_count": 327,
     "metadata": {},
     "output_type": "execute_result"
    },
    {
     "data": {
      "image/png": "[encoded data removed]",
      "text/plain": [
       "<Figure size 432x288 with 1 Axes>"
      ]
     },
     "metadata": {
      "needs_background": "light"
     },
     "output_type": "display_data"
    }
   ],
   "source": [
    "plt.imshow(cca_frente)"
   ]
  },
  {
   "cell_type": "code",
   "execution_count": 337,
   "id": "1a118aa9",
   "metadata": {},
   "outputs": [
    {
     "data": {
      "text/plain": [
       "1.0"
      ]
     },
     "execution_count": 337,
     "metadata": {},
     "output_type": "execute_result"
    }
   ],
   "source": [
    "np.nanmax(cca_frente)"
   ]
  },
  {
   "cell_type": "code",
   "execution_count": 329,
   "id": "2598b1c9",
   "metadata": {},
   "outputs": [
    {
     "data": {
      "text/plain": [
       "0.0"
      ]
     },
     "execution_count": 329,
     "metadata": {},
     "output_type": "execute_result"
    }
   ],
   "source": [
    "np.nanmin(cca_frente)"
   ]
  },
  {
   "cell_type": "code",
   "execution_count": 336,
   "id": "5d13a686",
   "metadata": {},
   "outputs": [
    {
     "data": {
      "text/plain": [
       "1.0"
      ]
     },
     "execution_count": 336,
     "metadata": {},
     "output_type": "execute_result"
    }
   ],
   "source": [
    "cca_frente.max()"
   ]
  },
  {
   "cell_type": "code",
   "execution_count": 335,
   "id": "b999294d",
   "metadata": {},
   "outputs": [
    {
     "data": {
      "text/plain": [
       "masked_array(\n",
       "  data=[[0.0, 0.0, 0.0, ..., 0.0, 0.0, 0.0],\n",
       "        [0.0, 0.0, 0.0, ..., 0.0, 0.0, 0.0],\n",
       "        [0.0, 0.0, 0.0, ..., 0.0, 0.0, 0.0],\n",
       "        ...,\n",
       "        [0.0, 0.0, 0.0, ..., --, --, --],\n",
       "        [0.0, 0.0, 0.0, ..., --, --, --],\n",
       "        [0.0, 0.0, 0.0, ..., --, --, --]],\n",
       "  mask=[[False, False, False, ..., False, False, False],\n",
       "        [False, False, False, ..., False, False, False],\n",
       "        [False, False, False, ..., False, False, False],\n",
       "        ...,\n",
       "        [False, False, False, ...,  True,  True,  True],\n",
       "        [False, False, False, ...,  True,  True,  True],\n",
       "        [False, False, False, ...,  True,  True,  True]],\n",
       "  fill_value=1e+20)"
      ]
     },
     "execution_count": 335,
     "metadata": {},
     "output_type": "execute_result"
    }
   ],
   "source": [
    "cca_frente"
   ]
  },
  {
   "cell_type": "code",
   "execution_count": null,
   "id": "f9d277be",
   "metadata": {},
   "outputs": [],
   "source": []
  },
  {
   "cell_type": "code",
   "execution_count": 338,
   "id": "30822d02",
   "metadata": {},
   "outputs": [
    {
     "data": {
      "text/plain": [
       "(array([[1001.,    0.,    0., ...,    0.,    0.,    0.],\n",
       "        [1001.,    0.,    0., ...,    0.,    0.,    0.],\n",
       "        [1001.,    0.,    0., ...,    0.,    0.,    0.],\n",
       "        ...,\n",
       "        [1001.,    0.,    0., ...,    0.,    0.,    0.],\n",
       "        [1001.,    0.,    0., ...,    0.,    0.,    0.],\n",
       "        [1001.,    0.,    0., ...,    0.,    0.,    0.]]),\n",
       " array([0. , 0.1, 0.2, 0.3, 0.4, 0.5, 0.6, 0.7, 0.8, 0.9, 1. ]),\n",
       " <a list of 1401 Lists of Patches objects>)"
      ]
     },
     "execution_count": 338,
     "metadata": {},
     "output_type": "execute_result"
    },
    {
     "data": {
      "image/png": "[encoded data removed]",
      "text/plain": [
       "<Figure size 432x288 with 1 Axes>"
      ]
     },
     "metadata": {
      "needs_background": "light"
     },
     "output_type": "display_data"
    }
   ],
   "source": [
    "plt.hist(cca_frente)"
   ]
  },
  {
   "cell_type": "code",
   "execution_count": null,
   "id": "33addb28",
   "metadata": {},
   "outputs": [],
   "source": []
  },
  {
   "cell_type": "code",
   "execution_count": 339,
   "id": "8d3c0857",
   "metadata": {},
   "outputs": [],
   "source": [
    "cca_frente[cca_frente == 255] = 1"
   ]
  },
  {
   "cell_type": "code",
   "execution_count": 340,
   "id": "e5e4d90a",
   "metadata": {},
   "outputs": [
    {
     "data": {
      "text/plain": [
       "<matplotlib.image.AxesImage at 0x7f4479afcf40>"
      ]
     },
     "execution_count": 340,
     "metadata": {},
     "output_type": "execute_result"
    },
    {
     "data": {
      "image/png": "[encoded data removed]",
      "text/plain": [
       "<Figure size 432x288 with 1 Axes>"
      ]
     },
     "metadata": {
      "needs_background": "light"
     },
     "output_type": "display_data"
    }
   ],
   "source": [
    "plt.imshow(cca_frente)"
   ]
  },
  {
   "cell_type": "code",
   "execution_count": 342,
   "id": "596d1a41",
   "metadata": {},
   "outputs": [
    {
     "data": {
      "text/plain": [
       "0.0"
      ]
     },
     "execution_count": 342,
     "metadata": {},
     "output_type": "execute_result"
    }
   ],
   "source": [
    "cca_frente.min()"
   ]
  },
  {
   "cell_type": "code",
   "execution_count": null,
   "id": "6f434bcc",
   "metadata": {},
   "outputs": [],
   "source": []
  },
  {
   "cell_type": "code",
   "execution_count": null,
   "id": "7c6e44ae",
   "metadata": {},
   "outputs": [],
   "source": []
  },
  {
   "cell_type": "code",
   "execution_count": null,
   "id": "533b2b86",
   "metadata": {},
   "outputs": [],
   "source": []
  },
  {
   "cell_type": "code",
   "execution_count": null,
   "id": "83feb28e",
   "metadata": {},
   "outputs": [],
   "source": []
  },
  {
   "cell_type": "code",
   "execution_count": null,
   "id": "f6bf864e",
   "metadata": {},
   "outputs": [],
   "source": []
  },
  {
   "cell_type": "code",
   "execution_count": null,
   "id": "361a1afe",
   "metadata": {},
   "outputs": [],
   "source": []
  },
  {
   "cell_type": "code",
   "execution_count": null,
   "id": "685033bb",
   "metadata": {},
   "outputs": [],
   "source": []
  },
  {
   "cell_type": "code",
   "execution_count": null,
   "id": "52a8915f",
   "metadata": {},
   "outputs": [],
   "source": []
  }
 ],
 "metadata": {
  "kernelspec": {
   "display_name": "Python 3 (ipykernel)",
   "language": "python",
   "name": "python3"
  },
  "language_info": {
   "codemirror_mode": {
    "name": "ipython",
    "version": 3
   },
   "file_extension": ".py",
   "mimetype": "text/x-python",
   "name": "python",
   "nbconvert_exporter": "python",
   "pygments_lexer": "ipython3",
   "version": "3.8.10"
  }
 },
 "nbformat": 4,
 "nbformat_minor": 5
}
