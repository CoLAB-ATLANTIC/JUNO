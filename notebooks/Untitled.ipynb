{
 "cells": [
  {
   "cell_type": "code",
   "execution_count": 6,
   "id": "4314994f",
   "metadata": {},
   "outputs": [],
   "source": [
    "year = 60 * 60 * 24 * 365\n",
    "day = 60 * 60 * 24\n",
    "hour = 60*60\n",
    "minute = 60"
   ]
  },
  {
   "cell_type": "code",
   "execution_count": 85,
   "id": "b460a075",
   "metadata": {},
   "outputs": [
    {
     "data": {
      "text/plain": [
       "3660"
      ]
     },
     "execution_count": 85,
     "metadata": {},
     "output_type": "execute_result"
    }
   ],
   "source": [
    "60 * 60 + 60"
   ]
  },
  {
   "cell_type": "code",
   "execution_count": 100,
   "id": "29f56a00",
   "metadata": {},
   "outputs": [],
   "source": []
  },
  {
   "cell_type": "code",
   "execution_count": 101,
   "id": "00ce20ec",
   "metadata": {},
   "outputs": [],
   "source": [
    "seconds = 120\n",
    "li = []\n",
    "\n",
    "years = seconds // year\n",
    "li.append(years)\n",
    "seconds = seconds% year\n",
    "days = seconds // day\n",
    "li.append(days)\n",
    "seconds = seconds%day\n",
    "hours = seconds // hour\n",
    "li.append(hours)\n",
    "seconds = seconds%hour\n",
    "minutes = seconds // minute\n",
    "li.append(minutes)\n",
    "seconds = seconds % minute\n",
    "li.append(seconds)\n",
    "\n",
    "result = ''\n",
    "        \n",
    "if li[0] == 1:\n",
    "    result = result + '1 year, '\n",
    "elif li[0] > 1:\n",
    "    result = result + str(li[0]) + ' years, '\n",
    "    \n",
    "if li[1] == 1:\n",
    "    result = result + '1 day, '\n",
    "elif li[1] > 1:\n",
    "    result = result + str(li[1]) + ' days, '\n",
    "    \n",
    "if li[2] == 1:\n",
    "    result = result + '1 hour, '\n",
    "elif li[2] > 1:\n",
    "    result = result + str(li[2]) + ' hours, '\n",
    "    \n",
    "if li[3] == 1:\n",
    "    result = result + '1 minute, '\n",
    "elif li[3] > 1:\n",
    "    result = result + str(li[3]) + ' minutes, '\n",
    "    \n",
    "if li[4] == 1:\n",
    "    result = result + '1 second'\n",
    "elif li[4] > 1:\n",
    "    result = result + str(li[4]) + ' seconds'\n",
    "    \n",
    "if result.endswith(', '):\n",
    "    result = result[:-2]\n",
    "\n",
    "if ',' in result:\n",
    "    start, _, end = result.rpartition(', ')\n",
    "    result = start + ' and ' + end\n",
    "    "
   ]
  },
  {
   "cell_type": "code",
   "execution_count": null,
   "id": "993d1f5d",
   "metadata": {},
   "outputs": [],
   "source": []
  },
  {
   "cell_type": "code",
   "execution_count": 162,
   "id": "7c92165a",
   "metadata": {},
   "outputs": [],
   "source": [
    "chars = ['#', '!']"
   ]
  },
  {
   "cell_type": "code",
   "execution_count": 163,
   "id": "4d826418",
   "metadata": {},
   "outputs": [],
   "source": [
    "s = 'apples, pears # and bananas\\ngrapes\\nbananas !apples'"
   ]
  },
  {
   "cell_type": "code",
   "execution_count": 164,
   "id": "ddbf8d2b",
   "metadata": {},
   "outputs": [
    {
     "data": {
      "text/plain": [
       "['apples, pears # and bananas', 'grapes', 'bananas !apples']"
      ]
     },
     "execution_count": 164,
     "metadata": {},
     "output_type": "execute_result"
    }
   ],
   "source": [
    "li = s.split('\\n')\n",
    "li"
   ]
  },
  {
   "cell_type": "code",
   "execution_count": null,
   "id": "6cc50cf5",
   "metadata": {},
   "outputs": [],
   "source": []
  },
  {
   "cell_type": "code",
   "execution_count": 165,
   "id": "c77239d3",
   "metadata": {},
   "outputs": [],
   "source": [
    "s = 'apples, pears # and bananas\\ngrapes\\nbananas !apples'"
   ]
  },
  {
   "cell_type": "code",
   "execution_count": 166,
   "id": "a553b04f",
   "metadata": {},
   "outputs": [],
   "source": [
    "chars = ['#', '!']"
   ]
  },
  {
   "cell_type": "code",
   "execution_count": 167,
   "id": "a9613cc3",
   "metadata": {},
   "outputs": [],
   "source": [
    "result_list = []\n",
    "for string in li:\n",
    "    for i in range(len(chars)):\n",
    "        if chars[i] in string:\n",
    "            word = string.rpartition(chars[i])[0]\n",
    "            break\n",
    "            \n",
    "        elif chars[i] not in string:\n",
    "            word = string\n",
    "    result_list.append(word)\n",
    "\n",
    "result_list2 = []\n",
    "for string in result_list:\n",
    "    result_list2.append(string.rstrip())\n",
    "    \n",
    "final = ''\n",
    "for string in result_list2:\n",
    "    final = final + string + '\\n'\n",
    "final = final[:-1]"
   ]
  },
  {
   "cell_type": "code",
   "execution_count": 168,
   "id": "2d003e2b",
   "metadata": {},
   "outputs": [
    {
     "data": {
      "text/plain": [
       "'apples, pears\\ngrapes\\nbananas'"
      ]
     },
     "execution_count": 168,
     "metadata": {},
     "output_type": "execute_result"
    }
   ],
   "source": [
    "final"
   ]
  },
  {
   "cell_type": "code",
   "execution_count": null,
   "id": "b5a72a7d",
   "metadata": {},
   "outputs": [],
   "source": []
  },
  {
   "cell_type": "code",
   "execution_count": 252,
   "id": "342f0d8d",
   "metadata": {},
   "outputs": [],
   "source": [
    "#chars = ['#', '!']\n",
    "#chars = ['^','?' ,',', '.', '=', '@', \"'\", '-', '#']\n",
    "chars = [',', '=', '@']"
   ]
  },
  {
   "cell_type": "code",
   "execution_count": 253,
   "id": "2283b072",
   "metadata": {},
   "outputs": [],
   "source": [
    "#s = 'apples, pears #! and bananas\\ngrapes\\nbananas !apples'\n",
    "#s = \"  oranges oranges pears '\\n= strawberries avocados\\noranges\\n? pears apples ,\"\n",
    "s = '\\t, bananas ^ apples , ,\\noranges apples .\\nstrawberries # ! avocados # #'"
   ]
  },
  {
   "cell_type": "code",
   "execution_count": 263,
   "id": "d8e47487",
   "metadata": {},
   "outputs": [
    {
     "ename": "AttributeError",
     "evalue": "'list' object has no attribute 'replace'",
     "output_type": "error",
     "traceback": [
      "\u001b[0;31m---------------------------------------------------------------------------\u001b[0m",
      "\u001b[0;31mAttributeError\u001b[0m                            Traceback (most recent call last)",
      "\u001b[0;32m/tmp/ipykernel_246062/3780586055.py\u001b[0m in \u001b[0;36m<module>\u001b[0;34m\u001b[0m\n\u001b[1;32m      1\u001b[0m \u001b[0mlis\u001b[0m \u001b[0;34m=\u001b[0m \u001b[0ms\u001b[0m\u001b[0;34m.\u001b[0m\u001b[0msplit\u001b[0m\u001b[0;34m(\u001b[0m\u001b[0;34m'\\n'\u001b[0m\u001b[0;34m)\u001b[0m\u001b[0;34m\u001b[0m\u001b[0;34m\u001b[0m\u001b[0m\n\u001b[0;32m----> 2\u001b[0;31m \u001b[0mlis\u001b[0m \u001b[0;34m=\u001b[0m \u001b[0mlis\u001b[0m\u001b[0;34m.\u001b[0m\u001b[0mreplace\u001b[0m\u001b[0;34m(\u001b[0m\u001b[0;34m'\\t'\u001b[0m\u001b[0;34m,\u001b[0m \u001b[0;34m''\u001b[0m\u001b[0;34m)\u001b[0m\u001b[0;34m\u001b[0m\u001b[0;34m\u001b[0m\u001b[0m\n\u001b[0m\u001b[1;32m      3\u001b[0m \u001b[0;34m\u001b[0m\u001b[0m\n\u001b[1;32m      4\u001b[0m \u001b[0;31m#for string in lis:\u001b[0m\u001b[0;34m\u001b[0m\u001b[0;34m\u001b[0m\u001b[0;34m\u001b[0m\u001b[0m\n\u001b[1;32m      5\u001b[0m  \u001b[0;31m#   print(lis)\u001b[0m\u001b[0;34m\u001b[0m\u001b[0;34m\u001b[0m\u001b[0;34m\u001b[0m\u001b[0m\n",
      "\u001b[0;31mAttributeError\u001b[0m: 'list' object has no attribute 'replace'"
     ]
    }
   ],
   "source": [
    "lis = s.split('\\n')\n",
    "lis = lis.replace('\\t', '')\n",
    "\n",
    "#for string in lis:\n",
    " #   print(lis)"
   ]
  },
  {
   "cell_type": "code",
   "execution_count": 254,
   "id": "6d158122",
   "metadata": {},
   "outputs": [],
   "source": [
    "result_list = []\n",
    "li = s.split('\\n')\n",
    "for j in range(len(li)):\n",
    "    aux = False\n",
    "    for i in range(len(chars)):\n",
    "        if chars[i] in li[j]:\n",
    "            aux = True\n",
    "            if aux == True:\n",
    "                word = li[j].rpartition(chars[i])[0]\n",
    "                result_list.append(word)\n",
    "                break\n",
    "                \n",
    "    if aux == False:\n",
    "        word = li[j]\n",
    "        result_list.append(word)\n",
    "\n",
    "result_list2 = []\n",
    "for string in result_list:\n",
    "    result_list2.append(string.rstrip())\n",
    "    \n",
    "final = ''\n",
    "for string in result_list2:\n",
    "    final = final + string + '\\n'\n",
    "final = final[:-1]"
   ]
  },
  {
   "cell_type": "code",
   "execution_count": 255,
   "id": "951c1cff",
   "metadata": {},
   "outputs": [
    {
     "data": {
      "text/plain": [
       "'\\t, bananas ^ apples ,\\noranges apples .\\nstrawberries # ! avocados # #'"
      ]
     },
     "execution_count": 255,
     "metadata": {},
     "output_type": "execute_result"
    }
   ],
   "source": [
    "final"
   ]
  },
  {
   "cell_type": "code",
   "execution_count": 251,
   "id": "c99b8fbc",
   "metadata": {},
   "outputs": [
    {
     "data": {
      "text/plain": [
       "['  oranges oranges pears ', '', 'oranges', '']"
      ]
     },
     "execution_count": 251,
     "metadata": {},
     "output_type": "execute_result"
    }
   ],
   "source": [
    "result_list"
   ]
  },
  {
   "cell_type": "code",
   "execution_count": null,
   "id": "6a42bc74",
   "metadata": {},
   "outputs": [],
   "source": []
  },
  {
   "cell_type": "code",
   "execution_count": null,
   "id": "db3c5cd0",
   "metadata": {},
   "outputs": [],
   "source": []
  },
  {
   "cell_type": "code",
   "execution_count": null,
   "id": "1d40b925",
   "metadata": {},
   "outputs": [],
   "source": []
  },
  {
   "cell_type": "code",
   "execution_count": 313,
   "id": "38906773",
   "metadata": {},
   "outputs": [],
   "source": [
    "#chars = [',', '=', '@']\n",
    "chars = ['?', \"'\", '#', '=', '-', ',']"
   ]
  },
  {
   "cell_type": "code",
   "execution_count": 314,
   "id": "120c07d4",
   "metadata": {},
   "outputs": [],
   "source": [
    "#s = '\\t, bananas ^ apples , ,\\noranges apples .\\nstrawberries # ! avocados # #'\n",
    "s = '  oranges\\n- bananas = strawberries ,\\n@ ? strawberries avocados avocados\\n, ! lemons ^ lemons -'"
   ]
  },
  {
   "cell_type": "code",
   "execution_count": null,
   "id": "7b3f9082",
   "metadata": {},
   "outputs": [],
   "source": []
  },
  {
   "cell_type": "code",
   "execution_count": null,
   "id": "424b2870",
   "metadata": {},
   "outputs": [],
   "source": []
  },
  {
   "cell_type": "code",
   "execution_count": 325,
   "id": "401259d1",
   "metadata": {},
   "outputs": [],
   "source": [
    "word = ''\n",
    "result_list = []\n",
    "#if '\\t' in s:\n",
    "   # s = s.replace('\\t', '')\n",
    "li = s.split('\\n')\n",
    "\n",
    "for j in range(len(li)):\n",
    "    aux = False\n",
    "    for i in range(len(chars)):\n",
    "        if chars[i] in li[j]:\n",
    "            aux = True\n",
    "            if aux == True:\n",
    "                word = li[j].partition(chars[i])[0]\n",
    "                result_list.append(word)\n",
    "                break\n",
    "                \n",
    "    if aux == False:\n",
    "        word = li[j]\n",
    "        result_list.append(word)\n",
    "\n",
    "result_list2 = []\n",
    "for string in result_list:\n",
    "    result_list2.append(string.rstrip())\n",
    "    \n",
    "final = ''\n",
    "for string in result_list2:\n",
    "    final = final + string + '\\n'\n",
    "final = final[:-1]"
   ]
  },
  {
   "cell_type": "code",
   "execution_count": 326,
   "id": "1a724d90",
   "metadata": {},
   "outputs": [
    {
     "data": {
      "text/plain": [
       "'  oranges\\n- bananas\\n@\\n, ! lemons ^ lemons'"
      ]
     },
     "execution_count": 326,
     "metadata": {},
     "output_type": "execute_result"
    }
   ],
   "source": [
    "final"
   ]
  },
  {
   "cell_type": "code",
   "execution_count": 324,
   "id": "18a1629d",
   "metadata": {},
   "outputs": [
    {
     "data": {
      "text/plain": [
       "['  oranges',\n",
       " '- bananas = strawberries ,',\n",
       " '@ ? strawberries avocados avocados',\n",
       " ', ! lemons ^ lemons -']"
      ]
     },
     "execution_count": 324,
     "metadata": {},
     "output_type": "execute_result"
    }
   ],
   "source": [
    "li"
   ]
  },
  {
   "cell_type": "code",
   "execution_count": 327,
   "id": "b29ea314",
   "metadata": {},
   "outputs": [
    {
     "data": {
      "text/plain": [
       "['  oranges', '- bananas', '@', ', ! lemons ^ lemons']"
      ]
     },
     "execution_count": 327,
     "metadata": {},
     "output_type": "execute_result"
    }
   ],
   "source": [
    "result_list2"
   ]
  },
  {
   "cell_type": "code",
   "execution_count": 302,
   "id": "542101d4",
   "metadata": {},
   "outputs": [
    {
     "data": {
      "text/plain": [
       "''"
      ]
     },
     "execution_count": 302,
     "metadata": {},
     "output_type": "execute_result"
    }
   ],
   "source": [
    "s1 = ', bananas ^ apples, '\n",
    "x1 = s1.partition(',')[0]\n",
    "x1"
   ]
  },
  {
   "cell_type": "code",
   "execution_count": null,
   "id": "9d24b97f",
   "metadata": {},
   "outputs": [],
   "source": []
  },
  {
   "cell_type": "code",
   "execution_count": null,
   "id": "cd856ac5",
   "metadata": {},
   "outputs": [],
   "source": []
  },
  {
   "cell_type": "code",
   "execution_count": null,
   "id": "d12fc8f2",
   "metadata": {},
   "outputs": [],
   "source": []
  },
  {
   "cell_type": "code",
   "execution_count": 394,
   "id": "7c751e01",
   "metadata": {},
   "outputs": [
    {
     "ename": "KeyboardInterrupt",
     "evalue": "",
     "output_type": "error",
     "traceback": [
      "\u001b[0;31m---------------------------------------------------------------------------\u001b[0m",
      "\u001b[0;31mKeyboardInterrupt\u001b[0m                         Traceback (most recent call last)",
      "\u001b[0;32m/tmp/ipykernel_246062/3043704676.py\u001b[0m in \u001b[0;36m<module>\u001b[0;34m\u001b[0m\n\u001b[1;32m      4\u001b[0m \u001b[0;32mfor\u001b[0m \u001b[0mi\u001b[0m \u001b[0;32min\u001b[0m \u001b[0mrange\u001b[0m\u001b[0;34m(\u001b[0m\u001b[0mlen\u001b[0m\u001b[0;34m(\u001b[0m\u001b[0mcharacters\u001b[0m\u001b[0;34m)\u001b[0m\u001b[0;34m)\u001b[0m\u001b[0;34m:\u001b[0m\u001b[0;34m\u001b[0m\u001b[0;34m\u001b[0m\u001b[0m\n\u001b[1;32m      5\u001b[0m     \u001b[0;32mwhile\u001b[0m \u001b[0mcharacters\u001b[0m\u001b[0;34m[\u001b[0m\u001b[0mi\u001b[0m\u001b[0;34m]\u001b[0m \u001b[0;32mnot\u001b[0m \u001b[0;32min\u001b[0m \u001b[0mx\u001b[0m\u001b[0;34m:\u001b[0m\u001b[0;34m\u001b[0m\u001b[0;34m\u001b[0m\u001b[0m\n\u001b[0;32m----> 6\u001b[0;31m         \u001b[0;32mif\u001b[0m \u001b[0many\u001b[0m\u001b[0;34m(\u001b[0m\u001b[0mc\u001b[0m \u001b[0;32min\u001b[0m \u001b[0mx\u001b[0m \u001b[0;32mfor\u001b[0m \u001b[0mc\u001b[0m \u001b[0;32min\u001b[0m \u001b[0mcharacters\u001b[0m\u001b[0;34m)\u001b[0m\u001b[0;34m:\u001b[0m\u001b[0;34m\u001b[0m\u001b[0;34m\u001b[0m\u001b[0m\n\u001b[0m\u001b[1;32m      7\u001b[0m             \u001b[0mword2\u001b[0m \u001b[0;34m=\u001b[0m \u001b[0mx\u001b[0m\u001b[0;34m.\u001b[0m\u001b[0msplit\u001b[0m\u001b[0;34m(\u001b[0m\u001b[0mcharacters\u001b[0m\u001b[0;34m[\u001b[0m\u001b[0mi\u001b[0m\u001b[0;34m]\u001b[0m\u001b[0;34m,\u001b[0m \u001b[0;36m1\u001b[0m\u001b[0;34m)\u001b[0m\u001b[0;34m[\u001b[0m\u001b[0;36m0\u001b[0m\u001b[0;34m]\u001b[0m\u001b[0;34m\u001b[0m\u001b[0;34m\u001b[0m\u001b[0m\n",
      "\u001b[0;31mKeyboardInterrupt\u001b[0m: "
     ]
    }
   ],
   "source": [
    "characters = ['=', '-']\n",
    "x = ' bananas = strawberries'\n",
    "word2=''\n",
    "for i in range(len(characters)):\n",
    "    while characters[i] not in x:\n",
    "        if any(c in x for c in characters):\n",
    "            word2 = x.split(characters[i], 1)[0]"
   ]
  },
  {
   "cell_type": "code",
   "execution_count": null,
   "id": "55abcad9",
   "metadata": {},
   "outputs": [],
   "source": [
    "word2"
   ]
  },
  {
   "cell_type": "code",
   "execution_count": null,
   "id": "64029fe6",
   "metadata": {},
   "outputs": [],
   "source": []
  },
  {
   "cell_type": "code",
   "execution_count": 462,
   "id": "ad927add",
   "metadata": {},
   "outputs": [],
   "source": [
    "#chars = ['?', \"'\", '#', '=', '-', ',']\n",
    "#s = '  oranges\\n- bananas = strawberries ,\\n@ ? strawberries avocados avocados\\n, ! lemons ^ lemons -'\n",
    "chars = ['#', '!']\n",
    "s = 'apples, pears # and bananas\\ngrapes\\nbananas !apples'"
   ]
  },
  {
   "cell_type": "code",
   "execution_count": 443,
   "id": "42c4ad2e",
   "metadata": {},
   "outputs": [
    {
     "data": {
      "text/plain": [
       "['apples, pears ', 'grapes', 'bananas ']"
      ]
     },
     "execution_count": 443,
     "metadata": {},
     "output_type": "execute_result"
    }
   ],
   "source": [
    "li"
   ]
  },
  {
   "cell_type": "code",
   "execution_count": 463,
   "id": "dc34b32a",
   "metadata": {},
   "outputs": [],
   "source": [
    "result_list = []\n",
    "li = s.split('\\n')\n",
    "\n",
    "for i in range(len(li)):\n",
    "    for j in range(len(chars)):\n",
    "        while chars[j] in li[i]:\n",
    "            li[i] = li[i].split(chars[j], 1)[0]\n",
    "    result_list.append(li[i])\n",
    "                     \n",
    "\n",
    "result_list2 = []\n",
    "for string in result_list:\n",
    "    result_list2.append(string.rstrip())\n",
    "    \n",
    "final = ''\n",
    "for i in range(len(result_list2)):\n",
    "    final = final + result_list2[i] + '\\n'\n",
    "final = final[:-1]\n",
    "    "
   ]
  },
  {
   "cell_type": "code",
   "execution_count": 464,
   "id": "4cdd6b7b",
   "metadata": {},
   "outputs": [
    {
     "data": {
      "text/plain": [
       "['apples, pears ', 'grapes', 'bananas ']"
      ]
     },
     "execution_count": 464,
     "metadata": {},
     "output_type": "execute_result"
    }
   ],
   "source": [
    "result_list"
   ]
  },
  {
   "cell_type": "code",
   "execution_count": 465,
   "id": "43d57fc2",
   "metadata": {},
   "outputs": [
    {
     "data": {
      "text/plain": [
       "'apples, pears\\ngrapes\\nbananas'"
      ]
     },
     "execution_count": 465,
     "metadata": {},
     "output_type": "execute_result"
    }
   ],
   "source": [
    "final"
   ]
  },
  {
   "cell_type": "code",
   "execution_count": null,
   "id": "aa2ef717",
   "metadata": {},
   "outputs": [],
   "source": []
  },
  {
   "cell_type": "code",
   "execution_count": null,
   "id": "0f6c1a76",
   "metadata": {},
   "outputs": [],
   "source": []
  },
  {
   "cell_type": "code",
   "execution_count": null,
   "id": "58dd9ddd",
   "metadata": {},
   "outputs": [],
   "source": []
  },
  {
   "cell_type": "code",
   "execution_count": 519,
   "id": "d658b269",
   "metadata": {},
   "outputs": [],
   "source": [
    "li = [-10, -9, -8, -6, -3, -2, -1, 0, 1, 3, 4, 5, 7, 8, 9, 10, 11, 14, 15, 17, 18, 19, 20]"
   ]
  },
  {
   "cell_type": "code",
   "execution_count": 520,
   "id": "0f7e2dad",
   "metadata": {},
   "outputs": [],
   "source": [
    "result = ''\n",
    "for i in range(len(li)-1):\n",
    "    count = 0\n",
    "    if li[i+1] == li[i] + 1:\n",
    "        count += 1\n",
    "\n",
    "        if count >= 2:\n",
    "            result = result + str(li[i + 0]) + '-' + str(li[i + count])\n",
    "result = result + ',' + str(li[i])\n",
    "        \n",
    "        "
   ]
  },
  {
   "cell_type": "code",
   "execution_count": 521,
   "id": "20fee31b",
   "metadata": {},
   "outputs": [
    {
     "data": {
      "text/plain": [
       "',19'"
      ]
     },
     "execution_count": 521,
     "metadata": {},
     "output_type": "execute_result"
    }
   ],
   "source": [
    "result"
   ]
  },
  {
   "cell_type": "code",
   "execution_count": null,
   "id": "42c4c91d",
   "metadata": {},
   "outputs": [],
   "source": []
  },
  {
   "cell_type": "code",
   "execution_count": 471,
   "id": "e5ec4de7",
   "metadata": {},
   "outputs": [
    {
     "name": "stdout",
     "output_type": "stream",
     "text": [
      "0\n",
      "1\n",
      "2\n",
      "3\n",
      "4\n"
     ]
    }
   ],
   "source": [
    "count = 5\n",
    "for j in range(count):\n",
    "    print(j)"
   ]
  },
  {
   "cell_type": "code",
   "execution_count": null,
   "id": "06fa653d",
   "metadata": {},
   "outputs": [],
   "source": []
  },
  {
   "cell_type": "code",
   "execution_count": null,
   "id": "9703bf7a",
   "metadata": {},
   "outputs": [],
   "source": []
  },
  {
   "cell_type": "code",
   "execution_count": null,
   "id": "3bd98b70",
   "metadata": {},
   "outputs": [],
   "source": []
  },
  {
   "cell_type": "code",
   "execution_count": null,
   "id": "aeb28d5c",
   "metadata": {},
   "outputs": [],
   "source": []
  },
  {
   "cell_type": "code",
   "execution_count": null,
   "id": "ce142dc1",
   "metadata": {},
   "outputs": [],
   "source": []
  },
  {
   "cell_type": "code",
   "execution_count": null,
   "id": "89a66958",
   "metadata": {},
   "outputs": [],
   "source": []
  },
  {
   "cell_type": "code",
   "execution_count": null,
   "id": "566798e7",
   "metadata": {},
   "outputs": [],
   "source": []
  },
  {
   "cell_type": "code",
   "execution_count": null,
   "id": "edc82936",
   "metadata": {},
   "outputs": [],
   "source": []
  },
  {
   "cell_type": "code",
   "execution_count": null,
   "id": "7687c6c2",
   "metadata": {},
   "outputs": [],
   "source": []
  },
  {
   "cell_type": "code",
   "execution_count": null,
   "id": "40d287bc",
   "metadata": {},
   "outputs": [],
   "source": []
  },
  {
   "cell_type": "code",
   "execution_count": null,
   "id": "0143c6a6",
   "metadata": {},
   "outputs": [],
   "source": []
  },
  {
   "cell_type": "code",
   "execution_count": null,
   "id": "7e3ea2f5",
   "metadata": {},
   "outputs": [],
   "source": []
  },
  {
   "cell_type": "code",
   "execution_count": null,
   "id": "a38aaf3e",
   "metadata": {},
   "outputs": [],
   "source": []
  },
  {
   "cell_type": "code",
   "execution_count": null,
   "id": "ce42fd78",
   "metadata": {},
   "outputs": [],
   "source": []
  },
  {
   "cell_type": "code",
   "execution_count": null,
   "id": "fa061276",
   "metadata": {},
   "outputs": [],
   "source": []
  },
  {
   "cell_type": "code",
   "execution_count": null,
   "id": "32efdc77",
   "metadata": {},
   "outputs": [],
   "source": []
  }
 ],
 "metadata": {
  "kernelspec": {
   "display_name": "Python 3 (ipykernel)",
   "language": "python",
   "name": "python3"
  },
  "language_info": {
   "codemirror_mode": {
    "name": "ipython",
    "version": 3
   },
   "file_extension": ".py",
   "mimetype": "text/x-python",
   "name": "python",
   "nbconvert_exporter": "python",
   "pygments_lexer": "ipython3",
   "version": "3.8.10"
  }
 },
 "nbformat": 4,
 "nbformat_minor": 5
}
