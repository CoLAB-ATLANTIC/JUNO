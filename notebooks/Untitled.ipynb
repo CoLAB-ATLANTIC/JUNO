{
 "cells": [
  {
   "cell_type": "code",
   "execution_count": 6,
   "id": "10374ee1",
   "metadata": {},
   "outputs": [],
   "source": [
    "year = 60 * 60 * 24 * 365\n",
    "day = 60 * 60 * 24\n",
    "hour = 60*60\n",
    "minute = 60"
   ]
  },
  {
   "cell_type": "code",
   "execution_count": 85,
   "id": "fc176f2d",
   "metadata": {},
   "outputs": [
    {
     "data": {
      "text/plain": [
       "3660"
      ]
     },
     "execution_count": 85,
     "metadata": {},
     "output_type": "execute_result"
    }
   ],
   "source": [
    "60 * 60 + 60"
   ]
  },
  {
   "cell_type": "code",
   "execution_count": 100,
   "id": "ec4b4af2",
   "metadata": {},
   "outputs": [],
   "source": []
  },
  {
   "cell_type": "code",
   "execution_count": 101,
   "id": "967c6d9c",
   "metadata": {},
   "outputs": [],
   "source": [
    "seconds = 120\n",
    "li = []\n",
    "\n",
    "years = seconds // year\n",
    "li.append(years)\n",
    "seconds = seconds% year\n",
    "days = seconds // day\n",
    "li.append(days)\n",
    "seconds = seconds%day\n",
    "hours = seconds // hour\n",
    "li.append(hours)\n",
    "seconds = seconds%hour\n",
    "minutes = seconds // minute\n",
    "li.append(minutes)\n",
    "seconds = seconds % minute\n",
    "li.append(seconds)\n",
    "\n",
    "result = ''\n",
    "        \n",
    "if li[0] == 1:\n",
    "    result = result + '1 year, '\n",
    "elif li[0] > 1:\n",
    "    result = result + str(li[0]) + ' years, '\n",
    "    \n",
    "if li[1] == 1:\n",
    "    result = result + '1 day, '\n",
    "elif li[1] > 1:\n",
    "    result = result + str(li[1]) + ' days, '\n",
    "    \n",
    "if li[2] == 1:\n",
    "    result = result + '1 hour, '\n",
    "elif li[2] > 1:\n",
    "    result = result + str(li[2]) + ' hours, '\n",
    "    \n",
    "if li[3] == 1:\n",
    "    result = result + '1 minute, '\n",
    "elif li[3] > 1:\n",
    "    result = result + str(li[3]) + ' minutes, '\n",
    "    \n",
    "if li[4] == 1:\n",
    "    result = result + '1 second'\n",
    "elif li[4] > 1:\n",
    "    result = result + str(li[4]) + ' seconds'\n",
    "    \n",
    "if result.endswith(', '):\n",
    "    result = result[:-2]\n",
    "\n",
    "if ',' in result:\n",
    "    start, _, end = result.rpartition(', ')\n",
    "    result = start + ' and ' + end\n",
    "    "
   ]
  },
  {
   "cell_type": "code",
   "execution_count": null,
   "id": "1624f7f9",
   "metadata": {},
   "outputs": [],
   "source": []
  },
  {
   "cell_type": "code",
   "execution_count": 162,
   "id": "93679269",
   "metadata": {},
   "outputs": [],
   "source": [
    "chars = ['#', '!']"
   ]
  },
  {
   "cell_type": "code",
   "execution_count": 163,
   "id": "e68d89b1",
   "metadata": {},
   "outputs": [],
   "source": [
    "s = 'apples, pears # and bananas\\ngrapes\\nbananas !apples'"
   ]
  },
  {
   "cell_type": "code",
   "execution_count": 164,
   "id": "87bbdb30",
   "metadata": {},
   "outputs": [
    {
     "data": {
      "text/plain": [
       "['apples, pears # and bananas', 'grapes', 'bananas !apples']"
      ]
     },
     "execution_count": 164,
     "metadata": {},
     "output_type": "execute_result"
    }
   ],
   "source": [
    "li = s.split('\\n')\n",
    "li"
   ]
  },
  {
   "cell_type": "code",
   "execution_count": null,
   "id": "d901e58c",
   "metadata": {},
   "outputs": [],
   "source": []
  },
  {
   "cell_type": "code",
   "execution_count": 165,
   "id": "3be44c93",
   "metadata": {},
   "outputs": [],
   "source": [
    "s = 'apples, pears # and bananas\\ngrapes\\nbananas !apples'"
   ]
  },
  {
   "cell_type": "code",
   "execution_count": 166,
   "id": "e4d9ad72",
   "metadata": {},
   "outputs": [],
   "source": [
    "chars = ['#', '!']"
   ]
  },
  {
   "cell_type": "code",
   "execution_count": 167,
   "id": "675ab44c",
   "metadata": {},
   "outputs": [],
   "source": [
    "result_list = []\n",
    "for string in li:\n",
    "    for i in range(len(chars)):\n",
    "        if chars[i] in string:\n",
    "            word = string.rpartition(chars[i])[0]\n",
    "            break\n",
    "            \n",
    "        elif chars[i] not in string:\n",
    "            word = string\n",
    "    result_list.append(word)\n",
    "\n",
    "result_list2 = []\n",
    "for string in result_list:\n",
    "    result_list2.append(string.rstrip())\n",
    "    \n",
    "final = ''\n",
    "for string in result_list2:\n",
    "    final = final + string + '\\n'\n",
    "final = final[:-1]"
   ]
  },
  {
   "cell_type": "code",
   "execution_count": 168,
   "id": "6d05f240",
   "metadata": {},
   "outputs": [
    {
     "data": {
      "text/plain": [
       "'apples, pears\\ngrapes\\nbananas'"
      ]
     },
     "execution_count": 168,
     "metadata": {},
     "output_type": "execute_result"
    }
   ],
   "source": [
    "final"
   ]
  },
  {
   "cell_type": "code",
   "execution_count": null,
   "id": "271077c2",
   "metadata": {},
   "outputs": [],
   "source": []
  },
  {
   "cell_type": "code",
   "execution_count": 252,
   "id": "2636f54d",
   "metadata": {},
   "outputs": [],
   "source": [
    "#chars = ['#', '!']\n",
    "#chars = ['^','?' ,',', '.', '=', '@', \"'\", '-', '#']\n",
    "chars = [',', '=', '@']"
   ]
  },
  {
   "cell_type": "code",
   "execution_count": 253,
   "id": "f83993b6",
   "metadata": {},
   "outputs": [],
   "source": [
    "#s = 'apples, pears #! and bananas\\ngrapes\\nbananas !apples'\n",
    "#s = \"  oranges oranges pears '\\n= strawberries avocados\\noranges\\n? pears apples ,\"\n",
    "s = '\\t, bananas ^ apples , ,\\noranges apples .\\nstrawberries # ! avocados # #'"
   ]
  },
  {
   "cell_type": "code",
   "execution_count": 263,
   "id": "fea2d974",
   "metadata": {},
   "outputs": [
    {
     "ename": "AttributeError",
     "evalue": "'list' object has no attribute 'replace'",
     "output_type": "error",
     "traceback": [
      "\u001b[0;31m---------------------------------------------------------------------------\u001b[0m",
      "\u001b[0;31mAttributeError\u001b[0m                            Traceback (most recent call last)",
      "\u001b[0;32m/tmp/ipykernel_246062/3780586055.py\u001b[0m in \u001b[0;36m<module>\u001b[0;34m\u001b[0m\n\u001b[1;32m      1\u001b[0m \u001b[0mlis\u001b[0m \u001b[0;34m=\u001b[0m \u001b[0ms\u001b[0m\u001b[0;34m.\u001b[0m\u001b[0msplit\u001b[0m\u001b[0;34m(\u001b[0m\u001b[0;34m'\\n'\u001b[0m\u001b[0;34m)\u001b[0m\u001b[0;34m\u001b[0m\u001b[0;34m\u001b[0m\u001b[0m\n\u001b[0;32m----> 2\u001b[0;31m \u001b[0mlis\u001b[0m \u001b[0;34m=\u001b[0m \u001b[0mlis\u001b[0m\u001b[0;34m.\u001b[0m\u001b[0mreplace\u001b[0m\u001b[0;34m(\u001b[0m\u001b[0;34m'\\t'\u001b[0m\u001b[0;34m,\u001b[0m \u001b[0;34m''\u001b[0m\u001b[0;34m)\u001b[0m\u001b[0;34m\u001b[0m\u001b[0;34m\u001b[0m\u001b[0m\n\u001b[0m\u001b[1;32m      3\u001b[0m \u001b[0;34m\u001b[0m\u001b[0m\n\u001b[1;32m      4\u001b[0m \u001b[0;31m#for string in lis:\u001b[0m\u001b[0;34m\u001b[0m\u001b[0;34m\u001b[0m\u001b[0;34m\u001b[0m\u001b[0m\n\u001b[1;32m      5\u001b[0m  \u001b[0;31m#   print(lis)\u001b[0m\u001b[0;34m\u001b[0m\u001b[0;34m\u001b[0m\u001b[0;34m\u001b[0m\u001b[0m\n",
      "\u001b[0;31mAttributeError\u001b[0m: 'list' object has no attribute 'replace'"
     ]
    }
   ],
   "source": [
    "lis = s.split('\\n')\n",
    "lis = lis.replace('\\t', '')\n",
    "\n",
    "#for string in lis:\n",
    " #   print(lis)"
   ]
  },
  {
   "cell_type": "code",
   "execution_count": 254,
   "id": "1d3228b5",
   "metadata": {},
   "outputs": [],
   "source": [
    "result_list = []\n",
    "li = s.split('\\n')\n",
    "for j in range(len(li)):\n",
    "    aux = False\n",
    "    for i in range(len(chars)):\n",
    "        if chars[i] in li[j]:\n",
    "            aux = True\n",
    "            if aux == True:\n",
    "                word = li[j].rpartition(chars[i])[0]\n",
    "                result_list.append(word)\n",
    "                break\n",
    "                \n",
    "    if aux == False:\n",
    "        word = li[j]\n",
    "        result_list.append(word)\n",
    "\n",
    "result_list2 = []\n",
    "for string in result_list:\n",
    "    result_list2.append(string.rstrip())\n",
    "    \n",
    "final = ''\n",
    "for string in result_list2:\n",
    "    final = final + string + '\\n'\n",
    "final = final[:-1]"
   ]
  },
  {
   "cell_type": "code",
   "execution_count": 255,
   "id": "3c6751cf",
   "metadata": {},
   "outputs": [
    {
     "data": {
      "text/plain": [
       "'\\t, bananas ^ apples ,\\noranges apples .\\nstrawberries # ! avocados # #'"
      ]
     },
     "execution_count": 255,
     "metadata": {},
     "output_type": "execute_result"
    }
   ],
   "source": [
    "final"
   ]
  },
  {
   "cell_type": "code",
   "execution_count": 251,
   "id": "1f778f81",
   "metadata": {},
   "outputs": [
    {
     "data": {
      "text/plain": [
       "['  oranges oranges pears ', '', 'oranges', '']"
      ]
     },
     "execution_count": 251,
     "metadata": {},
     "output_type": "execute_result"
    }
   ],
   "source": [
    "result_list"
   ]
  },
  {
   "cell_type": "code",
   "execution_count": null,
   "id": "256cc47b",
   "metadata": {},
   "outputs": [],
   "source": []
  },
  {
   "cell_type": "code",
   "execution_count": null,
   "id": "441b4f90",
   "metadata": {},
   "outputs": [],
   "source": []
  },
  {
   "cell_type": "code",
   "execution_count": null,
   "id": "b27b03b2",
   "metadata": {},
   "outputs": [],
   "source": []
  },
  {
   "cell_type": "code",
   "execution_count": 313,
   "id": "ed0e7d8a",
   "metadata": {},
   "outputs": [],
   "source": [
    "#chars = [',', '=', '@']\n",
    "chars = ['?', \"'\", '#', '=', '-', ',']"
   ]
  },
  {
   "cell_type": "code",
   "execution_count": 314,
   "id": "8005e197",
   "metadata": {},
   "outputs": [],
   "source": [
    "#s = '\\t, bananas ^ apples , ,\\noranges apples .\\nstrawberries # ! avocados # #'\n",
    "s = '  oranges\\n- bananas = strawberries ,\\n@ ? strawberries avocados avocados\\n, ! lemons ^ lemons -'"
   ]
  },
  {
   "cell_type": "code",
   "execution_count": null,
   "id": "8f5f2871",
   "metadata": {},
   "outputs": [],
   "source": []
  },
  {
   "cell_type": "code",
   "execution_count": null,
   "id": "130bedd5",
   "metadata": {},
   "outputs": [],
   "source": []
  },
  {
   "cell_type": "code",
   "execution_count": 325,
   "id": "da786372",
   "metadata": {},
   "outputs": [],
   "source": [
    "word = ''\n",
    "result_list = []\n",
    "#if '\\t' in s:\n",
    "   # s = s.replace('\\t', '')\n",
    "li = s.split('\\n')\n",
    "\n",
    "for j in range(len(li)):\n",
    "    aux = False\n",
    "    for i in range(len(chars)):\n",
    "        if chars[i] in li[j]:\n",
    "            aux = True\n",
    "            if aux == True:\n",
    "                word = li[j].partition(chars[i])[0]\n",
    "                result_list.append(word)\n",
    "                break\n",
    "                \n",
    "    if aux == False:\n",
    "        word = li[j]\n",
    "        result_list.append(word)\n",
    "\n",
    "result_list2 = []\n",
    "for string in result_list:\n",
    "    result_list2.append(string.rstrip())\n",
    "    \n",
    "final = ''\n",
    "for string in result_list2:\n",
    "    final = final + string + '\\n'\n",
    "final = final[:-1]"
   ]
  },
  {
   "cell_type": "code",
   "execution_count": 326,
   "id": "95703014",
   "metadata": {},
   "outputs": [
    {
     "data": {
      "text/plain": [
       "'  oranges\\n- bananas\\n@\\n, ! lemons ^ lemons'"
      ]
     },
     "execution_count": 326,
     "metadata": {},
     "output_type": "execute_result"
    }
   ],
   "source": [
    "final"
   ]
  },
  {
   "cell_type": "code",
   "execution_count": 324,
   "id": "ad9b5958",
   "metadata": {},
   "outputs": [
    {
     "data": {
      "text/plain": [
       "['  oranges',\n",
       " '- bananas = strawberries ,',\n",
       " '@ ? strawberries avocados avocados',\n",
       " ', ! lemons ^ lemons -']"
      ]
     },
     "execution_count": 324,
     "metadata": {},
     "output_type": "execute_result"
    }
   ],
   "source": [
    "li"
   ]
  },
  {
   "cell_type": "code",
   "execution_count": 327,
   "id": "412e821b",
   "metadata": {},
   "outputs": [
    {
     "data": {
      "text/plain": [
       "['  oranges', '- bananas', '@', ', ! lemons ^ lemons']"
      ]
     },
     "execution_count": 327,
     "metadata": {},
     "output_type": "execute_result"
    }
   ],
   "source": [
    "result_list2"
   ]
  },
  {
   "cell_type": "code",
   "execution_count": 302,
   "id": "65aee875",
   "metadata": {},
   "outputs": [
    {
     "data": {
      "text/plain": [
       "''"
      ]
     },
     "execution_count": 302,
     "metadata": {},
     "output_type": "execute_result"
    }
   ],
   "source": [
    "s1 = ', bananas ^ apples, '\n",
    "x1 = s1.partition(',')[0]\n",
    "x1"
   ]
  },
  {
   "cell_type": "code",
   "execution_count": null,
   "id": "23d48df7",
   "metadata": {},
   "outputs": [],
   "source": []
  },
  {
   "cell_type": "code",
   "execution_count": null,
   "id": "ca7cdf1a",
   "metadata": {},
   "outputs": [],
   "source": []
  },
  {
   "cell_type": "code",
   "execution_count": null,
   "id": "a701ea95",
   "metadata": {},
   "outputs": [],
   "source": []
  },
  {
   "cell_type": "code",
   "execution_count": 394,
   "id": "b6c97078",
   "metadata": {},
   "outputs": [
    {
     "ename": "KeyboardInterrupt",
     "evalue": "",
     "output_type": "error",
     "traceback": [
      "\u001b[0;31m---------------------------------------------------------------------------\u001b[0m",
      "\u001b[0;31mKeyboardInterrupt\u001b[0m                         Traceback (most recent call last)",
      "\u001b[0;32m/tmp/ipykernel_246062/3043704676.py\u001b[0m in \u001b[0;36m<module>\u001b[0;34m\u001b[0m\n\u001b[1;32m      4\u001b[0m \u001b[0;32mfor\u001b[0m \u001b[0mi\u001b[0m \u001b[0;32min\u001b[0m \u001b[0mrange\u001b[0m\u001b[0;34m(\u001b[0m\u001b[0mlen\u001b[0m\u001b[0;34m(\u001b[0m\u001b[0mcharacters\u001b[0m\u001b[0;34m)\u001b[0m\u001b[0;34m)\u001b[0m\u001b[0;34m:\u001b[0m\u001b[0;34m\u001b[0m\u001b[0;34m\u001b[0m\u001b[0m\n\u001b[1;32m      5\u001b[0m     \u001b[0;32mwhile\u001b[0m \u001b[0mcharacters\u001b[0m\u001b[0;34m[\u001b[0m\u001b[0mi\u001b[0m\u001b[0;34m]\u001b[0m \u001b[0;32mnot\u001b[0m \u001b[0;32min\u001b[0m \u001b[0mx\u001b[0m\u001b[0;34m:\u001b[0m\u001b[0;34m\u001b[0m\u001b[0;34m\u001b[0m\u001b[0m\n\u001b[0;32m----> 6\u001b[0;31m         \u001b[0;32mif\u001b[0m \u001b[0many\u001b[0m\u001b[0;34m(\u001b[0m\u001b[0mc\u001b[0m \u001b[0;32min\u001b[0m \u001b[0mx\u001b[0m \u001b[0;32mfor\u001b[0m \u001b[0mc\u001b[0m \u001b[0;32min\u001b[0m \u001b[0mcharacters\u001b[0m\u001b[0;34m)\u001b[0m\u001b[0;34m:\u001b[0m\u001b[0;34m\u001b[0m\u001b[0;34m\u001b[0m\u001b[0m\n\u001b[0m\u001b[1;32m      7\u001b[0m             \u001b[0mword2\u001b[0m \u001b[0;34m=\u001b[0m \u001b[0mx\u001b[0m\u001b[0;34m.\u001b[0m\u001b[0msplit\u001b[0m\u001b[0;34m(\u001b[0m\u001b[0mcharacters\u001b[0m\u001b[0;34m[\u001b[0m\u001b[0mi\u001b[0m\u001b[0;34m]\u001b[0m\u001b[0;34m,\u001b[0m \u001b[0;36m1\u001b[0m\u001b[0;34m)\u001b[0m\u001b[0;34m[\u001b[0m\u001b[0;36m0\u001b[0m\u001b[0;34m]\u001b[0m\u001b[0;34m\u001b[0m\u001b[0;34m\u001b[0m\u001b[0m\n",
      "\u001b[0;31mKeyboardInterrupt\u001b[0m: "
     ]
    }
   ],
   "source": [
    "characters = ['=', '-']\n",
    "x = ' bananas = strawberries'\n",
    "word2=''\n",
    "for i in range(len(characters)):\n",
    "    while characters[i] not in x:\n",
    "        if any(c in x for c in characters):\n",
    "            word2 = x.split(characters[i], 1)[0]"
   ]
  },
  {
   "cell_type": "code",
   "execution_count": null,
   "id": "9ba9aa37",
   "metadata": {},
   "outputs": [],
   "source": [
    "word2"
   ]
  },
  {
   "cell_type": "code",
   "execution_count": null,
   "id": "4d4b19c9",
   "metadata": {},
   "outputs": [],
   "source": []
  },
  {
   "cell_type": "code",
   "execution_count": 462,
   "id": "c39b3135",
   "metadata": {},
   "outputs": [],
   "source": [
    "#chars = ['?', \"'\", '#', '=', '-', ',']\n",
    "#s = '  oranges\\n- bananas = strawberries ,\\n@ ? strawberries avocados avocados\\n, ! lemons ^ lemons -'\n",
    "chars = ['#', '!']\n",
    "s = 'apples, pears # and bananas\\ngrapes\\nbananas !apples'"
   ]
  },
  {
   "cell_type": "code",
   "execution_count": 443,
   "id": "e52119b4",
   "metadata": {},
   "outputs": [
    {
     "data": {
      "text/plain": [
       "['apples, pears ', 'grapes', 'bananas ']"
      ]
     },
     "execution_count": 443,
     "metadata": {},
     "output_type": "execute_result"
    }
   ],
   "source": [
    "li"
   ]
  },
  {
   "cell_type": "code",
   "execution_count": 463,
   "id": "6079f7e8",
   "metadata": {},
   "outputs": [],
   "source": [
    "result_list = []\n",
    "li = s.split('\\n')\n",
    "\n",
    "for i in range(len(li)):\n",
    "    for j in range(len(chars)):\n",
    "        while chars[j] in li[i]:\n",
    "            li[i] = li[i].split(chars[j], 1)[0]\n",
    "    result_list.append(li[i])\n",
    "                     \n",
    "\n",
    "result_list2 = []\n",
    "for string in result_list:\n",
    "    result_list2.append(string.rstrip())\n",
    "    \n",
    "final = ''\n",
    "for i in range(len(result_list2)):\n",
    "    final = final + result_list2[i] + '\\n'\n",
    "final = final[:-1]\n",
    "    "
   ]
  },
  {
   "cell_type": "code",
   "execution_count": 464,
   "id": "338015c5",
   "metadata": {},
   "outputs": [
    {
     "data": {
      "text/plain": [
       "['apples, pears ', 'grapes', 'bananas ']"
      ]
     },
     "execution_count": 464,
     "metadata": {},
     "output_type": "execute_result"
    }
   ],
   "source": [
    "result_list"
   ]
  },
  {
   "cell_type": "code",
   "execution_count": 465,
   "id": "f62291dc",
   "metadata": {},
   "outputs": [
    {
     "data": {
      "text/plain": [
       "'apples, pears\\ngrapes\\nbananas'"
      ]
     },
     "execution_count": 465,
     "metadata": {},
     "output_type": "execute_result"
    }
   ],
   "source": [
    "final"
   ]
  },
  {
   "cell_type": "code",
   "execution_count": null,
   "id": "f2d92495",
   "metadata": {},
   "outputs": [],
   "source": []
  },
  {
   "cell_type": "code",
   "execution_count": null,
   "id": "8f4e1763",
   "metadata": {},
   "outputs": [],
   "source": []
  },
  {
   "cell_type": "code",
   "execution_count": null,
   "id": "009cbc97",
   "metadata": {},
   "outputs": [],
   "source": []
  },
  {
   "cell_type": "code",
   "execution_count": 542,
   "id": "d1a09758",
   "metadata": {},
   "outputs": [],
   "source": [
    "li = [-10, -9, -8, -6, -3, -2, -1, 0, 1, 3, 4, 5, 7, 8, 9, 10, 11, 14, 15, 17, 18, 19, 20]"
   ]
  },
  {
   "cell_type": "code",
   "execution_count": 545,
   "id": "a19b93c0",
   "metadata": {},
   "outputs": [],
   "source": [
    "result = ''\n",
    "consec = ''\n",
    "count = 0\n",
    "for i in range(len(li)-1):\n",
    "    if li[i+1] != li[i] + 1:\n",
    "        result = result + ', ' + str(li[i+1])\n",
    "        count = 0\n",
    "    else:\n",
    "        consec = consec + str(li[i-1])\n",
    "        count += 1\n",
    "    \n",
    "        "
   ]
  },
  {
   "cell_type": "code",
   "execution_count": 546,
   "id": "84e4032c",
   "metadata": {},
   "outputs": [
    {
     "data": {
      "text/plain": [
       "', -6, -3, 3, 7, 14, 17'"
      ]
     },
     "execution_count": 546,
     "metadata": {},
     "output_type": "execute_result"
    }
   ],
   "source": [
    "result"
   ]
  },
  {
   "cell_type": "code",
   "execution_count": 538,
   "id": "a57fdb1b",
   "metadata": {},
   "outputs": [
    {
     "data": {
      "text/plain": [
       "'20-10-6-3-2-113578911151718'"
      ]
     },
     "execution_count": 538,
     "metadata": {},
     "output_type": "execute_result"
    }
   ],
   "source": [
    "consec"
   ]
  },
  {
   "cell_type": "code",
   "execution_count": null,
   "id": "b83b9c23",
   "metadata": {},
   "outputs": [],
   "source": []
  },
  {
   "cell_type": "code",
   "execution_count": 552,
   "id": "8d8aa500",
   "metadata": {},
   "outputs": [],
   "source": [
    "li = [-10, -9, -8, -6, -3, -2, -1, 0, 1, 3, 4, 5, 7, 8, 9, 10, 11, 14, 15, 17, 18, 19, 20]"
   ]
  },
  {
   "cell_type": "code",
   "execution_count": 587,
   "id": "4d5d4f31",
   "metadata": {},
   "outputs": [
    {
     "ename": "KeyboardInterrupt",
     "evalue": "",
     "output_type": "error",
     "traceback": [
      "\u001b[0;31m---------------------------------------------------------------------------\u001b[0m",
      "\u001b[0;31mKeyboardInterrupt\u001b[0m                         Traceback (most recent call last)",
      "\u001b[0;32m/tmp/ipykernel_246062/2462781431.py\u001b[0m in \u001b[0;36m<module>\u001b[0;34m\u001b[0m\n\u001b[1;32m     16\u001b[0m \u001b[0;34m\u001b[0m\u001b[0m\n\u001b[1;32m     17\u001b[0m         \u001b[0;32mif\u001b[0m \u001b[0mcount\u001b[0m \u001b[0;34m>=\u001b[0m \u001b[0;36m2\u001b[0m\u001b[0;34m:\u001b[0m\u001b[0;34m\u001b[0m\u001b[0;34m\u001b[0m\u001b[0m\n\u001b[0;32m---> 18\u001b[0;31m             \u001b[0mresult\u001b[0m \u001b[0;34m=\u001b[0m \u001b[0mresult\u001b[0m \u001b[0;34m+\u001b[0m \u001b[0;34m', '\u001b[0m \u001b[0;34m+\u001b[0m \u001b[0mstr\u001b[0m\u001b[0;34m(\u001b[0m\u001b[0mli\u001b[0m\u001b[0;34m[\u001b[0m\u001b[0mi\u001b[0m\u001b[0;34m]\u001b[0m\u001b[0;34m)\u001b[0m \u001b[0;34m+\u001b[0m \u001b[0;34m'-'\u001b[0m \u001b[0;34m+\u001b[0m \u001b[0mstr\u001b[0m\u001b[0;34m(\u001b[0m\u001b[0mli\u001b[0m\u001b[0;34m[\u001b[0m\u001b[0mn\u001b[0m\u001b[0;34m]\u001b[0m\u001b[0;34m)\u001b[0m\u001b[0;34m\u001b[0m\u001b[0;34m\u001b[0m\u001b[0m\n\u001b[0m\u001b[1;32m     19\u001b[0m \u001b[0;34m\u001b[0m\u001b[0m\n",
      "\u001b[0;31mKeyboardInterrupt\u001b[0m: "
     ]
    }
   ],
   "source": [
    "result = str(li[0])\n",
    "#for i in range(len(li)-1):\n",
    "i = 0\n",
    "while i < len(li)-1:\n",
    "    \n",
    "    if li[i+1] != li[i] + 1:\n",
    "        result = result + ', ' + str(li[i+1])\n",
    "        i += 1\n",
    "        \n",
    "    else:\n",
    "        count = 0\n",
    "        n = i\n",
    "        while (n < len(li)-1) and (li[n+1] == li[n] + 1):\n",
    "            count += 1\n",
    "            n += 1\n",
    "        \n",
    "        if count >= 2:\n",
    "            result = result + ', ' + str(li[i]) + '-' + str(li[n])       \n",
    "        "
   ]
  },
  {
   "cell_type": "code",
   "execution_count": 586,
   "id": "67b0ee78",
   "metadata": {},
   "outputs": [
    {
     "data": {
      "text/plain": [
       "'-10'"
      ]
     },
     "execution_count": 586,
     "metadata": {},
     "output_type": "execute_result"
    }
   ],
   "source": [
    "result"
   ]
  },
  {
   "cell_type": "code",
   "execution_count": null,
   "id": "60eb53d1",
   "metadata": {},
   "outputs": [],
   "source": []
  },
  {
   "cell_type": "code",
   "execution_count": 583,
   "id": "a4ddb2aa",
   "metadata": {},
   "outputs": [
    {
     "ename": "IndexError",
     "evalue": "list index out of range",
     "output_type": "error",
     "traceback": [
      "\u001b[0;31m---------------------------------------------------------------------------\u001b[0m",
      "\u001b[0;31mIndexError\u001b[0m                                Traceback (most recent call last)",
      "\u001b[0;32m/tmp/ipykernel_246062/1543438739.py\u001b[0m in \u001b[0;36m<module>\u001b[0;34m\u001b[0m\n\u001b[1;32m      8\u001b[0m         \u001b[0mcount\u001b[0m \u001b[0;34m=\u001b[0m \u001b[0;36m0\u001b[0m\u001b[0;34m\u001b[0m\u001b[0;34m\u001b[0m\u001b[0m\n\u001b[1;32m      9\u001b[0m         \u001b[0;31m#n = i\u001b[0m\u001b[0;34m\u001b[0m\u001b[0;34m\u001b[0m\u001b[0;34m\u001b[0m\u001b[0m\n\u001b[0;32m---> 10\u001b[0;31m         \u001b[0;32mwhile\u001b[0m \u001b[0mli\u001b[0m\u001b[0;34m[\u001b[0m\u001b[0mi\u001b[0m\u001b[0;34m+\u001b[0m\u001b[0;36m1\u001b[0m\u001b[0;34m]\u001b[0m \u001b[0;34m==\u001b[0m \u001b[0mli\u001b[0m\u001b[0;34m[\u001b[0m\u001b[0mi\u001b[0m\u001b[0;34m]\u001b[0m \u001b[0;34m+\u001b[0m \u001b[0;36m1\u001b[0m\u001b[0;34m:\u001b[0m\u001b[0;34m\u001b[0m\u001b[0;34m\u001b[0m\u001b[0m\n\u001b[0m\u001b[1;32m     11\u001b[0m             \u001b[0mcount\u001b[0m \u001b[0;34m+=\u001b[0m \u001b[0;36m1\u001b[0m\u001b[0;34m\u001b[0m\u001b[0;34m\u001b[0m\u001b[0m\n\u001b[1;32m     12\u001b[0m             \u001b[0mi\u001b[0m \u001b[0;34m+=\u001b[0m \u001b[0;36m1\u001b[0m\u001b[0;34m\u001b[0m\u001b[0;34m\u001b[0m\u001b[0m\n",
      "\u001b[0;31mIndexError\u001b[0m: list index out of range"
     ]
    }
   ],
   "source": [
    "result = str(li[0])\n",
    "for i in range(len(li)-1):\n",
    "    \n",
    "    if li[i+1] != li[i] + 1:\n",
    "        result = result + ', ' + str(li[i+1])\n",
    "        \n",
    "    else:\n",
    "        count = 0\n",
    "        #n = i\n",
    "        while li[i+1] == li[i] + 1:\n",
    "            count += 1\n",
    "            i += 1\n",
    "        \n",
    "        if count >= 2:\n",
    "            result = result + ', ' + str(li[i]) + '-' + str(li[i])    "
   ]
  },
  {
   "cell_type": "code",
   "execution_count": null,
   "id": "d3562ebf",
   "metadata": {},
   "outputs": [],
   "source": []
  },
  {
   "cell_type": "code",
   "execution_count": null,
   "id": "ecb37194",
   "metadata": {},
   "outputs": [],
   "source": []
  },
  {
   "cell_type": "code",
   "execution_count": null,
   "id": "304617b7",
   "metadata": {},
   "outputs": [],
   "source": []
  },
  {
   "cell_type": "code",
   "execution_count": null,
   "id": "e63166a9",
   "metadata": {},
   "outputs": [],
   "source": []
  },
  {
   "cell_type": "code",
   "execution_count": null,
   "id": "89e9783e",
   "metadata": {},
   "outputs": [],
   "source": []
  },
  {
   "cell_type": "code",
   "execution_count": null,
   "id": "b749e11c",
   "metadata": {},
   "outputs": [],
   "source": []
  },
  {
   "cell_type": "code",
   "execution_count": null,
   "id": "03fde51f",
   "metadata": {},
   "outputs": [],
   "source": []
  },
  {
   "cell_type": "code",
   "execution_count": null,
   "id": "d9dfb2ec",
   "metadata": {},
   "outputs": [],
   "source": []
  },
  {
   "cell_type": "code",
   "execution_count": null,
   "id": "0ab29d5e",
   "metadata": {},
   "outputs": [],
   "source": []
  },
  {
   "cell_type": "code",
   "execution_count": null,
   "id": "8f724aa0",
   "metadata": {},
   "outputs": [],
   "source": []
  },
  {
   "cell_type": "code",
   "execution_count": null,
   "id": "5e824297",
   "metadata": {},
   "outputs": [],
   "source": []
  },
  {
   "cell_type": "code",
   "execution_count": null,
   "id": "dfc3e96d",
   "metadata": {},
   "outputs": [],
   "source": []
  },
  {
   "cell_type": "code",
   "execution_count": null,
   "id": "dd2c8f5e",
   "metadata": {},
   "outputs": [],
   "source": []
  }
 ],
 "metadata": {
  "kernelspec": {
   "display_name": "Python 3 (ipykernel)",
   "language": "python",
   "name": "python3"
  },
  "language_info": {
   "codemirror_mode": {
    "name": "ipython",
    "version": 3
   },
   "file_extension": ".py",
   "mimetype": "text/x-python",
   "name": "python",
   "nbconvert_exporter": "python",
   "pygments_lexer": "ipython3",
   "version": "3.8.10"
  }
 },
 "nbformat": 4,
 "nbformat_minor": 5
}
