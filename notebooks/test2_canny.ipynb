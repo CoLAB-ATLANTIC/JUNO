{
 "cells": [
  {
   "cell_type": "code",
   "execution_count": null,
   "id": "e480be6e",
   "metadata": {},
   "outputs": [],
   "source": []
  },
  {
   "cell_type": "code",
   "execution_count": 17,
   "id": "8aac6a87",
   "metadata": {},
   "outputs": [],
   "source": [
    "\n",
    "#Import Libraries\n",
    "import pandas as pd\n",
    "import numpy as np\n",
    "import xarray as xr\n",
    "import os\n",
    "import cv2\n",
    "import matplotlib\n",
    "from scipy.ndimage import gaussian_filter\n",
    "import datetime\n",
    "from datetime import date, timedelta\n",
    "import wget\n",
    "from math import floor\n",
    "from pydap.client import open_url\n",
    "import netCDF4 as nc\n",
    "import matplotlib.pyplot as plt\n",
    "\n",
    "matplotlib.use('Agg')    #por causa do erro AttributeError: 'NoneType' object has no attribute 'set_cursor'\n",
    "%matplotlib inline"
   ]
  },
  {
   "cell_type": "code",
   "execution_count": null,
   "id": "88f9a9ef",
   "metadata": {},
   "outputs": [],
   "source": []
  },
  {
   "cell_type": "code",
   "execution_count": null,
   "id": "166198ac",
   "metadata": {},
   "outputs": [],
   "source": []
  },
  {
   "cell_type": "code",
   "execution_count": 8,
   "id": "bf6cf5ae",
   "metadata": {},
   "outputs": [],
   "source": [
    "\n",
    "######################################### IMPORT DATA #######################################################\n",
    "\n",
    "def get_data(data):\n",
    "    \n",
    "    \"\"\"\n",
    "    Function to get our netCDF file that is stored in the data directory and convert it to a dataframe.\n",
    "    The data parameter is the string name of the netCDF file we want to import\n",
    "    \"\"\"\n",
    "    \n",
    "    current_path = os.getcwd()\n",
    "    data_folder = os.path.join(current_path,\"../data\")\n",
    "    \n",
    "    nc_path = os.path.join(data_folder, data)\n",
    "    ds = nc.Dataset(nc_path)\n",
    "    netCDF = xr.load_dataset(nc_path)\n",
    "    \n",
    "    df = netCDF.to_dataframe()\n",
    "    df = df.reset_index()\n",
    "    \n",
    "    df = df.drop(['depth'], axis=1, errors='ignore') #drop the column 'depth' if exists: only exists in reanalysis\n",
    "    \n",
    "    #if MUR data, rename columns and convert temperature to Celsius (the data must be saved as 'mur...nc')\n",
    "    if data.startswith('mur') or data.startswith('sst'):\n",
    "        df.rename(columns={'lat': 'latitude', 'lon': 'longitude', 'time': 'time', 'analysed_sst':'thetao'}, inplace=True)\n",
    "        df['thetao'] = df['thetao']-273.15   \n",
    "        \n",
    "    \n",
    "    return df"
   ]
  },
  {
   "cell_type": "code",
   "execution_count": null,
   "id": "7d15e949",
   "metadata": {},
   "outputs": [],
   "source": []
  },
  {
   "cell_type": "code",
   "execution_count": 9,
   "id": "3bc67a2a",
   "metadata": {},
   "outputs": [],
   "source": [
    "df_ex = get_data('sst_20220615.nc')"
   ]
  },
  {
   "cell_type": "code",
   "execution_count": 10,
   "id": "a44c64f8",
   "metadata": {},
   "outputs": [
    {
     "data": {
      "text/html": [
       "<div>\n",
       "<style scoped>\n",
       "    .dataframe tbody tr th:only-of-type {\n",
       "        vertical-align: middle;\n",
       "    }\n",
       "\n",
       "    .dataframe tbody tr th {\n",
       "        vertical-align: top;\n",
       "    }\n",
       "\n",
       "    .dataframe thead th {\n",
       "        text-align: right;\n",
       "    }\n",
       "</style>\n",
       "<table border=\"1\" class=\"dataframe\">\n",
       "  <thead>\n",
       "    <tr style=\"text-align: right;\">\n",
       "      <th></th>\n",
       "      <th>latitude</th>\n",
       "      <th>longitude</th>\n",
       "      <th>time</th>\n",
       "      <th>thetao</th>\n",
       "    </tr>\n",
       "  </thead>\n",
       "  <tbody>\n",
       "    <tr>\n",
       "      <th>0</th>\n",
       "      <td>35.0</td>\n",
       "      <td>-19.000000</td>\n",
       "      <td>2022-06-15 09:00:00</td>\n",
       "      <td>19.606995</td>\n",
       "    </tr>\n",
       "    <tr>\n",
       "      <th>1</th>\n",
       "      <td>35.0</td>\n",
       "      <td>-18.990000</td>\n",
       "      <td>2022-06-15 09:00:00</td>\n",
       "      <td>19.595001</td>\n",
       "    </tr>\n",
       "    <tr>\n",
       "      <th>2</th>\n",
       "      <td>35.0</td>\n",
       "      <td>-18.980000</td>\n",
       "      <td>2022-06-15 09:00:00</td>\n",
       "      <td>19.583008</td>\n",
       "    </tr>\n",
       "    <tr>\n",
       "      <th>3</th>\n",
       "      <td>35.0</td>\n",
       "      <td>-18.969999</td>\n",
       "      <td>2022-06-15 09:00:00</td>\n",
       "      <td>19.571991</td>\n",
       "    </tr>\n",
       "    <tr>\n",
       "      <th>4</th>\n",
       "      <td>35.0</td>\n",
       "      <td>-18.959999</td>\n",
       "      <td>2022-06-15 09:00:00</td>\n",
       "      <td>19.559998</td>\n",
       "    </tr>\n",
       "    <tr>\n",
       "      <th>...</th>\n",
       "      <td>...</td>\n",
       "      <td>...</td>\n",
       "      <td>...</td>\n",
       "      <td>...</td>\n",
       "    </tr>\n",
       "    <tr>\n",
       "      <th>1402396</th>\n",
       "      <td>45.0</td>\n",
       "      <td>-5.040000</td>\n",
       "      <td>2022-06-15 09:00:00</td>\n",
       "      <td>18.338013</td>\n",
       "    </tr>\n",
       "    <tr>\n",
       "      <th>1402397</th>\n",
       "      <td>45.0</td>\n",
       "      <td>-5.030000</td>\n",
       "      <td>2022-06-15 09:00:00</td>\n",
       "      <td>18.338989</td>\n",
       "    </tr>\n",
       "    <tr>\n",
       "      <th>1402398</th>\n",
       "      <td>45.0</td>\n",
       "      <td>-5.020000</td>\n",
       "      <td>2022-06-15 09:00:00</td>\n",
       "      <td>18.339996</td>\n",
       "    </tr>\n",
       "    <tr>\n",
       "      <th>1402399</th>\n",
       "      <td>45.0</td>\n",
       "      <td>-5.010000</td>\n",
       "      <td>2022-06-15 09:00:00</td>\n",
       "      <td>18.339996</td>\n",
       "    </tr>\n",
       "    <tr>\n",
       "      <th>1402400</th>\n",
       "      <td>45.0</td>\n",
       "      <td>-5.000000</td>\n",
       "      <td>2022-06-15 09:00:00</td>\n",
       "      <td>18.338989</td>\n",
       "    </tr>\n",
       "  </tbody>\n",
       "</table>\n",
       "<p>1402401 rows × 4 columns</p>\n",
       "</div>"
      ],
      "text/plain": [
       "         latitude  longitude                time     thetao\n",
       "0            35.0 -19.000000 2022-06-15 09:00:00  19.606995\n",
       "1            35.0 -18.990000 2022-06-15 09:00:00  19.595001\n",
       "2            35.0 -18.980000 2022-06-15 09:00:00  19.583008\n",
       "3            35.0 -18.969999 2022-06-15 09:00:00  19.571991\n",
       "4            35.0 -18.959999 2022-06-15 09:00:00  19.559998\n",
       "...           ...        ...                 ...        ...\n",
       "1402396      45.0  -5.040000 2022-06-15 09:00:00  18.338013\n",
       "1402397      45.0  -5.030000 2022-06-15 09:00:00  18.338989\n",
       "1402398      45.0  -5.020000 2022-06-15 09:00:00  18.339996\n",
       "1402399      45.0  -5.010000 2022-06-15 09:00:00  18.339996\n",
       "1402400      45.0  -5.000000 2022-06-15 09:00:00  18.338989\n",
       "\n",
       "[1402401 rows x 4 columns]"
      ]
     },
     "execution_count": 10,
     "metadata": {},
     "output_type": "execute_result"
    }
   ],
   "source": [
    "df_ex"
   ]
  },
  {
   "cell_type": "code",
   "execution_count": null,
   "id": "1a284410",
   "metadata": {},
   "outputs": [],
   "source": []
  },
  {
   "cell_type": "code",
   "execution_count": 86,
   "id": "ebb473d8",
   "metadata": {},
   "outputs": [],
   "source": [
    "\n",
    "#################################### CANNY ALGORITHM ##########################################################\n",
    "\n",
    "\n",
    "# Convert the df to a numpy array with the SST values for the coordinate pair (longitude and latitude)\n",
    "sst = df_ex.pivot_table(index='longitude', columns='latitude', values='thetao').T.values\n",
    "#Convert Temperature values to uint8 format with values in the range of 0-255\n",
    "sst_final = ((sst - np.nanmin(sst)) * (1/(np.nanmax(sst) - np.nanmin(sst)) * 255)).astype('uint8')\n",
    "sst_final = np.flipud(sst_final)   #flipud -> Reverse the order of elements along axis 0 (up/down).\n",
    "#in case we want to apply a gaussian filter with a certain sigma value (by default is 0)\n",
    "sst_final = gaussian_filter(sst_final, sigma=5)   \n",
    "\n",
    "\n",
    "#apply the canny algorithm and plot the image with the edges\n",
    "canny = cv2.Canny(sst_final, 120, 220, apertureSize=5, L2gradient=False)\n",
    "\n",
    "canny[canny == 255] = 1\n",
    "\n",
    "\n",
    "#Apply a mask for the continental zone:\n",
    "mask = np.isnan(np.flipud(sst))    #Boolean array: True where array Temp had Null Values (correspond to the continental zone)\n",
    "#mask255 =np.where(mask,(np.ones(mask.shape))*255,0).astype(\"uint8\")   #array which values= 255 when mask=True\n",
    "#Dilation to ensure that the pixels that belong to the \"shore/continental zone\" are not considered fronts \n",
    "#kernel = np.ones((3,3), np.uint8)\n",
    "#mask_dilated = cv2.dilate(mask255, kernel)\n",
    "canny_front = np.ma.masked_array(canny, mask)   #Mask an array where a condition is True\n",
    "\n",
    "#canny_front.astype(np.float)\n",
    "\n",
    "canny_front = np.flipud(canny_front) \n",
    "\n",
    "    "
   ]
  },
  {
   "cell_type": "code",
   "execution_count": null,
   "id": "db82941b",
   "metadata": {},
   "outputs": [],
   "source": []
  },
  {
   "cell_type": "code",
   "execution_count": 81,
   "id": "b3d77061",
   "metadata": {},
   "outputs": [
    {
     "data": {
      "text/plain": [
       "masked_array(\n",
       "  data=[[0, 0, 0, ..., 0, 0, 0],\n",
       "        [0, 0, 0, ..., 0, 0, 0],\n",
       "        [0, 0, 0, ..., 0, 0, 0],\n",
       "        ...,\n",
       "        [0, 0, 0, ..., --, --, --],\n",
       "        [0, 0, 0, ..., --, --, --],\n",
       "        [0, 0, 0, ..., --, --, --]],\n",
       "  mask=[[False, False, False, ..., False, False, False],\n",
       "        [False, False, False, ..., False, False, False],\n",
       "        [False, False, False, ..., False, False, False],\n",
       "        ...,\n",
       "        [False, False, False, ...,  True,  True,  True],\n",
       "        [False, False, False, ...,  True,  True,  True],\n",
       "        [False, False, False, ...,  True,  True,  True]],\n",
       "  fill_value=999999,\n",
       "  dtype=uint8)"
      ]
     },
     "execution_count": 81,
     "metadata": {},
     "output_type": "execute_result"
    }
   ],
   "source": [
    "canny_front"
   ]
  },
  {
   "cell_type": "code",
   "execution_count": 82,
   "id": "1ac06891",
   "metadata": {},
   "outputs": [
    {
     "data": {
      "text/plain": [
       "<matplotlib.image.AxesImage at 0x7f83e6d87700>"
      ]
     },
     "execution_count": 82,
     "metadata": {},
     "output_type": "execute_result"
    },
    {
     "data": {
      "image/png": "[encoded data removed]",
      "text/plain": [
       "<Figure size 432x288 with 1 Axes>"
      ]
     },
     "metadata": {
      "needs_background": "light"
     },
     "output_type": "display_data"
    }
   ],
   "source": [
    "plt.imshow(canny_front)"
   ]
  },
  {
   "cell_type": "code",
   "execution_count": 79,
   "id": "2c9a42e5",
   "metadata": {},
   "outputs": [
    {
     "data": {
      "text/plain": [
       "(array([[1001.,    0.,    0., ...,    0.,    0.,    0.],\n",
       "        [1001.,    0.,    0., ...,    0.,    0.,    0.],\n",
       "        [1001.,    0.,    0., ...,    0.,    0.,    0.],\n",
       "        ...,\n",
       "        [ 984.,    0.,    0., ...,    0.,    0.,   17.],\n",
       "        [ 987.,    0.,    0., ...,    0.,    0.,   14.],\n",
       "        [ 987.,    0.,    0., ...,    0.,    0.,   14.]]),\n",
       " array([0. , 0.1, 0.2, 0.3, 0.4, 0.5, 0.6, 0.7, 0.8, 0.9, 1. ]),\n",
       " <a list of 1401 Lists of Patches objects>)"
      ]
     },
     "execution_count": 79,
     "metadata": {},
     "output_type": "execute_result"
    },
    {
     "data": {
      "image/png": "[encoded data removed]",
      "text/plain": [
       "<Figure size 432x288 with 1 Axes>"
      ]
     },
     "metadata": {
      "needs_background": "light"
     },
     "output_type": "display_data"
    }
   ],
   "source": [
    "plt.hist(canny_front)"
   ]
  },
  {
   "cell_type": "code",
   "execution_count": 57,
   "id": "db7764d5",
   "metadata": {},
   "outputs": [
    {
     "data": {
      "text/plain": [
       "numpy.ma.core.MaskedArray"
      ]
     },
     "execution_count": 57,
     "metadata": {},
     "output_type": "execute_result"
    }
   ],
   "source": [
    "type(canny_front)"
   ]
  },
  {
   "cell_type": "code",
   "execution_count": 58,
   "id": "b6e55085",
   "metadata": {
    "scrolled": true
   },
   "outputs": [
    {
     "name": "stdout",
     "output_type": "stream",
     "text": [
      "class:  MaskedArray\n",
      "shape:  (1001, 1401)\n",
      "strides:  (1401, 1)\n",
      "itemsize:  1\n",
      "aligned:  True\n",
      "contiguous:  True\n",
      "fortran:  False\n",
      "data pointer: 0xb9326f0\n",
      "byteorder:  little\n",
      "byteswap:  False\n",
      "type: uint8\n"
     ]
    }
   ],
   "source": [
    "np.info(canny_front)"
   ]
  },
  {
   "cell_type": "code",
   "execution_count": null,
   "id": "df9702c6",
   "metadata": {},
   "outputs": [],
   "source": []
  },
  {
   "cell_type": "code",
   "execution_count": 80,
   "id": "cfd14ac1",
   "metadata": {},
   "outputs": [
    {
     "data": {
      "text/plain": [
       "masked_array(data=[0, 1, --],\n",
       "             mask=[False, False,  True],\n",
       "       fill_value=999999,\n",
       "            dtype=uint8)"
      ]
     },
     "execution_count": 80,
     "metadata": {},
     "output_type": "execute_result"
    }
   ],
   "source": [
    "np.unique(canny_front)"
   ]
  },
  {
   "cell_type": "code",
   "execution_count": null,
   "id": "3bdac674",
   "metadata": {},
   "outputs": [],
   "source": []
  },
  {
   "cell_type": "code",
   "execution_count": null,
   "id": "14f47f2f",
   "metadata": {},
   "outputs": [],
   "source": []
  },
  {
   "cell_type": "code",
   "execution_count": 87,
   "id": "334960e5",
   "metadata": {},
   "outputs": [],
   "source": [
    "\n",
    "    \n",
    "base_path = os.getcwd()\n",
    "base_path = os.path.join(base_path, '../JUNO')      #servidor\n",
    "# base_path = os.path.join(base_path, 'JUNO')               #minha maquina\n",
    "\n",
    "#download MUR data for the day before yesterday\n",
    "day_txt = (date.today() - timedelta(days=2)).strftime('%Y%m%d')\n",
    "\n",
    "\n",
    "exist_path = os.path.exists(os.path.join(base_path, 'data/MUR_daily_fronts_netcdf'))    #check if folder MUR_algorithm_daily_images exists in data folder\n",
    "if not exist_path:                                                                         #if doesn't exist\n",
    "    os.makedirs(os.path.join(base_path, 'data/MUR_daily_fronts_netcdf'))                # create the folder\n",
    "\n",
    "    \n",
    "nc_file = os.getcwd()\n",
    "nc_file = os.path.join(nc_file, '../JUNO/data/MUR_daily_fronts_netcdf/MUR' + day_txt + '.nc')\n",
    "\n",
    "ds = nc.Dataset(nc_file, 'w', format='NETCDF4')\n",
    "\n",
    "ds.title = 'MUR ' + day_txt + ' Fronts Arrays'\n",
    "\n",
    "#create dimensions of the NetCDF file\n",
    "time = ds.createDimension('time')\n",
    "lat = ds.createDimension('lat', 1001)\n",
    "lon = ds.createDimension('lon', 1401)\n",
    "\n",
    "times = ds.createVariable('time', 'f4', ('time', ))\n",
    "lats = ds.createVariable('lat', 'f4', ('lat', ))\n",
    "lons = ds.createVariable('lon', 'f4', ('lon', ))\n",
    "\n",
    "\n",
    "canny = ds.createVariable('canny', 'f4', ('time', 'lat', 'lon',))\n",
    "canny.units = 'Unknown'\n",
    "canny.description = 'Binary Array with identyfied fronts through Canny from OpenCV (1-> front), (0->not front)'\n",
    "canny[0, :, :] = canny_front.astype(float)\n",
    "\n",
    "times.units = 'days since 1-1-1'\n",
    "\n",
    "lats[:] = np.linspace(35, 45, 1001)\n",
    "lons[:] = np.linspace(-19, -5, 1401)\n",
    "\n",
    "\n",
    "date_obj = datetime.datetime.strptime(day_txt, '%Y%m%d')\n",
    "date_time = date_obj.toordinal()\n",
    "times[:] = date_time\n",
    "\n",
    "ds.close()\n",
    "\n",
    "\n"
   ]
  },
  {
   "cell_type": "code",
   "execution_count": null,
   "id": "6dcf63a5",
   "metadata": {},
   "outputs": [],
   "source": []
  },
  {
   "cell_type": "code",
   "execution_count": null,
   "id": "6134317f",
   "metadata": {},
   "outputs": [],
   "source": []
  },
  {
   "cell_type": "code",
   "execution_count": null,
   "id": "cdc2f887",
   "metadata": {},
   "outputs": [],
   "source": []
  },
  {
   "cell_type": "code",
   "execution_count": null,
   "id": "b0f5b0e8",
   "metadata": {},
   "outputs": [],
   "source": []
  },
  {
   "cell_type": "code",
   "execution_count": null,
   "id": "9f2ed6de",
   "metadata": {},
   "outputs": [],
   "source": []
  },
  {
   "cell_type": "code",
   "execution_count": null,
   "id": "e8b996b2",
   "metadata": {},
   "outputs": [],
   "source": []
  },
  {
   "cell_type": "code",
   "execution_count": null,
   "id": "5b502dbd",
   "metadata": {},
   "outputs": [],
   "source": []
  },
  {
   "cell_type": "code",
   "execution_count": null,
   "id": "f36c30b1",
   "metadata": {},
   "outputs": [],
   "source": []
  },
  {
   "cell_type": "code",
   "execution_count": null,
   "id": "bcf39826",
   "metadata": {},
   "outputs": [],
   "source": []
  },
  {
   "cell_type": "code",
   "execution_count": null,
   "id": "a6dddae7",
   "metadata": {},
   "outputs": [],
   "source": []
  },
  {
   "cell_type": "code",
   "execution_count": null,
   "id": "a18e2ef9",
   "metadata": {},
   "outputs": [],
   "source": []
  },
  {
   "cell_type": "code",
   "execution_count": null,
   "id": "faff7fbc",
   "metadata": {},
   "outputs": [],
   "source": []
  },
  {
   "cell_type": "code",
   "execution_count": null,
   "id": "debf1428",
   "metadata": {},
   "outputs": [],
   "source": []
  },
  {
   "cell_type": "code",
   "execution_count": null,
   "id": "ef2c75cb",
   "metadata": {},
   "outputs": [],
   "source": []
  },
  {
   "cell_type": "code",
   "execution_count": null,
   "id": "4276be41",
   "metadata": {},
   "outputs": [],
   "source": []
  },
  {
   "cell_type": "code",
   "execution_count": null,
   "id": "060cc027",
   "metadata": {},
   "outputs": [],
   "source": []
  },
  {
   "cell_type": "code",
   "execution_count": null,
   "id": "a5d2f56f",
   "metadata": {},
   "outputs": [],
   "source": []
  },
  {
   "cell_type": "code",
   "execution_count": null,
   "id": "25225f44",
   "metadata": {},
   "outputs": [],
   "source": []
  },
  {
   "cell_type": "code",
   "execution_count": null,
   "id": "4c673568",
   "metadata": {},
   "outputs": [],
   "source": []
  },
  {
   "cell_type": "code",
   "execution_count": null,
   "id": "d748a463",
   "metadata": {},
   "outputs": [],
   "source": []
  },
  {
   "cell_type": "code",
   "execution_count": null,
   "id": "ef09cba7",
   "metadata": {},
   "outputs": [],
   "source": []
  },
  {
   "cell_type": "code",
   "execution_count": null,
   "id": "960eb625",
   "metadata": {},
   "outputs": [],
   "source": []
  },
  {
   "cell_type": "code",
   "execution_count": null,
   "id": "a0c21e9d",
   "metadata": {},
   "outputs": [],
   "source": []
  },
  {
   "cell_type": "code",
   "execution_count": null,
   "id": "b2073f0f",
   "metadata": {},
   "outputs": [],
   "source": []
  },
  {
   "cell_type": "code",
   "execution_count": null,
   "id": "54b37c1d",
   "metadata": {},
   "outputs": [],
   "source": []
  },
  {
   "cell_type": "code",
   "execution_count": null,
   "id": "6156f004",
   "metadata": {},
   "outputs": [],
   "source": []
  },
  {
   "cell_type": "code",
   "execution_count": null,
   "id": "4d4c91c8",
   "metadata": {},
   "outputs": [],
   "source": []
  },
  {
   "cell_type": "code",
   "execution_count": null,
   "id": "34bd9a75",
   "metadata": {},
   "outputs": [],
   "source": []
  },
  {
   "cell_type": "code",
   "execution_count": null,
   "id": "aaae2bda",
   "metadata": {},
   "outputs": [],
   "source": []
  },
  {
   "cell_type": "code",
   "execution_count": null,
   "id": "692df922",
   "metadata": {},
   "outputs": [],
   "source": []
  },
  {
   "cell_type": "code",
   "execution_count": null,
   "id": "890d5355",
   "metadata": {},
   "outputs": [],
   "source": []
  },
  {
   "cell_type": "code",
   "execution_count": null,
   "id": "92ba02ac",
   "metadata": {},
   "outputs": [],
   "source": []
  },
  {
   "cell_type": "code",
   "execution_count": null,
   "id": "2e9427b5",
   "metadata": {},
   "outputs": [],
   "source": []
  },
  {
   "cell_type": "code",
   "execution_count": null,
   "id": "24e7af14",
   "metadata": {},
   "outputs": [],
   "source": []
  },
  {
   "cell_type": "code",
   "execution_count": null,
   "id": "ca47ff01",
   "metadata": {},
   "outputs": [],
   "source": []
  },
  {
   "cell_type": "code",
   "execution_count": null,
   "id": "5b4c7fec",
   "metadata": {},
   "outputs": [],
   "source": []
  },
  {
   "cell_type": "code",
   "execution_count": null,
   "id": "191c23e5",
   "metadata": {},
   "outputs": [],
   "source": []
  },
  {
   "cell_type": "code",
   "execution_count": null,
   "id": "68bcea86",
   "metadata": {},
   "outputs": [],
   "source": []
  },
  {
   "cell_type": "code",
   "execution_count": null,
   "id": "abccfdc0",
   "metadata": {},
   "outputs": [],
   "source": []
  },
  {
   "cell_type": "code",
   "execution_count": null,
   "id": "eefa16c0",
   "metadata": {},
   "outputs": [],
   "source": []
  }
 ],
 "metadata": {
  "kernelspec": {
   "display_name": "Python 3 (ipykernel)",
   "language": "python",
   "name": "python3"
  },
  "language_info": {
   "codemirror_mode": {
    "name": "ipython",
    "version": 3
   },
   "file_extension": ".py",
   "mimetype": "text/x-python",
   "name": "python",
   "nbconvert_exporter": "python",
   "pygments_lexer": "ipython3",
   "version": "3.8.10"
  }
 },
 "nbformat": 4,
 "nbformat_minor": 5
}
