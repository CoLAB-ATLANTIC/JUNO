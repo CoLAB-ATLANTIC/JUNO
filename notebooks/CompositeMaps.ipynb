{
 "cells": [
  {
   "cell_type": "markdown",
   "id": "fc0d0eb7",
   "metadata": {},
   "source": [
    "In this notebook I will try to create a composite map from our canny arrays"
   ]
  },
  {
   "cell_type": "code",
   "execution_count": null,
   "id": "8aa9190a",
   "metadata": {},
   "outputs": [],
   "source": []
  },
  {
   "cell_type": "code",
   "execution_count": 1,
   "id": "73841d10",
   "metadata": {},
   "outputs": [],
   "source": [
    "import pandas as pd\n",
    "import numpy as np\n",
    "import matplotlib.pyplot as plt\n",
    "import seaborn as sns\n",
    "import netCDF4 as nc\n",
    "import cv2\n",
    "import datetime\n",
    "import xarray as xr\n",
    "import os\n",
    "plt.rcParams[\"figure.figsize\"] = 10, 8\n",
    "%matplotlib inline"
   ]
  },
  {
   "cell_type": "code",
   "execution_count": null,
   "id": "aeda1913",
   "metadata": {},
   "outputs": [],
   "source": []
  },
  {
   "cell_type": "code",
   "execution_count": null,
   "id": "ed3e109a",
   "metadata": {},
   "outputs": [],
   "source": []
  },
  {
   "cell_type": "markdown",
   "id": "4651a6b8",
   "metadata": {},
   "source": [
    "#### Importação dos dados de Atlantic-Iberian Biscay Irish- Ocean Physics Reanalysis\n",
    "\n",
    "Através da command line eu importei uma base de dados relativa a 2019 dos valores de SST de um dado programa do Copernicus. Trata-se de um ficheiro .nc (netCDF)\n",
    "\n",
    "No entanto no futuro eu vou querer que o meu programa faça download diretamente dos dados num python script"
   ]
  },
  {
   "cell_type": "code",
   "execution_count": null,
   "id": "3a9d9a16",
   "metadata": {},
   "outputs": [],
   "source": []
  },
  {
   "cell_type": "code",
   "execution_count": 2,
   "id": "b2dee2ae",
   "metadata": {},
   "outputs": [
    {
     "data": {
      "text/plain": [
       "'/home/luisfigueiredo/JUNO/notebooks'"
      ]
     },
     "execution_count": 2,
     "metadata": {},
     "output_type": "execute_result"
    }
   ],
   "source": [
    "current_path = os.getcwd()\n",
    "current_path"
   ]
  },
  {
   "cell_type": "code",
   "execution_count": 3,
   "id": "3c824a71",
   "metadata": {},
   "outputs": [
    {
     "data": {
      "text/plain": [
       "'/home/luisfigueiredo/JUNO/notebooks/../data'"
      ]
     },
     "execution_count": 3,
     "metadata": {},
     "output_type": "execute_result"
    }
   ],
   "source": [
    "from pathlib import Path\n",
    "\n",
    "data_folder = os.path.join(current_path,\"../data\")\n",
    "data_folder"
   ]
  },
  {
   "cell_type": "code",
   "execution_count": 4,
   "id": "f2bbb492",
   "metadata": {},
   "outputs": [],
   "source": [
    "nc_path = os.path.join(data_folder, \"IBI2014-2019.nc\")\n",
    "ds = nc.Dataset(nc_path)\n",
    "data = xr.load_dataset(nc_path)"
   ]
  },
  {
   "cell_type": "code",
   "execution_count": 5,
   "id": "028d80e5",
   "metadata": {},
   "outputs": [
    {
     "name": "stdout",
     "output_type": "stream",
     "text": [
      "<class 'netCDF4._netCDF4.Dataset'>\n",
      "root group (NETCDF4 data model, file format HDF5):\n",
      "    Conventions: CF-1.0\n",
      "    source: CMEMS IBI-MFC\n",
      "    institution: Puertos del Estado (PdE) - Mercator-Ocean (MO)\n",
      "    references: http://marine.copernicus.eu\n",
      "    title: CMEMS IBI REANALYSIS: DAILY PHYSICAL PRODUCTS \n",
      "    easting: longitude\n",
      "    northing: latitude\n",
      "    domain_name: IBI12\n",
      "    FROM_ORIGINAL_FILE__field_type: mean\n",
      "    field_date: 20191224\n",
      "    FROM_ORIGINAL_FILE__longitude_min: -19.f\n",
      "    FROM_ORIGINAL_FILE__longitude_max: 5.f\n",
      "    FROM_ORIGINAL_FILE__latitude_min: 26.f\n",
      "    FROM_ORIGINAL_FILE__latitude_max: 56.f\n",
      "    z_min: 0.50576f\n",
      "    z_max: 5698.061f\n",
      "    contact: mailto: servicedesk.cmems@mercator-ocean.eu\n",
      "    bulletin_date: 2020-12-01\n",
      "    bulletin_type: Reanalysis\n",
      "    _CoordSysBuilder: ucar.nc2.dataset.conv.CF1Convention\n",
      "    comment: \n",
      "    history: Data extracted from dataset http://localhost:8080/thredds/dodsC/cmems_mod_ibi_phy_my_0.083deg-3D_P1D-m\n",
      "    dimensions(sizes): depth(1), latitude(121), time(2184), longitude(169)\n",
      "    variables(dimensions): float32 depth(depth), float32 latitude(latitude), int16 thetao(time, depth, latitude, longitude), int64 time(time), float32 longitude(longitude)\n",
      "    groups: \n"
     ]
    }
   ],
   "source": [
    "print(ds)     # informações relativas ao ficheiro netCDF"
   ]
  },
  {
   "cell_type": "code",
   "execution_count": 6,
   "id": "f4bbc6e8",
   "metadata": {},
   "outputs": [],
   "source": [
    "#Converter o ficheiro netCDF para uma dataframe\n",
    "datadf = data.to_dataframe()\n",
    "df2014_2019 = datadf.reset_index()"
   ]
  },
  {
   "cell_type": "code",
   "execution_count": 7,
   "id": "1c3698a2",
   "metadata": {},
   "outputs": [
    {
     "data": {
      "text/html": [
       "<div>\n",
       "<style scoped>\n",
       "    .dataframe tbody tr th:only-of-type {\n",
       "        vertical-align: middle;\n",
       "    }\n",
       "\n",
       "    .dataframe tbody tr th {\n",
       "        vertical-align: top;\n",
       "    }\n",
       "\n",
       "    .dataframe thead th {\n",
       "        text-align: right;\n",
       "    }\n",
       "</style>\n",
       "<table border=\"1\" class=\"dataframe\">\n",
       "  <thead>\n",
       "    <tr style=\"text-align: right;\">\n",
       "      <th></th>\n",
       "      <th>latitude</th>\n",
       "      <th>longitude</th>\n",
       "      <th>time</th>\n",
       "      <th>thetao</th>\n",
       "    </tr>\n",
       "  </thead>\n",
       "  <tbody>\n",
       "    <tr>\n",
       "      <th>0</th>\n",
       "      <td>35.0</td>\n",
       "      <td>-19.0</td>\n",
       "      <td>2014-01-01 12:00:00</td>\n",
       "      <td>18.316000</td>\n",
       "    </tr>\n",
       "    <tr>\n",
       "      <th>1</th>\n",
       "      <td>35.0</td>\n",
       "      <td>-19.0</td>\n",
       "      <td>2014-01-02 12:00:00</td>\n",
       "      <td>18.309000</td>\n",
       "    </tr>\n",
       "    <tr>\n",
       "      <th>2</th>\n",
       "      <td>35.0</td>\n",
       "      <td>-19.0</td>\n",
       "      <td>2014-01-03 12:00:00</td>\n",
       "      <td>18.316000</td>\n",
       "    </tr>\n",
       "    <tr>\n",
       "      <th>3</th>\n",
       "      <td>35.0</td>\n",
       "      <td>-19.0</td>\n",
       "      <td>2014-01-04 12:00:00</td>\n",
       "      <td>18.273001</td>\n",
       "    </tr>\n",
       "    <tr>\n",
       "      <th>4</th>\n",
       "      <td>35.0</td>\n",
       "      <td>-19.0</td>\n",
       "      <td>2014-01-05 12:00:00</td>\n",
       "      <td>18.230000</td>\n",
       "    </tr>\n",
       "    <tr>\n",
       "      <th>...</th>\n",
       "      <td>...</td>\n",
       "      <td>...</td>\n",
       "      <td>...</td>\n",
       "      <td>...</td>\n",
       "    </tr>\n",
       "    <tr>\n",
       "      <th>44660611</th>\n",
       "      <td>45.0</td>\n",
       "      <td>-5.0</td>\n",
       "      <td>2019-12-20 12:00:00</td>\n",
       "      <td>13.619000</td>\n",
       "    </tr>\n",
       "    <tr>\n",
       "      <th>44660612</th>\n",
       "      <td>45.0</td>\n",
       "      <td>-5.0</td>\n",
       "      <td>2019-12-21 12:00:00</td>\n",
       "      <td>13.559000</td>\n",
       "    </tr>\n",
       "    <tr>\n",
       "      <th>44660613</th>\n",
       "      <td>45.0</td>\n",
       "      <td>-5.0</td>\n",
       "      <td>2019-12-22 12:00:00</td>\n",
       "      <td>13.458000</td>\n",
       "    </tr>\n",
       "    <tr>\n",
       "      <th>44660614</th>\n",
       "      <td>45.0</td>\n",
       "      <td>-5.0</td>\n",
       "      <td>2019-12-23 12:00:00</td>\n",
       "      <td>13.400000</td>\n",
       "    </tr>\n",
       "    <tr>\n",
       "      <th>44660615</th>\n",
       "      <td>45.0</td>\n",
       "      <td>-5.0</td>\n",
       "      <td>2019-12-24 12:00:00</td>\n",
       "      <td>13.390000</td>\n",
       "    </tr>\n",
       "  </tbody>\n",
       "</table>\n",
       "<p>44660616 rows × 4 columns</p>\n",
       "</div>"
      ],
      "text/plain": [
       "          latitude  longitude                time     thetao\n",
       "0             35.0      -19.0 2014-01-01 12:00:00  18.316000\n",
       "1             35.0      -19.0 2014-01-02 12:00:00  18.309000\n",
       "2             35.0      -19.0 2014-01-03 12:00:00  18.316000\n",
       "3             35.0      -19.0 2014-01-04 12:00:00  18.273001\n",
       "4             35.0      -19.0 2014-01-05 12:00:00  18.230000\n",
       "...            ...        ...                 ...        ...\n",
       "44660611      45.0       -5.0 2019-12-20 12:00:00  13.619000\n",
       "44660612      45.0       -5.0 2019-12-21 12:00:00  13.559000\n",
       "44660613      45.0       -5.0 2019-12-22 12:00:00  13.458000\n",
       "44660614      45.0       -5.0 2019-12-23 12:00:00  13.400000\n",
       "44660615      45.0       -5.0 2019-12-24 12:00:00  13.390000\n",
       "\n",
       "[44660616 rows x 4 columns]"
      ]
     },
     "execution_count": 7,
     "metadata": {},
     "output_type": "execute_result"
    }
   ],
   "source": [
    "df2014_2019 = df2014_2019.drop(['depth'], axis=1)     #dropar coluna 'depth' (não é necessária pq é sempre igual)\n",
    "df2014_2019   #os dados .nc estão agora no formato de uma dataframe"
   ]
  },
  {
   "cell_type": "code",
   "execution_count": 8,
   "id": "9dc3f905",
   "metadata": {},
   "outputs": [
    {
     "data": {
      "text/html": [
       "<div>\n",
       "<style scoped>\n",
       "    .dataframe tbody tr th:only-of-type {\n",
       "        vertical-align: middle;\n",
       "    }\n",
       "\n",
       "    .dataframe tbody tr th {\n",
       "        vertical-align: top;\n",
       "    }\n",
       "\n",
       "    .dataframe thead th {\n",
       "        text-align: right;\n",
       "    }\n",
       "</style>\n",
       "<table border=\"1\" class=\"dataframe\">\n",
       "  <thead>\n",
       "    <tr style=\"text-align: right;\">\n",
       "      <th></th>\n",
       "      <th>time</th>\n",
       "      <th>latitude</th>\n",
       "      <th>longitude</th>\n",
       "      <th>thetao</th>\n",
       "    </tr>\n",
       "  </thead>\n",
       "  <tbody>\n",
       "    <tr>\n",
       "      <th>0</th>\n",
       "      <td>2014-01-01 12:00:00</td>\n",
       "      <td>35.0</td>\n",
       "      <td>-19.0</td>\n",
       "      <td>18.316000</td>\n",
       "    </tr>\n",
       "    <tr>\n",
       "      <th>1</th>\n",
       "      <td>2014-01-02 12:00:00</td>\n",
       "      <td>35.0</td>\n",
       "      <td>-19.0</td>\n",
       "      <td>18.309000</td>\n",
       "    </tr>\n",
       "    <tr>\n",
       "      <th>2</th>\n",
       "      <td>2014-01-03 12:00:00</td>\n",
       "      <td>35.0</td>\n",
       "      <td>-19.0</td>\n",
       "      <td>18.316000</td>\n",
       "    </tr>\n",
       "    <tr>\n",
       "      <th>3</th>\n",
       "      <td>2014-01-04 12:00:00</td>\n",
       "      <td>35.0</td>\n",
       "      <td>-19.0</td>\n",
       "      <td>18.273001</td>\n",
       "    </tr>\n",
       "    <tr>\n",
       "      <th>4</th>\n",
       "      <td>2014-01-05 12:00:00</td>\n",
       "      <td>35.0</td>\n",
       "      <td>-19.0</td>\n",
       "      <td>18.230000</td>\n",
       "    </tr>\n",
       "    <tr>\n",
       "      <th>...</th>\n",
       "      <td>...</td>\n",
       "      <td>...</td>\n",
       "      <td>...</td>\n",
       "      <td>...</td>\n",
       "    </tr>\n",
       "    <tr>\n",
       "      <th>44660611</th>\n",
       "      <td>2019-12-20 12:00:00</td>\n",
       "      <td>45.0</td>\n",
       "      <td>-5.0</td>\n",
       "      <td>13.619000</td>\n",
       "    </tr>\n",
       "    <tr>\n",
       "      <th>44660612</th>\n",
       "      <td>2019-12-21 12:00:00</td>\n",
       "      <td>45.0</td>\n",
       "      <td>-5.0</td>\n",
       "      <td>13.559000</td>\n",
       "    </tr>\n",
       "    <tr>\n",
       "      <th>44660613</th>\n",
       "      <td>2019-12-22 12:00:00</td>\n",
       "      <td>45.0</td>\n",
       "      <td>-5.0</td>\n",
       "      <td>13.458000</td>\n",
       "    </tr>\n",
       "    <tr>\n",
       "      <th>44660614</th>\n",
       "      <td>2019-12-23 12:00:00</td>\n",
       "      <td>45.0</td>\n",
       "      <td>-5.0</td>\n",
       "      <td>13.400000</td>\n",
       "    </tr>\n",
       "    <tr>\n",
       "      <th>44660615</th>\n",
       "      <td>2019-12-24 12:00:00</td>\n",
       "      <td>45.0</td>\n",
       "      <td>-5.0</td>\n",
       "      <td>13.390000</td>\n",
       "    </tr>\n",
       "  </tbody>\n",
       "</table>\n",
       "<p>44660616 rows × 4 columns</p>\n",
       "</div>"
      ],
      "text/plain": [
       "                        time  latitude  longitude     thetao\n",
       "0        2014-01-01 12:00:00      35.0      -19.0  18.316000\n",
       "1        2014-01-02 12:00:00      35.0      -19.0  18.309000\n",
       "2        2014-01-03 12:00:00      35.0      -19.0  18.316000\n",
       "3        2014-01-04 12:00:00      35.0      -19.0  18.273001\n",
       "4        2014-01-05 12:00:00      35.0      -19.0  18.230000\n",
       "...                      ...       ...        ...        ...\n",
       "44660611 2019-12-20 12:00:00      45.0       -5.0  13.619000\n",
       "44660612 2019-12-21 12:00:00      45.0       -5.0  13.559000\n",
       "44660613 2019-12-22 12:00:00      45.0       -5.0  13.458000\n",
       "44660614 2019-12-23 12:00:00      45.0       -5.0  13.400000\n",
       "44660615 2019-12-24 12:00:00      45.0       -5.0  13.390000\n",
       "\n",
       "[44660616 rows x 4 columns]"
      ]
     },
     "execution_count": 8,
     "metadata": {},
     "output_type": "execute_result"
    }
   ],
   "source": [
    "df2014_2019 = df2014_2019[['time', 'latitude', 'longitude', 'thetao']]    #reorganizar as colunas da dataframe\n",
    "df2014_2019"
   ]
  },
  {
   "cell_type": "code",
   "execution_count": null,
   "id": "7c8473ba",
   "metadata": {},
   "outputs": [],
   "source": []
  },
  {
   "cell_type": "code",
   "execution_count": null,
   "id": "ee894b0e",
   "metadata": {},
   "outputs": [],
   "source": []
  },
  {
   "cell_type": "code",
   "execution_count": 9,
   "id": "7a4535a1",
   "metadata": {},
   "outputs": [
    {
     "data": {
      "text/html": [
       "<div>\n",
       "<style scoped>\n",
       "    .dataframe tbody tr th:only-of-type {\n",
       "        vertical-align: middle;\n",
       "    }\n",
       "\n",
       "    .dataframe tbody tr th {\n",
       "        vertical-align: top;\n",
       "    }\n",
       "\n",
       "    .dataframe thead th {\n",
       "        text-align: right;\n",
       "    }\n",
       "</style>\n",
       "<table border=\"1\" class=\"dataframe\">\n",
       "  <thead>\n",
       "    <tr style=\"text-align: right;\">\n",
       "      <th></th>\n",
       "      <th>time</th>\n",
       "      <th>latitude</th>\n",
       "      <th>longitude</th>\n",
       "      <th>thetao</th>\n",
       "    </tr>\n",
       "  </thead>\n",
       "  <tbody>\n",
       "    <tr>\n",
       "      <th>2093</th>\n",
       "      <td>2019-09-25 12:00:00</td>\n",
       "      <td>35.0</td>\n",
       "      <td>-19.000000</td>\n",
       "      <td>22.527000</td>\n",
       "    </tr>\n",
       "    <tr>\n",
       "      <th>4277</th>\n",
       "      <td>2019-09-25 12:00:00</td>\n",
       "      <td>35.0</td>\n",
       "      <td>-18.916666</td>\n",
       "      <td>22.516001</td>\n",
       "    </tr>\n",
       "    <tr>\n",
       "      <th>6461</th>\n",
       "      <td>2019-09-25 12:00:00</td>\n",
       "      <td>35.0</td>\n",
       "      <td>-18.833334</td>\n",
       "      <td>22.648001</td>\n",
       "    </tr>\n",
       "    <tr>\n",
       "      <th>8645</th>\n",
       "      <td>2019-09-25 12:00:00</td>\n",
       "      <td>35.0</td>\n",
       "      <td>-18.750000</td>\n",
       "      <td>22.809002</td>\n",
       "    </tr>\n",
       "    <tr>\n",
       "      <th>10829</th>\n",
       "      <td>2019-09-25 12:00:00</td>\n",
       "      <td>35.0</td>\n",
       "      <td>-18.666666</td>\n",
       "      <td>22.910000</td>\n",
       "    </tr>\n",
       "    <tr>\n",
       "      <th>...</th>\n",
       "      <td>...</td>\n",
       "      <td>...</td>\n",
       "      <td>...</td>\n",
       "      <td>...</td>\n",
       "    </tr>\n",
       "    <tr>\n",
       "      <th>44651789</th>\n",
       "      <td>2019-09-25 12:00:00</td>\n",
       "      <td>45.0</td>\n",
       "      <td>-5.333334</td>\n",
       "      <td>19.063999</td>\n",
       "    </tr>\n",
       "    <tr>\n",
       "      <th>44653973</th>\n",
       "      <td>2019-09-25 12:00:00</td>\n",
       "      <td>45.0</td>\n",
       "      <td>-5.250000</td>\n",
       "      <td>19.021999</td>\n",
       "    </tr>\n",
       "    <tr>\n",
       "      <th>44656157</th>\n",
       "      <td>2019-09-25 12:00:00</td>\n",
       "      <td>45.0</td>\n",
       "      <td>-5.166667</td>\n",
       "      <td>18.996000</td>\n",
       "    </tr>\n",
       "    <tr>\n",
       "      <th>44658341</th>\n",
       "      <td>2019-09-25 12:00:00</td>\n",
       "      <td>45.0</td>\n",
       "      <td>-5.083334</td>\n",
       "      <td>19.000999</td>\n",
       "    </tr>\n",
       "    <tr>\n",
       "      <th>44660525</th>\n",
       "      <td>2019-09-25 12:00:00</td>\n",
       "      <td>45.0</td>\n",
       "      <td>-5.000000</td>\n",
       "      <td>19.035000</td>\n",
       "    </tr>\n",
       "  </tbody>\n",
       "</table>\n",
       "<p>20449 rows × 4 columns</p>\n",
       "</div>"
      ],
      "text/plain": [
       "                        time  latitude  longitude     thetao\n",
       "2093     2019-09-25 12:00:00      35.0 -19.000000  22.527000\n",
       "4277     2019-09-25 12:00:00      35.0 -18.916666  22.516001\n",
       "6461     2019-09-25 12:00:00      35.0 -18.833334  22.648001\n",
       "8645     2019-09-25 12:00:00      35.0 -18.750000  22.809002\n",
       "10829    2019-09-25 12:00:00      35.0 -18.666666  22.910000\n",
       "...                      ...       ...        ...        ...\n",
       "44651789 2019-09-25 12:00:00      45.0  -5.333334  19.063999\n",
       "44653973 2019-09-25 12:00:00      45.0  -5.250000  19.021999\n",
       "44656157 2019-09-25 12:00:00      45.0  -5.166667  18.996000\n",
       "44658341 2019-09-25 12:00:00      45.0  -5.083334  19.000999\n",
       "44660525 2019-09-25 12:00:00      45.0  -5.000000  19.035000\n",
       "\n",
       "[20449 rows x 4 columns]"
      ]
     },
     "execution_count": 9,
     "metadata": {},
     "output_type": "execute_result"
    }
   ],
   "source": [
    "#Df com dados relativos a um dia específico (neste caso 25 Setembro)\n",
    "dia25 = df2014_2019[df2014_2019['time'] == '2019-09-25 12:00:00']\n",
    "dia25"
   ]
  },
  {
   "cell_type": "code",
   "execution_count": 10,
   "id": "2ee4eb9f",
   "metadata": {},
   "outputs": [
    {
     "data": {
      "text/html": [
       "<div>\n",
       "<style scoped>\n",
       "    .dataframe tbody tr th:only-of-type {\n",
       "        vertical-align: middle;\n",
       "    }\n",
       "\n",
       "    .dataframe tbody tr th {\n",
       "        vertical-align: top;\n",
       "    }\n",
       "\n",
       "    .dataframe thead th {\n",
       "        text-align: right;\n",
       "    }\n",
       "</style>\n",
       "<table border=\"1\" class=\"dataframe\">\n",
       "  <thead>\n",
       "    <tr style=\"text-align: right;\">\n",
       "      <th></th>\n",
       "      <th>time</th>\n",
       "      <th>latitude</th>\n",
       "      <th>longitude</th>\n",
       "      <th>thetao</th>\n",
       "    </tr>\n",
       "  </thead>\n",
       "  <tbody>\n",
       "    <tr>\n",
       "      <th>2094</th>\n",
       "      <td>2019-09-26 12:00:00</td>\n",
       "      <td>35.0</td>\n",
       "      <td>-19.000000</td>\n",
       "      <td>22.477001</td>\n",
       "    </tr>\n",
       "    <tr>\n",
       "      <th>4278</th>\n",
       "      <td>2019-09-26 12:00:00</td>\n",
       "      <td>35.0</td>\n",
       "      <td>-18.916666</td>\n",
       "      <td>22.535000</td>\n",
       "    </tr>\n",
       "    <tr>\n",
       "      <th>6462</th>\n",
       "      <td>2019-09-26 12:00:00</td>\n",
       "      <td>35.0</td>\n",
       "      <td>-18.833334</td>\n",
       "      <td>22.711000</td>\n",
       "    </tr>\n",
       "    <tr>\n",
       "      <th>8646</th>\n",
       "      <td>2019-09-26 12:00:00</td>\n",
       "      <td>35.0</td>\n",
       "      <td>-18.750000</td>\n",
       "      <td>22.859001</td>\n",
       "    </tr>\n",
       "    <tr>\n",
       "      <th>10830</th>\n",
       "      <td>2019-09-26 12:00:00</td>\n",
       "      <td>35.0</td>\n",
       "      <td>-18.666666</td>\n",
       "      <td>22.924999</td>\n",
       "    </tr>\n",
       "    <tr>\n",
       "      <th>...</th>\n",
       "      <td>...</td>\n",
       "      <td>...</td>\n",
       "      <td>...</td>\n",
       "      <td>...</td>\n",
       "    </tr>\n",
       "    <tr>\n",
       "      <th>44651790</th>\n",
       "      <td>2019-09-26 12:00:00</td>\n",
       "      <td>45.0</td>\n",
       "      <td>-5.333334</td>\n",
       "      <td>18.885000</td>\n",
       "    </tr>\n",
       "    <tr>\n",
       "      <th>44653974</th>\n",
       "      <td>2019-09-26 12:00:00</td>\n",
       "      <td>45.0</td>\n",
       "      <td>-5.250000</td>\n",
       "      <td>18.834999</td>\n",
       "    </tr>\n",
       "    <tr>\n",
       "      <th>44656158</th>\n",
       "      <td>2019-09-26 12:00:00</td>\n",
       "      <td>45.0</td>\n",
       "      <td>-5.166667</td>\n",
       "      <td>18.810001</td>\n",
       "    </tr>\n",
       "    <tr>\n",
       "      <th>44658342</th>\n",
       "      <td>2019-09-26 12:00:00</td>\n",
       "      <td>45.0</td>\n",
       "      <td>-5.083334</td>\n",
       "      <td>18.831001</td>\n",
       "    </tr>\n",
       "    <tr>\n",
       "      <th>44660526</th>\n",
       "      <td>2019-09-26 12:00:00</td>\n",
       "      <td>45.0</td>\n",
       "      <td>-5.000000</td>\n",
       "      <td>18.901001</td>\n",
       "    </tr>\n",
       "  </tbody>\n",
       "</table>\n",
       "<p>20449 rows × 4 columns</p>\n",
       "</div>"
      ],
      "text/plain": [
       "                        time  latitude  longitude     thetao\n",
       "2094     2019-09-26 12:00:00      35.0 -19.000000  22.477001\n",
       "4278     2019-09-26 12:00:00      35.0 -18.916666  22.535000\n",
       "6462     2019-09-26 12:00:00      35.0 -18.833334  22.711000\n",
       "8646     2019-09-26 12:00:00      35.0 -18.750000  22.859001\n",
       "10830    2019-09-26 12:00:00      35.0 -18.666666  22.924999\n",
       "...                      ...       ...        ...        ...\n",
       "44651790 2019-09-26 12:00:00      45.0  -5.333334  18.885000\n",
       "44653974 2019-09-26 12:00:00      45.0  -5.250000  18.834999\n",
       "44656158 2019-09-26 12:00:00      45.0  -5.166667  18.810001\n",
       "44658342 2019-09-26 12:00:00      45.0  -5.083334  18.831001\n",
       "44660526 2019-09-26 12:00:00      45.0  -5.000000  18.901001\n",
       "\n",
       "[20449 rows x 4 columns]"
      ]
     },
     "execution_count": 10,
     "metadata": {},
     "output_type": "execute_result"
    }
   ],
   "source": [
    "#Df com dados relativos a um dia específico (neste caso 25 Setembro)\n",
    "dia26 = df2014_2019[df2014_2019['time'] == '2019-09-26 12:00:00']\n",
    "dia26"
   ]
  },
  {
   "cell_type": "code",
   "execution_count": 11,
   "id": "57860cbd",
   "metadata": {},
   "outputs": [],
   "source": [
    "def canny_creation(df, Tmax):\n",
    "    \n",
    "    \"\"\"\n",
    "    Função que pega numa df com temperaturas relativas a um certo dia e retorna a matriz obtida através do Canny\n",
    "    \"\"\"\n",
    "    \n",
    "    #Pegar na df dum dia e converte-la num np array com os valores de Temperatura para os valores de long e lati\n",
    "    Temp = df.pivot_table(index='longitude', columns='latitude', values='thetao').T.values\n",
    "    \n",
    "    #Converter os valores de temperatura no formato uint8 com valores entre 0-255\n",
    "    Temp_day = ((Temp - np.nanmin(Temp)) * (1/(np.nanmax(Temp) - np.nanmin(Temp)) * 255)).astype('uint8')\n",
    "\n",
    "    Temp_day = np.flipud(Temp_day)   #flipud -> Reverse the order of elements along axis 0 (up/down).\n",
    "    \n",
    "    #apply the canny algorithm and plot the image with the edges\n",
    "    canny = cv2.Canny(Temp_day, Tmax/2, Tmax, L2gradient=False, apertureSize=3)\n",
    "    \n",
    "    mask = np.isnan(np.flipud(Temp))    #Boolean array é True onde o array original (Temp) tinha valores Nan\n",
    "    mask255 =np.where(mask,(np.ones(mask.shape))*255,0).astype(\"uint8\")   #array cujos pixels= 255 quando mask=True\n",
    "    #Fazer uma dilatação para assegurar que os pixeis que pertencem à costa não são considerados como frentes no canny\n",
    "    kernel = np.ones((3,3), np.uint8)\n",
    "    mask_dilated = cv2.dilate(mask255, kernel)\n",
    "    canny =np.ma.masked_where(mask_dilated==255, canny)\n",
    "    \n",
    "    return canny"
   ]
  },
  {
   "cell_type": "code",
   "execution_count": null,
   "id": "de29db11",
   "metadata": {},
   "outputs": [],
   "source": []
  },
  {
   "cell_type": "code",
   "execution_count": 12,
   "id": "f563a345",
   "metadata": {},
   "outputs": [],
   "source": [
    "Tmax=180\n",
    "#Pegar na df dum dia e converte-la num np array com os valores de Temperatura para os valores de long e lati\n",
    "Temp = dia25.pivot_table(index='longitude', columns='latitude', values='thetao').T.values\n",
    "    \n",
    "#Converter os valores de temperatura no formato uint8 com valores entre 0-255\n",
    "Temp_day = ((Temp - np.nanmin(Temp)) * (1/(np.nanmax(Temp) - np.nanmin(Temp)) * 255)).astype('uint8')\n",
    "\n",
    "Temp_day = np.flipud(Temp_day)   #flipud -> Reverse the order of elements along axis 0 (up/down).\n",
    "    \n",
    "#apply the canny algorithm and plot the image with the edges\n",
    "canny = cv2.Canny(Temp_day, Tmax/2, Tmax, L2gradient=False, apertureSize=7)\n",
    "    \n",
    "mask = np.isnan(np.flipud(Temp))    #Boolean array é True onde o array original (Temp) tinha valores Nan\n",
    "mask255 =np.where(mask,(np.ones(mask.shape))*255,0).astype(\"uint8\")   #array cujos pixels= 255 quando mask=True\n",
    "#Fazer uma dilatação para assegurar que os pixeis que pertencem à costa não são considerados como frentes no canny\n",
    "kernel = np.ones((3,3), np.uint8)\n",
    "mask_dilated = cv2.dilate(mask255, kernel)\n",
    "canny =np.ma.masked_where(mask_dilated==255, canny)\n",
    "    "
   ]
  },
  {
   "cell_type": "code",
   "execution_count": null,
   "id": "dd258345",
   "metadata": {},
   "outputs": [],
   "source": []
  },
  {
   "cell_type": "code",
   "execution_count": null,
   "id": "0b63b750",
   "metadata": {},
   "outputs": [],
   "source": []
  },
  {
   "cell_type": "code",
   "execution_count": 13,
   "id": "f990c1ea",
   "metadata": {},
   "outputs": [
    {
     "data": {
      "text/plain": [
       "masked_array(\n",
       "  data=[[0, 0, 0, ..., 0, 0, 0],\n",
       "        [0, 0, 0, ..., 0, 0, 0],\n",
       "        [0, 0, 0, ..., 0, 0, 0],\n",
       "        ...,\n",
       "        [0, 0, 0, ..., --, --, --],\n",
       "        [0, 0, 0, ..., --, --, --],\n",
       "        [0, 0, 0, ..., --, --, --]],\n",
       "  mask=[[False, False, False, ..., False, False, False],\n",
       "        [False, False, False, ..., False, False, False],\n",
       "        [False, False, False, ..., False, False, False],\n",
       "        ...,\n",
       "        [False, False, False, ...,  True,  True,  True],\n",
       "        [False, False, False, ...,  True,  True,  True],\n",
       "        [False, False, False, ...,  True,  True,  True]],\n",
       "  fill_value=999999,\n",
       "  dtype=uint8)"
      ]
     },
     "execution_count": 13,
     "metadata": {},
     "output_type": "execute_result"
    }
   ],
   "source": [
    "canny_25 = canny_creation(dia25, 180)\n",
    "canny_25"
   ]
  },
  {
   "cell_type": "code",
   "execution_count": 14,
   "id": "f2afa8a4",
   "metadata": {},
   "outputs": [
    {
     "data": {
      "text/plain": [
       "(121, 169)"
      ]
     },
     "execution_count": 14,
     "metadata": {},
     "output_type": "execute_result"
    }
   ],
   "source": [
    "canny_26 = canny_creation(dia26, 180)\n",
    "canny_26.shape"
   ]
  },
  {
   "cell_type": "code",
   "execution_count": null,
   "id": "81ef5f0b",
   "metadata": {},
   "outputs": [],
   "source": []
  },
  {
   "cell_type": "code",
   "execution_count": null,
   "id": "438252d6",
   "metadata": {},
   "outputs": [],
   "source": []
  },
  {
   "cell_type": "code",
   "execution_count": 15,
   "id": "b2b40892",
   "metadata": {},
   "outputs": [
    {
     "data": {
      "text/plain": [
       "(40.0, 80.0)"
      ]
     },
     "execution_count": 15,
     "metadata": {},
     "output_type": "execute_result"
    },
    {
     "data": {
      "image/png": "[encoded data removed]",
      "text/plain": [
       "<Figure size 432x288 with 2 Axes>"
      ]
     },
     "metadata": {
      "needs_background": "light"
     },
     "output_type": "display_data"
    }
   ],
   "source": [
    "# Para analisar resolução\n",
    "plt.subplot(1,2,1)\n",
    "\n",
    "plt.imshow(canny_26, 'gray')\n",
    "plt.xlim([100, 140])\n",
    "plt.ylim([40, 80])\n",
    "\n",
    "plt.subplot(1,2,2)\n",
    "\n",
    "plt.imshow(np.flipud(dia26.pivot_table(index='longitude', columns='latitude', values='thetao').T.values))\n",
    "plt.xlim([100, 140])\n",
    "plt.ylim([40, 80])"
   ]
  },
  {
   "cell_type": "code",
   "execution_count": null,
   "id": "2d131de2",
   "metadata": {},
   "outputs": [],
   "source": []
  },
  {
   "cell_type": "code",
   "execution_count": null,
   "id": "1d7233d3",
   "metadata": {},
   "outputs": [],
   "source": []
  },
  {
   "cell_type": "code",
   "execution_count": null,
   "id": "e1d08f48",
   "metadata": {},
   "outputs": [],
   "source": []
  },
  {
   "cell_type": "markdown",
   "id": "4d2075bc",
   "metadata": {},
   "source": [
    "### Código para Dividir a dataframe consoante a data\n",
    "\n",
    "A base de dados sera dividida conforme o dia e depois será aplicada a função canny_creation sobre os dias que se quiser de forma a criar mapas de frontal probability para diferentes epocas do ano"
   ]
  },
  {
   "cell_type": "code",
   "execution_count": 16,
   "id": "56e1d251",
   "metadata": {},
   "outputs": [
    {
     "data": {
      "text/html": [
       "<div>\n",
       "<style scoped>\n",
       "    .dataframe tbody tr th:only-of-type {\n",
       "        vertical-align: middle;\n",
       "    }\n",
       "\n",
       "    .dataframe tbody tr th {\n",
       "        vertical-align: top;\n",
       "    }\n",
       "\n",
       "    .dataframe thead th {\n",
       "        text-align: right;\n",
       "    }\n",
       "</style>\n",
       "<table border=\"1\" class=\"dataframe\">\n",
       "  <thead>\n",
       "    <tr style=\"text-align: right;\">\n",
       "      <th></th>\n",
       "      <th>time</th>\n",
       "      <th>latitude</th>\n",
       "      <th>longitude</th>\n",
       "      <th>thetao</th>\n",
       "    </tr>\n",
       "  </thead>\n",
       "  <tbody>\n",
       "    <tr>\n",
       "      <th>0</th>\n",
       "      <td>2014-01-01 12:00:00</td>\n",
       "      <td>35.0</td>\n",
       "      <td>-19.0</td>\n",
       "      <td>18.316000</td>\n",
       "    </tr>\n",
       "    <tr>\n",
       "      <th>1</th>\n",
       "      <td>2014-01-02 12:00:00</td>\n",
       "      <td>35.0</td>\n",
       "      <td>-19.0</td>\n",
       "      <td>18.309000</td>\n",
       "    </tr>\n",
       "    <tr>\n",
       "      <th>2</th>\n",
       "      <td>2014-01-03 12:00:00</td>\n",
       "      <td>35.0</td>\n",
       "      <td>-19.0</td>\n",
       "      <td>18.316000</td>\n",
       "    </tr>\n",
       "    <tr>\n",
       "      <th>3</th>\n",
       "      <td>2014-01-04 12:00:00</td>\n",
       "      <td>35.0</td>\n",
       "      <td>-19.0</td>\n",
       "      <td>18.273001</td>\n",
       "    </tr>\n",
       "    <tr>\n",
       "      <th>4</th>\n",
       "      <td>2014-01-05 12:00:00</td>\n",
       "      <td>35.0</td>\n",
       "      <td>-19.0</td>\n",
       "      <td>18.230000</td>\n",
       "    </tr>\n",
       "    <tr>\n",
       "      <th>...</th>\n",
       "      <td>...</td>\n",
       "      <td>...</td>\n",
       "      <td>...</td>\n",
       "      <td>...</td>\n",
       "    </tr>\n",
       "    <tr>\n",
       "      <th>44660611</th>\n",
       "      <td>2019-12-20 12:00:00</td>\n",
       "      <td>45.0</td>\n",
       "      <td>-5.0</td>\n",
       "      <td>13.619000</td>\n",
       "    </tr>\n",
       "    <tr>\n",
       "      <th>44660612</th>\n",
       "      <td>2019-12-21 12:00:00</td>\n",
       "      <td>45.0</td>\n",
       "      <td>-5.0</td>\n",
       "      <td>13.559000</td>\n",
       "    </tr>\n",
       "    <tr>\n",
       "      <th>44660613</th>\n",
       "      <td>2019-12-22 12:00:00</td>\n",
       "      <td>45.0</td>\n",
       "      <td>-5.0</td>\n",
       "      <td>13.458000</td>\n",
       "    </tr>\n",
       "    <tr>\n",
       "      <th>44660614</th>\n",
       "      <td>2019-12-23 12:00:00</td>\n",
       "      <td>45.0</td>\n",
       "      <td>-5.0</td>\n",
       "      <td>13.400000</td>\n",
       "    </tr>\n",
       "    <tr>\n",
       "      <th>44660615</th>\n",
       "      <td>2019-12-24 12:00:00</td>\n",
       "      <td>45.0</td>\n",
       "      <td>-5.0</td>\n",
       "      <td>13.390000</td>\n",
       "    </tr>\n",
       "  </tbody>\n",
       "</table>\n",
       "<p>44660616 rows × 4 columns</p>\n",
       "</div>"
      ],
      "text/plain": [
       "                        time  latitude  longitude     thetao\n",
       "0        2014-01-01 12:00:00      35.0      -19.0  18.316000\n",
       "1        2014-01-02 12:00:00      35.0      -19.0  18.309000\n",
       "2        2014-01-03 12:00:00      35.0      -19.0  18.316000\n",
       "3        2014-01-04 12:00:00      35.0      -19.0  18.273001\n",
       "4        2014-01-05 12:00:00      35.0      -19.0  18.230000\n",
       "...                      ...       ...        ...        ...\n",
       "44660611 2019-12-20 12:00:00      45.0       -5.0  13.619000\n",
       "44660612 2019-12-21 12:00:00      45.0       -5.0  13.559000\n",
       "44660613 2019-12-22 12:00:00      45.0       -5.0  13.458000\n",
       "44660614 2019-12-23 12:00:00      45.0       -5.0  13.400000\n",
       "44660615 2019-12-24 12:00:00      45.0       -5.0  13.390000\n",
       "\n",
       "[44660616 rows x 4 columns]"
      ]
     },
     "execution_count": 16,
     "metadata": {},
     "output_type": "execute_result"
    }
   ],
   "source": [
    "df2014_2019    #dataframe com os dados desde 2014 a 2019"
   ]
  },
  {
   "cell_type": "code",
   "execution_count": null,
   "id": "5a34166e",
   "metadata": {},
   "outputs": [],
   "source": []
  },
  {
   "cell_type": "code",
   "execution_count": 17,
   "id": "90f01adc",
   "metadata": {},
   "outputs": [],
   "source": [
    "dataf2014_2019 = df2014_2019.copy()"
   ]
  },
  {
   "cell_type": "code",
   "execution_count": 18,
   "id": "96d8ff0f",
   "metadata": {},
   "outputs": [],
   "source": [
    "specificday = [pd.Timestamp(dd).strftime(\"%Y-%m-%d %H:%M:%S\") for dd in dataf2014_2019['time'].unique()]"
   ]
  },
  {
   "cell_type": "code",
   "execution_count": 19,
   "id": "26f9573e",
   "metadata": {},
   "outputs": [],
   "source": [
    "specificday = np.array(specificday, dtype=np.object)"
   ]
  },
  {
   "cell_type": "code",
   "execution_count": 20,
   "id": "b234122e",
   "metadata": {},
   "outputs": [
    {
     "data": {
      "text/plain": [
       "array(['2014-01-01 12:00:00', '2014-01-02 12:00:00',\n",
       "       '2014-01-03 12:00:00', ..., '2019-12-22 12:00:00',\n",
       "       '2019-12-23 12:00:00', '2019-12-24 12:00:00'], dtype=object)"
      ]
     },
     "execution_count": 20,
     "metadata": {},
     "output_type": "execute_result"
    }
   ],
   "source": [
    "specificday      #specificday é um array com todos os dias diferentes da dataframe dataf2017_2019"
   ]
  },
  {
   "cell_type": "code",
   "execution_count": null,
   "id": "cf07ffb9",
   "metadata": {},
   "outputs": [],
   "source": []
  },
  {
   "cell_type": "code",
   "execution_count": 21,
   "id": "6f2835b3",
   "metadata": {},
   "outputs": [],
   "source": [
    "#create a data frame dictionary to store your data frames\n",
    "df = {elem : pd.DataFrame for elem in specificday}\n",
    "\n",
    "for key in df.keys():\n",
    "    df[key] = dataf2014_2019[:][dataf2014_2019['time'] == key]"
   ]
  },
  {
   "cell_type": "code",
   "execution_count": null,
   "id": "f4371ee7",
   "metadata": {},
   "outputs": [],
   "source": []
  },
  {
   "cell_type": "code",
   "execution_count": 23,
   "id": "e62b9f55",
   "metadata": {},
   "outputs": [
    {
     "data": {
      "text/plain": [
       "array(['2014-07-01 12:00:00', '2014-07-02 12:00:00',\n",
       "       '2014-07-03 12:00:00', '2014-07-04 12:00:00',\n",
       "       '2014-07-05 12:00:00', '2014-07-06 12:00:00',\n",
       "       '2014-07-07 12:00:00', '2014-07-08 12:00:00',\n",
       "       '2014-07-09 12:00:00', '2014-07-10 12:00:00',\n",
       "       '2014-07-11 12:00:00', '2014-07-12 12:00:00',\n",
       "       '2014-07-13 12:00:00', '2014-07-14 12:00:00',\n",
       "       '2014-07-15 12:00:00', '2014-07-16 12:00:00',\n",
       "       '2014-07-17 12:00:00', '2014-07-18 12:00:00',\n",
       "       '2014-07-19 12:00:00', '2014-07-20 12:00:00',\n",
       "       '2014-07-21 12:00:00', '2014-07-22 12:00:00',\n",
       "       '2014-07-23 12:00:00', '2014-07-24 12:00:00',\n",
       "       '2014-07-25 12:00:00', '2014-07-26 12:00:00',\n",
       "       '2014-07-27 12:00:00', '2014-07-28 12:00:00',\n",
       "       '2014-07-29 12:00:00', '2014-07-30 12:00:00',\n",
       "       '2014-07-31 12:00:00', '2014-08-01 12:00:00',\n",
       "       '2014-08-02 12:00:00', '2014-08-03 12:00:00',\n",
       "       '2014-08-04 12:00:00', '2014-08-05 12:00:00',\n",
       "       '2014-08-06 12:00:00', '2014-08-07 12:00:00',\n",
       "       '2014-08-08 12:00:00', '2014-08-09 12:00:00',\n",
       "       '2014-08-10 12:00:00', '2014-08-11 12:00:00',\n",
       "       '2014-08-12 12:00:00', '2014-08-13 12:00:00',\n",
       "       '2014-08-14 12:00:00', '2014-08-15 12:00:00',\n",
       "       '2014-08-16 12:00:00', '2014-08-17 12:00:00',\n",
       "       '2014-08-18 12:00:00', '2014-08-19 12:00:00',\n",
       "       '2014-08-20 12:00:00', '2014-08-21 12:00:00',\n",
       "       '2014-08-22 12:00:00', '2014-08-23 12:00:00',\n",
       "       '2014-08-24 12:00:00', '2014-08-25 12:00:00',\n",
       "       '2014-08-26 12:00:00', '2014-08-27 12:00:00',\n",
       "       '2014-08-28 12:00:00', '2014-08-29 12:00:00',\n",
       "       '2014-08-30 12:00:00', '2014-08-31 12:00:00',\n",
       "       '2014-09-01 12:00:00', '2014-09-02 12:00:00',\n",
       "       '2014-09-03 12:00:00', '2014-09-04 12:00:00',\n",
       "       '2014-09-05 12:00:00', '2014-09-06 12:00:00',\n",
       "       '2014-09-07 12:00:00', '2014-09-08 12:00:00',\n",
       "       '2014-09-09 12:00:00', '2014-09-10 12:00:00',\n",
       "       '2014-09-11 12:00:00', '2014-09-12 12:00:00',\n",
       "       '2014-09-13 12:00:00', '2014-09-14 12:00:00',\n",
       "       '2014-09-15 12:00:00', '2014-09-16 12:00:00',\n",
       "       '2014-09-17 12:00:00', '2014-09-18 12:00:00',\n",
       "       '2014-09-19 12:00:00', '2014-09-20 12:00:00',\n",
       "       '2014-09-21 12:00:00', '2014-09-22 12:00:00',\n",
       "       '2014-09-23 12:00:00', '2014-09-24 12:00:00',\n",
       "       '2014-09-25 12:00:00', '2014-09-26 12:00:00',\n",
       "       '2014-09-27 12:00:00', '2014-09-28 12:00:00',\n",
       "       '2014-09-29 12:00:00', '2014-09-30 12:00:00',\n",
       "       '2015-07-01 12:00:00', '2015-07-02 12:00:00',\n",
       "       '2015-07-03 12:00:00', '2015-07-04 12:00:00',\n",
       "       '2015-07-05 12:00:00', '2015-07-06 12:00:00',\n",
       "       '2015-07-07 12:00:00', '2015-07-08 12:00:00',\n",
       "       '2015-07-09 12:00:00', '2015-07-10 12:00:00',\n",
       "       '2015-07-11 12:00:00', '2015-07-12 12:00:00',\n",
       "       '2015-07-13 12:00:00', '2015-07-14 12:00:00',\n",
       "       '2015-07-15 12:00:00', '2015-07-16 12:00:00',\n",
       "       '2015-07-17 12:00:00', '2015-07-18 12:00:00',\n",
       "       '2015-07-19 12:00:00', '2015-07-20 12:00:00',\n",
       "       '2015-07-21 12:00:00', '2015-07-22 12:00:00',\n",
       "       '2015-07-23 12:00:00', '2015-07-24 12:00:00',\n",
       "       '2015-07-25 12:00:00', '2015-07-26 12:00:00',\n",
       "       '2015-07-27 12:00:00', '2015-07-28 12:00:00',\n",
       "       '2015-07-29 12:00:00', '2015-07-30 12:00:00',\n",
       "       '2015-07-31 12:00:00', '2015-08-01 12:00:00',\n",
       "       '2015-08-02 12:00:00', '2015-08-03 12:00:00',\n",
       "       '2015-08-04 12:00:00', '2015-08-05 12:00:00',\n",
       "       '2015-08-06 12:00:00', '2015-08-07 12:00:00',\n",
       "       '2015-08-08 12:00:00', '2015-08-09 12:00:00',\n",
       "       '2015-08-10 12:00:00', '2015-08-11 12:00:00',\n",
       "       '2015-08-12 12:00:00', '2015-08-13 12:00:00',\n",
       "       '2015-08-14 12:00:00', '2015-08-15 12:00:00',\n",
       "       '2015-08-16 12:00:00', '2015-08-17 12:00:00',\n",
       "       '2015-08-18 12:00:00', '2015-08-19 12:00:00',\n",
       "       '2015-08-20 12:00:00', '2015-08-21 12:00:00',\n",
       "       '2015-08-22 12:00:00', '2015-08-23 12:00:00',\n",
       "       '2015-08-24 12:00:00', '2015-08-25 12:00:00',\n",
       "       '2015-08-26 12:00:00', '2015-08-27 12:00:00',\n",
       "       '2015-08-28 12:00:00', '2015-08-29 12:00:00',\n",
       "       '2015-08-30 12:00:00', '2015-08-31 12:00:00',\n",
       "       '2015-09-01 12:00:00', '2015-09-02 12:00:00',\n",
       "       '2015-09-03 12:00:00', '2015-09-04 12:00:00',\n",
       "       '2015-09-05 12:00:00', '2015-09-06 12:00:00',\n",
       "       '2015-09-07 12:00:00', '2015-09-08 12:00:00',\n",
       "       '2015-09-09 12:00:00', '2015-09-10 12:00:00',\n",
       "       '2015-09-11 12:00:00', '2015-09-12 12:00:00',\n",
       "       '2015-09-13 12:00:00', '2015-09-14 12:00:00',\n",
       "       '2015-09-15 12:00:00', '2015-09-16 12:00:00',\n",
       "       '2015-09-17 12:00:00', '2015-09-18 12:00:00',\n",
       "       '2015-09-19 12:00:00', '2015-09-20 12:00:00',\n",
       "       '2015-09-21 12:00:00', '2015-09-22 12:00:00',\n",
       "       '2015-09-23 12:00:00', '2015-09-24 12:00:00',\n",
       "       '2015-09-25 12:00:00', '2015-09-26 12:00:00',\n",
       "       '2015-09-27 12:00:00', '2015-09-28 12:00:00',\n",
       "       '2015-09-29 12:00:00', '2015-09-30 12:00:00',\n",
       "       '2016-07-01 12:00:00', '2016-07-02 12:00:00',\n",
       "       '2016-07-03 12:00:00', '2016-07-04 12:00:00',\n",
       "       '2016-07-05 12:00:00', '2016-07-06 12:00:00',\n",
       "       '2016-07-07 12:00:00', '2016-07-08 12:00:00',\n",
       "       '2016-07-09 12:00:00', '2016-07-10 12:00:00',\n",
       "       '2016-07-11 12:00:00', '2016-07-12 12:00:00',\n",
       "       '2016-07-13 12:00:00', '2016-07-14 12:00:00',\n",
       "       '2016-07-15 12:00:00', '2016-07-16 12:00:00',\n",
       "       '2016-07-17 12:00:00', '2016-07-18 12:00:00',\n",
       "       '2016-07-19 12:00:00', '2016-07-20 12:00:00',\n",
       "       '2016-07-21 12:00:00', '2016-07-22 12:00:00',\n",
       "       '2016-07-23 12:00:00', '2016-07-24 12:00:00',\n",
       "       '2016-07-25 12:00:00', '2016-07-26 12:00:00',\n",
       "       '2016-07-27 12:00:00', '2016-07-28 12:00:00',\n",
       "       '2016-07-29 12:00:00', '2016-07-30 12:00:00',\n",
       "       '2016-07-31 12:00:00', '2016-08-01 12:00:00',\n",
       "       '2016-08-02 12:00:00', '2016-08-03 12:00:00',\n",
       "       '2016-08-04 12:00:00', '2016-08-05 12:00:00',\n",
       "       '2016-08-06 12:00:00', '2016-08-07 12:00:00',\n",
       "       '2016-08-08 12:00:00', '2016-08-09 12:00:00',\n",
       "       '2016-08-10 12:00:00', '2016-08-11 12:00:00',\n",
       "       '2016-08-12 12:00:00', '2016-08-13 12:00:00',\n",
       "       '2016-08-14 12:00:00', '2016-08-15 12:00:00',\n",
       "       '2016-08-16 12:00:00', '2016-08-17 12:00:00',\n",
       "       '2016-08-18 12:00:00', '2016-08-19 12:00:00',\n",
       "       '2016-08-20 12:00:00', '2016-08-21 12:00:00',\n",
       "       '2016-08-22 12:00:00', '2016-08-23 12:00:00',\n",
       "       '2016-08-24 12:00:00', '2016-08-25 12:00:00',\n",
       "       '2016-08-26 12:00:00', '2016-08-27 12:00:00',\n",
       "       '2016-08-28 12:00:00', '2016-08-29 12:00:00',\n",
       "       '2016-08-30 12:00:00', '2016-08-31 12:00:00',\n",
       "       '2016-09-01 12:00:00', '2016-09-02 12:00:00',\n",
       "       '2016-09-03 12:00:00', '2016-09-04 12:00:00',\n",
       "       '2016-09-05 12:00:00', '2016-09-06 12:00:00',\n",
       "       '2016-09-07 12:00:00', '2016-09-08 12:00:00',\n",
       "       '2016-09-09 12:00:00', '2016-09-10 12:00:00',\n",
       "       '2016-09-11 12:00:00', '2016-09-12 12:00:00',\n",
       "       '2016-09-13 12:00:00', '2016-09-14 12:00:00',\n",
       "       '2016-09-15 12:00:00', '2016-09-16 12:00:00',\n",
       "       '2016-09-17 12:00:00', '2016-09-18 12:00:00',\n",
       "       '2016-09-19 12:00:00', '2016-09-20 12:00:00',\n",
       "       '2016-09-21 12:00:00', '2016-09-22 12:00:00',\n",
       "       '2016-09-23 12:00:00', '2016-09-24 12:00:00',\n",
       "       '2016-09-25 12:00:00', '2016-09-26 12:00:00',\n",
       "       '2016-09-27 12:00:00', '2016-09-28 12:00:00',\n",
       "       '2016-09-29 12:00:00', '2016-09-30 12:00:00',\n",
       "       '2017-07-01 12:00:00', '2017-07-02 12:00:00',\n",
       "       '2017-07-03 12:00:00', '2017-07-04 12:00:00',\n",
       "       '2017-07-05 12:00:00', '2017-07-06 12:00:00',\n",
       "       '2017-07-07 12:00:00', '2017-07-08 12:00:00',\n",
       "       '2017-07-09 12:00:00', '2017-07-10 12:00:00',\n",
       "       '2017-07-11 12:00:00', '2017-07-12 12:00:00',\n",
       "       '2017-07-13 12:00:00', '2017-07-14 12:00:00',\n",
       "       '2017-07-15 12:00:00', '2017-07-16 12:00:00',\n",
       "       '2017-07-17 12:00:00', '2017-07-18 12:00:00',\n",
       "       '2017-07-19 12:00:00', '2017-07-20 12:00:00',\n",
       "       '2017-07-21 12:00:00', '2017-07-22 12:00:00',\n",
       "       '2017-07-23 12:00:00', '2017-07-24 12:00:00',\n",
       "       '2017-07-25 12:00:00', '2017-07-26 12:00:00',\n",
       "       '2017-07-27 12:00:00', '2017-07-28 12:00:00',\n",
       "       '2017-07-29 12:00:00', '2017-07-30 12:00:00',\n",
       "       '2017-07-31 12:00:00', '2017-08-01 12:00:00',\n",
       "       '2017-08-02 12:00:00', '2017-08-03 12:00:00',\n",
       "       '2017-08-04 12:00:00', '2017-08-05 12:00:00',\n",
       "       '2017-08-06 12:00:00', '2017-08-07 12:00:00',\n",
       "       '2017-08-08 12:00:00', '2017-08-09 12:00:00',\n",
       "       '2017-08-10 12:00:00', '2017-08-11 12:00:00',\n",
       "       '2017-08-12 12:00:00', '2017-08-13 12:00:00',\n",
       "       '2017-08-14 12:00:00', '2017-08-15 12:00:00',\n",
       "       '2017-08-16 12:00:00', '2017-08-17 12:00:00',\n",
       "       '2017-08-18 12:00:00', '2017-08-19 12:00:00',\n",
       "       '2017-08-20 12:00:00', '2017-08-21 12:00:00',\n",
       "       '2017-08-22 12:00:00', '2017-08-23 12:00:00',\n",
       "       '2017-08-24 12:00:00', '2017-08-25 12:00:00',\n",
       "       '2017-08-26 12:00:00', '2017-08-27 12:00:00',\n",
       "       '2017-08-28 12:00:00', '2017-08-29 12:00:00',\n",
       "       '2017-08-30 12:00:00', '2017-08-31 12:00:00',\n",
       "       '2017-09-01 12:00:00', '2017-09-02 12:00:00',\n",
       "       '2017-09-03 12:00:00', '2017-09-04 12:00:00',\n",
       "       '2017-09-05 12:00:00', '2017-09-06 12:00:00',\n",
       "       '2017-09-07 12:00:00', '2017-09-08 12:00:00',\n",
       "       '2017-09-09 12:00:00', '2017-09-10 12:00:00',\n",
       "       '2017-09-11 12:00:00', '2017-09-12 12:00:00',\n",
       "       '2017-09-13 12:00:00', '2017-09-14 12:00:00',\n",
       "       '2017-09-15 12:00:00', '2017-09-16 12:00:00',\n",
       "       '2017-09-17 12:00:00', '2017-09-18 12:00:00',\n",
       "       '2017-09-19 12:00:00', '2017-09-20 12:00:00',\n",
       "       '2017-09-21 12:00:00', '2017-09-22 12:00:00',\n",
       "       '2017-09-23 12:00:00', '2017-09-24 12:00:00',\n",
       "       '2017-09-25 12:00:00', '2017-09-26 12:00:00',\n",
       "       '2017-09-27 12:00:00', '2017-09-28 12:00:00',\n",
       "       '2017-09-29 12:00:00', '2017-09-30 12:00:00',\n",
       "       '2018-07-01 12:00:00', '2018-07-02 12:00:00',\n",
       "       '2018-07-03 12:00:00', '2018-07-04 12:00:00',\n",
       "       '2018-07-05 12:00:00', '2018-07-06 12:00:00',\n",
       "       '2018-07-07 12:00:00', '2018-07-08 12:00:00',\n",
       "       '2018-07-09 12:00:00', '2018-07-10 12:00:00',\n",
       "       '2018-07-11 12:00:00', '2018-07-12 12:00:00',\n",
       "       '2018-07-13 12:00:00', '2018-07-14 12:00:00',\n",
       "       '2018-07-15 12:00:00', '2018-07-16 12:00:00',\n",
       "       '2018-07-17 12:00:00', '2018-07-18 12:00:00',\n",
       "       '2018-07-19 12:00:00', '2018-07-20 12:00:00',\n",
       "       '2018-07-21 12:00:00', '2018-07-22 12:00:00',\n",
       "       '2018-07-23 12:00:00', '2018-07-24 12:00:00',\n",
       "       '2018-07-25 12:00:00', '2018-07-26 12:00:00',\n",
       "       '2018-07-27 12:00:00', '2018-07-28 12:00:00',\n",
       "       '2018-07-29 12:00:00', '2018-07-30 12:00:00',\n",
       "       '2018-07-31 12:00:00', '2018-08-01 12:00:00',\n",
       "       '2018-08-02 12:00:00', '2018-08-03 12:00:00',\n",
       "       '2018-08-04 12:00:00', '2018-08-05 12:00:00',\n",
       "       '2018-08-06 12:00:00', '2018-08-07 12:00:00',\n",
       "       '2018-08-08 12:00:00', '2018-08-09 12:00:00',\n",
       "       '2018-08-10 12:00:00', '2018-08-11 12:00:00',\n",
       "       '2018-08-12 12:00:00', '2018-08-13 12:00:00',\n",
       "       '2018-08-14 12:00:00', '2018-08-15 12:00:00',\n",
       "       '2018-08-16 12:00:00', '2018-08-17 12:00:00',\n",
       "       '2018-08-18 12:00:00', '2018-08-19 12:00:00',\n",
       "       '2018-08-20 12:00:00', '2018-08-21 12:00:00',\n",
       "       '2018-08-22 12:00:00', '2018-08-23 12:00:00',\n",
       "       '2018-08-24 12:00:00', '2018-08-25 12:00:00',\n",
       "       '2018-08-26 12:00:00', '2018-08-27 12:00:00',\n",
       "       '2018-08-28 12:00:00', '2018-08-29 12:00:00',\n",
       "       '2018-08-30 12:00:00', '2018-08-31 12:00:00',\n",
       "       '2018-09-01 12:00:00', '2018-09-02 12:00:00',\n",
       "       '2018-09-03 12:00:00', '2018-09-04 12:00:00',\n",
       "       '2018-09-05 12:00:00', '2018-09-06 12:00:00',\n",
       "       '2018-09-07 12:00:00', '2018-09-08 12:00:00',\n",
       "       '2018-09-09 12:00:00', '2018-09-10 12:00:00',\n",
       "       '2018-09-11 12:00:00', '2018-09-12 12:00:00',\n",
       "       '2018-09-13 12:00:00', '2018-09-14 12:00:00',\n",
       "       '2018-09-15 12:00:00', '2018-09-16 12:00:00',\n",
       "       '2018-09-17 12:00:00', '2018-09-18 12:00:00',\n",
       "       '2018-09-19 12:00:00', '2018-09-20 12:00:00',\n",
       "       '2018-09-21 12:00:00', '2018-09-22 12:00:00',\n",
       "       '2018-09-23 12:00:00', '2018-09-24 12:00:00',\n",
       "       '2018-09-25 12:00:00', '2018-09-26 12:00:00',\n",
       "       '2018-09-27 12:00:00', '2018-09-28 12:00:00',\n",
       "       '2018-09-29 12:00:00', '2018-09-30 12:00:00',\n",
       "       '2019-07-01 12:00:00', '2019-07-02 12:00:00',\n",
       "       '2019-07-03 12:00:00', '2019-07-04 12:00:00',\n",
       "       '2019-07-05 12:00:00', '2019-07-06 12:00:00',\n",
       "       '2019-07-07 12:00:00', '2019-07-08 12:00:00',\n",
       "       '2019-07-09 12:00:00', '2019-07-10 12:00:00',\n",
       "       '2019-07-11 12:00:00', '2019-07-12 12:00:00',\n",
       "       '2019-07-13 12:00:00', '2019-07-14 12:00:00',\n",
       "       '2019-07-15 12:00:00', '2019-07-16 12:00:00',\n",
       "       '2019-07-17 12:00:00', '2019-07-18 12:00:00',\n",
       "       '2019-07-19 12:00:00', '2019-07-20 12:00:00',\n",
       "       '2019-07-21 12:00:00', '2019-07-22 12:00:00',\n",
       "       '2019-07-23 12:00:00', '2019-07-24 12:00:00',\n",
       "       '2019-07-25 12:00:00', '2019-07-26 12:00:00',\n",
       "       '2019-07-27 12:00:00', '2019-07-28 12:00:00',\n",
       "       '2019-07-29 12:00:00', '2019-07-30 12:00:00',\n",
       "       '2019-07-31 12:00:00', '2019-08-01 12:00:00',\n",
       "       '2019-08-02 12:00:00', '2019-08-03 12:00:00',\n",
       "       '2019-08-04 12:00:00', '2019-08-05 12:00:00',\n",
       "       '2019-08-06 12:00:00', '2019-08-07 12:00:00',\n",
       "       '2019-08-08 12:00:00', '2019-08-09 12:00:00',\n",
       "       '2019-08-10 12:00:00', '2019-08-11 12:00:00',\n",
       "       '2019-08-12 12:00:00', '2019-08-13 12:00:00',\n",
       "       '2019-08-14 12:00:00', '2019-08-15 12:00:00',\n",
       "       '2019-08-16 12:00:00', '2019-08-17 12:00:00',\n",
       "       '2019-08-18 12:00:00', '2019-08-19 12:00:00',\n",
       "       '2019-08-20 12:00:00', '2019-08-21 12:00:00',\n",
       "       '2019-08-22 12:00:00', '2019-08-23 12:00:00',\n",
       "       '2019-08-24 12:00:00', '2019-08-25 12:00:00',\n",
       "       '2019-08-26 12:00:00', '2019-08-27 12:00:00',\n",
       "       '2019-08-28 12:00:00', '2019-08-29 12:00:00',\n",
       "       '2019-08-30 12:00:00', '2019-08-31 12:00:00',\n",
       "       '2019-09-01 12:00:00', '2019-09-02 12:00:00',\n",
       "       '2019-09-03 12:00:00', '2019-09-04 12:00:00',\n",
       "       '2019-09-05 12:00:00', '2019-09-06 12:00:00',\n",
       "       '2019-09-07 12:00:00', '2019-09-08 12:00:00',\n",
       "       '2019-09-09 12:00:00', '2019-09-10 12:00:00',\n",
       "       '2019-09-11 12:00:00', '2019-09-12 12:00:00',\n",
       "       '2019-09-13 12:00:00', '2019-09-14 12:00:00',\n",
       "       '2019-09-15 12:00:00', '2019-09-16 12:00:00',\n",
       "       '2019-09-17 12:00:00', '2019-09-18 12:00:00',\n",
       "       '2019-09-19 12:00:00', '2019-09-20 12:00:00',\n",
       "       '2019-09-21 12:00:00', '2019-09-22 12:00:00',\n",
       "       '2019-09-23 12:00:00', '2019-09-24 12:00:00',\n",
       "       '2019-09-25 12:00:00', '2019-09-26 12:00:00',\n",
       "       '2019-09-27 12:00:00', '2019-09-28 12:00:00',\n",
       "       '2019-09-29 12:00:00', '2019-09-30 12:00:00'], dtype=object)"
      ]
     },
     "execution_count": 23,
     "metadata": {},
     "output_type": "execute_result"
    }
   ],
   "source": [
    "jas2014_2019 = specificday[(specificday>='2014-07-01 12:00:00') & (specificday <= '2014-09-30 12:00:00')+(specificday>='2015-07-01 12:00:00') & (specificday <= '2015-09-30 12:00:00') + (specificday>='2016-07-01 12:00:00') & (specificday <= '2016-09-30 12:00:00') + (specificday>='2017-07-01 12:00:00') & (specificday <= '2017-09-30 12:00:00') + (specificday>='2018-07-01 12:00:00') & (specificday <= '2018-09-30 12:00:00') + (specificday>='2019-07-01 12:00:00') & (specificday <= '2019-09-30 12:00:00')]\n",
    "jas2014_2019"
   ]
  },
  {
   "cell_type": "code",
   "execution_count": 24,
   "id": "9162f940",
   "metadata": {},
   "outputs": [
    {
     "data": {
      "text/plain": [
       "552"
      ]
     },
     "execution_count": 24,
     "metadata": {},
     "output_type": "execute_result"
    }
   ],
   "source": [
    "len(jas2014_2019)"
   ]
  },
  {
   "cell_type": "code",
   "execution_count": null,
   "id": "fda9f5b4",
   "metadata": {},
   "outputs": [],
   "source": []
  },
  {
   "cell_type": "code",
   "execution_count": 25,
   "id": "2ef6ff53",
   "metadata": {},
   "outputs": [],
   "source": [
    "#Crio um array canny com as dimensões (121, 169) apenas com zeros. \n",
    "#Depois para cada dia aplico a função canny_creation e somo esses valores ao array canny\n",
    "\n",
    "canny = np.zeros((121,169))\n",
    "for days in jas2014_2019:\n",
    "    canny = canny + canny_creation(df[days], 180)"
   ]
  },
  {
   "cell_type": "code",
   "execution_count": 26,
   "id": "75648934",
   "metadata": {},
   "outputs": [
    {
     "data": {
      "text/plain": [
       "62220.0"
      ]
     },
     "execution_count": 26,
     "metadata": {},
     "output_type": "execute_result"
    }
   ],
   "source": [
    "canny.max()"
   ]
  },
  {
   "cell_type": "code",
   "execution_count": 27,
   "id": "66acf264",
   "metadata": {},
   "outputs": [],
   "source": [
    "#queremos que os valores do canny correspondam à prob de ocorrência de frente em cada pixel para o periodo em questão\n",
    "canny = canny/(len(jas2014_2019)*255)*100"
   ]
  },
  {
   "cell_type": "code",
   "execution_count": 28,
   "id": "0ed017f1",
   "metadata": {},
   "outputs": [
    {
     "data": {
      "text/plain": [
       "44.20289855072464"
      ]
     },
     "execution_count": 28,
     "metadata": {},
     "output_type": "execute_result"
    }
   ],
   "source": [
    "canny.max()"
   ]
  },
  {
   "cell_type": "code",
   "execution_count": 85,
   "id": "75fa4889",
   "metadata": {},
   "outputs": [
    {
     "data": {
      "image/png": "[encoded data removed]",
      "text/plain": [
       "<Figure size 720x576 with 2 Axes>"
      ]
     },
     "metadata": {
      "needs_background": "light"
     },
     "output_type": "display_data"
    }
   ],
   "source": [
    "plt.rcParams[\"figure.figsize\"] = 10, 8\n",
    "img = plt.imshow(canny)\n",
    "plt.colorbar(img, orientation='horizontal', fraction=0.03, pad=0.08, aspect=50)\n",
    "plt.title(\"Average frontal probability for OND2017-2019\", fontsize=25)\n",
    "plt.show()"
   ]
  },
  {
   "cell_type": "code",
   "execution_count": 84,
   "id": "9b9be577",
   "metadata": {},
   "outputs": [
    {
     "data": {
      "image/png": "[encoded data removed]",
      "text/plain": [
       "<Figure size 720x576 with 1 Axes>"
      ]
     },
     "metadata": {
      "needs_background": "light"
     },
     "output_type": "display_data"
    }
   ],
   "source": [
    "plt.hist(canny.flatten(), bins=100);\n",
    "plt.title('Histogram of frontal probability', fontsize=15)\n",
    "plt.rcParams[\"figure.figsize\"] = 10, 8\n",
    "plt.ylim([0, 2000]);"
   ]
  },
  {
   "cell_type": "code",
   "execution_count": null,
   "id": "0385da14",
   "metadata": {},
   "outputs": [],
   "source": []
  },
  {
   "cell_type": "code",
   "execution_count": null,
   "id": "6011ee70",
   "metadata": {
    "scrolled": false
   },
   "outputs": [],
   "source": []
  },
  {
   "cell_type": "code",
   "execution_count": null,
   "id": "0f827285",
   "metadata": {},
   "outputs": [],
   "source": []
  },
  {
   "cell_type": "markdown",
   "id": "e0f4afbc",
   "metadata": {},
   "source": [
    "# ---------------------------------------------------------------------------------------------------\n",
    "### Outra forma: fazer tudo como antes e só no canny final aplicar a mascara\n",
    "\n",
    "Para fazer isto comentei toda a parte da mask na função canny_creation e só depois de fazer as médias dos pixeis dos cannys para cada dia é que apliquei a parte da mask e da dilatação."
   ]
  },
  {
   "cell_type": "code",
   "execution_count": 237,
   "id": "fe20c0d7",
   "metadata": {},
   "outputs": [],
   "source": [
    "mask = np.isnan(np.flipud(Temp))\n",
    "mask255 =np.where(mask,(np.ones(mask.shape))*255,0).astype(\"uint8\")\n",
    "kernel = np.ones((3,3), np.uint8)\n",
    "mask_dilated = cv2.dilate(mask255, kernel)\n",
    "canny =np.ma.masked_where(mask_dilated==255, canny)"
   ]
  },
  {
   "cell_type": "code",
   "execution_count": 238,
   "id": "27bbc9fc",
   "metadata": {},
   "outputs": [
    {
     "data": {
      "image/png": "[encoded data removed]",
      "text/plain": [
       "<Figure size 864x864 with 1 Axes>"
      ]
     },
     "metadata": {
      "needs_background": "light"
     },
     "output_type": "display_data"
    }
   ],
   "source": [
    "plt.rcParams[\"figure.figsize\"] = 12,12\n",
    "plt.imshow(canny, vmax=0.4)    #'gray'-> parametro para por a preto e branco\n",
    "plt.axis('off');"
   ]
  },
  {
   "cell_type": "markdown",
   "id": "562a1813",
   "metadata": {},
   "source": [
    "Os resultados são iguais quer se aplique a mascara no inicio a cada array ou só no canny final\n",
    "# ----------------------------------------------------------------------------------------"
   ]
  },
  {
   "cell_type": "code",
   "execution_count": null,
   "id": "c79d169e",
   "metadata": {},
   "outputs": [],
   "source": []
  },
  {
   "cell_type": "code",
   "execution_count": null,
   "id": "4ae6ac29",
   "metadata": {},
   "outputs": [],
   "source": []
  },
  {
   "cell_type": "markdown",
   "id": "99d9a155",
   "metadata": {},
   "source": [
    "### Aplicar um gaussian Blur previamente para tentar melhorar visualização"
   ]
  },
  {
   "cell_type": "code",
   "execution_count": 29,
   "id": "7310f1af",
   "metadata": {},
   "outputs": [],
   "source": [
    "from scipy.ndimage import gaussian_filter"
   ]
  },
  {
   "cell_type": "code",
   "execution_count": 30,
   "id": "128f0354",
   "metadata": {},
   "outputs": [],
   "source": [
    "def canny_creation_gaussianFilter(df, Tmax):\n",
    "    \n",
    "    \"\"\"\n",
    "    Função que pega numa df com temperaturas relativas a um certo dia e retorna a matriz obtida através do Canny \n",
    "    com a aplicação previa de um Gaussian Filter\n",
    "    \"\"\"\n",
    "    \n",
    "    #Pegar na df dum dia e converte-la num np array com os valores de Temperatura para os valores de long e lati\n",
    "    Temp = df.pivot_table(index='longitude', columns='latitude', values='thetao').T.values\n",
    "    \n",
    "    #Converter os valores de temperatura no formato uint8 com valores entre 0-255\n",
    "    Temp_day = ((Temp - np.nanmin(Temp)) * (1/(np.nanmax(Temp) - np.nanmin(Temp)) * 255)).astype('uint8')\n",
    "\n",
    "    Temp_day = np.flipud(Temp_day)   #flipud -> Reverse the order of elements along axis 0 (up/down).\n",
    "    \n",
    "    Temp_day = gaussian_filter(Temp_day, sigma=1)   #apply gaussian filter to blur image \n",
    "    \n",
    "    #apply the canny algorithm and plot the image with the edges\n",
    "    canny_blur = cv2.Canny(Temp_day, Tmax/2, Tmax, L2gradient=False, apertureSize=3)\n",
    "    \n",
    "    mask = np.isnan(np.flipud(Temp))    #Boolean array é True onde o array original (Temp) tinha valores Nan\n",
    "    mask255 =np.where(mask,(np.ones(mask.shape))*255,0).astype(\"uint8\")   #array cujos pixels= 255 quando mask=True\n",
    "    #Fazer uma dilatação para assegurar que os pixeis que pertencem à costa não são considerados como frentes no canny\n",
    "    kernel = np.ones((3,3), np.uint8)\n",
    "    mask_dilated = cv2.dilate(mask255, kernel)\n",
    "    canny_blur =np.ma.masked_where(mask_dilated==255, canny_blur)\n",
    "    \n",
    "    return canny_blur"
   ]
  },
  {
   "cell_type": "code",
   "execution_count": null,
   "id": "032928b9",
   "metadata": {},
   "outputs": [],
   "source": []
  },
  {
   "cell_type": "code",
   "execution_count": 31,
   "id": "5e4fe71e",
   "metadata": {},
   "outputs": [],
   "source": [
    "#Crio um array canny com as dimensões (121, 169) apenas com zeros. \n",
    "#Depois para cada dia aplico a função canny_creation_gaussianFilter e somo esses valores ao array canny\n",
    "\n",
    "canny_blur = np.zeros((121,169))\n",
    "for days in jas2014_2019:\n",
    "    canny_blur = canny_blur + canny_creation_gaussianFilter(df[days], 180)"
   ]
  },
  {
   "cell_type": "code",
   "execution_count": null,
   "id": "b04121d7",
   "metadata": {},
   "outputs": [],
   "source": []
  },
  {
   "cell_type": "code",
   "execution_count": 32,
   "id": "3e08832c",
   "metadata": {},
   "outputs": [],
   "source": [
    "# tenho de dividir por este valor pelo nr de dias em questão\n",
    "canny_blur = canny_blur/(len(jas2014_2019)*255)*100 "
   ]
  },
  {
   "cell_type": "code",
   "execution_count": null,
   "id": "43d75a12",
   "metadata": {},
   "outputs": [],
   "source": []
  },
  {
   "cell_type": "code",
   "execution_count": 95,
   "id": "261ed5cd",
   "metadata": {},
   "outputs": [
    {
     "data": {
      "image/png": "[encoded data removed]",
      "text/plain": [
       "<Figure size 720x576 with 2 Axes>"
      ]
     },
     "metadata": {
      "needs_background": "light"
     },
     "output_type": "display_data"
    }
   ],
   "source": [
    "plt.rcParams[\"figure.figsize\"] = 10, 8\n",
    "img_blur = plt.imshow(canny_blur)\n",
    "plt.colorbar(img_blur, orientation='horizontal', fraction=0.03, pad=0.08, aspect=50)\n",
    "plt.title(\"Average frontal probability for OND2017-2019\", fontsize=25)\n",
    "plt.show()"
   ]
  },
  {
   "cell_type": "code",
   "execution_count": null,
   "id": "b6bdc25d",
   "metadata": {},
   "outputs": [],
   "source": [
    "#atenção que as colorbars não estão sempre na mesma escala"
   ]
  },
  {
   "cell_type": "code",
   "execution_count": 94,
   "id": "8c76e09d",
   "metadata": {},
   "outputs": [
    {
     "data": {
      "image/png": "[encoded data removed]",
      "text/plain": [
       "<Figure size 720x576 with 1 Axes>"
      ]
     },
     "metadata": {
      "needs_background": "light"
     },
     "output_type": "display_data"
    }
   ],
   "source": [
    "plt.hist(canny_blur.flatten(), bins=100);\n",
    "plt.title('Histogram of frontal probability', fontsize=15)\n",
    "plt.rcParams[\"figure.figsize\"] = 10, 8\n",
    "plt.ylim([0, 2000]);"
   ]
  },
  {
   "cell_type": "code",
   "execution_count": null,
   "id": "c27f812a",
   "metadata": {},
   "outputs": [],
   "source": []
  },
  {
   "cell_type": "markdown",
   "id": "178d45be",
   "metadata": {},
   "source": [
    "#### Differences between applying or not a Gaussian Filter"
   ]
  },
  {
   "cell_type": "code",
   "execution_count": 33,
   "id": "a3b72c4c",
   "metadata": {},
   "outputs": [
    {
     "data": {
      "image/png": "[encoded data removed]",
      "text/plain": [
       "<Figure size 1152x864 with 6 Axes>"
      ]
     },
     "metadata": {
      "needs_background": "light"
     },
     "output_type": "display_data"
    }
   ],
   "source": [
    "\n",
    "plt.rcParams[\"figure.figsize\"] = 16, 12\n",
    "fig = plt.figure()\n",
    "ax1 = fig.add_subplot(2,2,1)\n",
    "img = ax1.imshow(canny) \n",
    "plt.colorbar(img, orientation='horizontal', fraction=0.025, pad=0.08, aspect=50)\n",
    "plt.title(\"Average frontal probability for JAS2014-2019\", fontsize=15)\n",
    "\n",
    "ax2 = fig.add_subplot(2,2,2)\n",
    "img_blur = ax2.imshow(canny_blur) \n",
    "plt.colorbar(img_blur, orientation='horizontal', fraction=0.025, pad=0.08, aspect=50)\n",
    "plt.title(\"Average frontal probability for JAS2014-2019 with Blur\", fontsize=15)\n",
    "\n",
    "ax2 = fig.add_subplot(2,2,3)\n",
    "ax2.hist(canny.flatten(), bins=100);\n",
    "plt.xlabel('Frontal Probability',fontsize=10)\n",
    "plt.ylim([0, 2000]);\n",
    "\n",
    "ax2 = fig.add_subplot(2,2,4)\n",
    "ax2.hist(canny_blur.flatten(), bins=100); \n",
    "plt.xlabel('Frontal Probability',fontsize=10)\n",
    "plt.ylim([0, 2000]);\n"
   ]
  },
  {
   "cell_type": "code",
   "execution_count": null,
   "id": "b41900ea",
   "metadata": {},
   "outputs": [],
   "source": []
  },
  {
   "cell_type": "code",
   "execution_count": null,
   "id": "29918daa",
   "metadata": {},
   "outputs": [],
   "source": []
  },
  {
   "cell_type": "code",
   "execution_count": null,
   "id": "f02f0d78",
   "metadata": {},
   "outputs": [],
   "source": []
  },
  {
   "cell_type": "code",
   "execution_count": null,
   "id": "2b2e37a6",
   "metadata": {},
   "outputs": [],
   "source": []
  },
  {
   "cell_type": "markdown",
   "id": "d0da273d",
   "metadata": {},
   "source": [
    "### Aplicar variação do threshold diretamente na imagem já com as masks aplicadas"
   ]
  },
  {
   "cell_type": "code",
   "execution_count": 68,
   "id": "409f534a",
   "metadata": {},
   "outputs": [],
   "source": [
    "def preprocessing(df):\n",
    "    \n",
    "    \"\"\"\n",
    "    Esta função pega numa dataframe que tem valores de temperatura para cada par latitude e longitude e \n",
    "    converte-a num array com shape (121, 169) cujos valores variam entre 0 e 255, com formato uint8\n",
    "    \"\"\"\n",
    "    \n",
    "    \n",
    "    #Pegar na df dum dia e converte-la num np array com os valores de Temperatura para os valores de long e lati\n",
    "    Temp = df.pivot_table(index='longitude', columns='latitude', values='thetao').T.values\n",
    "    \n",
    "    #Converter os valores de temperatura no formato uint8 com valores entre 0-255\n",
    "    Temp_day = ((Temp - np.nanmin(Temp)) * (1/(np.nanmax(Temp) - np.nanmin(Temp)) * 255)).astype('uint8')\n",
    "\n",
    "    Temp_day = np.flipud(Temp_day)   #flipud -> Reverse the order of elements along axis 0 (up/down).\n",
    "\n",
    "    \n",
    "    return Temp_day"
   ]
  },
  {
   "cell_type": "code",
   "execution_count": null,
   "id": "d47b790e",
   "metadata": {},
   "outputs": [],
   "source": []
  },
  {
   "cell_type": "code",
   "execution_count": 77,
   "id": "f9d8626d",
   "metadata": {},
   "outputs": [],
   "source": [
    "#Vamos criar um array que é a soma de todos os arrays que provem da função preprocessing, para um dado periodo\n",
    "\n",
    "temp_slider = np.zeros((121,169))\n",
    "for days in ond2014_2019:\n",
    "    temp_slider = temp_slider + preprocessing(df[days])"
   ]
  },
  {
   "cell_type": "code",
   "execution_count": null,
   "id": "0674044c",
   "metadata": {},
   "outputs": [],
   "source": []
  },
  {
   "cell_type": "code",
   "execution_count": 78,
   "id": "f6a1f7b2",
   "metadata": {},
   "outputs": [
    {
     "data": {
      "text/plain": [
       "array([[ 61.55963303,  61.08073394,  60.2733945 , ...,  80.30642202,\n",
       "         80.33211009,  80.47155963],\n",
       "       [ 63.02568807,  62.48256881,  61.49541284, ...,  81.61100917,\n",
       "         82.26238532,  82.90825688],\n",
       "       [ 63.23119266,  62.78715596,  61.98715596, ...,  82.08990826,\n",
       "         83.2733945 ,  84.35779817],\n",
       "       ...,\n",
       "       [216.25137615, 217.21100917, 218.07155963, ...,   0.        ,\n",
       "          0.        ,   0.        ],\n",
       "       [218.11192661, 218.88073394, 219.80366972, ...,   0.        ,\n",
       "          0.        ,   0.        ],\n",
       "       [219.72110092, 220.4440367 , 221.38715596, ...,   0.        ,\n",
       "          0.        ,   0.        ]])"
      ]
     },
     "execution_count": 78,
     "metadata": {},
     "output_type": "execute_result"
    }
   ],
   "source": [
    "#dividir pelo nr de dias do periodo em questão para se obter uma média\n",
    "temp_slider = temp_slider/len(ond2014_2019)\n",
    "temp_slider"
   ]
  },
  {
   "cell_type": "code",
   "execution_count": 82,
   "id": "332a4c2b",
   "metadata": {},
   "outputs": [
    {
     "data": {
      "text/plain": [
       "array([[ 61.55963303,  61.08073394,  60.2733945 , ...,  80.30642202,\n",
       "         80.33211009,  80.47155963],\n",
       "       [ 63.02568807,  62.48256881,  61.49541284, ...,  81.61100917,\n",
       "         82.26238532,  82.90825688],\n",
       "       [ 63.23119266,  62.78715596,  61.98715596, ...,  82.08990826,\n",
       "         83.2733945 ,  84.35779817],\n",
       "       ...,\n",
       "       [216.25137615, 217.21100917, 218.07155963, ...,   0.        ,\n",
       "          0.        ,   0.        ],\n",
       "       [218.11192661, 218.88073394, 219.80366972, ...,   0.        ,\n",
       "          0.        ,   0.        ],\n",
       "       [219.72110092, 220.4440367 , 221.38715596, ...,   0.        ,\n",
       "          0.        ,   0.        ]])"
      ]
     },
     "execution_count": 82,
     "metadata": {},
     "output_type": "execute_result"
    }
   ],
   "source": [
    "temp_slider"
   ]
  },
  {
   "cell_type": "code",
   "execution_count": 83,
   "id": "56f8d459",
   "metadata": {},
   "outputs": [
    {
     "data": {
      "text/plain": [
       "array([[ 61,  61,  60, ...,  80,  80,  80],\n",
       "       [ 63,  62,  61, ...,  81,  82,  82],\n",
       "       [ 63,  62,  61, ...,  82,  83,  84],\n",
       "       ...,\n",
       "       [216, 217, 218, ...,   0,   0,   0],\n",
       "       [218, 218, 219, ...,   0,   0,   0],\n",
       "       [219, 220, 221, ...,   0,   0,   0]], dtype=uint8)"
      ]
     },
     "execution_count": 83,
     "metadata": {},
     "output_type": "execute_result"
    }
   ],
   "source": [
    "temp_slider = canny_slider.astype('uint8')    #array com shape (121,169) cujos valores têm formato 'uint8'\n",
    "temp_slider"
   ]
  },
  {
   "cell_type": "code",
   "execution_count": null,
   "id": "e41591a5",
   "metadata": {},
   "outputs": [],
   "source": []
  },
  {
   "cell_type": "code",
   "execution_count": 85,
   "id": "6b799e03",
   "metadata": {},
   "outputs": [
    {
     "data": {
      "application/vnd.jupyter.widget-view+json": {
       "model_id": "0db9167bbda647d49beff5c91c00d14f",
       "version_major": 2,
       "version_minor": 0
      },
      "text/plain": [
       "interactive(children=(IntSlider(value=70, description='threshold'), Output()), _dom_classes=('widget-interact'…"
      ]
     },
     "metadata": {},
     "output_type": "display_data"
    },
    {
     "data": {
      "text/plain": [
       "<function __main__.canny_threshold(image, threshold=70, ratio=3, ksize=3)>"
      ]
     },
     "metadata": {},
     "output_type": "display_data"
    }
   ],
   "source": [
    "from IPython.display import display\n",
    "from IPython.html.widgets import interact, fixed\n",
    "\n",
    "#cbarkw = dict(shrink=0.73, extend='both')\n",
    "\n",
    "def canny_threshold(image, threshold=70, ratio=3, ksize=3):\n",
    "    \n",
    "    detected_edges = cv2.Canny(temp_slider, threshold,\n",
    "                               threshold*ratio,\n",
    "                               apertureSize=ksize)\n",
    "    # Just add some colours to edges from original data.\n",
    "    mask = np.ma.masked_equal(detected_edges, 0).mask\n",
    "    img = np.ma.masked_array(temp_slider, mask)\n",
    "    \n",
    "    mask2 = np.isnan(np.flipud(Temp))    #Boolean array é True onde o array original (Temp) tinha valores Nan\n",
    "    mask255 =np.where(mask2,(np.ones(mask2.shape))*255,0).astype(\"uint8\")   #array cujos pixels= 255 quando mask=True\n",
    "    #Fazer uma dilatação para assegurar que os pixeis que pertencem à costa não são considerados como frentes no canny\n",
    "    kernel = np.ones((3,3), np.uint8)\n",
    "    mask_dilated = cv2.dilate(mask255, kernel)\n",
    "    detected_edges =np.ma.masked_where(mask_dilated==255, detected_edges)\n",
    "    \n",
    "    fig, ax = plt.subplots(figsize=(10,8))\n",
    "    cs = ax.imshow(img)\n",
    "    #cbar = fig.colorbar(cs, ax=ax, **cbarkw)\n",
    "    ax.axis('off')\n",
    "    plt.show()\n",
    "\n",
    "lims = (0, 100)\n",
    "w = interact(canny_threshold, threshold=lims,\n",
    "             image=fixed(temp_slider),\n",
    "             ratio=fixed(3), ksize=fixed(3))\n",
    "\n",
    "display(w)"
   ]
  },
  {
   "cell_type": "code",
   "execution_count": null,
   "id": "13abc6eb",
   "metadata": {},
   "outputs": [],
   "source": []
  },
  {
   "cell_type": "code",
   "execution_count": null,
   "id": "4f6b0cb6",
   "metadata": {},
   "outputs": [],
   "source": []
  },
  {
   "cell_type": "code",
   "execution_count": null,
   "id": "3153d1a2",
   "metadata": {},
   "outputs": [],
   "source": []
  },
  {
   "cell_type": "code",
   "execution_count": null,
   "id": "8597cd8f",
   "metadata": {},
   "outputs": [],
   "source": []
  },
  {
   "cell_type": "code",
   "execution_count": null,
   "id": "6abf6df4",
   "metadata": {},
   "outputs": [],
   "source": []
  },
  {
   "cell_type": "code",
   "execution_count": null,
   "id": "2cbeed8f",
   "metadata": {},
   "outputs": [],
   "source": []
  },
  {
   "cell_type": "code",
   "execution_count": null,
   "id": "3e90be45",
   "metadata": {},
   "outputs": [],
   "source": []
  },
  {
   "cell_type": "code",
   "execution_count": null,
   "id": "121a4839",
   "metadata": {},
   "outputs": [],
   "source": []
  },
  {
   "cell_type": "code",
   "execution_count": null,
   "id": "072a44fb",
   "metadata": {},
   "outputs": [],
   "source": []
  },
  {
   "cell_type": "code",
   "execution_count": null,
   "id": "2ee4266d",
   "metadata": {},
   "outputs": [],
   "source": []
  }
 ],
 "metadata": {
  "kernelspec": {
   "display_name": "Python 3 (ipykernel)",
   "language": "python",
   "name": "python3"
  },
  "language_info": {
   "codemirror_mode": {
    "name": "ipython",
    "version": 3
   },
   "file_extension": ".py",
   "mimetype": "text/x-python",
   "name": "python",
   "nbconvert_exporter": "python",
   "pygments_lexer": "ipython3",
   "version": "3.8.10"
  }
 },
 "nbformat": 4,
 "nbformat_minor": 5
}
