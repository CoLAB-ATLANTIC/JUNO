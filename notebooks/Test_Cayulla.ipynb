{
 "cells": [
  {
   "cell_type": "code",
   "execution_count": null,
   "id": "66140756",
   "metadata": {},
   "outputs": [],
   "source": []
  },
  {
   "cell_type": "code",
   "execution_count": 1,
   "id": "e12117cf",
   "metadata": {},
   "outputs": [],
   "source": [
    "import pandas as pd\n",
    "import numpy as np\n",
    "import matplotlib.pyplot as plt\n",
    "import seaborn as sns\n",
    "import netCDF4 as nc\n",
    "import xarray as xr\n",
    "import os\n",
    "from pathlib import Path\n",
    "from numpy import nanmedian\n",
    "import scipy\n",
    "import scipy.signal\n",
    "import math\n",
    "from numpy.fft import fft2\n",
    "import cmocean\n",
    "import matplotlib\n",
    "plt.rcParams[\"figure.figsize\"] = 10, 8\n",
    "%matplotlib inline"
   ]
  },
  {
   "cell_type": "code",
   "execution_count": null,
   "id": "b7eb319a",
   "metadata": {},
   "outputs": [],
   "source": []
  },
  {
   "cell_type": "code",
   "execution_count": null,
   "id": "d487705f",
   "metadata": {},
   "outputs": [],
   "source": []
  },
  {
   "cell_type": "code",
   "execution_count": null,
   "id": "fed76d04",
   "metadata": {},
   "outputs": [],
   "source": []
  },
  {
   "cell_type": "code",
   "execution_count": 2,
   "id": "10f1618f",
   "metadata": {},
   "outputs": [
    {
     "data": {
      "text/plain": [
       "'/home/luisfigueiredo/JUNO/notebooks'"
      ]
     },
     "execution_count": 2,
     "metadata": {},
     "output_type": "execute_result"
    }
   ],
   "source": [
    "current_path = os.getcwd()\n",
    "current_path"
   ]
  },
  {
   "cell_type": "code",
   "execution_count": 3,
   "id": "21be67df",
   "metadata": {},
   "outputs": [
    {
     "data": {
      "text/plain": [
       "'/home/luisfigueiredo/JUNO/notebooks/../data'"
      ]
     },
     "execution_count": 3,
     "metadata": {},
     "output_type": "execute_result"
    }
   ],
   "source": [
    "from pathlib import Path\n",
    "\n",
    "data_folder = os.path.join(current_path,\"../data\")\n",
    "data_folder"
   ]
  },
  {
   "cell_type": "code",
   "execution_count": 4,
   "id": "5fac3c8a",
   "metadata": {},
   "outputs": [],
   "source": [
    "nc_path = os.path.join(data_folder, \"murAugust2019.nc\")\n",
    "ds = nc.Dataset(nc_path)\n",
    "data = xr.load_dataset(nc_path)"
   ]
  },
  {
   "cell_type": "code",
   "execution_count": 5,
   "id": "51804a3a",
   "metadata": {},
   "outputs": [
    {
     "name": "stdout",
     "output_type": "stream",
     "text": [
      "<class 'netCDF4._netCDF4.Dataset'>\n",
      "root group (NETCDF4 data model, file format HDF5):\n",
      "    Conventions: CF-1.7\n",
      "    title: Daily MUR SST, Final product\n",
      "    summary: A merged, multi-sensor L4 Foundation SST analysis product from JPL.\n",
      "    references: http://podaac.jpl.nasa.gov/Multi-scale_Ultra-high_Resolution_MUR-SST\n",
      "    institution: Jet Propulsion Laboratory\n",
      "    history: created at nominal 4-day latency; replaced nrt (1-day latency) version.\n",
      "2022-03-21 16:59:07 GMT Hyrax-1.16.0 https://podaac-opendap.jpl.nasa.gov/opendap/allData/ghrsst/data/GDS2/L4/GLOB/JPL/MUR/v4.1/2019/213/20190801090000-JPL-L4_GHRSST-SSTfnd-MUR-GLOB-v02.0-fv04.1.nc.nc4?analysed_sst[0:1:0][12499:1:13499][16099:1:17499]\n",
      "    comment: MUR = \\\"Multi-scale Ultra-high Resolution\\\"\n",
      "    license: These data are available free of charge under data policy of JPL PO.DAAC.\n",
      "    id: MUR-JPL-L4-GLOB-v04.1\n",
      "    naming_authority: org.ghrsst\n",
      "    product_version: 04.1\n",
      "    uuid: 27665bc0-d5fc-11e1-9b23-0800200c9a66\n",
      "    gds_version_id: 2.0\n",
      "    netcdf_version_id: 4.1\n",
      "    date_created: 20190810T004515Z\n",
      "    start_time: 20190801T090000Z\n",
      "    stop_time: 20190801T090000Z\n",
      "    time_coverage_start: 20190731T210000Z\n",
      "    time_coverage_end: 20190801T210000Z\n",
      "    file_quality_level: 3\n",
      "    source: MODIS_T-JPL, MODIS_A-JPL, AMSR2-REMSS, AVHRRMTA_G-NAVO, AVHRRMTB_G-NAVO, iQUAM-NOAA/NESDIS, Ice_Conc-OSISAF\n",
      "    platform: Terra, Aqua, GCOM-W, MetOp-A, MetOp-B, Buoys/Ships\n",
      "    sensor: MODIS, AMSR2, AVHRR, in-situ\n",
      "    Metadata_Conventions: Unidata Observation Dataset v1.0\n",
      "    metadata_link: http://podaac.jpl.nasa.gov/ws/metadata/dataset/?format=iso&shortName=MUR-JPL-L4-GLOB-v04.1\n",
      "    keywords: Oceans > Ocean Temperature > Sea Surface Temperature\n",
      "    keywords_vocabulary: NASA Global Change Master Directory (GCMD) Science Keywords\n",
      "    standard_name_vocabulary: NetCDF Climate and Forecast (CF) Metadata Convention\n",
      "    southernmost_latitude: -90.0\n",
      "    northernmost_latitude: 90.0\n",
      "    westernmost_longitude: -180.0\n",
      "    easternmost_longitude: 180.0\n",
      "    spatial_resolution: 0.01 degrees\n",
      "    geospatial_lat_units: degrees north\n",
      "    geospatial_lat_resolution: 0.01\n",
      "    geospatial_lon_units: degrees east\n",
      "    geospatial_lon_resolution: 0.01\n",
      "    acknowledgment: Please acknowledge the use of these data with the following statement:  These data were provided by JPL under support by NASA MEaSUREs program.\n",
      "    creator_name: JPL MUR SST project\n",
      "    creator_email: ghrsst@podaac.jpl.nasa.gov\n",
      "    creator_url: http://mur.jpl.nasa.gov\n",
      "    project: NASA Making Earth Science Data Records for Use in Research Environments (MEaSUREs) Program\n",
      "    publisher_name: GHRSST Project Office\n",
      "    publisher_url: http://www.ghrsst.org\n",
      "    publisher_email: ghrsst-po@nceo.ac.uk\n",
      "    processing_level: L4\n",
      "    cdm_data_type: grid\n",
      "    dimensions(sizes): time(31), lat(1001), lon(1401)\n",
      "    variables(dimensions): int64 time(time), float32 lat(lat), float32 lon(lon), int16 analysed_sst(time, lat, lon)\n",
      "    groups: \n"
     ]
    }
   ],
   "source": [
    "print(ds) "
   ]
  },
  {
   "cell_type": "code",
   "execution_count": null,
   "id": "93fb54ac",
   "metadata": {},
   "outputs": [],
   "source": []
  },
  {
   "cell_type": "code",
   "execution_count": 6,
   "id": "a8dda657",
   "metadata": {},
   "outputs": [],
   "source": [
    "#Converter o ficheiro netCDF para uma dataframe\n",
    "datadf = data.to_dataframe()\n",
    "datadf = datadf.reset_index()"
   ]
  },
  {
   "cell_type": "code",
   "execution_count": 7,
   "id": "20c3a77f",
   "metadata": {},
   "outputs": [
    {
     "data": {
      "text/html": [
       "<div>\n",
       "<style scoped>\n",
       "    .dataframe tbody tr th:only-of-type {\n",
       "        vertical-align: middle;\n",
       "    }\n",
       "\n",
       "    .dataframe tbody tr th {\n",
       "        vertical-align: top;\n",
       "    }\n",
       "\n",
       "    .dataframe thead th {\n",
       "        text-align: right;\n",
       "    }\n",
       "</style>\n",
       "<table border=\"1\" class=\"dataframe\">\n",
       "  <thead>\n",
       "    <tr style=\"text-align: right;\">\n",
       "      <th></th>\n",
       "      <th>lat</th>\n",
       "      <th>lon</th>\n",
       "      <th>time</th>\n",
       "      <th>analysed_sst</th>\n",
       "    </tr>\n",
       "  </thead>\n",
       "  <tbody>\n",
       "    <tr>\n",
       "      <th>0</th>\n",
       "      <td>35.0</td>\n",
       "      <td>-19.0</td>\n",
       "      <td>2019-08-01 09:00:00</td>\n",
       "      <td>22.830994</td>\n",
       "    </tr>\n",
       "    <tr>\n",
       "      <th>1</th>\n",
       "      <td>35.0</td>\n",
       "      <td>-19.0</td>\n",
       "      <td>2019-08-02 09:00:00</td>\n",
       "      <td>23.727997</td>\n",
       "    </tr>\n",
       "    <tr>\n",
       "      <th>2</th>\n",
       "      <td>35.0</td>\n",
       "      <td>-19.0</td>\n",
       "      <td>2019-08-03 09:00:00</td>\n",
       "      <td>24.345001</td>\n",
       "    </tr>\n",
       "    <tr>\n",
       "      <th>3</th>\n",
       "      <td>35.0</td>\n",
       "      <td>-19.0</td>\n",
       "      <td>2019-08-04 09:00:00</td>\n",
       "      <td>24.382996</td>\n",
       "    </tr>\n",
       "    <tr>\n",
       "      <th>4</th>\n",
       "      <td>35.0</td>\n",
       "      <td>-19.0</td>\n",
       "      <td>2019-08-05 09:00:00</td>\n",
       "      <td>24.256012</td>\n",
       "    </tr>\n",
       "    <tr>\n",
       "      <th>...</th>\n",
       "      <td>...</td>\n",
       "      <td>...</td>\n",
       "      <td>...</td>\n",
       "      <td>...</td>\n",
       "    </tr>\n",
       "    <tr>\n",
       "      <th>43474426</th>\n",
       "      <td>45.0</td>\n",
       "      <td>-5.0</td>\n",
       "      <td>2019-08-27 09:00:00</td>\n",
       "      <td>19.819000</td>\n",
       "    </tr>\n",
       "    <tr>\n",
       "      <th>43474427</th>\n",
       "      <td>45.0</td>\n",
       "      <td>-5.0</td>\n",
       "      <td>2019-08-28 09:00:00</td>\n",
       "      <td>20.588013</td>\n",
       "    </tr>\n",
       "    <tr>\n",
       "      <th>43474428</th>\n",
       "      <td>45.0</td>\n",
       "      <td>-5.0</td>\n",
       "      <td>2019-08-29 09:00:00</td>\n",
       "      <td>20.716003</td>\n",
       "    </tr>\n",
       "    <tr>\n",
       "      <th>43474429</th>\n",
       "      <td>45.0</td>\n",
       "      <td>-5.0</td>\n",
       "      <td>2019-08-30 09:00:00</td>\n",
       "      <td>20.743988</td>\n",
       "    </tr>\n",
       "    <tr>\n",
       "      <th>43474430</th>\n",
       "      <td>45.0</td>\n",
       "      <td>-5.0</td>\n",
       "      <td>2019-08-31 09:00:00</td>\n",
       "      <td>20.885010</td>\n",
       "    </tr>\n",
       "  </tbody>\n",
       "</table>\n",
       "<p>43474431 rows × 4 columns</p>\n",
       "</div>"
      ],
      "text/plain": [
       "           lat   lon                time  analysed_sst\n",
       "0         35.0 -19.0 2019-08-01 09:00:00     22.830994\n",
       "1         35.0 -19.0 2019-08-02 09:00:00     23.727997\n",
       "2         35.0 -19.0 2019-08-03 09:00:00     24.345001\n",
       "3         35.0 -19.0 2019-08-04 09:00:00     24.382996\n",
       "4         35.0 -19.0 2019-08-05 09:00:00     24.256012\n",
       "...        ...   ...                 ...           ...\n",
       "43474426  45.0  -5.0 2019-08-27 09:00:00     19.819000\n",
       "43474427  45.0  -5.0 2019-08-28 09:00:00     20.588013\n",
       "43474428  45.0  -5.0 2019-08-29 09:00:00     20.716003\n",
       "43474429  45.0  -5.0 2019-08-30 09:00:00     20.743988\n",
       "43474430  45.0  -5.0 2019-08-31 09:00:00     20.885010\n",
       "\n",
       "[43474431 rows x 4 columns]"
      ]
     },
     "execution_count": 7,
     "metadata": {},
     "output_type": "execute_result"
    }
   ],
   "source": [
    "datadf['analysed_sst'] =  datadf['analysed_sst']-273.15    #convert to celsius\n",
    "datadf"
   ]
  },
  {
   "cell_type": "code",
   "execution_count": 8,
   "id": "b65fc4eb",
   "metadata": {},
   "outputs": [],
   "source": [
    "#Sacar dados do MUR para um só dia para testar o algoritmo Cayulla-Cornillon no MATLAB e Python\n",
    "Aug1_mur = datadf[datadf['time'] == '2019-08-01 09:00:00']"
   ]
  },
  {
   "cell_type": "code",
   "execution_count": 9,
   "id": "27c97491",
   "metadata": {},
   "outputs": [
    {
     "data": {
      "text/html": [
       "<div>\n",
       "<style scoped>\n",
       "    .dataframe tbody tr th:only-of-type {\n",
       "        vertical-align: middle;\n",
       "    }\n",
       "\n",
       "    .dataframe tbody tr th {\n",
       "        vertical-align: top;\n",
       "    }\n",
       "\n",
       "    .dataframe thead th {\n",
       "        text-align: right;\n",
       "    }\n",
       "</style>\n",
       "<table border=\"1\" class=\"dataframe\">\n",
       "  <thead>\n",
       "    <tr style=\"text-align: right;\">\n",
       "      <th></th>\n",
       "      <th>lat</th>\n",
       "      <th>lon</th>\n",
       "      <th>analysed_sst</th>\n",
       "    </tr>\n",
       "  </thead>\n",
       "  <tbody>\n",
       "    <tr>\n",
       "      <th>0</th>\n",
       "      <td>35.0</td>\n",
       "      <td>-19.000000</td>\n",
       "      <td>22.830994</td>\n",
       "    </tr>\n",
       "    <tr>\n",
       "      <th>31</th>\n",
       "      <td>35.0</td>\n",
       "      <td>-18.990000</td>\n",
       "      <td>22.815002</td>\n",
       "    </tr>\n",
       "    <tr>\n",
       "      <th>62</th>\n",
       "      <td>35.0</td>\n",
       "      <td>-18.980000</td>\n",
       "      <td>22.802002</td>\n",
       "    </tr>\n",
       "    <tr>\n",
       "      <th>93</th>\n",
       "      <td>35.0</td>\n",
       "      <td>-18.969999</td>\n",
       "      <td>22.790985</td>\n",
       "    </tr>\n",
       "    <tr>\n",
       "      <th>124</th>\n",
       "      <td>35.0</td>\n",
       "      <td>-18.959999</td>\n",
       "      <td>22.782013</td>\n",
       "    </tr>\n",
       "    <tr>\n",
       "      <th>...</th>\n",
       "      <td>...</td>\n",
       "      <td>...</td>\n",
       "      <td>...</td>\n",
       "    </tr>\n",
       "    <tr>\n",
       "      <th>43474276</th>\n",
       "      <td>45.0</td>\n",
       "      <td>-5.040000</td>\n",
       "      <td>20.843994</td>\n",
       "    </tr>\n",
       "    <tr>\n",
       "      <th>43474307</th>\n",
       "      <td>45.0</td>\n",
       "      <td>-5.030000</td>\n",
       "      <td>20.859009</td>\n",
       "    </tr>\n",
       "    <tr>\n",
       "      <th>43474338</th>\n",
       "      <td>45.0</td>\n",
       "      <td>-5.020000</td>\n",
       "      <td>20.871002</td>\n",
       "    </tr>\n",
       "    <tr>\n",
       "      <th>43474369</th>\n",
       "      <td>45.0</td>\n",
       "      <td>-5.010000</td>\n",
       "      <td>20.878998</td>\n",
       "    </tr>\n",
       "    <tr>\n",
       "      <th>43474400</th>\n",
       "      <td>45.0</td>\n",
       "      <td>-5.000000</td>\n",
       "      <td>20.885010</td>\n",
       "    </tr>\n",
       "  </tbody>\n",
       "</table>\n",
       "<p>1402401 rows × 3 columns</p>\n",
       "</div>"
      ],
      "text/plain": [
       "           lat        lon  analysed_sst\n",
       "0         35.0 -19.000000     22.830994\n",
       "31        35.0 -18.990000     22.815002\n",
       "62        35.0 -18.980000     22.802002\n",
       "93        35.0 -18.969999     22.790985\n",
       "124       35.0 -18.959999     22.782013\n",
       "...        ...        ...           ...\n",
       "43474276  45.0  -5.040000     20.843994\n",
       "43474307  45.0  -5.030000     20.859009\n",
       "43474338  45.0  -5.020000     20.871002\n",
       "43474369  45.0  -5.010000     20.878998\n",
       "43474400  45.0  -5.000000     20.885010\n",
       "\n",
       "[1402401 rows x 3 columns]"
      ]
     },
     "execution_count": 9,
     "metadata": {},
     "output_type": "execute_result"
    }
   ],
   "source": [
    "Aug1_mur.drop('time', axis=1)"
   ]
  },
  {
   "cell_type": "code",
   "execution_count": null,
   "id": "2b9c747a",
   "metadata": {},
   "outputs": [],
   "source": []
  },
  {
   "cell_type": "code",
   "execution_count": 152,
   "id": "e5a9f48c",
   "metadata": {},
   "outputs": [],
   "source": [
    "lat = Aug1_mur['lat'].to_numpy()\n",
    "lon = Aug1_mur['lon'].to_numpy()"
   ]
  },
  {
   "cell_type": "code",
   "execution_count": 153,
   "id": "327bfadf",
   "metadata": {},
   "outputs": [],
   "source": [
    "lat = np.unique(lat).round(3)\n",
    "lon = np.unique(lon).round(3)\n",
    "sst = Aug1_mur.pivot_table(index='lon', columns='lat', values='analysed_sst').values.round(4)\n"
   ]
  },
  {
   "cell_type": "code",
   "execution_count": null,
   "id": "ac99173d",
   "metadata": {},
   "outputs": [],
   "source": []
  },
  {
   "cell_type": "code",
   "execution_count": null,
   "id": "6b2ae59e",
   "metadata": {},
   "outputs": [],
   "source": []
  },
  {
   "cell_type": "markdown",
   "id": "681895e2",
   "metadata": {},
   "source": [
    "### Código: LOAD das variaveis em Python"
   ]
  },
  {
   "cell_type": "code",
   "execution_count": 154,
   "id": "13f1a9a9",
   "metadata": {},
   "outputs": [],
   "source": [
    "X = np.linspace(-19.0, -5.0, 1401)\n",
    "Y = np.linspace(35.0, 45.0, 1001)\n",
    "X, Y = np.meshgrid(X, Y)                #CHECK\n",
    "\n",
    "lat, lon = np.meshgrid(lat, lon)            #CHECK\n",
    "\n",
    "from scipy.interpolate import griddata\n",
    "Z = griddata((lon.flatten(), lat.flatten()), sst.flatten(), (X,Y), method='linear')     #CHECK"
   ]
  },
  {
   "cell_type": "markdown",
   "id": "ff8c70a8",
   "metadata": {},
   "source": [
    "##### Até aqui tudo bem"
   ]
  },
  {
   "cell_type": "code",
   "execution_count": null,
   "id": "cf2029b1",
   "metadata": {},
   "outputs": [],
   "source": []
  },
  {
   "cell_type": "code",
   "execution_count": null,
   "id": "9e48fbf7",
   "metadata": {},
   "outputs": [],
   "source": []
  },
  {
   "cell_type": "code",
   "execution_count": null,
   "id": "d57c4a62",
   "metadata": {},
   "outputs": [],
   "source": []
  },
  {
   "cell_type": "markdown",
   "id": "8b7f99e2",
   "metadata": {},
   "source": [
    "### Código: Definição da janela em Python "
   ]
  },
  {
   "cell_type": "code",
   "execution_count": 155,
   "id": "6a23f2f2",
   "metadata": {},
   "outputs": [],
   "source": [
    "head = np.array([-19, -5])           #Extremos do array que se obtem com a meshgrid em X\n",
    "head = np.append(head, [35, 45])   #Extremos do array que se obtem com a meshgrid em Y\n",
    "\n",
    "z_dim = Z.shape    #dimensões da matriz Z (rows, cols)\n",
    "\n",
    "z_actual_range = np.array([np.nanmin(Z[:]), np.nanmax(Z[:])])    #range dos dados (valor minimo e maximo da matriz Z)\n",
    "nx = z_dim[1]      # number of columns of matrix Z\n",
    "ny = z_dim[0]      # number of rows of matrix Z\n",
    "node_offset = 0\n",
    "    \n",
    "#index 4 -> menor valor de Z; index5 -> maior valor de Z; index6 -> node_offset=6\n",
    "head = np.append(head, np.array([z_actual_range[0], z_actual_range[1] , node_offset]))    \n",
    "head = np.append(head, np.array((head[1]- head[0])/(nx - int(not node_offset))))     #index 7 -> quociente da diferença dos extremos da meshgrid em X e o nr de colunas-1\n",
    "head = np.append(head, np.array((head[3]- head[2])/(ny - int(not node_offset))))     #index 8 -> quociente da diferença dos extremos da meshgrid em Y e o nr de rows-1"
   ]
  },
  {
   "cell_type": "markdown",
   "id": "25f23d94",
   "metadata": {},
   "source": [
    "##### Até aqui tudo bem"
   ]
  },
  {
   "cell_type": "code",
   "execution_count": null,
   "id": "e99b3357",
   "metadata": {},
   "outputs": [],
   "source": []
  },
  {
   "cell_type": "code",
   "execution_count": null,
   "id": "9f49af53",
   "metadata": {},
   "outputs": [],
   "source": []
  },
  {
   "cell_type": "code",
   "execution_count": null,
   "id": "d6270811",
   "metadata": {},
   "outputs": [],
   "source": []
  },
  {
   "cell_type": "markdown",
   "id": "f9b192ec",
   "metadata": {},
   "source": [
    "### Código: Definição da parametros Python"
   ]
  },
  {
   "cell_type": "code",
   "execution_count": 156,
   "id": "10124766",
   "metadata": {},
   "outputs": [],
   "source": [
    "################################# \n",
    "\n",
    "# Window size 32 × 32\n",
    "\n",
    "# Window clarity (% of data have to present in the window) 75%\n",
    "# Overlap 50%\n",
    "\n",
    "# The ratio of variance between the two populations to the\n",
    "# variance within the populations θ(τopt )% 0.76\n",
    "\n",
    "# Gradient ratio 0.9\n",
    "\n",
    "# Cohesion coefficients [C1, C2, C] [0.9, 0.9, 0.92]\n",
    "# Mean temperature difference between the two populations (surface waters)\n",
    "# .25\n",
    "\n",
    "#cayula\n",
    "minPopProp = 0.20\n",
    "minPopMeanDiff = 0.4\n",
    "minTheta = 0.70\n",
    "minSinglePopCohesion = 0.90\n",
    "minGlobalPopCohesion = 0.70\n",
    "\n",
    "#nieto\n",
    "# minPopProp = 0.15\n",
    "# minPopMeanDiff = 0.4\n",
    "# minTheta = 0.70\n",
    "# minSinglePopCohesion = 0.90\n",
    "# minGlobalPopCohesion = 0.70\n",
    "\n",
    "##################################"
   ]
  },
  {
   "cell_type": "markdown",
   "id": "e45ab905",
   "metadata": {},
   "source": [
    "##### Até aqui tudo bem"
   ]
  },
  {
   "cell_type": "code",
   "execution_count": null,
   "id": "5059444b",
   "metadata": {},
   "outputs": [],
   "source": []
  },
  {
   "cell_type": "code",
   "execution_count": null,
   "id": "ef7a3257",
   "metadata": {},
   "outputs": [],
   "source": []
  },
  {
   "cell_type": "code",
   "execution_count": 157,
   "id": "58478434",
   "metadata": {},
   "outputs": [],
   "source": [
    "[n_rows, n_cols] = Z.shape      #nr of rows and nr of columns in matrix Z\n",
    "winW16 = 16\n",
    "winW32 = 16*2\n",
    "winW48 = 16*3\n",
    "\n",
    "s=0 #s=1 means subwindows do NOT share a common border. With s = 0 they do.\n",
    "\n",
    "xSide16 = winW16*head[7]\n",
    "ySide16 = winW16*head[8]\n",
    "xSide32 = (winW32 - s) * head[7]\n",
    "ySide32 = (winW32 - s) * head[8]\n",
    "\n",
    "nWinRows = math.floor(n_rows/winW16)\n",
    "nWinCols = math.floor(n_cols/winW16)\n",
    "\n",
    "\n",
    "for wRow in range(1, nWinRows-1):    #estava -3 antes\n",
    "    r1 = (wRow-1) * winW16 + 1;\n",
    "    r2 = r1 + winW48 -s     #start and stop indices and coords of current window\n",
    "    y0 = head[2] + (wRow-1)*ySide16    #y1 = y0 + (winW48-1)*head[8]\n",
    "    \n",
    "    for wCol in range(1, nWinCols-1):     #estava -3 antes\n",
    "        c1 = (wCol - 1)*winW16+1\n",
    "        c2 = c1 + winW48 - s\n",
    "        x0 = head[0] + (wCol-1) * xSide16     #x1 = x0 + (winW48-1)*head[7]\n",
    "        wPad = Z[r1-1:r2, c1-1:c2]\n",
    "        \n",
    "        rr = np.array([1,1,2,2])\n",
    "        cc = np.array([1,2,2,1])\n",
    "        \n",
    "        if s==1:\n",
    "            corners = np.array([[17, 32, 17, 32], [17, 32, 1, 16], [1, 16, 1, 16], [1, 16, 17, 32]])  #less good\n",
    "        else:\n",
    "            corners = np.array([[17, 33, 17, 33], [17, 33, 1, 17], [1, 17, 1, 17], [1, 17, 17, 33]])\n",
    "            \n",
    "        for k in range(0,4):     #loop over the 4 slidding 32X32 sub-windows of the larger 48x48 one\n",
    "            m1 = (rr[k] - 1) * winW16 + 1\n",
    "            m2 = m1 + 2 * winW16 - s             #indices of the slidding 33X33 window\n",
    "            n1 = (cc[k] - 1) * winW16 + 1\n",
    "            n2 = n1 + 2 * winW16 - s\n",
    "            \n",
    "            w = wPad[m1-1:m2, n1-1:n2].astype('double')      #sub window with size 33x33\n",
    "            \n",
    "            subWinX0 = x0 + (cc[k] - 1) * xSide16\n",
    "            subWinX1 = subWinX0 + xSide32\n",
    "            \n",
    "            subWinY0 = y0 + (rr[k] - 1) * ySide16\n",
    "            subWinY1 = subWinY0 + ySide32\n",
    "            \n",
    "            R = np.array([subWinX0, subWinX1, subWinY0, subWinY1])\n",
    "            \n",
    "           # [x, y, z, exitType] = getFrontInWindow(w, R, minTheta, minPopProp, minPopMeanDiff, minSinglePopCohesion, minGlobalPopCohesion, corners[k,:])\n",
    "            \n",
    "            #if (not exitType):\n",
    "               #  h = line('XData', x, 'YData', y, 'userdata', z, 'Tag', 'SSTfront')  \n",
    "                #Tag -> nas propriedades da imagem, a figure vai ter o Tag 'SSTfront' (em MATLAB)\n",
    "             #   h = plt.plot(x,y,z)       #DUVIDA\n",
    "                \n",
    "                \n",
    "    #DUVIDA se uso o drawnow?\n",
    "   # plt.show()"
   ]
  },
  {
   "cell_type": "markdown",
   "id": "97c922b3",
   "metadata": {},
   "source": [
    "#### Tudo isto (até à chamada da função está bem). Se depois surgir algum problema será na função ou nos plots"
   ]
  },
  {
   "cell_type": "code",
   "execution_count": null,
   "id": "0c49dcd7",
   "metadata": {},
   "outputs": [],
   "source": []
  },
  {
   "cell_type": "code",
   "execution_count": null,
   "id": "8c4c7f3c",
   "metadata": {},
   "outputs": [],
   "source": []
  },
  {
   "cell_type": "code",
   "execution_count": null,
   "id": "d4476ea2",
   "metadata": {},
   "outputs": [],
   "source": []
  },
  {
   "cell_type": "code",
   "execution_count": 158,
   "id": "518cc153",
   "metadata": {},
   "outputs": [],
   "source": [
    "#empty arrays de xdata, ydata e z\n",
    "xdata = np.array([])\n",
    "ydata = np.array([])\n",
    "coco = np.array([])\n",
    "exitType=0\n",
    "    \n",
    "\n",
    "mask = np.isnan(w).astype('int')                                  #CHECK\n",
    "haveNaNs = np.any(mask[:]).astype('int')  \n",
    "n_NaNs=0\n",
    "    \n",
    "if haveNaNs:\n",
    "    n_NaNs = sum(mask.flatten()[:])       #contar nr de 1s (NaNs na matriz w) que existem\n",
    "  #      if (n_NaNs/len(w.flatten())>0.5):     #window não pode ter mais de 50% dos seus pixeis como NaNs\n",
    "   #         exitType=-1\n",
    "    #        return\n",
    "        \n",
    "mi_ma = [np.nanmin(w), np.nanmax(w)]        #array com valor minimo e máximo de w\n",
    "n = math.ceil((mi_ma[1]-mi_ma[0])/0.02)     #numero de bins\n",
    "bins = np.arange(mi_ma[0], mi_ma[1], 0.02)      #definir a sequencia dos Bins e ter resultados iguais ao MATLAB\n",
    "[y, xout] = np.histogram(w[:], n, mi_ma)    #y->frequency counts, Xout->bin location   \n",
    "xout = np.mean(np.vstack([xout[0:-1],xout[1:]]), axis=0)\n",
    "    \n",
    "thresValue = xout[0]        \n",
    "totalCount = len(w.flatten()) - n_NaNs    #nr de pixeis não NaNs que existem\n",
    "threshPopACount = 0\n",
    "threshSeparation = -1\n",
    "threshPopAMean = 0\n",
    "threshPopBMean = 0\n",
    "    \n",
    "w[mask==1] = 0    #Replace NaNs with 0's (quando o mask é 1 substituir valores do array w por 0)\n",
    "totalSum = sum(w.flatten())\n",
    "totalSumSquares = sum(w.flatten()*w.flatten())\n",
    "\n",
    "################################### ATÉ AQUI ESTA TUDO BEM ####################################################\n",
    "    \n",
    "    "
   ]
  },
  {
   "cell_type": "code",
   "execution_count": null,
   "id": "b6de036f",
   "metadata": {},
   "outputs": [],
   "source": []
  },
  {
   "cell_type": "code",
   "execution_count": null,
   "id": "65319070",
   "metadata": {},
   "outputs": [],
   "source": []
  },
  {
   "cell_type": "code",
   "execution_count": 159,
   "id": "60911d21",
   "metadata": {},
   "outputs": [],
   "source": [
    "  #Neste for loop ele vai descobrir qual é a linha que vai fazer a melhor separação entre a média da população  \n",
    "    # da esquerda e da direita (A e B) - e esse vai ser o meu thresValue\n",
    "for k in range(1,n-1):     #ignore the first and last candidates (senão seria de 0 a n)\n",
    "    popASum = sum(y[0:k+1] * xout[0:k+1])\n",
    "    popBSum = sum(y[k+1:] * xout[k+1:])\n",
    "    popACount = sum(y[0:k+1])     #soma das frequências (y) do lado da população A\n",
    "    popBCount = sum(y[k+1:])     #soma das frequências (y) do lado da população B\n",
    "    \n",
    "    popAMean = popASum/popACount\n",
    "    popBMean = popBSum/popBCount\n",
    "    separation = popACount * popBCount * (popAMean - popBMean) * (popAMean - popBMean)\n",
    "    if separation>threshSeparation:\n",
    "        threshSeparation = separation\n",
    "        thresValue = xout[k]\n",
    "        threshPopACount = popACount\n",
    "        threshPopAMean = popAMean\n",
    "        threshPopBMean = popBMean\n",
    "        \n",
    "        \n",
    " ################################### ATÉ AQUI ESTA TUDO BEM ####################################################       "
   ]
  },
  {
   "cell_type": "code",
   "execution_count": null,
   "id": "beee8dfc",
   "metadata": {},
   "outputs": [],
   "source": []
  },
  {
   "cell_type": "code",
   "execution_count": null,
   "id": "a4dcc761",
   "metadata": {},
   "outputs": [],
   "source": []
  },
  {
   "cell_type": "code",
   "execution_count": 84,
   "id": "5de3def1",
   "metadata": {},
   "outputs": [
    {
     "data": {
      "text/plain": [
       "0.98095703125"
      ]
     },
     "execution_count": 84,
     "metadata": {},
     "output_type": "execute_result"
    }
   ],
   "source": [
    "globalCohesion"
   ]
  },
  {
   "cell_type": "code",
   "execution_count": 160,
   "id": "a20da8cc",
   "metadata": {},
   "outputs": [],
   "source": [
    "totalMean = totalSum/totalCount\n",
    "variance = totalSumSquares - (totalMean * totalMean * totalCount)\n",
    "theta = threshSeparation / (variance * totalCount)\n",
    "\n",
    "countANextToA = 0\n",
    "countBNextToB = 0\n",
    "countANextToAOrB = 0\n",
    "countBNextToAOrB = 0\n",
    "[n_rows, n_cols] = w.shape\n",
    "for col in range(0, n_cols-1):\n",
    "    for row in range(0, n_rows-1):\n",
    "        if (haveNaNs & (mask[row, col] | mask[row+1, col] | mask[row, col+1])):\n",
    "            continue\n",
    "                         \n",
    "            #examine the bottom neighbor\n",
    "        if (w[row, col] <= thresValue):           # se o pixel da matriz for menor que o elemento de separação\n",
    "            countANextToAOrB = countANextToAOrB + 1      #incrementar em 1 o countANextToAOrB\n",
    "            if (w[row+1, col] <= thresValue):            #se pixel da linha de baixo for menor que separação\n",
    "                countANextToA = countANextToA + 1        #incrementar countANextToA\n",
    "        else:                                            # se o pixel for maior que a separação\n",
    "            countBNextToAOrB = countBNextToAOrB + 1      #incrementar countBNextToAOrB\n",
    "            if (w[row+1, col] > thresValue):             #se o pixel da linha de baixo for maior que separação\n",
    "                countBNextToB = countBNextToB + 1        #incrementar countBNextToB\n",
    "                         \n",
    "                         \n",
    "            # Examine the right neighbor\n",
    "        if (w[row, col] <= thresValue):                     # se o pixel da matriz for menor que a separação      \n",
    "            countANextToAOrB = countANextToAOrB + 1         # incrementar countANextToAOrB\n",
    "            if (w[row, col+1] <= thresValue):               #se o pixel da direita for menor que separação\n",
    "                countANextToA = countANextToA + 1           # incrementar countANextToA\n",
    "        else:                                               # se o pixel da matriz for maior que a separação\n",
    "            countBNextToAOrB = countBNextToAOrB + 1         #incrementar countBNextToAOrB\n",
    "            if (w[row, col+1] > thresValue):                #se o pixel da direita for maior que separação\n",
    "                countBNextToB = countBNextToB +1            # incrementar countBNextToB\n",
    "                         \n",
    "                         \n",
    "popACohesion = countANextToA / countANextToAOrB\n",
    "popBCohesion = countBNextToB/ countBNextToAOrB\n",
    "globalCohesion = (countANextToA + countBNextToB) / (countANextToAOrB + countBNextToAOrB)\n",
    "\n",
    "################################## ATÉ AQUI ESTA TUDO BEM ####################################################       "
   ]
  },
  {
   "cell_type": "code",
   "execution_count": null,
   "id": "3e457075",
   "metadata": {},
   "outputs": [],
   "source": []
  },
  {
   "cell_type": "code",
   "execution_count": null,
   "id": "7d0bdf44",
   "metadata": {},
   "outputs": [],
   "source": []
  },
  {
   "cell_type": "code",
   "execution_count": 161,
   "id": "25a50a3d",
   "metadata": {},
   "outputs": [
    {
     "ename": "ValueError",
     "evalue": "The truth value of an array with more than one element is ambiguous. Use a.any() or a.all()",
     "output_type": "error",
     "traceback": [
      "\u001b[0;31m---------------------------------------------------------------------------\u001b[0m",
      "\u001b[0;31mValueError\u001b[0m                                Traceback (most recent call last)",
      "\u001b[0;32m/tmp/ipykernel_3260/2856109178.py\u001b[0m in \u001b[0;36m<module>\u001b[0;34m\u001b[0m\n\u001b[1;32m     12\u001b[0m         \u001b[0;31m# and the variable corners has one of its rows (the current to be retained sub-window)\u001b[0m\u001b[0;34m\u001b[0m\u001b[0;34m\u001b[0m\u001b[0;34m\u001b[0m\u001b[0m\n\u001b[1;32m     13\u001b[0m \u001b[0;34m\u001b[0m\u001b[0m\n\u001b[0;32m---> 14\u001b[0;31m     \u001b[0mX\u001b[0m \u001b[0;34m=\u001b[0m \u001b[0mX\u001b[0m\u001b[0;34m[\u001b[0m\u001b[0mnp\u001b[0m\u001b[0;34m.\u001b[0m\u001b[0marange\u001b[0m\u001b[0;34m(\u001b[0m\u001b[0mcorners\u001b[0m\u001b[0;34m[\u001b[0m\u001b[0;36m2\u001b[0m\u001b[0;34m]\u001b[0m\u001b[0;34m-\u001b[0m\u001b[0;36m1\u001b[0m\u001b[0;34m,\u001b[0m \u001b[0mcorners\u001b[0m\u001b[0;34m[\u001b[0m\u001b[0;36m3\u001b[0m\u001b[0;34m]\u001b[0m\u001b[0;34m)\u001b[0m\u001b[0;34m]\u001b[0m\u001b[0;34m\u001b[0m\u001b[0;34m\u001b[0m\u001b[0m\n\u001b[0m\u001b[1;32m     15\u001b[0m     \u001b[0mY\u001b[0m \u001b[0;34m=\u001b[0m \u001b[0mY\u001b[0m\u001b[0;34m[\u001b[0m\u001b[0mnp\u001b[0m\u001b[0;34m.\u001b[0m\u001b[0marange\u001b[0m\u001b[0;34m(\u001b[0m\u001b[0mcorners\u001b[0m\u001b[0;34m[\u001b[0m\u001b[0;36m0\u001b[0m\u001b[0;34m]\u001b[0m\u001b[0;34m-\u001b[0m\u001b[0;36m1\u001b[0m\u001b[0;34m,\u001b[0m \u001b[0mcorners\u001b[0m\u001b[0;34m[\u001b[0m\u001b[0;36m1\u001b[0m\u001b[0;34m]\u001b[0m\u001b[0;34m)\u001b[0m\u001b[0;34m]\u001b[0m\u001b[0;34m\u001b[0m\u001b[0;34m\u001b[0m\u001b[0m\n\u001b[1;32m     16\u001b[0m     \u001b[0mw\u001b[0m \u001b[0;34m=\u001b[0m \u001b[0mw\u001b[0m\u001b[0;34m[\u001b[0m\u001b[0mnp\u001b[0m\u001b[0;34m.\u001b[0m\u001b[0marange\u001b[0m\u001b[0;34m(\u001b[0m\u001b[0mcorners\u001b[0m\u001b[0;34m[\u001b[0m\u001b[0;36m0\u001b[0m\u001b[0;34m]\u001b[0m\u001b[0;34m,\u001b[0m \u001b[0mcorners\u001b[0m\u001b[0;34m[\u001b[0m\u001b[0;36m1\u001b[0m\u001b[0;34m]\u001b[0m\u001b[0;34m)\u001b[0m\u001b[0;34m.\u001b[0m\u001b[0mmin\u001b[0m\u001b[0;34m(\u001b[0m\u001b[0;34m)\u001b[0m\u001b[0;34m-\u001b[0m\u001b[0;36m1\u001b[0m\u001b[0;34m:\u001b[0m\u001b[0mnp\u001b[0m\u001b[0;34m.\u001b[0m\u001b[0marange\u001b[0m\u001b[0;34m(\u001b[0m\u001b[0mcorners\u001b[0m\u001b[0;34m[\u001b[0m\u001b[0;36m0\u001b[0m\u001b[0;34m]\u001b[0m\u001b[0;34m,\u001b[0m \u001b[0mcorners\u001b[0m\u001b[0;34m[\u001b[0m\u001b[0;36m1\u001b[0m\u001b[0;34m]\u001b[0m\u001b[0;34m)\u001b[0m\u001b[0;34m.\u001b[0m\u001b[0mmax\u001b[0m\u001b[0;34m(\u001b[0m\u001b[0;34m)\u001b[0m\u001b[0;34m+\u001b[0m\u001b[0;36m1\u001b[0m\u001b[0;34m,\u001b[0m \u001b[0mnp\u001b[0m\u001b[0;34m.\u001b[0m\u001b[0marange\u001b[0m\u001b[0;34m(\u001b[0m\u001b[0mcorners\u001b[0m\u001b[0;34m[\u001b[0m\u001b[0;36m2\u001b[0m\u001b[0;34m]\u001b[0m\u001b[0;34m,\u001b[0m \u001b[0mcorners\u001b[0m\u001b[0;34m[\u001b[0m\u001b[0;36m3\u001b[0m\u001b[0;34m]\u001b[0m\u001b[0;34m)\u001b[0m\u001b[0;34m.\u001b[0m\u001b[0mmin\u001b[0m\u001b[0;34m(\u001b[0m\u001b[0;34m)\u001b[0m\u001b[0;34m-\u001b[0m\u001b[0;36m1\u001b[0m\u001b[0;34m:\u001b[0m\u001b[0mnp\u001b[0m\u001b[0;34m.\u001b[0m\u001b[0marange\u001b[0m\u001b[0;34m(\u001b[0m\u001b[0mcorners\u001b[0m\u001b[0;34m[\u001b[0m\u001b[0;36m2\u001b[0m\u001b[0;34m]\u001b[0m\u001b[0;34m,\u001b[0m \u001b[0mcorners\u001b[0m\u001b[0;34m[\u001b[0m\u001b[0;36m3\u001b[0m\u001b[0;34m]\u001b[0m\u001b[0;34m)\u001b[0m\u001b[0;34m.\u001b[0m\u001b[0mmax\u001b[0m\u001b[0;34m(\u001b[0m\u001b[0;34m)\u001b[0m\u001b[0;34m+\u001b[0m\u001b[0;36m1\u001b[0m\u001b[0;34m]\u001b[0m\u001b[0;34m\u001b[0m\u001b[0;34m\u001b[0m\u001b[0m\n",
      "\u001b[0;31mValueError\u001b[0m: The truth value of an array with more than one element is ambiguous. Use a.any() or a.all()"
     ]
    }
   ],
   "source": [
    "#OK if we reach here we have a front. Compute its contour\n",
    "X = np.linspace(head[0], head[1], n_cols)    \n",
    "Y = np.linspace(head[2], head[3], n_rows)\n",
    "if (corners.size == 0):\n",
    "    #w = w.astype('double')    \n",
    "    if haveNaNs:\n",
    "        w[w==0] = np.nan      # Need to restore the NaNs to not invent new contours around zeros\n",
    "        \n",
    "    c = plt.contour(X, Y, w, thresValue)\n",
    "else:\n",
    "        #the 4 corners havethese indices [17,32,17,32; 17,32,1,16; 1,16,1,16;1,16,17,32]\n",
    "        # and the variable corners has one of its rows (the current to be retained sub-window)\n",
    "    \n",
    "    X = X[np.arange(corners[2]-1, corners[3])]\n",
    "    Y = Y[np.arange(corners[0]-1, corners[1])]\n",
    "    w = w[np.arange(corners[0], corners[1]).min()-1:np.arange(corners[0], corners[1]).max()+1, np.arange(corners[2], corners[3]).min()-1:np.arange(corners[2], corners[3]).max()+1]\n",
    "    \n",
    "        \n",
    "    if  haveNaNs:\n",
    "        w[w==0] = np.nan     # Need to restore the NaNs to not invent new contours around zeros\n",
    "                         \n",
    "    if (np.isnan(w))==True:    # if (all(np.isnan(w))==True)\n",
    "        c = np.array([])\n",
    "    else:\n",
    "        c = plt.contour(X, Y, w, thresValue)\n",
    "                         \n",
    "    limit = c.shape[1]\n",
    "    i = 1\n"
   ]
  },
  {
   "cell_type": "code",
   "execution_count": null,
   "id": "31017895",
   "metadata": {},
   "outputs": [],
   "source": []
  },
  {
   "cell_type": "code",
   "execution_count": null,
   "id": "ca43a605",
   "metadata": {},
   "outputs": [],
   "source": []
  },
  {
   "cell_type": "code",
   "execution_count": null,
   "id": "254249f2",
   "metadata": {},
   "outputs": [],
   "source": [
    "while i<limit:\n",
    "    npoints = c[1, i-1]\n",
    "    x = c[0, i:i+npoints-1]\n",
    "    y = c[1, i:i+npoints-1]\n",
    "            \n",
    "    if (x[0] == x[-1] | npoints<7):   #we dont want closed lines nor very short ones\n",
    "        i = i+npoints+1\n",
    "        continue\n",
    "                         \n",
    "    if (xdata.size == 0):\n",
    "        xdata = x    #first contour\n",
    "        ydata = y\n",
    "    else:\n",
    "        xdata = [xdata, np.nan, x]\n",
    "        ydata = [ydata, np.nan, y]\n",
    "                         \n",
    "    i = i+npoints+1\n",
    "    # xdata = c[0, 1:npoints+1]      ydata 0 c[1, 1:npoints+1]\n",
    "        \n",
    "z = thresValue\n",
    "        \n",
    "if (xdata.size == 0):\n",
    "    exitType = 5;\n",
    "    "
   ]
  },
  {
   "cell_type": "code",
   "execution_count": null,
   "id": "e6226fa2",
   "metadata": {},
   "outputs": [],
   "source": []
  },
  {
   "cell_type": "code",
   "execution_count": 142,
   "id": "e2b92d28",
   "metadata": {},
   "outputs": [
    {
     "data": {
      "text/plain": [
       "array([[17, 33, 17, 33],\n",
       "       [17, 33,  1, 17],\n",
       "       [ 1, 17,  1, 17],\n",
       "       [ 1, 17, 17, 33]])"
      ]
     },
     "execution_count": 142,
     "metadata": {},
     "output_type": "execute_result"
    }
   ],
   "source": [
    "corners"
   ]
  },
  {
   "cell_type": "code",
   "execution_count": 143,
   "id": "a757a68e",
   "metadata": {},
   "outputs": [
    {
     "data": {
      "text/plain": [
       "3"
      ]
     },
     "execution_count": 143,
     "metadata": {},
     "output_type": "execute_result"
    }
   ],
   "source": [
    "k"
   ]
  },
  {
   "cell_type": "code",
   "execution_count": 144,
   "id": "97063607",
   "metadata": {},
   "outputs": [
    {
     "data": {
      "text/plain": [
       "array([ 1, 17, 17, 33])"
      ]
     },
     "execution_count": 144,
     "metadata": {},
     "output_type": "execute_result"
    }
   ],
   "source": [
    "coco = corners[k,:]\n",
    "coco"
   ]
  },
  {
   "cell_type": "code",
   "execution_count": 151,
   "id": "0fc1bdae",
   "metadata": {},
   "outputs": [
    {
     "data": {
      "text/plain": [
       "array([17, 18, 19, 20, 21, 22, 23, 24, 25, 26, 27, 28, 29, 30, 31, 32, 33])"
      ]
     },
     "execution_count": 151,
     "metadata": {},
     "output_type": "execute_result"
    }
   ],
   "source": [
    "np.arange(coco[2], coco[3]+1)"
   ]
  },
  {
   "cell_type": "code",
   "execution_count": 148,
   "id": "016deb48",
   "metadata": {},
   "outputs": [
    {
     "data": {
      "text/plain": [
       "17"
      ]
     },
     "execution_count": 148,
     "metadata": {},
     "output_type": "execute_result"
    }
   ],
   "source": [
    "coco[2]"
   ]
  },
  {
   "cell_type": "code",
   "execution_count": null,
   "id": "3c7d531f",
   "metadata": {},
   "outputs": [],
   "source": []
  },
  {
   "cell_type": "code",
   "execution_count": null,
   "id": "3090a538",
   "metadata": {},
   "outputs": [],
   "source": []
  },
  {
   "cell_type": "code",
   "execution_count": null,
   "id": "93909a8d",
   "metadata": {},
   "outputs": [],
   "source": []
  }
 ],
 "metadata": {
  "kernelspec": {
   "display_name": "Python 3 (ipykernel)",
   "language": "python",
   "name": "python3"
  },
  "language_info": {
   "codemirror_mode": {
    "name": "ipython",
    "version": 3
   },
   "file_extension": ".py",
   "mimetype": "text/x-python",
   "name": "python",
   "nbconvert_exporter": "python",
   "pygments_lexer": "ipython3",
   "version": "3.8.10"
  }
 },
 "nbformat": 4,
 "nbformat_minor": 5
}
