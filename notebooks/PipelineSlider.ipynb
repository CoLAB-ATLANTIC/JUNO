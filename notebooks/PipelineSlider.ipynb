{
 "cells": [
  {
   "cell_type": "markdown",
   "id": "59d598f3",
   "metadata": {},
   "source": [
    "Em vez de estar sempre a usar os thresholds de 90/180, usar um slider. Por exemplo quando o slider esta nos 45, ele vai fazer o processamento todo (o pipeline todo) para me dar a imagem que em vez de ser com thresholds de 90/180, seja com 45/90. \n",
    "\n",
    "Tenho que começar a agrupar isto por funções, de maneira a que qnd altero o 1º parametro, tem-se um input e esse input vai fazer com que a imagem do canny vá mudar e vamos correr o algoritmo para as imagens em questão"
   ]
  },
  {
   "cell_type": "code",
   "execution_count": null,
   "id": "00b9a8b7",
   "metadata": {},
   "outputs": [],
   "source": []
  },
  {
   "cell_type": "code",
   "execution_count": 23,
   "id": "e52b80d8",
   "metadata": {},
   "outputs": [],
   "source": [
    "import pandas as pd\n",
    "import numpy as np\n",
    "import matplotlib.pyplot as plt\n",
    "import seaborn as sns\n",
    "import netCDF4 as nc\n",
    "import cv2\n",
    "import datetime\n",
    "import xarray as xr\n",
    "import os\n",
    "plt.rcParams[\"figure.figsize\"] = 10, 8\n",
    "%matplotlib inline"
   ]
  },
  {
   "cell_type": "code",
   "execution_count": null,
   "id": "b667c8f8",
   "metadata": {},
   "outputs": [],
   "source": []
  },
  {
   "cell_type": "code",
   "execution_count": null,
   "id": "832fdc4a",
   "metadata": {},
   "outputs": [],
   "source": []
  },
  {
   "cell_type": "markdown",
   "id": "350a6dc7",
   "metadata": {},
   "source": [
    "### Importação dos dados de Atlantic-Iberian Biscay Irish- Ocean Physics Reanalysis\n",
    "\n",
    "Importar o ficheiro netCDF da pasta data do repositório e depois converte-lo para o formato de dataframa\n"
   ]
  },
  {
   "cell_type": "code",
   "execution_count": 24,
   "id": "45cb6d40",
   "metadata": {},
   "outputs": [
    {
     "data": {
      "text/plain": [
       "'/home/luisfigueiredo/JUNO/notebooks'"
      ]
     },
     "execution_count": 24,
     "metadata": {},
     "output_type": "execute_result"
    }
   ],
   "source": [
    "current_path = os.getcwd()\n",
    "current_path"
   ]
  },
  {
   "cell_type": "code",
   "execution_count": 25,
   "id": "d20f04b5",
   "metadata": {},
   "outputs": [
    {
     "data": {
      "text/plain": [
       "'/home/luisfigueiredo/JUNO/notebooks/../data'"
      ]
     },
     "execution_count": 25,
     "metadata": {},
     "output_type": "execute_result"
    }
   ],
   "source": [
    "from pathlib import Path\n",
    "\n",
    "data_folder = os.path.join(current_path,\"../data\")\n",
    "data_folder"
   ]
  },
  {
   "cell_type": "code",
   "execution_count": 26,
   "id": "b5543a12",
   "metadata": {},
   "outputs": [],
   "source": [
    "nc_path = os.path.join(data_folder, \"IBI2014-2019.nc\")\n",
    "ds = nc.Dataset(nc_path)\n",
    "data = xr.load_dataset(nc_path)"
   ]
  },
  {
   "cell_type": "code",
   "execution_count": 27,
   "id": "c3c171e1",
   "metadata": {},
   "outputs": [
    {
     "name": "stdout",
     "output_type": "stream",
     "text": [
      "<class 'netCDF4._netCDF4.Dataset'>\n",
      "root group (NETCDF4 data model, file format HDF5):\n",
      "    Conventions: CF-1.0\n",
      "    source: CMEMS IBI-MFC\n",
      "    institution: Puertos del Estado (PdE) - Mercator-Ocean (MO)\n",
      "    references: http://marine.copernicus.eu\n",
      "    title: CMEMS IBI REANALYSIS: DAILY PHYSICAL PRODUCTS \n",
      "    easting: longitude\n",
      "    northing: latitude\n",
      "    domain_name: IBI12\n",
      "    FROM_ORIGINAL_FILE__field_type: mean\n",
      "    field_date: 20191224\n",
      "    FROM_ORIGINAL_FILE__longitude_min: -19.f\n",
      "    FROM_ORIGINAL_FILE__longitude_max: 5.f\n",
      "    FROM_ORIGINAL_FILE__latitude_min: 26.f\n",
      "    FROM_ORIGINAL_FILE__latitude_max: 56.f\n",
      "    z_min: 0.50576f\n",
      "    z_max: 5698.061f\n",
      "    contact: mailto: servicedesk.cmems@mercator-ocean.eu\n",
      "    bulletin_date: 2020-12-01\n",
      "    bulletin_type: Reanalysis\n",
      "    _CoordSysBuilder: ucar.nc2.dataset.conv.CF1Convention\n",
      "    comment: \n",
      "    history: Data extracted from dataset http://localhost:8080/thredds/dodsC/cmems_mod_ibi_phy_my_0.083deg-3D_P1D-m\n",
      "    dimensions(sizes): depth(1), latitude(121), time(2184), longitude(169)\n",
      "    variables(dimensions): float32 depth(depth), float32 latitude(latitude), int16 thetao(time, depth, latitude, longitude), int64 time(time), float32 longitude(longitude)\n",
      "    groups: \n"
     ]
    }
   ],
   "source": [
    "print(ds)     # informações relativas ao ficheiro netCDF"
   ]
  },
  {
   "cell_type": "code",
   "execution_count": 28,
   "id": "00ed503d",
   "metadata": {},
   "outputs": [],
   "source": [
    "#Converter o ficheiro netCDF para uma dataframe\n",
    "datadf = data.to_dataframe()\n",
    "df2014_2019 = datadf.reset_index()"
   ]
  },
  {
   "cell_type": "code",
   "execution_count": 29,
   "id": "0dc55e16",
   "metadata": {},
   "outputs": [
    {
     "data": {
      "text/html": [
       "<div>\n",
       "<style scoped>\n",
       "    .dataframe tbody tr th:only-of-type {\n",
       "        vertical-align: middle;\n",
       "    }\n",
       "\n",
       "    .dataframe tbody tr th {\n",
       "        vertical-align: top;\n",
       "    }\n",
       "\n",
       "    .dataframe thead th {\n",
       "        text-align: right;\n",
       "    }\n",
       "</style>\n",
       "<table border=\"1\" class=\"dataframe\">\n",
       "  <thead>\n",
       "    <tr style=\"text-align: right;\">\n",
       "      <th></th>\n",
       "      <th>latitude</th>\n",
       "      <th>longitude</th>\n",
       "      <th>time</th>\n",
       "      <th>thetao</th>\n",
       "    </tr>\n",
       "  </thead>\n",
       "  <tbody>\n",
       "    <tr>\n",
       "      <th>0</th>\n",
       "      <td>35.0</td>\n",
       "      <td>-19.0</td>\n",
       "      <td>2014-01-01 12:00:00</td>\n",
       "      <td>18.316000</td>\n",
       "    </tr>\n",
       "    <tr>\n",
       "      <th>1</th>\n",
       "      <td>35.0</td>\n",
       "      <td>-19.0</td>\n",
       "      <td>2014-01-02 12:00:00</td>\n",
       "      <td>18.309000</td>\n",
       "    </tr>\n",
       "    <tr>\n",
       "      <th>2</th>\n",
       "      <td>35.0</td>\n",
       "      <td>-19.0</td>\n",
       "      <td>2014-01-03 12:00:00</td>\n",
       "      <td>18.316000</td>\n",
       "    </tr>\n",
       "    <tr>\n",
       "      <th>3</th>\n",
       "      <td>35.0</td>\n",
       "      <td>-19.0</td>\n",
       "      <td>2014-01-04 12:00:00</td>\n",
       "      <td>18.273001</td>\n",
       "    </tr>\n",
       "    <tr>\n",
       "      <th>4</th>\n",
       "      <td>35.0</td>\n",
       "      <td>-19.0</td>\n",
       "      <td>2014-01-05 12:00:00</td>\n",
       "      <td>18.230000</td>\n",
       "    </tr>\n",
       "    <tr>\n",
       "      <th>...</th>\n",
       "      <td>...</td>\n",
       "      <td>...</td>\n",
       "      <td>...</td>\n",
       "      <td>...</td>\n",
       "    </tr>\n",
       "    <tr>\n",
       "      <th>44660611</th>\n",
       "      <td>45.0</td>\n",
       "      <td>-5.0</td>\n",
       "      <td>2019-12-20 12:00:00</td>\n",
       "      <td>13.619000</td>\n",
       "    </tr>\n",
       "    <tr>\n",
       "      <th>44660612</th>\n",
       "      <td>45.0</td>\n",
       "      <td>-5.0</td>\n",
       "      <td>2019-12-21 12:00:00</td>\n",
       "      <td>13.559000</td>\n",
       "    </tr>\n",
       "    <tr>\n",
       "      <th>44660613</th>\n",
       "      <td>45.0</td>\n",
       "      <td>-5.0</td>\n",
       "      <td>2019-12-22 12:00:00</td>\n",
       "      <td>13.458000</td>\n",
       "    </tr>\n",
       "    <tr>\n",
       "      <th>44660614</th>\n",
       "      <td>45.0</td>\n",
       "      <td>-5.0</td>\n",
       "      <td>2019-12-23 12:00:00</td>\n",
       "      <td>13.400000</td>\n",
       "    </tr>\n",
       "    <tr>\n",
       "      <th>44660615</th>\n",
       "      <td>45.0</td>\n",
       "      <td>-5.0</td>\n",
       "      <td>2019-12-24 12:00:00</td>\n",
       "      <td>13.390000</td>\n",
       "    </tr>\n",
       "  </tbody>\n",
       "</table>\n",
       "<p>44660616 rows × 4 columns</p>\n",
       "</div>"
      ],
      "text/plain": [
       "          latitude  longitude                time     thetao\n",
       "0             35.0      -19.0 2014-01-01 12:00:00  18.316000\n",
       "1             35.0      -19.0 2014-01-02 12:00:00  18.309000\n",
       "2             35.0      -19.0 2014-01-03 12:00:00  18.316000\n",
       "3             35.0      -19.0 2014-01-04 12:00:00  18.273001\n",
       "4             35.0      -19.0 2014-01-05 12:00:00  18.230000\n",
       "...            ...        ...                 ...        ...\n",
       "44660611      45.0       -5.0 2019-12-20 12:00:00  13.619000\n",
       "44660612      45.0       -5.0 2019-12-21 12:00:00  13.559000\n",
       "44660613      45.0       -5.0 2019-12-22 12:00:00  13.458000\n",
       "44660614      45.0       -5.0 2019-12-23 12:00:00  13.400000\n",
       "44660615      45.0       -5.0 2019-12-24 12:00:00  13.390000\n",
       "\n",
       "[44660616 rows x 4 columns]"
      ]
     },
     "execution_count": 29,
     "metadata": {},
     "output_type": "execute_result"
    }
   ],
   "source": [
    "df2014_2019 = df2014_2019.drop(['depth'], axis=1)     #dropar coluna 'depth' (não é necessária pq é sempre igual)\n",
    "df2014_2019   #os dados .nc estão agora no formato de uma dataframe"
   ]
  },
  {
   "cell_type": "code",
   "execution_count": 30,
   "id": "a282f148",
   "metadata": {},
   "outputs": [
    {
     "data": {
      "text/html": [
       "<div>\n",
       "<style scoped>\n",
       "    .dataframe tbody tr th:only-of-type {\n",
       "        vertical-align: middle;\n",
       "    }\n",
       "\n",
       "    .dataframe tbody tr th {\n",
       "        vertical-align: top;\n",
       "    }\n",
       "\n",
       "    .dataframe thead th {\n",
       "        text-align: right;\n",
       "    }\n",
       "</style>\n",
       "<table border=\"1\" class=\"dataframe\">\n",
       "  <thead>\n",
       "    <tr style=\"text-align: right;\">\n",
       "      <th></th>\n",
       "      <th>time</th>\n",
       "      <th>latitude</th>\n",
       "      <th>longitude</th>\n",
       "      <th>thetao</th>\n",
       "    </tr>\n",
       "  </thead>\n",
       "  <tbody>\n",
       "    <tr>\n",
       "      <th>0</th>\n",
       "      <td>2014-01-01 12:00:00</td>\n",
       "      <td>35.0</td>\n",
       "      <td>-19.0</td>\n",
       "      <td>18.316000</td>\n",
       "    </tr>\n",
       "    <tr>\n",
       "      <th>1</th>\n",
       "      <td>2014-01-02 12:00:00</td>\n",
       "      <td>35.0</td>\n",
       "      <td>-19.0</td>\n",
       "      <td>18.309000</td>\n",
       "    </tr>\n",
       "    <tr>\n",
       "      <th>2</th>\n",
       "      <td>2014-01-03 12:00:00</td>\n",
       "      <td>35.0</td>\n",
       "      <td>-19.0</td>\n",
       "      <td>18.316000</td>\n",
       "    </tr>\n",
       "    <tr>\n",
       "      <th>3</th>\n",
       "      <td>2014-01-04 12:00:00</td>\n",
       "      <td>35.0</td>\n",
       "      <td>-19.0</td>\n",
       "      <td>18.273001</td>\n",
       "    </tr>\n",
       "    <tr>\n",
       "      <th>4</th>\n",
       "      <td>2014-01-05 12:00:00</td>\n",
       "      <td>35.0</td>\n",
       "      <td>-19.0</td>\n",
       "      <td>18.230000</td>\n",
       "    </tr>\n",
       "    <tr>\n",
       "      <th>...</th>\n",
       "      <td>...</td>\n",
       "      <td>...</td>\n",
       "      <td>...</td>\n",
       "      <td>...</td>\n",
       "    </tr>\n",
       "    <tr>\n",
       "      <th>44660611</th>\n",
       "      <td>2019-12-20 12:00:00</td>\n",
       "      <td>45.0</td>\n",
       "      <td>-5.0</td>\n",
       "      <td>13.619000</td>\n",
       "    </tr>\n",
       "    <tr>\n",
       "      <th>44660612</th>\n",
       "      <td>2019-12-21 12:00:00</td>\n",
       "      <td>45.0</td>\n",
       "      <td>-5.0</td>\n",
       "      <td>13.559000</td>\n",
       "    </tr>\n",
       "    <tr>\n",
       "      <th>44660613</th>\n",
       "      <td>2019-12-22 12:00:00</td>\n",
       "      <td>45.0</td>\n",
       "      <td>-5.0</td>\n",
       "      <td>13.458000</td>\n",
       "    </tr>\n",
       "    <tr>\n",
       "      <th>44660614</th>\n",
       "      <td>2019-12-23 12:00:00</td>\n",
       "      <td>45.0</td>\n",
       "      <td>-5.0</td>\n",
       "      <td>13.400000</td>\n",
       "    </tr>\n",
       "    <tr>\n",
       "      <th>44660615</th>\n",
       "      <td>2019-12-24 12:00:00</td>\n",
       "      <td>45.0</td>\n",
       "      <td>-5.0</td>\n",
       "      <td>13.390000</td>\n",
       "    </tr>\n",
       "  </tbody>\n",
       "</table>\n",
       "<p>44660616 rows × 4 columns</p>\n",
       "</div>"
      ],
      "text/plain": [
       "                        time  latitude  longitude     thetao\n",
       "0        2014-01-01 12:00:00      35.0      -19.0  18.316000\n",
       "1        2014-01-02 12:00:00      35.0      -19.0  18.309000\n",
       "2        2014-01-03 12:00:00      35.0      -19.0  18.316000\n",
       "3        2014-01-04 12:00:00      35.0      -19.0  18.273001\n",
       "4        2014-01-05 12:00:00      35.0      -19.0  18.230000\n",
       "...                      ...       ...        ...        ...\n",
       "44660611 2019-12-20 12:00:00      45.0       -5.0  13.619000\n",
       "44660612 2019-12-21 12:00:00      45.0       -5.0  13.559000\n",
       "44660613 2019-12-22 12:00:00      45.0       -5.0  13.458000\n",
       "44660614 2019-12-23 12:00:00      45.0       -5.0  13.400000\n",
       "44660615 2019-12-24 12:00:00      45.0       -5.0  13.390000\n",
       "\n",
       "[44660616 rows x 4 columns]"
      ]
     },
     "execution_count": 30,
     "metadata": {},
     "output_type": "execute_result"
    }
   ],
   "source": [
    "df2014_2019 = df2014_2019[['time', 'latitude', 'longitude', 'thetao']]    #reorganizar as colunas da dataframe\n",
    "df2014_2019"
   ]
  },
  {
   "cell_type": "code",
   "execution_count": 12,
   "id": "3b689ca1",
   "metadata": {},
   "outputs": [],
   "source": [
    "# Guardar esta df no nosso repositorio nao e grande ideia porque ocupa 2,5GB"
   ]
  },
  {
   "cell_type": "code",
   "execution_count": null,
   "id": "f9a94b70",
   "metadata": {},
   "outputs": [],
   "source": []
  },
  {
   "cell_type": "code",
   "execution_count": null,
   "id": "7cb671ad",
   "metadata": {},
   "outputs": [],
   "source": []
  },
  {
   "cell_type": "markdown",
   "id": "2c389e1d",
   "metadata": {},
   "source": [
    "### Gerar array com os dias para os quais quero depois aplicar o canny\n",
    "\n",
    "É criado o dicionário days que tem muitas dataframes e depois dá para aceder a estas df individualmente com os valores do array que são extraidos através do specific day"
   ]
  },
  {
   "cell_type": "code",
   "execution_count": 31,
   "id": "91c73455",
   "metadata": {},
   "outputs": [],
   "source": [
    "dataf2014_2019 = df2014_2019.copy()"
   ]
  },
  {
   "cell_type": "code",
   "execution_count": 32,
   "id": "dbb74a13",
   "metadata": {},
   "outputs": [],
   "source": [
    "specificday = [pd.Timestamp(dd).strftime(\"%Y-%m-%d %H:%M:%S\") for dd in dataf2014_2019['time'].unique()]"
   ]
  },
  {
   "cell_type": "code",
   "execution_count": 33,
   "id": "1fb497c0",
   "metadata": {},
   "outputs": [],
   "source": [
    "specificday = np.array(specificday, dtype=np.object)"
   ]
  },
  {
   "cell_type": "code",
   "execution_count": 34,
   "id": "1327236a",
   "metadata": {},
   "outputs": [
    {
     "data": {
      "text/plain": [
       "array(['2014-01-01 12:00:00', '2014-01-02 12:00:00',\n",
       "       '2014-01-03 12:00:00', ..., '2019-12-22 12:00:00',\n",
       "       '2019-12-23 12:00:00', '2019-12-24 12:00:00'], dtype=object)"
      ]
     },
     "execution_count": 34,
     "metadata": {},
     "output_type": "execute_result"
    }
   ],
   "source": [
    "specificday  "
   ]
  },
  {
   "cell_type": "code",
   "execution_count": 35,
   "id": "8e501cf5",
   "metadata": {},
   "outputs": [],
   "source": [
    "#create a dictionary to store the data frames for each day\n",
    "days = {elem : pd.DataFrame for elem in specificday}\n",
    "\n",
    "for key in days.keys():    #keys são os dias do dicionário de dataframes days\n",
    "    days[key] = dataf2014_2019[:][dataf2014_2019['time'] == key]"
   ]
  },
  {
   "cell_type": "code",
   "execution_count": 16,
   "id": "1beea4de",
   "metadata": {},
   "outputs": [
    {
     "ename": "NameError",
     "evalue": "name 'specificday' is not defined",
     "output_type": "error",
     "traceback": [
      "\u001b[0;31m---------------------------------------------------------------------------\u001b[0m",
      "\u001b[0;31mNameError\u001b[0m                                 Traceback (most recent call last)",
      "\u001b[0;32m/tmp/ipykernel_87939/2121162587.py\u001b[0m in \u001b[0;36m<module>\u001b[0;34m\u001b[0m\n\u001b[0;32m----> 1\u001b[0;31m \u001b[0mond2014_2019\u001b[0m \u001b[0;34m=\u001b[0m \u001b[0mspecificday\u001b[0m\u001b[0;34m[\u001b[0m\u001b[0;34m(\u001b[0m\u001b[0mspecificday\u001b[0m\u001b[0;34m>=\u001b[0m\u001b[0;34m'2014-10-01 12:00:00'\u001b[0m\u001b[0;34m)\u001b[0m \u001b[0;34m&\u001b[0m \u001b[0;34m(\u001b[0m\u001b[0mspecificday\u001b[0m \u001b[0;34m<=\u001b[0m \u001b[0;34m'2014-12-31 12:00:00'\u001b[0m\u001b[0;34m)\u001b[0m \u001b[0;34m+\u001b[0m \u001b[0;34m(\u001b[0m\u001b[0mspecificday\u001b[0m\u001b[0;34m>=\u001b[0m\u001b[0;34m'2015-10-01 12:00:00'\u001b[0m\u001b[0;34m)\u001b[0m \u001b[0;34m&\u001b[0m \u001b[0;34m(\u001b[0m\u001b[0mspecificday\u001b[0m \u001b[0;34m<=\u001b[0m \u001b[0;34m'2015-12-31 12:00:00'\u001b[0m\u001b[0;34m)\u001b[0m\u001b[0;34m+\u001b[0m\u001b[0;34m(\u001b[0m\u001b[0mspecificday\u001b[0m\u001b[0;34m>=\u001b[0m\u001b[0;34m'2016-10-01 12:00:00'\u001b[0m\u001b[0;34m)\u001b[0m \u001b[0;34m&\u001b[0m \u001b[0;34m(\u001b[0m\u001b[0mspecificday\u001b[0m \u001b[0;34m<=\u001b[0m \u001b[0;34m'2016-12-31 12:00:00'\u001b[0m\u001b[0;34m)\u001b[0m\u001b[0;34m+\u001b[0m\u001b[0;34m(\u001b[0m\u001b[0mspecificday\u001b[0m\u001b[0;34m>=\u001b[0m\u001b[0;34m'2017-10-01 12:00:00'\u001b[0m\u001b[0;34m)\u001b[0m \u001b[0;34m&\u001b[0m \u001b[0;34m(\u001b[0m\u001b[0mspecificday\u001b[0m \u001b[0;34m<=\u001b[0m \u001b[0;34m'2017-12-31 12:00:00'\u001b[0m\u001b[0;34m)\u001b[0m\u001b[0;34m+\u001b[0m\u001b[0;34m(\u001b[0m\u001b[0mspecificday\u001b[0m\u001b[0;34m>=\u001b[0m\u001b[0;34m'2018-10-01 12:00:00'\u001b[0m\u001b[0;34m)\u001b[0m \u001b[0;34m&\u001b[0m \u001b[0;34m(\u001b[0m\u001b[0mspecificday\u001b[0m \u001b[0;34m<=\u001b[0m \u001b[0;34m'2018-12-31 12:00:00'\u001b[0m\u001b[0;34m)\u001b[0m\u001b[0;34m+\u001b[0m\u001b[0;34m(\u001b[0m\u001b[0mspecificday\u001b[0m\u001b[0;34m>=\u001b[0m\u001b[0;34m'2019-10-01 12:00:00'\u001b[0m\u001b[0;34m)\u001b[0m \u001b[0;34m&\u001b[0m \u001b[0;34m(\u001b[0m\u001b[0mspecificday\u001b[0m \u001b[0;34m<=\u001b[0m \u001b[0;34m'2019-12-31 12:00:00'\u001b[0m\u001b[0;34m)\u001b[0m\u001b[0;34m]\u001b[0m\u001b[0;34m\u001b[0m\u001b[0;34m\u001b[0m\u001b[0m\n\u001b[0m\u001b[1;32m      2\u001b[0m \u001b[0mond2014_2019\u001b[0m\u001b[0;34m\u001b[0m\u001b[0;34m\u001b[0m\u001b[0m\n",
      "\u001b[0;31mNameError\u001b[0m: name 'specificday' is not defined"
     ]
    }
   ],
   "source": [
    "ond2014_2019 = specificday[(specificday>='2014-10-01 12:00:00') & (specificday <= '2014-12-31 12:00:00') + (specificday>='2015-10-01 12:00:00') & (specificday <= '2015-12-31 12:00:00')+(specificday>='2016-10-01 12:00:00') & (specificday <= '2016-12-31 12:00:00')+(specificday>='2017-10-01 12:00:00') & (specificday <= '2017-12-31 12:00:00')+(specificday>='2018-10-01 12:00:00') & (specificday <= '2018-12-31 12:00:00')+(specificday>='2019-10-01 12:00:00') & (specificday <= '2019-12-31 12:00:00')]\n",
    "ond2014_2019"
   ]
  },
  {
   "cell_type": "code",
   "execution_count": null,
   "id": "474c5694",
   "metadata": {},
   "outputs": [],
   "source": []
  },
  {
   "cell_type": "markdown",
   "id": "d9d0b103",
   "metadata": {},
   "source": [
    "### Definir funções para todo o pipeline"
   ]
  },
  {
   "cell_type": "code",
   "execution_count": null,
   "id": "c776f084",
   "metadata": {},
   "outputs": [],
   "source": []
  },
  {
   "cell_type": "code",
   "execution_count": 17,
   "id": "12da2ac9",
   "metadata": {},
   "outputs": [],
   "source": [
    "def get_data(df):\n",
    "    \n",
    "    specificday = [pd.Timestamp(dd).strftime(\"%Y-%m-%d %H:%M:%S\") for dd in df['time'].unique()]\n",
    "    specificday = np.array(specificday, dtype=np.object)\n",
    "  \n",
    "    #create a dictionary to store the data frames for each day\n",
    "    days = {elem : pd.DataFrame for elem in specificday}\n",
    "\n",
    "    for key in days.keys():\n",
    "        days[key] = df[:][df['time'] == key]\n",
    "        \n",
    "    return days, specificday\n",
    "    "
   ]
  },
  {
   "cell_type": "code",
   "execution_count": null,
   "id": "67801a95",
   "metadata": {},
   "outputs": [],
   "source": []
  },
  {
   "cell_type": "code",
   "execution_count": 22,
   "id": "eadd16a7",
   "metadata": {},
   "outputs": [
    {
     "ename": "ValueError",
     "evalue": "too many values to unpack (expected 2)",
     "output_type": "error",
     "traceback": [
      "\u001b[0;31m---------------------------------------------------------------------------\u001b[0m",
      "\u001b[0;31mValueError\u001b[0m                                Traceback (most recent call last)",
      "\u001b[0;32m/tmp/ipykernel_87939/2834291307.py\u001b[0m in \u001b[0;36m<module>\u001b[0;34m\u001b[0m\n\u001b[0;32m----> 1\u001b[0;31m \u001b[0mdays\u001b[0m\u001b[0;34m,\u001b[0m \u001b[0mspecificdat\u001b[0m \u001b[0;34m=\u001b[0m \u001b[0mget_data\u001b[0m\u001b[0;34m(\u001b[0m\u001b[0mdf2014_2019\u001b[0m\u001b[0;34m)\u001b[0m\u001b[0;34m\u001b[0m\u001b[0;34m\u001b[0m\u001b[0m\n\u001b[0m",
      "\u001b[0;31mValueError\u001b[0m: too many values to unpack (expected 2)"
     ]
    }
   ],
   "source": [
    "days, specificdat = get_data(df2014_2019)"
   ]
  },
  {
   "cell_type": "code",
   "execution_count": 11,
   "id": "8a9baac9",
   "metadata": {},
   "outputs": [
    {
     "data": {
      "text/html": [
       "<div>\n",
       "<style scoped>\n",
       "    .dataframe tbody tr th:only-of-type {\n",
       "        vertical-align: middle;\n",
       "    }\n",
       "\n",
       "    .dataframe tbody tr th {\n",
       "        vertical-align: top;\n",
       "    }\n",
       "\n",
       "    .dataframe thead th {\n",
       "        text-align: right;\n",
       "    }\n",
       "</style>\n",
       "<table border=\"1\" class=\"dataframe\">\n",
       "  <thead>\n",
       "    <tr style=\"text-align: right;\">\n",
       "      <th></th>\n",
       "      <th>time</th>\n",
       "      <th>latitude</th>\n",
       "      <th>longitude</th>\n",
       "      <th>thetao</th>\n",
       "    </tr>\n",
       "  </thead>\n",
       "  <tbody>\n",
       "    <tr>\n",
       "      <th>281</th>\n",
       "      <td>2014-10-09 12:00:00</td>\n",
       "      <td>35.0</td>\n",
       "      <td>-19.000000</td>\n",
       "      <td>21.992001</td>\n",
       "    </tr>\n",
       "    <tr>\n",
       "      <th>2465</th>\n",
       "      <td>2014-10-09 12:00:00</td>\n",
       "      <td>35.0</td>\n",
       "      <td>-18.916666</td>\n",
       "      <td>21.996000</td>\n",
       "    </tr>\n",
       "    <tr>\n",
       "      <th>4649</th>\n",
       "      <td>2014-10-09 12:00:00</td>\n",
       "      <td>35.0</td>\n",
       "      <td>-18.833334</td>\n",
       "      <td>22.090000</td>\n",
       "    </tr>\n",
       "    <tr>\n",
       "      <th>6833</th>\n",
       "      <td>2014-10-09 12:00:00</td>\n",
       "      <td>35.0</td>\n",
       "      <td>-18.750000</td>\n",
       "      <td>22.254002</td>\n",
       "    </tr>\n",
       "    <tr>\n",
       "      <th>9017</th>\n",
       "      <td>2014-10-09 12:00:00</td>\n",
       "      <td>35.0</td>\n",
       "      <td>-18.666666</td>\n",
       "      <td>22.417999</td>\n",
       "    </tr>\n",
       "    <tr>\n",
       "      <th>...</th>\n",
       "      <td>...</td>\n",
       "      <td>...</td>\n",
       "      <td>...</td>\n",
       "      <td>...</td>\n",
       "    </tr>\n",
       "    <tr>\n",
       "      <th>44649977</th>\n",
       "      <td>2014-10-09 12:00:00</td>\n",
       "      <td>45.0</td>\n",
       "      <td>-5.333334</td>\n",
       "      <td>19.200001</td>\n",
       "    </tr>\n",
       "    <tr>\n",
       "      <th>44652161</th>\n",
       "      <td>2014-10-09 12:00:00</td>\n",
       "      <td>45.0</td>\n",
       "      <td>-5.250000</td>\n",
       "      <td>19.305000</td>\n",
       "    </tr>\n",
       "    <tr>\n",
       "      <th>44654345</th>\n",
       "      <td>2014-10-09 12:00:00</td>\n",
       "      <td>45.0</td>\n",
       "      <td>-5.166667</td>\n",
       "      <td>19.447001</td>\n",
       "    </tr>\n",
       "    <tr>\n",
       "      <th>44656529</th>\n",
       "      <td>2014-10-09 12:00:00</td>\n",
       "      <td>45.0</td>\n",
       "      <td>-5.083334</td>\n",
       "      <td>19.563999</td>\n",
       "    </tr>\n",
       "    <tr>\n",
       "      <th>44658713</th>\n",
       "      <td>2014-10-09 12:00:00</td>\n",
       "      <td>45.0</td>\n",
       "      <td>-5.000000</td>\n",
       "      <td>19.602001</td>\n",
       "    </tr>\n",
       "  </tbody>\n",
       "</table>\n",
       "<p>20449 rows × 4 columns</p>\n",
       "</div>"
      ],
      "text/plain": [
       "                        time  latitude  longitude     thetao\n",
       "281      2014-10-09 12:00:00      35.0 -19.000000  21.992001\n",
       "2465     2014-10-09 12:00:00      35.0 -18.916666  21.996000\n",
       "4649     2014-10-09 12:00:00      35.0 -18.833334  22.090000\n",
       "6833     2014-10-09 12:00:00      35.0 -18.750000  22.254002\n",
       "9017     2014-10-09 12:00:00      35.0 -18.666666  22.417999\n",
       "...                      ...       ...        ...        ...\n",
       "44649977 2014-10-09 12:00:00      45.0  -5.333334  19.200001\n",
       "44652161 2014-10-09 12:00:00      45.0  -5.250000  19.305000\n",
       "44654345 2014-10-09 12:00:00      45.0  -5.166667  19.447001\n",
       "44656529 2014-10-09 12:00:00      45.0  -5.083334  19.563999\n",
       "44658713 2014-10-09 12:00:00      45.0  -5.000000  19.602001\n",
       "\n",
       "[20449 rows x 4 columns]"
      ]
     },
     "execution_count": 11,
     "metadata": {},
     "output_type": "execute_result"
    }
   ],
   "source": [
    "days['2014-10-09 12:00:00']"
   ]
  },
  {
   "cell_type": "code",
   "execution_count": null,
   "id": "15b33df7",
   "metadata": {},
   "outputs": [],
   "source": []
  },
  {
   "cell_type": "code",
   "execution_count": null,
   "id": "cbb88142",
   "metadata": {},
   "outputs": [],
   "source": []
  },
  {
   "cell_type": "code",
   "execution_count": null,
   "id": "a8ceb6b9",
   "metadata": {},
   "outputs": [],
   "source": []
  },
  {
   "cell_type": "code",
   "execution_count": null,
   "id": "58018996",
   "metadata": {},
   "outputs": [],
   "source": []
  },
  {
   "cell_type": "code",
   "execution_count": null,
   "id": "2031bbea",
   "metadata": {},
   "outputs": [],
   "source": []
  },
  {
   "cell_type": "code",
   "execution_count": 18,
   "id": "ad17f1e9",
   "metadata": {},
   "outputs": [],
   "source": [
    "def canny_creation(days, Tmax):\n",
    "    \n",
    "    \"\"\"\n",
    "    Função que pega numa df com temperaturas relativas a um certo dia e retorna a matriz obtida após \n",
    "    aplicação do Canny com a mask para a zona continental\n",
    "    \"\"\"\n",
    "    \n",
    "    #Pegar na df dum dia e converte-la num np array com os valores de Temperatura para os valores de long e lati\n",
    "    Temp = days.pivot_table(index='longitude', columns='latitude', values='thetao').T.values\n",
    "    \n",
    "    #Converter os valores de temperatura no formato uint8 com valores entre 0-255\n",
    "    Temp_day = ((Temp - np.nanmin(Temp)) * (1/(np.nanmax(Temp) - np.nanmin(Temp)) * 255)).astype('uint8')\n",
    "\n",
    "    Temp_day = np.flipud(Temp_day)   #flipud -> Reverse the order of elements along axis 0 (up/down).\n",
    "    \n",
    "    #apply the canny algorithm and plot the image with the edges\n",
    "    canny = cv2.Canny(Temp_day, Tmax/2, Tmax, L2gradient=False, apertureSize=3)\n",
    "    \n",
    "    mask = np.isnan(np.flipud(Temp))    #Boolean array é True onde o array original (Temp) tinha valores Nan\n",
    "    mask255 =np.where(mask,(np.ones(mask.shape))*255,0).astype(\"uint8\")   #array cujos pixels= 255 quando mask=True\n",
    "    #Fazer uma dilatação para assegurar que os pixeis que pertencem à costa não são considerados como frentes no canny\n",
    "    kernel = np.ones((3,3), np.uint8)\n",
    "    mask_dilated = cv2.dilate(mask255, kernel)\n",
    "    canny =np.ma.masked_where(mask_dilated==255, canny)\n",
    "    \n",
    "    return canny"
   ]
  },
  {
   "cell_type": "code",
   "execution_count": null,
   "id": "98473796",
   "metadata": {},
   "outputs": [],
   "source": []
  },
  {
   "cell_type": "code",
   "execution_count": 19,
   "id": "847a684b",
   "metadata": {},
   "outputs": [],
   "source": [
    "def frontal_prob(period, Tmax):\n",
    "    \"\"\"\n",
    "    Função que retorna um array de shape (121, 169) com a frontal probability de cada pixel\n",
    "    \"\"\"\n",
    "    fp = np.zeros((121,169))\n",
    "    for day in period:\n",
    "        fp = fp + canny_creation(days[day], Tmax)\n",
    "    fp = fp/(len(period)*255)*100\n",
    "    \n",
    "    return fp"
   ]
  },
  {
   "cell_type": "code",
   "execution_count": null,
   "id": "74f5f98a",
   "metadata": {},
   "outputs": [],
   "source": []
  },
  {
   "cell_type": "code",
   "execution_count": 20,
   "id": "6e923981",
   "metadata": {},
   "outputs": [],
   "source": [
    "def visualization(Tmax):\n",
    "    \n",
    "    \"\"\"\n",
    "    Função para visualizar o map of frontal probability e um histograma com as frontal probabilities\n",
    "    \"\"\"\n",
    "    \n",
    "    fp = frontal_prob(period=ond2014_2019, Tmax=Tmax)\n",
    "    \n",
    "    #fp=jas_data[Tmax]\n",
    "    \n",
    "    plt.rcParams[\"figure.figsize\"] = 16, 12\n",
    "    fig = plt.figure()\n",
    "    ax1 = fig.add_subplot(2,2,1)\n",
    "    img = ax1.imshow(fp) \n",
    "    plt.colorbar(img, orientation='horizontal', fraction=0.025, pad=0.08, aspect=50)\n",
    "    plt.title(\"Map of frontal probability for certain period\", fontsize=15)\n",
    "\n",
    "    ax2 = fig.add_subplot(2,2,2)\n",
    "    ax2.hist(fp.flatten(), bins=100);\n",
    "    plt.xlabel('Frontal Probability',fontsize=10)\n",
    "    plt.ylim([0, 2000]);\n"
   ]
  },
  {
   "cell_type": "code",
   "execution_count": null,
   "id": "28a22878",
   "metadata": {},
   "outputs": [],
   "source": []
  },
  {
   "cell_type": "code",
   "execution_count": null,
   "id": "25ae7bb8",
   "metadata": {},
   "outputs": [],
   "source": [
    "#para guardar um csv com os dados para cada valor de Threshold"
   ]
  },
  {
   "cell_type": "code",
   "execution_count": 40,
   "id": "a8572bc1",
   "metadata": {},
   "outputs": [],
   "source": [
    "ond_data = []\n",
    "for t in range(50, 250, 5):\n",
    "    ond_data.append(frontal_prob(period=ond2014_2019, Tmax=t))"
   ]
  },
  {
   "cell_type": "code",
   "execution_count": 41,
   "id": "97e3e165",
   "metadata": {},
   "outputs": [
    {
     "data": {
      "text/plain": [
       "(40, 121, 169)"
      ]
     },
     "execution_count": 41,
     "metadata": {},
     "output_type": "execute_result"
    }
   ],
   "source": [
    "np.shape(ond_data)"
   ]
  },
  {
   "cell_type": "code",
   "execution_count": 42,
   "id": "134d84e2",
   "metadata": {},
   "outputs": [],
   "source": [
    "arr_ond_data = np.array(ond_data)"
   ]
  },
  {
   "cell_type": "code",
   "execution_count": 43,
   "id": "faea6d98",
   "metadata": {},
   "outputs": [],
   "source": [
    "arr_ond_data.tofile('ond.csv', sep = ',')"
   ]
  },
  {
   "cell_type": "code",
   "execution_count": null,
   "id": "9f45a46a",
   "metadata": {},
   "outputs": [],
   "source": []
  },
  {
   "cell_type": "code",
   "execution_count": null,
   "id": "94c06bae",
   "metadata": {},
   "outputs": [],
   "source": []
  },
  {
   "cell_type": "code",
   "execution_count": 21,
   "id": "eaf0dbc5",
   "metadata": {},
   "outputs": [
    {
     "data": {
      "application/vnd.jupyter.widget-view+json": {
       "model_id": "3976e05646504fe29dbc346d5a381248",
       "version_major": 2,
       "version_minor": 0
      },
      "text/plain": [
       "interactive(children=(IntSlider(value=19, description='Tmax', max=39), Output()), _dom_classes=('widget-intera…"
      ]
     },
     "metadata": {},
     "output_type": "display_data"
    }
   ],
   "source": [
    "#Utilizar widgets (sliders) para ver diferentes visualizações conforme o threshold\n",
    "import ipywidgets\n",
    "\n",
    "fp = ipywidgets.interact(visualization, Tmax=(0, 39))\n",
    "\n",
    "#Nos csv os threshold variam entre 50 e 250 em passo de 5 (ou seja há 40 valores possiveis). \n",
    "# 0 corresponde a um threshold maximo de 50; 39 corresponde a threshold max de 245"
   ]
  },
  {
   "cell_type": "code",
   "execution_count": null,
   "id": "5e25383f",
   "metadata": {},
   "outputs": [],
   "source": []
  },
  {
   "cell_type": "code",
   "execution_count": null,
   "id": "5d45bac8",
   "metadata": {},
   "outputs": [],
   "source": []
  },
  {
   "cell_type": "code",
   "execution_count": null,
   "id": "6e86107c",
   "metadata": {},
   "outputs": [],
   "source": []
  },
  {
   "cell_type": "code",
   "execution_count": null,
   "id": "42b4d53c",
   "metadata": {},
   "outputs": [],
   "source": []
  }
 ],
 "metadata": {
  "kernelspec": {
   "display_name": "Python 3 (ipykernel)",
   "language": "python",
   "name": "python3"
  },
  "language_info": {
   "codemirror_mode": {
    "name": "ipython",
    "version": 3
   },
   "file_extension": ".py",
   "mimetype": "text/x-python",
   "name": "python",
   "nbconvert_exporter": "python",
   "pygments_lexer": "ipython3",
   "version": "3.8.10"
  }
 },
 "nbformat": 4,
 "nbformat_minor": 5
}
